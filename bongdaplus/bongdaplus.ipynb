{
 "cells": [
  {
   "cell_type": "code",
   "execution_count": 1,
   "id": "007c76d2-87e8-401b-9d66-e53a42f41355",
   "metadata": {},
   "outputs": [],
   "source": [
    "import requests \n",
    "import time\n",
    "import re\n",
    "from datetime import datetime\n",
    "from bs4 import BeautifulSoup,NavigableString, Comment"
   ]
  },
  {
   "cell_type": "code",
   "execution_count": 2,
   "id": "88449a8a-cdb0-49ba-88da-28006b94c6db",
   "metadata": {},
   "outputs": [],
   "source": [
    "response = requests.get('https://bongdaplus.vn/hau-truong-bong-da')\n",
    "soup = BeautifulSoup(response.content, 'html.parser')"
   ]
  },
  {
   "cell_type": "code",
   "execution_count": 7,
   "id": "c797095f-0347-4c2e-9b0a-bc5c1644a5b9",
   "metadata": {},
   "outputs": [],
   "source": [
    "def get_list_url(cate_url):\n",
    "    response = requests.get(cate_url)\n",
    "    soup = BeautifulSoup(response.content, 'html.parser')\n",
    "    list_link = soup.find('div',class_=\"catzone lastestbox\")\n",
    "    elements  = list_link.find_all('li', class_ = 'news')\n",
    "    urls =  []\n",
    "    for element in elements:\n",
    "        path = element.find('a')['href']\n",
    "        url = 'https://bongdaplus.vn' + path\n",
    "        urls.append(url)\n",
    "    "
   ]
  },
  {
   "cell_type": "code",
   "execution_count": 8,
   "id": "f6c3bed8-72ff-45a4-a27d-610b79087dad",
   "metadata": {},
   "outputs": [
    {
     "data": {
      "text/plain": [
       "['https://bongdaplus.vn/hau-truong-bong-da/bi-cao-buoc-ngoai-tinh-ca-cung-cua-messi-co-man-dap-tra-bat-ngo-4169032311.html',\n",
       " 'https://bongdaplus.vn/hau-truong-bong-da/ban-gai-maddison-dot-mat-fan-voi-chiec-ao-hu-hong-4168962311.html',\n",
       " 'https://bongdaplus.vn/hau-truong-bong-da/bruno-fernandes-bi-doc-sai-ten-sua-the-nao-cho-dung-4168842311.html',\n",
       " 'https://bongdaplus.vn/hau-truong-bong-da/shakira-quay-phim-tai-lieu-tiet-lo-toan-bo-vu-chia-tay-pique-4168802311.html',\n",
       " 'https://bongdaplus.vn/hau-truong-bong-da/khoa-hoc-kho-ly-giai-man-tang-hinh-cua-ve-si-messi-4168622311.html',\n",
       " 'https://bongdaplus.vn/hau-truong-bong-da/gay-tai-nan-balotelli-kien-quyet-khong-do-nong-do-con-4168582311.html',\n",
       " 'https://bongdaplus.vn/hau-truong-bong-da/messi-noi-dien-sau-be-boi-chao-dao-dtqg-argentina-4168572311.html',\n",
       " 'https://bongdaplus.vn/hau-truong-bong-da/ban-gai-van-lam-dien-noi-y-khoe-vong-1-cang-tran-4168522311.html',\n",
       " 'https://bongdaplus.vn/hau-truong-bong-da/van-phong-cong-to-yeu-cau-9-nam-tu-cho-dani-alves-4168442311.html',\n",
       " 'https://bongdaplus.vn/hau-truong-bong-da/alisha-lehmann-khien-fan-tan-chay-voi-anh-tap-luyen-4168092311.html',\n",
       " 'https://bongdaplus.vn/hau-truong-bong-da/can-canh-chan-thuong-kinh-hoang-cua-hau-ve-aston-villa-4168142311.html',\n",
       " 'https://bongdaplus.vn/hau-truong-bong-da/ban-gai-cua-dele-alli-gay-sot-voi-loat-anh-giuong-chieu-4168112311.html',\n",
       " 'https://bongdaplus.vn/hau-truong-bong-da/qua-dau-buon-sir-alex-rao-ban-biet-thu-100-ty-dong-4167912311.html',\n",
       " 'https://bongdaplus.vn/hau-truong-bong-da/gia-dinh-vo-messi-bi-cuop-tan-cong-4167882311.html',\n",
       " 'https://bongdaplus.vn/hau-truong-bong-da/nhan-luong-cao-chot-vot-haaland-chi-tien-giup-cdv-bryne-4167812311.html',\n",
       " 'https://bongdaplus.vn/hau-truong-bong-da/nha-vo-dich-champions-league-bi-tong-giam-vi-lam-dung-con-gai-4167762311.html',\n",
       " 'https://bongdaplus.vn/hau-truong-bong-da/toa-bac-don-cua-mayorga-ronaldo-thang-kien-vu-hiep-dam-4167702311.html']"
      ]
     },
     "execution_count": 8,
     "metadata": {},
     "output_type": "execute_result"
    }
   ],
   "source": [
    "urls"
   ]
  },
  {
   "cell_type": "code",
   "execution_count": null,
   "id": "f0d3325e-7b14-4fc3-b60b-f127988bd5ee",
   "metadata": {},
   "outputs": [],
   "source": [
    "def get_contenet_bongdaplus():\n",
    "    "
   ]
  },
  {
   "cell_type": "code",
   "execution_count": 73,
   "id": "f3f8bbcf-544e-4943-af8a-a31a27a09f17",
   "metadata": {},
   "outputs": [],
   "source": [
    "response = requests.get('https://bongdaplus.vn/hau-truong-bong-da/qua-dau-buon-sir-alex-rao-ban-biet-thu-100-ty-dong-4167912311.html')\n",
    "soup = BeautifulSoup(response.content, 'html.parser')"
   ]
  },
  {
   "cell_type": "code",
   "execution_count": 74,
   "id": "2b5b43ce-fb11-4fcb-bb18-323571411ce0",
   "metadata": {},
   "outputs": [],
   "source": [
    "#get main content\n",
    "text_div =  soup.find('div', class_ = 'details')\n",
    "\n",
    "main_content = text_div.find('div', id = 'postContent')\n",
    "h1 = text_div.find('h1')\n",
    "h2_text =  text_div.find('div', class_ = 'summary').text\n",
    "\n",
    "h2_tag = soup.new_tag('trong') \n",
    "h2_tag.string = h2_text # Set the content of <i> tag\n",
    "author_div = text_div.find('div', class_ = 'mobover')\n",
    "author_div.decompose()\n",
    "text_div.insert(0,h2_tag)"
   ]
  },
  {
   "cell_type": "code",
   "execution_count": 76,
   "id": "d58d3832-4f74-4ba4-b24f-47699e8d6864",
   "metadata": {},
   "outputs": [
    {
     "name": "stdout",
     "output_type": "stream",
     "text": [
      "<div class=\"details\"><trong>Sau sự ra đi của bà Cathy, Sir Alex Ferguson đã không còn muốn ở trong căn biệt thự quen thuộc của mình nữa và quyết định rao bán nó.</trong>\n",
      "\n",
      "<div class=\"content\" id=\"postContent\">\n",
      "<div class=\"articLinks\">\n",
      "</div>\n",
      "<p style=\"text-align: justify;\">Căn biệt thự rộng hơn 650 mét vuông này nằm ở Wilmslow, Cheshire. Là người khá kín tiếng về đời tư nên chỉ khi căn nhà lên sàn giao dịch, công chúng mới biết được nơi ở thường ngày của HLV huyền thoại trông như thế nào.</p>\n",
      "<p style=\"text-align: justify;\">Đập vào mắt khi bước vào sảnh chính là cầu thang bề thế dẫn lên tầng trên. Đúng phong cách của Sir Alex, những thiết kế của căn biệt thự đi theo hướng tối giản, tinh tế, sang trọng, với những họa tiết sọc ca-ro mang đậm dấu ấn Scotland.</p>\n",
      "<p style=\"text-align: justify;\"><img alt=\"Biệt thự của Sir Alex nhìn từ bên ngoài\" src=\"https://cdn.bongdaplus.vn/Assets/Media/2023/11/23/31/sir-alex3.jpg\" style=\"width: 680px; height: 473px;\"/></p>\n",
      "<p style=\"text-align: justify;\"><img alt=\"Biệt thự của Sir Alex nhìn từ trên cao\" src=\"https://cdn.bongdaplus.vn/Assets/Media/2023/11/23/31/sir-alex9.jpg\" style=\"width: 680px; height: 449px;\"/></p>\n",
      "<p style=\"text-align: justify;\">Trái với suy nghĩ của nhiều người, căn nhà của Sir Alex có khu vực giải trí rất lớn nhưng theo phong cách truyền thống, với tâm điểm là bàn bi-a. Đây là nơi mà Sir Alex dành nhiều thời gian nhất kể từ khi nghỉ hưu.</p>\n",
      "<p style=\"text-align: justify;\"><img alt=\"Cầu thang lớn ngay lối vào\" src=\"https://cdn.bongdaplus.vn/Assets/Media/2023/11/23/31/sir-alex4.jpg\" style=\"width: 680px; height: 452px;\"/></p>\n",
      "<p style=\"text-align: justify;\"><img alt=\"Căn phòng giải trí \" src=\"https://cdn.bongdaplus.vn/Assets/Media/2023/11/23/31/sir-alex5.jpg\" style=\"width: 680px; height: 452px;\"/></p>\n",
      "<p style=\"text-align: justify;\"><img alt=\"Biệt thự có 5 phòng ngủ sang trọng\" src=\"https://cdn.bongdaplus.vn/Assets/Media/2023/11/23/31/sir-alex6.jpg\" style=\"width: 680px; height: 452px;\"/></p>\n",
      "<p style=\"text-align: justify;\"><img alt=\"Những họa tiết ca-ro\" src=\"https://cdn.bongdaplus.vn/Assets/Media/2023/11/23/31/sir-alex7.jpg\" style=\"width: 680px; height: 452px;\"/></p>\n",
      "<p style=\"text-align: justify;\"><img alt=\"Phòng tắm tiện nghi\" src=\"https://cdn.bongdaplus.vn/Assets/Media/2023/11/23/31/sir-alex8.jpg\" style=\"width: 680px; height: 452px;\"/></p>\n",
      "<p style=\"text-align: justify;\">Ngoài ra, nó còn có 5 phòng ngủ, một căn bếp ngoài trời cùng nhiều tiện ích đẳng cấp khác. Giá rao bán vào khoảng 3,5 triệu bảng, tương đương hơn 100 tỷ đồng. Sở dĩ Sir Alex muốn bán căn nhà quen thuộc của mình bởi ông thấy trống trải sau<a href=\"https://bongdaplus.vn/hau-truong-bong-da/sir-alex-ferguson-va-mu-nhan-tin-khong-the-buon-hon-4128772310.html\"> sự ra đi của bà Cathy</a>.</p>\n",
      "</div>\n",
      "<div class=\"mobover\">\n",
      "<div class=\"adtxt adweb admob\">\n",
      "<div banner-adpos=\"textlink\" class=\"banner\" id=\"AT00\"></div>\n",
      "</div>\n",
      "<div class=\"clx\"></div>\n",
      "<div class=\"sourcebox\">\n",
      "<div class=\"source\">Nguồn <b><a href=\"https://bongdaplus.vn\">Bongdaplus</a></b></div>\n",
      "<div class=\"actnav\">\n",
      "<ul class=\"bar\">\n",
      "<li>\n",
      "<a class=\"lovenav\" href=\"javascript:likenews();\">\n",
      "<svg class=\"ico\" viewbox=\"0 0 24 24\">\n",
      "<path d=\"M16.9 3.9c-0.1 0-0.3 0-0.4 0 -2.5 0-4.5 2-4.5 4.5 0-2.5-2-4.5-4.5-4.5 -0.1 0-0.3 0-0.4 0C4.7 4.1 3 6.3 3 8.5s1 3.7 2.5 5.5l5.2 5.6c0.4 0.3 0.9 0.5 1.3 0.5s0.9-0.2 1.3-0.5l5.2-5.6c1.6-1.7 2.5-3.3 2.5-5.5S19.3 4.1 16.9 3.9zM17.8 13.4l-5.2 5.6c-0.2 0.1-0.4 0.2-0.6 0.2 -0.2 0-0.5-0.1-0.6-0.2l-5.1-5.6C4.8 11.6 4 10.3 4 8.5 4 6.9 5.3 5 7.2 4.9c0.1 0 0.2 0 0.3 0 1.9 0 3.5 1.6 3.5 3.5 0 0.6 0.4 1 1 1 0.6 0 1-0.4 1-1 0-1.9 1.6-3.5 3.5-3.5 0.1 0 0.2 0 0.3 0C18.7 5 20 6.9 20 8.5 20 10.2 19.4 11.6 17.8 13.4z\"></path>\n",
      "<path d=\"M8 5.3c-1.9 0-3.5 1.6-3.5 3.5 0 0.3 0.2 0.5 0.5 0.5s0.5-0.2 0.5-0.5c0-1.4 1.1-2.5 2.5-2.5 0.3 0 0.5-0.2 0.5-0.5S8.3 5.3 8 5.3z\"></path>\n",
      "</svg>\n",
      "<span id=\"likednum2\">2</span>\n",
      "</a>\n",
      "</li>\n",
      "<li>\n",
      "<a class=\"commnav\" href=\"#binh-luan\">\n",
      "<svg class=\"ico\" viewbox=\"0 0 24 24\">\n",
      "<path d=\"M18.6 4.5c1.3 0 2.4 1.1 2.4 2.4v6.8c0 1.5-1.6 3.7-2.8 5.1l-1-1.7c-0.4-0.6-1-1-1.7-1H5.4C4.1 16.1 3 15 3 13.7V6.9c0-1.3 1.1-2.4 2.4-2.4H18.6M18.6 3.5H5.4C3.5 3.5 2 5 2 6.9v6.8c0 1.9 1.5 3.4 3.4 3.4h10.1c0.4 0 0.7 0.2 0.9 0.5l1.7 2.9c0 0 4-4 4-6.8V6.9C22 5 20.5 3.5 18.6 3.5L18.6 3.5z\"></path>\n",
      "<path d=\"M8 10.5c-0.6 0-1 0.4-1 1s0.4 1 1 1c0.6 0 1-0.4 1-1S8.6 10.5 8 10.5L8 10.5z\"></path>\n",
      "<path d=\"M12 10.5c-0.6 0-1 0.4-1 1s0.4 1 1 1 1-0.4 1-1S12.6 10.5 12 10.5L12 10.5z\"></path>\n",
      "<path d=\"M16 10.5c-0.6 0-1 0.4-1 1s0.4 1 1 1c0.6 0 1-0.4 1-1S16.6 10.5 16 10.5L16 10.5z\"></path>\n",
      "</svg>\n",
      "                    0\n",
      "                </a>\n",
      "</li>\n",
      "</ul>\n",
      "</div>\n",
      "<div class=\"fb-like\" data-action=\"like\" data-href=\"https://bongdaplus.vn/hau-truong-bong-da/qua-dau-buon-sir-alex-rao-ban-biet-thu-100-ty-dong-4167912311.html\" data-layout=\"button_count\" data-share=\"true\" data-show-faces=\"false\" data-size=\"small\" data-width=\"\"></div>\n",
      "</div>\n",
      "<div class=\"cattags widslidr over-m\">\n",
      "<div class=\"widbar\">\n",
      "<a class=\"hashtag\" href=\"/sir-alex-tags\">Sir Alex</a>\n",
      "</div>\n",
      "</div>\n",
      "<div class=\"adwide adweb\">\n",
      "<div banner-adpos=\"middle2\" class=\"banner\" id=\"AM02\"></div>\n",
      "</div>\n",
      "</div>\n",
      "</div>\n"
     ]
    }
   ],
   "source": [
    "print(text_div)"
   ]
  },
  {
   "cell_type": "code",
   "execution_count": 61,
   "id": "8e2c52a7-9885-4693-9a5e-f0818c692463",
   "metadata": {},
   "outputs": [],
   "source": [
    "main_content"
   ]
  },
  {
   "cell_type": "code",
   "execution_count": 65,
   "id": "c039d91b-77b2-4949-96f9-8e0c34323dce",
   "metadata": {},
   "outputs": [
    {
     "name": "stdout",
     "output_type": "stream",
     "text": [
      "<div>\n",
      " <p>\n",
      "  New paragraph on top.\n",
      " </p>\n",
      " <p>\n",
      "  Existing paragraph.\n",
      " </p>\n",
      "</div>\n",
      "\n"
     ]
    }
   ],
   "source": [
    "html_content = \"\"\"\n",
    "<div>\n",
    "    <p>Existing paragraph.</p>\n",
    "</div>\n",
    "\"\"\"\n",
    "\n",
    "soup = BeautifulSoup(html_content, 'html.parser')\n",
    "\n",
    "# Find the existing element, make sure it exists\n",
    "existing_element = soup.find('p')\n",
    "if existing_element is not None:\n",
    "    # Create a new element\n",
    "    new_element = soup.new_tag(\"p\")\n",
    "    new_element.string = \"New paragraph on top.\"\n",
    "\n",
    "    # Insert the new element before the existing one\n",
    "    existing_element.insert_before(new_element)\n",
    "else:\n",
    "    print(\"The specified element was not found.\")\n",
    "\n",
    "# Print the modified HTML\n",
    "print(soup.prettify())"
   ]
  },
  {
   "cell_type": "code",
   "execution_count": null,
   "id": "53e565a4-1c41-47e7-beb2-cf7ac7036424",
   "metadata": {},
   "outputs": [],
   "source": []
  }
 ],
 "metadata": {
  "kernelspec": {
   "display_name": "Python 3 (ipykernel)",
   "language": "python",
   "name": "python3"
  },
  "language_info": {
   "codemirror_mode": {
    "name": "ipython",
    "version": 3
   },
   "file_extension": ".py",
   "mimetype": "text/x-python",
   "name": "python",
   "nbconvert_exporter": "python",
   "pygments_lexer": "ipython3",
   "version": "3.11.5"
  }
 },
 "nbformat": 4,
 "nbformat_minor": 5
}
