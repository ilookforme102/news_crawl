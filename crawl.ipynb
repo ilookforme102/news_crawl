{
 "cells": [
  {
   "cell_type": "code",
   "execution_count": 300,
   "id": "6e068fc3-cb05-4371-9c56-72880ff22dd0",
   "metadata": {},
   "outputs": [
    {
     "ename": "SyntaxError",
     "evalue": "invalid syntax (3651045545.py, line 5)",
     "output_type": "error",
     "traceback": [
      "\u001b[1;36m  Cell \u001b[1;32mIn[300], line 5\u001b[1;36m\u001b[0m\n\u001b[1;33m    from undetected_chromedriver import ChromeOptions()\u001b[0m\n\u001b[1;37m                                                     ^\u001b[0m\n\u001b[1;31mSyntaxError\u001b[0m\u001b[1;31m:\u001b[0m invalid syntax\n"
     ]
    }
   ],
   "source": [
    "from bs4 import BeautifulSoup\n",
    "import requests \n",
    "import time\n",
    "import undetected_chromedriver as uc\n",
    "from undetected_chromedriver import ChromeOptions()\n",
    "from selenium.webdriver.common.by import By\n",
    "import re"
   ]
  },
  {
   "cell_type": "code",
   "execution_count": 213,
   "id": "a2771d8f-7dfc-4ec8-8dd8-084e493fb4d9",
   "metadata": {},
   "outputs": [],
   "source": [
    "crawl_list = {\n",
    "    \"0\":{\n",
    "        \"home_page\":\"https://www.24h.com.vn/\",\n",
    "        \"urls\":{\n",
    "            \"category\":\"tech\",\n",
    "             \"url\":\"https://www.24h.com.vn/cong-nghe-thong-tin-c55.html\",\n",
    "             \"sub-category\":{\n",
    "                0:{\"name\":\"Game\",\n",
    "                 \"url\":\"https://www.24h.com.vn/game-c69.html\"},\n",
    "                1:{\"name\":\"Phần mềm\",\n",
    "                 \"url\":\"https://www.24h.com.vn/phan-mem-ngoai-c302.html\"},\n",
    "                2:{\"name\":\"Khoa học\",\n",
    "                 \"url\":\"https://www.24h.com.vn/khoa-hoc-c782.html\"},\n",
    "                3:{\"name\":\"Mạng xã hội\",\n",
    "                 \"url\":\"https://www.24h.com.vn/mang-xa-hoi-c889.html\"},\n",
    "                4:{\"name\":\"Thủ thuật - Tiện ích\"\n",
    "                 ,\"url\":\"https://www.24h.com.vn/hotgirl-hot-boy-c64e3398.html\"},\n",
    "                5:{\"name\":\"Sợ Virus\",\n",
    "                 \"url\":\"https://www.24h.com.vn/tim-hieu-virus-c57.html\"},\n",
    "                6:{\"name\":\"Máy in/phụ kiện\",\n",
    "                 \"url\":\"https://www.24h.com.vn/nhip-song-tre-c685.html\"},\n",
    "                7:{\"name\":\"Khám phá công nghệ\",\n",
    "                 \"url\":\"https://www.24h.com.vn/kham-pha-cong-nghe-c675.html\"}\n",
    "             }\n",
    "            ,\n",
    "            \"category\":\"youths\",\n",
    "            \"url\":\"https://www.24h.com.vn/ban-tre-cuoc-song-c64.html\", \n",
    "             \"sub-category\":{\n",
    "                0:{\"name\":\"Chuyện công sở\",\"url\":\"https://www.24h.com.vn/chuyen-cong-so-c180.html\"},\n",
    "                1:{\"name\":\"Tình yêu - Giới Tính\",\"url\":\"https://www.24h.com.vn/tinh-yeu-gioi-tinh-c306.html\"},\n",
    "                2:{\"name\":\"Ngoại tình\",\"url\":\"https://www.24h.com.vn/ngoai-tinh-c435.html\"},\n",
    "                3:{\"name\":\"Giới trẻ\",\"url\":\"https://www.24h.com.vn/gioi-tre-c434.html\"},\n",
    "                4:{\"name\":\"Hotgirl - Hotboy\",\"url\":\"https://www.24h.com.vn/hotgirl-hot-boy-c64e3398.html\"},\n",
    "                5:{\"name\":\"Nhịp sống trẻ\",\"url\":\"https://www.24h.com.vn/nhip-song-tre-c685.html\"}\n",
    "             }\n",
    "            ,\n",
    "            \"category\":\"showbiz\",\n",
    "            \"url\":\"https://www.24h.com.vn/doi-song-showbiz-c729.html\",\n",
    "             \"sub-category\":{\n",
    "                0:{\"name\":\"Sao Việt\",\"url\":\"https://www.24h.com.vn/sao-viet-c757.html\"},\n",
    "                1:{\"name\":\"24h gặp gỡ\",\"url\":\"https://www.24h.com.vn/gap-go-24h-c729e6820.html\"},\n",
    "                2:{\"name\":\"Talk với sao\",\"url\":\"https://www.24h.com.vn/doi-thoai-cung-sao-c730.html\"},\n",
    "                3:{\"name\":\"Sao châu Á\",\"url\":\"https://www.24h.com.vn/sao-chau-a-c759.html\"},\n",
    "            },\n",
    "            \"category\":\"cars\",\n",
    "            \"url\":\"https://www.24h.com.vn/o-to-c747.html\",\n",
    "             \"sub-category\":{\n",
    "                0:{\"name\":\"Sao Việt\",\"url\":\"https://www.24h.com.vn/sao-viet-c757.html\"},\n",
    "                1:{\"name\":\"24h gặp gỡ\",\"url\":\"https://www.24h.com.vn/gap-go-24h-c729e6820.html\"},\n",
    "                2:{\"name\":\"Talk với sao\",\"url\":\"https://www.24h.com.vn/doi-thoai-cung-sao-c730.html\"},\n",
    "                3:{\"name\":\"Sao châu Á\",\"url\":\"https://www.24h.com.vn/sao-chau-a-c759.html\"},\n",
    "            }\n",
    "        }\n",
    "    }\n",
    "}\n",
    "\n",
    "        \n",
    "                "
   ]
  },
  {
   "cell_type": "code",
   "execution_count": 214,
   "id": "bdb7a261-ab34-4276-abb7-2b305975bec2",
   "metadata": {},
   "outputs": [],
   "source": [
    "response = requests.get('https://www.24h.com.vn/cong-nghe-thong-tin/chatgpt-bi-nhom-hacker-anonymous-tan-cong-ddos-toi-sap-may-chu-c55a1517581.html')\n",
    "time.sleep(3)\n",
    "soup = BeautifulSoup(response.content, 'html.parser')\n",
    "\n",
    "#title = soup.find('title').get_text()\n",
    "#print(\"Title of the webpage:\", title)\n"
   ]
  },
  {
   "cell_type": "code",
   "execution_count": 215,
   "id": "d3aa009a-2621-4eb0-98cb-adc5fb7ff683",
   "metadata": {},
   "outputs": [
    {
     "name": "stdout",
     "output_type": "stream",
     "text": [
      "\n",
      "                ChatGPT bị nhóm hacker Anonymous tấn công DDoS tới \"sập\" máy chủ            \n"
     ]
    }
   ],
   "source": [
    "title = soup.find('h1').text\n",
    "print(title)"
   ]
  },
  {
   "cell_type": "code",
   "execution_count": 233,
   "id": "2d5fc062-6b8c-419a-973b-fa5944b334a4",
   "metadata": {},
   "outputs": [],
   "source": [
    "parent_div = soup.find('article',class_='cate-24h-foot-arti-deta-info')"
   ]
  },
  {
   "cell_type": "code",
   "execution_count": null,
   "id": "1532be76-f850-4b85-909b-fbdaa856853a",
   "metadata": {},
   "outputs": [],
   "source": [
    "def get_post(url):\n",
    "    response = requests.get(url)\n",
    "    time.sleep(3)\n",
    "    soup = BeautifulSoup(response.content, 'html.parser')\n",
    "    title = soup.find('h1').text\n",
    "    parent_div = soup.find('article',class_='cate-24h-foot-arti-deta-info')\n",
    "    children = [child for child in parent_div.find_all('p') if child.get('class') != 'content-bv-lq' and re.sub(r'\\n+', '', child.text) != \"\"]\n",
    "    return children, title\n",
    "    "
   ]
  },
  {
   "cell_type": "code",
   "execution_count": 251,
   "id": "5645f60d-e1a8-4cfc-a722-20674bdaccd1",
   "metadata": {},
   "outputs": [],
   "source": []
  },
  {
   "cell_type": "code",
   "execution_count": 274,
   "id": "98aa4ed3-9013-4f13-a203-fe8647b584ee",
   "metadata": {},
   "outputs": [],
   "source": [
    "children = [child for child in parent_div.find_all('p') if child.get('class') != 'content-bv-lq' and re.sub(r'\\n+', '', child.text) != \"\"]"
   ]
  },
  {
   "cell_type": "code",
   "execution_count": 276,
   "id": "de0d4890-a206-4b32-928d-afc1fbca0643",
   "metadata": {},
   "outputs": [
    {
     "name": "stdout",
     "output_type": "stream",
     "text": [
      "<p>Theo <em>Windows Central</em>, dịch vụ chatbot AI <a class=\"TextlinkBaiviet\" href=\"https://www.24h.com.vn/chagpt-c55e7117.html\" title=\"ChatGPT\">ChatGPT</a> đã gặp sự cố ảnh hưởng đến trải nghiệm của người dùng trong 18 - 20 giờ qua. Sự việc đã được một người dùng trên diễn đàn Reddit báo cáo, giải thích rằng họ không thể sử dụng được dịch vụ AI, đồng thời nhận được thông báo lỗi với nội dung API là “429 - Too many requests”.</p> \n",
      " _______________________________\n",
      "<p>Một số người dùng khác cũng gặp phải tình trạng tương tự, với hàng loạt tin nhắn báo lỗi trả về. Một số người cho rằng họ đã đạt giới hạn sử dụng và cần nâng cấp lên gói ChatGPT Plus, những người khác lại nói do lưu lượng truy cập quá nhiều và gây ra sự chậm trễ của kết quả truy vấn.</p> \n",
      " _______________________________\n",
      "<p class=\"img_chu_thich_0407\">Máy chủ của ChatGPT đã hứng chịu đợt tấn công DDoS quy mô lớn.</p> \n",
      " _______________________________\n",
      "<p>Sau những động thái bàn tán của cộng đồng, OpenAI đã chính thức xác nhận rằng hệ thống của công ty đã bị tấn công từ chối dịch vụ (DDoS). Cụ thể, công ty cho biết: “Chúng tôi đang xử lý tình trạng ngừng hoạt động do tình hình lưu lượng truy cập bất thường, phản ánh một cuộc tấn công DDoS đang diễn ra. Chúng tôi đang tiếp tục làm việc để giảm thiểu điều này”.</p> \n",
      " _______________________________\n",
      "<p>Một nhóm hacktivist có tên Anonymous Sudan đã nhận trách nhiệm về cuộc tấn công vào OpenAI và ChatGPT, lý do họ đưa ra là do động cơ chính trị, với cáo buộc OpenAI là một công ty Mỹ thân với Israel. Hiện họ cũng đang nhắm mục tiêu vào các công ty khác của Mỹ.</p> \n",
      " _______________________________\n",
      "<p>Công ty an ninh mạng CyberCX từng tuyên bố rằng Anonymous Sudan là “một phần của nhóm hacker thân Nga Killnet” và có khả năng nhận được tài trợ và nguồn lực từ Nga trong sứ mệnh của quốc gia này nhằm phá hoại các nước phương Tây.</p> \n",
      " _______________________________\n",
      "<p class=\"linkOrigin\"><span class=\"dots\" data-src=\"aHR0cHM6Ly9ub25ndGhvbnZpZXQuY29tLnZuL2NoYXRncHQtYmktbmhvbS1oYWNrZXItYW5vbnltb3VzLXRhbi1jb25nLWRkb3MtdG9pLXNhcC1tYXktY2h1LTE1MTc1Li4u\" id=\"url_origin_cut\">Nguồn: [Link nguồn]</span><span class=\"txtFull\" data-src=\"aHR0cHM6Ly9ub25ndGhvbnZpZXQuY29tLnZuL2NoYXRncHQtYmktbmhvbS1oYWNrZXItYW5vbnltb3VzLXRhbi1jb25nLWRkb3MtdG9pLXNhcC1tYXktY2h1LTE1MTc1ODEubmdu\" id=\"url_origin_full\" style=\"display: none;\">Nguồn: [Link nguồn]</span><span class=\"icoDrop\" id=\"icoDrop\" onclick=\"show_hide_url_origin();\"></span></p> \n",
      " _______________________________\n",
      "<p>Lượng người dùng trong tuần gần đây của ChatGPT đã chứng kiến một con số ấn tượng.</p> \n",
      " _______________________________\n"
     ]
    }
   ],
   "source": [
    "for child in children:\n",
    "    print(child,'\\n','_______________________________')"
   ]
  },
  {
   "cell_type": "code",
   "execution_count": 264,
   "id": "f980b4e5-5ee1-430f-9b80-b0ca35980982",
   "metadata": {},
   "outputs": [
    {
     "data": {
      "text/plain": [
       "'Máy chủ của ChatGPT đã hứng chịu đợt tấn công DDoS quy mô lớn.'"
      ]
     },
     "execution_count": 264,
     "metadata": {},
     "output_type": "execute_result"
    }
   ],
   "source": [
    "children[2].text"
   ]
  },
  {
   "cell_type": "code",
   "execution_count": 267,
   "id": "a05c9af2-2db8-4199-8955-284659a4967a",
   "metadata": {},
   "outputs": [
    {
     "name": "stdout",
     "output_type": "stream",
     "text": [
      "\n"
     ]
    }
   ],
   "source": [
    "import re\n",
    "\n",
    "your_string = \"\\n\\n\\n\\n\\n\\n\\n\\n\\n\\n\\n\\n\\n\\n\\n\\n\"  # Your string with multiple newline characters\n",
    "cleaned_string = re.sub(r'\\n+', '', children[2].text)  # Replace multiple newlines with a single newline\n",
    "\n",
    "print(cleaned_string) "
   ]
  },
  {
   "cell_type": "code",
   "execution_count": 268,
   "id": "88378fe9-b4e1-4f23-9476-02c57c7de81c",
   "metadata": {},
   "outputs": [
    {
     "data": {
      "text/plain": [
       "''"
      ]
     },
     "execution_count": 268,
     "metadata": {},
     "output_type": "execute_result"
    }
   ],
   "source": [
    "cleaned_string"
   ]
  },
  {
   "cell_type": "code",
   "execution_count": 273,
   "id": "963a7bed-16ab-4494-8b6c-8e604ac2c3ac",
   "metadata": {},
   "outputs": [
    {
     "data": {
      "text/plain": [
       "[<p>Theo <em>Windows Central</em>, dịch vụ chatbot AI <a class=\"TextlinkBaiviet\" href=\"https://www.24h.com.vn/chagpt-c55e7117.html\" title=\"ChatGPT\">ChatGPT</a> đã gặp sự cố ảnh hưởng đến trải nghiệm của người dùng trong 18 - 20 giờ qua. Sự việc đã được một người dùng trên diễn đàn Reddit báo cáo, giải thích rằng họ không thể sử dụng được dịch vụ AI, đồng thời nhận được thông báo lỗi với nội dung API là “429 - Too many requests”.</p>,\n",
       " <p>Một số người dùng khác cũng gặp phải tình trạng tương tự, với hàng loạt tin nhắn báo lỗi trả về. Một số người cho rằng họ đã đạt giới hạn sử dụng và cần nâng cấp lên gói ChatGPT Plus, những người khác lại nói do lưu lượng truy cập quá nhiều và gây ra sự chậm trễ của kết quả truy vấn.</p>,\n",
       " <p class=\"img_chu_thich_0407\">Máy chủ của ChatGPT đã hứng chịu đợt tấn công DDoS quy mô lớn.</p>,\n",
       " <p>Sau những động thái bàn tán của cộng đồng, OpenAI đã chính thức xác nhận rằng hệ thống của công ty đã bị tấn công từ chối dịch vụ (DDoS). Cụ thể, công ty cho biết: “Chúng tôi đang xử lý tình trạng ngừng hoạt động do tình hình lưu lượng truy cập bất thường, phản ánh một cuộc tấn công DDoS đang diễn ra. Chúng tôi đang tiếp tục làm việc để giảm thiểu điều này”.</p>,\n",
       " <p>Một nhóm hacktivist có tên Anonymous Sudan đã nhận trách nhiệm về cuộc tấn công vào OpenAI và ChatGPT, lý do họ đưa ra là do động cơ chính trị, với cáo buộc OpenAI là một công ty Mỹ thân với Israel. Hiện họ cũng đang nhắm mục tiêu vào các công ty khác của Mỹ.</p>,\n",
       " <p>Công ty an ninh mạng CyberCX từng tuyên bố rằng Anonymous Sudan là “một phần của nhóm hacker thân Nga Killnet” và có khả năng nhận được tài trợ và nguồn lực từ Nga trong sứ mệnh của quốc gia này nhằm phá hoại các nước phương Tây.</p>,\n",
       " <p class=\"linkOrigin\"><span class=\"dots\" data-src=\"aHR0cHM6Ly9ub25ndGhvbnZpZXQuY29tLnZuL2NoYXRncHQtYmktbmhvbS1oYWNrZXItYW5vbnltb3VzLXRhbi1jb25nLWRkb3MtdG9pLXNhcC1tYXktY2h1LTE1MTc1Li4u\" id=\"url_origin_cut\">Nguồn: [Link nguồn]</span><span class=\"txtFull\" data-src=\"aHR0cHM6Ly9ub25ndGhvbnZpZXQuY29tLnZuL2NoYXRncHQtYmktbmhvbS1oYWNrZXItYW5vbnltb3VzLXRhbi1jb25nLWRkb3MtdG9pLXNhcC1tYXktY2h1LTE1MTc1ODEubmdu\" id=\"url_origin_full\" style=\"display: none;\">Nguồn: [Link nguồn]</span><span class=\"icoDrop\" id=\"icoDrop\" onclick=\"show_hide_url_origin();\"></span></p>]"
      ]
     },
     "execution_count": 273,
     "metadata": {},
     "output_type": "execute_result"
    }
   ],
   "source": [
    "children"
   ]
  },
  {
   "cell_type": "code",
   "execution_count": 281,
   "id": "bde57165-e12a-4cb4-bf0c-e3c5a8f2a7c4",
   "metadata": {},
   "outputs": [
    {
     "data": {
      "text/plain": [
       "<span class=\"txtFull\" data-src=\"aHR0cHM6Ly9ub25ndGhvbnZpZXQuY29tLnZuL2NoYXRncHQtYmktbmhvbS1oYWNrZXItYW5vbnltb3VzLXRhbi1jb25nLWRkb3MtdG9pLXNhcC1tYXktY2h1LTE1MTc1ODEubmdu\" id=\"url_origin_full\" style=\"display: none;\">Nguồn: [Link nguồn]</span>"
      ]
     },
     "execution_count": 281,
     "metadata": {},
     "output_type": "execute_result"
    }
   ],
   "source": [
    "soup.find('span',id = 'url_origin_full')"
   ]
  },
  {
   "cell_type": "code",
   "execution_count": 282,
   "id": "d01f26d2-f7a8-499d-b4f7-b80009c4e3da",
   "metadata": {},
   "outputs": [
    {
     "data": {
      "text/plain": [
       "<article class=\"cate-24h-foot-arti-deta-info\">\n",
       "<h2 class=\"cate-24h-foot-arti-deta-sum ctTp tuht_show\" id=\"article_sapo\">\n",
       "<strong>\n",
       "                    OpenAI xác nhận ChatGPT đã bị tấn công DDoS và gây ra một số vấn đề cho người dùng cuối.                </strong>\n",
       "</h2>\n",
       "<script type=\"text/javascript\">window.onload = function () {resizeNewsImage(\"news-image\", 740);}</script> <p>Theo <em>Windows Central</em>, dịch vụ chatbot AI <a class=\"TextlinkBaiviet\" href=\"https://www.24h.com.vn/chagpt-c55e7117.html\" title=\"ChatGPT\">ChatGPT</a> đã gặp sự cố ảnh hưởng đến trải nghiệm của người dùng trong 18 - 20 giờ qua. Sự việc đã được một người dùng trên diễn đàn Reddit báo cáo, giải thích rằng họ không thể sử dụng được dịch vụ AI, đồng thời nhận được thông báo lỗi với nội dung API là “429 - Too many requests”.</p>\n",
       "<p>Một số người dùng khác cũng gặp phải tình trạng tương tự, với hàng loạt tin nhắn báo lỗi trả về. Một số người cho rằng họ đã đạt giới hạn sử dụng và cần nâng cấp lên gói ChatGPT Plus, những người khác lại nói do lưu lượng truy cập quá nhiều và gây ra sự chậm trễ của kết quả truy vấn.</p>\n",
       "<p align=\"center\"><div id=\"container-24h-banner-in-image\" style=\"text-align: center;width: 100%;clear: both;position: relative;\">\n",
       "<div style=\"position:relative;max-width: 740px;margin: 0 auto\">\n",
       "<div><section class=\"txtCent bnrPtn inImgExpandSection\" id=\"EpDahOGKYC_213_15s_container\"><div id=\"EpDahOGKYC_213_15s\"><script language=\"javascript\" type=\"text/javascript\">//<![CDATA[ \n",
       "\n",
       "\n",
       "                                    \n",
       "                                        if (typeof(EpDahOGKYC_213_15s.aNodes) != \"undefined\" && EpDahOGKYC_213_15s.aNodes.length > 0) {\n",
       "                                            var parentNodeDiv = document.getElementById(\"EpDahOGKYC_213_15s_container\").parentNode.classList.add(\"inImgExpand\");\n",
       "                                            banner_tostring(EpDahOGKYC_213_15s,\"EpDahOGKYC_213_15s\");\n",
       "                                        } else {\n",
       "                                            document.getElementById(\"EpDahOGKYC_213_15s_container\").style.display = \"none\";\n",
       "                                        }\n",
       "                                    \n",
       "                                \n",
       "\n",
       " //]]></script>\n",
       "</div>\n",
       "</section><img alt='ChatGPT bị nhóm hacker Anonymous tấn công DDoS tới \"sập\" máy chủ - 1' class=\"news-image\" onclick=\"show_slide_image_news(0)\" src=\"https://image-us.24h.com.vn/upload/4-2023/images/2023-11-10/picture-879772095-1699586111-810-width740height423.jpg\" width=\"740\"/></div>\n",
       "<div id=\"24h-banner-in-image\" style=\"left: 50%;transform: translateX(-50%);position: absolute;display: block;height: 90px;color: white;bottom: 0px\">\n",
       "<div class=\"txtCent\" id=\"EpDahOGKYC_139_15s\">\n",
       "<div class=\"text_adver_right\" onclick=\"in_image_close();\"></div>\n",
       "<script language=\"javascript\" type=\"text/javascript\">//<![CDATA[ \n",
       "\n",
       "                                \n",
       "                                    banner_tostring(EpDahOGKYC_139_15s, \"EpDahOGKYC_139_15s\");\n",
       "                                \n",
       "                            \n",
       "\n",
       " //]]></script>\n",
       "</div>\n",
       "<div id=\"24h-banner-in-image-close\" style=\"top:2px;right: 0px;position: absolute;display: none;overflow: hidden;width: 22px;height: 22px;color: #ccc;font-size: large;\">\n",
       "<img class=\"img_tin_lien_quan_trong_bai\" id=\"in-image-close\" onclick=\"in_image_close();\" src=\"https://image-us.24h.com.vn/upload/24h_banner_image_library/in-image-close.svg\" style=\"cursor: pointer;\" width=\"20px\"/>\n",
       "</div>\n",
       "</div>\n",
       "</div>\n",
       "<script>\n",
       "                    document.getElementById(\"in-image-close\").setAttribute(\"onclick\", \"in_image_close();\");\n",
       "                    v_counter_interval  = 0;\n",
       "                    var interval_in_image = setInterval(function() {\n",
       "                        if(document.getElementById(\"24h-banner-in-image\")){\n",
       "                            var v_element_in_image  = document.getElementById(\"24h-banner-in-image\");\n",
       "                            if(v_element_in_image.childNodes[2] && v_element_in_image.childNodes[2].id){\n",
       "                                // setup căn phải\n",
       "                                if(document.getElementById(v_element_in_image.childNodes[2].id)){\n",
       "                                    document.getElementById(v_element_in_image.childNodes[2].id).style.textAlign = \"right\";\n",
       "                                }\n",
       "                                if(v_element_in_image.childNodes[2].childNodes[1]){\n",
       "                                    if(v_element_in_image.childNodes[2].childNodes[1].childNodes[0]){\n",
       "                                        if(v_element_in_image.childNodes[2].childNodes[1].childNodes[0].id || (isIE() && v_element_in_image.childNodes[2].childNodes[1].id)){\n",
       "                                            if(document.getElementById(v_element_in_image.childNodes[2].childNodes[1].childNodes[0].id) || (isIE() && document.getElementById(v_element_in_image.childNodes[2].childNodes[1].id))){\n",
       "                                                if(isIE()){\n",
       "\n",
       "                                                    if(document.getElementById(v_element_in_image.childNodes[2].childNodes[1].childNodes[0].id).style.display !== \"none\" && document.getElementById(v_element_in_image.childNodes[2].childNodes[1].childNodes[0].id).getAttribute(\"data-google-query-id\") !== null){\n",
       "                                                        if(document.getElementById(\"24h-banner-in-image-close\")){\n",
       "                                                            document.getElementById(\"24h-banner-in-image-close\").style.display = \"inline-block\";\n",
       "                                                        }\n",
       "                                                    } else {\n",
       "                                                        if(document.getElementById(\"24h-banner-in-image-close\")){\n",
       "                                                            document.getElementById(\"24h-banner-in-image-close\").style.display = \"none\";\n",
       "                                                        }\n",
       "                                                    }\n",
       "                                                } else {\n",
       "                                                    if(document.getElementById(v_element_in_image.childNodes[2].childNodes[1].childNodes[0].id).style.display !== \"none\" && document.getElementById(v_element_in_image.childNodes[2].childNodes[1].childNodes[0].id).getAttribute(\"data-google-query-id\") !== null){\n",
       "                                                        if(document.getElementById(\"24h-banner-in-image-close\")){\n",
       "                                                            document.getElementById(\"24h-banner-in-image-close\").style.display = \"inline-block\";\n",
       "                                                        }\n",
       "                                                    } else {\n",
       "                                                        if(document.getElementById(\"24h-banner-in-image-close\")){\n",
       "                                                            document.getElementById(\"24h-banner-in-image-close\").style.display = \"none\";\n",
       "                                                        }\n",
       "                                                    }\n",
       "                                                }\n",
       "                                                v_counter_interval++;\n",
       "                                                if(v_counter_interval === 15){\n",
       "                                                    clearInterval(interval_in_image);\n",
       "                                                }\n",
       "                                            }\n",
       "                                        }\n",
       "                                    }\n",
       "                                }\n",
       "                            }\n",
       "                        }\n",
       "                    }, 1000);\n",
       "                    function in_image_close(){\n",
       "                        if(document.getElementById(\"24h-banner-in-image\")){\n",
       "                            document.getElementById(\"24h-banner-in-image\").innerHTML    = \"\";\n",
       "                        }\n",
       "                        if(document.getElementById(\"24h-banner-in-image-close\")){\n",
       "                            document.getElementById(\"24h-banner-in-image-close\").innerHTML    = \"\";\n",
       "                        }\n",
       "                    }\n",
       "                \n",
       "\n",
       " //]]></script>\n",
       "</div></p>\n",
       "<p class=\"img_chu_thich_0407\">Máy chủ của ChatGPT đã hứng chịu đợt tấn công DDoS quy mô lớn.</p>\n",
       "<p>Sau những động thái bàn tán của cộng đồng, OpenAI đã chính thức xác nhận rằng hệ thống của công ty đã bị tấn công từ chối dịch vụ (DDoS). Cụ thể, công ty cho biết: “Chúng tôi đang xử lý tình trạng ngừng hoạt động do tình hình lưu lượng truy cập bất thường, phản ánh một cuộc tấn công DDoS đang diễn ra. Chúng tôi đang tiếp tục làm việc để giảm thiểu điều này”.</p>\n",
       "<p>Một nhóm hacktivist có tên Anonymous Sudan đã nhận trách nhiệm về cuộc tấn công vào OpenAI và ChatGPT, lý do họ đưa ra là do động cơ chính trị, với cáo buộc OpenAI là một công ty Mỹ thân với Israel. Hiện họ cũng đang nhắm mục tiêu vào các công ty khác của Mỹ.</p>\n",
       "<p>Công ty an ninh mạng CyberCX từng tuyên bố rằng Anonymous Sudan là “một phần của nhóm hacker thân Nga Killnet” và có khả năng nhận được tài trợ và nguồn lực từ Nga trong sứ mệnh của quốc gia này nhằm phá hoại các nước phương Tây.</p>\n",
       "<script>\n",
       "                window.addEventListener(\"load\", function(){\n",
       "                    let ids = [\"url_origin_cut\", \"url_origin_full\"];\n",
       "                    origin_decode(ids, \"[Link nguồn]\");\n",
       "                });\n",
       "                setTimeout(function(){\n",
       "                    let ids = [\"url_origin_cut\", \"url_origin_full\"];\n",
       "                    origin_decode(ids, \"[Link nguồn]\");\n",
       "                }, 1000);\n",
       "            </script><p class=\"linkOrigin\"><span class=\"dots\" data-src=\"aHR0cHM6Ly9ub25ndGhvbnZpZXQuY29tLnZuL2NoYXRncHQtYmktbmhvbS1oYWNrZXItYW5vbnltb3VzLXRhbi1jb25nLWRkb3MtdG9pLXNhcC1tYXktY2h1LTE1MTc1Li4u\" id=\"url_origin_cut\">Nguồn: [Link nguồn]</span><span class=\"txtFull\" data-src=\"aHR0cHM6Ly9ub25ndGhvbnZpZXQuY29tLnZuL2NoYXRncHQtYmktbmhvbS1oYWNrZXItYW5vbnltb3VzLXRhbi1jb25nLWRkb3MtdG9pLXNhcC1tYXktY2h1LTE1MTc1ODEubmdu\" id=\"url_origin_full\" style=\"display: none;\">Nguồn: [Link nguồn]</span><span class=\"icoDrop\" id=\"icoDrop\" onclick=\"show_hide_url_origin();\"></span></p><div id=\"zone_banner_sponser_product\">\n",
       "<div class=\"txtCent banner_201\" id=\"EpDahOGKYC_201_15s\">\n",
       "<script type=\"text/javascript\">\n",
       "                                    \n",
       "                                        banner_tostring(EpDahOGKYC_201_15s, \"EpDahOGKYC_201_15s\");\n",
       "                                    \n",
       "                                </script>\n",
       "</div>\n",
       "</div><div class=\"bv-lq\"><!--begin_tlq_nd-->\n",
       "<div class=\"bv-lq-inner\"><!--begin_img_tlq_nd-->\n",
       "<div class=\"img-bv-lq imgFloat\"><a href=\"https://www.24h.com.vn/cong-nghe-thong-tin/tiet-lo-cua-openai-cho-thay-chatgpt-chua-het-thoi-c55a1517186.html\" onclick=\"return send_ga_gtag('box_tin_lien_quan_trong_noi_dung', '','eyJjYXRlZ29yeUlkXzI0aCI6IjU1IiwicGFnZUNhdGVnb3J5XzI0aCI6InRlY2hub2xvZ3kiLCJhcnRpY2xlSWRfMjRoIjoiMTUxNzU4MSIsInR5cGVfMjRoIjoiMSIsImRldmljZV8yNGgiOiJwYyIsImFjdGlvbl8yNGgiOiJjbGljayJ9', this,'','')\" title=\"Tiết lộ của OpenAI cho thấy ChatGPT chưa “hết thời”\"><img alt=\"Tiết lộ của OpenAI cho thấy ChatGPT chưa “hết thời”\" class=\"img_tin_lien_quan_trong_bai\" src=\"https://image-us.24h.com.vn/upload/4-2023/images/2023-11-10/1699586187-779-e-1699454390-269-width740height555-1699586187-width255height170.jpg\"/></a></div>\n",
       "<!--end_img_tlq_nd-->\n",
       "<div class=\"content-bv-lq\"><!--begin_title_tlq_nd-->\n",
       "<div class=\"title-bv\"><a class=\"url_tin_lien_quan_trong_bai\" href=\"https://www.24h.com.vn/cong-nghe-thong-tin/tiet-lo-cua-openai-cho-thay-chatgpt-chua-het-thoi-c55a1517186.html\" onclick=\"return send_ga_gtag('box_tin_lien_quan_trong_noi_dung', '','eyJjYXRlZ29yeUlkXzI0aCI6IjU1IiwicGFnZUNhdGVnb3J5XzI0aCI6InRlY2hub2xvZ3kiLCJhcnRpY2xlSWRfMjRoIjoiMTUxNzU4MSIsInR5cGVfMjRoIjoiMSIsImRldmljZV8yNGgiOiJwYyIsImFjdGlvbl8yNGgiOiJjbGljayJ9', this,'','')\">Tiết lộ của OpenAI cho thấy ChatGPT chưa “hết thời”</a></div>\n",
       "<!--end_title_tlq_nd-->\n",
       "<div class=\"ct-bv\">\n",
       "<p>Lượng người dùng trong tuần gần đây của ChatGPT đã chứng kiến một con số ấn tượng.</p>\n",
       "</div>\n",
       "<div class=\"see-now\"><a href=\"https://www.24h.com.vn/cong-nghe-thong-tin/tiet-lo-cua-openai-cho-thay-chatgpt-chua-het-thoi-c55a1517186.html\" onclick=\"return send_ga_gtag('box_tin_lien_quan_trong_noi_dung', '','eyJjYXRlZ29yeUlkXzI0aCI6IjU1IiwicGFnZUNhdGVnb3J5XzI0aCI6InRlY2hub2xvZ3kiLCJhcnRpY2xlSWRfMjRoIjoiMTUxNzU4MSIsInR5cGVfMjRoIjoiMSIsImRldmljZV8yNGgiOiJwYyIsImFjdGlvbl8yNGgiOiJjbGljayJ9', this,'','')\" title=\"\">Bấm xem &gt;&gt;</a></div>\n",
       "</div>\n",
       "</div>\n",
       "<p><!--end_tlq_nd--></p></div><p class=\"tuht_all\"></p> </article>"
      ]
     },
     "execution_count": 282,
     "metadata": {},
     "output_type": "execute_result"
    }
   ],
   "source": [
    "parent_div"
   ]
  },
  {
   "cell_type": "code",
   "execution_count": 297,
   "id": "fabdc529-d112-4a49-9171-2a949828868c",
   "metadata": {},
   "outputs": [
    {
     "name": "stderr",
     "output_type": "stream",
     "text": [
      "C:\\Users\\Shang\\AppData\\Local\\Temp\\ipykernel_5900\\1979692309.py:2: DeprecationWarning: headless property is deprecated, instead use add_argument('--headless') or add_argument('--headless=new')\n",
      "  options.headless=True\n"
     ]
    }
   ],
   "source": [
    "options = uc.ChromeOptions()\n",
    "options.headless=True"
   ]
  },
  {
   "cell_type": "code",
   "execution_count": 299,
   "id": "d8be96ac-b608-4c37-ba2b-fdf32fbcb6d7",
   "metadata": {},
   "outputs": [],
   "source": [
    "driver = uc.Chrome(headless=True,use_subprocess=False,version_main=119)#, user_data_dir = \"c:\\temp\\profile\")#, version_main=117)\n",
    "driver.get(\"https://www.24h.com.vn/cong-nghe-thong-tin/chatgpt-bi-nhom-hacker-anonymous-tan-cong-ddos-toi-sap-may-chu-c55a1517581.html\") "
   ]
  },
  {
   "cell_type": "code",
   "execution_count": 303,
   "id": "4c9e0087-43c1-4221-8b71-32160543fb44",
   "metadata": {},
   "outputs": [],
   "source": [
    "btn = driver.find_element(By.ID,'icoDrop')\n",
    "btn.click()"
   ]
  },
  {
   "cell_type": "code",
   "execution_count": 304,
   "id": "efa33bc2-e057-4c44-bb72-770353bbc826",
   "metadata": {},
   "outputs": [
    {
     "data": {
      "text/plain": [
       "'Nguồn: https://nongthonviet.com.vn/chatgpt-bi-nhom-hacker-anonymous-tan-cong-ddos-toi-sap-may-chu-1517581.ngn'"
      ]
     },
     "execution_count": 304,
     "metadata": {},
     "output_type": "execute_result"
    }
   ],
   "source": [
    "source =  driver.find_element(By.ID,'url_origin_full')\n",
    "source.text"
   ]
  },
  {
   "cell_type": "code",
   "execution_count": 305,
   "id": "c3ef5e4f-fea8-47f9-be69-f0326f8a4ca2",
   "metadata": {},
   "outputs": [
    {
     "name": "stdout",
     "output_type": "stream",
     "text": [
      "https://nongthonviet.com.vn/chatgpt-bi-nhom-hacker-anonymous-tan-cong-ddos-toi-sap-may-chu-1517581.ngn\n"
     ]
    }
   ],
   "source": [
    "url_pattern = r'https?://[^\\s]+'\n",
    "url = re.findall(url_pattern, source.text)\n",
    "\n",
    "# Extracted URL\n",
    "print(url[0]) if url else print(\"No URL found\")"
   ]
  },
  {
   "cell_type": "code",
   "execution_count": 289,
   "id": "1b433b2d-4cf1-4fb8-8085-ee102332d6b6",
   "metadata": {},
   "outputs": [
    {
     "data": {
      "text/plain": [
       "['https://nongthonviet.com.vn/chatgpt-bi-nhom-hacker-anonymous-tan-cong-ddos-toi-sap-may-chu-1517581.ngn']"
      ]
     },
     "execution_count": 289,
     "metadata": {},
     "output_type": "execute_result"
    }
   ],
   "source": [
    "url"
   ]
  },
  {
   "cell_type": "code",
   "execution_count": 301,
   "id": "9347d90f-93cb-45e1-9527-ef0f3e607ac3",
   "metadata": {},
   "outputs": [],
   "source": [
    "opts = uc.ChromeOptions()\n",
    "opts.add_argument('--headless')\n",
    "\n",
    "opts.add_argument('--disable-extensions')\n",
    "opts.add_argument('--disable-logging')\n",
    "opts.add_argument('--log-level=3')\n",
    "opts.add_argument('--start-maximized')\n",
    "opts.add_argument('--disable-notifications')\n",
    "opts.add_argument(\"--disable-gpu\")"
   ]
  },
  {
   "cell_type": "code",
   "execution_count": 302,
   "id": "fd41cb08-60d5-454f-8d50-c0a191a278d8",
   "metadata": {},
   "outputs": [],
   "source": [
    "driver = uc.Chrome(headless=True,use_subprocess=False,version_main=119)#, user_data_dir = \"c:\\temp\\profile\")#, version_main=117)\n",
    "driver.get(\"https://www.24h.com.vn/cong-nghe-thong-tin/chatgpt-bi-nhom-hacker-anonymous-tan-cong-ddos-toi-sap-may-chu-c55a1517581.html\")"
   ]
  },
  {
   "cell_type": "code",
   "execution_count": 306,
   "id": "8a5460ca-9da5-4f5a-8a6e-bcd4a1b550ff",
   "metadata": {},
   "outputs": [],
   "source": [
    "driver.quit()"
   ]
  },
  {
   "cell_type": "code",
   "execution_count": null,
   "id": "d214072f-6941-47af-a2ac-d293f2cbd020",
   "metadata": {},
   "outputs": [],
   "source": []
  }
 ],
 "metadata": {
  "kernelspec": {
   "display_name": "Python 3 (ipykernel)",
   "language": "python",
   "name": "python3"
  },
  "language_info": {
   "codemirror_mode": {
    "name": "ipython",
    "version": 3
   },
   "file_extension": ".py",
   "mimetype": "text/x-python",
   "name": "python",
   "nbconvert_exporter": "python",
   "pygments_lexer": "ipython3",
   "version": "3.11.5"
  }
 },
 "nbformat": 4,
 "nbformat_minor": 5
}
