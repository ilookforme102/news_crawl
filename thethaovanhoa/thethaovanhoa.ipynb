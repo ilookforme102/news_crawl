{
 "cells": [
  {
   "cell_type": "code",
   "execution_count": 3,
   "id": "8682b80f-b3fb-4148-ba8a-c85a5f2f7195",
   "metadata": {},
   "outputs": [],
   "source": [
    "import requests \n",
    "import time\n",
    "import re\n",
    "from datetime import datetime\n",
    "from bs4 import BeautifulSoup,NavigableString, Comment"
   ]
  },
  {
   "cell_type": "code",
   "execution_count": null,
   "id": "4cf8a411-f4cd-4e5f-b400-7148352e8f29",
   "metadata": {},
   "outputs": [],
   "source": [
    "def get_news_bongdaplus():\n",
    "    _bongdaplus = {\n",
    "            \"home_page\":\"https://bongdaplus.vn/\",\n",
    "            \"urls\":{\n",
    "                \"hautruong\":\n",
    "                {\n",
    "                 \"url\":\"https://thethaovanhoa.vn/the-gioi-sao.htm#\",\n",
    "                 \"sub-category\":{  \n",
    "                    0:{\"name\":\"Thế giới sao\",\n",
    "                     \"url\":\"https://thethaovanhoa.vn/the-gioi-sao.htm\",\n",
    "                     \"cate_id\":38,\n",
    "                      \"url_list\" : []},\n",
    "                 }\n",
    "                }\n",
    "            }\n",
    "        }"
   ]
  },
  {
   "cell_type": "code",
   "execution_count": 6,
   "id": "3fe86361-a7ed-40a8-b146-1f936b7fd1f4",
   "metadata": {},
   "outputs": [],
   "source": [
    "url = \"https://thethaovanhoa.vn/the-gioi-sao.htm\"\n",
    "response = requests.get(url)\n",
    "time.sleep(2)"
   ]
  },
  {
   "cell_type": "code",
   "execution_count": 78,
   "id": "ce4600aa-aa0c-4bbf-9ce3-7e322fdd3e32",
   "metadata": {},
   "outputs": [],
   "source": [
    "def convert_string(input_str):\n",
    "    # Regular expression pattern to match a date in the format dd-mm-yyyy\n",
    "    pattern = r'\\b\\d{2}/\\d{2}/\\d{4}\\b'\n",
    "    \n",
    "    # Search for the pattern in the string\n",
    "    match = re.search(pattern, input_str)\n",
    "    if match:\n",
    "    # Extract and print the date if found\n",
    "        date_str = match.group(0)\n",
    "        date_obj = datetime.strptime(date_str, '%d/%m/%Y')\n",
    "        date =  date_obj.strftime('%Y-%m-%d')\n",
    "\n",
    "        return date\n",
    "    else:\n",
    "        'No date found'\n",
    "    \n",
    "#convert time string to datetime object\n",
    "def convert_time_string(posted_date):\n",
    "    # Regular expression pattern to match a date in the format dd-mm-yyyy\n",
    "    pattern = r'\\b\\d{2}/\\d{2}/\\d{4}\\b'\n",
    "\n",
    "    # Search for the pattern in the string and extract the date\n",
    "    match = re.search(pattern, posted_date)\n",
    "    if match:\n",
    "        date_str = match.group(0)\n",
    "        # Convert the extracted date string to datetime object\n",
    "        date_obj = datetime.strptime(date_str, '%d/%m/%Y')\n",
    "        return date_obj\n",
    "    else:\n",
    "        return None \n",
    "def get_list_url(cate_url): \n",
    "    response = requests.get(cate_url)\n",
    "    soup = BeautifulSoup(response.content, 'html.parser')\n",
    "    post_content_div = soup.find('ul', class_ =\"news-stream col550 left col547\")\n",
    "    list_url = post_content_div.find_all('li')\n",
    "    urls = []\n",
    "    for i in list_url:\n",
    "        path = i.find('a',class_='img left show-popup visit-popup')\n",
    "    \n",
    "        try:\n",
    "            url = 'https://thethaovanhoa.vn' + path['href']\n",
    "            urls.append(url)\n",
    "        except TypeError as e:\n",
    "            continue\n",
    "    return urls\n"
   ]
  },
  {
   "cell_type": "code",
   "execution_count": 46,
   "id": "c4c77f7b-ffe8-44b4-88b4-33f4a83eb4f8",
   "metadata": {},
   "outputs": [],
   "source": [
    "test_url = get_list_url('https://thethaovanhoa.vn/the-gioi-sao.htm')"
   ]
  },
  {
   "cell_type": "code",
   "execution_count": 47,
   "id": "712e81a8-856e-4d4a-9ab5-3f18ac8eeaef",
   "metadata": {},
   "outputs": [
    {
     "data": {
      "text/plain": [
       "'https://thethaovanhoa.vn/cau-thu-viet-huong-luong-cao-nhat-v-league-mo-tai-khoan-tai-nam-dinh-trung-ve-duy-manh-khang-dinh-thoi-toi-roi-20231127100957721.htm'"
      ]
     },
     "execution_count": 47,
     "metadata": {},
     "output_type": "execute_result"
    }
   ],
   "source": [
    "test_url[0]"
   ]
  },
  {
   "cell_type": "code",
   "execution_count": 112,
   "id": "f435e005-663e-4652-b4db-170fde254b43",
   "metadata": {},
   "outputs": [],
   "source": [
    "response = requests.get(test_url[0])\n",
    "soup = BeautifulSoup(response.content, 'html.parser')\n",
    "wrapper = soup.find('div', class_ = \"col780 left clearafter\")\n",
    "h1 = wrapper.find('h1').text.strip()\n",
    "date_str = wrapper.find('p',class_ ='news-time left').text\n",
    "published_date = convert_string(date_str)\n",
    "article = soup.find('div', class_ =\"entry-body normal clearafter\")\n",
    "bottom_div = article.find_all(recursive = True)[-4:]\n",
    "for i in bottom_div:\n",
    "    i.decompose()\n",
    "preview_div = article.find('div', class_ ='VCSortableInPreviewMode alignCenter type-7_preview')\n",
    "preview_div.decompose()"
   ]
  },
  {
   "cell_type": "code",
   "execution_count": null,
   "id": "8d692d7a-c8ff-42a9-bd5b-f2b21dfd45b3",
   "metadata": {},
   "outputs": [],
   "source": []
  },
  {
   "cell_type": "code",
   "execution_count": 113,
   "id": "6e1ef4b5-0fb4-4c4c-86f7-470cf87a14ad",
   "metadata": {},
   "outputs": [],
   "source": []
  },
  {
   "cell_type": "code",
   "execution_count": null,
   "id": "c2bf3f92-548e-4b8f-b630-c8769f9fa24b",
   "metadata": {},
   "outputs": [],
   "source": []
  },
  {
   "cell_type": "code",
   "execution_count": 114,
   "id": "3d71c6bc-e5d3-47de-adbf-8c4e440b5532",
   "metadata": {},
   "outputs": [],
   "source": []
  },
  {
   "cell_type": "code",
   "execution_count": 119,
   "id": "e4a0e5cb-8aac-49a1-aaa3-5925fcdf77ee",
   "metadata": {},
   "outputs": [],
   "source": []
  },
  {
   "cell_type": "code",
   "execution_count": 122,
   "id": "293ca36d-6db4-48d7-b774-737aeca79073",
   "metadata": {},
   "outputs": [],
   "source": []
  },
  {
   "cell_type": "code",
   "execution_count": 125,
   "id": "aa1b2d6e-be0c-48e2-9bd6-03387c603956",
   "metadata": {},
   "outputs": [
    {
     "name": "stdout",
     "output_type": "stream",
     "text": [
      "<div class=\"entry-body normal clearafter\" data-role=\"content\">\n",
      " <p>\n",
      "  <b>\n",
      "   Tiền đạo Văn Toàn đã có bàn thắng đầu tiên cho CLB Thép Xanh Nam Định sau khi vào sân từ ghế dự bị. Trên trang cá nhân, ngôi sao của ĐT Việt Nam đã ăn mừng chiến tích mới của mình và nhận được nhiều lời chúc mừng từ các đồng nghiệp cũng như người hâm mộ.\n",
      "  </b>\n",
      " </p>\n",
      " <!-- bonewsrelation -->\n",
      " <h2>\n",
      "  Cầu thủ Việt hưởng lương cao nhất V-League 'mở tài khoản' tại Nam Định\n",
      " </h2>\n",
      " <p>\n",
      "  Hành quân đến sân của Bình Phước ở trận ra quân Cúp Quốc gia, CLB Nam Định phải căng mình chống đỡ trong phần lớn thời gian của hiệp 1. Tuy nhiên đến phút 38, tiền đạo Trần Văn Đạt bất ngờ mở tỷ số cho đội khách sau pha dứt điểm cận thành.\n",
      " </p>\n",
      " <p>\n",
      "  Văn Toàn vào sân sau giờ nghỉ. Sự bổ sung trên hàng công giúp Nam Định chiếm lĩnh thế trận. Ngôi sao tấn công của ĐT Việt Nam chỉ mất 2 phút để tỏa sáng nhờ pha xoay sở khéo léo trong vòng vây 3 hậu vệ Bình Phước, trước khi mang về bàn nhân đôi cách biệt.\n",
      " </p>\n",
      " <figure class=\"VCSortableInPreviewMode small-img\" style=\"\" type=\"Photo\">\n",
      "  <div>\n",
      "   <img alt=\"Cầu thủ Việt hưởng lương cao nhất V-League 'mở tài khoản' tại Nam Định, trung vệ Duy Mạnh khẳng định 'thời tới rồi' - Ảnh 2.\" data-original=\"https://thethaovanhoa.mediacdn.vn/372676912336973824/2023/11/27/van-toan-0-1701054370153368413542.png\" h=\"582\" height=\"\" id=\"img_653432174000836608\" photoid=\"653432174000836608\" rel=\"lightbox\" src=\"https://thethaovanhoa.mediacdn.vn/372676912336973824/2023/11/27/van-toan-0-1701054370153368413542.png\" style=\"max-width:100%;\" title=\"Cầu thủ Việt hưởng lương cao nhất V-League 'mở tài khoản' tại Nam Định, trung vệ Duy Mạnh khẳng định 'thời tới rồi' - Ảnh 2.\" type=\"photo\" w=\"470\" width=\"\"/>\n",
      "  </div>\n",
      "  <figcaption class=\"PhotoCMS_Caption\">\n",
      "   <p class=\"\" data-placeholder=\"[Nhập chú thích ảnh]\">\n",
      "    Văn Toàn chia sẻ bài đăng sau khi có bàn thắng \"mở tài khoản\" tại Nam Định\n",
      "   </p>\n",
      "  </figcaption>\n",
      " </figure>\n",
      " <p>\n",
      "  Bàn thắng giải tỏa rất nhiều áp lực cho cá nhân cựu ngôi sao HAGL. Pha lập công của Văn Toàn giúp Nam Định hoàn tất chiến thắng đậm 4-0. Sau khi trận đấu khép lại, Văn Toàn đã chia sẻ bài viết trên trang cá nhân với dòng trạng thái: \"Bàn thắng đầu tiên\".\n",
      " </p>\n",
      " <figure class=\"VCSortableInPreviewMode small-img noCaption\" style=\"\" type=\"Photo\">\n",
      "  <div>\n",
      "   <img alt=\"Cầu thủ Việt hưởng lương cao nhất V-League 'mở tài khoản' tại Nam Định, trung vệ Duy Mạnh khẳng định 'thời tới rồi' - Ảnh 3.\" data-original=\"https://thethaovanhoa.mediacdn.vn/372676912336973824/2023/11/27/van-toan-1-17010543196481760452065.png\" h=\"564\" height=\"\" id=\"img_653431962110021632\" photoid=\"653431962110021632\" rel=\"lightbox\" src=\"https://thethaovanhoa.mediacdn.vn/372676912336973824/2023/11/27/van-toan-1-17010543196481760452065.png\" style=\"max-width:100%;\" title=\"Cầu thủ Việt hưởng lương cao nhất V-League 'mở tài khoản' tại Nam Định, trung vệ Duy Mạnh khẳng định 'thời tới rồi' - Ảnh 3.\" type=\"photo\" w=\"550\" width=\"\"/>\n",
      "  </div>\n",
      "  <figcaption class=\"PhotoCMS_Caption\">\n",
      "   <p class=\"NLPlaceholderShow\" data-placeholder=\"[Nhập chú thích ảnh]\">\n",
      "   </p>\n",
      "  </figcaption>\n",
      " </figure>\n",
      " <p>\n",
      "  Bài đăng nhận được nhiều lời chúc mừng từ người hâm mộ. Các đồng nghiệp cũng vào chia sẻ niềm vui với Văn Toàn. Nội binh được hưởng lương \"khủng\" nhất V-League mùa này thừa nhận đã gặp may nhưng theo đồng đội ở ĐT Việt Nam là trung vệ Duy Mạnh thì đây là lúc Văn Toàn tỏa sáng.\n",
      " </p>\n",
      " <p>\n",
      "  Ngôi sao thuộc biên chế CLB Hà Nội bình luận hóm hỉnh: \"Thời tới rồi bạn mình\". Có thể nói, đây sẽ là một bàn thắng giải tỏa dành cho Văn Toàn và dù chỉ là ở đấu trường Cúp Quốc gia nhưng nó sẽ giúp ngôi sao Thép Xanh Nam Định tự tin hơn để tìm bàn thắng đầu tiên tại V-League.\n",
      " </p>\n",
      " <!-- eonewsrelation -->\n",
      " <!--Mon Nov 27 2023 11:28:33 GMT+0700 (Indochina Time) --  -- Mon Nov 27 2023 11:28:33 GMT+0700 (Indochina Time)-->\n",
      "</div>\n",
      "\n"
     ]
    }
   ],
   "source": [
    "print(article.prettify())"
   ]
  },
  {
   "cell_type": "code",
   "execution_count": 132,
   "id": "2b319a59-1206-4af2-90eb-cbab14474cdd",
   "metadata": {},
   "outputs": [],
   "source": [
    "figures = article.find_all('figure', class_ = \"VCSortableInPreviewMode\")\n",
    "for figure in figures:\n",
    "    img = figure.find('img')\n",
    "    caption_element = figure.find('figcaption', class_=\"PhotoCMS_Caption\")\n",
    "    caption = caption_element.find('p').text.strip()\n",
    "    caption_start = NavigableString(\"[caption id=\\\"\\\" align=\\\"aligncenter\\\" width=\\\"800\\\"]\")\n",
    "    caption_text = NavigableString(caption)\n",
    "    caption_end = NavigableString(\"[/caption]\")\n",
    "    #caption_text_list[i].decompose()\n",
    "    # Insert the custom tags and caption text around the <img> tag\n",
    "    img.insert_before(caption_start)\n",
    "    img.insert_after(caption_end)\n",
    "    try:\n",
    "        img.insert_after(caption_text) \n",
    "    except IndexError as e:\n",
    "        print(e)\n",
    "    caption_element.decompose()"
   ]
  },
  {
   "cell_type": "code",
   "execution_count": 133,
   "id": "7325aedb-59a8-492b-ac6f-2c7242b8d9fc",
   "metadata": {},
   "outputs": [
    {
     "data": {
      "text/plain": [
       "<div class=\"entry-body normal clearafter\" data-role=\"content\">\n",
       "<p><b>Tiền đạo Văn Toàn đã có bàn thắng đầu tiên cho CLB Thép Xanh Nam Định sau khi vào sân từ ghế dự bị. Trên trang cá nhân, ngôi sao của ĐT Việt Nam đã ăn mừng chiến tích mới của mình và nhận được nhiều lời chúc mừng từ các đồng nghiệp cũng như người hâm mộ.</b></p><!-- bonewsrelation --><h2>Cầu thủ Việt hưởng lương cao nhất V-League 'mở tài khoản' tại Nam Định</h2><p>Hành quân đến sân của Bình Phước ở trận ra quân Cúp Quốc gia, CLB Nam Định phải căng mình chống đỡ trong phần lớn thời gian của hiệp 1. Tuy nhiên đến phút 38, tiền đạo Trần Văn Đạt bất ngờ mở tỷ số cho đội khách sau pha dứt điểm cận thành.</p><p>Văn Toàn vào sân sau giờ nghỉ. Sự bổ sung trên hàng công giúp Nam Định chiếm lĩnh thế trận. Ngôi sao tấn công của ĐT Việt Nam chỉ mất 2 phút để tỏa sáng nhờ pha xoay sở khéo léo trong vòng vây 3 hậu vệ Bình Phước, trước khi mang về bàn nhân đôi cách biệt.</p><figure class=\"VCSortableInPreviewMode small-img\" style=\"\" type=\"Photo\"><div>[caption id=\"\" align=\"aligncenter\" width=\"800\"]<img alt=\"Cầu thủ Việt hưởng lương cao nhất V-League 'mở tài khoản' tại Nam Định, trung vệ Duy Mạnh khẳng định 'thời tới rồi' - Ảnh 2.\" data-original=\"https://thethaovanhoa.mediacdn.vn/372676912336973824/2023/11/27/van-toan-0-1701054370153368413542.png\" h=\"582\" height=\"\" id=\"img_653432174000836608\" photoid=\"653432174000836608\" rel=\"lightbox\" src=\"https://thethaovanhoa.mediacdn.vn/372676912336973824/2023/11/27/van-toan-0-1701054370153368413542.png\" style=\"max-width:100%;\" title=\"Cầu thủ Việt hưởng lương cao nhất V-League 'mở tài khoản' tại Nam Định, trung vệ Duy Mạnh khẳng định 'thời tới rồi' - Ảnh 2.\" type=\"photo\" w=\"470\" width=\"\"/>Văn Toàn chia sẻ bài đăng sau khi có bàn thắng \"mở tài khoản\" tại Nam Định[/caption]</div></figure><p>Bàn thắng giải tỏa rất nhiều áp lực cho cá nhân cựu ngôi sao HAGL. Pha lập công của Văn Toàn giúp Nam Định hoàn tất chiến thắng đậm 4-0. Sau khi trận đấu khép lại, Văn Toàn đã chia sẻ bài viết trên trang cá nhân với dòng trạng thái: \"Bàn thắng đầu tiên\".</p><figure class=\"VCSortableInPreviewMode small-img noCaption\" style=\"\" type=\"Photo\"><div>[caption id=\"\" align=\"aligncenter\" width=\"800\"]<img alt=\"Cầu thủ Việt hưởng lương cao nhất V-League 'mở tài khoản' tại Nam Định, trung vệ Duy Mạnh khẳng định 'thời tới rồi' - Ảnh 3.\" data-original=\"https://thethaovanhoa.mediacdn.vn/372676912336973824/2023/11/27/van-toan-1-17010543196481760452065.png\" h=\"564\" height=\"\" id=\"img_653431962110021632\" photoid=\"653431962110021632\" rel=\"lightbox\" src=\"https://thethaovanhoa.mediacdn.vn/372676912336973824/2023/11/27/van-toan-1-17010543196481760452065.png\" style=\"max-width:100%;\" title=\"Cầu thủ Việt hưởng lương cao nhất V-League 'mở tài khoản' tại Nam Định, trung vệ Duy Mạnh khẳng định 'thời tới rồi' - Ảnh 3.\" type=\"photo\" w=\"550\" width=\"\"/>[/caption]</div></figure><p>Bài đăng nhận được nhiều lời chúc mừng từ người hâm mộ. Các đồng nghiệp cũng vào chia sẻ niềm vui với Văn Toàn. Nội binh được hưởng lương \"khủng\" nhất V-League mùa này thừa nhận đã gặp may nhưng theo đồng đội ở ĐT Việt Nam là trung vệ Duy Mạnh thì đây là lúc Văn Toàn tỏa sáng.</p><p>Ngôi sao thuộc biên chế CLB Hà Nội bình luận hóm hỉnh: \"Thời tới rồi bạn mình\". Có thể nói, đây sẽ là một bàn thắng giải tỏa dành cho Văn Toàn và dù chỉ là ở đấu trường Cúp Quốc gia nhưng nó sẽ giúp ngôi sao Thép Xanh Nam Định tự tin hơn để tìm bàn thắng đầu tiên tại V-League.</p><!-- eonewsrelation --><!--Mon Nov 27 2023 11:28:33 GMT+0700 (Indochina Time) --  -- Mon Nov 27 2023 11:28:33 GMT+0700 (Indochina Time)-->\n",
       "</div>"
      ]
     },
     "execution_count": 133,
     "metadata": {},
     "output_type": "execute_result"
    }
   ],
   "source": [
    "article"
   ]
  },
  {
   "cell_type": "code",
   "execution_count": null,
   "id": "df90e66c-9bf0-4b5f-8333-e593ee6ae1e5",
   "metadata": {},
   "outputs": [],
   "source": []
  }
 ],
 "metadata": {
  "kernelspec": {
   "display_name": "Python 3 (ipykernel)",
   "language": "python",
   "name": "python3"
  },
  "language_info": {
   "codemirror_mode": {
    "name": "ipython",
    "version": 3
   },
   "file_extension": ".py",
   "mimetype": "text/x-python",
   "name": "python",
   "nbconvert_exporter": "python",
   "pygments_lexer": "ipython3",
   "version": "3.11.5"
  }
 },
 "nbformat": 4,
 "nbformat_minor": 5
}
