{
 "cells": [
  {
   "cell_type": "code",
   "execution_count": 1,
   "id": "8682b80f-b3fb-4148-ba8a-c85a5f2f7195",
   "metadata": {},
   "outputs": [],
   "source": []
  },
  {
   "cell_type": "code",
   "execution_count": 247,
   "id": "ce4600aa-aa0c-4bbf-9ce3-7e322fdd3e32",
   "metadata": {},
   "outputs": [],
   "source": [
    "import requests \n",
    "import time\n",
    "import re\n",
    "from datetime import datetime\n",
    "from bs4 import BeautifulSoup,NavigableString, Comment\n",
    "def convert_string(input_str):\n",
    "    # Regular expression pattern to match a date in the format dd-mm-yyyy\n",
    "    pattern = r'\\b\\d{2}/\\d{2}/\\d{4}\\b'\n",
    "    \n",
    "    # Search for the pattern in the string\n",
    "    match = re.search(pattern, input_str)\n",
    "    if match:\n",
    "    # Extract and print the date if found\n",
    "        date_str = match.group(0)\n",
    "        date_obj = datetime.strptime(date_str, '%d/%m/%Y')\n",
    "        date =  date_obj.strftime('%Y-%m-%d')\n",
    "\n",
    "        return date\n",
    "    else:\n",
    "        'No date found'    \n",
    "#convert time string to datetime object\n",
    "def convert_time_string(posted_date):\n",
    "    # Regular expression pattern to match a date in the format dd-mm-yyyy\n",
    "    pattern = r'\\b\\d{2}/\\d{2}/\\d{4}\\b'\n",
    "\n",
    "    # Search for the pattern in the string and extract the date\n",
    "    match = re.search(pattern, posted_date)\n",
    "    if match:\n",
    "        date_str = match.group(0)\n",
    "        # Convert the extracted date string to datetime object\n",
    "        date_obj = datetime.strptime(date_str, '%d/%m/%Y')\n",
    "        return date_obj\n",
    "    else:\n",
    "        return None \n",
    "def get_content_thethaovanhoa(url):\n",
    "    response = requests.get(url)\n",
    "    soup = BeautifulSoup(response.content, 'html.parser')\n",
    "    wrapper = soup.find('div', class_ = \"col780 left clearafter\")\n",
    "    title = wrapper.find('h1').text.strip()\n",
    "    date_str = wrapper.find('p',class_ ='news-time left').text\n",
    "    published_date = convert_string(date_str)\n",
    "    article = soup.find('div', class_ =\"entry-body normal clearafter\")\n",
    "    #bottom_div = article.find_all(recursive = True)\n",
    "    #for i in bottom_div:\n",
    "        #i.decompose()\n",
    "    try:\n",
    "        preview_div = article.find_all('div', class_ ='VCSortableInPreviewMode alignCenter type-7_preview')\n",
    "    except AttributeError as e:\n",
    "        print(e)\n",
    "        \n",
    "    for i in preview_div:\n",
    "        i.decompose()\n",
    "    try:\n",
    "        readmore_div = article.find('div', class_ ='VCSortableInPreviewMode link-content-footer')\n",
    "        readmore_div.decompose()\n",
    "    except AttributeError as e:\n",
    "        print(e)\n",
    "    source_tag = soup.new_tag('i') \n",
    "    source_tag.string = \"Nguồn: thethaovanhoa.vn\"  # Set the content of <i> tag\n",
    "    article.append(source_tag)\n",
    "    figures = article.find_all('figure', class_ = \"VCSortableInPreviewMode\")\n",
    "    for figure in figures:\n",
    "        try:\n",
    "            img = figure.find('img')\n",
    "            img['class'] = \"aligncenter\"\n",
    "            img['width'] = 800\n",
    "            img['height'] = 400\n",
    "            caption_element = figure.find('figcaption', class_=\"PhotoCMS_Caption\")\n",
    "            caption = caption_element.find('p').text.strip()\n",
    "            caption_start = NavigableString(\"[caption id=\\\"\\\" align=\\\"aligncenter\\\" width=\\\"800\\\"]\")\n",
    "            caption_text = NavigableString(caption)\n",
    "            caption_end = NavigableString(\"[/caption]\")\n",
    "            #caption_text_list[i].decompose()\n",
    "            # Insert the custom tags and caption text around the <img> tag\n",
    "            img.insert_before(caption_start)\n",
    "            img.insert_after(caption_end)\n",
    "        except AttributeError as e:\n",
    "            print(e)\n",
    "        except NameError as e:\n",
    "            continue\n",
    "        except TypeError as e:\n",
    "            continue\n",
    "        try:\n",
    "            img.insert_after(caption_text) \n",
    "        except IndexError as e:\n",
    "            print(e)\n",
    "        \n",
    "        for video in article.find_all(['video','iframe']):\n",
    "            video.decompose()\n",
    "        readmore_btn = article.find_all('div', class_ = 'VCSortableInPreviewMode link-content-footer')\n",
    "        for i in readmore_btn:\n",
    "            i.decompose()\n",
    "        tags_to_remove = article.find_all(['a'])\n",
    "        for tag in tags_to_remove:\n",
    "             # Extract the text from the tag\n",
    "            tag_text = tag.get_text()\n",
    "            # Replace the tag with its text content\n",
    "            tag.replace_with(tag_text)\n",
    "            tag.text.strip()\n",
    "        for script_or_style in article(['script', 'style']):\n",
    "            script_or_style.decompose()\n",
    "        #fig_captions = article.find_all('figcaption', class_=\"PhotoCMS_Caption\")\n",
    "        #for fig in fig_captions:\n",
    "            #fig.decompose()\n",
    "    for cap in article.find_all('figcaption', class_ = 'PhotoCMS_Caption'):\n",
    "        cap.decompose()\n",
    "    return article, title, published_date\n",
    "    \n",
    "def get_post(url):\n",
    "    try:\n",
    "        content,title,published_date = get_content_thethaovanhoa(url)\n",
    "        return content,title,published_date\n",
    "    except AttributError as e:\n",
    "        print(e)\n",
    "def get_list_url(cate_url): \n",
    "    response = requests.get(cate_url)\n",
    "    soup = BeautifulSoup(response.content, 'html.parser')\n",
    "    post_content_div = soup.find('ul', class_ =\"news-stream col550 left col547\")\n",
    "    list_url = post_content_div.find_all('li')\n",
    "    urls = []\n",
    "    for i in list_url:\n",
    "        path = i.find('a',class_='img left show-popup visit-popup')\n",
    "    \n",
    "        try:\n",
    "            url = 'https://thethaovanhoa.vn' + path['href']\n",
    "            urls.append(url)\n",
    "        except TypeError as e:\n",
    "            continue\n",
    "    return urls\n",
    "def filter_list(urls):\n",
    "    filtered_urls = []\n",
    "    crawl_time = datetime.fromtimestamp(time.time()-1*24*3600)\n",
    "    for i in urls:\n",
    "        response = requests.get(i)\n",
    "        soup = BeautifulSoup(response.content, 'html.parser')\n",
    "        try:\n",
    "            wrapper = soup.find('div', class_ = \"col780 left clearafter\")\n",
    "            date_posted = wrapper.find('p',class_ ='news-time left').text.strip()\n",
    "            date_posted_norm = convert_time_string(date_posted)\n",
    "            if ( (date_posted_norm.day == crawl_time.day) and (date_posted_norm.month == crawl_time.month) and (date_posted_norm.year == crawl_time.year) ):\n",
    "                filtered_urls.append(i)\n",
    "                print(i)\n",
    "        except AttributeError as e:\n",
    "            print(e)\n",
    "            break\n",
    "    return filtered_urls\n",
    "#add list url to json\n",
    "def add_list(web_json_obj):\n",
    "    for i in list(web_json_obj['urls'].keys()):\n",
    "        for j in list(web_json_obj['urls'][i]['sub-category'].keys()):  \n",
    "            urls = get_list_url(web_json_obj['urls'][i]['sub-category'][j]['url'])\n",
    "            print(i,j,web_json_obj['urls'][i]['sub-category'][j]['url'])\n",
    "            web_json_obj['urls'][i]['sub-category'][j]['url_list'] = filter_list(urls)\n",
    "# add post content from get content function to json object\n",
    "def add_post(web_json_obj):\n",
    "    for i in list(web_json_obj['urls'].keys()):\n",
    "        for j in list(web_json_obj['urls'][i]['sub-category'].keys()):\n",
    "            web_json_obj['urls'][i]['sub-category'][j]['content'] = {}\n",
    "            list_key = [v for v in range(0,len(web_json_obj['urls'][i]['sub-category'][j]['url_list']))]\n",
    "            for u in list_key:\n",
    "                web_json_obj['urls'][i]['sub-category'][j]['content'][u] = {}\n",
    "                if u != \"\":\n",
    "                    web_json_obj['urls'][i]['sub-category'][j]['content'][u]['text'] ,web_json_obj['urls'][i]['sub-category'][j]['content'][u]['title'],web_json_obj['urls'][i]['sub-category'][j]['content'][u]['published_date'] = get_post(web_json_obj['urls'][i]['sub-category'][j]['url_list'][u])\n",
    "                    print(i,j,web_json_obj['urls'][i]['sub-category'][j]['cate_id'],web_json_obj['urls'][i]['sub-category'][j]['name'],web_json_obj['urls'][i]['sub-category'][j]['name'],web_json_obj['urls'][i]['sub-category'][j]['content'][u]['title'],web_json_obj['urls'][i]['sub-category'][j]['url_list'][u])\n",
    "#add all necessary information to json object\n",
    "def get_news_thethaovanhoa():\n",
    "    _thethaovanhoa = {\n",
    "            \"home_page\":\"https://bongdaplus.vn/\",\n",
    "            \"urls\":{\n",
    "                \"hautruong\":\n",
    "                {\n",
    "                 \"url\":\"https://thethaovanhoa.vn/the-gioi-sao.htm#\",\n",
    "                 \"sub-category\":{  \n",
    "                    0:{\"name\":\"Thế giới sao\",\n",
    "                     \"url\":\"https://thethaovanhoa.vn/the-gioi-sao.htm\",\n",
    "                     \"cate_id\":38,\n",
    "                      \"url_list\" : []},\n",
    "                 }\n",
    "                }\n",
    "            }\n",
    "        }\n",
    "#\n",
    "    add_list(_thethaovanhoa)\n",
    "    add_post(_thethaovanhoa)\n",
    "    return _thethaovanhoa\n",
    "#send post content to wordpress via endpoint\n",
    "def send_post_to_5goals(title,content,category_id,published_date):\n",
    "    # URL of the API endpoint (this is a placeholder and needs to be replaced with the actual URL)\n",
    "    url = \"https://api2023.5goal.com/wp-json/custom/createPost\"\n",
    "    \n",
    "    # Data to be sent in the POST request\n",
    "    data = {\n",
    "        \"title\": title,\n",
    "        \"content\": content,\n",
    "        \"category_id\": category_id,\n",
    "        \"token\": '5goalvodichcmnl',  # Replace with your actual access token\n",
    "        \"published_date\": published_date,\n",
    "        \"domain\":\"bongdaplus\"\n",
    "          # Replace with the actual category ID as required\n",
    "    }\n",
    "    \n",
    "    # Sending the POST request\n",
    "    response = requests.post(url, data=data)\n",
    "    \n",
    "    # Checking the response\n",
    "    if response.status_code == 200:\n",
    "        print(\"The post was successfully created.\")\n",
    "        print(\"Response:\", response.text)  # Prints the response text from the server\n",
    "    else:\n",
    "        print(f\"Failed to create the post. Status code: {response.status_code}\")\n",
    "def main():\n",
    "    _thethaovanhoa = get_news_thethaovanhoa()\n",
    "    for i in list(_thethaovanhoa['urls'].keys()):\n",
    "    #web_24h_com_vn2['url'][i]['cate_id']\n",
    "        for j in list(_thethaovanhoa['urls'][i]['sub-category']):\n",
    "            url_list =  _thethaovanhoa['urls'][i]['sub-category'][j]['url_list']\n",
    "            print(url_list)\n",
    "            for t in range(0,len(url_list)):\n",
    "                content = _thethaovanhoa['urls'][i]['sub-category'][j]['content'][t]['text']\n",
    "                title = _thethaovanhoa['urls'][i]['sub-category'][j]['content'][t]['title']\n",
    "                published_date = _thethaovanhoa['urls'][i]['sub-category'][j]['content'][t]['published_date']\n",
    "                cate_id = _thethaovanhoa['urls'][i]['sub-category'][j]['cate_id']\n",
    "                print(title, url_list[t])\n",
    "                send_post_to_5goals(title,str(content), cate_id, published_date)\n",
    "                time.sleep(5)\n"
   ]
  },
  {
   "cell_type": "code",
   "execution_count": 248,
   "id": "215687f4-166b-4cd9-b144-1a19e0351b59",
   "metadata": {},
   "outputs": [
    {
     "name": "stdout",
     "output_type": "stream",
     "text": [
      "hautruong 0 https://thethaovanhoa.vn/the-gioi-sao.htm\n",
      "https://thethaovanhoa.vn/cau-thu-viet-huong-luong-cao-nhat-v-league-mo-tai-khoan-tai-nam-dinh-trung-ve-duy-manh-khang-dinh-thoi-toi-roi-20231127100957721.htm\n",
      "hautruong 0 38 Thế giới sao Thế giới sao Cầu thủ Việt hưởng lương cao nhất V-League 'mở tài khoản' tại Nam Định, trung vệ Duy Mạnh khẳng định 'thời tới rồi' https://thethaovanhoa.vn/cau-thu-viet-huong-luong-cao-nhat-v-league-mo-tai-khoan-tai-nam-dinh-trung-ve-duy-manh-khang-dinh-thoi-toi-roi-20231127100957721.htm\n",
      "['https://thethaovanhoa.vn/cau-thu-viet-huong-luong-cao-nhat-v-league-mo-tai-khoan-tai-nam-dinh-trung-ve-duy-manh-khang-dinh-thoi-toi-roi-20231127100957721.htm']\n",
      "Cầu thủ Việt hưởng lương cao nhất V-League 'mở tài khoản' tại Nam Định, trung vệ Duy Mạnh khẳng định 'thời tới rồi' https://thethaovanhoa.vn/cau-thu-viet-huong-luong-cao-nhat-v-league-mo-tai-khoan-tai-nam-dinh-trung-ve-duy-manh-khang-dinh-thoi-toi-roi-20231127100957721.htm\n",
      "The post was successfully created.\n",
      "Response: {\"success\":true,\"post_id\":63859}\n"
     ]
    }
   ],
   "source": [
    "main()"
   ]
  },
  {
   "cell_type": "code",
   "execution_count": 233,
   "id": "2b319a59-1206-4af2-90eb-cbab14474cdd",
   "metadata": {},
   "outputs": [],
   "source": [
    "test = get_content_thethaovanhoa('https://thethaovanhoa.vn/cau-thu-viet-huong-luong-cao-nhat-v-league-mo-tai-khoan-tai-nam-dinh-trung-ve-duy-manh-khang-dinh-thoi-toi-roi-20231127100957721.htm')[0]"
   ]
  },
  {
   "cell_type": "code",
   "execution_count": 234,
   "id": "df90e66c-9bf0-4b5f-8333-e593ee6ae1e5",
   "metadata": {},
   "outputs": [
    {
     "name": "stdout",
     "output_type": "stream",
     "text": [
      "<div class=\"entry-body normal clearafter\" data-role=\"content\">\n",
      " <p>\n",
      "  <b>\n",
      "   Tiền đạo Văn Toàn đã có bàn thắng đầu tiên cho CLB Thép Xanh Nam Định sau khi vào sân từ ghế dự bị. Trên trang cá nhân, ngôi sao của ĐT Việt Nam đã ăn mừng chiến tích mới của mình và nhận được nhiều lời chúc mừng từ các đồng nghiệp cũng như người hâm mộ.\n",
      "  </b>\n",
      " </p>\n",
      " <!-- bonewsrelation -->\n",
      " <h2>\n",
      "  Cầu thủ Việt hưởng lương cao nhất V-League 'mở tài khoản' tại Nam Định\n",
      " </h2>\n",
      " <p>\n",
      "  Hành quân đến sân của Bình Phước ở trận ra quân Cúp Quốc gia, CLB Nam Định phải căng mình chống đỡ trong phần lớn thời gian của hiệp 1. Tuy nhiên đến phút 38, tiền đạo Trần Văn Đạt bất ngờ mở tỷ số cho đội khách sau pha dứt điểm cận thành.\n",
      " </p>\n",
      " <p>\n",
      "  Văn Toàn vào sân sau giờ nghỉ. Sự bổ sung trên hàng công giúp Nam Định chiếm lĩnh thế trận. Ngôi sao tấn công của ĐT Việt Nam chỉ mất 2 phút để tỏa sáng nhờ pha xoay sở khéo léo trong vòng vây 3 hậu vệ Bình Phước, trước khi mang về bàn nhân đôi cách biệt.\n",
      " </p>\n",
      " <figure class=\"VCSortableInPreviewMode small-img\" style=\"\" type=\"Photo\">\n",
      "  <div>\n",
      "   [caption id=\"\" align=\"aligncenter\" width=\"800\"]\n",
      "   <img alt=\"Cầu thủ Việt hưởng lương cao nhất V-League 'mở tài khoản' tại Nam Định, trung vệ Duy Mạnh khẳng định 'thời tới rồi' - Ảnh 2.\" class=\"aligncenter\" data-original=\"https://thethaovanhoa.mediacdn.vn/372676912336973824/2023/11/27/van-toan-0-1701054370153368413542.png\" h=\"582\" height=\"400\" id=\"img_653432174000836608\" photoid=\"653432174000836608\" rel=\"lightbox\" src=\"https://thethaovanhoa.mediacdn.vn/372676912336973824/2023/11/27/van-toan-0-1701054370153368413542.png\" style=\"max-width:100%;\" title=\"Cầu thủ Việt hưởng lương cao nhất V-League 'mở tài khoản' tại Nam Định, trung vệ Duy Mạnh khẳng định 'thời tới rồi' - Ảnh 2.\" type=\"photo\" w=\"470\" width=\"800\"/>\n",
      "   Văn Toàn chia sẻ bài đăng sau khi có bàn thắng \"mở tài khoản\" tại Nam Định\n",
      "   [/caption]\n",
      "  </div>\n",
      " </figure>\n",
      " <p>\n",
      "  Bàn thắng giải tỏa rất nhiều áp lực cho cá nhân cựu ngôi sao HAGL. Pha lập công của Văn Toàn giúp Nam Định hoàn tất chiến thắng đậm 4-0. Sau khi trận đấu khép lại, Văn Toàn đã chia sẻ bài viết trên trang cá nhân với dòng trạng thái: \"Bàn thắng đầu tiên\".\n",
      " </p>\n",
      " <figure class=\"VCSortableInPreviewMode small-img noCaption\" style=\"\" type=\"Photo\">\n",
      "  <div>\n",
      "   [caption id=\"\" align=\"aligncenter\" width=\"800\"]\n",
      "   <img alt=\"Cầu thủ Việt hưởng lương cao nhất V-League 'mở tài khoản' tại Nam Định, trung vệ Duy Mạnh khẳng định 'thời tới rồi' - Ảnh 3.\" class=\"aligncenter\" data-original=\"https://thethaovanhoa.mediacdn.vn/372676912336973824/2023/11/27/van-toan-1-17010543196481760452065.png\" h=\"564\" height=\"400\" id=\"img_653431962110021632\" photoid=\"653431962110021632\" rel=\"lightbox\" src=\"https://thethaovanhoa.mediacdn.vn/372676912336973824/2023/11/27/van-toan-1-17010543196481760452065.png\" style=\"max-width:100%;\" title=\"Cầu thủ Việt hưởng lương cao nhất V-League 'mở tài khoản' tại Nam Định, trung vệ Duy Mạnh khẳng định 'thời tới rồi' - Ảnh 3.\" type=\"photo\" w=\"550\" width=\"800\"/>\n",
      "   [/caption]\n",
      "  </div>\n",
      " </figure>\n",
      " <p>\n",
      "  Bài đăng nhận được nhiều lời chúc mừng từ người hâm mộ. Các đồng nghiệp cũng vào chia sẻ niềm vui với Văn Toàn. Nội binh được hưởng lương \"khủng\" nhất V-League mùa này thừa nhận đã gặp may nhưng theo đồng đội ở ĐT Việt Nam là trung vệ Duy Mạnh thì đây là lúc Văn Toàn tỏa sáng.\n",
      " </p>\n",
      " <p>\n",
      "  Ngôi sao thuộc biên chế CLB Hà Nội bình luận hóm hỉnh: \"Thời tới rồi bạn mình\". Có thể nói, đây sẽ là một bàn thắng giải tỏa dành cho Văn Toàn và dù chỉ là ở đấu trường Cúp Quốc gia nhưng nó sẽ giúp ngôi sao Thép Xanh Nam Định tự tin hơn để tìm bàn thắng đầu tiên tại V-League.\n",
      " </p>\n",
      " <div class=\"VCSortableInPreviewMode\" type=\"insertembedcode\">\n",
      " </div>\n",
      " <!-- eonewsrelation -->\n",
      " <!--Mon Nov 27 2023 11:28:33 GMT+0700 (Indochina Time) --  -- Mon Nov 27 2023 11:28:33 GMT+0700 (Indochina Time)-->\n",
      " <i>\n",
      "  Nguồn: thethaovanhoa.vn\n",
      " </i>\n",
      "</div>\n",
      "\n"
     ]
    }
   ],
   "source": [
    "print(test.prettify())"
   ]
  },
  {
   "cell_type": "code",
   "execution_count": 235,
   "id": "2d551ca6-7a9b-49e5-8951-544c20fca0d5",
   "metadata": {},
   "outputs": [
    {
     "data": {
      "text/plain": [
       "<div class=\"entry-body normal clearafter\" data-role=\"content\">\n",
       "<p><b>Tiền đạo Văn Toàn đã có bàn thắng đầu tiên cho CLB Thép Xanh Nam Định sau khi vào sân từ ghế dự bị. Trên trang cá nhân, ngôi sao của ĐT Việt Nam đã ăn mừng chiến tích mới của mình và nhận được nhiều lời chúc mừng từ các đồng nghiệp cũng như người hâm mộ.</b></p><!-- bonewsrelation --><h2>Cầu thủ Việt hưởng lương cao nhất V-League 'mở tài khoản' tại Nam Định</h2><p>Hành quân đến sân của Bình Phước ở trận ra quân Cúp Quốc gia, CLB Nam Định phải căng mình chống đỡ trong phần lớn thời gian của hiệp 1. Tuy nhiên đến phút 38, tiền đạo Trần Văn Đạt bất ngờ mở tỷ số cho đội khách sau pha dứt điểm cận thành.</p><p>Văn Toàn vào sân sau giờ nghỉ. Sự bổ sung trên hàng công giúp Nam Định chiếm lĩnh thế trận. Ngôi sao tấn công của ĐT Việt Nam chỉ mất 2 phút để tỏa sáng nhờ pha xoay sở khéo léo trong vòng vây 3 hậu vệ Bình Phước, trước khi mang về bàn nhân đôi cách biệt.</p><figure class=\"VCSortableInPreviewMode small-img\" style=\"\" type=\"Photo\"><div>[caption id=\"\" align=\"aligncenter\" width=\"800\"]<img alt=\"Cầu thủ Việt hưởng lương cao nhất V-League 'mở tài khoản' tại Nam Định, trung vệ Duy Mạnh khẳng định 'thời tới rồi' - Ảnh 2.\" class=\"aligncenter\" data-original=\"https://thethaovanhoa.mediacdn.vn/372676912336973824/2023/11/27/van-toan-0-1701054370153368413542.png\" h=\"582\" height=\"400\" id=\"img_653432174000836608\" photoid=\"653432174000836608\" rel=\"lightbox\" src=\"https://thethaovanhoa.mediacdn.vn/372676912336973824/2023/11/27/van-toan-0-1701054370153368413542.png\" style=\"max-width:100%;\" title=\"Cầu thủ Việt hưởng lương cao nhất V-League 'mở tài khoản' tại Nam Định, trung vệ Duy Mạnh khẳng định 'thời tới rồi' - Ảnh 2.\" type=\"photo\" w=\"470\" width=\"800\"/>Văn Toàn chia sẻ bài đăng sau khi có bàn thắng \"mở tài khoản\" tại Nam Định[/caption]</div></figure><p>Bàn thắng giải tỏa rất nhiều áp lực cho cá nhân cựu ngôi sao HAGL. Pha lập công của Văn Toàn giúp Nam Định hoàn tất chiến thắng đậm 4-0. Sau khi trận đấu khép lại, Văn Toàn đã chia sẻ bài viết trên trang cá nhân với dòng trạng thái: \"Bàn thắng đầu tiên\".</p><figure class=\"VCSortableInPreviewMode small-img noCaption\" style=\"\" type=\"Photo\"><div>[caption id=\"\" align=\"aligncenter\" width=\"800\"]<img alt=\"Cầu thủ Việt hưởng lương cao nhất V-League 'mở tài khoản' tại Nam Định, trung vệ Duy Mạnh khẳng định 'thời tới rồi' - Ảnh 3.\" class=\"aligncenter\" data-original=\"https://thethaovanhoa.mediacdn.vn/372676912336973824/2023/11/27/van-toan-1-17010543196481760452065.png\" h=\"564\" height=\"400\" id=\"img_653431962110021632\" photoid=\"653431962110021632\" rel=\"lightbox\" src=\"https://thethaovanhoa.mediacdn.vn/372676912336973824/2023/11/27/van-toan-1-17010543196481760452065.png\" style=\"max-width:100%;\" title=\"Cầu thủ Việt hưởng lương cao nhất V-League 'mở tài khoản' tại Nam Định, trung vệ Duy Mạnh khẳng định 'thời tới rồi' - Ảnh 3.\" type=\"photo\" w=\"550\" width=\"800\"/>[/caption]</div></figure><p>Bài đăng nhận được nhiều lời chúc mừng từ người hâm mộ. Các đồng nghiệp cũng vào chia sẻ niềm vui với Văn Toàn. Nội binh được hưởng lương \"khủng\" nhất V-League mùa này thừa nhận đã gặp may nhưng theo đồng đội ở ĐT Việt Nam là trung vệ Duy Mạnh thì đây là lúc Văn Toàn tỏa sáng.</p><p>Ngôi sao thuộc biên chế CLB Hà Nội bình luận hóm hỉnh: \"Thời tới rồi bạn mình\". Có thể nói, đây sẽ là một bàn thắng giải tỏa dành cho Văn Toàn và dù chỉ là ở đấu trường Cúp Quốc gia nhưng nó sẽ giúp ngôi sao Thép Xanh Nam Định tự tin hơn để tìm bàn thắng đầu tiên tại V-League.</p><div class=\"VCSortableInPreviewMode\" type=\"insertembedcode\"></div><!-- eonewsrelation --><!--Mon Nov 27 2023 11:28:33 GMT+0700 (Indochina Time) --  -- Mon Nov 27 2023 11:28:33 GMT+0700 (Indochina Time)-->\n",
       "<i>Nguồn: thethaovanhoa.vn</i></div>"
      ]
     },
     "execution_count": 235,
     "metadata": {},
     "output_type": "execute_result"
    }
   ],
   "source": [
    "test"
   ]
  },
  {
   "cell_type": "code",
   "execution_count": 190,
   "id": "25a654a2-6eb0-4bbc-8a2f-1f3561f2e1a0",
   "metadata": {},
   "outputs": [
    {
     "name": "stdout",
     "output_type": "stream",
     "text": [
      "'NoneType' object has no attribute 'find'\n",
      "'NoneType' object has no attribute 'find'\n",
      "'NoneType' object has no attribute 'find'\n",
      "'NoneType' object has no attribute 'find'\n"
     ]
    },
    {
     "data": {
      "text/plain": [
       "(<div class=\"entry-body normal clearafter\" data-role=\"content\">\n",
       " <p><b>Tin nóng thể thao sáng 24/11: Nữ tuyển thủ bóng chuyền Việt Nam Đinh Thị Trà Giang đang chuẩn bị trở lại Thái Lan vào đầu năm sau để chinh chiến tại giải bóng chuyền VĐQG nước này, trong khi các cầu thủ TP.HCM bất ngờ kêu cứu vì bị nợ lương.</b></p><!-- bonewsrelation --><h2><p>Ngôi sao bóng chuyền Việt Nam trở lại Thái Lan chinh chiến</p></h2><p>Theo một số nguồn tin, nữ tuyển thủ quốc gia Đinh Thị Trà Giang có khả năng sẽ trở lại Thái Lan thi đấu vào đầu năm sau. Phụ công của ĐT bóng chuyền nữ Việt Nam từng thi đấu cho 3BB Nakornnont ở giải bóng chuyền VĐQG Thái Lan hồi đầu năm nay và có màn trình diễn khá ấn tượng.</p><p>Phụ công từng khoác áo Vietinbank lên tuyển lần đầu tiên năm 2009 khi cô mới 17 tuổi. Cùng với những đàn chị như Kim Huệ, Phạm Thị Yến, Nguyễn Thị Ngọc Hoa,… Trà Giang đã từng giành 4 huy chương SEA Games liên tiếp trong giai đoạn 2009-2015 (2 HCB, 2 HCĐ). Trà Giang đã đón sinh nhật lần thứ 31 bằng trận ra quân ở kỳ SEA Games 32, kỳ đại hội thứ 5 trong sự nghiệp của cô nàng.</p><figure class=\"VCSortableInPreviewMode\" style=\"\" type=\"Photo\"><div>[caption id=\"\" align=\"aligncenter\" width=\"800\"]<img alt=\"Tin nóng thể thao sáng 24/11: Ngôi sao bóng chuyền Việt Nam trở lại Thái Lan chinh chiến, cầu thủ TP.HCM bị nợ lương - Ảnh 2.\" class=\"aligncenter\" data-original=\"https://thethaovanhoa.mediacdn.vn/372676912336973824/2023/11/23/tra-giang-1-1700783566272559588819.jpg\" h=\"663\" height=\"400\" id=\"img_652296343181135872\" photoid=\"652296343181135872\" rel=\"lightbox\" src=\"https://thethaovanhoa.mediacdn.vn/thumb_w/650/372676912336973824/2023/11/23/tra-giang-1-1700783566272559588819.jpg\" style=\"max-width:100%;\" title=\"Tin nóng thể thao sáng 24/11: Ngôi sao bóng chuyền Việt Nam trở lại Thái Lan chinh chiến, cầu thủ TP.HCM bị nợ lương - Ảnh 2.\" type=\"photo\" w=\"800\" width=\"800\"/>[/caption]</div></figure><h2>Cầu thủ TP.HCM bị nợ lương</h2><p>Sau khi chia tay HLV Vũ Tiến Thành, CLB TP.HCM trở thành tâm điểm của làng bóng đá Việt Nam trong những ngày vừa qua. Cụ thể, có rất nhiều tin đồn về việc đội chủ sân Thống Nhất sẽ chiêu mộ những HLV đẳng cấp để thay thế ông Vũ Tiến Thành.</p><p>Cùng thời điểm, 24 thành viên của đội chủ sân Thống Nhất đã gửi một bức tâm thư đến các cơ quan chức năng để “đòi nợ”. Bức tâm thư được 24 thành viên của CLB TP.HCM đồng ký tên ngày 23/11 gửi đến Sở VHTT TP.HCM, LĐBĐ Việt Nam, LĐBĐ TP.HCM, Công ty VPF, Công ty CP bóng đá TP.HCM để \"kêu cứu\". Trong bức tâm thư dài 5 trang, các thành viên CLB TP.HCM kể về việc họ bị đội bóng nợ lương, lót tay, thưởng số tiền lên đến 30 tỷ đồng.</p><figure class=\"VCSortableInPreviewMode\" style=\"\" type=\"Photo\"><div><img alt=\"Tin nóng thể thao sáng 24/11: Ngôi sao bóng chuyền Việt Nam trở lại Thái Lan chinh chiến, cầu thủ TP.HCM bị nợ lương - Ảnh 3.\" class=\"aligncenter\" data-original=\"https://thethaovanhoa.mediacdn.vn/372676912336973824/2023/11/23/tphcm-17007836385382071508320.jpg\" h=\"810\" height=\"400\" id=\"img_652296646840356864\" photoid=\"652296646840356864\" rel=\"lightbox\" src=\"https://thethaovanhoa.mediacdn.vn/thumb_w/650/372676912336973824/2023/11/23/tphcm-17007836385382071508320.jpg\" style=\"max-width:100%;\" title=\"Tin nóng thể thao sáng 24/11: Ngôi sao bóng chuyền Việt Nam trở lại Thái Lan chinh chiến, cầu thủ TP.HCM bị nợ lương - Ảnh 3.\" type=\"photo\" w=\"1440\" width=\"800\"/></div></figure><h2>HLV Polking bị sa thải vì trận thua Trung Quốc </h2><p>Theo trưởng đoàn Nualphan Lamsam, HLV Mano Polking từng được tin tưởng, nhưng thất bại trước Trung Quốc khiến bà và LĐBĐ Thái Lan (FAT) phải thay đổi, vì mục tiêu đưa Thái Lan dự World Cup.</p><p>HLV Polking đáng lẽ bị sa thải từ tháng 9 khi Thái Lan vuột King’s Cup vào tay Iraq. Lúc đó, HLV Masatada Ishii đã sẵn sàng thay thế, nhưng cuối cùng, bà Nualphan và các cầu thủ Thái Lan vẫn tin tưởng HLV Polking. Tuy nhiên, trận thua ngược Trung Quốc 1-2 ở vòng loại hai World Cup 2026 khiến quan điểm của đội tuyển cũng như FAT với ông Polking thay đổi.</p><figure class=\"VCSortableInPreviewMode\" style=\"\" type=\"Photo\"><div><img alt=\"Tin nóng thể thao sáng 24/11: Ngôi sao bóng chuyền Việt Nam trở lại Thái Lan chinh chiến, cầu thủ TP.HCM bị nợ lương - Ảnh 4.\" class=\"aligncenter\" data-original=\"https://thethaovanhoa.mediacdn.vn/372676912336973824/2023/11/23/thai-lan-17007836726941913428839.jpg\" h=\"440\" height=\"400\" id=\"img_652296789790625792\" photoid=\"652296789790625792\" rel=\"lightbox\" src=\"https://thethaovanhoa.mediacdn.vn/thumb_w/650/372676912336973824/2023/11/23/thai-lan-17007836726941913428839.jpg\" style=\"max-width:100%;\" title=\"Tin nóng thể thao sáng 24/11: Ngôi sao bóng chuyền Việt Nam trở lại Thái Lan chinh chiến, cầu thủ TP.HCM bị nợ lương - Ảnh 4.\" type=\"photo\" w=\"660\" width=\"800\"/></div></figure><h2><b>Huỳnh Như trấn an người hâm mộ sau chấn thương</b></h2><p>Trên trang fanpage cá nhân, nữ tuyển thủ Việt Nam Huỳnh Như đã đăng tải bức ảnh vừa hoàn thành bài tập hồi phục cùng trợ lý HLV riêng tại Lank FC. Tiền đạo sinh năm 1991 nở nụ cười rạng rỡ kèm dòng chú thích: \"Cảm ơn tình cảm của mọi người nhiều lắm, Như sắp \"ngon\" lại rồi\".</p><p>Trạng thái mới của Huỳnh Như khiến người hâm mộ không khỏi vui mừng. Điều này cho thấy chấn thương của cô đang tiến triển tốt và nhiều khả năng sớm bình phục. Hôm 18/11 vừa qua, tiền đạo Huỳnh Như đã trở lại đội hình xuất phát của Lank FC, trong màn đọ sức Albergaria ở vòng 7 giải VĐQG nữ Bồ Đào Nha 2023/24 (Liga BPI).</p><p>Đáng tiếc, chân sút quê Trà Vinh lại gặp \"vận đen\" ở trận đấu này khi dính chấn thương và phải rời sân từ phút 58. Thiếu Huỳnh Như, Lank FC đã để thua ngược 1-2 đáng tiếc ngay trên sân nhà.</p><figure class=\"VCSortableInPreviewMode small-img\" style=\"\" type=\"Photo\"><div><img alt=\"Tin nóng thể thao sáng 24/11: Ngôi sao bóng chuyền Việt Nam trở lại Thái Lan chinh chiến, cầu thủ TP.HCM bị nợ lương - Ảnh 5.\" class=\"aligncenter\" data-original=\"https://thethaovanhoa.mediacdn.vn/372676912336973824/2023/11/23/huynh-nhu-17007837206991359899772.jpg\" h=\"395\" height=\"400\" id=\"img_652296989356929024\" photoid=\"652296989356929024\" rel=\"lightbox\" src=\"https://thethaovanhoa.mediacdn.vn/372676912336973824/2023/11/23/huynh-nhu-17007837206991359899772.jpg\" style=\"max-width:100%;\" title=\"Tin nóng thể thao sáng 24/11: Ngôi sao bóng chuyền Việt Nam trở lại Thái Lan chinh chiến, cầu thủ TP.HCM bị nợ lương - Ảnh 5.\" type=\"photo\" w=\"456\" width=\"800\"/></div></figure><h2>AFF có quyết định khiến ĐT Việt Nam gặp bất lợi</h2><p>Mới đây, LĐBĐ Đông Nam Á (AFF) vừa có quyết định bước ngoặt khi đổi tên danh giá cấp khu vực. Cụ thể, giải Vô địch bóng đá nam Đông Nam Á 2024 sẽ có tên gọi mới là: ASEAN Mitsubishi Electric Cup, thay cho tên gọi AFF Mitsubishi Electric Cup (AFF Cup) trước đó.</p><p>Theo kế hoạch, ASEAN Mitsubishi Electric Cup 2024 (ASEAN Cup 2024) sẽ được tổ chức từ 23/11 đến 21/12/2024 với thể thức sân nhà – sân khách.</p><p>Đáng chú ý, đây nhiều khả năng sẽ là bất lợi với ĐT Việt Nam trong quá trình chuẩn bị, đặc biệt là tuyển chọn nhân sự do thời điểm diễn ra ASEAN Cup 2024 trùng với V-League.</p><figure class=\"VCSortableInPreviewMode small-img\" style=\"\" type=\"Photo\"><div><img alt=\"Tin nóng thể thao sáng 24/11: Ngôi sao bóng chuyền Việt Nam trở lại Thái Lan chinh chiến, cầu thủ TP.HCM bị nợ lương - Ảnh 6.\" class=\"aligncenter\" data-original=\"https://thethaovanhoa.mediacdn.vn/372676912336973824/2023/11/23/dtvn-17007838164671734811770.png\" h=\"400\" height=\"400\" id=\"img_652297395852525568\" photoid=\"652297395852525568\" rel=\"lightbox\" src=\"https://thethaovanhoa.mediacdn.vn/372676912336973824/2023/11/23/dtvn-17007838164671734811770.png\" style=\"max-width:100%;\" title=\"Tin nóng thể thao sáng 24/11: Ngôi sao bóng chuyền Việt Nam trở lại Thái Lan chinh chiến, cầu thủ TP.HCM bị nợ lương - Ảnh 6.\" type=\"photo\" w=\"600\" width=\"800\"/>Trà Giang sẽ lại có cơ hội chinh chiến tại giải VĐQG Thái Lan</div></figure><!-- eonewsrelation --><!--Fri Nov 24 2023 07:16:18 GMT+0700 (GMT+07:00) --  -- Fri Nov 24 2023 07:16:18 GMT+0700 (GMT+07:00)-->\n",
       " <i>Nguồn: thethaovanhoa.vn</i></div>,\n",
       " 'Tin nóng thể thao sáng 24/11: Ngôi sao bóng chuyền Việt Nam trở lại Thái Lan chinh chiến, cầu thủ TP.HCM bị nợ lương',\n",
       " '2023-11-24')"
      ]
     },
     "execution_count": 190,
     "metadata": {},
     "output_type": "execute_result"
    }
   ],
   "source": [
    "get_content_thethaovanhoa('https://thethaovanhoa.vn/tin-nong-the-thao-sang-24-11-ngoi-sao-bong-chuyen-viet-nam-tro-lai-thai-lan-chinh-chien-cau-thu-tphcm-bi-no-luong-20231124070041296.htm')"
   ]
  },
  {
   "cell_type": "code",
   "execution_count": 167,
   "id": "0aa37140-8713-4ff6-a7d7-ab1a2edca6df",
   "metadata": {},
   "outputs": [],
   "source": [
    "response = requests.get('https://thethaovanhoa.vn/tin-nong-the-thao-sang-24-11-ngoi-sao-bong-chuyen-viet-nam-tro-lai-thai-lan-chinh-chien-cau-thu-tphcm-bi-no-luong-20231124070041296.htm')\n",
    "soup = BeautifulSoup(response.content, 'html.parser')\n",
    "wrapper = soup.find('div', class_ = \"col780 left clearafter\")\n",
    "title = wrapper.find('h1').text.strip()\n",
    "date_str = wrapper.find('p',class_ ='news-time left').text\n",
    "published_date = convert_string(date_str)\n",
    "article = soup.find('div', class_ =\"entry-body normal clearafter\")\n",
    "#bottom_div = article.find_all(recursive = True)[-4:]\n",
    "#for i in bottom_div:\n",
    "    #i.decompose()\n",
    "try:\n",
    "    preview_div = article.find_all('div', class_ ='VCSortableInPreviewMode alignCenter type-7_preview')\n",
    "except AttributeError as e:\n",
    "    print(e)\n",
    "    \n",
    "for i in preview_div:\n",
    "    i.decompose()\n",
    "try:\n",
    "    readmore_div = article.find('div', class_ ='VCSortableInPreviewMode link-content-footer')\n",
    "    readmore_div.decompose()\n",
    "except AttributeError as e:\n",
    "    print(e)\n",
    "captions = soup.find_all('figcaption', class_ = \"PhotoCMS_Caption\", recursive = True)\n"
   ]
  },
  {
   "cell_type": "code",
   "execution_count": 168,
   "id": "4dce75f8-fce4-4f8d-a7dc-a043532db7a3",
   "metadata": {},
   "outputs": [
    {
     "name": "stdout",
     "output_type": "stream",
     "text": [
      "<figcaption class=\"PhotoCMS_Caption\"><p class=\"\" data-placeholder=\"[Nhập chú thích ảnh]\">Trà Giang sẽ lại có cơ hội chinh chiến tại giải VĐQG Thái Lan</p></figcaption>\n",
      "<figcaption class=\"PhotoCMS_Caption\"><p class=\"\" data-placeholder=\"[Nhập chú thích ảnh]\">TP.HCM vướng lùm xùm nợ lương</p></figcaption>\n",
      "<figcaption class=\"PhotoCMS_Caption\"><p class=\"\" data-placeholder=\"[Nhập chú thích ảnh]\">HLV Polking bị sa thải vì Thái Lan thua ngược Trung Quốc</p></figcaption>\n",
      "<figcaption class=\"PhotoCMS_Caption\"><p class=\"\" data-placeholder=\"[Nhập chú thích ảnh]\">Huỳnh Như dính chấn thương ở trận đấu mới nhất của Lank FC</p></figcaption>\n",
      "<figcaption class=\"PhotoCMS_Caption\"><p class=\"\" data-placeholder=\"[Nhập chú thích ảnh]\">ĐT Việt Nam gặp bất lợi sau phán quyết từ AFF</p></figcaption>\n"
     ]
    }
   ],
   "source": [
    "for caption in captions:\n",
    "    print(caption)\n",
    "    "
   ]
  },
  {
   "cell_type": "code",
   "execution_count": 169,
   "id": "10bf843d-bfa4-49f3-8caa-701b57b264e5",
   "metadata": {},
   "outputs": [],
   "source": [
    "def get_content(url):\n",
    "    response = requests.get(url)\n",
    "    soup = BeautifulSoup(response.content, 'html.parser')\n",
    "    wrapper = soup.find('div', class_ = \"col780 left clearafter\")\n",
    "    title = wrapper.find('h1').text.strip()\n",
    "    date_str = wrapper.find('p',class_ ='news-time left').text\n",
    "    published_date = convert_string(date_str)\n",
    "    article = soup.find('div', class_ =\"entry-body normal clearafter\")\n",
    "    #bottom_div = article.find_all(recursive = True)[-2:]\n",
    "   # for i in bottom_div:\n",
    "        #i.decompose()\n",
    "    try:\n",
    "        preview_div = article.find_all('div', class_ ='VCSortableInPreviewMode alignCenter type-7_preview')\n",
    "    except AttributeError as e:\n",
    "        print(e)\n",
    "        \n",
    "    for i in preview_div:\n",
    "        i.decompose()\n",
    "    try:\n",
    "        readmore_div = article.find('div', class_ ='VCSortableInPreviewMode link-content-footer')\n",
    "        readmore_div.decompose()\n",
    "    except AttributeError as e:\n",
    "        print(e)\n",
    "    figures = article.find_all('figure', class_ = \"VCSortableInPreviewMode\")\n",
    "    for figure in figures:\n",
    "        img = figure.find('img')\n",
    "        img['class'] = \"aligncenter\"\n",
    "        img['width'] = 800\n",
    "        img['height'] = 400\n",
    "        caption = figure.find('figcaption', class_=\"PhotoCMS_Caption\")\n",
    "        print(caption)\n",
    "         \n",
    "        caption_start = NavigableString(\"[caption id=\\\"\\\" align=\\\"aligncenter\\\" width=\\\"800\\\"]\")\n",
    "        caption_text = NavigableString(str(caption))\n",
    "        caption_end = NavigableString(\"[/caption]\")\n",
    "        #caption_text_list[i].decompose()c\n",
    "        # Insert the custom tags and caption text around the <img> tag\n",
    "        img.insert_before(caption_start)\n",
    "        img.insert_after(caption_end)\n",
    "        \n",
    "    \n",
    "    return article\n"
   ]
  },
  {
   "cell_type": "code",
   "execution_count": 173,
   "id": "303d5a49-2f2c-4651-9f6b-49aefc774c52",
   "metadata": {},
   "outputs": [
    {
     "name": "stdout",
     "output_type": "stream",
     "text": [
      "<figcaption class=\"PhotoCMS_Caption\"><p class=\"\" data-placeholder=\"[Nhập chú thích ảnh]\">Văn Toàn chia sẻ bài đăng sau khi có bàn thắng \"mở tài khoản\" tại Nam Định</p></figcaption>\n",
      "<figcaption class=\"PhotoCMS_Caption\"><p class=\"NLPlaceholderShow\" data-placeholder=\"[Nhập chú thích ảnh]\"></p></figcaption>\n"
     ]
    }
   ],
   "source": [
    "article = get_content('https://thethaovanhoa.vn/cau-thu-viet-huong-luong-cao-nhat-v-league-mo-tai-khoan-tai-nam-dinh-trung-ve-duy-manh-khang-dinh-thoi-toi-roi-20231127100957721.htm')"
   ]
  },
  {
   "cell_type": "code",
   "execution_count": 171,
   "id": "dc595a6e-4876-45c2-9667-fd560d7c4c39",
   "metadata": {},
   "outputs": [
    {
     "data": {
      "text/plain": [
       "<figure class=\"VCSortableInPreviewMode small-img\" style=\"\" type=\"Photo\"><div>[caption id=\"\" align=\"aligncenter\" width=\"800\"]<img alt=\"Tin nóng thể thao sáng 24/11: Ngôi sao bóng chuyền Việt Nam trở lại Thái Lan chinh chiến, cầu thủ TP.HCM bị nợ lương - Ảnh 6.\" class=\"aligncenter\" data-original=\"https://thethaovanhoa.mediacdn.vn/372676912336973824/2023/11/23/dtvn-17007838164671734811770.png\" h=\"400\" height=\"400\" id=\"img_652297395852525568\" photoid=\"652297395852525568\" rel=\"lightbox\" src=\"https://thethaovanhoa.mediacdn.vn/372676912336973824/2023/11/23/dtvn-17007838164671734811770.png\" style=\"max-width:100%;\" title=\"Tin nóng thể thao sáng 24/11: Ngôi sao bóng chuyền Việt Nam trở lại Thái Lan chinh chiến, cầu thủ TP.HCM bị nợ lương - Ảnh 6.\" type=\"photo\" w=\"600\" width=\"800\"/>[/caption]</div><figcaption class=\"PhotoCMS_Caption\"><p class=\"\" data-placeholder=\"[Nhập chú thích ảnh]\">ĐT Việt Nam gặp bất lợi sau phán quyết từ AFF</p></figcaption></figure>"
      ]
     },
     "execution_count": 171,
     "metadata": {},
     "output_type": "execute_result"
    }
   ],
   "source": [
    "article.find_all('figure', class_ = \"VCSortableInPreviewMode\")[4]"
   ]
  },
  {
   "cell_type": "code",
   "execution_count": 174,
   "id": "c8142fb8-15c1-4730-865e-63e60a89019c",
   "metadata": {},
   "outputs": [
    {
     "data": {
      "text/plain": [
       "<div class=\"entry-body normal clearafter\" data-role=\"content\">\n",
       "<p><b>Tiền đạo Văn Toàn đã có bàn thắng đầu tiên cho CLB Thép Xanh Nam Định sau khi vào sân từ ghế dự bị. Trên trang cá nhân, ngôi sao của ĐT Việt Nam đã ăn mừng chiến tích mới của mình và nhận được nhiều lời chúc mừng từ các đồng nghiệp cũng như người hâm mộ.</b></p><!-- bonewsrelation --><h2>Cầu thủ Việt hưởng lương cao nhất V-League 'mở tài khoản' tại Nam Định</h2><p>Hành quân đến sân của Bình Phước ở trận ra quân Cúp Quốc gia, CLB Nam Định phải căng mình chống đỡ trong phần lớn thời gian của hiệp 1. Tuy nhiên đến phút 38, tiền đạo Trần Văn Đạt bất ngờ mở tỷ số cho đội khách sau pha dứt điểm cận thành.</p><p>Văn Toàn vào sân sau giờ nghỉ. Sự bổ sung trên hàng công giúp Nam Định chiếm lĩnh thế trận. Ngôi sao tấn công của ĐT Việt Nam chỉ mất 2 phút để tỏa sáng nhờ pha xoay sở khéo léo trong vòng vây 3 hậu vệ Bình Phước, trước khi mang về bàn nhân đôi cách biệt.</p><figure class=\"VCSortableInPreviewMode small-img\" style=\"\" type=\"Photo\"><div>[caption id=\"\" align=\"aligncenter\" width=\"800\"]<img alt=\"Cầu thủ Việt hưởng lương cao nhất V-League 'mở tài khoản' tại Nam Định, trung vệ Duy Mạnh khẳng định 'thời tới rồi' - Ảnh 2.\" class=\"aligncenter\" data-original=\"https://thethaovanhoa.mediacdn.vn/372676912336973824/2023/11/27/van-toan-0-1701054370153368413542.png\" h=\"582\" height=\"400\" id=\"img_653432174000836608\" photoid=\"653432174000836608\" rel=\"lightbox\" src=\"https://thethaovanhoa.mediacdn.vn/372676912336973824/2023/11/27/van-toan-0-1701054370153368413542.png\" style=\"max-width:100%;\" title=\"Cầu thủ Việt hưởng lương cao nhất V-League 'mở tài khoản' tại Nam Định, trung vệ Duy Mạnh khẳng định 'thời tới rồi' - Ảnh 2.\" type=\"photo\" w=\"470\" width=\"800\"/>[/caption]</div><figcaption class=\"PhotoCMS_Caption\"><p class=\"\" data-placeholder=\"[Nhập chú thích ảnh]\">Văn Toàn chia sẻ bài đăng sau khi có bàn thắng \"mở tài khoản\" tại Nam Định</p></figcaption></figure><p>Bàn thắng giải tỏa rất nhiều áp lực cho cá nhân cựu ngôi sao HAGL. Pha lập công của Văn Toàn giúp Nam Định hoàn tất chiến thắng đậm 4-0. Sau khi trận đấu khép lại, Văn Toàn đã chia sẻ bài viết trên trang cá nhân với dòng trạng thái: \"Bàn thắng đầu tiên\".</p><figure class=\"VCSortableInPreviewMode small-img noCaption\" style=\"\" type=\"Photo\"><div>[caption id=\"\" align=\"aligncenter\" width=\"800\"]<img alt=\"Cầu thủ Việt hưởng lương cao nhất V-League 'mở tài khoản' tại Nam Định, trung vệ Duy Mạnh khẳng định 'thời tới rồi' - Ảnh 3.\" class=\"aligncenter\" data-original=\"https://thethaovanhoa.mediacdn.vn/372676912336973824/2023/11/27/van-toan-1-17010543196481760452065.png\" h=\"564\" height=\"400\" id=\"img_653431962110021632\" photoid=\"653431962110021632\" rel=\"lightbox\" src=\"https://thethaovanhoa.mediacdn.vn/372676912336973824/2023/11/27/van-toan-1-17010543196481760452065.png\" style=\"max-width:100%;\" title=\"Cầu thủ Việt hưởng lương cao nhất V-League 'mở tài khoản' tại Nam Định, trung vệ Duy Mạnh khẳng định 'thời tới rồi' - Ảnh 3.\" type=\"photo\" w=\"550\" width=\"800\"/>[/caption]</div><figcaption class=\"PhotoCMS_Caption\"><p class=\"NLPlaceholderShow\" data-placeholder=\"[Nhập chú thích ảnh]\"></p></figcaption></figure><p>Bài đăng nhận được nhiều lời chúc mừng từ người hâm mộ. Các đồng nghiệp cũng vào chia sẻ niềm vui với Văn Toàn. Nội binh được hưởng lương \"khủng\" nhất V-League mùa này thừa nhận đã gặp may nhưng theo đồng đội ở ĐT Việt Nam là trung vệ Duy Mạnh thì đây là lúc Văn Toàn tỏa sáng.</p><p>Ngôi sao thuộc biên chế CLB Hà Nội bình luận hóm hỉnh: \"Thời tới rồi bạn mình\". Có thể nói, đây sẽ là một bàn thắng giải tỏa dành cho Văn Toàn và dù chỉ là ở đấu trường Cúp Quốc gia nhưng nó sẽ giúp ngôi sao Thép Xanh Nam Định tự tin hơn để tìm bàn thắng đầu tiên tại V-League.</p><div class=\"VCSortableInPreviewMode\" type=\"insertembedcode\"><iframe allow=\"accelerometer; autoplay; clipboard-write; encrypted-media; gyroscope; picture-in-picture; web-share\" allowfullscreen=\"\" frameborder=\"0\" height=\"360\" src=\"https://www.youtube.com/embed/uFLJ31d6E1k\" title=\"Highlights: Bình Phước - Nam Định | Chênh lệch đẳng cấp, sức ép kinh hoàng, đại tiệc 4 bàn tưng bừng\" width=\"640\"></iframe></div><!-- eonewsrelation --><!--Mon Nov 27 2023 11:28:33 GMT+0700 (Indochina Time) --  -- Mon Nov 27 2023 11:28:33 GMT+0700 (Indochina Time)-->\n",
       "</div>"
      ]
     },
     "execution_count": 174,
     "metadata": {},
     "output_type": "execute_result"
    }
   ],
   "source": [
    "article"
   ]
  },
  {
   "cell_type": "code",
   "execution_count": null,
   "id": "c0f88216-3580-4fe3-b50b-ea7f3100ee02",
   "metadata": {},
   "outputs": [],
   "source": []
  }
 ],
 "metadata": {
  "kernelspec": {
   "display_name": "Python 3 (ipykernel)",
   "language": "python",
   "name": "python3"
  },
  "language_info": {
   "codemirror_mode": {
    "name": "ipython",
    "version": 3
   },
   "file_extension": ".py",
   "mimetype": "text/x-python",
   "name": "python",
   "nbconvert_exporter": "python",
   "pygments_lexer": "ipython3",
   "version": "3.11.5"
  }
 },
 "nbformat": 4,
 "nbformat_minor": 5
}
