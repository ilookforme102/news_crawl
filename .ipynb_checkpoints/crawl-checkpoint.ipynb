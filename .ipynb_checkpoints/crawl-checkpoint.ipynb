{
 "cells": [
  {
   "cell_type": "code",
   "execution_count": 1,
   "id": "6e068fc3-cb05-4371-9c56-72880ff22dd0",
   "metadata": {},
   "outputs": [],
   "source": [
    "import requests \n",
    "import time\n",
    "import undetected_chromedriver as uc\n",
    "from selenium.webdriver.common.by import By\n",
    "import re\n",
    "from selenium.common.exceptions import NoSuchElementException,TimeoutException,ElementClickInterceptedException\n",
    "\n",
    "from selenium.webdriver.common.action_chains import ActionChains\n",
    "from selenium.webdriver.support.ui import WebDriverWait\n",
    "from selenium.webdriver.support import expected_conditions as EC\n",
    "from datetime import datetime\n"
   ]
  },
  {
   "cell_type": "code",
   "execution_count": 2,
   "id": "a2771d8f-7dfc-4ec8-8dd8-084e493fb4d9",
   "metadata": {},
   "outputs": [],
   "source": [
    "_kenh14 = {\n",
    "        \"home_page\":\"https://kenh14.vn/\",\n",
    "        \"urls\":{\n",
    "            \"sport\":\n",
    "            {\n",
    "             \"url\":\"https://kenh14.vn/sport.chn\",\n",
    "             \"sub-category\":{\n",
    "                0:{\n",
    "                    \"name\":\"Bóng đá\",\n",
    "                     \"url\":\"https://kenh14.vn/sport/bong-da.chn\",\n",
    "                     \"url_list\" : []},\n",
    "                1:{\"name\":\"Hậu trường\",\n",
    "                 \"url\":\"https://kenh14.vn/sport/hau-truong.chn\",\n",
    "                  \"url_list\" : []},\n",
    "                2:{\"name\":\"Esports\",\n",
    "                 \"url\":\"https://kenh14.vn/sport/esports.chn\",\n",
    "                  \"url_list\" : []}\n",
    "             }\n",
    "            }\n",
    "        }\n",
    "    }"
   ]
  },
  {
   "cell_type": "code",
   "execution_count": 11,
   "id": "ce7cd4cd-d00c-4157-82a8-5e009c8b66b0",
   "metadata": {},
   "outputs": [],
   "source": [
    "driver = uc.Chrome(headless = True, use_subprocess=False,version_main=119)\n"
   ]
  },
  {
   "cell_type": "code",
   "execution_count": 3,
   "id": "16babb97-5dc3-4f3d-bfe6-2dc91a9e6296",
   "metadata": {},
   "outputs": [],
   "source": [
    "#list(_kenh14['urls']['sport']['sub-category'].keys())"
   ]
  },
  {
   "cell_type": "code",
   "execution_count": 4,
   "id": "bdb7a261-ab34-4276-abb7-2b305975bec2",
   "metadata": {},
   "outputs": [],
   "source": [
    "#driver = uc.Chrome(headless = True, use_subprocess=False,version_main=119)#, user_data_dir = \"c:\\temp\\profile\")#, version_main=117)\n",
    "\n",
    "#title = soup.find('title').get_text()\n",
    "#print(\"Title of the webpage:\", title)\n",
    "#lastPage > div.view-more-detail.clearboth\n",
    "#lastPage > div.view-more-detail.clearboth > a"
   ]
  },
  {
   "cell_type": "code",
   "execution_count": 12,
   "id": "f238eb39-7d36-4372-8751-6509865ca448",
   "metadata": {},
   "outputs": [],
   "source": [
    "def is_element_exist(driver):\n",
    "    try:\n",
    "        driver.find_element(By.CLASS_NAME, 'view-more-detail.clearboth').find_element(By.TAG_NAME,'a')\n",
    "        return True\n",
    "    except NoSuchElementException:\n",
    "        return False"
   ]
  },
  {
   "cell_type": "code",
   "execution_count": 13,
   "id": "966840dd-2a85-4c1f-b4c3-a6163ef8d852",
   "metadata": {},
   "outputs": [],
   "source": [
    "def is_element_display():\n",
    "    return driver.find_element(By.CLASS_NAME, 'view-more-detail.clearboth').find_element(By.TAG_NAME,'a').is_displayed()\n",
    "        "
   ]
  },
  {
   "cell_type": "code",
   "execution_count": 14,
   "id": "86742f80-5f6e-453b-844b-edac0fa9bdef",
   "metadata": {},
   "outputs": [],
   "source": [
    "#see_more_btn = driver.find_element(By.CLASS_NAME, 'view-more-detail.clearboth').find_element(By.TAG_NAME,'a')\n",
    "#is_element_exist(driver)"
   ]
  },
  {
   "cell_type": "code",
   "execution_count": 77,
   "id": "9ed56754-eef1-4d95-84dc-55fce163c1db",
   "metadata": {},
   "outputs": [
    {
     "data": {
      "text/plain": [
       "True"
      ]
     },
     "execution_count": 77,
     "metadata": {},
     "output_type": "execute_result"
    }
   ],
   "source": [
    "is_element_exist(driver)"
   ]
  },
  {
   "cell_type": "code",
   "execution_count": 17,
   "id": "d64b22fa-2e0d-4563-a92d-8fd6ae6de227",
   "metadata": {},
   "outputs": [],
   "source": [
    "\n",
    "def smooth_scroll_to_bottom(delay):\n",
    "    last_height = driver.execute_script(\"return document.body.scrollHeight\")\n",
    "\n",
    "    while True:\n",
    "        # Scroll down to the bottom.\n",
    "        driver.execute_script(\"window.scrollTo(0, document.body.scrollHeight);\")\n",
    "\n",
    "        # Wait for the page to load.\n",
    "        time.sleep(delay)\n",
    "\n",
    "        # Calculate new scroll height and compare with last scroll height.\n",
    "        new_height = driver.execute_script(\"return document.body.scrollHeight\")\n",
    "        if new_height == last_height:\n",
    "            break\n",
    "        last_height = new_height"
   ]
  },
  {
   "cell_type": "code",
   "execution_count": 97,
   "id": "17b92edd-b9f9-4862-a7a9-261e87cf6eea",
   "metadata": {},
   "outputs": [],
   "source": [
    "def readmore_click():\n",
    "    crawled_date = datetime.fromtimestamp(time.time())\n",
    "    while is_element_display()==False:\n",
    "        smooth_scroll_to_bottom(delay=3)\n",
    "        warapper = driver.find_element(By.CLASS_NAME,'kbwcb-left-wrapper')\n",
    "        last_post_date_string = warapper.find_elements(By.CLASS_NAME,'knswli-time')[-1].get_attribute('title')\n",
    "        datetime_obj = datetime.fromisoformat(last_post_date_string)\n",
    "        if is_element_display():\n",
    "            if datetime_obj >= crawled_date:\n",
    "                driver.find_element(By.CLASS_NAME, 'view-more-detail.clearboth').find_element(By.TAG_NAME,'a').click()\n",
    "            else:\n",
    "                break\n",
    "     "
   ]
  },
  {
   "cell_type": "code",
   "execution_count": 95,
   "id": "fd567840-c9a9-417f-970e-b03908e9dd08",
   "metadata": {},
   "outputs": [],
   "source": [
    "#filter \n",
    "def get_url_list(category_url):\n",
    "    driver = uc.Chrome(headless =  True, use_subprocess=False,version_main=119)\n",
    "    driver.get(category_url)\n",
    "    crawled_date = datetime.fromtimestamp(time.time())\n",
    "    url_list = []\n",
    "    readmore_click()\n",
    "    warapper  = driver.find_element(By.CLASS_NAME,'kbwcb-left-wrapper')\n",
    "    list_elements = warapper.find_elements(By.CLASS_NAME,'knswli-right')\n",
    "    for i in range(0,len(warapper.find_elements(By.CLASS_NAME,'knswli-time'))):\n",
    "        if (datetime.fromisoformat(\n",
    "            driver.find_elements(By.CLASS_NAME,'knswli-time')[i].get_attribute('title')).day == crawled_date.day\n",
    "            and datetime.fromisoformat(driver.find_elements(By.CLASS_NAME,'knswli-time')[i].get_attribute('title')).month == crawled_date.month\n",
    "            and datetime.fromisoformat(driver.find_elements(By.CLASS_NAME,'knswli-time')[i].get_attribute('title')).year == crawled_date.year) :\n",
    "            url = list_elements[i].find_element(By.TAG_NAME,'h3').find_element(By.TAG_NAME,'a').get_attribute('href')\n",
    "            if url not in url_list:\n",
    "                url_list.append(url)\n",
    "                print(url)\n",
    "    return url_list"
   ]
  },
  {
   "cell_type": "code",
   "execution_count": 63,
   "id": "5fe99f4d-6a48-49c8-b299-afc3d3044fe5",
   "metadata": {},
   "outputs": [
    {
     "name": "stdout",
     "output_type": "stream",
     "text": [
      "https://kenh14.vn/truong-cao-minh-phat-gianh-dai-wbc-muay-thai-the-gioi-lich-su-huynh-hoang-phi-chien-thang-an-tuong-20231120103118015.chn\n",
      "https://kenh14.vn/xac-dinh-17-24-doi-bong-gianh-ve-du-vck-euro-2024-20231120093416515.chn\n",
      "https://kenh14.vn/tuyen-iraq-dat-phong-do-an-tuong-truoc-tran-gap-tuyen-viet-nam-20231120063245716.chn\n",
      "https://kenh14.vn/doi-tuyen-viet-nam-cach-nao-danh-bai-iraq-20231120063547411.chn\n"
     ]
    }
   ],
   "source": [
    "driver = uc.Chrome(use_subprocess=False,version_main=119)\n",
    "driver.get('https://kenh14.vn/sport/bong-da.chn')\n",
    "url_list = []\n",
    "crawled_date = datetime.fromtimestamp(time.time())\n",
    "smooth_scroll_to_bottom(4)\n",
    "warapper  = driver.find_element(By.CLASS_NAME,'kbwcb-left-wrapper')\n",
    "list_elements = warapper.find_elements(By.CLASS_NAME,'knswli-right')\n",
    "for i in range(0,len(warapper.find_elements(By.CLASS_NAME,'knswli-time'))):\n",
    "    if (datetime.fromisoformat(driver.find_elements(By.CLASS_NAME,'knswli-time')[i].get_attribute('title')).day == crawled_date.day and datetime.fromisoformat(driver.find_elements(By.CLASS_NAME,'knswli-time')[i].get_attribute('title')).month == crawled_date.month and datetime.fromisoformat(driver.find_elements(By.CLASS_NAME,'knswli-time')[i].get_attribute('title')).year == crawled_date.year) :\n",
    "        src = list_elements[i].find_element(By.TAG_NAME,'h3').find_element(By.TAG_NAME,'a').get_attribute('href')\n",
    "        url = src \n",
    "        print(url)\n",
    "        url_list.append(url)\n",
    "        "
   ]
  },
  {
   "cell_type": "code",
   "execution_count": 226,
   "id": "0027791a-b97e-4501-b812-419fe2d75e4c",
   "metadata": {},
   "outputs": [],
   "source": [
    "#driver.get('https://kenh14.vn/sport/bong-da.chn')"
   ]
  },
  {
   "cell_type": "code",
   "execution_count": 65,
   "id": "e5e86f88-5628-40ed-bc10-f935d46bd799",
   "metadata": {},
   "outputs": [],
   "source": [
    "#driver = uc.Chrome(use_subprocess=False,version_main=119)\n",
    "#driver.get('https://kenh14.vn/sport/bong-da.chn')"
   ]
  },
  {
   "cell_type": "code",
   "execution_count": 78,
   "id": "c31bd0ef-4fab-4d76-b0d7-eeb410fcbc5c",
   "metadata": {},
   "outputs": [],
   "source": [
    "warapper = driver.find_element(By.CLASS_NAME,'kbwcb-left-wrapper')\n",
    "last_post_date_string = warapper.find_elements(By.CLASS_NAME,'knswli-time')[-1].get_attribute('title')"
   ]
  },
  {
   "cell_type": "code",
   "execution_count": 92,
   "id": "26afe53e-ec6a-4409-8996-daa8b27f7a4f",
   "metadata": {},
   "outputs": [],
   "source": [
    "warapper  = driver.find_element(By.CLASS_NAME,'kbwcb-left-wrapper')\n",
    "list_elements = warapper.find_elements(By.CLASS_NAME,'knswli-right')"
   ]
  },
  {
   "cell_type": "code",
   "execution_count": 94,
   "id": "44e84a8e-60fb-4405-8946-d2aa95e7d3cc",
   "metadata": {},
   "outputs": [
    {
     "data": {
      "text/plain": [
       "'https://kenh14.vn/truong-cao-minh-phat-gianh-dai-wbc-muay-thai-the-gioi-lich-su-huynh-hoang-phi-chien-thang-an-tuong-20231120103118015.chn'"
      ]
     },
     "execution_count": 94,
     "metadata": {},
     "output_type": "execute_result"
    }
   ],
   "source": [
    "list_elements[2].find_element(By.TAG_NAME,'h3').find_element(By.TAG_NAME,'a').get_attribute('href')"
   ]
  },
  {
   "cell_type": "code",
   "execution_count": 98,
   "id": "61dcad02-cebd-4eb4-a2a6-24e5ec76efc0",
   "metadata": {},
   "outputs": [
    {
     "name": "stdout",
     "output_type": "stream",
     "text": [
      "https://kenh14.vn/hlv-troussier-he-lo-ly-do-hang-loat-ngoi-sao-phai-ngoi-du-bi-o-doi-tuyen-viet-nam-20231120122320781.chn\n",
      "https://kenh14.vn/hlv-doi-tuyen-iraq-bat-bai-chi-ra-diem-manh-nhat-cua-doi-tuyen-viet-nam-20231120115453587.chn\n",
      "https://kenh14.vn/truong-cao-minh-phat-gianh-dai-wbc-muay-thai-the-gioi-lich-su-huynh-hoang-phi-chien-thang-an-tuong-20231120103118015.chn\n",
      "https://kenh14.vn/xac-dinh-17-24-doi-bong-gianh-ve-du-vck-euro-2024-20231120093416515.chn\n",
      "https://kenh14.vn/tuyen-iraq-dat-phong-do-an-tuong-truoc-tran-gap-tuyen-viet-nam-20231120063245716.chn\n",
      "https://kenh14.vn/doi-tuyen-viet-nam-cach-nao-danh-bai-iraq-20231120063547411.chn\n"
     ]
    },
    {
     "data": {
      "text/plain": [
       "['https://kenh14.vn/hlv-troussier-he-lo-ly-do-hang-loat-ngoi-sao-phai-ngoi-du-bi-o-doi-tuyen-viet-nam-20231120122320781.chn',\n",
       " 'https://kenh14.vn/hlv-doi-tuyen-iraq-bat-bai-chi-ra-diem-manh-nhat-cua-doi-tuyen-viet-nam-20231120115453587.chn',\n",
       " 'https://kenh14.vn/truong-cao-minh-phat-gianh-dai-wbc-muay-thai-the-gioi-lich-su-huynh-hoang-phi-chien-thang-an-tuong-20231120103118015.chn',\n",
       " 'https://kenh14.vn/xac-dinh-17-24-doi-bong-gianh-ve-du-vck-euro-2024-20231120093416515.chn',\n",
       " 'https://kenh14.vn/tuyen-iraq-dat-phong-do-an-tuong-truoc-tran-gap-tuyen-viet-nam-20231120063245716.chn',\n",
       " 'https://kenh14.vn/doi-tuyen-viet-nam-cach-nao-danh-bai-iraq-20231120063547411.chn']"
      ]
     },
     "execution_count": 98,
     "metadata": {},
     "output_type": "execute_result"
    }
   ],
   "source": [
    "get_url_list('https://kenh14.vn/sport/bong-da.chn')"
   ]
  },
  {
   "cell_type": "code",
   "execution_count": null,
   "id": "6aebbbcc-f75b-48c2-b566-130835796e12",
   "metadata": {},
   "outputs": [],
   "source": [
    "url_list = get_url_list('https://kenh14.vn/sport/bong-da.chn')"
   ]
  },
  {
   "cell_type": "code",
   "execution_count": null,
   "id": "910c7bcd-979d-4497-b2f5-f7ae5eb7277a",
   "metadata": {},
   "outputs": [],
   "source": [
    "driver.quit()"
   ]
  },
  {
   "cell_type": "code",
   "execution_count": 139,
   "id": "ee26ce75-ad4f-461d-bfb2-31893d185d4a",
   "metadata": {},
   "outputs": [
    {
     "data": {
      "text/plain": [
       "datetime.datetime(2023, 11, 13, 8, 0)"
      ]
     },
     "execution_count": 139,
     "metadata": {},
     "output_type": "execute_result"
    }
   ],
   "source": [
    "date_string = driver.find_element(By.CLASS_NAME,'kbwcb-left-wrapper').find_elements(By.CLASS_NAME,'knswli-time')[-1].get_attribute('title')\n",
    "datetime_obj = datetime.fromisoformat(date_string)\n",
    "datetime_obj"
   ]
  },
  {
   "cell_type": "code",
   "execution_count": 28,
   "id": "bf0f08e4-0a85-4371-86c8-5415db780cc1",
   "metadata": {},
   "outputs": [
    {
     "name": "stdout",
     "output_type": "stream",
     "text": [
      "2023-11-20T10:31:19\n",
      "2023-11-20T09:34:17\n",
      "2023-11-20T06:45:00\n",
      "2023-11-20T06:38:00\n",
      "2023-11-19T21:06:00\n",
      "2023-11-19T17:10:00\n",
      "2023-11-19T17:08:04\n"
     ]
    }
   ],
   "source": [
    "warapper = driver.find_element(By.CLASS_NAME,'kbwcb-left-wrapper')\n",
    "last_post_date_string = warapper.find_elements(By.CLASS_NAME,'knswli-time')[-1].get_attribute('title')\n",
    "for i in warapper.find_elements(By.CLASS_NAME,'knswli-time'):\n",
    "    if datetime.fromisoformat(i.get_attribute('title')) >= datetime(2023, 11, 14, 0, 0, 0):\n",
    "        print(i.get_attribute('title'))                            "
   ]
  },
  {
   "cell_type": "code",
   "execution_count": 198,
   "id": "71d8c245-975f-4f47-8299-ac33beef60e5",
   "metadata": {},
   "outputs": [
    {
     "data": {
      "text/plain": [
       "True"
      ]
     },
     "execution_count": 198,
     "metadata": {},
     "output_type": "execute_result"
    }
   ],
   "source": [
    "datetime(2023, 11, 1, 0, 0, 0) >= datetime(2023, 9, 1, 0, 0, 0)"
   ]
  },
  {
   "cell_type": "code",
   "execution_count": 150,
   "id": "b774f5dc-a3c6-477f-adbd-ece4c8ecea2b",
   "metadata": {},
   "outputs": [],
   "source": [
    "readmore_click()"
   ]
  },
  {
   "cell_type": "code",
   "execution_count": 112,
   "id": "64617194-1777-4876-8180-f6b2eb3c9c16",
   "metadata": {},
   "outputs": [
    {
     "data": {
      "text/plain": [
       "True"
      ]
     },
     "execution_count": 112,
     "metadata": {},
     "output_type": "execute_result"
    }
   ],
   "source": [
    "\n",
    "#is_element_display()\n",
    "is_element_exist(driver)"
   ]
  },
  {
   "cell_type": "code",
   "execution_count": 6,
   "id": "a056b23e-ebdc-4c1f-bbf6-800a9bf2ec57",
   "metadata": {},
   "outputs": [],
   "source": [
    "def get_url_list(driver):\n",
    "    post_urls = []\n",
    "    smooth_scroll_to_bottom(driver, delay=0.5)\n",
    "    while is_element_exist(driver):\n",
    "        smooth_scroll_to_bottom(driver, delay=0.5)\n",
    "        read_more_btn = driver.find_element(By.CLASS_NAME,\"view-more-detail.clearboth\").find_element(By.TAG_NAME,'a')\n",
    "        current_div = driver.find_element(By.CLASS_NAME,'kbwcb-left-wrapper')\n",
    "        read_more_btn.click()\n",
    "        parent_div = driver.find_element(By.CLASS_NAME,'kbwcb-left-wrapper')\n",
    "        news_title_set = parent_div.find_elements(By.TAG_NAME,'h3')\n",
    "        for item in news_title_set:\n",
    "            src = item.find_element(By.TAG_NAME,'a').get_attribute('href')\n",
    "            url = \"https://kenh14.vn\"+ src\n",
    "            if url not in post_urls:\n",
    "                post_urls.append(url)\n",
    "        if len(current_div) == len(parent_div):\n",
    "            break\n",
    "    return post_urls\n",
    "        "
   ]
  },
  {
   "cell_type": "code",
   "execution_count": 7,
   "id": "1532be76-f850-4b85-909b-fbdaa856853a",
   "metadata": {},
   "outputs": [],
   "source": [
    "def get_post(url):\n",
    "    response = requests.get(url)\n",
    "    time.sleep(3)\n",
    "    soup = BeautifulSoup(response.content, 'html.parser')\n",
    "    title = soup.find('h1').text\n",
    "    parent_div = soup.find('article',class_='cate-24h-foot-arti-deta-info')\n",
    "    children = [child for child in parent_div.find_all('p') if child.get('class') != 'content-bv-lq' and re.sub(r'\\n+', '', child.text) != \"\"]\n",
    "    return children, title\n",
    "    "
   ]
  },
  {
   "cell_type": "code",
   "execution_count": 2,
   "id": "62a20178-ae41-4904-a223-1e9c8bd85938",
   "metadata": {},
   "outputs": [],
   "source": [
    "%store -r _24h_com_vn"
   ]
  },
  {
   "cell_type": "code",
   "execution_count": 3,
   "id": "a52b133a-65ce-4b00-99a8-ca85bd6ace9a",
   "metadata": {},
   "outputs": [],
   "source": [
    "a = _24h_com_vn.copy()"
   ]
  },
  {
   "cell_type": "code",
   "execution_count": null,
   "id": "5a957c96-79fe-4f1c-abb2-7f9d20c26caa",
   "metadata": {},
   "outputs": [],
   "source": [
    "for i in list(_kenh14['urls']['sport']['sub-category'].keys()):\n",
    "    category_url = _kenh14['urls']['sport']['sub-category'][i]['url']\n",
    "    driver.get(category_url)\n",
    "    _kenh14['urls']['sport']['sub-category'][i]['url_list'] = get_url_list()"
   ]
  },
  {
   "cell_type": "code",
   "execution_count": 7,
   "id": "5645f60d-e1a8-4cfc-a722-20674bdaccd1",
   "metadata": {},
   "outputs": [
    {
     "data": {
      "text/plain": [
       "1"
      ]
     },
     "execution_count": 7,
     "metadata": {},
     "output_type": "execute_result"
    }
   ],
   "source": [
    "driver.find_element(By.CLASS_NAME, 'view-more-detail.clearboth')"
   ]
  },
  {
   "cell_type": "code",
   "execution_count": 9,
   "id": "8b1ce88c-7569-456b-917f-a2148bf5ec0a",
   "metadata": {},
   "outputs": [
    {
     "data": {
      "text/plain": [
       "True"
      ]
     },
     "execution_count": 9,
     "metadata": {},
     "output_type": "execute_result"
    }
   ],
   "source": [
    " is_element_exist(driver)"
   ]
  },
  {
   "cell_type": "code",
   "execution_count": 22,
   "id": "ee0ca6e9-6a18-48ac-99bd-9926b5a5524f",
   "metadata": {},
   "outputs": [],
   "source": [
    "\n",
    "\n",
    "# Example usage\n",
    "smooth_scroll_to_bottom(driver, delay=0.5)\n"
   ]
  },
  {
   "cell_type": "code",
   "execution_count": 274,
   "id": "98aa4ed3-9013-4f13-a203-fe8647b584ee",
   "metadata": {},
   "outputs": [],
   "source": [
    "children = [child for child in parent_div.find_all('p') if child.get('class') != 'content-bv-lq' and re.sub(r'\\n+', '', child.text) != \"\"]"
   ]
  },
  {
   "cell_type": "code",
   "execution_count": 276,
   "id": "de0d4890-a206-4b32-928d-afc1fbca0643",
   "metadata": {},
   "outputs": [
    {
     "name": "stdout",
     "output_type": "stream",
     "text": [
      "<p>Theo <em>Windows Central</em>, dịch vụ chatbot AI <a class=\"TextlinkBaiviet\" href=\"https://www.24h.com.vn/chagpt-c55e7117.html\" title=\"ChatGPT\">ChatGPT</a> đã gặp sự cố ảnh hưởng đến trải nghiệm của người dùng trong 18 - 20 giờ qua. Sự việc đã được một người dùng trên diễn đàn Reddit báo cáo, giải thích rằng họ không thể sử dụng được dịch vụ AI, đồng thời nhận được thông báo lỗi với nội dung API là “429 - Too many requests”.</p> \n",
      " _______________________________\n",
      "<p>Một số người dùng khác cũng gặp phải tình trạng tương tự, với hàng loạt tin nhắn báo lỗi trả về. Một số người cho rằng họ đã đạt giới hạn sử dụng và cần nâng cấp lên gói ChatGPT Plus, những người khác lại nói do lưu lượng truy cập quá nhiều và gây ra sự chậm trễ của kết quả truy vấn.</p> \n",
      " _______________________________\n",
      "<p class=\"img_chu_thich_0407\">Máy chủ của ChatGPT đã hứng chịu đợt tấn công DDoS quy mô lớn.</p> \n",
      " _______________________________\n",
      "<p>Sau những động thái bàn tán của cộng đồng, OpenAI đã chính thức xác nhận rằng hệ thống của công ty đã bị tấn công từ chối dịch vụ (DDoS). Cụ thể, công ty cho biết: “Chúng tôi đang xử lý tình trạng ngừng hoạt động do tình hình lưu lượng truy cập bất thường, phản ánh một cuộc tấn công DDoS đang diễn ra. Chúng tôi đang tiếp tục làm việc để giảm thiểu điều này”.</p> \n",
      " _______________________________\n",
      "<p>Một nhóm hacktivist có tên Anonymous Sudan đã nhận trách nhiệm về cuộc tấn công vào OpenAI và ChatGPT, lý do họ đưa ra là do động cơ chính trị, với cáo buộc OpenAI là một công ty Mỹ thân với Israel. Hiện họ cũng đang nhắm mục tiêu vào các công ty khác của Mỹ.</p> \n",
      " _______________________________\n",
      "<p>Công ty an ninh mạng CyberCX từng tuyên bố rằng Anonymous Sudan là “một phần của nhóm hacker thân Nga Killnet” và có khả năng nhận được tài trợ và nguồn lực từ Nga trong sứ mệnh của quốc gia này nhằm phá hoại các nước phương Tây.</p> \n",
      " _______________________________\n",
      "<p class=\"linkOrigin\"><span class=\"dots\" data-src=\"aHR0cHM6Ly9ub25ndGhvbnZpZXQuY29tLnZuL2NoYXRncHQtYmktbmhvbS1oYWNrZXItYW5vbnltb3VzLXRhbi1jb25nLWRkb3MtdG9pLXNhcC1tYXktY2h1LTE1MTc1Li4u\" id=\"url_origin_cut\">Nguồn: [Link nguồn]</span><span class=\"txtFull\" data-src=\"aHR0cHM6Ly9ub25ndGhvbnZpZXQuY29tLnZuL2NoYXRncHQtYmktbmhvbS1oYWNrZXItYW5vbnltb3VzLXRhbi1jb25nLWRkb3MtdG9pLXNhcC1tYXktY2h1LTE1MTc1ODEubmdu\" id=\"url_origin_full\" style=\"display: none;\">Nguồn: [Link nguồn]</span><span class=\"icoDrop\" id=\"icoDrop\" onclick=\"show_hide_url_origin();\"></span></p> \n",
      " _______________________________\n",
      "<p>Lượng người dùng trong tuần gần đây của ChatGPT đã chứng kiến một con số ấn tượng.</p> \n",
      " _______________________________\n"
     ]
    }
   ],
   "source": [
    "for child in children:\n",
    "    print(child,'\\n','_______________________________')"
   ]
  },
  {
   "cell_type": "code",
   "execution_count": 264,
   "id": "f980b4e5-5ee1-430f-9b80-b0ca35980982",
   "metadata": {},
   "outputs": [
    {
     "data": {
      "text/plain": [
       "'Máy chủ của ChatGPT đã hứng chịu đợt tấn công DDoS quy mô lớn.'"
      ]
     },
     "execution_count": 264,
     "metadata": {},
     "output_type": "execute_result"
    }
   ],
   "source": [
    "children[2].text"
   ]
  },
  {
   "cell_type": "code",
   "execution_count": 267,
   "id": "a05c9af2-2db8-4199-8955-284659a4967a",
   "metadata": {},
   "outputs": [
    {
     "name": "stdout",
     "output_type": "stream",
     "text": [
      "\n"
     ]
    }
   ],
   "source": [
    "import re\n",
    "\n",
    "your_string = \"\\n\\n\\n\\n\\n\\n\\n\\n\\n\\n\\n\\n\\n\\n\\n\\n\"  # Your string with multiple newline characters\n",
    "cleaned_string = re.sub(r'\\n+', '', children[2].text)  # Replace multiple newlines with a single newline\n",
    "\n",
    "print(cleaned_string) "
   ]
  },
  {
   "cell_type": "code",
   "execution_count": 268,
   "id": "88378fe9-b4e1-4f23-9476-02c57c7de81c",
   "metadata": {},
   "outputs": [
    {
     "data": {
      "text/plain": [
       "''"
      ]
     },
     "execution_count": 268,
     "metadata": {},
     "output_type": "execute_result"
    }
   ],
   "source": [
    "cleaned_string"
   ]
  },
  {
   "cell_type": "code",
   "execution_count": 273,
   "id": "963a7bed-16ab-4494-8b6c-8e604ac2c3ac",
   "metadata": {},
   "outputs": [
    {
     "data": {
      "text/plain": [
       "[<p>Theo <em>Windows Central</em>, dịch vụ chatbot AI <a class=\"TextlinkBaiviet\" href=\"https://www.24h.com.vn/chagpt-c55e7117.html\" title=\"ChatGPT\">ChatGPT</a> đã gặp sự cố ảnh hưởng đến trải nghiệm của người dùng trong 18 - 20 giờ qua. Sự việc đã được một người dùng trên diễn đàn Reddit báo cáo, giải thích rằng họ không thể sử dụng được dịch vụ AI, đồng thời nhận được thông báo lỗi với nội dung API là “429 - Too many requests”.</p>,\n",
       " <p>Một số người dùng khác cũng gặp phải tình trạng tương tự, với hàng loạt tin nhắn báo lỗi trả về. Một số người cho rằng họ đã đạt giới hạn sử dụng và cần nâng cấp lên gói ChatGPT Plus, những người khác lại nói do lưu lượng truy cập quá nhiều và gây ra sự chậm trễ của kết quả truy vấn.</p>,\n",
       " <p class=\"img_chu_thich_0407\">Máy chủ của ChatGPT đã hứng chịu đợt tấn công DDoS quy mô lớn.</p>,\n",
       " <p>Sau những động thái bàn tán của cộng đồng, OpenAI đã chính thức xác nhận rằng hệ thống của công ty đã bị tấn công từ chối dịch vụ (DDoS). Cụ thể, công ty cho biết: “Chúng tôi đang xử lý tình trạng ngừng hoạt động do tình hình lưu lượng truy cập bất thường, phản ánh một cuộc tấn công DDoS đang diễn ra. Chúng tôi đang tiếp tục làm việc để giảm thiểu điều này”.</p>,\n",
       " <p>Một nhóm hacktivist có tên Anonymous Sudan đã nhận trách nhiệm về cuộc tấn công vào OpenAI và ChatGPT, lý do họ đưa ra là do động cơ chính trị, với cáo buộc OpenAI là một công ty Mỹ thân với Israel. Hiện họ cũng đang nhắm mục tiêu vào các công ty khác của Mỹ.</p>,\n",
       " <p>Công ty an ninh mạng CyberCX từng tuyên bố rằng Anonymous Sudan là “một phần của nhóm hacker thân Nga Killnet” và có khả năng nhận được tài trợ và nguồn lực từ Nga trong sứ mệnh của quốc gia này nhằm phá hoại các nước phương Tây.</p>,\n",
       " <p class=\"linkOrigin\"><span class=\"dots\" data-src=\"aHR0cHM6Ly9ub25ndGhvbnZpZXQuY29tLnZuL2NoYXRncHQtYmktbmhvbS1oYWNrZXItYW5vbnltb3VzLXRhbi1jb25nLWRkb3MtdG9pLXNhcC1tYXktY2h1LTE1MTc1Li4u\" id=\"url_origin_cut\">Nguồn: [Link nguồn]</span><span class=\"txtFull\" data-src=\"aHR0cHM6Ly9ub25ndGhvbnZpZXQuY29tLnZuL2NoYXRncHQtYmktbmhvbS1oYWNrZXItYW5vbnltb3VzLXRhbi1jb25nLWRkb3MtdG9pLXNhcC1tYXktY2h1LTE1MTc1ODEubmdu\" id=\"url_origin_full\" style=\"display: none;\">Nguồn: [Link nguồn]</span><span class=\"icoDrop\" id=\"icoDrop\" onclick=\"show_hide_url_origin();\"></span></p>]"
      ]
     },
     "execution_count": 273,
     "metadata": {},
     "output_type": "execute_result"
    }
   ],
   "source": [
    "children"
   ]
  },
  {
   "cell_type": "code",
   "execution_count": 281,
   "id": "bde57165-e12a-4cb4-bf0c-e3c5a8f2a7c4",
   "metadata": {},
   "outputs": [
    {
     "data": {
      "text/plain": [
       "<span class=\"txtFull\" data-src=\"aHR0cHM6Ly9ub25ndGhvbnZpZXQuY29tLnZuL2NoYXRncHQtYmktbmhvbS1oYWNrZXItYW5vbnltb3VzLXRhbi1jb25nLWRkb3MtdG9pLXNhcC1tYXktY2h1LTE1MTc1ODEubmdu\" id=\"url_origin_full\" style=\"display: none;\">Nguồn: [Link nguồn]</span>"
      ]
     },
     "execution_count": 281,
     "metadata": {},
     "output_type": "execute_result"
    }
   ],
   "source": [
    "soup.find('span',id = 'url_origin_full')"
   ]
  },
  {
   "cell_type": "code",
   "execution_count": null,
   "id": "d01f26d2-f7a8-499d-b4f7-b80009c4e3da",
   "metadata": {},
   "outputs": [],
   "source": []
  },
  {
   "cell_type": "code",
   "execution_count": 297,
   "id": "fabdc529-d112-4a49-9171-2a949828868c",
   "metadata": {},
   "outputs": [
    {
     "name": "stderr",
     "output_type": "stream",
     "text": [
      "C:\\Users\\Shang\\AppData\\Local\\Temp\\ipykernel_5900\\1979692309.py:2: DeprecationWarning: headless property is deprecated, instead use add_argument('--headless') or add_argument('--headless=new')\n",
      "  options.headless=True\n"
     ]
    }
   ],
   "source": []
  },
  {
   "cell_type": "code",
   "execution_count": null,
   "id": "d8be96ac-b608-4c37-ba2b-fdf32fbcb6d7",
   "metadata": {},
   "outputs": [],
   "source": [
    "#Srape content of a spacific post by using undetected chromebrowser\n",
    "#options = uc.ChromeOptions()\n",
    "#options.headless=True\n",
    "driver = uc.Chrome(headless=True,use_subprocess=False,version_main=119)#, user_data_dir = \"c:\\temp\\profile\")#, version_main=117)\n",
    "post_url = \"https://www.24h.com.vn/cong-nghe-thong-tin/chatgpt-bi-nhom-hacker-anonymous-tan-cong-ddos-toi-sap-may-chu-c55a1517581.html\"\n",
    "driver.get(post_url) "
   ]
  },
  {
   "cell_type": "code",
   "execution_count": null,
   "id": "4c9e0087-43c1-4221-8b71-32160543fb44",
   "metadata": {},
   "outputs": [],
   "source": [
    "#find the source url\n",
    "driver.quit()"
   ]
  },
  {
   "cell_type": "code",
   "execution_count": 32,
   "id": "efa33bc2-e057-4c44-bb72-770353bbc826",
   "metadata": {},
   "outputs": [
    {
     "name": "stdout",
     "output_type": "stream",
     "text": [
      "https://nongthonviet.com.vn/chatgpt-bi-nhom-hacker-anonymous-tan-cong-ddos-toi-sap-may-chu-1517581.ngn\n"
     ]
    }
   ],
   "source": []
  },
  {
   "cell_type": "code",
   "execution_count": 305,
   "id": "c3ef5e4f-fea8-47f9-be69-f0326f8a4ca2",
   "metadata": {},
   "outputs": [
    {
     "name": "stdout",
     "output_type": "stream",
     "text": [
      "https://nongthonviet.com.vn/chatgpt-bi-nhom-hacker-anonymous-tan-cong-ddos-toi-sap-may-chu-1517581.ngn\n"
     ]
    }
   ],
   "source": []
  },
  {
   "cell_type": "code",
   "execution_count": 289,
   "id": "1b433b2d-4cf1-4fb8-8085-ee102332d6b6",
   "metadata": {},
   "outputs": [
    {
     "data": {
      "text/plain": [
       "['https://nongthonviet.com.vn/chatgpt-bi-nhom-hacker-anonymous-tan-cong-ddos-toi-sap-may-chu-1517581.ngn']"
      ]
     },
     "execution_count": 289,
     "metadata": {},
     "output_type": "execute_result"
    }
   ],
   "source": [
    "url"
   ]
  },
  {
   "cell_type": "code",
   "execution_count": 33,
   "id": "9347d90f-93cb-45e1-9527-ef0f3e607ac3",
   "metadata": {},
   "outputs": [],
   "source": [
    "\"\"\"opts = uc.ChromeOptions()\n",
    "opts.add_argument('--headless')\n",
    "\n",
    "opts.add_argument('--disable-extensions')\n",
    "opts.add_argument('--disable-logging')\n",
    "opts.add_argument('--log-level=3')\n",
    "opts.add_argument('--start-maximized')\n",
    "opts.add_argument('--disable-notifications')\n",
    "opts.add_argument(\"--disable-gpu\")\"\"\""
   ]
  },
  {
   "cell_type": "code",
   "execution_count": 54,
   "id": "2cad79cb-2647-4269-9e74-ef8c9c4cbcf9",
   "metadata": {},
   "outputs": [],
   "source": [
    "driver = uc.Chrome(headless=True,use_subprocess=False,version_main=119)#, user_data_dir = \"c:\\temp\\profile\")#, version_main=117)\n",
    "url = \"https://www.24h.com.vn/cong-nghe-thong-tin/chatgpt-bi-nhom-hacker-anonymous-tan-cong-ddos-toi-sap-may-chu-c55a1517581.html\"\n"
   ]
  },
  {
   "cell_type": "code",
   "execution_count": 50,
   "id": "a490ebd4-f938-47d9-b33f-cf271feef3d5",
   "metadata": {},
   "outputs": [],
   "source": [
    "driver.get(url)\n"
   ]
  },
  {
   "cell_type": "code",
   "execution_count": 51,
   "id": "c2e47ec2-a333-4607-a3bf-a693419b0606",
   "metadata": {},
   "outputs": [],
   "source": [
    "def get_post(driver):\n",
    "    driver.get(url)\n",
    "    \n",
    "        "
   ]
  },
  {
   "cell_type": "code",
   "execution_count": 56,
   "id": "2005160b-d7a0-434c-8a09-c23207ad773a",
   "metadata": {},
   "outputs": [],
   "source": [
    "def get_source(driver):\n",
    "    driver.get(url)\n",
    "    btn = driver.find_element(By.ID,'icoDrop')\n",
    "    btn.click()\n",
    "    source =  driver.find_element(By.ID,'url_origin_full')\n",
    "    url_pattern = r'https?://[^\\s]+'\n",
    "    source_url = re.findall(url_pattern, source.text)\n",
    "    # Extracted URL\n",
    "    source_url =  source_url[0] if source_url else \"\"\n",
    "    return source_url"
   ]
  },
  {
   "cell_type": "code",
   "execution_count": 57,
   "id": "31c36f8e-3069-4bf0-a923-753472d17563",
   "metadata": {},
   "outputs": [
    {
     "data": {
      "text/plain": [
       "'https://nongthonviet.com.vn/chatgpt-bi-nhom-hacker-anonymous-tan-cong-ddos-toi-sap-may-chu-1517581.ngn'"
      ]
     },
     "execution_count": 57,
     "metadata": {},
     "output_type": "execute_result"
    }
   ],
   "source": [
    "get_source(driver)"
   ]
  },
  {
   "cell_type": "code",
   "execution_count": 31,
   "id": "fd41cb08-60d5-454f-8d50-c0a191a278d8",
   "metadata": {},
   "outputs": [],
   "source": [
    "#driver = uc.Chrome(headless=True,use_subprocess=False,version_main=119)#, user_data_dir = \"c:\\temp\\profile\")#, version_main=117)\n",
    "#driver.get(\"https://www.24h.com.vn/cong-nghe-thong-tin/chatgpt-bi-nhom-hacker-anonymous-tan-cong-ddos-toi-sap-may-chu-c55a1517581.html\")"
   ]
  },
  {
   "cell_type": "code",
   "execution_count": 306,
   "id": "8a5460ca-9da5-4f5a-8a6e-bcd4a1b550ff",
   "metadata": {},
   "outputs": [],
   "source": [
    "driver.quit()"
   ]
  },
  {
   "cell_type": "code",
   "execution_count": 11,
   "id": "d214072f-6941-47af-a2ac-d293f2cbd020",
   "metadata": {},
   "outputs": [],
   "source": [
    "_24h_com_vn2 = {\n",
    "        \"home_page\":\"https://www.24h.com.vn/\",\n",
    "        \"urls\":{\n",
    "            \"tech\":\n",
    "            {\n",
    "             \"url\":\"https://www.24h.com.vn/cong-nghe-thong-tin-c55.html\",\n",
    "             \"sub-category\":{\n",
    "                0:{\"name\":\"Game\",\n",
    "                 \"url\":\"https://www.24h.com.vn/game-c69.html\"},\n",
    "                1:{\"name\":\"Phần mềm\",\n",
    "                 \"url\":\"https://www.24h.com.vn/phan-mem-ngoai-c302.html\"},\n",
    "                2:{\"name\":\"Khoa học\",\n",
    "                 \"url\":\"https://www.24h.com.vn/khoa-hoc-c782.html\"},\n",
    "                3:{\"name\":\"Mạng xã hội\",\n",
    "                 \"url\":\"https://www.24h.com.vn/mang-xa-hoi-c889.html\"},\n",
    "                4:{\"name\":\"Thủ thuật - Tiện ích\"\n",
    "                 ,\"url\":\"https://www.24h.com.vn/thu-thuat-tien-ich-c68.html\"},\n",
    "                5:{\"name\":\"Sợ Virus\",\n",
    "                 \"url\":\"https://www.24h.com.vn/tim-hieu-virus-c57.html\"},\n",
    "                6:{\"name\":\"Máy in/phụ kiện\",\n",
    "                 \"url\":\"https://www.24h.com.vn/may-in/phu-kien-c291.html\"},\n",
    "                7:{\"name\":\"Khám phá công nghệ\",\n",
    "                 \"url\":\"https://www.24h.com.vn/kham-pha-cong-nghe-c675.html\"}\n",
    "             }\n",
    "            }\n",
    "            ,\n",
    "            \"youths\":\n",
    "            {\n",
    "            \"category\":\"youths\",\n",
    "            \"url\":\"https://www.24h.com.vn/ban-tre-cuoc-song-c64.html\", \n",
    "             \"sub-category\":{\n",
    "                0:{\"name\":\"Chuyện công sở\",\"url\":\"https://www.24h.com.vn/chuyen-cong-so-c180.html\"},\n",
    "                1:{\"name\":\"Tình yêu - Giới Tính\",\"url\":\"https://www.24h.com.vn/tinh-yeu-gioi-tinh-c306.html\"},\n",
    "                2:{\"name\":\"Ngoại tình\",\"url\":\"https://www.24h.com.vn/ngoai-tinh-c435.html\"},\n",
    "                3:{\"name\":\"Giới trẻ\",\"url\":\"https://www.24h.com.vn/gioi-tre-c434.html\"},\n",
    "                4:{\"name\":\"Hotgirl - Hotboy\",\"url\":\"https://www.24h.com.vn/hotgirl-hot-boy-c64e3398.html\"},\n",
    "                5:{\"name\":\"Nhịp sống trẻ\",\"url\":\"https://www.24h.com.vn/nhip-song-tre-c685.html\"}\n",
    "             }\n",
    "            }\n",
    "            ,\n",
    "            \"showbiz\":\n",
    "            {\n",
    "            \"category\":\"showbiz\",\n",
    "            \"url\":\"https://www.24h.com.vn/doi-song-showbiz-c729.html\",\n",
    "             \"sub-category\":{\n",
    "                0:{\"name\":\"Sao Việt\",\"url\":\"https://www.24h.com.vn/sao-viet-c757.html\"},\n",
    "                1:{\"name\":\"24h gặp gỡ\",\"url\":\"https://www.24h.com.vn/gap-go-24h-c729e6820.html\"},\n",
    "                2:{\"name\":\"Talk với sao\",\"url\":\"https://www.24h.com.vn/doi-thoai-cung-sao-c730.html\"},\n",
    "                3:{\"name\":\"Sao châu Á\",\"url\":\"https://www.24h.com.vn/sao-chau-a-c759.html\"},\n",
    "            }\n",
    "            },\n",
    "            \"cars\":\n",
    "            {\n",
    "            \"category\":\"cars\",\n",
    "            \"url\":\"https://www.24h.com.vn/o-to-c747.html\",\n",
    "             \"sub-category\":{\n",
    "                0:{\"name\":\"Tin tức ô tô\",\"url\":\"https://www.24h.com.vn/tin-tuc-o-to-c332.html\"},\n",
    "                1:{\"name\":\"Bảng giá xe ô tô\",\"url\":\"https://www.24h.com.vn/bang-gia-xe-o-to-c807.html\"},\n",
    "                2:{\"name\":\"Tư vấn\",\"url\":\"https://www.24h.com.vn/tu-van-c240.html\"},\n",
    "                3:{\"name\":\"Ngắm xe\",\"url\":\"https://www.24h.com.vn/anh-nguoi-dep-va-xe-c199.html\"},\n",
    "                4:{\"name\":\"Đánh giá xe\",\"url\":\"https://www.24h.com.vn/so-sanh-xe-c805.html\"},\n",
    "                5:{\"name\":\"Tra cứu ô tô\",\"url\":\"https://www.24h.com.vn/tra-cuu-o-to-c992.html\"},\n",
    "            }\n",
    "            }\n",
    "        }\n",
    "    }"
   ]
  },
  {
   "cell_type": "code",
   "execution_count": 22,
   "id": "b7251e02-912b-4bcb-baa5-a1a7cc57fab6",
   "metadata": {},
   "outputs": [
    {
     "data": {
      "text/plain": [
       "'https://www.24h.com.vn/game-c69.html'"
      ]
     },
     "execution_count": 22,
     "metadata": {},
     "output_type": "execute_result"
    }
   ],
   "source": [
    "_24h_com_vn['urls']['tech'][\"sub-category\"][0][\"url\"]"
   ]
  },
  {
   "cell_type": "code",
   "execution_count": 2,
   "id": "796023f4-a463-4791-9d53-de896460c76c",
   "metadata": {},
   "outputs": [],
   "source": [
    "%store -r _24h_com_vn"
   ]
  },
  {
   "cell_type": "code",
   "execution_count": null,
   "id": "4e3ecd78-8e4e-4d83-9feb-6bbc66334d12",
   "metadata": {},
   "outputs": [],
   "source": []
  },
  {
   "cell_type": "code",
   "execution_count": 3,
   "id": "a4d60774-91e8-4f8f-a32b-3b149671399a",
   "metadata": {},
   "outputs": [],
   "source": [
    "_24h_com_vn2 = _24h_com_vn.copy()"
   ]
  },
  {
   "cell_type": "code",
   "execution_count": 4,
   "id": "74f932b8-e5fb-4907-b9db-8bb5c82ecf57",
   "metadata": {},
   "outputs": [],
   "source": [
    "driver = uc.Chrome(headless=True,use_subprocess=False,version_main=119)#, user_data_dir = \"c:\\temp\\profile\")#, version_main=117)\n"
   ]
  },
  {
   "cell_type": "code",
   "execution_count": null,
   "id": "5baa3fa1-bbdf-4d34-baaa-c8e9f107d0e9",
   "metadata": {},
   "outputs": [],
   "source": []
  },
  {
   "cell_type": "code",
   "execution_count": 12,
   "id": "104f96c0-4088-44b5-b596-e53c319339cd",
   "metadata": {},
   "outputs": [],
   "source": [
    "def get_url_list(driver):\n",
    "    post_urls = []\n",
    "    #while the read more element is still exists\n",
    "    while is_element_exist(driver)[0]:\n",
    "        if is_element_exist(driver)[1] == 1:\n",
    "            read_more_btn = driver.find_element(By.XPATH,\"//p[@class='cate-24h-foot-home-latest-list__readmore margin-top-20 text-uppercase']\")\n",
    "            actions = ActionChains(driver)\n",
    "            actions.move_to_element(read_more_btn).perform()\n",
    "            read_more_btn.click()\n",
    "            time.sleep(2)\n",
    "            news_block = driver.find_elements(By.CLASS_NAME,\"cate-24h-car-news-rand__info\")\n",
    "            for i in news_block:\n",
    "                url = i.find_element(By.TAG_NAME, 'a').get_attribute('href')\n",
    "                if url not in post_urls:\n",
    "                    post_urls.append(url)\n",
    "                    print(url)\n",
    "        elif is_element_exist(driver)[1] == 2:\n",
    "            read_more_btn = driver.find_element(By.XPATH,\"//p[@class='cate-24h-foot-home-tour-news-readmore arrow-plus-etm margin-bottom-20']\")\n",
    "            actions = ActionChains(driver)\n",
    "            actions.move_to_element(read_more_btn).perform()\n",
    "            read_more_btn.click()\n",
    "            time.sleep(2)\n",
    "            news_block = driver.find_elements(By.CLASS_NAME,\"cate-24h-foot-home-latest-list__name\")\n",
    "            for i in news_block:\n",
    "                url = i.find_element(By.TAG_NAME, 'a').get_attribute('href')\n",
    "                if url not in post_urls:\n",
    "                    post_urls.append(url)\n",
    "                    print(url)\n",
    "        elif is_element_exist(driver)[1] == 3:\n",
    "            current_count = len(driver.find_element(By.ID,'left').find_elements(By.CLASS_NAME,\"cate-24h-foot-home-latest\")[0].find_elements(By.CLASS_NAME,\"cate-24h-foot-home-latest-list__name\"))\n",
    "            read_more_btn = driver.find_element(By.XPATH,\"//p[@class='cate-24h-foot-home-latest-list__readmore text-uppercase margin-bottom-10']\")\n",
    "            actions = ActionChains(driver)\n",
    "            actions.move_to_element(read_more_btn).perform()\n",
    "            read_more_btn.click()\n",
    "            time.sleep(2)\n",
    "            news_block = driver.find_element(By.ID,'left').find_elements(By.CLASS_NAME,\"cate-24h-foot-home-latest\")[0].find_elements(By.CLASS_NAME,\"cate-24h-foot-home-latest-list__name\")\n",
    "            new_count = len(news_block)\n",
    "            for i in news_block:\n",
    "                if i not in post_urls:\n",
    "                    url = i.find_element(By.TAG_NAME, 'a').get_attribute('href')\n",
    "                    post_urls.append(url)\n",
    "            print(current_count,new_count)\n",
    "            if current_count == new_count:\n",
    "                break\n",
    "    return post_urls"
   ]
  },
  {
   "cell_type": "code",
   "execution_count": 13,
   "id": "0f3406e6-f20e-4f97-bd11-09fad8bea3cd",
   "metadata": {},
   "outputs": [
    {
     "data": {
      "text/plain": [
       "0"
      ]
     },
     "execution_count": 13,
     "metadata": {},
     "output_type": "execute_result"
    }
   ],
   "source": [
    "def is_element_exist(driver):\n",
    "    try:\n",
    "        driver.find_element(By.XPATH,\"//p[@class='cate-24h-foot-home-latest-list__readmore margin-top-20 text-uppercase']\")\n",
    "        return True,1\n",
    "    except NoSuchElementException:\n",
    "        try:\n",
    "            driver.find_element(By.XPATH,\"//p[@class='cate-24h-foot-home-tour-news-readmore arrow-plus-etm margin-bottom-20']\")\n",
    "            return True,2\n",
    "        except NoSuchElementException:\n",
    "            try:\n",
    "                driver.find_element(By.XPATH,\"//p[@class='cate-24h-foot-home-latest-list__readmore text-uppercase margin-bottom-10']\")\n",
    "                return True,3\n",
    "            except NoSuchElementException:\n",
    "                return False,0\n",
    "is_element_exist(driver)[1]"
   ]
  },
  {
   "cell_type": "code",
   "execution_count": 8,
   "id": "a953bdb5-2b9d-47ec-b7e4-609019df8a41",
   "metadata": {},
   "outputs": [],
   "source": [
    "def is_icodrop_exist():\n",
    "    try:\n",
    "        driver.find_element(By.ID,'icoDrop')\n",
    "        return True\n",
    "    except NoSuchElementException:\n",
    "        return False"
   ]
  },
  {
   "cell_type": "code",
   "execution_count": 6,
   "id": "0677e5b9-4655-49fc-b27e-d2d6ad057f9b",
   "metadata": {},
   "outputs": [],
   "source": [
    "\n",
    "def get_post_content(driver,post_url):\n",
    "    driver.get(post_url)\n",
    "    try:\n",
    "        wait = WebDriverWait(driver, 6)\n",
    "        element = wait.until(EC.presence_of_element_located((By.ID, \"url_origin_cut\")))\n",
    "        title = driver.find_element(By.TAG_NAME,'h1').text\n",
    "        posted_date = driver.find_element(By.TAG_NAME,'time').text\n",
    "        h2 = driver.find_element(By.TAG_NAME,'h2').text\n",
    "        #parent_div = driver.find_element(By.TAG_NAME,'article')\n",
    "        images =  driver.find_element(By.ID,\"article_body\").find_elements(By.TAG_NAME,'img')[:-1]\n",
    "        images_src = [img.get_attribute('data-original') if 'https://image-us.24h.com.vn' not in img.get_attribute('src') else img.get_attribute('src') if 'svg' not in img.get_attribute('src') else '' for img in images  ]\n",
    "        images_src = [img for img in images_src if img != '']\n",
    "        text_list = [ child.text for child in driver.find_element(By.TAG_NAME,'article').find_elements(By.TAG_NAME,'p')[:-4] if re.sub(r'\\n+', '', child.text) != \"\"]\n",
    "        #source = driver.find_element(By.TAG_NAME,'article').find_elements(By.TAG_NAME,'p')[-4].text\n",
    "        if is_icodrop_exist():\n",
    "            driver.find_element(By.ID,'icoDrop').click()\n",
    "            source = driver.find_element(By.ID,'url_origin_full').text\n",
    "            url_pattern = r'https?://[^\\s]+'\n",
    "            source_url = re.findall(url_pattern, source)\n",
    "        else:\n",
    "            source = driver.find_element(By.ID,'url_origin_cut').text\n",
    "            url_pattern = r'https?://[^\\s]+'\n",
    "            source_url = re.findall(url_pattern, source)\n",
    "        return title,posted_date, h2, text_list,source_url,images_src\n",
    "    except NoSuchElementException as e:\n",
    "        print('NoSuchElementException',e)\n",
    "    except ElementClickInterceptedException:\n",
    "        print('ElementClickInterceptedException',e)"
   ]
  },
  {
   "cell_type": "code",
   "execution_count": 9,
   "id": "8c27f514-71ac-4524-bcab-266e59ab362d",
   "metadata": {},
   "outputs": [
    {
     "name": "stdout",
     "output_type": "stream",
     "text": [
      "tech Game Microsoft Solitaire: Tựa game phổ biến nhất mọi thời đại từ Microsoft https://www.24h.com.vn/cong-nghe-thong-tin/microsoft-solitaire-tua-game-pho-bien-nhat-moi-thoi-dai-tu-microsoft-c55a1510318.html\n",
      "tech Game Microsoft vui mừng vì \"chốt sổ\" thành công thương vụ 69 tỷ USD https://www.24h.com.vn/cong-nghe-thong-tin/microsoft-vui-mung-vi-chot-so-thanh-cong-thuong-vu-69-ty-usd-c55a1510065.html\n",
      "tech Game Sony bất ngờ bổ sung phiên bản siêu mỏng cho PlayStation 5 https://www.24h.com.vn/cong-nghe-thong-tin/sony-bat-ngo-bo-sung-phien-ban-sieu-mong-cho-playstation-5-c55a1509349.html\n",
      "tech Game Khởi tranh giải eSport Valorant và Liên Minh Huyền Thoại quy mô 2 tỷ đồng https://www.24h.com.vn/cong-nghe-thong-tin/khoi-tranh-giai-esport-valorant-va-lien-minh-huyen-thoai-quy-mo-2-ty-dong-c55a1504970.html\n",
      "tech Game Gục ngã trước màn cosplay Tingyun game Honkai: Star Rail siêu ngọt ngào https://www.24h.com.vn/cong-nghe-thong-tin/guc-nga-truoc-man-cosplay-tingyun-game-honkai-star-rail-sieu-ngot-ngao-c55a1504008.html\n",
      "tech Game FreeFire và YouTube treo thưởng 1,5 triệu USD cho các nhà sáng tạo nội dung https://www.24h.com.vn/cong-nghe-thong-tin/freefire-va-youtube-treo-thuong-15-trieu-usd-cho-cac-nha-sang-tao-noi-dung-c55a1503594.html\n",
      "tech Game Việt Nam có đội tuyển tranh huy chương 6/7 môn eSport tại ASIAD 19 https://www.24h.com.vn/cong-nghe-thong-tin/viet-nam-co-doi-tuyen-tranh-huy-chuong-6-7-mon-esport-tai-asiad-19-c55a1503531.html\n",
      "tech Game Lần đầu làm chuyện ấy, Apple gặp khó khi lấn sân vào ngành game https://www.24h.com.vn/cong-nghe-thong-tin/lan-dau-lam-chuyen-ay-apple-gap-kho-khi-lan-san-vao-nganh-game-c55a1502202.html\n",
      "tech Game iPhone 15 Pro sắp “đón” hàng loạt game AAA “khủng” từ máy console https://www.24h.com.vn/cong-nghe-thong-tin/iphone-15-pro-sap-don-hang-loat-game-aaa-khung-tu-may-console-c55a1501253.html\n",
      "tech Game Chơi game sinh tồn ngoài hành tinh ICARUS sẽ siêu mượt nhờ công nghệ này https://www.24h.com.vn/cong-nghe-thong-tin/choi-game-sinh-ton-ngoai-hanh-tinh-icarus-se-sieu-muot-nho-cong-nghe-nay-c55a1501142.html\n",
      "tech Game Trò chơi cực \"viral\" từng khiến Độ Mixi “cay cú”, bất ngờ bị gỡ bỏ https://www.24h.com.vn/cong-nghe-thong-tin/tro-choi-cuc-viral-tung-khien-do-mixi-cay-cu-bat-ngo-bi-go-bo-c55a1500780.html\n",
      "tech Game Lộ diện dàn diễn viên “khủng” của bộ phim Liên Minh Huyền Thoại sắp ra mắt https://www.24h.com.vn/cong-nghe-thong-tin/lo-dien-dan-dien-vien-khung-cua-bo-phim-lien-minh-huyen-thoai-sap-ra-mat-c55a1500199.html\n",
      "tech Game Bỏng mắt trước màn hóa thân cực “cuốn” thành Tel’Annas game Liên Quân Mobile https://www.24h.com.vn/cong-nghe-thong-tin/bong-mat-truoc-man-hoa-than-cuc-cuon-thanh-telannas-game-lien-quan-mobile-c55a1498126.html\n",
      "tech Game Màn cosplay nữ tướng Jett game Valorant siêu “nóng mắt” https://www.24h.com.vn/cong-nghe-thong-tin/man-cosplay-nu-tuong-jett-game-valorant-sieu-nong-mat-c55a1497649.html\n",
      "tech Game Gói cước Internet Wi-Fi 6 tốc độ \"khủng\", tối ưu cho Liên Quân Mobile và FIFA Online 4 https://www.24h.com.vn/cong-nghe-thong-tin/goi-cuoc-internet-wi-fi-6-toc-do-khung-toi-uu-cho-lien-quan-mobile-va-online-4-c55a1496631.html\n",
      "tech Game Game \"bắn phá\" lừng danh Nhật Bản với đồ họa 3D đẹp mắt cho Android và iOS https://www.24h.com.vn/cong-nghe-thong-tin/game-ban-pha-lung-danh-nhat-ban-voi-do-hoa-3d-dep-mat-cho-android-va-ios-c55a1495125.html\n",
      "tech Game Ngắm màn cosplay “đốt mắt” của nữ xạ thủ Helm game Goddess of Victory: Nikke https://www.24h.com.vn/cong-nghe-thong-tin/ngam-man-cosplay-dot-mat-cua-nu-xa-thu-helm-game-goddess-of-victory-nikke-c55a1494340.html\n"
     ]
    },
    {
     "ename": "StaleElementReferenceException",
     "evalue": "Message: stale element reference: stale element not found\n  (Session info: chrome=119.0.6045.124); For documentation on this error, please visit: https://www.selenium.dev/documentation/webdriver/troubleshooting/errors#stale-element-reference-exception\nStacktrace:\n\tGetHandleVerifier [0x003C72A3+45731]\n\t(No symbol) [0x00352D51]\n\t(No symbol) [0x0024880D]\n\t(No symbol) [0x0024C3EA]\n\t(No symbol) [0x0024DD59]\n\t(No symbol) [0x002ABFCC]\n\t(No symbol) [0x00297FDC]\n\t(No symbol) [0x002AB7A2]\n\t(No symbol) [0x00297DD6]\n\t(No symbol) [0x002731F6]\n\t(No symbol) [0x0027439D]\n\tGetHandleVerifier [0x006D0716+3229462]\n\tGetHandleVerifier [0x007184C8+3523784]\n\tGetHandleVerifier [0x0071214C+3498316]\n\tGetHandleVerifier [0x00451680+611968]\n\t(No symbol) [0x0035CCCC]\n\t(No symbol) [0x00358DF8]\n\t(No symbol) [0x00358F1D]\n\t(No symbol) [0x0034B2C7]\n\tBaseThreadInitThunk [0x75F8FCC9+25]\n\tRtlGetAppContainerNamedObjectPath [0x77797C6E+286]\n\tRtlGetAppContainerNamedObjectPath [0x77797C3E+238]\n",
     "output_type": "error",
     "traceback": [
      "\u001b[1;31m---------------------------------------------------------------------------\u001b[0m",
      "\u001b[1;31mStaleElementReferenceException\u001b[0m            Traceback (most recent call last)",
      "Cell \u001b[1;32mIn[9], line 8\u001b[0m\n\u001b[0;32m      6\u001b[0m \u001b[38;5;28;01mif\u001b[39;00m u \u001b[38;5;129;01mnot\u001b[39;00m \u001b[38;5;129;01min\u001b[39;00m \u001b[38;5;28mlist\u001b[39m(_24h_com_vn2[\u001b[38;5;124m'\u001b[39m\u001b[38;5;124murls\u001b[39m\u001b[38;5;124m'\u001b[39m][i][\u001b[38;5;124m'\u001b[39m\u001b[38;5;124msub-category\u001b[39m\u001b[38;5;124m'\u001b[39m][j][\u001b[38;5;124m'\u001b[39m\u001b[38;5;124mcontent\u001b[39m\u001b[38;5;124m'\u001b[39m]\u001b[38;5;241m.\u001b[39mkeys()):\n\u001b[0;32m      7\u001b[0m     _24h_com_vn2[\u001b[38;5;124m'\u001b[39m\u001b[38;5;124murls\u001b[39m\u001b[38;5;124m'\u001b[39m][i][\u001b[38;5;124m'\u001b[39m\u001b[38;5;124msub-category\u001b[39m\u001b[38;5;124m'\u001b[39m][j][\u001b[38;5;124m'\u001b[39m\u001b[38;5;124mcontent\u001b[39m\u001b[38;5;124m'\u001b[39m][u] \u001b[38;5;241m=\u001b[39m {}\n\u001b[1;32m----> 8\u001b[0m     _24h_com_vn2[\u001b[38;5;124m'\u001b[39m\u001b[38;5;124murls\u001b[39m\u001b[38;5;124m'\u001b[39m][i][\u001b[38;5;124m'\u001b[39m\u001b[38;5;124msub-category\u001b[39m\u001b[38;5;124m'\u001b[39m][j][\u001b[38;5;124m'\u001b[39m\u001b[38;5;124mcontent\u001b[39m\u001b[38;5;124m'\u001b[39m][u][\u001b[38;5;124m'\u001b[39m\u001b[38;5;124mtitle\u001b[39m\u001b[38;5;124m'\u001b[39m],_24h_com_vn2[\u001b[38;5;124m'\u001b[39m\u001b[38;5;124murls\u001b[39m\u001b[38;5;124m'\u001b[39m][i][\u001b[38;5;124m'\u001b[39m\u001b[38;5;124msub-category\u001b[39m\u001b[38;5;124m'\u001b[39m][j][\u001b[38;5;124m'\u001b[39m\u001b[38;5;124mcontent\u001b[39m\u001b[38;5;124m'\u001b[39m][u][\u001b[38;5;124m'\u001b[39m\u001b[38;5;124mposted_date\u001b[39m\u001b[38;5;124m'\u001b[39m],_24h_com_vn2[\u001b[38;5;124m'\u001b[39m\u001b[38;5;124murls\u001b[39m\u001b[38;5;124m'\u001b[39m][i][\u001b[38;5;124m'\u001b[39m\u001b[38;5;124msub-category\u001b[39m\u001b[38;5;124m'\u001b[39m][j][\u001b[38;5;124m'\u001b[39m\u001b[38;5;124mcontent\u001b[39m\u001b[38;5;124m'\u001b[39m][u][\u001b[38;5;124m'\u001b[39m\u001b[38;5;124mh2\u001b[39m\u001b[38;5;124m'\u001b[39m],_24h_com_vn2[\u001b[38;5;124m'\u001b[39m\u001b[38;5;124murls\u001b[39m\u001b[38;5;124m'\u001b[39m][i][\u001b[38;5;124m'\u001b[39m\u001b[38;5;124msub-category\u001b[39m\u001b[38;5;124m'\u001b[39m][j][\u001b[38;5;124m'\u001b[39m\u001b[38;5;124mcontent\u001b[39m\u001b[38;5;124m'\u001b[39m][u][\u001b[38;5;124m'\u001b[39m\u001b[38;5;124mtext_list\u001b[39m\u001b[38;5;124m'\u001b[39m],_24h_com_vn2[\u001b[38;5;124m'\u001b[39m\u001b[38;5;124murls\u001b[39m\u001b[38;5;124m'\u001b[39m][i][\u001b[38;5;124m'\u001b[39m\u001b[38;5;124msub-category\u001b[39m\u001b[38;5;124m'\u001b[39m][j][\u001b[38;5;124m'\u001b[39m\u001b[38;5;124mcontent\u001b[39m\u001b[38;5;124m'\u001b[39m][u][\u001b[38;5;124m'\u001b[39m\u001b[38;5;124msource_url\u001b[39m\u001b[38;5;124m'\u001b[39m],_24h_com_vn2[\u001b[38;5;124m'\u001b[39m\u001b[38;5;124murls\u001b[39m\u001b[38;5;124m'\u001b[39m][i][\u001b[38;5;124m'\u001b[39m\u001b[38;5;124msub-category\u001b[39m\u001b[38;5;124m'\u001b[39m][j][\u001b[38;5;124m'\u001b[39m\u001b[38;5;124mcontent\u001b[39m\u001b[38;5;124m'\u001b[39m][u][\u001b[38;5;124m'\u001b[39m\u001b[38;5;124mimage_src\u001b[39m\u001b[38;5;124m'\u001b[39m] \u001b[38;5;241m=\u001b[39m get_post_content(driver,_24h_com_vn2[\u001b[38;5;124m'\u001b[39m\u001b[38;5;124murls\u001b[39m\u001b[38;5;124m'\u001b[39m][i][\u001b[38;5;124m'\u001b[39m\u001b[38;5;124msub-category\u001b[39m\u001b[38;5;124m'\u001b[39m][j][\u001b[38;5;124m'\u001b[39m\u001b[38;5;124murl_list\u001b[39m\u001b[38;5;124m'\u001b[39m][u])\n\u001b[0;32m      9\u001b[0m     \u001b[38;5;28mprint\u001b[39m(i,_24h_com_vn2[\u001b[38;5;124m'\u001b[39m\u001b[38;5;124murls\u001b[39m\u001b[38;5;124m'\u001b[39m][i][\u001b[38;5;124m'\u001b[39m\u001b[38;5;124msub-category\u001b[39m\u001b[38;5;124m'\u001b[39m][j][\u001b[38;5;124m'\u001b[39m\u001b[38;5;124mname\u001b[39m\u001b[38;5;124m'\u001b[39m],_24h_com_vn2[\u001b[38;5;124m'\u001b[39m\u001b[38;5;124murls\u001b[39m\u001b[38;5;124m'\u001b[39m][i][\u001b[38;5;124m'\u001b[39m\u001b[38;5;124msub-category\u001b[39m\u001b[38;5;124m'\u001b[39m][j][\u001b[38;5;124m'\u001b[39m\u001b[38;5;124mcontent\u001b[39m\u001b[38;5;124m'\u001b[39m][u][\u001b[38;5;124m'\u001b[39m\u001b[38;5;124mtitle\u001b[39m\u001b[38;5;124m'\u001b[39m],_24h_com_vn2[\u001b[38;5;124m'\u001b[39m\u001b[38;5;124murls\u001b[39m\u001b[38;5;124m'\u001b[39m][i][\u001b[38;5;124m'\u001b[39m\u001b[38;5;124msub-category\u001b[39m\u001b[38;5;124m'\u001b[39m][j][\u001b[38;5;124m'\u001b[39m\u001b[38;5;124murl_list\u001b[39m\u001b[38;5;124m'\u001b[39m][u])\n\u001b[0;32m     10\u001b[0m     \u001b[38;5;66;03m#time.sleep(3)\u001b[39;00m\n\u001b[0;32m     11\u001b[0m \u001b[38;5;28;01melse\u001b[39;00m:\n",
      "Cell \u001b[1;32mIn[6], line 11\u001b[0m, in \u001b[0;36mget_post_content\u001b[1;34m(driver, post_url)\u001b[0m\n\u001b[0;32m      9\u001b[0m \u001b[38;5;66;03m#parent_div = driver.find_element(By.TAG_NAME,'article')\u001b[39;00m\n\u001b[0;32m     10\u001b[0m images \u001b[38;5;241m=\u001b[39m  driver\u001b[38;5;241m.\u001b[39mfind_element(By\u001b[38;5;241m.\u001b[39mID,\u001b[38;5;124m\"\u001b[39m\u001b[38;5;124marticle_body\u001b[39m\u001b[38;5;124m\"\u001b[39m)\u001b[38;5;241m.\u001b[39mfind_elements(By\u001b[38;5;241m.\u001b[39mTAG_NAME,\u001b[38;5;124m'\u001b[39m\u001b[38;5;124mimg\u001b[39m\u001b[38;5;124m'\u001b[39m)[:\u001b[38;5;241m-\u001b[39m\u001b[38;5;241m1\u001b[39m]\n\u001b[1;32m---> 11\u001b[0m images_src \u001b[38;5;241m=\u001b[39m [img\u001b[38;5;241m.\u001b[39mget_attribute(\u001b[38;5;124m'\u001b[39m\u001b[38;5;124mdata-original\u001b[39m\u001b[38;5;124m'\u001b[39m) \u001b[38;5;28;01mif\u001b[39;00m \u001b[38;5;124m'\u001b[39m\u001b[38;5;124mhttps://image-us.24h.com.vn\u001b[39m\u001b[38;5;124m'\u001b[39m \u001b[38;5;129;01mnot\u001b[39;00m \u001b[38;5;129;01min\u001b[39;00m img\u001b[38;5;241m.\u001b[39mget_attribute(\u001b[38;5;124m'\u001b[39m\u001b[38;5;124msrc\u001b[39m\u001b[38;5;124m'\u001b[39m) \u001b[38;5;28;01melse\u001b[39;00m img\u001b[38;5;241m.\u001b[39mget_attribute(\u001b[38;5;124m'\u001b[39m\u001b[38;5;124msrc\u001b[39m\u001b[38;5;124m'\u001b[39m) \u001b[38;5;28;01mif\u001b[39;00m \u001b[38;5;124m'\u001b[39m\u001b[38;5;124msvg\u001b[39m\u001b[38;5;124m'\u001b[39m \u001b[38;5;129;01mnot\u001b[39;00m \u001b[38;5;129;01min\u001b[39;00m img\u001b[38;5;241m.\u001b[39mget_attribute(\u001b[38;5;124m'\u001b[39m\u001b[38;5;124msrc\u001b[39m\u001b[38;5;124m'\u001b[39m) \u001b[38;5;28;01melse\u001b[39;00m \u001b[38;5;124m'\u001b[39m\u001b[38;5;124m'\u001b[39m \u001b[38;5;28;01mfor\u001b[39;00m img \u001b[38;5;129;01min\u001b[39;00m images  ]\n\u001b[0;32m     12\u001b[0m images_src \u001b[38;5;241m=\u001b[39m [img \u001b[38;5;28;01mfor\u001b[39;00m img \u001b[38;5;129;01min\u001b[39;00m images_src \u001b[38;5;28;01mif\u001b[39;00m img \u001b[38;5;241m!=\u001b[39m \u001b[38;5;124m'\u001b[39m\u001b[38;5;124m'\u001b[39m]\n\u001b[0;32m     13\u001b[0m text_list \u001b[38;5;241m=\u001b[39m [ child\u001b[38;5;241m.\u001b[39mtext \u001b[38;5;28;01mfor\u001b[39;00m child \u001b[38;5;129;01min\u001b[39;00m driver\u001b[38;5;241m.\u001b[39mfind_element(By\u001b[38;5;241m.\u001b[39mTAG_NAME,\u001b[38;5;124m'\u001b[39m\u001b[38;5;124marticle\u001b[39m\u001b[38;5;124m'\u001b[39m)\u001b[38;5;241m.\u001b[39mfind_elements(By\u001b[38;5;241m.\u001b[39mTAG_NAME,\u001b[38;5;124m'\u001b[39m\u001b[38;5;124mp\u001b[39m\u001b[38;5;124m'\u001b[39m)[:\u001b[38;5;241m-\u001b[39m\u001b[38;5;241m4\u001b[39m] \u001b[38;5;28;01mif\u001b[39;00m re\u001b[38;5;241m.\u001b[39msub(\u001b[38;5;124mr\u001b[39m\u001b[38;5;124m'\u001b[39m\u001b[38;5;124m\\\u001b[39m\u001b[38;5;124mn+\u001b[39m\u001b[38;5;124m'\u001b[39m, \u001b[38;5;124m'\u001b[39m\u001b[38;5;124m'\u001b[39m, child\u001b[38;5;241m.\u001b[39mtext) \u001b[38;5;241m!=\u001b[39m \u001b[38;5;124m\"\u001b[39m\u001b[38;5;124m\"\u001b[39m]\n",
      "Cell \u001b[1;32mIn[6], line 11\u001b[0m, in \u001b[0;36m<listcomp>\u001b[1;34m(.0)\u001b[0m\n\u001b[0;32m      9\u001b[0m \u001b[38;5;66;03m#parent_div = driver.find_element(By.TAG_NAME,'article')\u001b[39;00m\n\u001b[0;32m     10\u001b[0m images \u001b[38;5;241m=\u001b[39m  driver\u001b[38;5;241m.\u001b[39mfind_element(By\u001b[38;5;241m.\u001b[39mID,\u001b[38;5;124m\"\u001b[39m\u001b[38;5;124marticle_body\u001b[39m\u001b[38;5;124m\"\u001b[39m)\u001b[38;5;241m.\u001b[39mfind_elements(By\u001b[38;5;241m.\u001b[39mTAG_NAME,\u001b[38;5;124m'\u001b[39m\u001b[38;5;124mimg\u001b[39m\u001b[38;5;124m'\u001b[39m)[:\u001b[38;5;241m-\u001b[39m\u001b[38;5;241m1\u001b[39m]\n\u001b[1;32m---> 11\u001b[0m images_src \u001b[38;5;241m=\u001b[39m [img\u001b[38;5;241m.\u001b[39mget_attribute(\u001b[38;5;124m'\u001b[39m\u001b[38;5;124mdata-original\u001b[39m\u001b[38;5;124m'\u001b[39m) \u001b[38;5;28;01mif\u001b[39;00m \u001b[38;5;124m'\u001b[39m\u001b[38;5;124mhttps://image-us.24h.com.vn\u001b[39m\u001b[38;5;124m'\u001b[39m \u001b[38;5;129;01mnot\u001b[39;00m \u001b[38;5;129;01min\u001b[39;00m img\u001b[38;5;241m.\u001b[39mget_attribute(\u001b[38;5;124m'\u001b[39m\u001b[38;5;124msrc\u001b[39m\u001b[38;5;124m'\u001b[39m) \u001b[38;5;28;01melse\u001b[39;00m img\u001b[38;5;241m.\u001b[39mget_attribute(\u001b[38;5;124m'\u001b[39m\u001b[38;5;124msrc\u001b[39m\u001b[38;5;124m'\u001b[39m) \u001b[38;5;28;01mif\u001b[39;00m \u001b[38;5;124m'\u001b[39m\u001b[38;5;124msvg\u001b[39m\u001b[38;5;124m'\u001b[39m \u001b[38;5;129;01mnot\u001b[39;00m \u001b[38;5;129;01min\u001b[39;00m img\u001b[38;5;241m.\u001b[39mget_attribute(\u001b[38;5;124m'\u001b[39m\u001b[38;5;124msrc\u001b[39m\u001b[38;5;124m'\u001b[39m) \u001b[38;5;28;01melse\u001b[39;00m \u001b[38;5;124m'\u001b[39m\u001b[38;5;124m'\u001b[39m \u001b[38;5;28;01mfor\u001b[39;00m img \u001b[38;5;129;01min\u001b[39;00m images  ]\n\u001b[0;32m     12\u001b[0m images_src \u001b[38;5;241m=\u001b[39m [img \u001b[38;5;28;01mfor\u001b[39;00m img \u001b[38;5;129;01min\u001b[39;00m images_src \u001b[38;5;28;01mif\u001b[39;00m img \u001b[38;5;241m!=\u001b[39m \u001b[38;5;124m'\u001b[39m\u001b[38;5;124m'\u001b[39m]\n\u001b[0;32m     13\u001b[0m text_list \u001b[38;5;241m=\u001b[39m [ child\u001b[38;5;241m.\u001b[39mtext \u001b[38;5;28;01mfor\u001b[39;00m child \u001b[38;5;129;01min\u001b[39;00m driver\u001b[38;5;241m.\u001b[39mfind_element(By\u001b[38;5;241m.\u001b[39mTAG_NAME,\u001b[38;5;124m'\u001b[39m\u001b[38;5;124marticle\u001b[39m\u001b[38;5;124m'\u001b[39m)\u001b[38;5;241m.\u001b[39mfind_elements(By\u001b[38;5;241m.\u001b[39mTAG_NAME,\u001b[38;5;124m'\u001b[39m\u001b[38;5;124mp\u001b[39m\u001b[38;5;124m'\u001b[39m)[:\u001b[38;5;241m-\u001b[39m\u001b[38;5;241m4\u001b[39m] \u001b[38;5;28;01mif\u001b[39;00m re\u001b[38;5;241m.\u001b[39msub(\u001b[38;5;124mr\u001b[39m\u001b[38;5;124m'\u001b[39m\u001b[38;5;124m\\\u001b[39m\u001b[38;5;124mn+\u001b[39m\u001b[38;5;124m'\u001b[39m, \u001b[38;5;124m'\u001b[39m\u001b[38;5;124m'\u001b[39m, child\u001b[38;5;241m.\u001b[39mtext) \u001b[38;5;241m!=\u001b[39m \u001b[38;5;124m\"\u001b[39m\u001b[38;5;124m\"\u001b[39m]\n",
      "File \u001b[1;32m~\\anaconda3\\Lib\\site-packages\\selenium\\webdriver\\remote\\webelement.py:178\u001b[0m, in \u001b[0;36mWebElement.get_attribute\u001b[1;34m(self, name)\u001b[0m\n\u001b[0;32m    176\u001b[0m \u001b[38;5;28;01mif\u001b[39;00m getAttribute_js \u001b[38;5;129;01mis\u001b[39;00m \u001b[38;5;28;01mNone\u001b[39;00m:\n\u001b[0;32m    177\u001b[0m     _load_js()\n\u001b[1;32m--> 178\u001b[0m attribute_value \u001b[38;5;241m=\u001b[39m \u001b[38;5;28mself\u001b[39m\u001b[38;5;241m.\u001b[39mparent\u001b[38;5;241m.\u001b[39mexecute_script(\n\u001b[0;32m    179\u001b[0m     \u001b[38;5;124mf\u001b[39m\u001b[38;5;124m\"\u001b[39m\u001b[38;5;124m/* getAttribute */return (\u001b[39m\u001b[38;5;132;01m{\u001b[39;00mgetAttribute_js\u001b[38;5;132;01m}\u001b[39;00m\u001b[38;5;124m).apply(null, arguments);\u001b[39m\u001b[38;5;124m\"\u001b[39m, \u001b[38;5;28mself\u001b[39m, name\n\u001b[0;32m    180\u001b[0m )\n\u001b[0;32m    181\u001b[0m \u001b[38;5;28;01mreturn\u001b[39;00m attribute_value\n",
      "File \u001b[1;32m~\\anaconda3\\Lib\\site-packages\\selenium\\webdriver\\remote\\webdriver.py:406\u001b[0m, in \u001b[0;36mWebDriver.execute_script\u001b[1;34m(self, script, *args)\u001b[0m\n\u001b[0;32m    403\u001b[0m converted_args \u001b[38;5;241m=\u001b[39m \u001b[38;5;28mlist\u001b[39m(args)\n\u001b[0;32m    404\u001b[0m command \u001b[38;5;241m=\u001b[39m Command\u001b[38;5;241m.\u001b[39mW3C_EXECUTE_SCRIPT\n\u001b[1;32m--> 406\u001b[0m \u001b[38;5;28;01mreturn\u001b[39;00m \u001b[38;5;28mself\u001b[39m\u001b[38;5;241m.\u001b[39mexecute(command, {\u001b[38;5;124m\"\u001b[39m\u001b[38;5;124mscript\u001b[39m\u001b[38;5;124m\"\u001b[39m: script, \u001b[38;5;124m\"\u001b[39m\u001b[38;5;124margs\u001b[39m\u001b[38;5;124m\"\u001b[39m: converted_args})[\u001b[38;5;124m\"\u001b[39m\u001b[38;5;124mvalue\u001b[39m\u001b[38;5;124m\"\u001b[39m]\n",
      "File \u001b[1;32m~\\anaconda3\\Lib\\site-packages\\selenium\\webdriver\\remote\\webdriver.py:346\u001b[0m, in \u001b[0;36mWebDriver.execute\u001b[1;34m(self, driver_command, params)\u001b[0m\n\u001b[0;32m    344\u001b[0m response \u001b[38;5;241m=\u001b[39m \u001b[38;5;28mself\u001b[39m\u001b[38;5;241m.\u001b[39mcommand_executor\u001b[38;5;241m.\u001b[39mexecute(driver_command, params)\n\u001b[0;32m    345\u001b[0m \u001b[38;5;28;01mif\u001b[39;00m response:\n\u001b[1;32m--> 346\u001b[0m     \u001b[38;5;28mself\u001b[39m\u001b[38;5;241m.\u001b[39merror_handler\u001b[38;5;241m.\u001b[39mcheck_response(response)\n\u001b[0;32m    347\u001b[0m     response[\u001b[38;5;124m\"\u001b[39m\u001b[38;5;124mvalue\u001b[39m\u001b[38;5;124m\"\u001b[39m] \u001b[38;5;241m=\u001b[39m \u001b[38;5;28mself\u001b[39m\u001b[38;5;241m.\u001b[39m_unwrap_value(response\u001b[38;5;241m.\u001b[39mget(\u001b[38;5;124m\"\u001b[39m\u001b[38;5;124mvalue\u001b[39m\u001b[38;5;124m\"\u001b[39m, \u001b[38;5;28;01mNone\u001b[39;00m))\n\u001b[0;32m    348\u001b[0m     \u001b[38;5;28;01mreturn\u001b[39;00m response\n",
      "File \u001b[1;32m~\\anaconda3\\Lib\\site-packages\\selenium\\webdriver\\remote\\errorhandler.py:245\u001b[0m, in \u001b[0;36mErrorHandler.check_response\u001b[1;34m(self, response)\u001b[0m\n\u001b[0;32m    243\u001b[0m         alert_text \u001b[38;5;241m=\u001b[39m value[\u001b[38;5;124m\"\u001b[39m\u001b[38;5;124malert\u001b[39m\u001b[38;5;124m\"\u001b[39m]\u001b[38;5;241m.\u001b[39mget(\u001b[38;5;124m\"\u001b[39m\u001b[38;5;124mtext\u001b[39m\u001b[38;5;124m\"\u001b[39m)\n\u001b[0;32m    244\u001b[0m     \u001b[38;5;28;01mraise\u001b[39;00m exception_class(message, screen, stacktrace, alert_text)  \u001b[38;5;66;03m# type: ignore[call-arg]  # mypy is not smart enough here\u001b[39;00m\n\u001b[1;32m--> 245\u001b[0m \u001b[38;5;28;01mraise\u001b[39;00m exception_class(message, screen, stacktrace)\n",
      "\u001b[1;31mStaleElementReferenceException\u001b[0m: Message: stale element reference: stale element not found\n  (Session info: chrome=119.0.6045.124); For documentation on this error, please visit: https://www.selenium.dev/documentation/webdriver/troubleshooting/errors#stale-element-reference-exception\nStacktrace:\n\tGetHandleVerifier [0x003C72A3+45731]\n\t(No symbol) [0x00352D51]\n\t(No symbol) [0x0024880D]\n\t(No symbol) [0x0024C3EA]\n\t(No symbol) [0x0024DD59]\n\t(No symbol) [0x002ABFCC]\n\t(No symbol) [0x00297FDC]\n\t(No symbol) [0x002AB7A2]\n\t(No symbol) [0x00297DD6]\n\t(No symbol) [0x002731F6]\n\t(No symbol) [0x0027439D]\n\tGetHandleVerifier [0x006D0716+3229462]\n\tGetHandleVerifier [0x007184C8+3523784]\n\tGetHandleVerifier [0x0071214C+3498316]\n\tGetHandleVerifier [0x00451680+611968]\n\t(No symbol) [0x0035CCCC]\n\t(No symbol) [0x00358DF8]\n\t(No symbol) [0x00358F1D]\n\t(No symbol) [0x0034B2C7]\n\tBaseThreadInitThunk [0x75F8FCC9+25]\n\tRtlGetAppContainerNamedObjectPath [0x77797C6E+286]\n\tRtlGetAppContainerNamedObjectPath [0x77797C3E+238]\n"
     ]
    }
   ],
   "source": [
    "for i in list(_24h_com_vn2['urls'].keys()):\n",
    "    for j in list(_24h_com_vn2['urls'][i]['sub-category'].keys()):\n",
    "        _24h_com_vn2['urls'][i]['sub-category'][j]['content'] = {}\n",
    "        list_key = [v for v in range(0,len(_24h_com_vn2['urls'][i]['sub-category'][j]['url_list']))]\n",
    "        for u in list_key:\n",
    "            if u not in list(_24h_com_vn2['urls'][i]['sub-category'][j]['content'].keys()):\n",
    "                _24h_com_vn2['urls'][i]['sub-category'][j]['content'][u] = {}\n",
    "                _24h_com_vn2['urls'][i]['sub-category'][j]['content'][u]['title'],_24h_com_vn2['urls'][i]['sub-category'][j]['content'][u]['posted_date'],_24h_com_vn2['urls'][i]['sub-category'][j]['content'][u]['h2'],_24h_com_vn2['urls'][i]['sub-category'][j]['content'][u]['text_list'],_24h_com_vn2['urls'][i]['sub-category'][j]['content'][u]['source_url'],_24h_com_vn2['urls'][i]['sub-category'][j]['content'][u]['image_src'] = get_post_content(driver,_24h_com_vn2['urls'][i]['sub-category'][j]['url_list'][u])\n",
    "                print(i,_24h_com_vn2['urls'][i]['sub-category'][j]['name'],_24h_com_vn2['urls'][i]['sub-category'][j]['content'][u]['title'],_24h_com_vn2['urls'][i]['sub-category'][j]['url_list'][u])\n",
    "                #time.sleep(3)\n",
    "            else:\n",
    "                print(i,_24h_com_vn2['urls'][i]['sub-category'][j]['name'],_24h_com_vn2['urls'][i]['sub-category'][j]['content'][u]['title'],_24h_com_vn2['urls'][i]['sub-category'][j]['url_list'][u])\n"
   ]
  },
  {
   "cell_type": "code",
   "execution_count": 17,
   "id": "de56a4db-b4e4-4d0e-8e6a-52efecfb957f",
   "metadata": {},
   "outputs": [
    {
     "data": {
      "text/plain": [
       "dict_keys(['tech', 'youths', 'showbiz', 'cars'])"
      ]
     },
     "execution_count": 17,
     "metadata": {},
     "output_type": "execute_result"
    }
   ],
   "source": [
    "_24h_com_vn2['urls'].keys()"
   ]
  },
  {
   "cell_type": "code",
   "execution_count": 2,
   "id": "a4347c4f-a2ee-4e74-b783-647639ca7688",
   "metadata": {},
   "outputs": [
    {
     "name": "stdout",
     "output_type": "stream",
     "text": [
      "1\n",
      "2\n",
      "3\n",
      "4\n",
      "5\n",
      "7\n",
      "8\n"
     ]
    }
   ],
   "source": [
    "list = [1,2,3,4,5,5,7,8,112]\n",
    "for i in range(0,15):\n",
    "    if i in list:\n",
    "        print(i)\n",
    "    else:\n",
    "        continue"
   ]
  },
  {
   "cell_type": "code",
   "execution_count": 1,
   "id": "70bff491-b5e9-4453-9f1a-1ed411b79cb5",
   "metadata": {},
   "outputs": [
    {
     "name": "stderr",
     "output_type": "stream",
     "text": [
      "UsageError: Unknown variable '_24h_com_vn2'\n"
     ]
    }
   ],
   "source": [
    "%store _24h_com_vn"
   ]
  },
  {
   "cell_type": "code",
   "execution_count": 3,
   "id": "1d75c0b6-79fc-4ec3-9c80-a38898343336",
   "metadata": {},
   "outputs": [],
   "source": [
    "%store  -r _24h_com_vn"
   ]
  },
  {
   "cell_type": "code",
   "execution_count": 24,
   "id": "b9e563de-064b-4a31-b090-8e618fa88986",
   "metadata": {},
   "outputs": [
    {
     "name": "stdout",
     "output_type": "stream",
     "text": [
      "tech 0 Game 19 19\n",
      "tech 1 Phần mềm 594 110\n",
      "tech 2 Khoa học 2904 110\n",
      "tech 3 Mạng xã hội 150 51\n",
      "tech 4 Thủ thuật - Tiện ích 44 44\n",
      "tech 5 Sợ Virus 1500 48\n",
      "tech 6 Máy in/phụ kiện 110 110\n",
      "tech 7 Khám phá công nghệ 3058 110\n",
      "youths 0 Chuyện công sở 15 15\n",
      "youths 1 Tình yêu - Giới Tính 756 140\n",
      "youths 2 Ngoại tình 599 81\n",
      "youths 3 Giới trẻ 756 140\n",
      "youths 4 Hotgirl - Hotboy 9140 295\n",
      "youths 5 Nhịp sống trẻ 190 64\n",
      "showbiz 0 Sao Việt 201 201\n",
      "showbiz 1 24h gặp gỡ 372 51\n",
      "showbiz 2 Talk với sao 48 48\n",
      "showbiz 3 Sao châu Á 111 111\n",
      "cars 0 Tin tức ô tô 140 140\n",
      "cars 1 Bảng giá xe ô tô 131 131\n",
      "cars 2 Tư vấn 39 39\n",
      "cars 3 Ngắm xe 60 60\n",
      "cars 4 Đánh giá xe 16 16\n"
     ]
    }
   ],
   "source": [
    "total_post = 0\n",
    "for i in list(_24h_com_vn['urls'].keys()):\n",
    "    for j in list(_24h_com_vn['urls'][i]['sub-category'].keys()):\n",
    "        print(i,j,_24h_com_vn['urls'][i]['sub-category'][j]['name'],len(_24h_com_vn['urls'][i]['sub-category'][j]['url_list']),len(set(_24h_com_vn['urls'][i]['sub-category'][j]['url_list'])))\n",
    "        total_post +=len(_24h_com_vn['urls'][i]['sub-category'][j]['url_list'])"
   ]
  },
  {
   "cell_type": "code",
   "execution_count": 23,
   "id": "e5cd7233-1d84-4d06-a484-26bc62feac5a",
   "metadata": {},
   "outputs": [
    {
     "data": {
      "text/plain": [
       "20953"
      ]
     },
     "execution_count": 23,
     "metadata": {},
     "output_type": "execute_result"
    }
   ],
   "source": [
    "total_post"
   ]
  },
  {
   "cell_type": "code",
   "execution_count": 18,
   "id": "36ded3fd-e35e-407b-8bb8-5f0a40cf7398",
   "metadata": {},
   "outputs": [
    {
     "data": {
      "text/plain": [
       "dict_keys([0, 1, 2, 3, 4, 5, 6, 7])"
      ]
     },
     "execution_count": 18,
     "metadata": {},
     "output_type": "execute_result"
    }
   ],
   "source": [
    "_24h_com_vn['urls']['tech']['sub-category'].keys()"
   ]
  },
  {
   "cell_type": "code",
   "execution_count": 11,
   "id": "847b5c00-3363-4458-8b72-0e20a7e4af2b",
   "metadata": {},
   "outputs": [
    {
     "data": {
      "text/plain": [
       "2904"
      ]
     },
     "execution_count": 11,
     "metadata": {},
     "output_type": "execute_result"
    }
   ],
   "source": [
    "len(_24h_com_vn2['urls']['tech']['sub-category'][2]['url_list'])"
   ]
  },
  {
   "cell_type": "code",
   "execution_count": 16,
   "id": "1d707495-072a-4980-8e74-7f37426ff871",
   "metadata": {},
   "outputs": [
    {
     "data": {
      "text/plain": [
       "110"
      ]
     },
     "execution_count": 16,
     "metadata": {},
     "output_type": "execute_result"
    }
   ],
   "source": [
    "import numpy as np\n",
    "len(set(_24h_com_vn2['urls']['tech']['sub-category'][2]['url_list']))"
   ]
  },
  {
   "cell_type": "code",
   "execution_count": null,
   "id": "59fd8b31-a87e-49d5-9c5d-6d820de64c81",
   "metadata": {},
   "outputs": [],
   "source": []
  },
  {
   "cell_type": "code",
   "execution_count": 35,
   "id": "f5ec5b8a-97d5-4149-af16-f50fcedc4d10",
   "metadata": {},
   "outputs": [
    {
     "name": "stdout",
     "output_type": "stream",
     "text": [
      "0\n",
      "1\n",
      "2\n",
      "3\n",
      "4\n",
      "5\n",
      "6\n",
      "7\n",
      "content\n",
      "0\n",
      "1\n",
      "2\n",
      "3\n",
      "4\n",
      "5\n",
      "0\n",
      "1\n",
      "2\n",
      "3\n",
      "0\n",
      "1\n",
      "2\n",
      "3\n",
      "4\n"
     ]
    }
   ],
   "source": [
    "number_of_post = []\n",
    "for i in list(_24h_com_vn2['urls'].keys()):\n",
    "    for j in list(_24h_com_vn2['urls'][i]['sub-category'].keys()):\n",
    "        #print(j)\n",
    "        #print(len(list(_24h_com_vn2['urls'][i]['sub-category'][j]['url_list'])))\n",
    "        #number_of_post.append(len(list(_24h_com_vn2['urls'][i]['sub-category']['url_list'])))\n",
    "\n"
   ]
  },
  {
   "cell_type": "code",
   "execution_count": 28,
   "id": "c10ffb83-5cae-430d-a5b3-dc6a11c22f33",
   "metadata": {},
   "outputs": [
    {
     "data": {
      "text/plain": [
       "['https://www.24h.com.vn/cong-nghe-thong-tin/microsoft-solitaire-tua-game-pho-bien-nhat-moi-thoi-dai-tu-microsoft-c55a1510318.html',\n",
       " 'https://www.24h.com.vn/cong-nghe-thong-tin/microsoft-vui-mung-vi-chot-so-thanh-cong-thuong-vu-69-ty-usd-c55a1510065.html',\n",
       " 'https://www.24h.com.vn/cong-nghe-thong-tin/sony-bat-ngo-bo-sung-phien-ban-sieu-mong-cho-playstation-5-c55a1509349.html',\n",
       " 'https://www.24h.com.vn/cong-nghe-thong-tin/khoi-tranh-giai-esport-valorant-va-lien-minh-huyen-thoai-quy-mo-2-ty-dong-c55a1504970.html',\n",
       " 'https://www.24h.com.vn/cong-nghe-thong-tin/guc-nga-truoc-man-cosplay-tingyun-game-honkai-star-rail-sieu-ngot-ngao-c55a1504008.html',\n",
       " 'https://www.24h.com.vn/cong-nghe-thong-tin/freefire-va-youtube-treo-thuong-15-trieu-usd-cho-cac-nha-sang-tao-noi-dung-c55a1503594.html',\n",
       " 'https://www.24h.com.vn/cong-nghe-thong-tin/viet-nam-co-doi-tuyen-tranh-huy-chuong-6-7-mon-esport-tai-asiad-19-c55a1503531.html',\n",
       " 'https://www.24h.com.vn/cong-nghe-thong-tin/lan-dau-lam-chuyen-ay-apple-gap-kho-khi-lan-san-vao-nganh-game-c55a1502202.html',\n",
       " 'https://www.24h.com.vn/cong-nghe-thong-tin/iphone-15-pro-sap-don-hang-loat-game-aaa-khung-tu-may-console-c55a1501253.html',\n",
       " 'https://www.24h.com.vn/cong-nghe-thong-tin/choi-game-sinh-ton-ngoai-hanh-tinh-icarus-se-sieu-muot-nho-cong-nghe-nay-c55a1501142.html',\n",
       " 'https://www.24h.com.vn/cong-nghe-thong-tin/tro-choi-cuc-viral-tung-khien-do-mixi-cay-cu-bat-ngo-bi-go-bo-c55a1500780.html',\n",
       " 'https://www.24h.com.vn/cong-nghe-thong-tin/lo-dien-dan-dien-vien-khung-cua-bo-phim-lien-minh-huyen-thoai-sap-ra-mat-c55a1500199.html',\n",
       " 'https://www.24h.com.vn/cong-nghe-thong-tin/bong-mat-truoc-man-hoa-than-cuc-cuon-thanh-telannas-game-lien-quan-mobile-c55a1498126.html',\n",
       " 'https://www.24h.com.vn/cong-nghe-thong-tin/man-cosplay-nu-tuong-jett-game-valorant-sieu-nong-mat-c55a1497649.html',\n",
       " 'https://www.24h.com.vn/cong-nghe-thong-tin/goi-cuoc-internet-wi-fi-6-toc-do-khung-toi-uu-cho-lien-quan-mobile-va-online-4-c55a1496631.html',\n",
       " 'https://www.24h.com.vn/cong-nghe-thong-tin/game-ban-pha-lung-danh-nhat-ban-voi-do-hoa-3d-dep-mat-cho-android-va-ios-c55a1495125.html',\n",
       " 'https://www.24h.com.vn/cong-nghe-thong-tin/ngam-man-cosplay-dot-mat-cua-nu-xa-thu-helm-game-goddess-of-victory-nikke-c55a1494340.html',\n",
       " 'https://www.24h.com.vn/cong-nghe-thong-tin/co-nang-ganyu-game-genshin-impact-trong-man-cosplay-cuc-cuon-c55a1493194.html',\n",
       " 'https://www.24h.com.vn/cong-nghe-thong-tin/guc-nga-truoc-man-hoa-than-nong-bong-thanh-nu-tuong-seraphine-game-lmht-c55a1492926.html']"
      ]
     },
     "execution_count": 28,
     "metadata": {},
     "output_type": "execute_result"
    }
   ],
   "source": [
    "_24h_com_vn2['urls']['tech']['sub-category'][0]['url_list']"
   ]
  },
  {
   "cell_type": "code",
   "execution_count": 25,
   "id": "348d6a24-e13f-4f50-90d7-637700f60375",
   "metadata": {},
   "outputs": [
    {
     "data": {
      "text/plain": [
       "['https://www.24h.com.vn/cong-nghe-thong-tin/chatgpt-bi-nhom-hacker-anonymous-tan-cong-ddos-toi-sap-may-chu-c55a1517581.html',\n",
       " 'https://www.24h.com.vn/cong-nghe-thong-tin/nguoi-dung-windows-10-sap-co-them-tin-vui-c55a1517305.html',\n",
       " 'https://www.24h.com.vn/cong-nghe-thong-tin/sau-usb-type-c-tren-iphone-apple-sap-co-thay-doi-lon-lien-quan-kho-ung-dung-c55a1517294.html',\n",
       " 'https://www.24h.com.vn/cong-nghe-thong-tin/coi-chung-mat-sach-du-lieu-tren-smartphone-vi-ung-dung-chat-tuy-bien-c55a1517270.html',\n",
       " 'https://www.24h.com.vn/cong-nghe-thong-tin/tiet-lo-cua-openai-cho-thay-chatgpt-chua-het-thoi-c55a1517186.html',\n",
       " 'https://www.24h.com.vn/cong-nghe-thong-tin/vi-sao-apple-bat-ngo-tam-dung-phat-trien-ios-18-c55a1516938.html',\n",
       " 'https://www.24h.com.vn/cong-nghe-thong-tin/ios-1711-chinh-thuc-duoc-phat-hanh-hay-cap-nhat-ngay-c55a1516934.html',\n",
       " 'https://www.24h.com.vn/cong-nghe-thong-tin/apple-co-the-phat-hanh-ios-1711-som-hon-du-kien-c55a1516826.html',\n",
       " 'https://www.24h.com.vn/cong-nghe-thong-tin/elon-musk-bat-mi-ve-chatbot-moi-manh-dang-gom-c55a1516298.html',\n",
       " 'https://www.24h.com.vn/cong-nghe-thong-tin/windows-11-da-ho-tro-den-11-loai-dinh-dang-file-nen-c55a1516181.html',\n",
       " 'https://www.24h.com.vn/cong-nghe-thong-tin/cach-bao-ve-iphone-an-toan-truoc-thiet-bi-tinh-vi-moi-c55a1516035.html',\n",
       " 'https://www.24h.com.vn/cong-nghe-thong-tin/dong-thai-cua-nguoi-dung-sau-cuoc-dan-ap-trinh-chan-quang-cao-cua-youtube-c55a1515954.html',\n",
       " 'https://www.24h.com.vn/cong-nghe-thong-tin/nguoi-dung-than-troi-vi-su-co-cua-ban-cap-nhat-windows-11-moi-c55a1515911.html',\n",
       " 'https://www.24h.com.vn/cong-nghe-thong-tin/nokia-dam-don-kien-amazon-va-hp-c55a1515751.html',\n",
       " 'https://www.24h.com.vn/cong-nghe-thong-tin/startup-blockchain-viet-doi-ten-tung-sieu-ung-dung-coin98-super-wallet-c55a1515798.html',\n",
       " 'https://www.24h.com.vn/cong-nghe-thong-tin/ban-cap-nhat-windows-11-co-tro-ly-ao-copilot-thong-minh-nhu-chatgpt-c55a1515640.html',\n",
       " 'https://www.24h.com.vn/cong-nghe-thong-tin/loat-smartphone-samsung-galaxy-vua-tam-biet-trinh-duyet-chrome-c55a1515396.html',\n",
       " 'https://www.24h.com.vn/cong-nghe-thong-tin/iphone-cu-se-duoc-len-huong-nho-ios-171-c55a1515407.html',\n",
       " 'https://www.24h.com.vn/cong-nghe-thong-tin/chu-nhan-cua-nhieu-dien-thoai-samsung-galaxy-don-tin-vui-c55a1515431.html',\n",
       " 'https://www.24h.com.vn/cong-nghe-thong-tin/giai-bai-tap-toan-chi-con-la-chuyen-nho-doi-voi-google-search-c55a1515128.html',\n",
       " 'https://www.24h.com.vn/cong-nghe-thong-tin/lap-tuc-xoa-cac-ung-dung-android-doc-hai-co-hon-2-trieu-luot-tai-nay-c55a1514492.html',\n",
       " 'https://www.24h.com.vn/cong-nghe-thong-tin/iphone-15-co-the-bi-hong-chip-vi-xe-sang-apple-phan-ung-sao-c55a1513623.html',\n",
       " 'https://www.24h.com.vn/cong-nghe-thong-tin/chatgpt-bi-nhom-hacker-anonymous-tan-cong-ddos-toi-sap-may-chu-c55a1517581.html',\n",
       " 'https://www.24h.com.vn/cong-nghe-thong-tin/nguoi-dung-windows-10-sap-co-them-tin-vui-c55a1517305.html',\n",
       " 'https://www.24h.com.vn/cong-nghe-thong-tin/sau-usb-type-c-tren-iphone-apple-sap-co-thay-doi-lon-lien-quan-kho-ung-dung-c55a1517294.html',\n",
       " 'https://www.24h.com.vn/cong-nghe-thong-tin/coi-chung-mat-sach-du-lieu-tren-smartphone-vi-ung-dung-chat-tuy-bien-c55a1517270.html',\n",
       " 'https://www.24h.com.vn/cong-nghe-thong-tin/tiet-lo-cua-openai-cho-thay-chatgpt-chua-het-thoi-c55a1517186.html',\n",
       " 'https://www.24h.com.vn/cong-nghe-thong-tin/vi-sao-apple-bat-ngo-tam-dung-phat-trien-ios-18-c55a1516938.html',\n",
       " 'https://www.24h.com.vn/cong-nghe-thong-tin/ios-1711-chinh-thuc-duoc-phat-hanh-hay-cap-nhat-ngay-c55a1516934.html',\n",
       " 'https://www.24h.com.vn/cong-nghe-thong-tin/apple-co-the-phat-hanh-ios-1711-som-hon-du-kien-c55a1516826.html',\n",
       " 'https://www.24h.com.vn/cong-nghe-thong-tin/elon-musk-bat-mi-ve-chatbot-moi-manh-dang-gom-c55a1516298.html',\n",
       " 'https://www.24h.com.vn/cong-nghe-thong-tin/windows-11-da-ho-tro-den-11-loai-dinh-dang-file-nen-c55a1516181.html',\n",
       " 'https://www.24h.com.vn/cong-nghe-thong-tin/cach-bao-ve-iphone-an-toan-truoc-thiet-bi-tinh-vi-moi-c55a1516035.html',\n",
       " 'https://www.24h.com.vn/cong-nghe-thong-tin/dong-thai-cua-nguoi-dung-sau-cuoc-dan-ap-trinh-chan-quang-cao-cua-youtube-c55a1515954.html',\n",
       " 'https://www.24h.com.vn/cong-nghe-thong-tin/nguoi-dung-than-troi-vi-su-co-cua-ban-cap-nhat-windows-11-moi-c55a1515911.html',\n",
       " 'https://www.24h.com.vn/cong-nghe-thong-tin/nokia-dam-don-kien-amazon-va-hp-c55a1515751.html',\n",
       " 'https://www.24h.com.vn/cong-nghe-thong-tin/startup-blockchain-viet-doi-ten-tung-sieu-ung-dung-coin98-super-wallet-c55a1515798.html',\n",
       " 'https://www.24h.com.vn/cong-nghe-thong-tin/ban-cap-nhat-windows-11-co-tro-ly-ao-copilot-thong-minh-nhu-chatgpt-c55a1515640.html',\n",
       " 'https://www.24h.com.vn/cong-nghe-thong-tin/loat-smartphone-samsung-galaxy-vua-tam-biet-trinh-duyet-chrome-c55a1515396.html',\n",
       " 'https://www.24h.com.vn/cong-nghe-thong-tin/iphone-cu-se-duoc-len-huong-nho-ios-171-c55a1515407.html',\n",
       " 'https://www.24h.com.vn/cong-nghe-thong-tin/chu-nhan-cua-nhieu-dien-thoai-samsung-galaxy-don-tin-vui-c55a1515431.html',\n",
       " 'https://www.24h.com.vn/cong-nghe-thong-tin/giai-bai-tap-toan-chi-con-la-chuyen-nho-doi-voi-google-search-c55a1515128.html',\n",
       " 'https://www.24h.com.vn/cong-nghe-thong-tin/lap-tuc-xoa-cac-ung-dung-android-doc-hai-co-hon-2-trieu-luot-tai-nay-c55a1514492.html',\n",
       " 'https://www.24h.com.vn/cong-nghe-thong-tin/iphone-15-co-the-bi-hong-chip-vi-xe-sang-apple-phan-ung-sao-c55a1513623.html',\n",
       " 'https://www.24h.com.vn/cong-nghe-thong-tin/noi-buoc-huawei-xiaomi-cong-bo-he-dieu-hanh-hyperos-dung-chung-cho-moi-thiet-bi-c55a1513678.html',\n",
       " 'https://www.24h.com.vn/cong-nghe-thong-tin/microsoft-ceo-hoi-han-vi-cai-chet-cua-windows-phone-c55a1513498.html',\n",
       " 'https://www.24h.com.vn/cong-nghe-thong-tin/ios-171-ra-mat-nhieu-nguoi-dung-iphone-can-cap-nhat-gap-c55a1513255.html',\n",
       " 'https://www.24h.com.vn/cong-nghe-thong-tin/trung-tam-du-lieu-lon-nhat-hien-dai-nhat-viet-nam-di-vao-hoat-dong-c55a1513110.html',\n",
       " 'https://www.24h.com.vn/cong-nghe-thong-tin/nhung-rui-ro-khi-de-tre-em-lam-ban-voi-chatgpt-khong-kiem-soat-c55a1512920.html',\n",
       " 'https://www.24h.com.vn/cong-nghe-thong-tin/ung-dung-hen-ho-hot-nhat-cua-genz-co-tinh-nang-mai-moi-lan-dau-xuat-hien-c55a1512720.html',\n",
       " 'https://www.24h.com.vn/cong-nghe-thong-tin/5-tinh-nang-huyen-thoai-ton-tai-tren-windows-suot-28-nam-qua-c55a1512444.html',\n",
       " 'https://www.24h.com.vn/cong-nghe-thong-tin/israel-su-dung-tinh-nang-nhan-dang-khuon-mat-de-tim-kiem-nguoi-mat-tich-c55a1512304.html',\n",
       " 'https://www.24h.com.vn/cong-nghe-thong-tin/phan-mem-vneid-210-co-gi-moi-ma-nguoi-dan-nen-cap-nhat-ngay-c55a1512103.html',\n",
       " 'https://www.24h.com.vn/cong-nghe-thong-tin/apple-xac-nhan-thao-tac-vuot-de-dong-ung-dung-khien-iphone-bi-cham-va-hao-pin-c55a1512085.html',\n",
       " 'https://www.24h.com.vn/cong-nghe-thong-tin/tuyet-chieu-giup-tu-dong-bo-qua-cac-doan-quang-cao-tren-youtube-c55a1511836.html',\n",
       " 'https://www.24h.com.vn/cong-nghe-thong-tin/chatgpt-bi-nhom-hacker-anonymous-tan-cong-ddos-toi-sap-may-chu-c55a1517581.html',\n",
       " 'https://www.24h.com.vn/cong-nghe-thong-tin/nguoi-dung-windows-10-sap-co-them-tin-vui-c55a1517305.html',\n",
       " 'https://www.24h.com.vn/cong-nghe-thong-tin/sau-usb-type-c-tren-iphone-apple-sap-co-thay-doi-lon-lien-quan-kho-ung-dung-c55a1517294.html',\n",
       " 'https://www.24h.com.vn/cong-nghe-thong-tin/coi-chung-mat-sach-du-lieu-tren-smartphone-vi-ung-dung-chat-tuy-bien-c55a1517270.html',\n",
       " 'https://www.24h.com.vn/cong-nghe-thong-tin/tiet-lo-cua-openai-cho-thay-chatgpt-chua-het-thoi-c55a1517186.html',\n",
       " 'https://www.24h.com.vn/cong-nghe-thong-tin/vi-sao-apple-bat-ngo-tam-dung-phat-trien-ios-18-c55a1516938.html',\n",
       " 'https://www.24h.com.vn/cong-nghe-thong-tin/ios-1711-chinh-thuc-duoc-phat-hanh-hay-cap-nhat-ngay-c55a1516934.html',\n",
       " 'https://www.24h.com.vn/cong-nghe-thong-tin/apple-co-the-phat-hanh-ios-1711-som-hon-du-kien-c55a1516826.html',\n",
       " 'https://www.24h.com.vn/cong-nghe-thong-tin/elon-musk-bat-mi-ve-chatbot-moi-manh-dang-gom-c55a1516298.html',\n",
       " 'https://www.24h.com.vn/cong-nghe-thong-tin/windows-11-da-ho-tro-den-11-loai-dinh-dang-file-nen-c55a1516181.html',\n",
       " 'https://www.24h.com.vn/cong-nghe-thong-tin/cach-bao-ve-iphone-an-toan-truoc-thiet-bi-tinh-vi-moi-c55a1516035.html',\n",
       " 'https://www.24h.com.vn/cong-nghe-thong-tin/dong-thai-cua-nguoi-dung-sau-cuoc-dan-ap-trinh-chan-quang-cao-cua-youtube-c55a1515954.html',\n",
       " 'https://www.24h.com.vn/cong-nghe-thong-tin/nguoi-dung-than-troi-vi-su-co-cua-ban-cap-nhat-windows-11-moi-c55a1515911.html',\n",
       " 'https://www.24h.com.vn/cong-nghe-thong-tin/nokia-dam-don-kien-amazon-va-hp-c55a1515751.html',\n",
       " 'https://www.24h.com.vn/cong-nghe-thong-tin/startup-blockchain-viet-doi-ten-tung-sieu-ung-dung-coin98-super-wallet-c55a1515798.html',\n",
       " 'https://www.24h.com.vn/cong-nghe-thong-tin/ban-cap-nhat-windows-11-co-tro-ly-ao-copilot-thong-minh-nhu-chatgpt-c55a1515640.html',\n",
       " 'https://www.24h.com.vn/cong-nghe-thong-tin/loat-smartphone-samsung-galaxy-vua-tam-biet-trinh-duyet-chrome-c55a1515396.html',\n",
       " 'https://www.24h.com.vn/cong-nghe-thong-tin/iphone-cu-se-duoc-len-huong-nho-ios-171-c55a1515407.html',\n",
       " 'https://www.24h.com.vn/cong-nghe-thong-tin/chu-nhan-cua-nhieu-dien-thoai-samsung-galaxy-don-tin-vui-c55a1515431.html',\n",
       " 'https://www.24h.com.vn/cong-nghe-thong-tin/giai-bai-tap-toan-chi-con-la-chuyen-nho-doi-voi-google-search-c55a1515128.html',\n",
       " 'https://www.24h.com.vn/cong-nghe-thong-tin/lap-tuc-xoa-cac-ung-dung-android-doc-hai-co-hon-2-trieu-luot-tai-nay-c55a1514492.html',\n",
       " 'https://www.24h.com.vn/cong-nghe-thong-tin/iphone-15-co-the-bi-hong-chip-vi-xe-sang-apple-phan-ung-sao-c55a1513623.html',\n",
       " 'https://www.24h.com.vn/cong-nghe-thong-tin/noi-buoc-huawei-xiaomi-cong-bo-he-dieu-hanh-hyperos-dung-chung-cho-moi-thiet-bi-c55a1513678.html',\n",
       " 'https://www.24h.com.vn/cong-nghe-thong-tin/microsoft-ceo-hoi-han-vi-cai-chet-cua-windows-phone-c55a1513498.html',\n",
       " 'https://www.24h.com.vn/cong-nghe-thong-tin/ios-171-ra-mat-nhieu-nguoi-dung-iphone-can-cap-nhat-gap-c55a1513255.html',\n",
       " 'https://www.24h.com.vn/cong-nghe-thong-tin/trung-tam-du-lieu-lon-nhat-hien-dai-nhat-viet-nam-di-vao-hoat-dong-c55a1513110.html',\n",
       " 'https://www.24h.com.vn/cong-nghe-thong-tin/nhung-rui-ro-khi-de-tre-em-lam-ban-voi-chatgpt-khong-kiem-soat-c55a1512920.html',\n",
       " 'https://www.24h.com.vn/cong-nghe-thong-tin/ung-dung-hen-ho-hot-nhat-cua-genz-co-tinh-nang-mai-moi-lan-dau-xuat-hien-c55a1512720.html',\n",
       " 'https://www.24h.com.vn/cong-nghe-thong-tin/5-tinh-nang-huyen-thoai-ton-tai-tren-windows-suot-28-nam-qua-c55a1512444.html',\n",
       " 'https://www.24h.com.vn/cong-nghe-thong-tin/israel-su-dung-tinh-nang-nhan-dang-khuon-mat-de-tim-kiem-nguoi-mat-tich-c55a1512304.html',\n",
       " 'https://www.24h.com.vn/cong-nghe-thong-tin/phan-mem-vneid-210-co-gi-moi-ma-nguoi-dan-nen-cap-nhat-ngay-c55a1512103.html',\n",
       " 'https://www.24h.com.vn/cong-nghe-thong-tin/apple-xac-nhan-thao-tac-vuot-de-dong-ung-dung-khien-iphone-bi-cham-va-hao-pin-c55a1512085.html',\n",
       " 'https://www.24h.com.vn/cong-nghe-thong-tin/tuyet-chieu-giup-tu-dong-bo-qua-cac-doan-quang-cao-tren-youtube-c55a1511836.html',\n",
       " 'https://www.24h.com.vn/cong-nghe-thong-tin/ios-18-co-the-mang-den-ai-giong-nhu-chatgpt-c55a1511848.html',\n",
       " 'https://www.24h.com.vn/cong-nghe-thong-tin/hon-500-trieu-nguoi-dung-winrar-can-thuc-hien-gap-dieu-nay-c55a1511627.html',\n",
       " 'https://www.24h.com.vn/cong-nghe-thong-tin/ios-171-se-chua-khac-phuc-duoc-loi-kho-chiu-nay-tren-iphone-15-c55a1511544.html',\n",
       " 'https://www.24h.com.vn/cong-nghe-thong-tin/chi-can-cap-nhat-phan-mem-dong-ho-garmin-co-ngay-tinh-nang-cuc-quan-trong-nay-c55a1511415.html',\n",
       " 'https://www.24h.com.vn/cong-nghe-thong-tin/dich-noi-dung-doan-chat-tieng-nuoc-ngoai-cuc-nhanh-tren-zalo-c55a1511288.html',\n",
       " 'https://www.24h.com.vn/cong-nghe-thong-tin/windows-11-lam-duoc-dieu-microsoft-khong-the-ngo-den-c55a1511060.html',\n",
       " 'https://www.24h.com.vn/cong-nghe-thong-tin/tinh-nang-moi-nay-se-giai-quyet-van-de-ngon-ram-tren-chrome-c55a1511252.html',\n",
       " 'https://www.24h.com.vn/cong-nghe-thong-tin/windows-10-chi-con-chua-day-2-nam-truoc-khi-bi-microsoft-bo-roi-c55a1510940.html',\n",
       " 'https://www.24h.com.vn/cong-nghe-thong-tin/tu-bo-miui-xiaomi-cong-bo-he-dieu-hanh-di-dong-moi-c55a1510951.html',\n",
       " 'https://www.24h.com.vn/cong-nghe-thong-tin/mot-trong-ba-co-quan-quyen-luc-cua-my-van-dung-windows-xp-c55a1510488.html',\n",
       " 'https://www.24h.com.vn/cong-nghe-thong-tin/microsoft-treo-tien-thuong-khung-de-tim-loi-cho-bing-ai-c55a1509962.html',\n",
       " 'https://www.24h.com.vn/cong-nghe-thong-tin/chatgpt-bi-nhom-hacker-anonymous-tan-cong-ddos-toi-sap-may-chu-c55a1517581.html',\n",
       " 'https://www.24h.com.vn/cong-nghe-thong-tin/nguoi-dung-windows-10-sap-co-them-tin-vui-c55a1517305.html',\n",
       " 'https://www.24h.com.vn/cong-nghe-thong-tin/sau-usb-type-c-tren-iphone-apple-sap-co-thay-doi-lon-lien-quan-kho-ung-dung-c55a1517294.html',\n",
       " 'https://www.24h.com.vn/cong-nghe-thong-tin/coi-chung-mat-sach-du-lieu-tren-smartphone-vi-ung-dung-chat-tuy-bien-c55a1517270.html',\n",
       " 'https://www.24h.com.vn/cong-nghe-thong-tin/tiet-lo-cua-openai-cho-thay-chatgpt-chua-het-thoi-c55a1517186.html',\n",
       " 'https://www.24h.com.vn/cong-nghe-thong-tin/vi-sao-apple-bat-ngo-tam-dung-phat-trien-ios-18-c55a1516938.html',\n",
       " 'https://www.24h.com.vn/cong-nghe-thong-tin/ios-1711-chinh-thuc-duoc-phat-hanh-hay-cap-nhat-ngay-c55a1516934.html',\n",
       " 'https://www.24h.com.vn/cong-nghe-thong-tin/apple-co-the-phat-hanh-ios-1711-som-hon-du-kien-c55a1516826.html',\n",
       " 'https://www.24h.com.vn/cong-nghe-thong-tin/elon-musk-bat-mi-ve-chatbot-moi-manh-dang-gom-c55a1516298.html',\n",
       " 'https://www.24h.com.vn/cong-nghe-thong-tin/windows-11-da-ho-tro-den-11-loai-dinh-dang-file-nen-c55a1516181.html',\n",
       " 'https://www.24h.com.vn/cong-nghe-thong-tin/cach-bao-ve-iphone-an-toan-truoc-thiet-bi-tinh-vi-moi-c55a1516035.html',\n",
       " 'https://www.24h.com.vn/cong-nghe-thong-tin/dong-thai-cua-nguoi-dung-sau-cuoc-dan-ap-trinh-chan-quang-cao-cua-youtube-c55a1515954.html',\n",
       " 'https://www.24h.com.vn/cong-nghe-thong-tin/nguoi-dung-than-troi-vi-su-co-cua-ban-cap-nhat-windows-11-moi-c55a1515911.html',\n",
       " 'https://www.24h.com.vn/cong-nghe-thong-tin/nokia-dam-don-kien-amazon-va-hp-c55a1515751.html',\n",
       " 'https://www.24h.com.vn/cong-nghe-thong-tin/startup-blockchain-viet-doi-ten-tung-sieu-ung-dung-coin98-super-wallet-c55a1515798.html',\n",
       " 'https://www.24h.com.vn/cong-nghe-thong-tin/ban-cap-nhat-windows-11-co-tro-ly-ao-copilot-thong-minh-nhu-chatgpt-c55a1515640.html',\n",
       " 'https://www.24h.com.vn/cong-nghe-thong-tin/loat-smartphone-samsung-galaxy-vua-tam-biet-trinh-duyet-chrome-c55a1515396.html',\n",
       " 'https://www.24h.com.vn/cong-nghe-thong-tin/iphone-cu-se-duoc-len-huong-nho-ios-171-c55a1515407.html',\n",
       " 'https://www.24h.com.vn/cong-nghe-thong-tin/chu-nhan-cua-nhieu-dien-thoai-samsung-galaxy-don-tin-vui-c55a1515431.html',\n",
       " 'https://www.24h.com.vn/cong-nghe-thong-tin/giai-bai-tap-toan-chi-con-la-chuyen-nho-doi-voi-google-search-c55a1515128.html',\n",
       " 'https://www.24h.com.vn/cong-nghe-thong-tin/lap-tuc-xoa-cac-ung-dung-android-doc-hai-co-hon-2-trieu-luot-tai-nay-c55a1514492.html',\n",
       " 'https://www.24h.com.vn/cong-nghe-thong-tin/iphone-15-co-the-bi-hong-chip-vi-xe-sang-apple-phan-ung-sao-c55a1513623.html',\n",
       " 'https://www.24h.com.vn/cong-nghe-thong-tin/noi-buoc-huawei-xiaomi-cong-bo-he-dieu-hanh-hyperos-dung-chung-cho-moi-thiet-bi-c55a1513678.html',\n",
       " 'https://www.24h.com.vn/cong-nghe-thong-tin/microsoft-ceo-hoi-han-vi-cai-chet-cua-windows-phone-c55a1513498.html',\n",
       " 'https://www.24h.com.vn/cong-nghe-thong-tin/ios-171-ra-mat-nhieu-nguoi-dung-iphone-can-cap-nhat-gap-c55a1513255.html',\n",
       " 'https://www.24h.com.vn/cong-nghe-thong-tin/trung-tam-du-lieu-lon-nhat-hien-dai-nhat-viet-nam-di-vao-hoat-dong-c55a1513110.html',\n",
       " 'https://www.24h.com.vn/cong-nghe-thong-tin/nhung-rui-ro-khi-de-tre-em-lam-ban-voi-chatgpt-khong-kiem-soat-c55a1512920.html',\n",
       " 'https://www.24h.com.vn/cong-nghe-thong-tin/ung-dung-hen-ho-hot-nhat-cua-genz-co-tinh-nang-mai-moi-lan-dau-xuat-hien-c55a1512720.html',\n",
       " 'https://www.24h.com.vn/cong-nghe-thong-tin/5-tinh-nang-huyen-thoai-ton-tai-tren-windows-suot-28-nam-qua-c55a1512444.html',\n",
       " 'https://www.24h.com.vn/cong-nghe-thong-tin/israel-su-dung-tinh-nang-nhan-dang-khuon-mat-de-tim-kiem-nguoi-mat-tich-c55a1512304.html',\n",
       " 'https://www.24h.com.vn/cong-nghe-thong-tin/phan-mem-vneid-210-co-gi-moi-ma-nguoi-dan-nen-cap-nhat-ngay-c55a1512103.html',\n",
       " 'https://www.24h.com.vn/cong-nghe-thong-tin/apple-xac-nhan-thao-tac-vuot-de-dong-ung-dung-khien-iphone-bi-cham-va-hao-pin-c55a1512085.html',\n",
       " 'https://www.24h.com.vn/cong-nghe-thong-tin/tuyet-chieu-giup-tu-dong-bo-qua-cac-doan-quang-cao-tren-youtube-c55a1511836.html',\n",
       " 'https://www.24h.com.vn/cong-nghe-thong-tin/ios-18-co-the-mang-den-ai-giong-nhu-chatgpt-c55a1511848.html',\n",
       " 'https://www.24h.com.vn/cong-nghe-thong-tin/hon-500-trieu-nguoi-dung-winrar-can-thuc-hien-gap-dieu-nay-c55a1511627.html',\n",
       " 'https://www.24h.com.vn/cong-nghe-thong-tin/ios-171-se-chua-khac-phuc-duoc-loi-kho-chiu-nay-tren-iphone-15-c55a1511544.html',\n",
       " 'https://www.24h.com.vn/cong-nghe-thong-tin/chi-can-cap-nhat-phan-mem-dong-ho-garmin-co-ngay-tinh-nang-cuc-quan-trong-nay-c55a1511415.html',\n",
       " 'https://www.24h.com.vn/cong-nghe-thong-tin/dich-noi-dung-doan-chat-tieng-nuoc-ngoai-cuc-nhanh-tren-zalo-c55a1511288.html',\n",
       " 'https://www.24h.com.vn/cong-nghe-thong-tin/windows-11-lam-duoc-dieu-microsoft-khong-the-ngo-den-c55a1511060.html',\n",
       " 'https://www.24h.com.vn/cong-nghe-thong-tin/tinh-nang-moi-nay-se-giai-quyet-van-de-ngon-ram-tren-chrome-c55a1511252.html',\n",
       " 'https://www.24h.com.vn/cong-nghe-thong-tin/windows-10-chi-con-chua-day-2-nam-truoc-khi-bi-microsoft-bo-roi-c55a1510940.html',\n",
       " 'https://www.24h.com.vn/cong-nghe-thong-tin/tu-bo-miui-xiaomi-cong-bo-he-dieu-hanh-di-dong-moi-c55a1510951.html',\n",
       " 'https://www.24h.com.vn/cong-nghe-thong-tin/mot-trong-ba-co-quan-quyen-luc-cua-my-van-dung-windows-xp-c55a1510488.html',\n",
       " 'https://www.24h.com.vn/cong-nghe-thong-tin/microsoft-treo-tien-thuong-khung-de-tim-loi-cho-bing-ai-c55a1509962.html',\n",
       " 'https://www.24h.com.vn/cong-nghe-thong-tin/he-dieu-hanh-mios-moi-se-xuat-hien-tren-xiaomi-14-c55a1509973.html',\n",
       " 'https://www.24h.com.vn/cong-nghe-thong-tin/apple-tung-ban-ios-sua-loi-bao-mat-quan-trong-cho-nguoi-khong-dung-ios-17-c55a1509356.html',\n",
       " 'https://www.24h.com.vn/cong-nghe-thong-tin/xiaomi-cho-phep-ep-moi-ung-dung-chay-voi-tan-so-quet-man-hinh-120hz-c55a1509065.html',\n",
       " 'https://www.24h.com.vn/cong-nghe-thong-tin/intel-he-lo-thoi-diem-phat-hanh-cua-windows-12-c55a1509062.html',\n",
       " 'https://www.24h.com.vn/cong-nghe-thong-tin/cach-nhan-canh-bao-giong-set-va-lu-quet-bang-iweather-c55a1508283.html',\n",
       " 'https://www.24h.com.vn/cong-nghe-thong-tin/nguyen-nhan-mot-so-bang-lai-xe-chua-the-tich-hop-tai-khoan-vneid-c55a1508095.html',\n",
       " 'https://www.24h.com.vn/cong-nghe-thong-tin/google-dan-mat-apple-voi-loi-cam-ket-khien-ios-cung-phai-khoc-thet-c55a1507663.html',\n",
       " 'https://www.24h.com.vn/cong-nghe-thong-tin/apple-tung-ios-1703-sua-loi-nong-may-tren-iphone-15-pro-pro-max-c55a1507547.html',\n",
       " 'https://www.24h.com.vn/cong-nghe-thong-tin/android-14-da-chinh-thuc-phat-hanh-c55a1507507.html',\n",
       " 'https://www.24h.com.vn/cong-nghe-thong-tin/apple-chap-nhan-nhuong-bo-trung-quoc-trong-viec-sua-luat-app-store-c55a1507333.html',\n",
       " 'https://www.24h.com.vn/cong-nghe-thong-tin/su-co-hao-pin-tren-ios-17-sap-duoc-khac-phuc-c55a1507348.html',\n",
       " 'https://www.24h.com.vn/cong-nghe-thong-tin/chatgpt-bi-nhom-hacker-anonymous-tan-cong-ddos-toi-sap-may-chu-c55a1517581.html',\n",
       " 'https://www.24h.com.vn/cong-nghe-thong-tin/nguoi-dung-windows-10-sap-co-them-tin-vui-c55a1517305.html',\n",
       " 'https://www.24h.com.vn/cong-nghe-thong-tin/sau-usb-type-c-tren-iphone-apple-sap-co-thay-doi-lon-lien-quan-kho-ung-dung-c55a1517294.html',\n",
       " 'https://www.24h.com.vn/cong-nghe-thong-tin/coi-chung-mat-sach-du-lieu-tren-smartphone-vi-ung-dung-chat-tuy-bien-c55a1517270.html',\n",
       " 'https://www.24h.com.vn/cong-nghe-thong-tin/tiet-lo-cua-openai-cho-thay-chatgpt-chua-het-thoi-c55a1517186.html',\n",
       " 'https://www.24h.com.vn/cong-nghe-thong-tin/vi-sao-apple-bat-ngo-tam-dung-phat-trien-ios-18-c55a1516938.html',\n",
       " 'https://www.24h.com.vn/cong-nghe-thong-tin/ios-1711-chinh-thuc-duoc-phat-hanh-hay-cap-nhat-ngay-c55a1516934.html',\n",
       " 'https://www.24h.com.vn/cong-nghe-thong-tin/apple-co-the-phat-hanh-ios-1711-som-hon-du-kien-c55a1516826.html',\n",
       " 'https://www.24h.com.vn/cong-nghe-thong-tin/elon-musk-bat-mi-ve-chatbot-moi-manh-dang-gom-c55a1516298.html',\n",
       " 'https://www.24h.com.vn/cong-nghe-thong-tin/windows-11-da-ho-tro-den-11-loai-dinh-dang-file-nen-c55a1516181.html',\n",
       " 'https://www.24h.com.vn/cong-nghe-thong-tin/cach-bao-ve-iphone-an-toan-truoc-thiet-bi-tinh-vi-moi-c55a1516035.html',\n",
       " 'https://www.24h.com.vn/cong-nghe-thong-tin/dong-thai-cua-nguoi-dung-sau-cuoc-dan-ap-trinh-chan-quang-cao-cua-youtube-c55a1515954.html',\n",
       " 'https://www.24h.com.vn/cong-nghe-thong-tin/nguoi-dung-than-troi-vi-su-co-cua-ban-cap-nhat-windows-11-moi-c55a1515911.html',\n",
       " 'https://www.24h.com.vn/cong-nghe-thong-tin/nokia-dam-don-kien-amazon-va-hp-c55a1515751.html',\n",
       " 'https://www.24h.com.vn/cong-nghe-thong-tin/startup-blockchain-viet-doi-ten-tung-sieu-ung-dung-coin98-super-wallet-c55a1515798.html',\n",
       " 'https://www.24h.com.vn/cong-nghe-thong-tin/ban-cap-nhat-windows-11-co-tro-ly-ao-copilot-thong-minh-nhu-chatgpt-c55a1515640.html',\n",
       " 'https://www.24h.com.vn/cong-nghe-thong-tin/loat-smartphone-samsung-galaxy-vua-tam-biet-trinh-duyet-chrome-c55a1515396.html',\n",
       " 'https://www.24h.com.vn/cong-nghe-thong-tin/iphone-cu-se-duoc-len-huong-nho-ios-171-c55a1515407.html',\n",
       " 'https://www.24h.com.vn/cong-nghe-thong-tin/chu-nhan-cua-nhieu-dien-thoai-samsung-galaxy-don-tin-vui-c55a1515431.html',\n",
       " 'https://www.24h.com.vn/cong-nghe-thong-tin/giai-bai-tap-toan-chi-con-la-chuyen-nho-doi-voi-google-search-c55a1515128.html',\n",
       " 'https://www.24h.com.vn/cong-nghe-thong-tin/lap-tuc-xoa-cac-ung-dung-android-doc-hai-co-hon-2-trieu-luot-tai-nay-c55a1514492.html',\n",
       " 'https://www.24h.com.vn/cong-nghe-thong-tin/iphone-15-co-the-bi-hong-chip-vi-xe-sang-apple-phan-ung-sao-c55a1513623.html',\n",
       " 'https://www.24h.com.vn/cong-nghe-thong-tin/noi-buoc-huawei-xiaomi-cong-bo-he-dieu-hanh-hyperos-dung-chung-cho-moi-thiet-bi-c55a1513678.html',\n",
       " 'https://www.24h.com.vn/cong-nghe-thong-tin/microsoft-ceo-hoi-han-vi-cai-chet-cua-windows-phone-c55a1513498.html',\n",
       " 'https://www.24h.com.vn/cong-nghe-thong-tin/ios-171-ra-mat-nhieu-nguoi-dung-iphone-can-cap-nhat-gap-c55a1513255.html',\n",
       " 'https://www.24h.com.vn/cong-nghe-thong-tin/trung-tam-du-lieu-lon-nhat-hien-dai-nhat-viet-nam-di-vao-hoat-dong-c55a1513110.html',\n",
       " 'https://www.24h.com.vn/cong-nghe-thong-tin/nhung-rui-ro-khi-de-tre-em-lam-ban-voi-chatgpt-khong-kiem-soat-c55a1512920.html',\n",
       " 'https://www.24h.com.vn/cong-nghe-thong-tin/ung-dung-hen-ho-hot-nhat-cua-genz-co-tinh-nang-mai-moi-lan-dau-xuat-hien-c55a1512720.html',\n",
       " 'https://www.24h.com.vn/cong-nghe-thong-tin/5-tinh-nang-huyen-thoai-ton-tai-tren-windows-suot-28-nam-qua-c55a1512444.html',\n",
       " 'https://www.24h.com.vn/cong-nghe-thong-tin/israel-su-dung-tinh-nang-nhan-dang-khuon-mat-de-tim-kiem-nguoi-mat-tich-c55a1512304.html',\n",
       " 'https://www.24h.com.vn/cong-nghe-thong-tin/phan-mem-vneid-210-co-gi-moi-ma-nguoi-dan-nen-cap-nhat-ngay-c55a1512103.html',\n",
       " 'https://www.24h.com.vn/cong-nghe-thong-tin/apple-xac-nhan-thao-tac-vuot-de-dong-ung-dung-khien-iphone-bi-cham-va-hao-pin-c55a1512085.html',\n",
       " 'https://www.24h.com.vn/cong-nghe-thong-tin/tuyet-chieu-giup-tu-dong-bo-qua-cac-doan-quang-cao-tren-youtube-c55a1511836.html',\n",
       " 'https://www.24h.com.vn/cong-nghe-thong-tin/ios-18-co-the-mang-den-ai-giong-nhu-chatgpt-c55a1511848.html',\n",
       " 'https://www.24h.com.vn/cong-nghe-thong-tin/hon-500-trieu-nguoi-dung-winrar-can-thuc-hien-gap-dieu-nay-c55a1511627.html',\n",
       " 'https://www.24h.com.vn/cong-nghe-thong-tin/ios-171-se-chua-khac-phuc-duoc-loi-kho-chiu-nay-tren-iphone-15-c55a1511544.html',\n",
       " 'https://www.24h.com.vn/cong-nghe-thong-tin/chi-can-cap-nhat-phan-mem-dong-ho-garmin-co-ngay-tinh-nang-cuc-quan-trong-nay-c55a1511415.html',\n",
       " 'https://www.24h.com.vn/cong-nghe-thong-tin/dich-noi-dung-doan-chat-tieng-nuoc-ngoai-cuc-nhanh-tren-zalo-c55a1511288.html',\n",
       " 'https://www.24h.com.vn/cong-nghe-thong-tin/windows-11-lam-duoc-dieu-microsoft-khong-the-ngo-den-c55a1511060.html',\n",
       " 'https://www.24h.com.vn/cong-nghe-thong-tin/tinh-nang-moi-nay-se-giai-quyet-van-de-ngon-ram-tren-chrome-c55a1511252.html',\n",
       " 'https://www.24h.com.vn/cong-nghe-thong-tin/windows-10-chi-con-chua-day-2-nam-truoc-khi-bi-microsoft-bo-roi-c55a1510940.html',\n",
       " 'https://www.24h.com.vn/cong-nghe-thong-tin/tu-bo-miui-xiaomi-cong-bo-he-dieu-hanh-di-dong-moi-c55a1510951.html',\n",
       " 'https://www.24h.com.vn/cong-nghe-thong-tin/mot-trong-ba-co-quan-quyen-luc-cua-my-van-dung-windows-xp-c55a1510488.html',\n",
       " 'https://www.24h.com.vn/cong-nghe-thong-tin/microsoft-treo-tien-thuong-khung-de-tim-loi-cho-bing-ai-c55a1509962.html',\n",
       " 'https://www.24h.com.vn/cong-nghe-thong-tin/he-dieu-hanh-mios-moi-se-xuat-hien-tren-xiaomi-14-c55a1509973.html',\n",
       " 'https://www.24h.com.vn/cong-nghe-thong-tin/apple-tung-ban-ios-sua-loi-bao-mat-quan-trong-cho-nguoi-khong-dung-ios-17-c55a1509356.html',\n",
       " 'https://www.24h.com.vn/cong-nghe-thong-tin/xiaomi-cho-phep-ep-moi-ung-dung-chay-voi-tan-so-quet-man-hinh-120hz-c55a1509065.html',\n",
       " 'https://www.24h.com.vn/cong-nghe-thong-tin/intel-he-lo-thoi-diem-phat-hanh-cua-windows-12-c55a1509062.html',\n",
       " 'https://www.24h.com.vn/cong-nghe-thong-tin/cach-nhan-canh-bao-giong-set-va-lu-quet-bang-iweather-c55a1508283.html',\n",
       " 'https://www.24h.com.vn/cong-nghe-thong-tin/nguyen-nhan-mot-so-bang-lai-xe-chua-the-tich-hop-tai-khoan-vneid-c55a1508095.html',\n",
       " 'https://www.24h.com.vn/cong-nghe-thong-tin/google-dan-mat-apple-voi-loi-cam-ket-khien-ios-cung-phai-khoc-thet-c55a1507663.html',\n",
       " 'https://www.24h.com.vn/cong-nghe-thong-tin/apple-tung-ios-1703-sua-loi-nong-may-tren-iphone-15-pro-pro-max-c55a1507547.html',\n",
       " 'https://www.24h.com.vn/cong-nghe-thong-tin/android-14-da-chinh-thuc-phat-hanh-c55a1507507.html',\n",
       " 'https://www.24h.com.vn/cong-nghe-thong-tin/apple-chap-nhan-nhuong-bo-trung-quoc-trong-viec-sua-luat-app-store-c55a1507333.html',\n",
       " 'https://www.24h.com.vn/cong-nghe-thong-tin/su-co-hao-pin-tren-ios-17-sap-duoc-khac-phuc-c55a1507348.html',\n",
       " 'https://www.24h.com.vn/cong-nghe-thong-tin/ro-ri-ngay-phat-hanh-chinh-thuc-cua-android-14-c55a1507014.html',\n",
       " 'https://www.24h.com.vn/cong-nghe-thong-tin/apple-co-the-thay-google-bang-trinh-duyet-nha-trong-c55a1506674.html',\n",
       " 'https://www.24h.com.vn/cong-nghe-thong-tin/microsoft-co-the-tao-ra-bien-the-windows-12-tap-trung-vao-web-c55a1506350.html',\n",
       " 'https://www.24h.com.vn/cong-nghe-thong-tin/cach-kich-hoat-vneid-tren-may-tinh-khong-can-cai-app-tren-dien-thoai-c55a1506241.html',\n",
       " 'https://www.24h.com.vn/cong-nghe-thong-tin/chatbot-ai-bing-dang-bi-loi-dung-de-phat-tan-ma-doc-c55a1506160.html',\n",
       " 'https://www.24h.com.vn/cong-nghe-thong-tin/tinh-nang-manh-me-nay-cua-chatgpt-da-hoi-sinh-day-bat-ngo-c55a1505950.html',\n",
       " 'https://www.24h.com.vn/cong-nghe-thong-tin/lum-xum-ve-do-buc-xa-cua-iphone-12-da-duoc-apple-giai-quyet-c55a1505947.html',\n",
       " 'https://www.24h.com.vn/cong-nghe-thong-tin/nguoi-dung-can-cap-nhat-chrome-ngay-lap-tuc-de-tranh-mat-du-lieu-c55a1505769.html',\n",
       " 'https://www.24h.com.vn/cong-nghe-thong-tin/ban-cap-nhat-windows-11-cua-microsoft-co-gi-dac-biet-c55a1505639.html',\n",
       " 'https://www.24h.com.vn/cong-nghe-thong-tin/4-luu-y-de-tranh-bi-lua-tinh-khi-hen-ho-truc-tuyen-dem-trung-thu-c55a1505529.html',\n",
       " 'https://www.24h.com.vn/cong-nghe-thong-tin/ios-17-co-them-cong-cu-tim-kiem-an-moi-duoc-tiet-lo-c55a1504660.html',\n",
       " 'https://www.24h.com.vn/cong-nghe-thong-tin/chatgpt-bi-nhom-hacker-anonymous-tan-cong-ddos-toi-sap-may-chu-c55a1517581.html',\n",
       " 'https://www.24h.com.vn/cong-nghe-thong-tin/nguoi-dung-windows-10-sap-co-them-tin-vui-c55a1517305.html',\n",
       " 'https://www.24h.com.vn/cong-nghe-thong-tin/sau-usb-type-c-tren-iphone-apple-sap-co-thay-doi-lon-lien-quan-kho-ung-dung-c55a1517294.html',\n",
       " 'https://www.24h.com.vn/cong-nghe-thong-tin/coi-chung-mat-sach-du-lieu-tren-smartphone-vi-ung-dung-chat-tuy-bien-c55a1517270.html',\n",
       " 'https://www.24h.com.vn/cong-nghe-thong-tin/tiet-lo-cua-openai-cho-thay-chatgpt-chua-het-thoi-c55a1517186.html',\n",
       " 'https://www.24h.com.vn/cong-nghe-thong-tin/vi-sao-apple-bat-ngo-tam-dung-phat-trien-ios-18-c55a1516938.html',\n",
       " 'https://www.24h.com.vn/cong-nghe-thong-tin/ios-1711-chinh-thuc-duoc-phat-hanh-hay-cap-nhat-ngay-c55a1516934.html',\n",
       " 'https://www.24h.com.vn/cong-nghe-thong-tin/apple-co-the-phat-hanh-ios-1711-som-hon-du-kien-c55a1516826.html',\n",
       " 'https://www.24h.com.vn/cong-nghe-thong-tin/elon-musk-bat-mi-ve-chatbot-moi-manh-dang-gom-c55a1516298.html',\n",
       " 'https://www.24h.com.vn/cong-nghe-thong-tin/windows-11-da-ho-tro-den-11-loai-dinh-dang-file-nen-c55a1516181.html',\n",
       " 'https://www.24h.com.vn/cong-nghe-thong-tin/cach-bao-ve-iphone-an-toan-truoc-thiet-bi-tinh-vi-moi-c55a1516035.html',\n",
       " 'https://www.24h.com.vn/cong-nghe-thong-tin/dong-thai-cua-nguoi-dung-sau-cuoc-dan-ap-trinh-chan-quang-cao-cua-youtube-c55a1515954.html',\n",
       " 'https://www.24h.com.vn/cong-nghe-thong-tin/nguoi-dung-than-troi-vi-su-co-cua-ban-cap-nhat-windows-11-moi-c55a1515911.html',\n",
       " 'https://www.24h.com.vn/cong-nghe-thong-tin/nokia-dam-don-kien-amazon-va-hp-c55a1515751.html',\n",
       " 'https://www.24h.com.vn/cong-nghe-thong-tin/startup-blockchain-viet-doi-ten-tung-sieu-ung-dung-coin98-super-wallet-c55a1515798.html',\n",
       " 'https://www.24h.com.vn/cong-nghe-thong-tin/ban-cap-nhat-windows-11-co-tro-ly-ao-copilot-thong-minh-nhu-chatgpt-c55a1515640.html',\n",
       " 'https://www.24h.com.vn/cong-nghe-thong-tin/loat-smartphone-samsung-galaxy-vua-tam-biet-trinh-duyet-chrome-c55a1515396.html',\n",
       " 'https://www.24h.com.vn/cong-nghe-thong-tin/iphone-cu-se-duoc-len-huong-nho-ios-171-c55a1515407.html',\n",
       " 'https://www.24h.com.vn/cong-nghe-thong-tin/chu-nhan-cua-nhieu-dien-thoai-samsung-galaxy-don-tin-vui-c55a1515431.html',\n",
       " 'https://www.24h.com.vn/cong-nghe-thong-tin/giai-bai-tap-toan-chi-con-la-chuyen-nho-doi-voi-google-search-c55a1515128.html',\n",
       " 'https://www.24h.com.vn/cong-nghe-thong-tin/lap-tuc-xoa-cac-ung-dung-android-doc-hai-co-hon-2-trieu-luot-tai-nay-c55a1514492.html',\n",
       " 'https://www.24h.com.vn/cong-nghe-thong-tin/iphone-15-co-the-bi-hong-chip-vi-xe-sang-apple-phan-ung-sao-c55a1513623.html',\n",
       " 'https://www.24h.com.vn/cong-nghe-thong-tin/noi-buoc-huawei-xiaomi-cong-bo-he-dieu-hanh-hyperos-dung-chung-cho-moi-thiet-bi-c55a1513678.html',\n",
       " 'https://www.24h.com.vn/cong-nghe-thong-tin/microsoft-ceo-hoi-han-vi-cai-chet-cua-windows-phone-c55a1513498.html',\n",
       " 'https://www.24h.com.vn/cong-nghe-thong-tin/ios-171-ra-mat-nhieu-nguoi-dung-iphone-can-cap-nhat-gap-c55a1513255.html',\n",
       " 'https://www.24h.com.vn/cong-nghe-thong-tin/trung-tam-du-lieu-lon-nhat-hien-dai-nhat-viet-nam-di-vao-hoat-dong-c55a1513110.html',\n",
       " 'https://www.24h.com.vn/cong-nghe-thong-tin/nhung-rui-ro-khi-de-tre-em-lam-ban-voi-chatgpt-khong-kiem-soat-c55a1512920.html',\n",
       " 'https://www.24h.com.vn/cong-nghe-thong-tin/ung-dung-hen-ho-hot-nhat-cua-genz-co-tinh-nang-mai-moi-lan-dau-xuat-hien-c55a1512720.html',\n",
       " 'https://www.24h.com.vn/cong-nghe-thong-tin/5-tinh-nang-huyen-thoai-ton-tai-tren-windows-suot-28-nam-qua-c55a1512444.html',\n",
       " 'https://www.24h.com.vn/cong-nghe-thong-tin/israel-su-dung-tinh-nang-nhan-dang-khuon-mat-de-tim-kiem-nguoi-mat-tich-c55a1512304.html',\n",
       " 'https://www.24h.com.vn/cong-nghe-thong-tin/phan-mem-vneid-210-co-gi-moi-ma-nguoi-dan-nen-cap-nhat-ngay-c55a1512103.html',\n",
       " 'https://www.24h.com.vn/cong-nghe-thong-tin/apple-xac-nhan-thao-tac-vuot-de-dong-ung-dung-khien-iphone-bi-cham-va-hao-pin-c55a1512085.html',\n",
       " 'https://www.24h.com.vn/cong-nghe-thong-tin/tuyet-chieu-giup-tu-dong-bo-qua-cac-doan-quang-cao-tren-youtube-c55a1511836.html',\n",
       " 'https://www.24h.com.vn/cong-nghe-thong-tin/ios-18-co-the-mang-den-ai-giong-nhu-chatgpt-c55a1511848.html',\n",
       " 'https://www.24h.com.vn/cong-nghe-thong-tin/hon-500-trieu-nguoi-dung-winrar-can-thuc-hien-gap-dieu-nay-c55a1511627.html',\n",
       " 'https://www.24h.com.vn/cong-nghe-thong-tin/ios-171-se-chua-khac-phuc-duoc-loi-kho-chiu-nay-tren-iphone-15-c55a1511544.html',\n",
       " 'https://www.24h.com.vn/cong-nghe-thong-tin/chi-can-cap-nhat-phan-mem-dong-ho-garmin-co-ngay-tinh-nang-cuc-quan-trong-nay-c55a1511415.html',\n",
       " 'https://www.24h.com.vn/cong-nghe-thong-tin/dich-noi-dung-doan-chat-tieng-nuoc-ngoai-cuc-nhanh-tren-zalo-c55a1511288.html',\n",
       " 'https://www.24h.com.vn/cong-nghe-thong-tin/windows-11-lam-duoc-dieu-microsoft-khong-the-ngo-den-c55a1511060.html',\n",
       " 'https://www.24h.com.vn/cong-nghe-thong-tin/tinh-nang-moi-nay-se-giai-quyet-van-de-ngon-ram-tren-chrome-c55a1511252.html',\n",
       " 'https://www.24h.com.vn/cong-nghe-thong-tin/windows-10-chi-con-chua-day-2-nam-truoc-khi-bi-microsoft-bo-roi-c55a1510940.html',\n",
       " 'https://www.24h.com.vn/cong-nghe-thong-tin/tu-bo-miui-xiaomi-cong-bo-he-dieu-hanh-di-dong-moi-c55a1510951.html',\n",
       " 'https://www.24h.com.vn/cong-nghe-thong-tin/mot-trong-ba-co-quan-quyen-luc-cua-my-van-dung-windows-xp-c55a1510488.html',\n",
       " 'https://www.24h.com.vn/cong-nghe-thong-tin/microsoft-treo-tien-thuong-khung-de-tim-loi-cho-bing-ai-c55a1509962.html',\n",
       " 'https://www.24h.com.vn/cong-nghe-thong-tin/he-dieu-hanh-mios-moi-se-xuat-hien-tren-xiaomi-14-c55a1509973.html',\n",
       " 'https://www.24h.com.vn/cong-nghe-thong-tin/apple-tung-ban-ios-sua-loi-bao-mat-quan-trong-cho-nguoi-khong-dung-ios-17-c55a1509356.html',\n",
       " 'https://www.24h.com.vn/cong-nghe-thong-tin/xiaomi-cho-phep-ep-moi-ung-dung-chay-voi-tan-so-quet-man-hinh-120hz-c55a1509065.html',\n",
       " 'https://www.24h.com.vn/cong-nghe-thong-tin/intel-he-lo-thoi-diem-phat-hanh-cua-windows-12-c55a1509062.html',\n",
       " 'https://www.24h.com.vn/cong-nghe-thong-tin/cach-nhan-canh-bao-giong-set-va-lu-quet-bang-iweather-c55a1508283.html',\n",
       " 'https://www.24h.com.vn/cong-nghe-thong-tin/nguyen-nhan-mot-so-bang-lai-xe-chua-the-tich-hop-tai-khoan-vneid-c55a1508095.html',\n",
       " 'https://www.24h.com.vn/cong-nghe-thong-tin/google-dan-mat-apple-voi-loi-cam-ket-khien-ios-cung-phai-khoc-thet-c55a1507663.html',\n",
       " 'https://www.24h.com.vn/cong-nghe-thong-tin/apple-tung-ios-1703-sua-loi-nong-may-tren-iphone-15-pro-pro-max-c55a1507547.html',\n",
       " 'https://www.24h.com.vn/cong-nghe-thong-tin/android-14-da-chinh-thuc-phat-hanh-c55a1507507.html',\n",
       " 'https://www.24h.com.vn/cong-nghe-thong-tin/apple-chap-nhan-nhuong-bo-trung-quoc-trong-viec-sua-luat-app-store-c55a1507333.html',\n",
       " 'https://www.24h.com.vn/cong-nghe-thong-tin/su-co-hao-pin-tren-ios-17-sap-duoc-khac-phuc-c55a1507348.html',\n",
       " 'https://www.24h.com.vn/cong-nghe-thong-tin/ro-ri-ngay-phat-hanh-chinh-thuc-cua-android-14-c55a1507014.html',\n",
       " 'https://www.24h.com.vn/cong-nghe-thong-tin/apple-co-the-thay-google-bang-trinh-duyet-nha-trong-c55a1506674.html',\n",
       " 'https://www.24h.com.vn/cong-nghe-thong-tin/microsoft-co-the-tao-ra-bien-the-windows-12-tap-trung-vao-web-c55a1506350.html',\n",
       " 'https://www.24h.com.vn/cong-nghe-thong-tin/cach-kich-hoat-vneid-tren-may-tinh-khong-can-cai-app-tren-dien-thoai-c55a1506241.html',\n",
       " 'https://www.24h.com.vn/cong-nghe-thong-tin/chatbot-ai-bing-dang-bi-loi-dung-de-phat-tan-ma-doc-c55a1506160.html',\n",
       " 'https://www.24h.com.vn/cong-nghe-thong-tin/tinh-nang-manh-me-nay-cua-chatgpt-da-hoi-sinh-day-bat-ngo-c55a1505950.html',\n",
       " 'https://www.24h.com.vn/cong-nghe-thong-tin/lum-xum-ve-do-buc-xa-cua-iphone-12-da-duoc-apple-giai-quyet-c55a1505947.html',\n",
       " 'https://www.24h.com.vn/cong-nghe-thong-tin/nguoi-dung-can-cap-nhat-chrome-ngay-lap-tuc-de-tranh-mat-du-lieu-c55a1505769.html',\n",
       " 'https://www.24h.com.vn/cong-nghe-thong-tin/ban-cap-nhat-windows-11-cua-microsoft-co-gi-dac-biet-c55a1505639.html',\n",
       " 'https://www.24h.com.vn/cong-nghe-thong-tin/4-luu-y-de-tranh-bi-lua-tinh-khi-hen-ho-truc-tuyen-dem-trung-thu-c55a1505529.html',\n",
       " 'https://www.24h.com.vn/cong-nghe-thong-tin/ios-17-co-them-cong-cu-tim-kiem-an-moi-duoc-tiet-lo-c55a1504660.html',\n",
       " 'https://www.24h.com.vn/cong-nghe-thong-tin/xoa-ngay-3-ung-dung-nay-neu-ban-khong-muon-bi-quay-len-c55a1504493.html',\n",
       " 'https://www.24h.com.vn/cong-nghe-thong-tin/tinh-nang-dung-phim-xin-so-da-co-tren-iphone-15-pro-c55a1503203.html',\n",
       " 'https://www.24h.com.vn/cong-nghe-thong-tin/google-bi-kien-vi-chi-sai-duong-khien-xay-ra-tai-nan-nghiem-trong-c55a1504130.html',\n",
       " 'https://www.24h.com.vn/cong-nghe-thong-tin/cap-nhat-ngay-iphone-15-ngay-khi-khui-hop-de-tranh-su-co-nghiem-trong-c55a1503962.html',\n",
       " 'https://www.24h.com.vn/cong-nghe-thong-tin/chi-sau-3-ngay-phat-hanh-ios-170-apple-phai-tung-ban-va-khan-cap-c55a1503913.html',\n",
       " 'https://www.24h.com.vn/cong-nghe-thong-tin/android-14-dang-den-voi-nhung-flagship-nay-cua-xiaomi-c55a1503463.html',\n",
       " 'https://www.24h.com.vn/cong-nghe-thong-tin/ios-17-dang-tan-pha-thoi-luong-pin-tren-iphone-doi-cu-c55a1503086.html',\n",
       " 'https://www.24h.com.vn/cong-nghe-thong-tin/phan-mem-co-cua-microsoft-bat-ngo-duoc-cap-nhat-sau-38-nam-c55a1502906.html',\n",
       " 'https://www.24h.com.vn/cong-nghe-thong-tin/da-co-the-tai-ve-ios-17-de-co-nhung-trai-nghiem-thu-vi-moi-c55a1502648.html',\n",
       " 'https://www.24h.com.vn/cong-nghe-thong-tin/vi-sao-ban-nen-su-dung-facebook-lite-tren-dien-thoai-c55a1502361.html',\n",
       " 'https://www.24h.com.vn/cong-nghe-thong-tin/canh-bao-tro-lua-dao-cai-ung-dung-vneid-gia-mao-c55a1502197.html',\n",
       " 'https://www.24h.com.vn/cong-nghe-thong-tin/chatgpt-bi-nhom-hacker-anonymous-tan-cong-ddos-toi-sap-may-chu-c55a1517581.html',\n",
       " 'https://www.24h.com.vn/cong-nghe-thong-tin/nguoi-dung-windows-10-sap-co-them-tin-vui-c55a1517305.html',\n",
       " 'https://www.24h.com.vn/cong-nghe-thong-tin/sau-usb-type-c-tren-iphone-apple-sap-co-thay-doi-lon-lien-quan-kho-ung-dung-c55a1517294.html',\n",
       " 'https://www.24h.com.vn/cong-nghe-thong-tin/coi-chung-mat-sach-du-lieu-tren-smartphone-vi-ung-dung-chat-tuy-bien-c55a1517270.html',\n",
       " 'https://www.24h.com.vn/cong-nghe-thong-tin/tiet-lo-cua-openai-cho-thay-chatgpt-chua-het-thoi-c55a1517186.html',\n",
       " 'https://www.24h.com.vn/cong-nghe-thong-tin/vi-sao-apple-bat-ngo-tam-dung-phat-trien-ios-18-c55a1516938.html',\n",
       " 'https://www.24h.com.vn/cong-nghe-thong-tin/ios-1711-chinh-thuc-duoc-phat-hanh-hay-cap-nhat-ngay-c55a1516934.html',\n",
       " 'https://www.24h.com.vn/cong-nghe-thong-tin/apple-co-the-phat-hanh-ios-1711-som-hon-du-kien-c55a1516826.html',\n",
       " 'https://www.24h.com.vn/cong-nghe-thong-tin/elon-musk-bat-mi-ve-chatbot-moi-manh-dang-gom-c55a1516298.html',\n",
       " 'https://www.24h.com.vn/cong-nghe-thong-tin/windows-11-da-ho-tro-den-11-loai-dinh-dang-file-nen-c55a1516181.html',\n",
       " 'https://www.24h.com.vn/cong-nghe-thong-tin/cach-bao-ve-iphone-an-toan-truoc-thiet-bi-tinh-vi-moi-c55a1516035.html',\n",
       " 'https://www.24h.com.vn/cong-nghe-thong-tin/dong-thai-cua-nguoi-dung-sau-cuoc-dan-ap-trinh-chan-quang-cao-cua-youtube-c55a1515954.html',\n",
       " 'https://www.24h.com.vn/cong-nghe-thong-tin/nguoi-dung-than-troi-vi-su-co-cua-ban-cap-nhat-windows-11-moi-c55a1515911.html',\n",
       " 'https://www.24h.com.vn/cong-nghe-thong-tin/nokia-dam-don-kien-amazon-va-hp-c55a1515751.html',\n",
       " 'https://www.24h.com.vn/cong-nghe-thong-tin/startup-blockchain-viet-doi-ten-tung-sieu-ung-dung-coin98-super-wallet-c55a1515798.html',\n",
       " 'https://www.24h.com.vn/cong-nghe-thong-tin/ban-cap-nhat-windows-11-co-tro-ly-ao-copilot-thong-minh-nhu-chatgpt-c55a1515640.html',\n",
       " 'https://www.24h.com.vn/cong-nghe-thong-tin/loat-smartphone-samsung-galaxy-vua-tam-biet-trinh-duyet-chrome-c55a1515396.html',\n",
       " 'https://www.24h.com.vn/cong-nghe-thong-tin/iphone-cu-se-duoc-len-huong-nho-ios-171-c55a1515407.html',\n",
       " 'https://www.24h.com.vn/cong-nghe-thong-tin/chu-nhan-cua-nhieu-dien-thoai-samsung-galaxy-don-tin-vui-c55a1515431.html',\n",
       " 'https://www.24h.com.vn/cong-nghe-thong-tin/giai-bai-tap-toan-chi-con-la-chuyen-nho-doi-voi-google-search-c55a1515128.html',\n",
       " 'https://www.24h.com.vn/cong-nghe-thong-tin/lap-tuc-xoa-cac-ung-dung-android-doc-hai-co-hon-2-trieu-luot-tai-nay-c55a1514492.html',\n",
       " 'https://www.24h.com.vn/cong-nghe-thong-tin/iphone-15-co-the-bi-hong-chip-vi-xe-sang-apple-phan-ung-sao-c55a1513623.html',\n",
       " 'https://www.24h.com.vn/cong-nghe-thong-tin/noi-buoc-huawei-xiaomi-cong-bo-he-dieu-hanh-hyperos-dung-chung-cho-moi-thiet-bi-c55a1513678.html',\n",
       " 'https://www.24h.com.vn/cong-nghe-thong-tin/microsoft-ceo-hoi-han-vi-cai-chet-cua-windows-phone-c55a1513498.html',\n",
       " 'https://www.24h.com.vn/cong-nghe-thong-tin/ios-171-ra-mat-nhieu-nguoi-dung-iphone-can-cap-nhat-gap-c55a1513255.html',\n",
       " 'https://www.24h.com.vn/cong-nghe-thong-tin/trung-tam-du-lieu-lon-nhat-hien-dai-nhat-viet-nam-di-vao-hoat-dong-c55a1513110.html',\n",
       " 'https://www.24h.com.vn/cong-nghe-thong-tin/nhung-rui-ro-khi-de-tre-em-lam-ban-voi-chatgpt-khong-kiem-soat-c55a1512920.html',\n",
       " 'https://www.24h.com.vn/cong-nghe-thong-tin/ung-dung-hen-ho-hot-nhat-cua-genz-co-tinh-nang-mai-moi-lan-dau-xuat-hien-c55a1512720.html',\n",
       " 'https://www.24h.com.vn/cong-nghe-thong-tin/5-tinh-nang-huyen-thoai-ton-tai-tren-windows-suot-28-nam-qua-c55a1512444.html',\n",
       " 'https://www.24h.com.vn/cong-nghe-thong-tin/israel-su-dung-tinh-nang-nhan-dang-khuon-mat-de-tim-kiem-nguoi-mat-tich-c55a1512304.html',\n",
       " 'https://www.24h.com.vn/cong-nghe-thong-tin/phan-mem-vneid-210-co-gi-moi-ma-nguoi-dan-nen-cap-nhat-ngay-c55a1512103.html',\n",
       " 'https://www.24h.com.vn/cong-nghe-thong-tin/apple-xac-nhan-thao-tac-vuot-de-dong-ung-dung-khien-iphone-bi-cham-va-hao-pin-c55a1512085.html',\n",
       " 'https://www.24h.com.vn/cong-nghe-thong-tin/tuyet-chieu-giup-tu-dong-bo-qua-cac-doan-quang-cao-tren-youtube-c55a1511836.html',\n",
       " 'https://www.24h.com.vn/cong-nghe-thong-tin/ios-18-co-the-mang-den-ai-giong-nhu-chatgpt-c55a1511848.html',\n",
       " 'https://www.24h.com.vn/cong-nghe-thong-tin/hon-500-trieu-nguoi-dung-winrar-can-thuc-hien-gap-dieu-nay-c55a1511627.html',\n",
       " 'https://www.24h.com.vn/cong-nghe-thong-tin/ios-171-se-chua-khac-phuc-duoc-loi-kho-chiu-nay-tren-iphone-15-c55a1511544.html',\n",
       " 'https://www.24h.com.vn/cong-nghe-thong-tin/chi-can-cap-nhat-phan-mem-dong-ho-garmin-co-ngay-tinh-nang-cuc-quan-trong-nay-c55a1511415.html',\n",
       " 'https://www.24h.com.vn/cong-nghe-thong-tin/dich-noi-dung-doan-chat-tieng-nuoc-ngoai-cuc-nhanh-tren-zalo-c55a1511288.html',\n",
       " 'https://www.24h.com.vn/cong-nghe-thong-tin/windows-11-lam-duoc-dieu-microsoft-khong-the-ngo-den-c55a1511060.html',\n",
       " 'https://www.24h.com.vn/cong-nghe-thong-tin/tinh-nang-moi-nay-se-giai-quyet-van-de-ngon-ram-tren-chrome-c55a1511252.html',\n",
       " 'https://www.24h.com.vn/cong-nghe-thong-tin/windows-10-chi-con-chua-day-2-nam-truoc-khi-bi-microsoft-bo-roi-c55a1510940.html',\n",
       " 'https://www.24h.com.vn/cong-nghe-thong-tin/tu-bo-miui-xiaomi-cong-bo-he-dieu-hanh-di-dong-moi-c55a1510951.html',\n",
       " 'https://www.24h.com.vn/cong-nghe-thong-tin/mot-trong-ba-co-quan-quyen-luc-cua-my-van-dung-windows-xp-c55a1510488.html',\n",
       " 'https://www.24h.com.vn/cong-nghe-thong-tin/microsoft-treo-tien-thuong-khung-de-tim-loi-cho-bing-ai-c55a1509962.html',\n",
       " 'https://www.24h.com.vn/cong-nghe-thong-tin/he-dieu-hanh-mios-moi-se-xuat-hien-tren-xiaomi-14-c55a1509973.html',\n",
       " 'https://www.24h.com.vn/cong-nghe-thong-tin/apple-tung-ban-ios-sua-loi-bao-mat-quan-trong-cho-nguoi-khong-dung-ios-17-c55a1509356.html',\n",
       " 'https://www.24h.com.vn/cong-nghe-thong-tin/xiaomi-cho-phep-ep-moi-ung-dung-chay-voi-tan-so-quet-man-hinh-120hz-c55a1509065.html',\n",
       " 'https://www.24h.com.vn/cong-nghe-thong-tin/intel-he-lo-thoi-diem-phat-hanh-cua-windows-12-c55a1509062.html',\n",
       " 'https://www.24h.com.vn/cong-nghe-thong-tin/cach-nhan-canh-bao-giong-set-va-lu-quet-bang-iweather-c55a1508283.html',\n",
       " 'https://www.24h.com.vn/cong-nghe-thong-tin/nguyen-nhan-mot-so-bang-lai-xe-chua-the-tich-hop-tai-khoan-vneid-c55a1508095.html',\n",
       " 'https://www.24h.com.vn/cong-nghe-thong-tin/google-dan-mat-apple-voi-loi-cam-ket-khien-ios-cung-phai-khoc-thet-c55a1507663.html',\n",
       " 'https://www.24h.com.vn/cong-nghe-thong-tin/apple-tung-ios-1703-sua-loi-nong-may-tren-iphone-15-pro-pro-max-c55a1507547.html',\n",
       " 'https://www.24h.com.vn/cong-nghe-thong-tin/android-14-da-chinh-thuc-phat-hanh-c55a1507507.html',\n",
       " 'https://www.24h.com.vn/cong-nghe-thong-tin/apple-chap-nhan-nhuong-bo-trung-quoc-trong-viec-sua-luat-app-store-c55a1507333.html',\n",
       " 'https://www.24h.com.vn/cong-nghe-thong-tin/su-co-hao-pin-tren-ios-17-sap-duoc-khac-phuc-c55a1507348.html',\n",
       " 'https://www.24h.com.vn/cong-nghe-thong-tin/ro-ri-ngay-phat-hanh-chinh-thuc-cua-android-14-c55a1507014.html',\n",
       " 'https://www.24h.com.vn/cong-nghe-thong-tin/apple-co-the-thay-google-bang-trinh-duyet-nha-trong-c55a1506674.html',\n",
       " 'https://www.24h.com.vn/cong-nghe-thong-tin/microsoft-co-the-tao-ra-bien-the-windows-12-tap-trung-vao-web-c55a1506350.html',\n",
       " 'https://www.24h.com.vn/cong-nghe-thong-tin/cach-kich-hoat-vneid-tren-may-tinh-khong-can-cai-app-tren-dien-thoai-c55a1506241.html',\n",
       " 'https://www.24h.com.vn/cong-nghe-thong-tin/chatbot-ai-bing-dang-bi-loi-dung-de-phat-tan-ma-doc-c55a1506160.html',\n",
       " 'https://www.24h.com.vn/cong-nghe-thong-tin/tinh-nang-manh-me-nay-cua-chatgpt-da-hoi-sinh-day-bat-ngo-c55a1505950.html',\n",
       " 'https://www.24h.com.vn/cong-nghe-thong-tin/lum-xum-ve-do-buc-xa-cua-iphone-12-da-duoc-apple-giai-quyet-c55a1505947.html',\n",
       " 'https://www.24h.com.vn/cong-nghe-thong-tin/nguoi-dung-can-cap-nhat-chrome-ngay-lap-tuc-de-tranh-mat-du-lieu-c55a1505769.html',\n",
       " 'https://www.24h.com.vn/cong-nghe-thong-tin/ban-cap-nhat-windows-11-cua-microsoft-co-gi-dac-biet-c55a1505639.html',\n",
       " 'https://www.24h.com.vn/cong-nghe-thong-tin/4-luu-y-de-tranh-bi-lua-tinh-khi-hen-ho-truc-tuyen-dem-trung-thu-c55a1505529.html',\n",
       " 'https://www.24h.com.vn/cong-nghe-thong-tin/ios-17-co-them-cong-cu-tim-kiem-an-moi-duoc-tiet-lo-c55a1504660.html',\n",
       " 'https://www.24h.com.vn/cong-nghe-thong-tin/xoa-ngay-3-ung-dung-nay-neu-ban-khong-muon-bi-quay-len-c55a1504493.html',\n",
       " 'https://www.24h.com.vn/cong-nghe-thong-tin/tinh-nang-dung-phim-xin-so-da-co-tren-iphone-15-pro-c55a1503203.html',\n",
       " 'https://www.24h.com.vn/cong-nghe-thong-tin/google-bi-kien-vi-chi-sai-duong-khien-xay-ra-tai-nan-nghiem-trong-c55a1504130.html',\n",
       " 'https://www.24h.com.vn/cong-nghe-thong-tin/cap-nhat-ngay-iphone-15-ngay-khi-khui-hop-de-tranh-su-co-nghiem-trong-c55a1503962.html',\n",
       " 'https://www.24h.com.vn/cong-nghe-thong-tin/chi-sau-3-ngay-phat-hanh-ios-170-apple-phai-tung-ban-va-khan-cap-c55a1503913.html',\n",
       " 'https://www.24h.com.vn/cong-nghe-thong-tin/android-14-dang-den-voi-nhung-flagship-nay-cua-xiaomi-c55a1503463.html',\n",
       " 'https://www.24h.com.vn/cong-nghe-thong-tin/ios-17-dang-tan-pha-thoi-luong-pin-tren-iphone-doi-cu-c55a1503086.html',\n",
       " 'https://www.24h.com.vn/cong-nghe-thong-tin/phan-mem-co-cua-microsoft-bat-ngo-duoc-cap-nhat-sau-38-nam-c55a1502906.html',\n",
       " 'https://www.24h.com.vn/cong-nghe-thong-tin/da-co-the-tai-ve-ios-17-de-co-nhung-trai-nghiem-thu-vi-moi-c55a1502648.html',\n",
       " 'https://www.24h.com.vn/cong-nghe-thong-tin/vi-sao-ban-nen-su-dung-facebook-lite-tren-dien-thoai-c55a1502361.html',\n",
       " 'https://www.24h.com.vn/cong-nghe-thong-tin/canh-bao-tro-lua-dao-cai-ung-dung-vneid-gia-mao-c55a1502197.html',\n",
       " 'https://www.24h.com.vn/cong-nghe-thong-tin/tinh-nang-chup-anh-man-hinh-tren-windows-11-sap-xin-so-hon-c55a1501680.html',\n",
       " 'https://www.24h.com.vn/cong-nghe-thong-tin/ung-dung-giup-giam-thiet-hai-do-chay-no-c55a1501405.html',\n",
       " 'https://www.24h.com.vn/cong-nghe-thong-tin/nguoi-dung-co-the-chi-dinh-iphone-15-duoc-sac-den-bao-nhieu-phan-tram-pin-c55a1501177.html',\n",
       " 'https://www.24h.com.vn/cong-nghe-thong-tin/iphone-va-ipad-doi-cu-can-cap-nhat-ngay-phien-ban-ios-nay-c55a1500846.html',\n",
       " 'https://www.24h.com.vn/cong-nghe-thong-tin/khi-nao-nguoi-dung-iphone-duoc-len-doi-ios-17-c55a1500956.html',\n",
       " 'https://www.24h.com.vn/cong-nghe-thong-tin/mau-dien-thoai-samsung-tam-trung-dau-tien-duoc-cap-nhat-one-ui-60-beta-c55a1500721.html',\n",
       " 'https://www.24h.com.vn/cong-nghe-thong-tin/microsoft-paint-da-co-tinh-nang-tach-nen-hinh-anh-cuc-nhanh-c55a1500005.html',\n",
       " 'https://www.24h.com.vn/cong-nghe-thong-tin/can-gap-rut-cap-nhat-len-ios-1661-vi-ly-do-nguy-hiem-nay-c55a1499796.html',\n",
       " 'https://www.24h.com.vn/cong-nghe-thong-tin/nguyen-nhan-nhieu-may-tinh-windows-11-gan-day-hay-bi-loi-man-hinh-xanh-c55a1499715.html',\n",
       " 'https://www.24h.com.vn/cong-nghe-thong-tin/loi-may-tinh-khien-hon-200-chuyen-baykhong-the-cat-canh-c55a1499555.html',\n",
       " 'https://www.24h.com.vn/cong-nghe-thong-tin/apple-dang-am-tham-dot-hang-trieu-usd-moi-ngay-cho-viec-nay-c55a1499383.html',\n",
       " 'https://www.24h.com.vn/cong-nghe-thong-tin/chatgpt-bi-nhom-hacker-anonymous-tan-cong-ddos-toi-sap-may-chu-c55a1517581.html',\n",
       " 'https://www.24h.com.vn/cong-nghe-thong-tin/nguoi-dung-windows-10-sap-co-them-tin-vui-c55a1517305.html',\n",
       " 'https://www.24h.com.vn/cong-nghe-thong-tin/sau-usb-type-c-tren-iphone-apple-sap-co-thay-doi-lon-lien-quan-kho-ung-dung-c55a1517294.html',\n",
       " 'https://www.24h.com.vn/cong-nghe-thong-tin/coi-chung-mat-sach-du-lieu-tren-smartphone-vi-ung-dung-chat-tuy-bien-c55a1517270.html',\n",
       " 'https://www.24h.com.vn/cong-nghe-thong-tin/tiet-lo-cua-openai-cho-thay-chatgpt-chua-het-thoi-c55a1517186.html',\n",
       " 'https://www.24h.com.vn/cong-nghe-thong-tin/vi-sao-apple-bat-ngo-tam-dung-phat-trien-ios-18-c55a1516938.html',\n",
       " 'https://www.24h.com.vn/cong-nghe-thong-tin/ios-1711-chinh-thuc-duoc-phat-hanh-hay-cap-nhat-ngay-c55a1516934.html',\n",
       " 'https://www.24h.com.vn/cong-nghe-thong-tin/apple-co-the-phat-hanh-ios-1711-som-hon-du-kien-c55a1516826.html',\n",
       " 'https://www.24h.com.vn/cong-nghe-thong-tin/elon-musk-bat-mi-ve-chatbot-moi-manh-dang-gom-c55a1516298.html',\n",
       " 'https://www.24h.com.vn/cong-nghe-thong-tin/windows-11-da-ho-tro-den-11-loai-dinh-dang-file-nen-c55a1516181.html',\n",
       " 'https://www.24h.com.vn/cong-nghe-thong-tin/cach-bao-ve-iphone-an-toan-truoc-thiet-bi-tinh-vi-moi-c55a1516035.html',\n",
       " 'https://www.24h.com.vn/cong-nghe-thong-tin/dong-thai-cua-nguoi-dung-sau-cuoc-dan-ap-trinh-chan-quang-cao-cua-youtube-c55a1515954.html',\n",
       " 'https://www.24h.com.vn/cong-nghe-thong-tin/nguoi-dung-than-troi-vi-su-co-cua-ban-cap-nhat-windows-11-moi-c55a1515911.html',\n",
       " 'https://www.24h.com.vn/cong-nghe-thong-tin/nokia-dam-don-kien-amazon-va-hp-c55a1515751.html',\n",
       " 'https://www.24h.com.vn/cong-nghe-thong-tin/startup-blockchain-viet-doi-ten-tung-sieu-ung-dung-coin98-super-wallet-c55a1515798.html',\n",
       " 'https://www.24h.com.vn/cong-nghe-thong-tin/ban-cap-nhat-windows-11-co-tro-ly-ao-copilot-thong-minh-nhu-chatgpt-c55a1515640.html',\n",
       " 'https://www.24h.com.vn/cong-nghe-thong-tin/loat-smartphone-samsung-galaxy-vua-tam-biet-trinh-duyet-chrome-c55a1515396.html',\n",
       " 'https://www.24h.com.vn/cong-nghe-thong-tin/iphone-cu-se-duoc-len-huong-nho-ios-171-c55a1515407.html',\n",
       " 'https://www.24h.com.vn/cong-nghe-thong-tin/chu-nhan-cua-nhieu-dien-thoai-samsung-galaxy-don-tin-vui-c55a1515431.html',\n",
       " 'https://www.24h.com.vn/cong-nghe-thong-tin/giai-bai-tap-toan-chi-con-la-chuyen-nho-doi-voi-google-search-c55a1515128.html',\n",
       " 'https://www.24h.com.vn/cong-nghe-thong-tin/lap-tuc-xoa-cac-ung-dung-android-doc-hai-co-hon-2-trieu-luot-tai-nay-c55a1514492.html',\n",
       " 'https://www.24h.com.vn/cong-nghe-thong-tin/iphone-15-co-the-bi-hong-chip-vi-xe-sang-apple-phan-ung-sao-c55a1513623.html',\n",
       " 'https://www.24h.com.vn/cong-nghe-thong-tin/noi-buoc-huawei-xiaomi-cong-bo-he-dieu-hanh-hyperos-dung-chung-cho-moi-thiet-bi-c55a1513678.html',\n",
       " 'https://www.24h.com.vn/cong-nghe-thong-tin/microsoft-ceo-hoi-han-vi-cai-chet-cua-windows-phone-c55a1513498.html',\n",
       " 'https://www.24h.com.vn/cong-nghe-thong-tin/ios-171-ra-mat-nhieu-nguoi-dung-iphone-can-cap-nhat-gap-c55a1513255.html',\n",
       " 'https://www.24h.com.vn/cong-nghe-thong-tin/trung-tam-du-lieu-lon-nhat-hien-dai-nhat-viet-nam-di-vao-hoat-dong-c55a1513110.html',\n",
       " 'https://www.24h.com.vn/cong-nghe-thong-tin/nhung-rui-ro-khi-de-tre-em-lam-ban-voi-chatgpt-khong-kiem-soat-c55a1512920.html',\n",
       " 'https://www.24h.com.vn/cong-nghe-thong-tin/ung-dung-hen-ho-hot-nhat-cua-genz-co-tinh-nang-mai-moi-lan-dau-xuat-hien-c55a1512720.html',\n",
       " 'https://www.24h.com.vn/cong-nghe-thong-tin/5-tinh-nang-huyen-thoai-ton-tai-tren-windows-suot-28-nam-qua-c55a1512444.html',\n",
       " 'https://www.24h.com.vn/cong-nghe-thong-tin/israel-su-dung-tinh-nang-nhan-dang-khuon-mat-de-tim-kiem-nguoi-mat-tich-c55a1512304.html',\n",
       " 'https://www.24h.com.vn/cong-nghe-thong-tin/phan-mem-vneid-210-co-gi-moi-ma-nguoi-dan-nen-cap-nhat-ngay-c55a1512103.html',\n",
       " 'https://www.24h.com.vn/cong-nghe-thong-tin/apple-xac-nhan-thao-tac-vuot-de-dong-ung-dung-khien-iphone-bi-cham-va-hao-pin-c55a1512085.html',\n",
       " 'https://www.24h.com.vn/cong-nghe-thong-tin/tuyet-chieu-giup-tu-dong-bo-qua-cac-doan-quang-cao-tren-youtube-c55a1511836.html',\n",
       " 'https://www.24h.com.vn/cong-nghe-thong-tin/ios-18-co-the-mang-den-ai-giong-nhu-chatgpt-c55a1511848.html',\n",
       " 'https://www.24h.com.vn/cong-nghe-thong-tin/hon-500-trieu-nguoi-dung-winrar-can-thuc-hien-gap-dieu-nay-c55a1511627.html',\n",
       " 'https://www.24h.com.vn/cong-nghe-thong-tin/ios-171-se-chua-khac-phuc-duoc-loi-kho-chiu-nay-tren-iphone-15-c55a1511544.html',\n",
       " 'https://www.24h.com.vn/cong-nghe-thong-tin/chi-can-cap-nhat-phan-mem-dong-ho-garmin-co-ngay-tinh-nang-cuc-quan-trong-nay-c55a1511415.html',\n",
       " 'https://www.24h.com.vn/cong-nghe-thong-tin/dich-noi-dung-doan-chat-tieng-nuoc-ngoai-cuc-nhanh-tren-zalo-c55a1511288.html',\n",
       " 'https://www.24h.com.vn/cong-nghe-thong-tin/windows-11-lam-duoc-dieu-microsoft-khong-the-ngo-den-c55a1511060.html',\n",
       " 'https://www.24h.com.vn/cong-nghe-thong-tin/tinh-nang-moi-nay-se-giai-quyet-van-de-ngon-ram-tren-chrome-c55a1511252.html',\n",
       " 'https://www.24h.com.vn/cong-nghe-thong-tin/windows-10-chi-con-chua-day-2-nam-truoc-khi-bi-microsoft-bo-roi-c55a1510940.html',\n",
       " 'https://www.24h.com.vn/cong-nghe-thong-tin/tu-bo-miui-xiaomi-cong-bo-he-dieu-hanh-di-dong-moi-c55a1510951.html',\n",
       " 'https://www.24h.com.vn/cong-nghe-thong-tin/mot-trong-ba-co-quan-quyen-luc-cua-my-van-dung-windows-xp-c55a1510488.html',\n",
       " 'https://www.24h.com.vn/cong-nghe-thong-tin/microsoft-treo-tien-thuong-khung-de-tim-loi-cho-bing-ai-c55a1509962.html',\n",
       " 'https://www.24h.com.vn/cong-nghe-thong-tin/he-dieu-hanh-mios-moi-se-xuat-hien-tren-xiaomi-14-c55a1509973.html',\n",
       " 'https://www.24h.com.vn/cong-nghe-thong-tin/apple-tung-ban-ios-sua-loi-bao-mat-quan-trong-cho-nguoi-khong-dung-ios-17-c55a1509356.html',\n",
       " 'https://www.24h.com.vn/cong-nghe-thong-tin/xiaomi-cho-phep-ep-moi-ung-dung-chay-voi-tan-so-quet-man-hinh-120hz-c55a1509065.html',\n",
       " 'https://www.24h.com.vn/cong-nghe-thong-tin/intel-he-lo-thoi-diem-phat-hanh-cua-windows-12-c55a1509062.html',\n",
       " 'https://www.24h.com.vn/cong-nghe-thong-tin/cach-nhan-canh-bao-giong-set-va-lu-quet-bang-iweather-c55a1508283.html',\n",
       " 'https://www.24h.com.vn/cong-nghe-thong-tin/nguyen-nhan-mot-so-bang-lai-xe-chua-the-tich-hop-tai-khoan-vneid-c55a1508095.html',\n",
       " 'https://www.24h.com.vn/cong-nghe-thong-tin/google-dan-mat-apple-voi-loi-cam-ket-khien-ios-cung-phai-khoc-thet-c55a1507663.html',\n",
       " 'https://www.24h.com.vn/cong-nghe-thong-tin/apple-tung-ios-1703-sua-loi-nong-may-tren-iphone-15-pro-pro-max-c55a1507547.html',\n",
       " 'https://www.24h.com.vn/cong-nghe-thong-tin/android-14-da-chinh-thuc-phat-hanh-c55a1507507.html',\n",
       " 'https://www.24h.com.vn/cong-nghe-thong-tin/apple-chap-nhan-nhuong-bo-trung-quoc-trong-viec-sua-luat-app-store-c55a1507333.html',\n",
       " 'https://www.24h.com.vn/cong-nghe-thong-tin/su-co-hao-pin-tren-ios-17-sap-duoc-khac-phuc-c55a1507348.html',\n",
       " 'https://www.24h.com.vn/cong-nghe-thong-tin/ro-ri-ngay-phat-hanh-chinh-thuc-cua-android-14-c55a1507014.html',\n",
       " 'https://www.24h.com.vn/cong-nghe-thong-tin/apple-co-the-thay-google-bang-trinh-duyet-nha-trong-c55a1506674.html',\n",
       " 'https://www.24h.com.vn/cong-nghe-thong-tin/microsoft-co-the-tao-ra-bien-the-windows-12-tap-trung-vao-web-c55a1506350.html',\n",
       " 'https://www.24h.com.vn/cong-nghe-thong-tin/cach-kich-hoat-vneid-tren-may-tinh-khong-can-cai-app-tren-dien-thoai-c55a1506241.html',\n",
       " 'https://www.24h.com.vn/cong-nghe-thong-tin/chatbot-ai-bing-dang-bi-loi-dung-de-phat-tan-ma-doc-c55a1506160.html',\n",
       " 'https://www.24h.com.vn/cong-nghe-thong-tin/tinh-nang-manh-me-nay-cua-chatgpt-da-hoi-sinh-day-bat-ngo-c55a1505950.html',\n",
       " 'https://www.24h.com.vn/cong-nghe-thong-tin/lum-xum-ve-do-buc-xa-cua-iphone-12-da-duoc-apple-giai-quyet-c55a1505947.html',\n",
       " 'https://www.24h.com.vn/cong-nghe-thong-tin/nguoi-dung-can-cap-nhat-chrome-ngay-lap-tuc-de-tranh-mat-du-lieu-c55a1505769.html',\n",
       " 'https://www.24h.com.vn/cong-nghe-thong-tin/ban-cap-nhat-windows-11-cua-microsoft-co-gi-dac-biet-c55a1505639.html',\n",
       " 'https://www.24h.com.vn/cong-nghe-thong-tin/4-luu-y-de-tranh-bi-lua-tinh-khi-hen-ho-truc-tuyen-dem-trung-thu-c55a1505529.html',\n",
       " 'https://www.24h.com.vn/cong-nghe-thong-tin/ios-17-co-them-cong-cu-tim-kiem-an-moi-duoc-tiet-lo-c55a1504660.html',\n",
       " 'https://www.24h.com.vn/cong-nghe-thong-tin/xoa-ngay-3-ung-dung-nay-neu-ban-khong-muon-bi-quay-len-c55a1504493.html',\n",
       " 'https://www.24h.com.vn/cong-nghe-thong-tin/tinh-nang-dung-phim-xin-so-da-co-tren-iphone-15-pro-c55a1503203.html',\n",
       " 'https://www.24h.com.vn/cong-nghe-thong-tin/google-bi-kien-vi-chi-sai-duong-khien-xay-ra-tai-nan-nghiem-trong-c55a1504130.html',\n",
       " 'https://www.24h.com.vn/cong-nghe-thong-tin/cap-nhat-ngay-iphone-15-ngay-khi-khui-hop-de-tranh-su-co-nghiem-trong-c55a1503962.html',\n",
       " 'https://www.24h.com.vn/cong-nghe-thong-tin/chi-sau-3-ngay-phat-hanh-ios-170-apple-phai-tung-ban-va-khan-cap-c55a1503913.html',\n",
       " 'https://www.24h.com.vn/cong-nghe-thong-tin/android-14-dang-den-voi-nhung-flagship-nay-cua-xiaomi-c55a1503463.html',\n",
       " 'https://www.24h.com.vn/cong-nghe-thong-tin/ios-17-dang-tan-pha-thoi-luong-pin-tren-iphone-doi-cu-c55a1503086.html',\n",
       " 'https://www.24h.com.vn/cong-nghe-thong-tin/phan-mem-co-cua-microsoft-bat-ngo-duoc-cap-nhat-sau-38-nam-c55a1502906.html',\n",
       " 'https://www.24h.com.vn/cong-nghe-thong-tin/da-co-the-tai-ve-ios-17-de-co-nhung-trai-nghiem-thu-vi-moi-c55a1502648.html',\n",
       " 'https://www.24h.com.vn/cong-nghe-thong-tin/vi-sao-ban-nen-su-dung-facebook-lite-tren-dien-thoai-c55a1502361.html',\n",
       " 'https://www.24h.com.vn/cong-nghe-thong-tin/canh-bao-tro-lua-dao-cai-ung-dung-vneid-gia-mao-c55a1502197.html',\n",
       " 'https://www.24h.com.vn/cong-nghe-thong-tin/tinh-nang-chup-anh-man-hinh-tren-windows-11-sap-xin-so-hon-c55a1501680.html',\n",
       " 'https://www.24h.com.vn/cong-nghe-thong-tin/ung-dung-giup-giam-thiet-hai-do-chay-no-c55a1501405.html',\n",
       " 'https://www.24h.com.vn/cong-nghe-thong-tin/nguoi-dung-co-the-chi-dinh-iphone-15-duoc-sac-den-bao-nhieu-phan-tram-pin-c55a1501177.html',\n",
       " 'https://www.24h.com.vn/cong-nghe-thong-tin/iphone-va-ipad-doi-cu-can-cap-nhat-ngay-phien-ban-ios-nay-c55a1500846.html',\n",
       " 'https://www.24h.com.vn/cong-nghe-thong-tin/khi-nao-nguoi-dung-iphone-duoc-len-doi-ios-17-c55a1500956.html',\n",
       " 'https://www.24h.com.vn/cong-nghe-thong-tin/mau-dien-thoai-samsung-tam-trung-dau-tien-duoc-cap-nhat-one-ui-60-beta-c55a1500721.html',\n",
       " 'https://www.24h.com.vn/cong-nghe-thong-tin/microsoft-paint-da-co-tinh-nang-tach-nen-hinh-anh-cuc-nhanh-c55a1500005.html',\n",
       " 'https://www.24h.com.vn/cong-nghe-thong-tin/can-gap-rut-cap-nhat-len-ios-1661-vi-ly-do-nguy-hiem-nay-c55a1499796.html',\n",
       " 'https://www.24h.com.vn/cong-nghe-thong-tin/nguyen-nhan-nhieu-may-tinh-windows-11-gan-day-hay-bi-loi-man-hinh-xanh-c55a1499715.html',\n",
       " 'https://www.24h.com.vn/cong-nghe-thong-tin/loi-may-tinh-khien-hon-200-chuyen-baykhong-the-cat-canh-c55a1499555.html',\n",
       " 'https://www.24h.com.vn/cong-nghe-thong-tin/apple-dang-am-tham-dot-hang-trieu-usd-moi-ngay-cho-viec-nay-c55a1499383.html',\n",
       " 'https://www.24h.com.vn/cong-nghe-thong-tin/microsoft-khai-tu-ung-dung-ton-tai-30-nam-tren-he-dieu-hanh-windows-c55a1498472.html',\n",
       " 'https://www.24h.com.vn/cong-nghe-thong-tin/doi-thu-cua-chatgpt-trinh-lang-dat-hon-1-trieu-nguoi-dung-trong-ngay-dau-tien-c55a1498217.html',\n",
       " 'https://www.24h.com.vn/cong-nghe-thong-tin/chrome-co-tinh-nang-moi-trich-xuat-hinh-anh-cuc-nhanh-tu-video-dang-xem-c55a1497936.html',\n",
       " 'https://www.24h.com.vn/cong-nghe-thong-tin/vi-sao-smartphone-du-bao-kha-nang-cao-co-mua-nhung-khong-co-noi-mot-giot-c55a1497275.html',\n",
       " 'https://www.24h.com.vn/cong-nghe-thong-tin/nguoi-dung-windows-10-vua-nhan-duoc-them-tinh-nang-huu-ich-nay-c55a1497327.html',\n",
       " 'https://www.24h.com.vn/cong-nghe-thong-tin/hinh-anh-nhay-cam-co-the-an-than-tren-google-photos-c55a1497400.html',\n",
       " 'https://www.24h.com.vn/cong-nghe-thong-tin/google-chrome-co-them-suc-manh-ai-tu-microsoft-c55a1496884.html',\n",
       " 'https://www.24h.com.vn/cong-nghe-thong-tin/16-mau-dien-thoai-samsung-duoc-cap-nhat-one-ui-6-c55a1497086.html',\n",
       " 'https://www.24h.com.vn/cong-nghe-thong-tin/ung-dung-hen-ho-nay-vua-da-bay-5-trieu-tai-khoan-chuyen-di-lua-tinh-c55a1496939.html',\n",
       " 'https://www.24h.com.vn/cong-nghe-thong-tin/dieu-kho-chiu-nhat-tren-windows-11-da-duoc-microsoft-khac-phuc-c55a1496849.html',\n",
       " 'https://www.24h.com.vn/cong-nghe-thong-tin/firefox-da-cho-nhap-tien-ich-mo-rong-tu-chrome-c55a1496867.html',\n",
       " 'https://www.24h.com.vn/cong-nghe-thong-tin/chatgpt-bi-nhom-hacker-anonymous-tan-cong-ddos-toi-sap-may-chu-c55a1517581.html',\n",
       " 'https://www.24h.com.vn/cong-nghe-thong-tin/nguoi-dung-windows-10-sap-co-them-tin-vui-c55a1517305.html',\n",
       " 'https://www.24h.com.vn/cong-nghe-thong-tin/sau-usb-type-c-tren-iphone-apple-sap-co-thay-doi-lon-lien-quan-kho-ung-dung-c55a1517294.html',\n",
       " 'https://www.24h.com.vn/cong-nghe-thong-tin/coi-chung-mat-sach-du-lieu-tren-smartphone-vi-ung-dung-chat-tuy-bien-c55a1517270.html',\n",
       " 'https://www.24h.com.vn/cong-nghe-thong-tin/tiet-lo-cua-openai-cho-thay-chatgpt-chua-het-thoi-c55a1517186.html',\n",
       " 'https://www.24h.com.vn/cong-nghe-thong-tin/vi-sao-apple-bat-ngo-tam-dung-phat-trien-ios-18-c55a1516938.html',\n",
       " 'https://www.24h.com.vn/cong-nghe-thong-tin/ios-1711-chinh-thuc-duoc-phat-hanh-hay-cap-nhat-ngay-c55a1516934.html',\n",
       " 'https://www.24h.com.vn/cong-nghe-thong-tin/apple-co-the-phat-hanh-ios-1711-som-hon-du-kien-c55a1516826.html',\n",
       " 'https://www.24h.com.vn/cong-nghe-thong-tin/elon-musk-bat-mi-ve-chatbot-moi-manh-dang-gom-c55a1516298.html',\n",
       " 'https://www.24h.com.vn/cong-nghe-thong-tin/windows-11-da-ho-tro-den-11-loai-dinh-dang-file-nen-c55a1516181.html',\n",
       " 'https://www.24h.com.vn/cong-nghe-thong-tin/cach-bao-ve-iphone-an-toan-truoc-thiet-bi-tinh-vi-moi-c55a1516035.html',\n",
       " 'https://www.24h.com.vn/cong-nghe-thong-tin/dong-thai-cua-nguoi-dung-sau-cuoc-dan-ap-trinh-chan-quang-cao-cua-youtube-c55a1515954.html',\n",
       " 'https://www.24h.com.vn/cong-nghe-thong-tin/nguoi-dung-than-troi-vi-su-co-cua-ban-cap-nhat-windows-11-moi-c55a1515911.html',\n",
       " 'https://www.24h.com.vn/cong-nghe-thong-tin/nokia-dam-don-kien-amazon-va-hp-c55a1515751.html',\n",
       " 'https://www.24h.com.vn/cong-nghe-thong-tin/startup-blockchain-viet-doi-ten-tung-sieu-ung-dung-coin98-super-wallet-c55a1515798.html',\n",
       " 'https://www.24h.com.vn/cong-nghe-thong-tin/ban-cap-nhat-windows-11-co-tro-ly-ao-copilot-thong-minh-nhu-chatgpt-c55a1515640.html',\n",
       " 'https://www.24h.com.vn/cong-nghe-thong-tin/loat-smartphone-samsung-galaxy-vua-tam-biet-trinh-duyet-chrome-c55a1515396.html',\n",
       " 'https://www.24h.com.vn/cong-nghe-thong-tin/iphone-cu-se-duoc-len-huong-nho-ios-171-c55a1515407.html',\n",
       " 'https://www.24h.com.vn/cong-nghe-thong-tin/chu-nhan-cua-nhieu-dien-thoai-samsung-galaxy-don-tin-vui-c55a1515431.html',\n",
       " 'https://www.24h.com.vn/cong-nghe-thong-tin/giai-bai-tap-toan-chi-con-la-chuyen-nho-doi-voi-google-search-c55a1515128.html',\n",
       " 'https://www.24h.com.vn/cong-nghe-thong-tin/lap-tuc-xoa-cac-ung-dung-android-doc-hai-co-hon-2-trieu-luot-tai-nay-c55a1514492.html',\n",
       " 'https://www.24h.com.vn/cong-nghe-thong-tin/iphone-15-co-the-bi-hong-chip-vi-xe-sang-apple-phan-ung-sao-c55a1513623.html',\n",
       " 'https://www.24h.com.vn/cong-nghe-thong-tin/noi-buoc-huawei-xiaomi-cong-bo-he-dieu-hanh-hyperos-dung-chung-cho-moi-thiet-bi-c55a1513678.html',\n",
       " 'https://www.24h.com.vn/cong-nghe-thong-tin/microsoft-ceo-hoi-han-vi-cai-chet-cua-windows-phone-c55a1513498.html',\n",
       " 'https://www.24h.com.vn/cong-nghe-thong-tin/ios-171-ra-mat-nhieu-nguoi-dung-iphone-can-cap-nhat-gap-c55a1513255.html',\n",
       " 'https://www.24h.com.vn/cong-nghe-thong-tin/trung-tam-du-lieu-lon-nhat-hien-dai-nhat-viet-nam-di-vao-hoat-dong-c55a1513110.html',\n",
       " 'https://www.24h.com.vn/cong-nghe-thong-tin/nhung-rui-ro-khi-de-tre-em-lam-ban-voi-chatgpt-khong-kiem-soat-c55a1512920.html',\n",
       " 'https://www.24h.com.vn/cong-nghe-thong-tin/ung-dung-hen-ho-hot-nhat-cua-genz-co-tinh-nang-mai-moi-lan-dau-xuat-hien-c55a1512720.html',\n",
       " 'https://www.24h.com.vn/cong-nghe-thong-tin/5-tinh-nang-huyen-thoai-ton-tai-tren-windows-suot-28-nam-qua-c55a1512444.html',\n",
       " 'https://www.24h.com.vn/cong-nghe-thong-tin/israel-su-dung-tinh-nang-nhan-dang-khuon-mat-de-tim-kiem-nguoi-mat-tich-c55a1512304.html',\n",
       " 'https://www.24h.com.vn/cong-nghe-thong-tin/phan-mem-vneid-210-co-gi-moi-ma-nguoi-dan-nen-cap-nhat-ngay-c55a1512103.html',\n",
       " 'https://www.24h.com.vn/cong-nghe-thong-tin/apple-xac-nhan-thao-tac-vuot-de-dong-ung-dung-khien-iphone-bi-cham-va-hao-pin-c55a1512085.html',\n",
       " 'https://www.24h.com.vn/cong-nghe-thong-tin/tuyet-chieu-giup-tu-dong-bo-qua-cac-doan-quang-cao-tren-youtube-c55a1511836.html',\n",
       " 'https://www.24h.com.vn/cong-nghe-thong-tin/ios-18-co-the-mang-den-ai-giong-nhu-chatgpt-c55a1511848.html',\n",
       " 'https://www.24h.com.vn/cong-nghe-thong-tin/hon-500-trieu-nguoi-dung-winrar-can-thuc-hien-gap-dieu-nay-c55a1511627.html',\n",
       " 'https://www.24h.com.vn/cong-nghe-thong-tin/ios-171-se-chua-khac-phuc-duoc-loi-kho-chiu-nay-tren-iphone-15-c55a1511544.html',\n",
       " 'https://www.24h.com.vn/cong-nghe-thong-tin/chi-can-cap-nhat-phan-mem-dong-ho-garmin-co-ngay-tinh-nang-cuc-quan-trong-nay-c55a1511415.html',\n",
       " 'https://www.24h.com.vn/cong-nghe-thong-tin/dich-noi-dung-doan-chat-tieng-nuoc-ngoai-cuc-nhanh-tren-zalo-c55a1511288.html',\n",
       " 'https://www.24h.com.vn/cong-nghe-thong-tin/windows-11-lam-duoc-dieu-microsoft-khong-the-ngo-den-c55a1511060.html',\n",
       " 'https://www.24h.com.vn/cong-nghe-thong-tin/tinh-nang-moi-nay-se-giai-quyet-van-de-ngon-ram-tren-chrome-c55a1511252.html',\n",
       " 'https://www.24h.com.vn/cong-nghe-thong-tin/windows-10-chi-con-chua-day-2-nam-truoc-khi-bi-microsoft-bo-roi-c55a1510940.html',\n",
       " 'https://www.24h.com.vn/cong-nghe-thong-tin/tu-bo-miui-xiaomi-cong-bo-he-dieu-hanh-di-dong-moi-c55a1510951.html',\n",
       " 'https://www.24h.com.vn/cong-nghe-thong-tin/mot-trong-ba-co-quan-quyen-luc-cua-my-van-dung-windows-xp-c55a1510488.html',\n",
       " 'https://www.24h.com.vn/cong-nghe-thong-tin/microsoft-treo-tien-thuong-khung-de-tim-loi-cho-bing-ai-c55a1509962.html',\n",
       " 'https://www.24h.com.vn/cong-nghe-thong-tin/he-dieu-hanh-mios-moi-se-xuat-hien-tren-xiaomi-14-c55a1509973.html',\n",
       " 'https://www.24h.com.vn/cong-nghe-thong-tin/apple-tung-ban-ios-sua-loi-bao-mat-quan-trong-cho-nguoi-khong-dung-ios-17-c55a1509356.html',\n",
       " 'https://www.24h.com.vn/cong-nghe-thong-tin/xiaomi-cho-phep-ep-moi-ung-dung-chay-voi-tan-so-quet-man-hinh-120hz-c55a1509065.html',\n",
       " 'https://www.24h.com.vn/cong-nghe-thong-tin/intel-he-lo-thoi-diem-phat-hanh-cua-windows-12-c55a1509062.html',\n",
       " 'https://www.24h.com.vn/cong-nghe-thong-tin/cach-nhan-canh-bao-giong-set-va-lu-quet-bang-iweather-c55a1508283.html',\n",
       " 'https://www.24h.com.vn/cong-nghe-thong-tin/nguyen-nhan-mot-so-bang-lai-xe-chua-the-tich-hop-tai-khoan-vneid-c55a1508095.html',\n",
       " 'https://www.24h.com.vn/cong-nghe-thong-tin/google-dan-mat-apple-voi-loi-cam-ket-khien-ios-cung-phai-khoc-thet-c55a1507663.html',\n",
       " 'https://www.24h.com.vn/cong-nghe-thong-tin/apple-tung-ios-1703-sua-loi-nong-may-tren-iphone-15-pro-pro-max-c55a1507547.html',\n",
       " 'https://www.24h.com.vn/cong-nghe-thong-tin/android-14-da-chinh-thuc-phat-hanh-c55a1507507.html',\n",
       " 'https://www.24h.com.vn/cong-nghe-thong-tin/apple-chap-nhan-nhuong-bo-trung-quoc-trong-viec-sua-luat-app-store-c55a1507333.html',\n",
       " 'https://www.24h.com.vn/cong-nghe-thong-tin/su-co-hao-pin-tren-ios-17-sap-duoc-khac-phuc-c55a1507348.html',\n",
       " 'https://www.24h.com.vn/cong-nghe-thong-tin/ro-ri-ngay-phat-hanh-chinh-thuc-cua-android-14-c55a1507014.html',\n",
       " 'https://www.24h.com.vn/cong-nghe-thong-tin/apple-co-the-thay-google-bang-trinh-duyet-nha-trong-c55a1506674.html',\n",
       " 'https://www.24h.com.vn/cong-nghe-thong-tin/microsoft-co-the-tao-ra-bien-the-windows-12-tap-trung-vao-web-c55a1506350.html',\n",
       " 'https://www.24h.com.vn/cong-nghe-thong-tin/cach-kich-hoat-vneid-tren-may-tinh-khong-can-cai-app-tren-dien-thoai-c55a1506241.html',\n",
       " 'https://www.24h.com.vn/cong-nghe-thong-tin/chatbot-ai-bing-dang-bi-loi-dung-de-phat-tan-ma-doc-c55a1506160.html',\n",
       " 'https://www.24h.com.vn/cong-nghe-thong-tin/tinh-nang-manh-me-nay-cua-chatgpt-da-hoi-sinh-day-bat-ngo-c55a1505950.html',\n",
       " 'https://www.24h.com.vn/cong-nghe-thong-tin/lum-xum-ve-do-buc-xa-cua-iphone-12-da-duoc-apple-giai-quyet-c55a1505947.html',\n",
       " 'https://www.24h.com.vn/cong-nghe-thong-tin/nguoi-dung-can-cap-nhat-chrome-ngay-lap-tuc-de-tranh-mat-du-lieu-c55a1505769.html',\n",
       " 'https://www.24h.com.vn/cong-nghe-thong-tin/ban-cap-nhat-windows-11-cua-microsoft-co-gi-dac-biet-c55a1505639.html',\n",
       " 'https://www.24h.com.vn/cong-nghe-thong-tin/4-luu-y-de-tranh-bi-lua-tinh-khi-hen-ho-truc-tuyen-dem-trung-thu-c55a1505529.html',\n",
       " 'https://www.24h.com.vn/cong-nghe-thong-tin/ios-17-co-them-cong-cu-tim-kiem-an-moi-duoc-tiet-lo-c55a1504660.html',\n",
       " 'https://www.24h.com.vn/cong-nghe-thong-tin/xoa-ngay-3-ung-dung-nay-neu-ban-khong-muon-bi-quay-len-c55a1504493.html',\n",
       " 'https://www.24h.com.vn/cong-nghe-thong-tin/tinh-nang-dung-phim-xin-so-da-co-tren-iphone-15-pro-c55a1503203.html',\n",
       " 'https://www.24h.com.vn/cong-nghe-thong-tin/google-bi-kien-vi-chi-sai-duong-khien-xay-ra-tai-nan-nghiem-trong-c55a1504130.html',\n",
       " 'https://www.24h.com.vn/cong-nghe-thong-tin/cap-nhat-ngay-iphone-15-ngay-khi-khui-hop-de-tranh-su-co-nghiem-trong-c55a1503962.html',\n",
       " 'https://www.24h.com.vn/cong-nghe-thong-tin/chi-sau-3-ngay-phat-hanh-ios-170-apple-phai-tung-ban-va-khan-cap-c55a1503913.html',\n",
       " 'https://www.24h.com.vn/cong-nghe-thong-tin/android-14-dang-den-voi-nhung-flagship-nay-cua-xiaomi-c55a1503463.html',\n",
       " 'https://www.24h.com.vn/cong-nghe-thong-tin/ios-17-dang-tan-pha-thoi-luong-pin-tren-iphone-doi-cu-c55a1503086.html',\n",
       " 'https://www.24h.com.vn/cong-nghe-thong-tin/phan-mem-co-cua-microsoft-bat-ngo-duoc-cap-nhat-sau-38-nam-c55a1502906.html',\n",
       " 'https://www.24h.com.vn/cong-nghe-thong-tin/da-co-the-tai-ve-ios-17-de-co-nhung-trai-nghiem-thu-vi-moi-c55a1502648.html',\n",
       " 'https://www.24h.com.vn/cong-nghe-thong-tin/vi-sao-ban-nen-su-dung-facebook-lite-tren-dien-thoai-c55a1502361.html',\n",
       " 'https://www.24h.com.vn/cong-nghe-thong-tin/canh-bao-tro-lua-dao-cai-ung-dung-vneid-gia-mao-c55a1502197.html',\n",
       " 'https://www.24h.com.vn/cong-nghe-thong-tin/tinh-nang-chup-anh-man-hinh-tren-windows-11-sap-xin-so-hon-c55a1501680.html',\n",
       " 'https://www.24h.com.vn/cong-nghe-thong-tin/ung-dung-giup-giam-thiet-hai-do-chay-no-c55a1501405.html',\n",
       " 'https://www.24h.com.vn/cong-nghe-thong-tin/nguoi-dung-co-the-chi-dinh-iphone-15-duoc-sac-den-bao-nhieu-phan-tram-pin-c55a1501177.html',\n",
       " 'https://www.24h.com.vn/cong-nghe-thong-tin/iphone-va-ipad-doi-cu-can-cap-nhat-ngay-phien-ban-ios-nay-c55a1500846.html',\n",
       " 'https://www.24h.com.vn/cong-nghe-thong-tin/khi-nao-nguoi-dung-iphone-duoc-len-doi-ios-17-c55a1500956.html',\n",
       " 'https://www.24h.com.vn/cong-nghe-thong-tin/mau-dien-thoai-samsung-tam-trung-dau-tien-duoc-cap-nhat-one-ui-60-beta-c55a1500721.html',\n",
       " 'https://www.24h.com.vn/cong-nghe-thong-tin/microsoft-paint-da-co-tinh-nang-tach-nen-hinh-anh-cuc-nhanh-c55a1500005.html',\n",
       " 'https://www.24h.com.vn/cong-nghe-thong-tin/can-gap-rut-cap-nhat-len-ios-1661-vi-ly-do-nguy-hiem-nay-c55a1499796.html',\n",
       " 'https://www.24h.com.vn/cong-nghe-thong-tin/nguyen-nhan-nhieu-may-tinh-windows-11-gan-day-hay-bi-loi-man-hinh-xanh-c55a1499715.html',\n",
       " 'https://www.24h.com.vn/cong-nghe-thong-tin/loi-may-tinh-khien-hon-200-chuyen-baykhong-the-cat-canh-c55a1499555.html',\n",
       " 'https://www.24h.com.vn/cong-nghe-thong-tin/apple-dang-am-tham-dot-hang-trieu-usd-moi-ngay-cho-viec-nay-c55a1499383.html',\n",
       " 'https://www.24h.com.vn/cong-nghe-thong-tin/microsoft-khai-tu-ung-dung-ton-tai-30-nam-tren-he-dieu-hanh-windows-c55a1498472.html',\n",
       " 'https://www.24h.com.vn/cong-nghe-thong-tin/doi-thu-cua-chatgpt-trinh-lang-dat-hon-1-trieu-nguoi-dung-trong-ngay-dau-tien-c55a1498217.html',\n",
       " 'https://www.24h.com.vn/cong-nghe-thong-tin/chrome-co-tinh-nang-moi-trich-xuat-hinh-anh-cuc-nhanh-tu-video-dang-xem-c55a1497936.html',\n",
       " 'https://www.24h.com.vn/cong-nghe-thong-tin/vi-sao-smartphone-du-bao-kha-nang-cao-co-mua-nhung-khong-co-noi-mot-giot-c55a1497275.html',\n",
       " 'https://www.24h.com.vn/cong-nghe-thong-tin/nguoi-dung-windows-10-vua-nhan-duoc-them-tinh-nang-huu-ich-nay-c55a1497327.html',\n",
       " 'https://www.24h.com.vn/cong-nghe-thong-tin/hinh-anh-nhay-cam-co-the-an-than-tren-google-photos-c55a1497400.html',\n",
       " 'https://www.24h.com.vn/cong-nghe-thong-tin/google-chrome-co-them-suc-manh-ai-tu-microsoft-c55a1496884.html',\n",
       " 'https://www.24h.com.vn/cong-nghe-thong-tin/16-mau-dien-thoai-samsung-duoc-cap-nhat-one-ui-6-c55a1497086.html',\n",
       " 'https://www.24h.com.vn/cong-nghe-thong-tin/ung-dung-hen-ho-nay-vua-da-bay-5-trieu-tai-khoan-chuyen-di-lua-tinh-c55a1496939.html',\n",
       " 'https://www.24h.com.vn/cong-nghe-thong-tin/dieu-kho-chiu-nhat-tren-windows-11-da-duoc-microsoft-khac-phuc-c55a1496849.html',\n",
       " 'https://www.24h.com.vn/cong-nghe-thong-tin/firefox-da-cho-nhap-tien-ich-mo-rong-tu-chrome-c55a1496867.html',\n",
       " 'https://www.24h.com.vn/cong-nghe-thong-tin/ban-cap-nhat-windows-thang-8-gay-ra-loi-man-hinh-xanh-c55a1496525.html',\n",
       " 'https://www.24h.com.vn/cong-nghe-thong-tin/microsoft-muon-dua-ai-vao-loat-ung-dung-quen-thuoc-cua-windows-c55a1496339.html',\n",
       " 'https://www.24h.com.vn/cong-nghe-thong-tin/google-chrome-tren-ios-sap-co-tinh-nang-huu-ich-nay-cua-safari-c55a1495813.html',\n",
       " 'https://www.24h.com.vn/cong-nghe-thong-tin/ung-dung-nen-co-tren-smartphone-khi-du-lich-trong-nuoc-dip-nghi-le-2-9-c55a1495918.html',\n",
       " 'https://www.24h.com.vn/cong-nghe-thong-tin/messenger-lite-bi-xoa-khoi-google-play-c55a1496005.html',\n",
       " 'https://www.24h.com.vn/cong-nghe-thong-tin/ios-17-se-co-ban-do-khong-can-su-dung-mang-internet-c55a1495861.html',\n",
       " 'https://www.24h.com.vn/cong-nghe-thong-tin/youtube-sap-cho-tim-bai-hat-bang-cach-ngan-nga-giai-dieu-c55a1495760.html',\n",
       " 'https://www.24h.com.vn/cong-nghe-thong-tin/trinh-duyet-chrome-bi-liet-vao-danh-sach-phan-mem-doc-hai-c55a1495459.html',\n",
       " 'https://www.24h.com.vn/cong-nghe-thong-tin/ios-17-beta-ngam-xac-nhan-thay-doi-lon-nay-tren-iphone-15-c55a1495488.html',\n",
       " 'https://www.24h.com.vn/cong-nghe-thong-tin/tinh-nang-duoc-mong-doi-tu-lau-chinh-thuc-cap-ben-messenger-c55a1495436.html',\n",
       " 'https://www.24h.com.vn/cong-nghe-thong-tin/meta-ra-mat-ai-moi-co-the-dich-loi-noi-va-van-ban-gan-100-ngon-ngu-c55a1495404.html']"
      ]
     },
     "execution_count": 25,
     "metadata": {},
     "output_type": "execute_result"
    }
   ],
   "source": [
    "_24h_com_vn2['urls']['tech']['sub-category'][1]['url_list']"
   ]
  },
  {
   "cell_type": "code",
   "execution_count": 13,
   "id": "c0df475c-0c19-40c2-87c5-b8d3404e941b",
   "metadata": {},
   "outputs": [
    {
     "name": "stdout",
     "output_type": "stream",
     "text": [
      "13/09/2023\n"
     ]
    }
   ],
   "source": [
    "import re\n",
    "\n",
    "input_string = 'Thứ Tư, ngày 13/09/2023 15:05 PM (GMT+7)'\n",
    "\n",
    "# Regular expression pattern to match the time\n",
    "#pattern = r'\\d{2}/\\d{2}/\\d{4} \\d{2}:\\d{2} [AP]M \\(GMT[+-]\\d+\\)'\n",
    "pattern = r'\\d{2}/\\d{2}/\\d{4}'\n",
    "# Search for the pattern in the input string\n",
    "match = re.search(pattern, input_string)\n",
    "\n",
    "if match:\n",
    "    time_string = match.group()\n",
    "    print(time_string)\n",
    "else:\n",
    "    print(\"Time string not found\")"
   ]
  },
  {
   "cell_type": "code",
   "execution_count": 4,
   "id": "7358db30-c39f-4626-82de-5978bd0a1844",
   "metadata": {},
   "outputs": [
    {
     "data": {
      "text/plain": [
       "'15:05 PM (GMT+7)'"
      ]
     },
     "execution_count": 4,
     "metadata": {},
     "output_type": "execute_result"
    }
   ],
   "source": []
  },
  {
   "cell_type": "code",
   "execution_count": 10,
   "id": "e726cc46-7373-401e-bf21-32dfe8f4a1e7",
   "metadata": {},
   "outputs": [
    {
     "ename": "AttributeError",
     "evalue": "module 'time' has no attribute 'today'",
     "output_type": "error",
     "traceback": [
      "\u001b[1;31m---------------------------------------------------------------------------\u001b[0m",
      "\u001b[1;31mAttributeError\u001b[0m                            Traceback (most recent call last)",
      "Cell \u001b[1;32mIn[10], line 2\u001b[0m\n\u001b[0;32m      1\u001b[0m \u001b[38;5;28;01mimport\u001b[39;00m \u001b[38;5;21;01mtime\u001b[39;00m\n\u001b[1;32m----> 2\u001b[0m time\u001b[38;5;241m.\u001b[39mtoday()\n",
      "\u001b[1;31mAttributeError\u001b[0m: module 'time' has no attribute 'today'"
     ]
    }
   ],
   "source": [
    "import time\n",
    "time.today()"
   ]
  },
  {
   "cell_type": "code",
   "execution_count": null,
   "id": "1e716da6-af35-43eb-a188-50ab1c1c68e7",
   "metadata": {},
   "outputs": [],
   "source": []
  }
 ],
 "metadata": {
  "kernelspec": {
   "display_name": "Python 3 (ipykernel)",
   "language": "python",
   "name": "python3"
  },
  "language_info": {
   "codemirror_mode": {
    "name": "ipython",
    "version": 3
   },
   "file_extension": ".py",
   "mimetype": "text/x-python",
   "name": "python",
   "nbconvert_exporter": "python",
   "pygments_lexer": "ipython3",
   "version": "3.11.5"
  }
 },
 "nbformat": 4,
 "nbformat_minor": 5
}
