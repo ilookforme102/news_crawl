{
 "cells": [
  {
   "cell_type": "code",
   "execution_count": 426,
   "id": "e910fcc7-7f97-4c15-a413-35ff98a58c6d",
   "metadata": {},
   "outputs": [],
   "source": [
    "#importing library\n",
    "from bs4 import BeautifulSoup ,NavigableString, Comment\n",
    "import requests\n",
    "import time\n",
    "import re\n",
    "from datetime import datetime\n",
    "def get_content(url):\n",
    "    response = requests.get(url)\n",
    "    soup = BeautifulSoup(response.content,  'html.parser')\n",
    "    article = soup.find('article', class_ = 'cate-24h-foot-arti-deta-info')\n",
    "    #remove the last 4 element\n",
    "    article.find('p', class_ = 'tuht_all').decompose()\n",
    "    article.find('div',class_  = 'bv-lq').decompose()\n",
    "    article.find('div', id = 'zone_banner_sponser_product').decompose()\n",
    "    article.find('p', class_ = 'linkOrigin').decompose()\n",
    "    \n",
    "    tags_to_remove = article.find_all(['a', 'span'])\n",
    "    for tag in tags_to_remove:\n",
    "        # Extract the text from the tag\n",
    "        tag_text = tag.get_text()\n",
    "        # Replace the tag with its text content\n",
    "        tag.replace_with(tag_text)\n",
    "        tag.text.strip()\n",
    "    # set attribut for img\n",
    "    b = article.find_all('img')\n",
    "    for i in b:\n",
    "        if '.svg' in i['src']:\n",
    "            i.decompose()\n",
    "    for i in article.find_all('img'):\n",
    "        if 'data-original' in i.attrs.keys():\n",
    "            i['src'] = i.get('data-original')\n",
    "        #i.attrs = ['class', 'alt', 'src', 'data-original']\n",
    "        del i['onclick']\n",
    "        del i['style']\n",
    "        del i['class']\n",
    "    #remove js  and css\n",
    "    h2 = soup.find('article', class_ = 'cate-24h-foot-arti-deta-info').find('h2')\n",
    "    h2_text = '\\n'.join(line.strip() for line in h2.get_text().split('\\n') if line.strip())\n",
    "    # Update the text of the h2 tag\n",
    "    h2.string = h2_text\n",
    "    #soup2 = BeautifulSoup(\"\", 'html.parser')\n",
    "    #soup2.append(h2)\n",
    "    for script_or_style in article(['script', 'style']):\n",
    "        script_or_style.decompose()\n",
    "    for i in article.find_all(recursive = True):\n",
    "        if i.name != 'p':\n",
    "            try:\n",
    "                del i['onclick']\n",
    "                del i['id']\n",
    "                del i['class']\n",
    "                del i['style']\n",
    "            except AttributeError:\n",
    "                continue\n",
    "            except TypeError:\n",
    "                continue\n",
    "    for i in article.find_all('img'):\n",
    "        i['class'] = \"aligncenter\"\n",
    "        i['width'] = 800\n",
    "        i['height'] = 400\n",
    "    for video in article.find_all('video'):\n",
    "        video.decompose()\n",
    "    for i in article.find_all('p', class_ = 'img_chu_thich_0407'):\n",
    "            i['style'] = \"text-align: center;\"\n",
    "            del i['class']\n",
    "    for i in article.find_all('div', {'align': 'center'}):\n",
    "        i.decompose()\n",
    "    for element in article.find_all(recursive = True,string=True):\n",
    "        if isinstance(element, NavigableString) and element.strip() == '':\n",
    "            element.extract()\n",
    "    for i in article.find_all('div'):\n",
    "        if i.children == None and i.string == None:\n",
    "            i.decompose()\n",
    "    source_tag = soup.new_tag('i') \n",
    "    source_tag.string = \"Nguồn: 24h.com.vn\"  # Set the content of <i> tag\n",
    "    # Append the <i> tag as the last child of the <article> tag\n",
    "    article.append(source_tag)\n",
    "    return article\n",
    "#print(len(caption_text_list))\n",
    "\n",
    "#convert time from post to the format of output\n",
    "def convert_string(input_str):\n",
    "    # Extract the date part using regular expression\n",
    "    pattern = r'\\d{2}/\\d{2}/\\d{4}'\n",
    "    date_part = re.search(pattern, input_str).group()\n",
    "    match = re.search(pattern, input_str)\n",
    "    if match:\n",
    "        # Parse the date string into a datetime object\n",
    "        date_obj = datetime.strptime(date_part, '%d/%m/%Y')\n",
    "        formatted_date = date_obj.strftime('%Y-%m-%d')\n",
    "        return formatted_date\n",
    "    else:\n",
    "        return \"\"\n",
    "#Convert time from post to datetime format\n",
    "def convert_time_string(posted_date):\n",
    "    pattern = r'\\d{2}/\\d{2}/\\d{4}'\n",
    "    match = re.search(pattern, posted_date)\n",
    "\n",
    "    if match:\n",
    "        date_string = match.group()\n",
    "\n",
    "        # Convert to datetime object\n",
    "        datetime_obj = datetime.strptime(date_string, \"%d/%m/%Y\")\n",
    "        return datetime_obj\n",
    "    else:\n",
    "        return ''\n",
    "def get_post(url):\n",
    "    try:\n",
    "        response = requests.get(url)\n",
    "        time.sleep(3)\n",
    "        soup = BeautifulSoup(response.content, 'html5lib')\n",
    "        content = get_content(url)\n",
    "        post_time = soup.find('time').text.strip()\n",
    "        published_date = convert_string(post_time)\n",
    "        title = soup.find('h1').text.strip()\n",
    "        #h2 = soup.find('h2').text.strip()\n",
    "        #images_src = [i.attrs['src'] for i in soup.find('article', class_= 'cate-24h-foot-arti-deta-info').find_all('img')[:-1] if 'svg' not in i.attrs['src']]\n",
    "        #images_src = [img['data-original'] if 'https://image-us.24h.com.vn' not in img['src'] else img['src'] if 'svg' not in img['src'] else '' for img in soup.find('article', class_ = 'cate-24h-foot-arti-deta-info').find_all('img')[:-1]]\n",
    "        #text_list = [ child.text for child in soup.find('article', class_= 'cate-24h-foot-arti-deta-info').find_all('p')[:-3] if re.sub(r'\\n+', '', child.text) != \"\"]\n",
    "        #text_list = [h2] + text_list\n",
    "        return content,title,published_date\n",
    "    except AttributeError as e:\n",
    "        print(e)\n",
    "        content = ''\n",
    "        title = ''\n",
    "        published_date= ''\n",
    "        return content,title,published_date\n",
    "\n",
    "def filter_list(urls):\n",
    "    filtered_urls = []\n",
    "    crawl_time = datetime.fromtimestamp(time.time()-3*24*3600)\n",
    "    for i in urls:\n",
    "        response = requests.get(i)\n",
    "        soup = BeautifulSoup(response.content, 'html5lib')\n",
    "        try:\n",
    "            date_posted = soup.find('time').text.strip()\n",
    "            date_posted_norm = convert_time_string(date_posted)\n",
    "            if ( (date_posted_norm.day == crawl_time.day) and (date_posted_norm.month == crawl_time.month) and (date_posted_norm.year == crawl_time.year) ):\n",
    "                filtered_urls.append(i)\n",
    "                print(i)\n",
    "        except AttributeError as e:\n",
    "            print(e)\n",
    "            continue\n",
    "    return filtered_urls\n",
    "def get_list_url(cat_url):\n",
    "    urls = []\n",
    "    response = requests.get(cat_url)\n",
    "    time.sleep(3)\n",
    "    soup = BeautifulSoup(response.content,'html5lib')\n",
    "    news_block  = soup.find('section', id = 'tin_bai_noi_bat_khac')\n",
    "    try:\n",
    "        url_list = news_block.find_all('a')\n",
    "        print(len(url_list))\n",
    "        for url in url_list:\n",
    "            if 'https://www.24h.com.vn/' in url['href']:\n",
    "                if url['href'] not in urls:\n",
    "                    urls.append(url['href'])\n",
    "    except AttributeError as e:\n",
    "        print(e)\n",
    "    return urls\n",
    "def add_list(web_24h_com_vn):\n",
    "    for i in list(web_24h_com_vn['urls'].keys()):\n",
    "        for j in list(web_24h_com_vn['urls'][i]['sub-category'].keys()):\n",
    "            \n",
    "            urls = get_list_url(web_24h_com_vn['urls'][i]['sub-category'][j]['url'])\n",
    "            print(i,j,web_24h_com_vn['urls'][i]['sub-category'][j]['url'])\n",
    "            web_24h_com_vn['urls'][i]['sub-category'][j]['url_list'] = filter_list(urls)\n",
    "\n",
    "def add_post(web_24h_com_vn):\n",
    "    for i in list(web_24h_com_vn['urls'].keys()):\n",
    "        for j in list(web_24h_com_vn['urls'][i]['sub-category'].keys()):\n",
    "            web_24h_com_vn['urls'][i]['sub-category'][j]['content'] = {}\n",
    "            list_key = [v for v in range(0,len(web_24h_com_vn['urls'][i]['sub-category'][j]['url_list']))]\n",
    "            for u in list_key:\n",
    "                web_24h_com_vn['urls'][i]['sub-category'][j]['content'][u] = {}\n",
    "                if u != \"\":\n",
    "                    web_24h_com_vn['urls'][i]['sub-category'][j]['content'][u]['text'] ,web_24h_com_vn['urls'][i]['sub-category'][j]['content'][u]['title'],web_24h_com_vn['urls'][i]['sub-category'][j]['content'][u]['published_date'] = get_post(web_24h_com_vn['urls'][i]['sub-category'][j]['url_list'][u])\n",
    "                    print(i,j,web_24h_com_vn['urls'][i]['cate_id'],web_24h_com_vn['urls'][i]['sub-category'][j]['name'],web_24h_com_vn['urls'][i]['sub-category'][j]['name'],web_24h_com_vn['urls'][i]['sub-category'][j]['content'][u]['title'],web_24h_com_vn['urls'][i]['sub-category'][j]['url_list'][u])\n",
    "                \n",
    "\n",
    "\n",
    "def get_news():\n",
    "    web_24h_com_vn = {\n",
    "        \"home_page\":\"https://www.24h.com.vn/\",\n",
    "        \"urls\":{\n",
    "            \"youths\":\n",
    "            {\n",
    "            \"url\":\"https://www.24h.com.vn/ban-tre-cuoc-song-c64.html\",\n",
    "            \"cate_id\":60,\n",
    "             \"sub-category\":{\n",
    "                0:{\"name\":\"Chuyện công sở\",\"url\":\"https://www.24h.com.vn/chuyen-cong-so-c180.html\"},\n",
    "                1:{\"name\":\"Tình yêu - Giới Tính\",\"url\":\"https://www.24h.com.vn/tinh-yeu-gioi-tinh-c306.html\"},\n",
    "                2:{\"name\":\"Ngoại tình\",\"url\":\"https://www.24h.com.vn/ngoai-tinh-c435.html\"},\n",
    "                3:{\"name\":\"Giới trẻ\",\"url\":\"https://www.24h.com.vn/gioi-tre-c434.html\"},\n",
    "                4:{\"name\":\"Hotgirl - Hotboy\",\"url\":\"https://www.24h.com.vn/hotgirl-hot-boy-c64e3398.html\"},\n",
    "                5:{\"name\":\"Nhịp sống trẻ\",\"url\":\"https://www.24h.com.vn/nhip-song-tre-c685.html\"}\n",
    "             }\n",
    "            }\n",
    "  \n",
    "        }\n",
    "    }\n",
    "#\n",
    "    add_list(web_24h_com_vn)\n",
    "    add_post(web_24h_com_vn)\n",
    "    return web_24h_com_vn\n",
    "def send_post_to_5goals(title,content,category_id,published_date):\n",
    "    # URL of the API endpoint (this is a placeholder and needs to be replaced with the actual URL)\n",
    "    url = \"https://api2023.5goal.com/wp-json/custom/createPost\"\n",
    "    \n",
    "    # Data to be sent in the POST request\n",
    "    data = {\n",
    "        \"title\": title,\n",
    "        \"content\": content,\n",
    "        \"token\": \"draftpost\",#\"5goalvodichcmnl\",  # Replace with your actual access token\n",
    "        \"published_date\": published_date,\n",
    "        \"category_id\": category_id , # Replace with the actual category ID as required\n",
    "        \"domain\":\"24h\"\n",
    "    }\n",
    "    \n",
    "    # Sending the POST request\n",
    "    response = requests.post(url, data=data)\n",
    "    \n",
    "    # Checking the response\n",
    "    if response.status_code == 200:\n",
    "        print(\"The post was successfully created.\")\n",
    "        print(\"Response:\", response.text)  # Prints the response text from the server\n",
    "    else:\n",
    "        print(f\"Failed to create the post. Status code: {response.status_code}\")\n",
    "def main():\n",
    "    web_24h_com_vn = get_news()\n",
    "    for i in list(web_24h_com_vn['urls'].keys()):\n",
    "    #web_24h_com_vn2['url'][i]['cate_id']\n",
    "        for j in list(web_24h_com_vn['urls'][i]['sub-category']):\n",
    "            url_list =  web_24h_com_vn['urls'][i]['sub-category'][j]['url_list']\n",
    "            for t in range(0,len(url_list)):\n",
    "                text = web_24h_com_vn['urls'][i]['sub-category'][j]['content'][t]['text']\n",
    "                title = web_24h_com_vn['urls'][i]['sub-category'][j]['content'][t]['title']\n",
    "                published_date = web_24h_com_vn['urls'][i]['sub-category'][j]['content'][t]['published_date']\n",
    "                cate_id = web_24h_com_vn['urls'][i]['cate_id']\n",
    "                #send_post_to_5goals(title,text,cate_id,published_date)\n",
    "                print(i,j,titlepublished_date)\n"
   ]
  },
  {
   "cell_type": "code",
   "execution_count": 235,
   "id": "7b9e9237-3496-4bc5-af15-30d7e3ab3a33",
   "metadata": {},
   "outputs": [
    {
     "name": "stdout",
     "output_type": "stream",
     "text": [
      "26\n",
      "youths 0 https://www.24h.com.vn/chuyen-cong-so-c180.html\n",
      "'NoneType' object has no attribute 'text'\n",
      "29\n",
      "youths 1 https://www.24h.com.vn/tinh-yeu-gioi-tinh-c306.html\n",
      "'NoneType' object has no attribute 'text'\n",
      "https://www.24h.com.vn/ban-tre-cuoc-song/vo-doi-ly-hon-lien-tuc-toi-phai-lam-sao-c64a1516478.html\n",
      "https://www.24h.com.vn/ban-tre-cuoc-song/ban-trai-doi-nguoi-yeu-tra-tien-thue-nha-khi-cung-song-trong-can-ho-cua-anh-ay-luong-tang-thi-tien-thue-cung-tang-theo-c64a1523719.html\n",
      "29\n",
      "youths 2 https://www.24h.com.vn/ngoai-tinh-c435.html\n",
      "29\n",
      "youths 3 https://www.24h.com.vn/gioi-tre-c434.html\n",
      "'NoneType' object has no attribute 'text'\n",
      "'NoneType' object has no attribute 'find_all'\n",
      "youths 4 https://www.24h.com.vn/hotgirl-hot-boy-c64e3398.html\n",
      "29\n",
      "youths 5 https://www.24h.com.vn/nhip-song-tre-c685.html\n",
      "youths 1 60 Tình yêu - Giới Tính Tình yêu - Giới Tính Vợ đòi ly hôn liên tục, tôi phải làm sao? https://www.24h.com.vn/ban-tre-cuoc-song/vo-doi-ly-hon-lien-tuc-toi-phai-lam-sao-c64a1516478.html\n",
      "youths 1 60 Tình yêu - Giới Tính Tình yêu - Giới Tính Bạn trai đòi người yêu trả tiền thuê nhà khi cùng sống trong căn hộ của anh ấy, lương tăng thì tiền thuê cũng tăng theo https://www.24h.com.vn/ban-tre-cuoc-song/ban-trai-doi-nguoi-yeu-tra-tien-thue-nha-khi-cung-song-trong-can-ho-cua-anh-ay-luong-tang-thi-tien-thue-cung-tang-theo-c64a1523719.html\n"
     ]
    }
   ],
   "source": [
    "web_24h_com_vn = get_news()"
   ]
  },
  {
   "cell_type": "code",
   "execution_count": 427,
   "id": "9f659c78-f03c-4552-bf1c-b79d69a37ff0",
   "metadata": {},
   "outputs": [
    {
     "data": {
      "text/plain": [
       "<article class=\"cate-24h-foot-arti-deta-info\"><h2>Đây là lần hiếm hoi sao nam nói thẳng về scandal tai tiếng 15 năm trước.</h2><p>Trần Quán Hy từng là tài tử hàng đầu làng giải trí xứ Hương Cảng. Vào thời kỳ đỉnh cao, anh có vẻ ngoài điển trai, lãng tử cùng lối diễn xuất đa dạng, được hàng triệu cô gái ở châu Á ngưỡng mộ.</p><p>Vào năm 2008, một vụ scandal đã làm chấn động làng giải trí xứ Trung khi hàng nghìn bức ảnh ăn chơi thác loạn của Trần Quán Hy cùng nhiều cô gái nóng bỏng bị phát tán ra ngoài. Điều đáng nói là những ảnh giường chiếu này còn có sự xuất hiện của các mỹ nhân nổi tiếng của làng giải trí Hoa ngữ thời bấy giờ như: Trương Bá Chi, Chung Hân Đồng, Maggie Q, Trần Văn Viên…</p><p><div><div><div><section><div></div></section><img alt='Trần Quán Hy lần đầu nói về 1.400 ảnh nóng \"hại đời\" Trương Bá Chi, Chung Hân Đồng - 1' class=\"aligncenter\" height=\"400\" src=\"https://image-us.24h.com.vn/upload/4-2023/images/2023-11-24/96a0b513be3b435d8a0145e428be6f0a-1700806904-653-width1080height678.jpeg\" width=\"800\"/></div><div><div><div></div></div><div></div></div></div></div></p><p style=\"text-align: center;\"><em>Sự cố 1.400 bức ảnh khiến các ngôi sao Trung Quốc lao đao và bị chỉ trích.</em></p><p><em>Sohu</em> nhận định, 1.400 bức ảnh ấy không chỉ hủy hoại sự nghiệp diễn xuất của Trần Quán Hy mà còn hại đời những ngôi sao nữ. Các “ngọc nữ showbiz” mất đi danh tiếng, bị dè bỉu, gắn với cái mác “suy đồi đạo đức” cho tới tận ngày nay. Bên cạnh sự nghiệp, tổ ấm hôn nhâncủa một số diễn viên cũng bị ảnh hưởng.</p><section><div><div></div></div></section><p>Sau 15 năm từ bê bối đáng xấu hổ ấy, cuộc sống của Trần Quán Hy hiện tại đã có nhiều thay đổi. Không còn là anh chàng đào hoa, “thay người yêu như thay áo”, tài tử Trung Quốc giờ đã là một người cha, người chồng chuẩn mực.</p><p><img alt='Trần Quán Hy lần đầu nói về 1.400 ảnh nóng \"hại đời\" Trương Bá Chi, Chung Hân Đồng - 2' class=\"aligncenter\" data-original=\"https://image-us.24h.com.vn/upload/4-2023/images/2023-11-24/en1122lys7-1700807087-555-widthheight.webp\" height=\"400\" src=\"https://image-us.24h.com.vn/upload/4-2023/images/2023-11-24/en1122lys7-1700807087-555-widthheight.webp\" width=\"800\"/></p><p style=\"text-align: center;\"><i>Trần Quán Hy tại sự kiện mới đây.</i></p><p>Mới đây, tham dự một sự kiện ra mắt cửa hàng ở Đài Loan (Trung Quốc), nam diễn viên hiếm hoi nhắc tới scandal ngày ấy. Diễn viên <em>Vô gian đạo</em> kể, sự nghiệp anh xuống dốc vì tai tiếng lộ 1.400 ảnh nóng. Giai đoạn đó, ai cũng nói anh “không thể ngóc đầu lên nổi”, “rơi vào bước đường cùng”.</p><p>“<em>Có thể vào năm 2008, nhiều người nghĩ rằng sự nghiệp của tôi đã kết thúc, nhưng không. Sau khi sự việc xảy ra, tôi đã không sa ngã, không phó mặc sự đời và cũng không lạc lối. Tôi chỉ tin vào bản thân mình và thực sự làm việc chăm chỉ mỗi ngày</em>”. Trần Quán Hy cho hay, thời điểm đó không thể đóng phim, ca hát, anh chuyển hướng sang kinh doanh cửa hàng thời trang nhằm tìm lối đi cho mình.</p><p>Tài tử 8X cũng gửi lời cảm ơn người hâm mộ đã luôn đồng hành và ủng hộ anh trong nhiều năm qua.</p><p><img alt='Trần Quán Hy lần đầu nói về 1.400 ảnh nóng \"hại đời\" Trương Bá Chi, Chung Hân Đồng - 3' class=\"aligncenter\" data-original=\"https://image-us.24h.com.vn/upload/4-2023/images/2023-11-24/en1122lys8-1700807109-672-widthheight.webp\" height=\"400\" src=\"https://image-us.24h.com.vn/upload/4-2023/images/2023-11-24/en1122lys8-1700807109-672-widthheight.webp\" width=\"800\"/></p><p style=\"text-align: center;\"><em>Trần Quán Hy có con gái 6 tuổi với người mẫu Tần Thư Bồi.</em></p><p>Hiện tại, Trần Quán Hy vừa kinh doanh vừa dành thời gian chăm sóc con cái. Diễn viên nhấn mạnh, lấy vợ sinh con là quyết định đúng đắn nhất cuộc đời của anh. Anh bày tỏ: “<em>Công việc chính của tôi bây giờ là làm bố. Tôi có thể đồng hành cùng con mỗi ngày. Tôi cảm thấy rất may mắn</em>”.</p><p>Trong suốt cuộc phỏng vấn kéo dài 15 phút, Trần Quán Hy đều cười tươi và ôm con gái Alaia không rời. Có thể thấy, nam diễn viên đã hoàn toàn gạt bỏ những điều không hay ho trong quá khứ để tận hưởng niềm hạnh phúc mà gia đình mang lại.</p><p>Sao nam từng trở lại đóng phim với một vai khách mời trong <em>Người yêu địa ngục</em>, nhưng sau đó hầu hết các cảnh quay của anh đều bị xóa bỏ, chỉ giữ lại 1 phân cảnh. Những năm qua, anh cũng tham gia các cuộc tuyển chọn diễn viên của một số dự án Hollywood nhưng không thành công. Tuy nhiên Trần Quán Hy khẳng định niềm đam mê điện ảnh trong anh vẫn luôn cháy bỏng, vì vậy anh sẽ tiếp tục tìm kiếm cơ hội.</p><i>Nguồn: 24h.com.vn</i></article>"
      ]
     },
     "execution_count": 427,
     "metadata": {},
     "output_type": "execute_result"
    }
   ],
   "source": [
    "get_content('https://www.24h.com.vn/doi-song-showbiz/tran-quan-hy-lan-dau-noi-ve-1400-anh-nong-hai-doi-truong-ba-chi-chung-han-dong-c729a1521545.html')"
   ]
  },
  {
   "cell_type": "code",
   "execution_count": 215,
   "id": "107739d6-f289-4e47-872d-3283ec6a5355",
   "metadata": {},
   "outputs": [
    {
     "ename": "KeyboardInterrupt",
     "evalue": "",
     "output_type": "error",
     "traceback": [
      "\u001b[1;31m---------------------------------------------------------------------------\u001b[0m",
      "\u001b[1;31mKeyboardInterrupt\u001b[0m                         Traceback (most recent call last)",
      "Cell \u001b[1;32mIn[215], line 1\u001b[0m\n\u001b[1;32m----> 1\u001b[0m main()\n",
      "Cell \u001b[1;32mIn[212], line 280\u001b[0m, in \u001b[0;36mmain\u001b[1;34m()\u001b[0m\n\u001b[0;32m    279\u001b[0m \u001b[38;5;28;01mdef\u001b[39;00m \u001b[38;5;21mmain\u001b[39m():\n\u001b[1;32m--> 280\u001b[0m     web_24h_com_vn \u001b[38;5;241m=\u001b[39m get_news()\n\u001b[0;32m    281\u001b[0m     \u001b[38;5;28;01mfor\u001b[39;00m i \u001b[38;5;129;01min\u001b[39;00m \u001b[38;5;28mlist\u001b[39m(web_24h_com_vn[\u001b[38;5;124m'\u001b[39m\u001b[38;5;124murls\u001b[39m\u001b[38;5;124m'\u001b[39m]\u001b[38;5;241m.\u001b[39mkeys()):\n\u001b[0;32m    282\u001b[0m     \u001b[38;5;66;03m#web_24h_com_vn2['url'][i]['cate_id']\u001b[39;00m\n\u001b[0;32m    283\u001b[0m         \u001b[38;5;28;01mfor\u001b[39;00m j \u001b[38;5;129;01min\u001b[39;00m \u001b[38;5;28mlist\u001b[39m(web_24h_com_vn[\u001b[38;5;124m'\u001b[39m\u001b[38;5;124murls\u001b[39m\u001b[38;5;124m'\u001b[39m][i][\u001b[38;5;124m'\u001b[39m\u001b[38;5;124msub-category\u001b[39m\u001b[38;5;124m'\u001b[39m]):\n",
      "Cell \u001b[1;32mIn[212], line 253\u001b[0m, in \u001b[0;36mget_news\u001b[1;34m()\u001b[0m\n\u001b[0;32m    186\u001b[0m     web_24h_com_vn \u001b[38;5;241m=\u001b[39m {\n\u001b[0;32m    187\u001b[0m         \u001b[38;5;124m\"\u001b[39m\u001b[38;5;124mhome_page\u001b[39m\u001b[38;5;124m\"\u001b[39m:\u001b[38;5;124m\"\u001b[39m\u001b[38;5;124mhttps://www.24h.com.vn/\u001b[39m\u001b[38;5;124m\"\u001b[39m,\n\u001b[0;32m    188\u001b[0m         \u001b[38;5;124m\"\u001b[39m\u001b[38;5;124murls\u001b[39m\u001b[38;5;124m\"\u001b[39m:{\n\u001b[1;32m   (...)\u001b[0m\n\u001b[0;32m    250\u001b[0m         }\n\u001b[0;32m    251\u001b[0m     }\n\u001b[0;32m    252\u001b[0m \u001b[38;5;66;03m#\u001b[39;00m\n\u001b[1;32m--> 253\u001b[0m     add_list(web_24h_com_vn)\n\u001b[0;32m    254\u001b[0m     add_post(web_24h_com_vn)\n\u001b[0;32m    255\u001b[0m     \u001b[38;5;28;01mreturn\u001b[39;00m web_24h_com_vn\n",
      "Cell \u001b[1;32mIn[212], line 164\u001b[0m, in \u001b[0;36madd_list\u001b[1;34m(web_24h_com_vn)\u001b[0m\n\u001b[0;32m    161\u001b[0m \u001b[38;5;28;01mfor\u001b[39;00m i \u001b[38;5;129;01min\u001b[39;00m \u001b[38;5;28mlist\u001b[39m(web_24h_com_vn[\u001b[38;5;124m'\u001b[39m\u001b[38;5;124murls\u001b[39m\u001b[38;5;124m'\u001b[39m]\u001b[38;5;241m.\u001b[39mkeys()):\n\u001b[0;32m    162\u001b[0m     \u001b[38;5;28;01mfor\u001b[39;00m j \u001b[38;5;129;01min\u001b[39;00m \u001b[38;5;28mlist\u001b[39m(web_24h_com_vn[\u001b[38;5;124m'\u001b[39m\u001b[38;5;124murls\u001b[39m\u001b[38;5;124m'\u001b[39m][i][\u001b[38;5;124m'\u001b[39m\u001b[38;5;124msub-category\u001b[39m\u001b[38;5;124m'\u001b[39m]\u001b[38;5;241m.\u001b[39mkeys()):\n\u001b[1;32m--> 164\u001b[0m         urls \u001b[38;5;241m=\u001b[39m get_list_url(web_24h_com_vn[\u001b[38;5;124m'\u001b[39m\u001b[38;5;124murls\u001b[39m\u001b[38;5;124m'\u001b[39m][i][\u001b[38;5;124m'\u001b[39m\u001b[38;5;124msub-category\u001b[39m\u001b[38;5;124m'\u001b[39m][j][\u001b[38;5;124m'\u001b[39m\u001b[38;5;124murl\u001b[39m\u001b[38;5;124m'\u001b[39m])\n\u001b[0;32m    165\u001b[0m         \u001b[38;5;28mprint\u001b[39m(i,j,web_24h_com_vn[\u001b[38;5;124m'\u001b[39m\u001b[38;5;124murls\u001b[39m\u001b[38;5;124m'\u001b[39m][i][\u001b[38;5;124m'\u001b[39m\u001b[38;5;124msub-category\u001b[39m\u001b[38;5;124m'\u001b[39m][j][\u001b[38;5;124m'\u001b[39m\u001b[38;5;124murl\u001b[39m\u001b[38;5;124m'\u001b[39m])\n\u001b[0;32m    166\u001b[0m         web_24h_com_vn[\u001b[38;5;124m'\u001b[39m\u001b[38;5;124murls\u001b[39m\u001b[38;5;124m'\u001b[39m][i][\u001b[38;5;124m'\u001b[39m\u001b[38;5;124msub-category\u001b[39m\u001b[38;5;124m'\u001b[39m][j][\u001b[38;5;124m'\u001b[39m\u001b[38;5;124murl_list\u001b[39m\u001b[38;5;124m'\u001b[39m] \u001b[38;5;241m=\u001b[39m filter_list(urls)\n",
      "Cell \u001b[1;32mIn[212], line 147\u001b[0m, in \u001b[0;36mget_list_url\u001b[1;34m(cat_url)\u001b[0m\n\u001b[0;32m    145\u001b[0m urls \u001b[38;5;241m=\u001b[39m []\n\u001b[0;32m    146\u001b[0m response \u001b[38;5;241m=\u001b[39m requests\u001b[38;5;241m.\u001b[39mget(cat_url)\n\u001b[1;32m--> 147\u001b[0m time\u001b[38;5;241m.\u001b[39msleep(\u001b[38;5;241m3\u001b[39m)\n\u001b[0;32m    148\u001b[0m soup \u001b[38;5;241m=\u001b[39m BeautifulSoup(response\u001b[38;5;241m.\u001b[39mcontent,\u001b[38;5;124m'\u001b[39m\u001b[38;5;124mhtml5lib\u001b[39m\u001b[38;5;124m'\u001b[39m)\n\u001b[0;32m    149\u001b[0m news_block  \u001b[38;5;241m=\u001b[39m soup\u001b[38;5;241m.\u001b[39mfind(\u001b[38;5;124m'\u001b[39m\u001b[38;5;124msection\u001b[39m\u001b[38;5;124m'\u001b[39m, \u001b[38;5;28mid\u001b[39m \u001b[38;5;241m=\u001b[39m \u001b[38;5;124m'\u001b[39m\u001b[38;5;124mtin_bai_noi_bat_khac\u001b[39m\u001b[38;5;124m'\u001b[39m)\n",
      "\u001b[1;31mKeyboardInterrupt\u001b[0m: "
     ]
    }
   ],
   "source": [
    "main()"
   ]
  },
  {
   "cell_type": "code",
   "execution_count": 214,
   "id": "04218d8d-e11d-4c21-88d0-baed8e244823",
   "metadata": {},
   "outputs": [
    {
     "data": {
      "text/plain": [
       "['cate-24h-foot-arti-deta-info']"
      ]
     },
     "execution_count": 214,
     "metadata": {},
     "output_type": "execute_result"
    }
   ],
   "source": [
    "article['class']"
   ]
  },
  {
   "cell_type": "code",
   "execution_count": 136,
   "id": "89d6ae65-5a47-4899-a67e-c47c511ee2fb",
   "metadata": {},
   "outputs": [
    {
     "name": "stdout",
     "output_type": "stream",
     "text": [
      "Cô dâu Thanh Hóa đeo chi chít vàng trong ngày cưới\n",
      "Cô dâu gây chú ý bởi nhan sắc xinh đẹp\n",
      "Cặp đôi có 5 năm bên nhau trước khi về chung một nhà\n",
      "Cặp đôi từng trải qua biến cố lớn trong hôn nhân\n",
      "\n",
      "Vợ chồng Quỳnh Như đã \"gương vỡ lại lành\"\n",
      "\n",
      "\n",
      "Cô dâu Thanh Hóa ngày càng xinh đẹp.\n"
     ]
    }
   ],
   "source": [
    "for i in caption_text_list:\n",
    "    print(i)"
   ]
  },
  {
   "cell_type": "code",
   "execution_count": 139,
   "id": "afb7b18a-fc25-48a0-a044-2e74e3a72c27",
   "metadata": {},
   "outputs": [
    {
     "name": "stdout",
     "output_type": "stream",
     "text": [
      "[caption id=\"\" align=\"aligncenter\" width=\"800\"]Cô dâu Thanh Hóa đeo chi chít vàng trong ngày cưới[/caption]\n",
      "[caption id=\"\" align=\"aligncenter\" width=\"800\"]Cô dâu gây chú ý bởi nhan sắc xinh đẹp[/caption]\n",
      "[caption id=\"\" align=\"aligncenter\" width=\"800\"]Cặp đôi có 5 năm bên nhau trước khi về chung một nhà[/caption]\n",
      "[caption id=\"\" align=\"aligncenter\" width=\"800\"]Cặp đôi từng trải qua biến cố lớn trong hôn nhân[/caption]\n",
      "[caption id=\"\" align=\"aligncenter\" width=\"800\"][/caption]\n",
      "[caption id=\"\" align=\"aligncenter\" width=\"800\"]Vợ chồng Quỳnh Như đã \"gương vỡ lại lành\"[/caption]\n",
      "[caption id=\"\" align=\"aligncenter\" width=\"800\"][/caption]\n"
     ]
    }
   ],
   "source": [
    "\n"
   ]
  },
  {
   "cell_type": "code",
   "execution_count": 355,
   "id": "7ca297db-2bb2-4870-a326-ee18eee7d851",
   "metadata": {},
   "outputs": [],
   "source": [
    "response = requests.get('https://www.24h.com.vn/ban-tre-cuoc-song/cuoc-song-it-ai-biet-cua-co-be-xinh-dep-tung-khien-ca-the-gioi-kinh-ngac-vi-qua-thong-minh-c64a1524455.html')\n",
    "soup = BeautifulSoup(response.content,  'html.parser')\n",
    "#remove the last 4 element\n",
    "article = soup.find('article', class_ = 'cate-24h-foot-arti-deta-info')\n",
    "for script_or_style in article(['script', 'style']):\n",
    "    script_or_style.decompose()"
   ]
  },
  {
   "cell_type": "code",
   "execution_count": 408,
   "id": "805a3b4b-007a-4e75-b38c-3dd22fd21e3b",
   "metadata": {},
   "outputs": [],
   "source": [
    "caps = []\n",
    "for i in article.find_all('img')[0:1]:\n",
    "    test = i.parent\n",
    "    next_sibling_of_parent = test.find_next_sibling('p', class_ = 'img_chu_thich_0407' )\n",
    "    # Optionally, skip non-tag elements such as NavigableString (like whitespace):\n",
    "    while next_sibling_of_parent and isinstance(next_sibling_of_parent, str):\n",
    "        next_sibling_of_parent = next_sibling_of_parent.find_next_sibling()\n",
    "        caps.append(next_sibling_of_parent)\n",
    "    "
   ]
  },
  {
   "cell_type": "code",
   "execution_count": 409,
   "id": "cde4c8be-076c-49df-8c71-260d604c6adb",
   "metadata": {},
   "outputs": [],
   "source": [
    "article.find_all('img')[0].parent.next_sibling.next_sibling.next_sibling"
   ]
  },
  {
   "cell_type": "code",
   "execution_count": 410,
   "id": "26ea67c4-e287-4361-979c-fa5394ac182d",
   "metadata": {},
   "outputs": [
    {
     "data": {
      "text/plain": [
       "[]"
      ]
     },
     "execution_count": 410,
     "metadata": {},
     "output_type": "execute_result"
    }
   ],
   "source": [
    "caps"
   ]
  },
  {
   "cell_type": "code",
   "execution_count": 368,
   "id": "c41f503b-bffb-4302-9642-0ae5632cc88c",
   "metadata": {},
   "outputs": [
    {
     "name": "stdout",
     "output_type": "stream",
     "text": [
      "\n",
      "\n",
      "\n",
      "\n"
     ]
    }
   ],
   "source": [
    "for i in article.find_all('p', class_='img_chu_thich_0407'):\n",
    "    print(i.previous_sibling)"
   ]
  },
  {
   "cell_type": "code",
   "execution_count": 369,
   "id": "d53c5fe7-3f5a-462d-a4e1-366cb3d5d40c",
   "metadata": {},
   "outputs": [
    {
     "data": {
      "text/plain": [
       "<article class=\"cate-24h-foot-arti-deta-info\">\n",
       "<h2 class=\"cate-24h-foot-arti-deta-sum ctTp tuht_show\" id=\"article_sapo\">\n",
       "<strong>\n",
       "                    Thoạt nhìn, Isla có vẻ giống một đứa trẻ 2 tuổi, nhưng cô bé thông minh nhất thế giới này có thể làm được những điều mà không ai tưởng tượng nổi.                </strong>\n",
       "</h2>\n",
       " <p>Một cô bé sống ở Mỹ trở thành thành viên nhỏ nhất người Mỹ gia nhập hội Mensa High IQ – một tổ chức dành cho những người thông minh nhất thế giới khi mới 2 tuổi thu hút sự chú ý của nhiều người.</p>\n",
       "<p>Cô bé \"thông minh nhất thế giới\" có tên là Isla McNabb. Cha mẹ của cô bé là Amanda và Jason McNabb. Cha mẹ cho biết cô bé rất thông minh và dấu hiệu ngày càng rõ ràng khi cô bắt đầu học. Mới 1 tuổi, Isla đã bắt đầu học màu sắc, số và bảng chữ cái.</p>\n",
       "<p>Jason McNabb, cha của Isla cho biết: \"Khi được 18 tháng, cô bé đã tự học bảng chữ cái và bắt đầu biết đọc khi mới 2 tuổi\".</p>\n",
       "<p align=\"center\"><div id=\"container-24h-banner-in-image\" style=\"text-align: center;width: 100%;clear: both;position: relative;\">\n",
       "<div style=\"position:relative;max-width: 740px;margin: 0 auto\">\n",
       "<img alt=\"Cuộc sống ít ai biết của cô bé xinh đẹp, từng khiến cả thế giới kinh ngạc vì quá thông minh - 1\" class=\"news-image\" onclick=\"show_slide_image_news(0)\" src=\"https://image-us.24h.com.vn/upload/4-2023/images/2023-12-05//1701757221-cuoc-song-hien-tai-cua-co-be-thong-minh-nhat-the-gioi-ai-cung-tram-tro-width900height672.jpg\" width=\"740\"/>\n",
       "<div id=\"24h-banner-in-image\" style=\"left: 50%;transform: translateX(-50%);position: absolute;display: block;height: 90px;color: white;bottom: 0px\">\n",
       "<div class=\"txtCent\" id=\"ixhFnVosny_139_15s\">\n",
       "<div class=\"text_adver_right\" onclick=\"in_image_close();\"></div>\n",
       "\n",
       "</div>\n",
       "<div id=\"24h-banner-in-image-close\" style=\"top:2px;right: 0px;position: absolute;display: none;overflow: hidden;width: 22px;height: 22px;color: #ccc;font-size: large;\">\n",
       "<img class=\"img_tin_lien_quan_trong_bai\" id=\"in-image-close\" onclick=\"in_image_close();\" src=\"https://image-us.24h.com.vn/upload/24h_banner_image_library/in-image-close.svg\" style=\"cursor: pointer;\" width=\"20px\"/>\n",
       "</div>\n",
       "</div>\n",
       "</div>\n",
       "\n",
       "</div></p>\n",
       "<p class=\"img_chu_thich_0407\"> Cô bé Isla McNabb lúc 2 tuổi, gia nhập hội những người thông minh nhất thế giới.</p>\n",
       "<p>Sau đó, cô bé nhận được một chiếc máy tính bảng từ bố mẹ mình, họ bắt đầu dạy Isla cách phát âm các chữ cái.</p>\n",
       "<p>Bố mẹ Isla nhận thấy con gái mình không gặp bất cứ khó khăn nào khi đọc một từ, điều đó khiến 2 vợ chồng rất sốc. Vốn từ vựng của cô bé tăng rất nhanh, không lâu sau đã có thể đọc trôi chảy.</p><section id=\"ixhFnVosny_159_15s_container\"><div class=\"txtCent bnInreadNews\" id=\"ixhFnVosny_159_15s\"><div id=\"ixhFnVosny_159_15stxtBnrHor\"><span></span></div></div></section>\n",
       "<p>Cô bé 2 tuổi khiến cả thế giới phải kinh ngạc với tài năng của mình.</p>\n",
       "<p>Cô bé đã cho thấy mình có trí thông minh vượt trội và xuất sắc trở thành thành viên trẻ nhất từ trước đến nay của cộng đồng những người có chỉ số IQ cao nhất thế giới.</p>\n",
       "<p>Mensa International là một tổ chức phi lợi nhuận dành cho những người có điểm số IQ cao hơn 98% nhân loại. Hiện, có khoảng 140.000 thành viên từ khắp nơi trên thế giới.</p>\n",
       "<p>Nhìn thoáng qua có thể thấy, Isla có vẻ giống một đứa trẻ 2 tuổi điển hình, nhưng cô bé có thể làm được những điều mà không ai tưởng tượng nổi. Cụ thể, vào sinh nhật lần thứ 2 của Isla, người dì thân thiết đã tặng cô chiếc máy tính bảng có thể viết và xóa được. Gia đình rất ngạc nhiên khi thấy Isla viết từ \"đỏ\" trên máy tính bảng. Sau đó, cô bé đọc và tiếp tục viết tiếp các chữ \"xanh, vàng, mèo, chó\".</p>\n",
       "<p>Một nhà tâm lý học đã nhận lời kiểm tra cho Isla và phát hiện cô bé có năng khiếu đặc biệt. \"Anh ấy nói mình thường không kiểm tra cho em bé 2 tuổi nhưng đã đưa ra quyết định ngoại lệ sau khi nghe về tài năng của cô bé\", cha của Isla cho biết.</p>\n",
       "<p>Khi bé được 2,5 tuổi, gia đình đưa đi kiểm tra IQ. Kết quả nhận được cho thấy Isla đã lọt vào top 1% dân số toàn cầu.</p>\n",
       "<p align=\"center\"><img alt=\"Cuộc sống ít ai biết của cô bé xinh đẹp, từng khiến cả thế giới kinh ngạc vì quá thông minh - 2\" class=\"news-image\" data-original=\"https://image-us.24h.com.vn/upload/4-2023/images/2023-12-05//1701757223-cuoc-song-hien-tai-cua-co-be-thong-minh-nhat-the-gioi-ai-cung-tram-tro-03-width900height1204.jpg\" onclick=\"show_slide_image_news(1)\" src=\"data:image/png;base64,iVBORw0KGgoAAAANSUhEUgAAAAEAAAABAQMAAAAl21bKAAAAA1BMVEX6+vqsEtnpAAAACklEQVQI12NgAAAAAgAB4iG8MwAAAABJRU5ErkJggg==\" width=\"740\"/></p>\n",
       "<p class=\"img_chu_thich_0407\">Cô bé thông minh \"bậc nhất\" Isla McNabb nhận Kỷ lục Guinness thế giới.</p>\n",
       "<p>Isla hiện 3 tuổi và đang theo học trường mầm non. Cô bé thích vẽ, đọc sách, đi học và chơi với con mèo cưng của gia đình. Cô thích bộ phim hoạt hình mang tên Bluey và một chương trình dành cho trẻ em có tên Blippi trên YouTube.</p>\n",
       "<p>Cha mẹ cô bé cho biết có một số khó khăn khi nuôi dạy một đứa trẻ thông minh như vậy.</p>\n",
       "<p>Một số khía cạnh trong tính cách của Isla là đặc trưng ở độ tuổi của cô bé. Nhưng cô bé có một số khía cạnh tiến bộ quá nhanh, vượt trội so với độ tuổi khiến bé gặp khó khăn khi phải dung hòa 2 điều đó.</p>\n",
       "<p>\"Isla nghĩ rằng cô ấy ngang hàng với người lớn và điều đó có thể là một thử thách\", cha cô bé nói.</p>\n",
       "<p>Isla còn nhỏ nhưng thuộc top những người thông minh nhất thế giới cũng khiến cha mẹ cô bé cũng lo lắng vì Isla ngủ không đủ giấc.</p>\n",
       "<p>Nhà tâm lý học đã kiểm tra cô bé và nói rằng trẻ rất thông minh ngủ ít hơn là điều bình thường. Thấy con gái vẫn khỏe mạnh nên cha mẹ cảm thấy nhẹ nhõm hơn chút, nhưng không hào hứng với viễn cảnh cô bé tiếp tục đánh thức họ lúc 4h sáng.</p>\n",
       "<p>Gia đình bé hy vọng sớm có được một kế hoạch giáo dục cá nhân phù hợp với Isla. Trong tương lai, gia đình mong muốn cô bé sẽ có được học bổng vào học tại trường đại học danh tiếng như Harvard hoặc MIT.</p>\n",
       "<p>Nhận thấy con bé thông minh khác thường, gia đình Jason quyết định cho Isla tham gia làm kiểm tra IQ. Kết quả, cô bé đạt 99/100 điểm bài kiểm tra IQ theo độ tuổi (thang đo Stanford-Binet). Khi đó cô bé được 2 tuổi rưỡi.</p>\n",
       "<p>Sau khi có kết quả vào ngày 2/6/2022, tổ chức Guinness công nhận bé là nữ thành viên Mensa trẻ nhất thế giới. Thành tích này khiến các phương tiện truyền thông đưa tin về bé rất nhiều.</p>\n",
       "<p>\"Isla tỏ ra vô cùng thích thú khi nhìn thấy bản thân trên truyền hình và đôi khi yêu cầu bố mẹ đưa video về mình lên YouTube\", ông bố chia sẻ.</p>\n",
       "<p>Gia đình McNabb cho biết, họ tìm thấy ít các kênh hỗ trợ trẻ em có năng khiếu trí tuệ, so với những trẻ em khác.</p>\n",
       "<p>Cha mẹ luôn muốn điều tốt đẹp nhất đến với Isla nên đã đăng ký cho bé vào Mensa với hy vọng kết nối với các gia đình khác có hoàn cảnh tương tự khác. Tổ chức dành cho những người đạt điểm 98/100 trở lên trên thang đo Stanford-Binet hoặc các bài kiểm tra IQ tiêu chuẩn hóa khác. “Lợi ích lớn nhất ở Mensa là cộng đồng”, anh Jason McNabb nói với Guinness.</p>\n",
       "<p class=\"linkOrigin\"><span class=\"dots\" data-src=\"aHR0cHM6Ly93d3cubmd1b2lkdWF0aW4udm4vY3VvYy1zb25nLWl0LWFpLWJpZXQtY3VhLWNvLWJlLTMtdHVvaS10aG9uZy1taW5oLW5oYXQtdGhlLWdpb2ktYTYzOTE4Li4u\" id=\"url_origin_cut\">Nguồn: [Link nguồn]</span><span class=\"txtFull\" data-src=\"aHR0cHM6Ly93d3cubmd1b2lkdWF0aW4udm4vY3VvYy1zb25nLWl0LWFpLWJpZXQtY3VhLWNvLWJlLTMtdHVvaS10aG9uZy1taW5oLW5oYXQtdGhlLWdpb2ktYTYzOTE4Ny5odG1s\" id=\"url_origin_full\" style=\"display: none;\">Nguồn: [Link nguồn]</span><span class=\"icoDrop\" id=\"icoDrop\" onclick=\"show_hide_url_origin();\"></span></p><div id=\"zone_banner_sponser_product\">\n",
       "<div class=\"txtCent banner_201\" id=\"ixhFnVosny_201_15s\">\n",
       "\n",
       "</div>\n",
       "</div><div class=\"bv-lq\"><!--begin_tlq_nd-->\n",
       "<div class=\"bv-lq-inner\">\n",
       "<!--begin_img_tlq_nd--><div class=\"img-bv-lq imgFloat\"><a href=\"https://www.24h.com.vn/ban-tre-cuoc-song/co-be-tung-bi-cam-phau-thuat-tham-my-vi-qua-de-thuong-bay-gio-ra-sao-c64a1500021.html\" onclick=\"return send_ga_gtag('box_tin_lien_quan_trong_noi_dung', '','eyJjYXRlZ29yeUlkXzI0aCI6IjY0IiwicGFnZUNhdGVnb3J5XzI0aCI6InlvdW5nX2xpZmUiLCJhcnRpY2xlSWRfMjRoIjoiMTUyNDQ1NSIsInR5cGVfMjRoIjoiMSIsImRldmljZV8yNGgiOiJwYyIsImFjdGlvbl8yNGgiOiJjbGljayJ9', this,'','')\" title=\"Cô bé từng bị cấm phẫu thuật thẩm mỹ vì quá dễ thương bây giờ ra sao?\"><img alt=\"Cô bé từng bị cấm phẫu thuật thẩm mỹ vì quá dễ thương bây giờ ra sao?\" class=\"img_tin_lien_quan_trong_bai\" src=\"https://image-us.24h.com.vn/upload/4-2023/images/2023-12-05/1701759770-34-xunh-dep-1694481650-535-width740height555-1701759770-width255height170.jpg\"/></a></div><!--end_img_tlq_nd-->\n",
       "<div class=\"content-bv-lq\">\n",
       "<!--begin_title_tlq_nd--><div class=\"title-bv\"><a class=\"url_tin_lien_quan_trong_bai\" href=\"https://www.24h.com.vn/ban-tre-cuoc-song/co-be-tung-bi-cam-phau-thuat-tham-my-vi-qua-de-thuong-bay-gio-ra-sao-c64a1500021.html\" onclick=\"return send_ga_gtag('box_tin_lien_quan_trong_noi_dung', '','eyJjYXRlZ29yeUlkXzI0aCI6IjY0IiwicGFnZUNhdGVnb3J5XzI0aCI6InlvdW5nX2xpZmUiLCJhcnRpY2xlSWRfMjRoIjoiMTUyNDQ1NSIsInR5cGVfMjRoIjoiMSIsImRldmljZV8yNGgiOiJwYyIsImFjdGlvbl8yNGgiOiJjbGljayJ9', this,'','')\">Cô bé từng bị cấm phẫu thuật thẩm mỹ vì quá dễ thương bây giờ ra sao?</a></div><!--end_title_tlq_nd-->\n",
       "<div class=\"ct-bv\">\n",
       "<p>Hiện tại cô bé tập trung phần lớn thời gian cho việc học, ít tham gia diễn xuất nên rất nhiều người tò mò về cuộc sống của \"tiểu Mị Nguyệt\" bây giờ ra sao.</p>\n",
       "</div>\n",
       "<div class=\"see-now\"><a href=\"https://www.24h.com.vn/ban-tre-cuoc-song/co-be-tung-bi-cam-phau-thuat-tham-my-vi-qua-de-thuong-bay-gio-ra-sao-c64a1500021.html\" onclick=\"return send_ga_gtag('box_tin_lien_quan_trong_noi_dung', '','eyJjYXRlZ29yeUlkXzI0aCI6IjY0IiwicGFnZUNhdGVnb3J5XzI0aCI6InlvdW5nX2xpZmUiLCJhcnRpY2xlSWRfMjRoIjoiMTUyNDQ1NSIsInR5cGVfMjRoIjoiMSIsImRldmljZV8yNGgiOiJwYyIsImFjdGlvbl8yNGgiOiJjbGljayJ9', this,'','')\" title=\"\">Bấm xem &gt;&gt;</a></div>\n",
       "</div>\n",
       "</div>\n",
       "<p><!--end_tlq_nd--></p></div><p class=\"tuht_all\"></p> </article>"
      ]
     },
     "execution_count": 369,
     "metadata": {},
     "output_type": "execute_result"
    }
   ],
   "source": [
    "article"
   ]
  },
  {
   "cell_type": "code",
   "execution_count": 387,
   "id": "b488bdf5-ebe4-4617-8366-2df25da8c9d7",
   "metadata": {},
   "outputs": [
    {
     "name": "stdout",
     "output_type": "stream",
     "text": [
      "<div style=\"position:relative;max-width: 740px;margin: 0 auto\">\n",
      "<img alt=\"Cuộc sống ít ai biết của cô bé xinh đẹp, từng khiến cả thế giới kinh ngạc vì quá thông minh - 1\" class=\"news-image\" onclick=\"show_slide_image_news(0)\" src=\"https://image-us.24h.com.vn/upload/4-2023/images/2023-12-05//1701757221-cuoc-song-hien-tai-cua-co-be-thong-minh-nhat-the-gioi-ai-cung-tram-tro-width900height672.jpg\" width=\"740\"/>\n",
      "<div id=\"24h-banner-in-image\" style=\"left: 50%;transform: translateX(-50%);position: absolute;display: block;height: 90px;color: white;bottom: 0px\">\n",
      "<div class=\"txtCent\" id=\"ixhFnVosny_139_15s\">\n",
      "<div class=\"text_adver_right\" onclick=\"in_image_close();\"></div>\n",
      "\n",
      "</div>\n",
      "<div id=\"24h-banner-in-image-close\" style=\"top:2px;right: 0px;position: absolute;display: none;overflow: hidden;width: 22px;height: 22px;color: #ccc;font-size: large;\">\n",
      "<img class=\"img_tin_lien_quan_trong_bai\" id=\"in-image-close\" onclick=\"in_image_close();\" src=\"https://image-us.24h.com.vn/upload/24h_banner_image_library/in-image-close.svg\" style=\"cursor: pointer;\" width=\"20px\"/>\n",
      "</div>\n",
      "</div>\n",
      "</div>\n",
      "<p align=\"center\"><img alt=\"Cuộc sống ít ai biết của cô bé xinh đẹp, từng khiến cả thế giới kinh ngạc vì quá thông minh - 2\" class=\"news-image\" data-original=\"https://image-us.24h.com.vn/upload/4-2023/images/2023-12-05//1701757223-cuoc-song-hien-tai-cua-co-be-thong-minh-nhat-the-gioi-ai-cung-tram-tro-03-width900height1204.jpg\" onclick=\"show_slide_image_news(1)\" src=\"data:image/png;base64,iVBORw0KGgoAAAANSUhEUgAAAAEAAAABAQMAAAAl21bKAAAAA1BMVEX6+vqsEtnpAAAACklEQVQI12NgAAAAAgAB4iG8MwAAAABJRU5ErkJggg==\" width=\"740\"/></p>\n"
     ]
    }
   ],
   "source": [
    "for i in article.find_all('p', align = \"center\", recursive = True):\n",
    "    print(i.find('img').parent)"
   ]
  },
  {
   "cell_type": "code",
   "execution_count": null,
   "id": "e40055bb-214a-4e53-a29a-faa64e035b1a",
   "metadata": {},
   "outputs": [],
   "source": []
  }
 ],
 "metadata": {
  "kernelspec": {
   "display_name": "Python 3 (ipykernel)",
   "language": "python",
   "name": "python3"
  },
  "language_info": {
   "codemirror_mode": {
    "name": "ipython",
    "version": 3
   },
   "file_extension": ".py",
   "mimetype": "text/x-python",
   "name": "python",
   "nbconvert_exporter": "python",
   "pygments_lexer": "ipython3",
   "version": "3.11.5"
  }
 },
 "nbformat": 4,
 "nbformat_minor": 5
}
