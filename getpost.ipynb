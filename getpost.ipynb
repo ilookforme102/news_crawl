{
 "cells": [
  {
   "cell_type": "code",
   "execution_count": 1,
   "id": "2c523ebf-58a4-410a-ac3b-e47ee0f30e68",
   "metadata": {},
   "outputs": [],
   "source": [
    "import requests \n",
    "import time\n",
    "import undetected_chromedriver as uc\n",
    "from selenium.webdriver.common.by import By\n",
    "import re\n",
    "from datetime import datetime\n",
    "from bs4 import BeautifulSoup\n"
   ]
  },
  {
   "cell_type": "code",
   "execution_count": 3,
   "id": "6ac93967-7aa8-43aa-8ddd-92f34ab4e3cd",
   "metadata": {},
   "outputs": [],
   "source": [
    "response = requests.get('https://www.24h.com.vn/cong-nghe-thong-tin/ong-trum-chatgpt-bi-sa-thai-chu-tich-openai-tu-chuc-c55a1519914.html')\n",
    "soup = BeautifulSoup(response.content, 'html.parser')"
   ]
  },
  {
   "cell_type": "code",
   "execution_count": 35,
   "id": "9d7619cf-04bc-4af2-8391-3d783dbd0bfc",
   "metadata": {},
   "outputs": [],
   "source": [
    "article = soup.find('article', class_ = 'cate-24h-foot-arti-deta-info').find_all('p')\n",
    "for child in article[:-4]:\n",
    "    if child.name == 'img':\n",
    "        print(child.attrs)\n",
    "    "
   ]
  },
  {
   "cell_type": "code",
   "execution_count": 24,
   "id": "2b185c82-838a-41fd-aabf-92f2463a37f0",
   "metadata": {},
   "outputs": [
    {
     "ename": "AttributeError",
     "evalue": "ResultSet object has no attribute 'children'. You're probably treating a list of elements like a single element. Did you call find_all() when you meant to call find()?",
     "output_type": "error",
     "traceback": [
      "\u001b[1;31m---------------------------------------------------------------------------\u001b[0m",
      "\u001b[1;31mAttributeError\u001b[0m                            Traceback (most recent call last)",
      "Cell \u001b[1;32mIn[24], line 1\u001b[0m\n\u001b[1;32m----> 1\u001b[0m article\u001b[38;5;241m.\u001b[39mchildren[\u001b[38;5;241m0\u001b[39m]\n",
      "File \u001b[1;32m~\\anaconda3\\Lib\\site-packages\\bs4\\element.py:2428\u001b[0m, in \u001b[0;36mResultSet.__getattr__\u001b[1;34m(self, key)\u001b[0m\n\u001b[0;32m   2426\u001b[0m \u001b[38;5;28;01mdef\u001b[39;00m \u001b[38;5;21m__getattr__\u001b[39m(\u001b[38;5;28mself\u001b[39m, key):\n\u001b[0;32m   2427\u001b[0m \u001b[38;5;250m    \u001b[39m\u001b[38;5;124;03m\"\"\"Raise a helpful exception to explain a common code fix.\"\"\"\u001b[39;00m\n\u001b[1;32m-> 2428\u001b[0m     \u001b[38;5;28;01mraise\u001b[39;00m \u001b[38;5;167;01mAttributeError\u001b[39;00m(\n\u001b[0;32m   2429\u001b[0m         \u001b[38;5;124m\"\u001b[39m\u001b[38;5;124mResultSet object has no attribute \u001b[39m\u001b[38;5;124m'\u001b[39m\u001b[38;5;132;01m%s\u001b[39;00m\u001b[38;5;124m'\u001b[39m\u001b[38;5;124m. You\u001b[39m\u001b[38;5;124m'\u001b[39m\u001b[38;5;124mre probably treating a list of elements like a single element. Did you call find_all() when you meant to call find()?\u001b[39m\u001b[38;5;124m\"\u001b[39m \u001b[38;5;241m%\u001b[39m key\n\u001b[0;32m   2430\u001b[0m     )\n",
      "\u001b[1;31mAttributeError\u001b[0m: ResultSet object has no attribute 'children'. You're probably treating a list of elements like a single element. Did you call find_all() when you meant to call find()?"
     ]
    }
   ],
   "source": []
  },
  {
   "cell_type": "code",
   "execution_count": 12,
   "id": "5b026a5b-961c-4b34-8b7b-7733e4a5d24a",
   "metadata": {},
   "outputs": [
    {
     "name": "stdout",
     "output_type": "stream",
     "text": [
      "[<article class=\"cate-24h-foot-arti-deta-info\">\n",
      "<h2 class=\"cate-24h-foot-arti-deta-sum ctTp tuht_show\" id=\"article_sapo\">\n",
      "<strong>\n",
      "                    OpenAI (Mỹ) bất ngờ sa thải nhà đồng sáng lập kiêm Giám đốc điều hành (CEO) Sam Altman vì “không trung thực”.                </strong>\n",
      "</h2>\n",
      "<script type=\"text/javascript\">window.onload = function () {resizeNewsImage(\"news-image\", 740);}</script> <p>The Guardian dẫn thông báo của hội đồng quản trị OpenAI, \"cha đẻ\" của <a class=\"TextlinkBaiviet\" href=\"https://www.24h.com.vn/chagpt-c55e7117.html\" title=\"ChatGPT\">ChatGPT</a> đình đám hôm 18-11, nêu rõ: \"Ông Altman sẽ rời vị trí sau quá trình xem xét có chủ ý của hội đồng quản trị. Ông Altman không nhất quán và thẳng thắn trong giao tiếp với hội đồng quản trị, cản trở khả năng thực hiện trách nhiệm của mình. Do đó, hội đồng quản trị không còn tin tưởng khả năng tiếp tục dẫn dắt OpenAI của ông nữa\".</p>\n",
      "<p>Ngay sau khi sa thải nhà đồng sáng lập Altman, lãnh đạo OpenAI lập tức bổ nhiệm Giám đốc công nghệ (CTO) Mira Murati lên thay thế. Bà Murati là thành viên ban lãnh đạo của công ty có trụ sở tại San Francisco – Mỹ trong 5 năm qua.</p>\n",
      "<p align=\"center\"><img alt=\"“Ông trùm” ChatGPT bị sa thải, chủ tịch OpenAI từ chức - 1\" class=\"news-image\" onclick=\"show_slide_image_news(0)\" src=\"https://image-us.24h.com.vn/upload/4-2023/images/2023-11-18/1700294676-openai0-1700269532904456595104-width684height385.png\" width=\"740\"/></p>\n",
      "<p class=\"img_chu_thich_0407\" data-placeholder=\"[nhập chú thích]\">Bà Mira Murati được bổ nhiệm làm CEO mới của OpenAI thay thế ông Altman. Ảnh: Bloomberg</p>\n",
      "<p>Bản thân ông Altman sau đó cũng xác nhận việc rời OpenAI: \"Tôi yêu quãng thời gian tại OpenAI. Nó mang lại sự thay đổi đối với cá nhân tôi và hy vọng thế giới cũng sẽ thay đổi một chút. Trên hết, tôi thích làm việc với những người tài năng. Sẽ có nhiều điều để nói về những gì tiếp theo sau đây\".</p><section id=\"oNCDCxeGIF_159_15s_container\"><div class=\"txtCent bnInreadNews\" id=\"oNCDCxeGIF_159_15s\"><div id=\"oNCDCxeGIF_159_15stxtBnrHor\"><span></span></div><script language=\"javascript\" type=\"text/javascript\">//<![CDATA[ \n",
      "\n",
      "\t\t\t\n",
      "\t\t\t\tif (typeof(oNCDCxeGIF_159_15s.aNodes) != \"undefined\" && oNCDCxeGIF_159_15s.aNodes.length > 0) {\n",
      "\t\t\t\t\tbanner_tostring(oNCDCxeGIF_159_15s,\"oNCDCxeGIF_159_15s\");\n",
      "\t\t\t\t} else {\n",
      "\t\t\t\t\tdocument.getElementById(\"oNCDCxeGIF_159_15s_container\").style.display = \"none\";\n",
      "\t\t\t\t}\n",
      "            \n",
      "\t\t\t\n",
      " //]]></script></div></section>\n",
      "<p align=\"center\"><img alt=\"“Ông trùm” ChatGPT bị sa thải, chủ tịch OpenAI từ chức - 2\" class=\"news-image\" data-original=\"https://image-us.24h.com.vn/upload/4-2023/images/2023-11-18/1700294677-openai-17002695329451633625765-width684height410.png\" onclick=\"show_slide_image_news(1)\" src=\"data:image/png;base64,iVBORw0KGgoAAAANSUhEUgAAAAEAAAABAQMAAAAl21bKAAAAA1BMVEX6+vqsEtnpAAAACklEQVQI12NgAAAAAgAB4iG8MwAAAABJRU5ErkJggg==\" width=\"740\"/></p>\n",
      "<p class=\"img_chu_thich_0407\" data-placeholder=\"[nhập chú thích]\">Ông Sam Altman cũng đã xác nhận việc khỏi vị trí Giám đốc điều hành OpenAI. Ảnh: Reuters</p>\n",
      "<p>Ông Sam Altman hiện cũng là cổ đông lớn nhất của Humane - công ty vừa công bố mẫu điện thoại không màn hình AI Pin, được ví như \"iPhone của kỷ nguyên AI\".</p>\n",
      "<p>Giới quan sát mô tả động thái của OpenAI với nhà đồng sáng lập Altman là \"quyết định gây sốc\". Chính tên tuổi của chuyên gia công nghệ 38 tuổi này đã gắn liền với ChatGPT đình đám. </p>\n",
      "<p>Chat GPT vốn được xem là bước tiến của trí tuệ nhân tạo (AI) với khả năng giải đáp câu hỏi và hỗ trợ con người ấn tượng. </p>\n",
      "<p>ChatGPT ra mắt ấn tượng vào tháng 11-2022 và đã thu hút hơn 100 triệu người dùng trong vòng chưa đầy một năm.</p>\n",
      "<p>Business Insider cho hay không lâu sau khi CEO Altman bị sa thải - ông Greg Brockman, một trong những người sáng lập khác và là chủ tịch OpenAI - cũng tuyên bố từ chức.</p>\n",
      "<p>\"Tôi vô cùng tự hào về những gì chúng ta đã cùng nhau xây dựng kể từ khi khởi đầu tại căn hộ của tôi 8 năm trước\" - ông Brockman phản hồi trong bài đăng của ông Altman trên mạng xã hội X về việc CEO này rời OpenAI - \"Chúng ta đã cùng trải qua những khoảng thời gian khó khăn nhưng tuyệt vời và chúng ta đã đạt được rất nhiều thành tựu bất chấp mọi rào cản. Qua thông tin vừa đọc được, tôi quyết định từ bỏ. Thực lòng, chúc tất cả những người ở lại những điều tốt đẹp nhất\".</p>\n",
      "<p align=\"center\"><img alt=\"“Ông trùm” ChatGPT bị sa thải, chủ tịch OpenAI từ chức - 3\" class=\"news-image\" data-original=\"https://image-us.24h.com.vn/upload/4-2023/images/2023-11-18/1700294677-openai00-1700284586275653498580-width684height454.png\" onclick=\"show_slide_image_news(2)\" src=\"data:image/png;base64,iVBORw0KGgoAAAANSUhEUgAAAAEAAAABAQMAAAAl21bKAAAAA1BMVEX6+vqsEtnpAAAACklEQVQI12NgAAAAAgAB4iG8MwAAAABJRU5ErkJggg==\" width=\"740\"/></p>\n",
      "<p class=\"img_chu_thich_0407\" data-placeholder=\"[nhập chú thích]\">Người đồng sáng lập OpenAI Greg Brockman. Ảnh: TechCrunch</p>\n",
      "<p>Ông Brockman sinh năm 1989 ở Bắc Dakota -Mỹ, từng vào đến chung kết cuộc thi cuộc tìm kiếm tài năng khoa học của Intel năm 2006. </p>\n",
      "<p>Năm 2008, ông đăng ký vào ĐH Harvard nhưng bỏ học một năm sau đó. Ông cũng tham gia Viện Công nghệ Massachusetts (MIT) thời gian ngắn trước khi gia nhập Stripe năm 2010.</p>\n",
      "<p>Năm 2013, ông Brockman trở thành CTO đầu tiên của Stripe và phát triển công ty từ 5 lên 205 nhân viên. Tuy nhiên, hai năm sau, ông rời công ty để cùng tỉ phú Elon Musk, Sam Altman và các thành viên khác sáng lập OpenAI vào tháng 12-2015.</p>\n",
      "<script>\n",
      "                window.addEventListener(\"load\", function(){\n",
      "                    let ids = [\"url_origin_cut\", \"url_origin_full\"];\n",
      "                    origin_decode(ids, \"[Link nguồn]\");\n",
      "                });\n",
      "                setTimeout(function(){\n",
      "                    let ids = [\"url_origin_cut\", \"url_origin_full\"];\n",
      "                    origin_decode(ids, \"[Link nguồn]\");\n",
      "                }, 1000);\n",
      "            </script><p class=\"linkOrigin\"><span class=\"dots\" data-src=\"aHR0cHM6Ly93d3cubmd1b2lkdWF0aW4udm4vb25nLXRydW0tY2hhdC1ncHQtYmktc2EtdGhhaS1jaHUtdGljaC1vcGVuLWFpLXR1LWNodWMtYTYzNjUzMy5odG1s\" id=\"url_origin_cut\">Nguồn: [Link nguồn]</span><span class=\"txtFull\" data-src=\"aHR0cHM6Ly93d3cubmd1b2lkdWF0aW4udm4vb25nLXRydW0tY2hhdC1ncHQtYmktc2EtdGhhaS1jaHUtdGljaC1vcGVuLWFpLXR1LWNodWMtYTYzNjUzMy5odG1s\" id=\"url_origin_full\" style=\"display: none;\">Nguồn: [Link nguồn]</span></p><div id=\"zone_banner_sponser_product\">\n",
      "<div class=\"txtCent banner_201\" id=\"oNCDCxeGIF_201_15s\">\n",
      "<script type=\"text/javascript\">\n",
      "                                    \n",
      "                                        banner_tostring(oNCDCxeGIF_201_15s, \"oNCDCxeGIF_201_15s\");\n",
      "                                    \n",
      "                                </script>\n",
      "</div>\n",
      "</div><div class=\"bv-lq\"><!--begin_tlq_nd-->\n",
      "<div class=\"bv-lq-inner\">\n",
      "<!--begin_img_tlq_nd--><div class=\"img-bv-lq imgFloat\"><a href=\"https://www.24h.com.vn/cong-nghe-thong-tin/chatgpt-bi-nhom-hacker-anonymous-tan-cong-ddos-toi-sap-may-chu-c55a1517581.html\" onclick=\"return send_ga_gtag('box_tin_lien_quan_trong_noi_dung', '','eyJjYXRlZ29yeUlkXzI0aCI6IjU1IiwicGFnZUNhdGVnb3J5XzI0aCI6InRlY2hub2xvZ3kiLCJhcnRpY2xlSWRfMjRoIjoiMTUxOTkxNCIsInR5cGVfMjRoIjoiMSIsImRldmljZV8yNGgiOiJwYyIsImFjdGlvbl8yNGgiOiJjbGljayJ9', this,'','')\" title=\"ChatGPT bị nhóm hacker Anonymous tấn công DDoS tới “sập“ máy chủ\"><img alt=\"ChatGPT bị nhóm hacker Anonymous tấn công DDoS tới “sập“ máy chủ\" class=\"img_tin_lien_quan_trong_bai\" src=\"https://image-us.24h.com.vn/upload/4-2023/images/2023-11-18/1700294800-934-gpt-1699586188-282-width740height555-1700294800-width255height170.jpg\"/></a></div><!--end_img_tlq_nd-->\n",
      "<div class=\"content-bv-lq\">\n",
      "<!--begin_title_tlq_nd--><div class=\"title-bv\"><a class=\"url_tin_lien_quan_trong_bai\" href=\"https://www.24h.com.vn/cong-nghe-thong-tin/chatgpt-bi-nhom-hacker-anonymous-tan-cong-ddos-toi-sap-may-chu-c55a1517581.html\" onclick=\"return send_ga_gtag('box_tin_lien_quan_trong_noi_dung', '','eyJjYXRlZ29yeUlkXzI0aCI6IjU1IiwicGFnZUNhdGVnb3J5XzI0aCI6InRlY2hub2xvZ3kiLCJhcnRpY2xlSWRfMjRoIjoiMTUxOTkxNCIsInR5cGVfMjRoIjoiMSIsImRldmljZV8yNGgiOiJwYyIsImFjdGlvbl8yNGgiOiJjbGljayJ9', this,'','')\">ChatGPT bị nhóm hacker Anonymous tấn công DDoS tới “sập“ máy chủ</a></div><!--end_title_tlq_nd-->\n",
      "<div class=\"ct-bv\">\n",
      "<p>OpenAI xác nhận ChatGPT đã bị tấn công DDoS và gây ra một số vấn đề cho người dùng cuối.</p>\n",
      "</div>\n",
      "<div class=\"see-now\"><a href=\"https://www.24h.com.vn/cong-nghe-thong-tin/chatgpt-bi-nhom-hacker-anonymous-tan-cong-ddos-toi-sap-may-chu-c55a1517581.html\" onclick=\"return send_ga_gtag('box_tin_lien_quan_trong_noi_dung', '','eyJjYXRlZ29yeUlkXzI0aCI6IjU1IiwicGFnZUNhdGVnb3J5XzI0aCI6InRlY2hub2xvZ3kiLCJhcnRpY2xlSWRfMjRoIjoiMTUxOTkxNCIsInR5cGVfMjRoIjoiMSIsImRldmljZV8yNGgiOiJwYyIsImFjdGlvbl8yNGgiOiJjbGljayJ9', this,'','')\" title=\"\">Bấm xem &gt;&gt;</a></div>\n",
      "</div>\n",
      "</div>\n",
      "<p><!--end_tlq_nd--></p></div><p class=\"tuht_all\"></p> </article>]\n"
     ]
    }
   ],
   "source": []
  },
  {
   "cell_type": "code",
   "execution_count": null,
   "id": "89b99d27-fa63-428c-bac3-841376579b24",
   "metadata": {},
   "outputs": [],
   "source": []
  }
 ],
 "metadata": {
  "kernelspec": {
   "display_name": "Python 3 (ipykernel)",
   "language": "python",
   "name": "python3"
  },
  "language_info": {
   "codemirror_mode": {
    "name": "ipython",
    "version": 3
   },
   "file_extension": ".py",
   "mimetype": "text/x-python",
   "name": "python",
   "nbconvert_exporter": "python",
   "pygments_lexer": "ipython3",
   "version": "3.11.5"
  }
 },
 "nbformat": 4,
 "nbformat_minor": 5
}
