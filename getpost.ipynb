{
 "cells": [
  {
   "cell_type": "code",
   "execution_count": 8,
   "id": "2c523ebf-58a4-410a-ac3b-e47ee0f30e68",
   "metadata": {},
   "outputs": [],
   "source": [
    "import requests \n",
    "import time\n",
    "import undetected_chromedriver as uc\n",
    "from selenium.webdriver.common.by import By\n",
    "import re\n",
    "from datetime import datetime\n",
    "from bs4 import BeautifulSoup\n",
    "import html5lib"
   ]
  },
  {
   "cell_type": "code",
   "execution_count": 46,
   "id": "6ac93967-7aa8-43aa-8ddd-92f34ab4e3cd",
   "metadata": {},
   "outputs": [],
   "source": [
    "response = requests.get('https://www.24h.com.vn/cong-nghe-thong-tin/ong-trum-chatgpt-bi-sa-thai-chu-tich-openai-tu-chuc-c55a1519914.html')\n"
   ]
  },
  {
   "cell_type": "code",
   "execution_count": 55,
   "id": "9d7619cf-04bc-4af2-8391-3d783dbd0bfc",
   "metadata": {},
   "outputs": [],
   "source": [
    "soup = BeautifulSoup(response.content, features='html')\n",
    "article = soup.find('article', class_ = 'cate-24h-foot-arti-deta-info').find_all('p')\n",
    "for child in article[:-4]:\n",
    "    text = child.find_all('img')\n",
    "    if len(text) >0:\n",
    "        for t in text:\n",
    "            try:\n",
    "                t.attrs.pop('class')\n",
    "                t.attrs.pop('onclick')\n",
    "                t.attrs.pop('width')\n",
    "                t['src'] = t['data-original']\n",
    "            except KeyError:\n",
    "                break\n",
    "    "
   ]
  },
  {
   "cell_type": "code",
   "execution_count": 56,
   "id": "2b185c82-838a-41fd-aabf-92f2463a37f0",
   "metadata": {},
   "outputs": [
    {
     "name": "stdout",
     "output_type": "stream",
     "text": [
      "{'alt': '“Ông trùm” ChatGPT bị sa thải, chủ tịch OpenAI từ chức - 1', 'src': 'https://image-us.24h.com.vn/upload/4-2023/images/2023-11-18/1700294676-openai0-1700269532904456595104-width684height385.png'}\n",
      "{'alt': '“Ông trùm” ChatGPT bị sa thải, chủ tịch OpenAI từ chức - 2', 'src': 'https://image-us.24h.com.vn/upload/4-2023/images/2023-11-18/1700294677-openai-17002695329451633625765-width684height410.png', 'data-original': 'https://image-us.24h.com.vn/upload/4-2023/images/2023-11-18/1700294677-openai-17002695329451633625765-width684height410.png'}\n",
      "{'alt': '“Ông trùm” ChatGPT bị sa thải, chủ tịch OpenAI từ chức - 3', 'src': 'https://image-us.24h.com.vn/upload/4-2023/images/2023-11-18/1700294677-openai00-1700284586275653498580-width684height454.png', 'data-original': 'https://image-us.24h.com.vn/upload/4-2023/images/2023-11-18/1700294677-openai00-1700284586275653498580-width684height454.png'}\n"
     ]
    }
   ],
   "source": [
    "for child in article[:-4]:\n",
    "    text = child.find_all('img')\n",
    "    if len(text) >0:\n",
    "        for t in text:\n",
    "            print(t.attrs)"
   ]
  },
  {
   "cell_type": "code",
   "execution_count": 70,
   "id": "5b026a5b-961c-4b34-8b7b-7733e4a5d24a",
   "metadata": {},
   "outputs": [
    {
     "data": {
      "text/plain": [
       "[<p>The Guardian dẫn thông báo của hội đồng quản trị OpenAI, \"cha đẻ\" của <a class=\"TextlinkBaiviet\" href=\"https://www.24h.com.vn/chagpt-c55e7117.html\" title=\"ChatGPT\">ChatGPT</a> đình đám hôm 18-11, nêu rõ: \"Ông Altman sẽ rời vị trí sau quá trình xem xét có chủ ý của hội đồng quản trị. Ông Altman không nhất quán và thẳng thắn trong giao tiếp với hội đồng quản trị, cản trở khả năng thực hiện trách nhiệm của mình. Do đó, hội đồng quản trị không còn tin tưởng khả năng tiếp tục dẫn dắt OpenAI của ông nữa\".</p>,\n",
       " <p>Ngay sau khi sa thải nhà đồng sáng lập Altman, lãnh đạo OpenAI lập tức bổ nhiệm Giám đốc công nghệ (CTO) Mira Murati lên thay thế. Bà Murati là thành viên ban lãnh đạo của công ty có trụ sở tại San Francisco – Mỹ trong 5 năm qua.</p>,\n",
       " <p align=\"center\"><img alt=\"“Ông trùm” ChatGPT bị sa thải, chủ tịch OpenAI từ chức - 1\" src=\"https://image-us.24h.com.vn/upload/4-2023/images/2023-11-18/1700294676-openai0-1700269532904456595104-width684height385.png\"/></p>,\n",
       " <p class=\"img_chu_thich_0407\" data-placeholder=\"[nhập chú thích]\">Bà Mira Murati được bổ nhiệm làm CEO mới của OpenAI thay thế ông Altman. Ảnh: Bloomberg</p>,\n",
       " <p>Bản thân ông Altman sau đó cũng xác nhận việc rời OpenAI: \"Tôi yêu quãng thời gian tại OpenAI. Nó mang lại sự thay đổi đối với cá nhân tôi và hy vọng thế giới cũng sẽ thay đổi một chút. Trên hết, tôi thích làm việc với những người tài năng. Sẽ có nhiều điều để nói về những gì tiếp theo sau đây\".</p>,\n",
       " <p align=\"center\"><img alt=\"“Ông trùm” ChatGPT bị sa thải, chủ tịch OpenAI từ chức - 2\" data-original=\"https://image-us.24h.com.vn/upload/4-2023/images/2023-11-18/1700294677-openai-17002695329451633625765-width684height410.png\" src=\"https://image-us.24h.com.vn/upload/4-2023/images/2023-11-18/1700294677-openai-17002695329451633625765-width684height410.png\"/></p>,\n",
       " <p class=\"img_chu_thich_0407\" data-placeholder=\"[nhập chú thích]\">Ông Sam Altman cũng đã xác nhận việc khỏi vị trí Giám đốc điều hành OpenAI. Ảnh: Reuters</p>,\n",
       " <p>Ông Sam Altman hiện cũng là cổ đông lớn nhất của Humane - công ty vừa công bố mẫu điện thoại không màn hình AI Pin, được ví như \"iPhone của kỷ nguyên AI\".</p>,\n",
       " <p>Giới quan sát mô tả động thái của OpenAI với nhà đồng sáng lập Altman là \"quyết định gây sốc\". Chính tên tuổi của chuyên gia công nghệ 38 tuổi này đã gắn liền với ChatGPT đình đám. </p>,\n",
       " <p>Chat GPT vốn được xem là bước tiến của trí tuệ nhân tạo (AI) với khả năng giải đáp câu hỏi và hỗ trợ con người ấn tượng. </p>,\n",
       " <p>ChatGPT ra mắt ấn tượng vào tháng 11-2022 và đã thu hút hơn 100 triệu người dùng trong vòng chưa đầy một năm.</p>,\n",
       " <p>Business Insider cho hay không lâu sau khi CEO Altman bị sa thải - ông Greg Brockman, một trong những người sáng lập khác và là chủ tịch OpenAI - cũng tuyên bố từ chức.</p>,\n",
       " <p>\"Tôi vô cùng tự hào về những gì chúng ta đã cùng nhau xây dựng kể từ khi khởi đầu tại căn hộ của tôi 8 năm trước\" - ông Brockman phản hồi trong bài đăng của ông Altman trên mạng xã hội X về việc CEO này rời OpenAI - \"Chúng ta đã cùng trải qua những khoảng thời gian khó khăn nhưng tuyệt vời và chúng ta đã đạt được rất nhiều thành tựu bất chấp mọi rào cản. Qua thông tin vừa đọc được, tôi quyết định từ bỏ. Thực lòng, chúc tất cả những người ở lại những điều tốt đẹp nhất\".</p>,\n",
       " <p align=\"center\"><img alt=\"“Ông trùm” ChatGPT bị sa thải, chủ tịch OpenAI từ chức - 3\" data-original=\"https://image-us.24h.com.vn/upload/4-2023/images/2023-11-18/1700294677-openai00-1700284586275653498580-width684height454.png\" src=\"https://image-us.24h.com.vn/upload/4-2023/images/2023-11-18/1700294677-openai00-1700284586275653498580-width684height454.png\"/></p>,\n",
       " <p class=\"img_chu_thich_0407\" data-placeholder=\"[nhập chú thích]\">Người đồng sáng lập OpenAI Greg Brockman. Ảnh: TechCrunch</p>,\n",
       " <p>Ông Brockman sinh năm 1989 ở Bắc Dakota -Mỹ, từng vào đến chung kết cuộc thi cuộc tìm kiếm tài năng khoa học của Intel năm 2006. </p>,\n",
       " <p>Năm 2008, ông đăng ký vào ĐH Harvard nhưng bỏ học một năm sau đó. Ông cũng tham gia Viện Công nghệ Massachusetts (MIT) thời gian ngắn trước khi gia nhập Stripe năm 2010.</p>,\n",
       " <p>Năm 2013, ông Brockman trở thành CTO đầu tiên của Stripe và phát triển công ty từ 5 lên 205 nhân viên. Tuy nhiên, hai năm sau, ông rời công ty để cùng tỉ phú Elon Musk, Sam Altman và các thành viên khác sáng lập OpenAI vào tháng 12-2015.</p>]"
      ]
     },
     "execution_count": 70,
     "metadata": {},
     "output_type": "execute_result"
    }
   ],
   "source": [
    "article[:-4]"
   ]
  },
  {
   "cell_type": "code",
   "execution_count": 62,
   "id": "89b99d27-fa63-428c-bac3-841376579b24",
   "metadata": {},
   "outputs": [],
   "source": [
    "page = soup.find('article', class_ = 'cate-24h-foot-arti-deta-info')"
   ]
  },
  {
   "cell_type": "code",
   "execution_count": 64,
   "id": "723af1d0",
   "metadata": {},
   "outputs": [
    {
     "data": {
      "text/plain": [
       "bs4.element.Tag"
      ]
     },
     "execution_count": 64,
     "metadata": {},
     "output_type": "execute_result"
    }
   ],
   "source": [
    "type(page)"
   ]
  },
  {
   "cell_type": "code",
   "execution_count": 75,
   "id": "881fa6e9",
   "metadata": {},
   "outputs": [],
   "source": [
    "soup2 = BeautifulSoup(\"\", 'html.parser')\n",
    "for i in article[:-4]:\n",
    "    soup2.append(i)"
   ]
  },
  {
   "cell_type": "code",
   "execution_count": 77,
   "id": "89f8d9ae",
   "metadata": {},
   "outputs": [
    {
     "name": "stdout",
     "output_type": "stream",
     "text": [
      "<p>\n",
      " The Guardian dẫn thông báo của hội đồng quản trị OpenAI, \"cha đẻ\" của\n",
      " <a class=\"TextlinkBaiviet\" href=\"https://www.24h.com.vn/chagpt-c55e7117.html\" title=\"ChatGPT\">\n",
      "  ChatGPT\n",
      " </a>\n",
      " đình đám hôm 18-11, nêu rõ: \"Ông Altman sẽ rời vị trí sau quá trình xem xét có chủ ý của hội đồng quản trị. Ông Altman không nhất quán và thẳng thắn trong giao tiếp với hội đồng quản trị, cản trở khả năng thực hiện trách nhiệm của mình. Do đó, hội đồng quản trị không còn tin tưởng khả năng tiếp tục dẫn dắt OpenAI của ông nữa\".\n",
      "</p>\n",
      "<p>\n",
      " Ngay sau khi sa thải nhà đồng sáng lập Altman, lãnh đạo OpenAI lập tức bổ nhiệm Giám đốc công nghệ (CTO) Mira Murati lên thay thế. Bà Murati là thành viên ban lãnh đạo của công ty có trụ sở tại San Francisco – Mỹ trong 5 năm qua.\n",
      "</p>\n",
      "<p align=\"center\">\n",
      " <img alt=\"“Ông trùm” ChatGPT bị sa thải, chủ tịch OpenAI từ chức - 1\" src=\"https://image-us.24h.com.vn/upload/4-2023/images/2023-11-18/1700294676-openai0-1700269532904456595104-width684height385.png\"/>\n",
      "</p>\n",
      "<p class=\"img_chu_thich_0407\" data-placeholder=\"[nhập chú thích]\">\n",
      " Bà Mira Murati được bổ nhiệm làm CEO mới của OpenAI thay thế ông Altman. Ảnh: Bloomberg\n",
      "</p>\n",
      "<p>\n",
      " Bản thân ông Altman sau đó cũng xác nhận việc rời OpenAI: \"Tôi yêu quãng thời gian tại OpenAI. Nó mang lại sự thay đổi đối với cá nhân tôi và hy vọng thế giới cũng sẽ thay đổi một chút. Trên hết, tôi thích làm việc với những người tài năng. Sẽ có nhiều điều để nói về những gì tiếp theo sau đây\".\n",
      "</p>\n",
      "<p align=\"center\">\n",
      " <img alt=\"“Ông trùm” ChatGPT bị sa thải, chủ tịch OpenAI từ chức - 2\" data-original=\"https://image-us.24h.com.vn/upload/4-2023/images/2023-11-18/1700294677-openai-17002695329451633625765-width684height410.png\" src=\"https://image-us.24h.com.vn/upload/4-2023/images/2023-11-18/1700294677-openai-17002695329451633625765-width684height410.png\"/>\n",
      "</p>\n",
      "<p class=\"img_chu_thich_0407\" data-placeholder=\"[nhập chú thích]\">\n",
      " Ông Sam Altman cũng đã xác nhận việc khỏi vị trí Giám đốc điều hành OpenAI. Ảnh: Reuters\n",
      "</p>\n",
      "<p>\n",
      " Ông Sam Altman hiện cũng là cổ đông lớn nhất của Humane - công ty vừa công bố mẫu điện thoại không màn hình AI Pin, được ví như \"iPhone của kỷ nguyên AI\".\n",
      "</p>\n",
      "<p>\n",
      " Giới quan sát mô tả động thái của OpenAI với nhà đồng sáng lập Altman là \"quyết định gây sốc\". Chính tên tuổi của chuyên gia công nghệ 38 tuổi này đã gắn liền với ChatGPT đình đám.\n",
      "</p>\n",
      "<p>\n",
      " Chat GPT vốn được xem là bước tiến của trí tuệ nhân tạo (AI) với khả năng giải đáp câu hỏi và hỗ trợ con người ấn tượng.\n",
      "</p>\n",
      "<p>\n",
      " ChatGPT ra mắt ấn tượng vào tháng 11-2022 và đã thu hút hơn 100 triệu người dùng trong vòng chưa đầy một năm.\n",
      "</p>\n",
      "<p>\n",
      " Business Insider cho hay không lâu sau khi CEO Altman bị sa thải - ông Greg Brockman, một trong những người sáng lập khác và là chủ tịch OpenAI - cũng tuyên bố từ chức.\n",
      "</p>\n",
      "<p>\n",
      " \"Tôi vô cùng tự hào về những gì chúng ta đã cùng nhau xây dựng kể từ khi khởi đầu tại căn hộ của tôi 8 năm trước\" - ông Brockman phản hồi trong bài đăng của ông Altman trên mạng xã hội X về việc CEO này rời OpenAI - \"Chúng ta đã cùng trải qua những khoảng thời gian khó khăn nhưng tuyệt vời và chúng ta đã đạt được rất nhiều thành tựu bất chấp mọi rào cản. Qua thông tin vừa đọc được, tôi quyết định từ bỏ. Thực lòng, chúc tất cả những người ở lại những điều tốt đẹp nhất\".\n",
      "</p>\n",
      "<p align=\"center\">\n",
      " <img alt=\"“Ông trùm” ChatGPT bị sa thải, chủ tịch OpenAI từ chức - 3\" data-original=\"https://image-us.24h.com.vn/upload/4-2023/images/2023-11-18/1700294677-openai00-1700284586275653498580-width684height454.png\" src=\"https://image-us.24h.com.vn/upload/4-2023/images/2023-11-18/1700294677-openai00-1700284586275653498580-width684height454.png\"/>\n",
      "</p>\n",
      "<p class=\"img_chu_thich_0407\" data-placeholder=\"[nhập chú thích]\">\n",
      " Người đồng sáng lập OpenAI Greg Brockman. Ảnh: TechCrunch\n",
      "</p>\n",
      "<p>\n",
      " Ông Brockman sinh năm 1989 ở Bắc Dakota -Mỹ, từng vào đến chung kết cuộc thi cuộc tìm kiếm tài năng khoa học của Intel năm 2006.\n",
      "</p>\n",
      "<p>\n",
      " Năm 2008, ông đăng ký vào ĐH Harvard nhưng bỏ học một năm sau đó. Ông cũng tham gia Viện Công nghệ Massachusetts (MIT) thời gian ngắn trước khi gia nhập Stripe năm 2010.\n",
      "</p>\n",
      "<p>\n",
      " Năm 2013, ông Brockman trở thành CTO đầu tiên của Stripe và phát triển công ty từ 5 lên 205 nhân viên. Tuy nhiên, hai năm sau, ông rời công ty để cùng tỉ phú Elon Musk, Sam Altman và các thành viên khác sáng lập OpenAI vào tháng 12-2015.\n",
      "</p>\n"
     ]
    }
   ],
   "source": [
    "print(soup2.prettify())"
   ]
  },
  {
   "cell_type": "code",
   "execution_count": null,
   "id": "39f9a734",
   "metadata": {},
   "outputs": [],
   "source": []
  }
 ],
 "metadata": {
  "kernelspec": {
   "display_name": "Python 3 (ipykernel)",
   "language": "python",
   "name": "python3"
  },
  "language_info": {
   "codemirror_mode": {
    "name": "ipython",
    "version": 3
   },
   "file_extension": ".py",
   "mimetype": "text/x-python",
   "name": "python",
   "nbconvert_exporter": "python",
   "pygments_lexer": "ipython3",
   "version": "3.9.12"
  }
 },
 "nbformat": 4,
 "nbformat_minor": 5
}
