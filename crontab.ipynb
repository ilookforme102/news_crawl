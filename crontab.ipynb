{
 "cells": [
  {
   "cell_type": "code",
   "execution_count": 8,
   "id": "4d10df1f-5ae1-4751-8bb4-eb697bef587c",
   "metadata": {},
   "outputs": [
    {
     "ename": "TypeError",
     "evalue": "CronTab.__init__() got an unexpected keyword argument 'user'",
     "output_type": "error",
     "traceback": [
      "\u001b[1;31m---------------------------------------------------------------------------\u001b[0m",
      "\u001b[1;31mTypeError\u001b[0m                                 Traceback (most recent call last)",
      "Cell \u001b[1;32mIn[8], line 4\u001b[0m\n\u001b[0;32m      1\u001b[0m \u001b[38;5;28;01mfrom\u001b[39;00m \u001b[38;5;21;01mcrontab\u001b[39;00m \u001b[38;5;28;01mimport\u001b[39;00m CronTab\n\u001b[0;32m      3\u001b[0m \u001b[38;5;66;03m# Create a new cron object\u001b[39;00m\n\u001b[1;32m----> 4\u001b[0m my_cron \u001b[38;5;241m=\u001b[39m CronTab(user\u001b[38;5;241m=\u001b[39m\u001b[38;5;28;01mTrue\u001b[39;00m)  \u001b[38;5;66;03m# Use 'user=False' for system-wide crontab\u001b[39;00m\n\u001b[0;32m      5\u001b[0m my_cron \u001b[38;5;241m=\u001b[39m CronTab(user\u001b[38;5;241m=\u001b[39m\u001b[38;5;124m'\u001b[39m\u001b[38;5;124mShang\u001b[39m\u001b[38;5;124m'\u001b[39m)\n\u001b[0;32m      7\u001b[0m \u001b[38;5;66;03m# Create a new job\u001b[39;00m\n",
      "\u001b[1;31mTypeError\u001b[0m: CronTab.__init__() got an unexpected keyword argument 'user'"
     ]
    }
   ],
   "source": [
    "from crontab import CronTab\n",
    "\n",
    "# Create a new cron object\n",
    "my_cron = CronTab(user=True)  # Use 'user=False' for system-wide crontab\n",
    "my_cron = CronTab(user='Shang')\n",
    "\n",
    "# Create a new job\n",
    "job = my_cron.new(command='python crawl.py')\n",
    "\n",
    "# Set the job schedule (e.g., every day at 5 am)\n",
    "job.minute.every(5)\n",
    "\n",
    "\n",
    "# Alternatively, use a cron-style syntax\n",
    "# job.setall('0 5 * * *')  # This does the same as above\n",
    "\n",
    "# Add a comment to the job\n",
    "job.set_comment(\"Daily Script Run\")\n",
    "\n",
    "# Write the job to the crontab\n",
    "my_cron.write()\n",
    "\n",
    "# List all cron jobs for the current user\n",
    "for job in my_cron:\n",
    "    print(job)\n",
    "#C:/Users/Shang/WorkSpace/Python/Crawl/vscode/cron-tab.py"
   ]
  },
  {
   "cell_type": "code",
   "execution_count": 12,
   "id": "00e69d75-7e26-48d1-a9a5-6ef7a455b073",
   "metadata": {},
   "outputs": [],
   "source": [
    "import getpass\n"
   ]
  },
  {
   "cell_type": "code",
   "execution_count": 13,
   "id": "d249abe8-bb98-492b-b955-7df712477325",
   "metadata": {},
   "outputs": [],
   "source": [
    "username = getpass.getuser()\n"
   ]
  },
  {
   "cell_type": "code",
   "execution_count": 14,
   "id": "382a0179-39cb-4706-95ef-962964187e7a",
   "metadata": {},
   "outputs": [
    {
     "data": {
      "text/plain": [
       "'Shang'"
      ]
     },
     "execution_count": 14,
     "metadata": {},
     "output_type": "execute_result"
    }
   ],
   "source": [
    "username"
   ]
  },
  {
   "cell_type": "code",
   "execution_count": 19,
   "id": "8413c116-502e-481a-a6b3-b6e3bd998de7",
   "metadata": {},
   "outputs": [
    {
     "ename": "TypeError",
     "evalue": "CronTab.__init__() got an unexpected keyword argument 'user'",
     "output_type": "error",
     "traceback": [
      "\u001b[1;31m---------------------------------------------------------------------------\u001b[0m",
      "\u001b[1;31mTypeError\u001b[0m                                 Traceback (most recent call last)",
      "Cell \u001b[1;32mIn[19], line 2\u001b[0m\n\u001b[0;32m      1\u001b[0m \u001b[38;5;28;01mfrom\u001b[39;00m \u001b[38;5;21;01mcrontab\u001b[39;00m \u001b[38;5;28;01mimport\u001b[39;00m CronTab\n\u001b[1;32m----> 2\u001b[0m cron \u001b[38;5;241m=\u001b[39m CronTab(user\u001b[38;5;241m=\u001b[39m\u001b[38;5;124m'\u001b[39m\u001b[38;5;124mShang\u001b[39m\u001b[38;5;124m'\u001b[39m)\n",
      "\u001b[1;31mTypeError\u001b[0m: CronTab.__init__() got an unexpected keyword argument 'user'"
     ]
    }
   ],
   "source": [
    "from crontab import CronTab\n",
    "cron = CronTab(user='Shang')\n"
   ]
  },
  {
   "cell_type": "code",
   "execution_count": null,
   "id": "8ba88606-ef61-4e0e-9fb2-ae13b047d36d",
   "metadata": {},
   "outputs": [],
   "source": []
  }
 ],
 "metadata": {
  "kernelspec": {
   "display_name": "Python 3 (ipykernel)",
   "language": "python",
   "name": "python3"
  },
  "language_info": {
   "codemirror_mode": {
    "name": "ipython",
    "version": 3
   },
   "file_extension": ".py",
   "mimetype": "text/x-python",
   "name": "python",
   "nbconvert_exporter": "python",
   "pygments_lexer": "ipython3",
   "version": "3.11.5"
  }
 },
 "nbformat": 4,
 "nbformat_minor": 5
}
