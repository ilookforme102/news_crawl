{
 "cells": [
  {
   "cell_type": "code",
   "execution_count": 58,
   "id": "413797a5-85e5-4b6a-8c9e-73360fd74b2a",
   "metadata": {},
   "outputs": [],
   "source": [
    "#importing library\n",
    "from bs4 import BeautifulSoup\n",
    "import requests\n",
    "import time\n",
    "import re\n",
    "from datetime import datetime\n",
    "import html5lib\n",
    "\n"
   ]
  },
  {
   "cell_type": "code",
   "execution_count": null,
   "id": "4a38f9d1-fbb5-4d1b-a7c4-44960efadf1a",
   "metadata": {},
   "outputs": [],
   "source": [
    "web_24h_com_vn = {\n",
    "        \"home_page\":\"https://www.24h.com.vn/\",\n",
    "        \"urls\":{\n",
    "            \"tech\":\n",
    "            {\n",
    "             \"url\":\"https://www.24h.com.vn/cong-nghe-thong-tin-c55.html\",\n",
    "             \"cate_id\":57,\n",
    "             \"sub-category\":{\n",
    "                0:{\"name\":\"Game\",\n",
    "                 \"url\":\"https://www.24h.com.vn/game-c69.html\"},\n",
    "                1:{\"name\":\"Phần mềm\",\n",
    "                 \"url\":\"https://www.24h.com.vn/phan-mem-ngoai-c302.html\"},\n",
    "                2:{\"name\":\"Khoa học\",\n",
    "                 \"url\":\"https://www.24h.com.vn/khoa-hoc-c782.html\"},\n",
    "                3:{\"name\":\"Mạng xã hội\",\n",
    "                 \"url\":\"https://www.24h.com.vn/mang-xa-hoi-c889.html\"},\n",
    "                4:{\"name\":\"Thủ thuật - Tiện ích\"\n",
    "                 ,\"url\":\"https://www.24h.com.vn/thu-thuat-tien-ich-c68.html\"},\n",
    "                5:{\"name\":\"Sợ Virus\",\n",
    "                 \"url\":\"https://www.24h.com.vn/tim-hieu-virus-c57.html\"},\n",
    "                6:{\"name\":\"Máy in/phụ kiện\",\n",
    "                 \"url\":\"https://www.24h.com.vn/may-in/phu-kien-c291.html\"},\n",
    "                7:{\"name\":\"Khám phá công nghệ\",\n",
    "                 \"url\":\"https://www.24h.com.vn/kham-pha-cong-nghe-c675.html\"}\n",
    "             }\n",
    "            }\n",
    "            ,\n",
    "            \"youths\":\n",
    "            {\n",
    "            \"url\":\"https://www.24h.com.vn/ban-tre-cuoc-song-c64.html\",\n",
    "            \"cate_id\":60,\n",
    "             \"sub-category\":{\n",
    "                0:{\"name\":\"Chuyện công sở\",\"url\":\"https://www.24h.com.vn/chuyen-cong-so-c180.html\"},\n",
    "                1:{\"name\":\"Tình yêu - Giới Tính\",\"url\":\"https://www.24h.com.vn/tinh-yeu-gioi-tinh-c306.html\"},\n",
    "                2:{\"name\":\"Ngoại tình\",\"url\":\"https://www.24h.com.vn/ngoai-tinh-c435.html\"},\n",
    "                3:{\"name\":\"Giới trẻ\",\"url\":\"https://www.24h.com.vn/gioi-tre-c434.html\"},\n",
    "                4:{\"name\":\"Hotgirl - Hotboy\",\"url\":\"https://www.24h.com.vn/hotgirl-hot-boy-c64e3398.html\"},\n",
    "                5:{\"name\":\"Nhịp sống trẻ\",\"url\":\"https://www.24h.com.vn/nhip-song-tre-c685.html\"}\n",
    "             }\n",
    "            }\n",
    "            ,\n",
    "            \"showbiz\":\n",
    "            {\n",
    "            \"cate_id\":59,\n",
    "            \"url\":\"https://www.24h.com.vn/doi-song-showbiz-c729.html\",\n",
    "             \"sub-category\":{\n",
    "                0:{\"name\":\"Sao Việt\",\"url\":\"https://www.24h.com.vn/sao-viet-c757.html\"},\n",
    "                1:{\"name\":\"24h gặp gỡ\",\"url\":\"https://www.24h.com.vn/gap-go-24h-c729e6820.html\"},\n",
    "                2:{\"name\":\"Talk với sao\",\"url\":\"https://www.24h.com.vn/doi-thoai-cung-sao-c730.html\"},\n",
    "                3:{\"name\":\"Sao châu Á\",\"url\":\"https://www.24h.com.vn/sao-chau-a-c759.html\"},\n",
    "            }\n",
    "            },\n",
    "            \"cars\":\n",
    "            {\n",
    "            \"cate_id\":58,\n",
    "            \"url\":\"https://www.24h.com.vn/o-to-c747.html\",\n",
    "             \"sub-category\":{\n",
    "                0:{\"name\":\"Tin tức ô tô\",\"url\":\"https://www.24h.com.vn/tin-tuc-o-to-c332.html\"},\n",
    "                1:{\"name\":\"Bảng giá xe ô tô\",\"url\":\"https://www.24h.com.vn/bang-gia-xe-o-to-c807.html\"},\n",
    "                2:{\"name\":\"Tư vấn\",\"url\":\"https://www.24h.com.vn/tu-van-c240.html\"},\n",
    "                3:{\"name\":\"Ngắm xe\",\"url\":\"https://www.24h.com.vn/anh-nguoi-dep-va-xe-c199.html\"},\n",
    "                4:{\"name\":\"Đánh giá xe\",\"url\":\"https://www.24h.com.vn/so-sanh-xe-c805.html\"},\n",
    "            }\n",
    "            }\n",
    "        }\n",
    "    }"
   ]
  },
  {
   "cell_type": "code",
   "execution_count": 62,
   "id": "5ee2e246-7446-485b-b337-a2b1057a7482",
   "metadata": {},
   "outputs": [],
   "source": [
    "def get_content(url):\n",
    "    response = requests.get(url)\n",
    "    soup = BeautifulSoup(response.content,  'html5lib')\n",
    "    article = soup.find('article', class_ = 'cate-24h-foot-arti-deta-info').find_all('p')\n",
    "    h2 = soup.find('article', class_ = 'cate-24h-foot-arti-deta-info').find('h2')\n",
    "    for child in article[:-4]:\n",
    "        imgs = child.find_all('img')\n",
    "        a_tags = child.find_all('a')\n",
    "        if len(a_tags) > 0:\n",
    "            for a_tag in a_tags:\n",
    "                a_text = a_tag.text\n",
    "                parent_a_tag =  a_tag.parent\n",
    "                parent_a_tag.string = parent_a_tag.text\n",
    "            \n",
    "        if len(imgs) >0:\n",
    "            for t in imgs:\n",
    "                #t is image element\n",
    "                p_next = t.parent.next_sibling.next_sibling\n",
    "                #p_next.decompose()\n",
    "                #p_next['style'] = \"text-align: center;\"\n",
    "                caption_tag = soup.new_tag('caption')\n",
    "                t.insert_before(caption_tag)\n",
    "                caption_tag.append(t)\n",
    "                caption_tag['height'] = 400\n",
    "                caption_tag['align'] =\"aligncenter\"\n",
    "                caption_tag['width'] = 800\n",
    "                caption_tag['align'] =\"aligncenter\"\n",
    "                caption_tag.append(p_next.text)\n",
    "                try:\n",
    "                    t.attrs.pop('class')\n",
    "                    t.attrs.pop('onclick')\n",
    "                    t.attrs.pop('width')\n",
    "                    t['src'] = t['data-original']\n",
    "                    t['width'] = 800\n",
    "                    t['height'] = 400\n",
    "                except KeyError:\n",
    "                    break\n",
    "    soup2 = BeautifulSoup(\"\", 'html.parser')\n",
    "    soup2.append(h2)\n",
    "    for i in article[:-4]:\n",
    "        if 'class' not in i.attrs:\n",
    "            soup2.append(i)\n",
    "    content = soup2.prettify()\n",
    "    return content\n",
    "#convert time from post to the format of output\n",
    "def convert_string(input_str):\n",
    "    # Extract the date part using regular expression\n",
    "    pattern = r'\\d{2}/\\d{2}/\\d{4}'\n",
    "    date_part = re.search(pattern, input_str).group()\n",
    "    match = re.search(pattern, input_str)\n",
    "    if match:\n",
    "        # Parse the date string into a datetime object\n",
    "        date_obj = datetime.strptime(date_part, '%d/%m/%Y')\n",
    "        formatted_date = date_obj.strftime('%Y-%m-%d')\n",
    "        return formatted_date\n",
    "    else:\n",
    "        return \"\"\n",
    "#Convert time from post to datetime format\n",
    "def convert_time_string(posted_date):\n",
    "    pattern = r'\\d{2}/\\d{2}/\\d{4}'\n",
    "    match = re.search(pattern, posted_date)\n",
    "\n",
    "    if match:\n",
    "        date_string = match.group()\n",
    "\n",
    "        # Convert to datetime object\n",
    "        datetime_obj = datetime.strptime(date_string, \"%d/%m/%Y\")\n",
    "        return datetime_obj\n",
    "    else:\n",
    "        return ''\n",
    "def get_post(url):\n",
    "    try:\n",
    "        response = requests.get(url)\n",
    "        time.sleep(3)\n",
    "        soup = BeautifulSoup(response.content, 'html5lib')\n",
    "        content = get_content(url)\n",
    "        post_time = soup.find('time').text.strip()\n",
    "        published_date = convert_string(post_time)\n",
    "        title = soup.find('h1').text.strip()\n",
    "        h2 = soup.find('h2').text.strip()\n",
    "        #images_src = [i.attrs['src'] for i in soup.find('article', class_= 'cate-24h-foot-arti-deta-info').find_all('img')[:-1] if 'svg' not in i.attrs['src']]\n",
    "        #images_src = [img['data-original'] if 'https://image-us.24h.com.vn' not in img['src'] else img['src'] if 'svg' not in img['src'] else '' for img in soup.find('article', class_ = 'cate-24h-foot-arti-deta-info').find_all('img')[:-1]]\n",
    "        #text_list = [ child.text for child in soup.find('article', class_= 'cate-24h-foot-arti-deta-info').find_all('p')[:-3] if re.sub(r'\\n+', '', child.text) != \"\"]\n",
    "        #text_list = [h2] + text_list\n",
    "        return content,title,published_date\n",
    "    except AttributeError as e:\n",
    "        print(e)\n",
    "        content = ''\n",
    "        title = ''\n",
    "        published_date= ''\n",
    "        return content,title,published_date\n",
    "\n",
    "def filter_list(urls):\n",
    "    filtered_urls = []\n",
    "    crawl_time = datetime.fromtimestamp(time.time()-5*24*3600)\n",
    "    for i in urls:\n",
    "        response = requests.get(i)\n",
    "        soup = BeautifulSoup(response.content, 'html5lib')\n",
    "        try:\n",
    "            date_posted = soup.find('time').text.strip()\n",
    "            date_posted_norm = convert_time_string(date_posted)\n",
    "            if ( (date_posted_norm.day == crawl_time.day) and (date_posted_norm.month == crawl_time.month) and (date_posted_norm.year == crawl_time.year) ):\n",
    "                filtered_urls.append(i)\n",
    "                print(i)\n",
    "        except AttributeError as e:\n",
    "            print(e)\n",
    "            break\n",
    "    return filtered_urls\n",
    "def get_list_url(cat_url):\n",
    "    urls = []\n",
    "    response = requests.get(cat_url)\n",
    "    time.sleep(3)\n",
    "    soup = BeautifulSoup(response.content,'html5lib')\n",
    "    news_block  = soup.find('section', id = 'tin_bai_noi_bat_khac')\n",
    "    url_list = news_block.find_all('a')\n",
    "    for url in url_list:\n",
    "        if 'https://www.24h.com.vn/' in url['href']:\n",
    "            if url['href'] not in urls:\n",
    "                urls.append(url['href'])\n",
    "    return urls\n",
    "def add_list(web_24h_com_vn):\n",
    "    for i in list(web_24h_com_vn['urls'].keys()):\n",
    "        for j in list(web_24h_com_vn['urls'][i]['sub-category'].keys()):\n",
    "            urls = get_list_url(web_24h_com_vn['urls'][i]['sub-category'][j]['url'])\n",
    "            web_24h_com_vn['urls'][i]['sub-category'][j]['url_list'] = filter_list(urls)\n",
    "\n",
    "def add_post(web_24h_com_vn):\n",
    "    for i in list(web_24h_com_vn['urls'].keys()):\n",
    "        for j in list(web_24h_com_vn['urls'][i]['sub-category'].keys()):\n",
    "            web_24h_com_vn['urls'][i]['sub-category'][j]['content'] = {}\n",
    "            list_key = [v for v in range(0,len(web_24h_com_vn['urls'][i]['sub-category'][j]['url_list']))]\n",
    "            for u in list_key:\n",
    "                web_24h_com_vn['urls'][i]['sub-category'][j]['content'][u] = {}\n",
    "                if u != \"\":\n",
    "                    web_24h_com_vn['urls'][i]['sub-category'][j]['content'][u]['text'] ,web_24h_com_vn['urls'][i]['sub-category'][j]['content'][u]['title'],web_24h_com_vn['urls'][i]['sub-category'][j]['content'][u]['published_date'] = get_post(web_24h_com_vn['urls'][i]['sub-category'][j]['url_list'][u])\n",
    "                    print(i,j,web_24h_com_vn['urls'][i]['cate_id'],web_24h_com_vn['urls'][i]['sub-category'][j]['name'],web_24h_com_vn['urls'][i]['sub-category'][j]['name'],web_24h_com_vn['urls'][i]['sub-category'][j]['content'][u]['title'],web_24h_com_vn['urls'][i]['sub-category'][j]['url_list'][u])\n",
    "                \n",
    "\n",
    "\n"
   ]
  },
  {
   "cell_type": "code",
   "execution_count": 42,
   "id": "467a57f2-ba0e-44e2-bf6c-d6aff09a94f9",
   "metadata": {},
   "outputs": [
    {
     "data": {
      "text/plain": [
       "57"
      ]
     },
     "execution_count": 42,
     "metadata": {},
     "output_type": "execute_result"
    }
   ],
   "source": [
    "web_24h_com_vn['urls']['tech']['cate_id']"
   ]
  },
  {
   "cell_type": "code",
   "execution_count": 43,
   "id": "dcbd8d7d-c58b-4677-860b-68327166ed5f",
   "metadata": {},
   "outputs": [],
   "source": []
  },
  {
   "cell_type": "code",
   "execution_count": 44,
   "id": "39ece98f-7240-4142-9545-08d2d9e93bce",
   "metadata": {},
   "outputs": [],
   "source": [
    "def main():\n",
    "    web_24h_com_vn = {\n",
    "        \"home_page\":\"https://www.24h.com.vn/\",\n",
    "        \"urls\":{\n",
    "            \"tech\":\n",
    "            {\n",
    "             \"url\":\"https://www.24h.com.vn/cong-nghe-thong-tin-c55.html\",\n",
    "                \"cate_id\":57,\n",
    "             \"sub-category\":{\n",
    "                0:{\"name\":\"Game\",\n",
    "                 \"url\":\"https://www.24h.com.vn/game-c69.html\"},\n",
    "                1:{\"name\":\"Phần mềm\",\n",
    "                 \"url\":\"https://www.24h.com.vn/phan-mem-ngoai-c302.html\"}\n",
    "          \n",
    "             }\n",
    "            }\n",
    "         }\n",
    "    }\n",
    "#\n",
    "    '''def new_F():\n",
    "       _24h_com_vn['haha'] = {}\n",
    "       _24h_com_vn['haha'][0] = _24h_com_vn['urls']['tech']['url']\n",
    "    new_F()'''\n",
    "    add_list(web_24h_com_vn)\n",
    "    #add_post(web_24h_com_vn)\n",
    "    return web_24h_com_vn"
   ]
  },
  {
   "cell_type": "code",
   "execution_count": 66,
   "id": "f5477892-a758-4bee-a177-6b049af5ceaf",
   "metadata": {},
   "outputs": [
    {
     "ename": "AttributeError",
     "evalue": "'NoneType' object has no attribute 'text'",
     "output_type": "error",
     "traceback": [
      "\u001b[1;31m---------------------------------------------------------------------------\u001b[0m",
      "\u001b[1;31mAttributeError\u001b[0m                            Traceback (most recent call last)",
      "Cell \u001b[1;32mIn[66], line 1\u001b[0m\n\u001b[1;32m----> 1\u001b[0m get_content(\u001b[38;5;124m'\u001b[39m\u001b[38;5;124mhttps://www.24h.com.vn/cong-nghe-thong-tin/apple-gay-soc-sap-cho-nguoi-dung-android-giao-tiep-voi-imessage-c55a1519650.html\u001b[39m\u001b[38;5;124m'\u001b[39m)\n",
      "Cell \u001b[1;32mIn[62], line 13\u001b[0m, in \u001b[0;36mget_content\u001b[1;34m(url)\u001b[0m\n\u001b[0;32m     11\u001b[0m         a_text \u001b[38;5;241m=\u001b[39m a_tag\u001b[38;5;241m.\u001b[39mtext\n\u001b[0;32m     12\u001b[0m         parent_a_tag \u001b[38;5;241m=\u001b[39m  a_tag\u001b[38;5;241m.\u001b[39mparent\n\u001b[1;32m---> 13\u001b[0m         parent_a_tag\u001b[38;5;241m.\u001b[39mstring \u001b[38;5;241m=\u001b[39m parent_a_tag\u001b[38;5;241m.\u001b[39mtext\n\u001b[0;32m     15\u001b[0m \u001b[38;5;28;01mif\u001b[39;00m \u001b[38;5;28mlen\u001b[39m(imgs) \u001b[38;5;241m>\u001b[39m\u001b[38;5;241m0\u001b[39m:\n\u001b[0;32m     16\u001b[0m     \u001b[38;5;28;01mfor\u001b[39;00m t \u001b[38;5;129;01min\u001b[39;00m imgs:\n\u001b[0;32m     17\u001b[0m         \u001b[38;5;66;03m#t is image element\u001b[39;00m\n",
      "\u001b[1;31mAttributeError\u001b[0m: 'NoneType' object has no attribute 'text'"
     ]
    }
   ],
   "source": [
    "get_content('https://www.24h.com.vn/cong-nghe-thong-tin/apple-gay-soc-sap-cho-nguoi-dung-android-giao-tiep-voi-imessage-c55a1519650.html')"
   ]
  },
  {
   "cell_type": "code",
   "execution_count": 36,
   "id": "b8424181-e0b3-47ad-95de-f52cf0d1f3ba",
   "metadata": {},
   "outputs": [
    {
     "name": "stdout",
     "output_type": "stream",
     "text": [
      "https://www.24h.com.vn/cong-nghe-thong-tin/apple-gay-soc-sap-cho-nguoi-dung-android-giao-tiep-voi-imessage-c55a1519650.html\n"
     ]
    }
   ],
   "source": [
    "web_24h_com_vn2 = main()"
   ]
  },
  {
   "cell_type": "code",
   "execution_count": 48,
   "id": "3a452e9a-e38f-493a-ac64-71f263ee9c38",
   "metadata": {},
   "outputs": [
    {
     "data": {
      "text/plain": [
       "{'home_page': 'https://www.24h.com.vn/',\n",
       " 'urls': {'tech': {'url': 'https://www.24h.com.vn/cong-nghe-thong-tin-c55.html',\n",
       "   'cate_id': 57,\n",
       "   'sub-category': {0: {'name': 'Game',\n",
       "     'url': 'https://www.24h.com.vn/game-c69.html',\n",
       "     'url_list': [],\n",
       "     'content': {}},\n",
       "    1: {'name': 'Phần mềm',\n",
       "     'url': 'https://www.24h.com.vn/phan-mem-ngoai-c302.html',\n",
       "     'url_list': ['https://www.24h.com.vn/cong-nghe-thong-tin/apple-gay-soc-sap-cho-nguoi-dung-android-giao-tiep-voi-imessage-c55a1519650.html'],\n",
       "     'content': {0: {'text': '', 'title': '', 'published_date': ''}}}}}}}"
      ]
     },
     "execution_count": 48,
     "metadata": {},
     "output_type": "execute_result"
    }
   ],
   "source": [
    "web_24h_com_vn2"
   ]
  },
  {
   "cell_type": "code",
   "execution_count": 59,
   "id": "fbb1ac01-9c5f-4910-97d5-610ed2615aac",
   "metadata": {},
   "outputs": [
    {
     "name": "stdout",
     "output_type": "stream",
     "text": [
      "'NoneType' object has no attribute 'text'\n"
     ]
    },
    {
     "data": {
      "text/plain": [
       "('', '', '')"
      ]
     },
     "execution_count": 59,
     "metadata": {},
     "output_type": "execute_result"
    }
   ],
   "source": [
    "get_post('https://www.24h.com.vn/cong-nghe-thong-tin/apple-gay-soc-sap-cho-nguoi-dung-android-giao-tiep-voi-imessage-c55a1519650.html')"
   ]
  },
  {
   "cell_type": "code",
   "execution_count": 52,
   "id": "233aeaa7-85d2-4d60-92b2-b8b2bed49bd9",
   "metadata": {},
   "outputs": [],
   "source": [
    "response = requests.get('https://www.24h.com.vn/cong-nghe-thong-tin/apple-gay-soc-sap-cho-nguoi-dung-android-giao-tiep-voi-imessage-c55a1519650.html')\n",
    "time.sleep(3)\n",
    "soup = BeautifulSoup(response.content, 'html5lib')\n",
    "#content = get_content(soup)\n",
    "post_time = soup.find('time').text.strip()\n",
    "title = soup.find('h1').text.strip()\n",
    "h2 = soup.find('h2').text.strip()        "
   ]
  },
  {
   "cell_type": "code",
   "execution_count": 53,
   "id": "0d7c9b08-d9dd-4d7f-afc7-ddf98df78031",
   "metadata": {},
   "outputs": [
    {
     "data": {
      "text/plain": [
       "'Thứ Sáu, ngày 17/11/2023 15:16 PM (GMT+7)'"
      ]
     },
     "execution_count": 53,
     "metadata": {},
     "output_type": "execute_result"
    }
   ],
   "source": [
    "post_time"
   ]
  },
  {
   "cell_type": "code",
   "execution_count": 47,
   "id": "3eb16589-e70e-40eb-970e-351498bcb349",
   "metadata": {},
   "outputs": [
    {
     "name": "stdout",
     "output_type": "stream",
     "text": [
      "'NoneType' object has no attribute 'text'\n",
      "tech 1 57 Phần mềm Phần mềm  https://www.24h.com.vn/cong-nghe-thong-tin/apple-gay-soc-sap-cho-nguoi-dung-android-giao-tiep-voi-imessage-c55a1519650.html\n"
     ]
    }
   ],
   "source": [
    "add_post(web_24h_com_vn2)"
   ]
  },
  {
   "cell_type": "code",
   "execution_count": 7,
   "id": "7030e223-eaa1-4986-955e-abb772119e74",
   "metadata": {},
   "outputs": [
    {
     "data": {
      "text/plain": [
       "{'name': 'Game', 'url': 'https://www.24h.com.vn/game-c69.html'}"
      ]
     },
     "execution_count": 7,
     "metadata": {},
     "output_type": "execute_result"
    }
   ],
   "source": [
    "web_24h_com_vn['urls']['tech']['sub-category'][0]"
   ]
  },
  {
   "cell_type": "code",
   "execution_count": 3,
   "id": "fa009ae2-78c1-4b95-b34b-72ac236d7949",
   "metadata": {},
   "outputs": [
    {
     "data": {
      "text/plain": [
       "dict_keys(['tech', 'youths', 'showbiz', 'cars'])"
      ]
     },
     "execution_count": 3,
     "metadata": {},
     "output_type": "execute_result"
    }
   ],
   "source": [
    "web_24h_com_vn['urls'].keys()"
   ]
  },
  {
   "cell_type": "code",
   "execution_count": 24,
   "id": "a0a002a3-8b9f-480b-9bd2-52eb73821d91",
   "metadata": {},
   "outputs": [
    {
     "name": "stdout",
     "output_type": "stream",
     "text": [
      "https://www.24h.com.vn/cong-nghe-thong-tin/apple-gay-soc-sap-cho-nguoi-dung-android-giao-tiep-voi-imessage-c55a1519650.html\n"
     ]
    },
    {
     "ename": "NameError",
     "evalue": "name 'soup' is not defined",
     "output_type": "error",
     "traceback": [
      "\u001b[1;31m---------------------------------------------------------------------------\u001b[0m",
      "\u001b[1;31mNameError\u001b[0m                                 Traceback (most recent call last)",
      "Cell \u001b[1;32mIn[24], line 1\u001b[0m\n\u001b[1;32m----> 1\u001b[0m main()\n",
      "Cell \u001b[1;32mIn[23], line 25\u001b[0m, in \u001b[0;36mmain\u001b[1;34m()\u001b[0m\n\u001b[0;32m     20\u001b[0m \u001b[38;5;250m\u001b[39m\u001b[38;5;124;03m'''def new_F():\u001b[39;00m\n\u001b[0;32m     21\u001b[0m \u001b[38;5;124;03m   _24h_com_vn['haha'] = {}\u001b[39;00m\n\u001b[0;32m     22\u001b[0m \u001b[38;5;124;03m   _24h_com_vn['haha'][0] = _24h_com_vn['urls']['tech']['url']\u001b[39;00m\n\u001b[0;32m     23\u001b[0m \u001b[38;5;124;03mnew_F()'''\u001b[39;00m\n\u001b[0;32m     24\u001b[0m add_list(web_24h_com_vn)\n\u001b[1;32m---> 25\u001b[0m add_post(web_24h_com_vn)\n\u001b[0;32m     26\u001b[0m \u001b[38;5;28;01mreturn\u001b[39;00m web_24h_com_vn\n",
      "Cell \u001b[1;32mIn[22], line 129\u001b[0m, in \u001b[0;36madd_post\u001b[1;34m(web_24h_com_vn)\u001b[0m\n\u001b[0;32m    127\u001b[0m list_key \u001b[38;5;241m=\u001b[39m [v \u001b[38;5;28;01mfor\u001b[39;00m v \u001b[38;5;129;01min\u001b[39;00m \u001b[38;5;28mrange\u001b[39m(\u001b[38;5;241m0\u001b[39m,\u001b[38;5;28mlen\u001b[39m(web_24h_com_vn[\u001b[38;5;124m'\u001b[39m\u001b[38;5;124murls\u001b[39m\u001b[38;5;124m'\u001b[39m][i][\u001b[38;5;124m'\u001b[39m\u001b[38;5;124msub-category\u001b[39m\u001b[38;5;124m'\u001b[39m][j][\u001b[38;5;124m'\u001b[39m\u001b[38;5;124murl_list\u001b[39m\u001b[38;5;124m'\u001b[39m]))]\n\u001b[0;32m    128\u001b[0m \u001b[38;5;28;01mfor\u001b[39;00m u \u001b[38;5;129;01min\u001b[39;00m list_key:\n\u001b[1;32m--> 129\u001b[0m     web_24h_com_vn[\u001b[38;5;124m'\u001b[39m\u001b[38;5;124murls\u001b[39m\u001b[38;5;124m'\u001b[39m][i][\u001b[38;5;124m'\u001b[39m\u001b[38;5;124msub-category\u001b[39m\u001b[38;5;124m'\u001b[39m][j][\u001b[38;5;124m'\u001b[39m\u001b[38;5;124mcontent\u001b[39m\u001b[38;5;124m'\u001b[39m][u][\u001b[38;5;124m'\u001b[39m\u001b[38;5;124mtext\u001b[39m\u001b[38;5;124m'\u001b[39m],web_24h_com_vn[\u001b[38;5;124m'\u001b[39m\u001b[38;5;124murls\u001b[39m\u001b[38;5;124m'\u001b[39m][i][\u001b[38;5;124m'\u001b[39m\u001b[38;5;124msub-category\u001b[39m\u001b[38;5;124m'\u001b[39m][j][\u001b[38;5;124m'\u001b[39m\u001b[38;5;124mcontent\u001b[39m\u001b[38;5;124m'\u001b[39m][u][\u001b[38;5;124m'\u001b[39m\u001b[38;5;124mtitle\u001b[39m\u001b[38;5;124m'\u001b[39m],web_24h_com_vn[\u001b[38;5;124m'\u001b[39m\u001b[38;5;124murls\u001b[39m\u001b[38;5;124m'\u001b[39m][i][\u001b[38;5;124m'\u001b[39m\u001b[38;5;124msub-category\u001b[39m\u001b[38;5;124m'\u001b[39m][j][\u001b[38;5;124m'\u001b[39m\u001b[38;5;124mcontent\u001b[39m\u001b[38;5;124m'\u001b[39m][u][\u001b[38;5;124m'\u001b[39m\u001b[38;5;124mpublished_date\u001b[39m\u001b[38;5;124m'\u001b[39m] \u001b[38;5;241m=\u001b[39m get_post(web_24h_com_vn[\u001b[38;5;124m'\u001b[39m\u001b[38;5;124murls\u001b[39m\u001b[38;5;124m'\u001b[39m][i][\u001b[38;5;124m'\u001b[39m\u001b[38;5;124msub-category\u001b[39m\u001b[38;5;124m'\u001b[39m][j][\u001b[38;5;124m'\u001b[39m\u001b[38;5;124murl_list\u001b[39m\u001b[38;5;124m'\u001b[39m][u])\n\u001b[0;32m    130\u001b[0m     \u001b[38;5;28mprint\u001b[39m(i,j,web_24h_com_vn[\u001b[38;5;124m'\u001b[39m\u001b[38;5;124murls\u001b[39m\u001b[38;5;124m'\u001b[39m][i][\u001b[38;5;124m'\u001b[39m\u001b[38;5;124mcate_id\u001b[39m\u001b[38;5;124m'\u001b[39m],web_24h_com_vn[\u001b[38;5;124m'\u001b[39m\u001b[38;5;124murls\u001b[39m\u001b[38;5;124m'\u001b[39m][i][\u001b[38;5;124m'\u001b[39m\u001b[38;5;124msub-category\u001b[39m\u001b[38;5;124m'\u001b[39m][j][\u001b[38;5;124m'\u001b[39m\u001b[38;5;124mname\u001b[39m\u001b[38;5;124m'\u001b[39m],web_24h_com_vn[\u001b[38;5;124m'\u001b[39m\u001b[38;5;124murls\u001b[39m\u001b[38;5;124m'\u001b[39m][i][\u001b[38;5;124m'\u001b[39m\u001b[38;5;124msub-category\u001b[39m\u001b[38;5;124m'\u001b[39m][j][\u001b[38;5;124m'\u001b[39m\u001b[38;5;124mname\u001b[39m\u001b[38;5;124m'\u001b[39m],web_24h_com_vn[\u001b[38;5;124m'\u001b[39m\u001b[38;5;124murls\u001b[39m\u001b[38;5;124m'\u001b[39m][i][\u001b[38;5;124m'\u001b[39m\u001b[38;5;124msub-category\u001b[39m\u001b[38;5;124m'\u001b[39m][j][\u001b[38;5;124m'\u001b[39m\u001b[38;5;124mcontent\u001b[39m\u001b[38;5;124m'\u001b[39m][u][\u001b[38;5;124m'\u001b[39m\u001b[38;5;124mtitle\u001b[39m\u001b[38;5;124m'\u001b[39m],web_24h_com_vn[\u001b[38;5;124m'\u001b[39m\u001b[38;5;124murls\u001b[39m\u001b[38;5;124m'\u001b[39m][i][\u001b[38;5;124m'\u001b[39m\u001b[38;5;124msub-category\u001b[39m\u001b[38;5;124m'\u001b[39m][j][\u001b[38;5;124m'\u001b[39m\u001b[38;5;124murl_list\u001b[39m\u001b[38;5;124m'\u001b[39m][u])\n",
      "Cell \u001b[1;32mIn[22], line 48\u001b[0m, in \u001b[0;36mget_post\u001b[1;34m(url)\u001b[0m\n\u001b[0;32m     46\u001b[0m time\u001b[38;5;241m.\u001b[39msleep(\u001b[38;5;241m3\u001b[39m)\n\u001b[0;32m     47\u001b[0m soup \u001b[38;5;241m=\u001b[39m BeautifulSoup(response\u001b[38;5;241m.\u001b[39mcontent, \u001b[38;5;124m'\u001b[39m\u001b[38;5;124mhtml5lib\u001b[39m\u001b[38;5;124m'\u001b[39m)\n\u001b[1;32m---> 48\u001b[0m content \u001b[38;5;241m=\u001b[39m get_content()\n\u001b[0;32m     49\u001b[0m post_time \u001b[38;5;241m=\u001b[39m soup\u001b[38;5;241m.\u001b[39mfind(\u001b[38;5;124m'\u001b[39m\u001b[38;5;124mtime\u001b[39m\u001b[38;5;124m'\u001b[39m)\u001b[38;5;241m.\u001b[39mtext\u001b[38;5;241m.\u001b[39mstrip()\n\u001b[0;32m     50\u001b[0m title \u001b[38;5;241m=\u001b[39m soup\u001b[38;5;241m.\u001b[39mfind(\u001b[38;5;124m'\u001b[39m\u001b[38;5;124mh1\u001b[39m\u001b[38;5;124m'\u001b[39m)\u001b[38;5;241m.\u001b[39mtext\u001b[38;5;241m.\u001b[39mstrip()\n",
      "Cell \u001b[1;32mIn[22], line 2\u001b[0m, in \u001b[0;36mget_content\u001b[1;34m()\u001b[0m\n\u001b[0;32m      1\u001b[0m \u001b[38;5;28;01mdef\u001b[39;00m \u001b[38;5;21mget_content\u001b[39m():\n\u001b[1;32m----> 2\u001b[0m     article \u001b[38;5;241m=\u001b[39m soup\u001b[38;5;241m.\u001b[39mfind(\u001b[38;5;124m'\u001b[39m\u001b[38;5;124marticle\u001b[39m\u001b[38;5;124m'\u001b[39m, class_ \u001b[38;5;241m=\u001b[39m \u001b[38;5;124m'\u001b[39m\u001b[38;5;124mcate-24h-foot-arti-deta-info\u001b[39m\u001b[38;5;124m'\u001b[39m)\u001b[38;5;241m.\u001b[39mfind_all(\u001b[38;5;124m'\u001b[39m\u001b[38;5;124mp\u001b[39m\u001b[38;5;124m'\u001b[39m)\n\u001b[0;32m      3\u001b[0m     h2 \u001b[38;5;241m=\u001b[39m soup\u001b[38;5;241m.\u001b[39mfind(\u001b[38;5;124m'\u001b[39m\u001b[38;5;124marticle\u001b[39m\u001b[38;5;124m'\u001b[39m, class_ \u001b[38;5;241m=\u001b[39m \u001b[38;5;124m'\u001b[39m\u001b[38;5;124mcate-24h-foot-arti-deta-info\u001b[39m\u001b[38;5;124m'\u001b[39m)\u001b[38;5;241m.\u001b[39mfind(\u001b[38;5;124m'\u001b[39m\u001b[38;5;124mh2\u001b[39m\u001b[38;5;124m'\u001b[39m)\n\u001b[0;32m      4\u001b[0m     \u001b[38;5;28;01mfor\u001b[39;00m child \u001b[38;5;129;01min\u001b[39;00m article[:\u001b[38;5;241m-\u001b[39m\u001b[38;5;241m4\u001b[39m]:\n",
      "\u001b[1;31mNameError\u001b[0m: name 'soup' is not defined"
     ]
    }
   ],
   "source": []
  },
  {
   "cell_type": "code",
   "execution_count": null,
   "id": "a3bc396f-66b6-4d0f-a36b-ef8b7267d729",
   "metadata": {},
   "outputs": [],
   "source": []
  }
 ],
 "metadata": {
  "kernelspec": {
   "display_name": "Python 3 (ipykernel)",
   "language": "python",
   "name": "python3"
  },
  "language_info": {
   "codemirror_mode": {
    "name": "ipython",
    "version": 3
   },
   "file_extension": ".py",
   "mimetype": "text/x-python",
   "name": "python",
   "nbconvert_exporter": "python",
   "pygments_lexer": "ipython3",
   "version": "3.11.5"
  }
 },
 "nbformat": 4,
 "nbformat_minor": 5
}
