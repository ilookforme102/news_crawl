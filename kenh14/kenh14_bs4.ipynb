{
 "cells": [
  {
   "cell_type": "code",
   "execution_count": 6,
   "id": "485eccd1-e8b5-412b-a558-7882e9507430",
   "metadata": {},
   "outputs": [],
   "source": [
    "import requests \n",
    "import time\n",
    "import re\n",
    "from datetime import datetime\n",
    "from bs4 import BeautifulSoup,NavigableString"
   ]
  },
  {
   "cell_type": "code",
   "execution_count": 35,
   "id": "b893ab98-d00e-4978-8682-61aad3bebfc8",
   "metadata": {},
   "outputs": [],
   "source": [
    "import requests \n",
    "import time\n",
    "import re\n",
    "from datetime import datetime\n",
    "from bs4 import BeautifulSoup,NavigableString\n",
    "\n",
    "def convert_string(input_str):\n",
    "    # Extract the date part using regular expression\n",
    "    pattern = r'\\d{2}/\\d{2}/\\d{4}'\n",
    "    date_part = re.search(pattern, input_str).group()\n",
    "    match = re.search(pattern, input_str)\n",
    "    if match:\n",
    "        # Parse the date string into a datetime object\n",
    "        date_obj = datetime.strptime(date_part, '%d/%m/%Y')\n",
    "        formatted_date = date_obj.strftime('%Y-%m-%d')\n",
    "        return formatted_date\n",
    "    else:\n",
    "        return \"\"\n",
    "# return the expected content in html format\n",
    "def get_content_kenh14(url):\n",
    "    response = requests.get(url)\n",
    "    soup = BeautifulSoup(response.content, 'html.parser')\n",
    "    article =  soup.find('div', class_ = \"knc-content\")\n",
    "    h2_tag =  soup.find('h2', class_ = 'knc-sapo')\n",
    "    article.insert(0, h2_tag)\n",
    "    caption_text_list =article.find_all( class_=\"PhotoCMS_Caption\")\n",
    "    post_time = soup.find('span', class_ = 'kbwcm-time').text.strip()\n",
    "    published_date = convert_string(post_time)\n",
    "    title = soup.find('h1').text.strip()\n",
    "    for caption in caption_text_list:\n",
    "        img_container = caption.previous_sibling\n",
    "        img = img_container.find('img')\n",
    "        img['src'] = img['data-original']\n",
    "        img\n",
    "        caption_start = NavigableString(\"[caption id=\\\"\\\" align=\\\"aligncenter\\\" width=\\\"800\\\"]\")\n",
    "        try:\n",
    "            caption_text = NavigableString(caption.find('p').text.strip())\n",
    "        except (IndexError, AttributeError):\n",
    "            caption_text = ''\n",
    "        caption_end = NavigableString(\"[/caption]\")\n",
    "        img.insert_before(caption_start)\n",
    "        img.insert_after(caption_end)\n",
    "        img.insert_after(caption_text)\n",
    "        caption.decompose()\n",
    "    for script_or_style in article(['script', 'style']):\n",
    "            script_or_style.decompose() \n",
    "    for i in article.find_all(recursive = True):\n",
    "        try:\n",
    "            del i['onclick']\n",
    "            del i['id']\n",
    "            del i['class']\n",
    "            del i['style']\n",
    "        except AttributeError:\n",
    "            continue\n",
    "        except TypeError:\n",
    "            continue            \n",
    "    tags_to_remove = article.find_all(['a', 'span'])\n",
    "    for tag in tags_to_remove:\n",
    "        # Extract the text from the tag\n",
    "        tag_text = tag.get_text()\n",
    "            # Replace the tag with its text content\n",
    "        tag.replace_with(tag_text)\n",
    "        tag.text.strip() \n",
    "    for i in article.find_all('img'):\n",
    "        i['class'] = \"aligncenter\"\n",
    "        i['width'] = 800\n",
    "        i['height'] = 400\n",
    "    source_tag = soup.new_tag('i') \n",
    "    source_tag.string = \"Nguồn: kenh14.vn\"  # Set the content of <i> tag\n",
    "    # Append the <i> tag as the last child of the <article> tag\n",
    "    article.append(source_tag)\n",
    "    for i in article.find_all('div', {'align': 'center'}):\n",
    "        i.decompose()\n",
    "    for element in article.find_all(recursive = True,string=True):\n",
    "        if isinstance(element, NavigableString) and element.strip() == '':\n",
    "            element.extract()\n",
    "    #remove element withou child element or have children element which is empty\n",
    "    for i in article.find_all(recursive = True):\n",
    "        if i.children == None and i.string == None:\n",
    "            i.decompose()\n",
    "    for i in article.find_all(recursive = True):\n",
    "        try:\n",
    "            i.text.trip()\n",
    "        except AttributeError as e:\n",
    "            continue\n",
    "    return article, title, published_date \n",
    "def get_post(url):\n",
    "    try:\n",
    "        content,title,published_date = get_content_kenh14(url)\n",
    "        return content,title,published_date\n",
    "    except AttributeError as e:\n",
    "        print(e)\n",
    "def convert_time_string(posted_date):\n",
    "    pattern = r'\\d{2}/\\d{2}/\\d{4}'\n",
    "    match = re.search(pattern, posted_date)\n",
    "\n",
    "    if match:\n",
    "        date_string = match.group()\n",
    "\n",
    "        # Convert to datetime object\n",
    "        datetime_obj = datetime.strptime(date_string, \"%d/%m/%Y\")\n",
    "        return datetime_obj\n",
    "    else:\n",
    "        return ''\n",
    "def get_list_url(cate_url):\n",
    "    response = requests.get(cate_url)\n",
    "    soup = BeautifulSoup(response.content, 'html.parser')\n",
    "    list_url = soup.find_all('h3', class_ = \"knswli-title\")\n",
    "    list = []\n",
    "    for i in list_url:\n",
    "        try:\n",
    "            path = i.find('a')['href']\n",
    "            url = 'https://kenh14.vn'+ path\n",
    "            list.append(url)\n",
    "        except TypeError:\n",
    "            continue\n",
    "    return list\n",
    "def filter_list(urls):\n",
    "    filtered_urls = []\n",
    "    crawl_time = datetime.fromtimestamp(time.time() -3*24*3600)\n",
    "    for i in urls:\n",
    "        response = requests.get(i)\n",
    "        soup = BeautifulSoup(response.content, 'html5lib')\n",
    "        try:\n",
    "            date_posted = soup.find('span', class_ = 'kbwcm-time').text.strip()\n",
    "            date_posted_norm = convert_time_string(date_posted)\n",
    "            if ( (date_posted_norm.day == crawl_time.day) and (date_posted_norm.month == crawl_time.month) and (date_posted_norm.year == crawl_time.year) ):\n",
    "                filtered_urls.append(i)\n",
    "                print(i)\n",
    "        except AttributeError as e:\n",
    "            print(e)\n",
    "            continue\n",
    "    return filtered_urls\n",
    "def add_list(web_json_obj):\n",
    "    for i in list(web_json_obj['urls'].keys()):\n",
    "        for j in list(web_json_obj['urls'][i]['sub-category'].keys()):  \n",
    "            urls = get_list_url(web_json_obj['urls'][i]['sub-category'][j]['url'])\n",
    "            print(i,j,web_json_obj['urls'][i]['sub-category'][j]['url'])\n",
    "            web_json_obj['urls'][i]['sub-category'][j]['url_list'] = filter_list(urls)\n",
    "# add post content from get content function to json object\n",
    "def add_post(web_json_obj):\n",
    "    for i in list(web_json_obj['urls'].keys()):\n",
    "        for j in list(web_json_obj['urls'][i]['sub-category'].keys()):\n",
    "            web_json_obj['urls'][i]['sub-category'][j]['content'] = {}\n",
    "            list_key = [v for v in range(0,len(web_json_obj['urls'][i]['sub-category'][j]['url_list']))]\n",
    "            for u in list_key:\n",
    "                web_json_obj['urls'][i]['sub-category'][j]['content'][u] = {}\n",
    "                if u != \"\":\n",
    "                    web_json_obj['urls'][i]['sub-category'][j]['content'][u]['text'] ,web_json_obj['urls'][i]['sub-category'][j]['content'][u]['title'],web_json_obj['urls'][i]['sub-category'][j]['content'][u]['published_date'] = get_post(web_json_obj['urls'][i]['sub-category'][j]['url_list'][u])\n",
    "                    print(i,j,web_json_obj['urls'][i]['sub-category'][j]['cate_id'],web_json_obj['urls'][i]['sub-category'][j]['name'],web_json_obj['urls'][i]['sub-category'][j]['name'],web_json_obj['urls'][i]['sub-category'][j]['content'][u]['title'],web_json_obj['urls'][i]['sub-category'][j]['url_list'][u])\n",
    "#add all necessary information to json object\n",
    "def get_news_kenh14():\n",
    "    _kenh14 = {\n",
    "            \"home_page\":\"https://kenh14.vn/\",\n",
    "            \"urls\":{\n",
    "                \"sport\":\n",
    "                {\n",
    "                 \"url\":\"https://kenh14.vn/sport.chn\",\n",
    "                 \"sub-category\":{  \n",
    "                    0:{\"name\":\"Hậu trường\",\n",
    "                     \"url\":\"https://kenh14.vn/sport/hau-truong.chn\",\n",
    "                     \"cate_id\":38,\n",
    "                      \"url_list\" : []},\n",
    "                    1:{\"name\":\"Esports\",\n",
    "                     \"url\":\"https://kenh14.vn/sport/esports.chn\",\n",
    "                     \"cate_id\":61,\n",
    "                      \"url_list\" : []}\n",
    "                 }\n",
    "                }\n",
    "            }\n",
    "        }\n",
    "#\n",
    "    add_list(_kenh14)\n",
    "    add_post(_kenh14)\n",
    "    return _kenh14\n",
    "def send_post_to_5goals(title,content,category_id,published_date):\n",
    "    # URL of the API endpoint (this is a placeholder and needs to be replaced with the actual URL)\n",
    "    url = \"https://api2023.5goal.com/wp-json/custom/createPost\"\n",
    "    \n",
    "    # Data to be sent in the POST request\n",
    "    data = {\n",
    "        \"title\": title,\n",
    "        \"content\": content,\n",
    "        \"category_id\": category_id,\n",
    "        \"token\": 'draftpost',#'5goalvodichcmnl',  # Replace with your actual access token\n",
    "        \"published_date\": published_date,\n",
    "        \"domain\":\"kenh14\"\n",
    "          # Replace with the actual category ID as required\n",
    "    }\n",
    "    \n",
    "    # Sending the POST request\n",
    "    response = requests.post(url, data=data)\n",
    "    \n",
    "    # Checking the response\n",
    "    if response.status_code == 200:\n",
    "        print(\"The post was successfully created.\")\n",
    "        print(\"Response:\", response.text)  # Prints the response text from the server\n",
    "    else:\n",
    "        print(f\"Failed to create the post. Status code: {response.status_code}\")\n",
    "def main():\n",
    "    _kenh14 = get_news_kenh14()\n",
    "    for i in list(_kenh14['urls'].keys()):\n",
    "    #web_24h_com_vn2['url'][i]['cate_id']\n",
    "        for j in list(_kenh14['urls'][i]['sub-category'].keys()):\n",
    "            url_list =  _kenh14['urls'][i]['sub-category'][j]['url_list']\n",
    "            for t in range(0,len(url_list)):\n",
    "                content = _kenh14['urls'][i]['sub-category'][j]['content'][t]['text']\n",
    "                title = _kenh14['urls'][i]['sub-category'][j]['content'][t]['title']\n",
    "                published_date = _kenh14['urls'][i]['sub-category'][j]['content'][t]['published_date']\n",
    "                cate_id = _kenh14['urls'][i]['sub-category'][j]['cate_id']\n",
    "                send_post_to_5goals(title,str(content), cate_id, published_date)\n",
    "                time.sleep(5)\n",
    "    \n"
   ]
  },
  {
   "cell_type": "code",
   "execution_count": 36,
   "id": "e0094a2e-3b61-49dd-b352-38faa8b41bce",
   "metadata": {},
   "outputs": [
    {
     "name": "stdout",
     "output_type": "stream",
     "text": [
      "sport 0 https://kenh14.vn/sport/hau-truong.chn\n",
      "https://kenh14.vn/diem-chung-trong-cong-thuc-kiem-tien-cua-doan-hai-my-va-mai-ha-trang-lay-chong-cau-thu-noi-tieng-nhan-quang-cao-20231208160640468.chn\n",
      "https://kenh14.vn/tranh-cai-chuyen-doan-van-hau-nhan-tin-lam-quen-doan-hai-my-khi-van-con-hen-ho-ban-gai-cu-20231208105938411.chn\n",
      "sport 1 https://kenh14.vn/sport/esports.chn\n",
      "https://kenh14.vn/khau-chien-voi-doi-thu-cuu-vo-dich-cktg-quyet-tuyet-tinh-luon-voi-lmht-bang-hanh-dong-tan-nhan-20231208111332979.chn\n",
      "sport 0 38 Hậu trường Hậu trường Điểm chung trong công thức kiếm tiền của Doãn Hải My và Mai Hà Trang: Lấy chồng cầu thủ nổi tiếng, nhận quảng cáo https://kenh14.vn/diem-chung-trong-cong-thuc-kiem-tien-cua-doan-hai-my-va-mai-ha-trang-lay-chong-cau-thu-noi-tieng-nhan-quang-cao-20231208160640468.chn\n",
      "sport 0 38 Hậu trường Hậu trường Tranh cãi chuyện Đoàn Văn Hậu nhắn tin làm quen Doãn Hải My khi vẫn còn hẹn hò bạn gái cũ https://kenh14.vn/tranh-cai-chuyen-doan-van-hau-nhan-tin-lam-quen-doan-hai-my-khi-van-con-hen-ho-ban-gai-cu-20231208105938411.chn\n",
      "sport 1 61 Esports Esports Khẩu chiến với đối thủ, cựu vô địch CKTG quyết tuyệt tình luôn với LMHT bằng hành động tàn nhẫn https://kenh14.vn/khau-chien-voi-doi-thu-cuu-vo-dich-cktg-quyet-tuyet-tinh-luon-voi-lmht-bang-hanh-dong-tan-nhan-20231208111332979.chn\n",
      "The post was successfully created.\n",
      "Response: {\"success\":true,\"post_id\":68856}\n",
      "The post was successfully created.\n",
      "Response: {\"success\":true,\"post_id\":68857}\n",
      "The post was successfully created.\n",
      "Response: {\"success\":true,\"post_id\":68858}\n"
     ]
    }
   ],
   "source": [
    "main()"
   ]
  },
  {
   "cell_type": "code",
   "execution_count": 26,
   "id": "e3ad0107-9185-4f24-a673-ba35878b6d0e",
   "metadata": {
    "scrolled": true
   },
   "outputs": [
    {
     "name": "stdout",
     "output_type": "stream",
     "text": [
      "sport 0 https://kenh14.vn/sport/hau-truong.chn\n",
      "https://kenh14.vn/thanh-chung-chup-trom-vo-mat-moc-mai-me-lam-cay-thong-noel-luc-nua-dem-nhan-sac-van-phai-cham-10-diem-20231209170547175.chn\n",
      "https://kenh14.vn/me-vo-khang-dinh-doan-van-hau-may-man-moi-duoc-vao-nha-doan-hai-my-thai-do-cung-ran-voi-chang-re-qua-hai-chi-tiet-20231209084221904.chn\n",
      "https://kenh14.vn/nguyen-van-toan-chu-tich-tuoi-25-thu-nhap-cao-nhat-nhi-lang-bong-da-nhung-van-tran-tro-vi-thieu-dieu-nay-20231209113138824.chn\n",
      "https://kenh14.vn/doan-hai-my-tong-ket-tuan-trang-mat-tai-singapore-voi-doan-van-hau-chi-bang-mot-tam-anh-20231209084502849.chn\n",
      "https://kenh14.vn/doan-van-hau-ke-ve-lan-dau-to-tinh-voi-hai-my-nhung-cang-noi-cang-sai-voi-ban-gai-cu-20231209074638014.chn\n",
      "sport 1 https://kenh14.vn/sport/esports.chn\n",
      "sport 0 38 Hậu trường Hậu trường Thành Chung chụp trộm vợ mặt mộc mải mê làm cây thông noel lúc nửa đêm, nhan sắc vẫn phải chấm 10 điểm https://kenh14.vn/thanh-chung-chup-trom-vo-mat-moc-mai-me-lam-cay-thong-noel-luc-nua-dem-nhan-sac-van-phai-cham-10-diem-20231209170547175.chn\n",
      "sport 0 38 Hậu trường Hậu trường Mẹ vợ khẳng định Đoàn Văn Hậu may mắn mới được vào nhà Doãn Hải My, thái độ cứng rắn với chàng rể qua hai chi tiết https://kenh14.vn/me-vo-khang-dinh-doan-van-hau-may-man-moi-duoc-vao-nha-doan-hai-my-thai-do-cung-ran-voi-chang-re-qua-hai-chi-tiet-20231209084221904.chn\n",
      "sport 0 38 Hậu trường Hậu trường Nguyễn Văn Toàn: Chủ tịch tuổi 25, thu nhập cao nhất nhì làng bóng đá nhưng vẫn trăn trở vì thiếu điều này https://kenh14.vn/nguyen-van-toan-chu-tich-tuoi-25-thu-nhap-cao-nhat-nhi-lang-bong-da-nhung-van-tran-tro-vi-thieu-dieu-nay-20231209113138824.chn\n",
      "sport 0 38 Hậu trường Hậu trường Doãn Hải My tổng kết tuần trăng mật tại Singapore với Đoàn Văn Hậu chỉ bằng một tấm ảnh https://kenh14.vn/doan-hai-my-tong-ket-tuan-trang-mat-tai-singapore-voi-doan-van-hau-chi-bang-mot-tam-anh-20231209084502849.chn\n",
      "sport 0 38 Hậu trường Hậu trường Đoàn Văn Hậu kể về lần đầu tỏ tình với Hải My nhưng càng nói càng sai với bạn gái cũ? https://kenh14.vn/doan-van-hau-ke-ve-lan-dau-to-tinh-voi-hai-my-nhung-cang-noi-cang-sai-voi-ban-gai-cu-20231209074638014.chn\n"
     ]
    }
   ],
   "source": [
    "_kenh14 = get_news_kenh14()"
   ]
  },
  {
   "cell_type": "code",
   "execution_count": 27,
   "id": "488a8d09-25de-4fc9-8364-d43f8597cf18",
   "metadata": {
    "scrolled": true
   },
   "outputs": [
    {
     "data": {
      "text/plain": [
       "{'home_page': 'https://kenh14.vn/',\n",
       " 'urls': {'sport': {'url': 'https://kenh14.vn/sport.chn',\n",
       "   'sub-category': {0: {'name': 'Hậu trường',\n",
       "     'url': 'https://kenh14.vn/sport/hau-truong.chn',\n",
       "     'cate_id': 38,\n",
       "     'url_list': ['https://kenh14.vn/thanh-chung-chup-trom-vo-mat-moc-mai-me-lam-cay-thong-noel-luc-nua-dem-nhan-sac-van-phai-cham-10-diem-20231209170547175.chn',\n",
       "      'https://kenh14.vn/me-vo-khang-dinh-doan-van-hau-may-man-moi-duoc-vao-nha-doan-hai-my-thai-do-cung-ran-voi-chang-re-qua-hai-chi-tiet-20231209084221904.chn',\n",
       "      'https://kenh14.vn/nguyen-van-toan-chu-tich-tuoi-25-thu-nhap-cao-nhat-nhi-lang-bong-da-nhung-van-tran-tro-vi-thieu-dieu-nay-20231209113138824.chn',\n",
       "      'https://kenh14.vn/doan-hai-my-tong-ket-tuan-trang-mat-tai-singapore-voi-doan-van-hau-chi-bang-mot-tam-anh-20231209084502849.chn',\n",
       "      'https://kenh14.vn/doan-van-hau-ke-ve-lan-dau-to-tinh-voi-hai-my-nhung-cang-noi-cang-sai-voi-ban-gai-cu-20231209074638014.chn'],\n",
       "     'content': {0: {'text': <div class=\"knc-content\"><h2>\n",
       "                                           Thành Chung chia sẻ ngủ một giấc dậy vẫn thấy vợ loay hoay làm cây thông Noel.\n",
       "                                       </h2><!-- Kham pha --><p>Giáng sinh 2023 sắp đến, hòa chung trong không khí tưng bừng đón giáng sinh, vợ của hậu vệ Nguyễn Thành Chung cũng mua sắm rất nhiều đồ để trang hoàng không gian trong nhà. Ngoài cây thông noel lớn đã hoàn thành chơi được vài ngày, Tố Uyên lại mới tự tay làm thêm một cây thông nhỏ.</p><p>Hình ảnh được hậu vệ Thành Chung chụp lại lúc nửa đêm, chàng cầu thủ chia sẻ:</p><p>\"Vâng tôi ngủ được một giấc dậy vẫn thấy cô ấy đang loay hoay với tác phẩm của mình\".</p><p>Có thể thấy Tố Uyên là một cô gái rất thích trang trí nhà cửa, làm đẹp cho tổ ấm của mình. Đặc biệt điều khiến dân tình chú ý nhất là nhan sắc của nàng WAG sinh năm 2000. Dù bị chồng chụp lén xuất hiện với gương mặt ngơ ngác nhưng nhan sắc của cô gái đến từ Tuyên Quang vẫn \"không thể đùa được\". Ngô Tố Uyên sở hữu gương mặt baby, làn da trắng mịn rất ít khuyết điểm. Dù buổi tối không trang điểm nhưng vợ của hậu vệ sinh năm 1997 vẫn rất xinh đẹp.</p><div type=\"Photo\"><div>[caption id=\"\" align=\"aligncenter\" width=\"800\"]<img alt=\"Thành Chung chụp trộm vợ mặt mộc mải mê làm cây thông noel lúc nửa đêm, nhan sắc vẫn phải chấm 10 điểm - Ảnh 1.\" class=\"aligncenter\" data-original=\"https://kenh14cdn.com/203336854389633024/2023/12/9/photo-7-1702116223947295949497.jpg\" h=\"840\" height=\"400\" photoid=\"657885912828366848\" rel=\"lightbox\" src=\"https://kenh14cdn.com/203336854389633024/2023/12/9/photo-7-1702116223947295949497.jpg\" title=\"Thành Chung chụp trộm vợ mặt mộc mải mê làm cây thông noel lúc nửa đêm, nhan sắc vẫn phải chấm 10 điểm - Ảnh 1.\" type=\"photo\" w=\"640\" width=\"800\"/>Thành Chung chụp ảnh vợ mải mê làm cây thông noel[/caption]</div></div><p>Sau đó trên trang cá nhân Tố Uyên cũng đã chia sẻ hình ảnh thành quả mà cô cặm cụi làm suốt cả đêm. Một cây thông nhỏ xinh được hoàn thành và đặt lên kệ. Trên cây còn được cô nàng treo đèn nháy lung linh.</p><div type=\"Photo\"><div>[caption id=\"\" align=\"aligncenter\" width=\"800\"]<img alt=\"Thành Chung chụp trộm vợ mặt mộc mải mê làm cây thông noel lúc nửa đêm, nhan sắc vẫn phải chấm 10 điểm - Ảnh 2.\" class=\"aligncenter\" data-original=\"https://kenh14cdn.com/203336854389633024/2023/12/9/photo-6-17021162227571132798545.jpg\" h=\"1054\" height=\"400\" photoid=\"657885907696177152\" rel=\"lightbox\" src=\"https://kenh14cdn.com/203336854389633024/2023/12/9/photo-6-17021162227571132798545.jpg\" title=\"Thành Chung chụp trộm vợ mặt mộc mải mê làm cây thông noel lúc nửa đêm, nhan sắc vẫn phải chấm 10 điểm - Ảnh 2.\" type=\"photo\" w=\"640\" width=\"800\"/>Tố Uyên chia sẻ toàn bộ quá trình làm[/caption]</div></div><div type=\"Photo\"><div>[caption id=\"\" align=\"aligncenter\" width=\"800\"]<img alt=\"Thành Chung chụp trộm vợ mặt mộc mải mê làm cây thông noel lúc nửa đêm, nhan sắc vẫn phải chấm 10 điểm - Ảnh 3.\" class=\"aligncenter\" data-original=\"https://kenh14cdn.com/203336854389633024/2023/12/9/photo-5-17021162216731642264307.jpg\" h=\"1005\" height=\"400\" photoid=\"657885903034732544\" rel=\"lightbox\" src=\"https://kenh14cdn.com/203336854389633024/2023/12/9/photo-5-17021162216731642264307.jpg\" title=\"Thành Chung chụp trộm vợ mặt mộc mải mê làm cây thông noel lúc nửa đêm, nhan sắc vẫn phải chấm 10 điểm - Ảnh 3.\" type=\"photo\" w=\"640\" width=\"800\"/>Thành quả mà vợ Thành Chung đã làm[/caption]</div></div><div type=\"Photo\"><div>[caption id=\"\" align=\"aligncenter\" width=\"800\"]<img alt=\"Thành Chung chụp trộm vợ mặt mộc mải mê làm cây thông noel lúc nửa đêm, nhan sắc vẫn phải chấm 10 điểm - Ảnh 4.\" class=\"aligncenter\" data-original=\"https://kenh14cdn.com/203336854389633024/2023/12/9/photo-4-17021162204311643984345.jpg\" h=\"541\" height=\"400\" photoid=\"657885898788257792\" rel=\"lightbox\" src=\"https://kenh14cdn.com/203336854389633024/2023/12/9/photo-4-17021162204311643984345.jpg\" title=\"Thành Chung chụp trộm vợ mặt mộc mải mê làm cây thông noel lúc nửa đêm, nhan sắc vẫn phải chấm 10 điểm - Ảnh 4.\" type=\"photo\" w=\"640\" width=\"800\"/>Cây thông đặt ở phòng khách được Tố Uyên làm trước đó[/caption]</div></div><p>Thành Chung và bà xã Tố Uyên là một trong những cặp đôi đình đám của làng bóng đá được nhiều người yêu mến. Tháng 9/2022, cặp vợ chồng trẻ hạnh phúc chào đón con trai đầu lòng. Cuộc sống hôn nhân của cặp đôi này không ồn ào, ngoài thời gian tập luyện và thi đấu Thành Chung thường xuyên cùng vợ và con trai đi du lịch.</p><div type=\"Photo\"><div>[caption id=\"\" align=\"aligncenter\" width=\"800\"]<img alt=\"Thành Chung chụp trộm vợ mặt mộc mải mê làm cây thông noel lúc nửa đêm, nhan sắc vẫn phải chấm 10 điểm - Ảnh 5.\" class=\"aligncenter\" data-original=\"https://kenh14cdn.com/203336854389633024/2023/12/9/photo-3-17021162192811073285683.jpg\" h=\"930\" height=\"400\" photoid=\"657885892921503744\" rel=\"lightbox\" src=\"https://kenh14cdn.com/203336854389633024/2023/12/9/photo-3-17021162192811073285683.jpg\" title=\"Thành Chung chụp trộm vợ mặt mộc mải mê làm cây thông noel lúc nửa đêm, nhan sắc vẫn phải chấm 10 điểm - Ảnh 5.\" type=\"photo\" w=\"640\" width=\"800\"/>Gia đình của Thành Chung - Tố Uyên[/caption]</div></div><div type=\"Photo\"><div>[caption id=\"\" align=\"aligncenter\" width=\"800\"]<img alt=\"Thành Chung chụp trộm vợ mặt mộc mải mê làm cây thông noel lúc nửa đêm, nhan sắc vẫn phải chấm 10 điểm - Ảnh 6.\" class=\"aligncenter\" data-original=\"https://kenh14cdn.com/203336854389633024/2023/12/9/photo-2-17021162183161342274206.jpg\" h=\"800\" height=\"400\" photoid=\"657885888639119360\" rel=\"lightbox\" src=\"https://kenh14cdn.com/203336854389633024/2023/12/9/photo-2-17021162183161342274206.jpg\" title=\"Thành Chung chụp trộm vợ mặt mộc mải mê làm cây thông noel lúc nửa đêm, nhan sắc vẫn phải chấm 10 điểm - Ảnh 6.\" type=\"photo\" w=\"640\" width=\"800\"/>Cặp đôi thường xuyên đi du lịch[/caption]</div></div><div type=\"Photo\"><div>[caption id=\"\" align=\"aligncenter\" width=\"800\"]<img alt=\"Thành Chung chụp trộm vợ mặt mộc mải mê làm cây thông noel lúc nửa đêm, nhan sắc vẫn phải chấm 10 điểm - Ảnh 7.\" class=\"aligncenter\" data-original=\"https://kenh14cdn.com/203336854389633024/2023/12/9/photo-1-170211621683981612166.jpg\" h=\"831\" height=\"400\" photoid=\"657885883331465216\" rel=\"lightbox\" src=\"https://kenh14cdn.com/203336854389633024/2023/12/9/photo-1-170211621683981612166.jpg\" title=\"Thành Chung chụp trộm vợ mặt mộc mải mê làm cây thông noel lúc nửa đêm, nhan sắc vẫn phải chấm 10 điểm - Ảnh 7.\" type=\"photo\" w=\"640\" width=\"800\"/>Tố Uyên và con trai đầu lòng[/caption]</div></div><i>Nguồn: kenh14.vn</i></div>,\n",
       "       'title': 'Thành Chung chụp trộm vợ mặt mộc mải mê làm cây thông noel lúc nửa đêm, nhan sắc vẫn phải chấm 10 điểm',\n",
       "       'published_date': '2023-12-09'},\n",
       "      1: {'text': <div class=\"knc-content\"><h2>\n",
       "                                           Lần đầu Đoàn Văn Hậu được phép vào nhà Doãn Hải My là khi cô nàng bị gãy chân.\n",
       "                                       </h2><!-- Kham pha --><p>Trong một phỏng vấn mới đây, cặp vợ chồng son Đoàn Văn Hậu - Doãn Hải My chia sẻ về lần đầu tiên Văn Hậu đặt chân vào nhà bố mẹ vợ. Đó là khi Doãn Hải My bị gãy chân. Trong cái rủi có cái may, đây lại là cơ hội để Văn Hậu xin phép được vào nhà của Doãn Hải My.</p><p>Doãn Hải My cho biết trước đó, khi hẹn hò, cặp đôi chỉ gặp nhau ở dưới nhà của nàng trên phố Trần Phú. Và sau tầm 15-20 phút, cô nàng sẽ bị bố mẹ gọi lên nhà. Nhưng ngày Hải My bị gãy chân, cô báo với Văn Hậu và anh chàng đã ngay lập tức chạy tới nhà bạn gái. Khi thấy người đẹp cùng bố mẹ bước xuống xe, Văn Hậu đã xin phép mẹ của Hải My được đỡ nàng lên nhà, đồng thời xin phép phụ huynh được lần đầu tiên bước chân vào nhà nàng.</p><div type=\"Photo\"><div>[caption id=\"\" align=\"aligncenter\" width=\"800\"]<img alt=\"Mẹ vợ khẳng định Đoàn Văn Hậu may mắn mới được vào nhà Doãn Hải My, thái độ cứng rắn với chàng rể qua hai chi tiết - Ảnh 1.\" class=\"aligncenter\" data-original=\"https://kenh14cdn.com/203336854389633024/2023/12/9/photo-1-17020860316211764104606.jpg\" h=\"1020\" height=\"400\" photoid=\"657759277533843456\" rel=\"lightbox\" src=\"https://kenh14cdn.com/203336854389633024/2023/12/9/photo-1-17020860316211764104606.jpg\" title=\"Mẹ vợ khẳng định Đoàn Văn Hậu may mắn mới được vào nhà Doãn Hải My, thái độ cứng rắn với chàng rể qua hai chi tiết - Ảnh 1.\" type=\"photo\" w=\"679\" width=\"800\"/>Mẹ của Doãn Hải My cho rằng Văn Hậu may mắn trong lần đầu bước chân vào nhà mình[/caption]</div></div><p><i>\"</i><em>Đến giờ mẹ em vẫn bảo, 'đấy, thằng này may, chứ không là không biết bao giờ mới được lên nhà'</em><i>\"</i>, Doãn Hải My chia sẻ góc nhìn của bà Đoàn Phương Mai về lần đầu con rể tới nhà.</p><p>Có thể thấy, để có được sự chấp thuận và ủng hộ của bố mẹ vợ, Đoàn Văn Hậu cũng đã phải trải qua thời gian thử thách. Bởi bố mẹ của Hải My khá nghiêm khắc. Điều đó được thể hiện qua việc phụ huynh không để con gái gặp bạn trai trước cửa nhà quá lâu. Hay phải đến khi Hải My gãy chân, Văn Hậu mới có cơ hội được bước chân vào nhà thăm nàng. Và sau tất cả, bằng sự chân thành, Văn Hậu nay đã chính thức trở thành con rể của bà Đoàn Phương Mai và ông Doãn Thanh Sơn.</p><i>Nguồn: kenh14.vn</i></div>,\n",
       "       'title': 'Mẹ vợ khẳng định Đoàn Văn Hậu may mắn mới được vào nhà Doãn Hải My, thái độ cứng rắn với chàng rể qua hai chi tiết',\n",
       "       'published_date': '2023-12-09'},\n",
       "      2: {'text': <div class=\"knc-content\"><h2>\n",
       "                                           Ở tuổi 27 tiền đạo Nguyễn Văn Toàn dường như đã có đầy đủ tất cả vật chất nhưng vẫn chưa tìm được nửa kia phù hợp với mình.\n",
       "                                       </h2><!-- Kham pha --><p><em> “Rao bán nhiều thì cũng hơi ngại, nhưng mà có 2 anh em chơi với nhau thế này cũng buồn lắm. Ước có chị dâu để anh tôi rủ đi chơi”</em>, em gái Nguyễn Văn Toàn chia sẻ trên trang cá nhân.</p><p>Đây cũng không phải lần đầu tiên Nguyễn Thị Nụ - em gái tiền đạo Nguyễn Văn Toàn chia sẻ về việc anh trai vẫn còn độc thân. Có lẽ khi các đồng đội như Xuân Trường, Công Phượng đều đã yên bề gia thất thì Văn Toàn cũng có phần nào sốt ruột về chuyện lập gia đình của mình. Không chỉ riêng em gái giao bán, bản thân tiền đạo sinh năm 1996 cũng tự công khai về việc mình độc thân.</p><div type=\"Photo\"><div>[caption id=\"\" align=\"aligncenter\" width=\"800\"]<img alt=\"Nguyễn Văn Toàn: Chủ tịch tuổi 25, thu nhập cao nhất nhì làng bóng đá nhưng vẫn trăn trở vì thiếu điều này - Ảnh 1.\" class=\"aligncenter\" data-original=\"https://kenh14cdn.com/203336854389633024/2023/12/9/photo-3-17020961633431148250004.jpg\" h=\"638\" height=\"400\" photoid=\"657801771497246720\" rel=\"lightbox\" src=\"https://kenh14cdn.com/203336854389633024/2023/12/9/photo-3-17020961633431148250004.jpg\" title=\"Nguyễn Văn Toàn: Chủ tịch tuổi 25, thu nhập cao nhất nhì làng bóng đá nhưng vẫn trăn trở vì thiếu điều này - Ảnh 1.\" type=\"photo\" w=\"406\" width=\"800\"/>Em gái lại rao bán Văn Toàn[/caption]</div></div><p>Kể từ khi Văn Toàn chia tay mối tình 6 năm, chuyện tình cảm của chàng tuyển thủ cũng kín tiếng hơn. Thực tế chưa có cô gái nào được đồn đoán hẹn hò với Văn Toàn. Trong một chia sẻ mới đây Văn Toàn thừa nhận rằng nếu có bạn gái hay có vợ con nỗi buồn chắc chắn sẽ vơi đi. Sau một ngày tập luyện và thi đấu mệt mỏi trở về nhà sẽ có người để chia sẻ tâm tư. Dù vậy duyên vẫn chưa đến với tiền đạo tài năng này.</p><div type=\"Photo\"><div>[caption id=\"\" align=\"aligncenter\" width=\"800\"]<img alt=\"Nguyễn Văn Toàn: Chủ tịch tuổi 25, thu nhập cao nhất nhì làng bóng đá nhưng vẫn trăn trở vì thiếu điều này - Ảnh 2.\" class=\"aligncenter\" data-original=\"https://kenh14cdn.com/203336854389633024/2023/12/9/photo-2-170209616209518274808.jpg\" h=\"510\" height=\"400\" photoid=\"657801766229983232\" rel=\"lightbox\" src=\"https://kenh14cdn.com/203336854389633024/2023/12/9/photo-2-170209616209518274808.jpg\" title=\"Nguyễn Văn Toàn: Chủ tịch tuổi 25, thu nhập cao nhất nhì làng bóng đá nhưng vẫn trăn trở vì thiếu điều này - Ảnh 2.\" type=\"photo\" w=\"680\" width=\"800\"/>Văn Toàn vẫn độc thân[/caption]</div></div><p>Văn Toàn hiện tại đang là cầu thủ có mức thu nhập thuộc top cao nhất ở Việt Nam. Rời Hàn Quốc để khoác áo CLB Nam Định nhiều thông tin khẳng định tiền đạo sinh năm nhận mức lương 100 triệu đồng/tháng cùng khoản tiền \"lót tay\" trị giá 5 tỷ đồng/năm (Văn Toàn ký 2 mùa). </p><p>Ngoài mức thu nhập ổn định với độ nổi tiếng của mình Văn Toàn còn có thêm thu nhập từ quảng cáo. Bên cạnh đó Văn Toàn đã lên chức chủ tịch một thương hiệu thời trang từ năm 25 tuổi. Văn Toàn vẫn luôn được đánh giá là một gương mặt thức thời nhất ĐT Việt Nam trong lĩnh vực này. Được biết thương hiệu thời trang của anh đã hoạt động được gần 3 năm và vẫn đang rất phát triển.</p><div type=\"Photo\"><div>[caption id=\"\" align=\"aligncenter\" width=\"800\"]<img alt=\"Nguyễn Văn Toàn: Chủ tịch tuổi 25, thu nhập cao nhất nhì làng bóng đá nhưng vẫn trăn trở vì thiếu điều này - Ảnh 3.\" class=\"aligncenter\" data-original=\"https://kenh14cdn.com/203336854389633024/2023/12/9/photo-1-1702096160751155645393.jpg\" h=\"510\" height=\"400\" photoid=\"657801760957820928\" rel=\"lightbox\" src=\"https://kenh14cdn.com/203336854389633024/2023/12/9/photo-1-1702096160751155645393.jpg\" title=\"Nguyễn Văn Toàn: Chủ tịch tuổi 25, thu nhập cao nhất nhì làng bóng đá nhưng vẫn trăn trở vì thiếu điều này - Ảnh 3.\" type=\"photo\" w=\"680\" width=\"800\"/>Văn Toàn còn có biệt danh là anh trai quốc dân vì rất chiều em gái[/caption]</div></div><p>Để chuẩn bị cho tương lai, Văn Toàn đã xây một căn nhà lớn ở quê cho gia đình có trị giá vài tỉ. Anh cũng có căn hộ riêng ở Hà Nội, nơi mà Văn Toàn thường trở về sau khi CLB Nam Định được nghỉ. Sự nghiệp đã vững vàng, giờ đây Văn Toàn chỉ đang chờ một cô gái phù hợp nhất để nên duyên.</p><i>Nguồn: kenh14.vn</i></div>,\n",
       "       'title': 'Nguyễn Văn Toàn: Chủ tịch tuổi 25, thu nhập cao nhất nhì làng bóng đá nhưng vẫn trăn trở vì thiếu điều này',\n",
       "       'published_date': '2023-12-09'},\n",
       "      3: {'text': <div class=\"knc-content\"><h2>\n",
       "                                           Trong khi Đoàn Văn Hậu \"xả ảnh\" đi chơi, Doãn Hải My tổng kết chuyến đi với một tấm ảnh mang tên \"Singapore 2023\".\n",
       "                                       </h2><!-- Kham pha --><p>Hậu vệ Đoàn Văn Hậu và vợ Doãn Hải My đã về Việt Nam sau chuyến đi hưởng \"tuần trăng mật\" kết hợp khám chấn thương của Văn Hậu tại Singapore. Tại đây Văn Hậu và vợ mới cưới thường xuyên cập nhật các khoảnh khắc đi chơi, đi ăn và mua sắm cực sang chảnh.</p><p>Kết thúc chuyến đi với chồng, Doãn Hải My đã tổng hợp toàn bộ các khoảnh khắc ghép thành một tấm ảnh lấy tựa đề là \"Singapore 2023\" và chia sẻ lên mạng xã hội. Bức ảnh này ghi lại hành trình đi chơi vui vẻ của nàng WAG và chồng cầu thủ.</p><div type=\"Photo\"><div>[caption id=\"\" align=\"aligncenter\" width=\"800\"]<img alt=\"Doãn Hải My tổng kết tuần trăng mật tại Singapore với Đoàn Văn Hậu chỉ bằng một tấm ảnh - Ảnh 1.\" class=\"aligncenter\" data-original=\"https://kenh14cdn.com/203336854389633024/2023/12/9/photo-6-17020861727041364530916.jpg\" h=\"1162\" height=\"400\" photoid=\"657759868391997440\" rel=\"lightbox\" src=\"https://kenh14cdn.com/203336854389633024/2023/12/9/photo-6-17020861727041364530916.jpg\" title=\"Doãn Hải My tổng kết tuần trăng mật tại Singapore với Đoàn Văn Hậu chỉ bằng một tấm ảnh - Ảnh 1.\" type=\"photo\" w=\"679\" width=\"800\"/>Doãn Hải My đăng ảnh tổng kết chuyến đi chơi[/caption]</div></div><p>Trong khi đó Đoàn Văn Hậu lại \"xả\" loạt ảnh lên trang cá nhân, các bức ảnh ở cùng một địa điểm khách sạn nhưng chàng hậu vệ sinh năm 1999 có muôn vàn kiểu tạo dáng. Các bức ảnh được dân tình nghi vấn do chính tay Doãn Hải My chụp cho Văn Hậu.</p><div type=\"Photo\"><div>[caption id=\"\" align=\"aligncenter\" width=\"800\"]<img alt=\"Doãn Hải My tổng kết tuần trăng mật tại Singapore với Đoàn Văn Hậu chỉ bằng một tấm ảnh - Ảnh 2.\" class=\"aligncenter\" data-original=\"https://kenh14cdn.com/203336854389633024/2023/12/9/photo-5-17020861717561230321191.jpg\" h=\"831\" height=\"400\" photoid=\"657759864157589504\" rel=\"lightbox\" src=\"https://kenh14cdn.com/203336854389633024/2023/12/9/photo-5-17020861717561230321191.jpg\" title=\"Doãn Hải My tổng kết tuần trăng mật tại Singapore với Đoàn Văn Hậu chỉ bằng một tấm ảnh - Ảnh 2.\" type=\"photo\" w=\"679\" width=\"800\"/>Văn Hậu bảnh bao qua camera của vợ[/caption]</div></div><div type=\"Photo\"><div>[caption id=\"\" align=\"aligncenter\" width=\"800\"]<img alt=\"Doãn Hải My tổng kết tuần trăng mật tại Singapore với Đoàn Văn Hậu chỉ bằng một tấm ảnh - Ảnh 3.\" class=\"aligncenter\" data-original=\"https://kenh14cdn.com/203336854389633024/2023/12/9/photo-4-17020861706661691066355.jpg\" h=\"1016\" height=\"400\" photoid=\"657759860682153984\" rel=\"lightbox\" src=\"https://kenh14cdn.com/203336854389633024/2023/12/9/photo-4-17020861706661691066355.jpg\" title=\"Doãn Hải My tổng kết tuần trăng mật tại Singapore với Đoàn Văn Hậu chỉ bằng một tấm ảnh - Ảnh 3.\" type=\"photo\" w=\"679\" width=\"800\"/>Chàng tuyển thủ khoe góc nghiêng[/caption]</div></div><div type=\"Photo\"><div>[caption id=\"\" align=\"aligncenter\" width=\"800\"]<img alt=\"Doãn Hải My tổng kết tuần trăng mật tại Singapore với Đoàn Văn Hậu chỉ bằng một tấm ảnh - Ảnh 4.\" class=\"aligncenter\" data-original=\"https://kenh14cdn.com/203336854389633024/2023/12/9/photo-3-1702086169533282405024.jpg\" h=\"1154\" height=\"400\" photoid=\"657759855059521536\" rel=\"lightbox\" src=\"https://kenh14cdn.com/203336854389633024/2023/12/9/photo-3-1702086169533282405024.jpg\" title=\"Doãn Hải My tổng kết tuần trăng mật tại Singapore với Đoàn Văn Hậu chỉ bằng một tấm ảnh - Ảnh 4.\" type=\"photo\" w=\"679\" width=\"800\"/>Loạt ảnh toàn áo màu đen của Văn Hậu[/caption]</div></div><p>Doãn Hải My - Đoàn Văn Hậu về chung một nhà sau hơn ba năm gắn bó. Lễ cưới của đôi trẻ được tổ chức linh đình với sự góp mặt của nhiều người nổi tiếng và dàn HLV, cầu thủ của đội tuyển Việt Nam và CLB CAHN. Sau công việc cá nhân giờ là lúc Văn Hậu cần tập trung trở lại điều trị chấn thương để sớm trở lại sân cỏ.</p><div type=\"Photo\"><div>[caption id=\"\" align=\"aligncenter\" width=\"800\"]<img alt=\"Doãn Hải My tổng kết tuần trăng mật tại Singapore với Đoàn Văn Hậu chỉ bằng một tấm ảnh - Ảnh 5.\" class=\"aligncenter\" data-original=\"https://kenh14cdn.com/203336854389633024/2023/12/9/photo-2-17020861665041142595243.jpg\" h=\"500\" height=\"400\" photoid=\"657759849529430016\" rel=\"lightbox\" src=\"https://kenh14cdn.com/203336854389633024/2023/12/9/photo-2-17020861665041142595243.jpg\" title=\"Doãn Hải My tổng kết tuần trăng mật tại Singapore với Đoàn Văn Hậu chỉ bằng một tấm ảnh - Ảnh 5.\" type=\"photo\" w=\"680\" width=\"800\"/>Các bức ảnh thường xuyên giấu vòng 2 của Hải My[/caption]</div></div><div type=\"Photo\"><div>[caption id=\"\" align=\"aligncenter\" width=\"800\"]<img alt=\"Doãn Hải My tổng kết tuần trăng mật tại Singapore với Đoàn Văn Hậu chỉ bằng một tấm ảnh - Ảnh 6.\" class=\"aligncenter\" data-original=\"https://kenh14cdn.com/203336854389633024/2023/12/9/photo-1-17020861656721113113915.jpg\" h=\"515\" height=\"400\" photoid=\"657759838599073792\" rel=\"lightbox\" src=\"https://kenh14cdn.com/203336854389633024/2023/12/9/photo-1-17020861656721113113915.jpg\" title=\"Doãn Hải My tổng kết tuần trăng mật tại Singapore với Đoàn Văn Hậu chỉ bằng một tấm ảnh - Ảnh 6.\" type=\"photo\" w=\"680\" width=\"800\"/>Cả hai thoải mái chơi đùa ở hồ bơi[/caption]</div></div><i>Nguồn: kenh14.vn</i></div>,\n",
       "       'title': 'Doãn Hải My tổng kết tuần trăng mật tại Singapore với Đoàn Văn Hậu chỉ bằng một tấm ảnh',\n",
       "       'published_date': '2023-12-09'},\n",
       "      4: {'text': <div class=\"knc-content\"><h2>\n",
       "                                           Đoàn Văn Hậu tỏ tình với Doãn Hải My khi cả hai chưa gặp mặt... Lúc ấy, Văn Hậu vẫn đang hẹn hò bạn gái cũ?\n",
       "                                       </h2><!-- Kham pha --><p>Chuyện tình vốn tưởng đẹp như cổ tích của hậu vệ Đoàn Văn Hậu và Top 10 Hoa hậu Việt Nam Doãn Hải My mới đây lại được chính chủ bổ sung những tình tiết gây tranh cãi. Trong một phỏng vấn sau đám cưới, Đoàn Văn Hậu và Doãn Hải My đã chia sẻ về kỉ niệm lúc tỏ tình.</p><p>Văn Hậu cho biết lần đầu tỏ tình với Doãn Hải My đã bị \"<em>fail</em>\" (thất bại - PV) vì cô nàng  \"<em>chưa đồng ý</em>\". Người đẹp sinh năm 2001 không từ chối thẳng thừng nhưng muốn cả hai cần nói chuyện với nhau thêm nữa, gặp nhau để nói chuyện thêm và mọi thứ sẽ thuận theo tự nhiên.</p><p>Doãn Hải My cảm thán: \"<em>Eo ơi chưa gặp nhau mà chưa gì đã tỏ tình rồi\" </em> . Còn Văn Hậu lại khẳng định khi ấy Hải My đã có cảm tình với mình rồi nên mới nói để thuận theo tự nhiên. Khi MC hỏi Hải My có phải cô gái đầu tiên đặt Văn Hậu vào trạng thái đó không, Văn Hậu chỉ biết cười trừ.</p><div type=\"Photo\"><div>[caption id=\"\" align=\"aligncenter\" width=\"800\"]<img alt=\"Đoàn Văn Hậu kể về lần đầu tỏ tình với Hải My nhưng càng nói càng sai với bạn gái cũ? - Ảnh 1.\" class=\"aligncenter\" data-original=\"https://kenh14cdn.com/203336854389633024/2023/12/9/photo-2-17020826122731872230876.jpeg\" h=\"850\" height=\"400\" photoid=\"657744935012507648\" rel=\"lightbox\" src=\"https://kenh14cdn.com/203336854389633024/2023/12/9/photo-2-17020826122731872230876.jpeg\" title=\"Đoàn Văn Hậu kể về lần đầu tỏ tình với Hải My nhưng càng nói càng sai với bạn gái cũ? - Ảnh 1.\" type=\"photo\" w=\"680\" width=\"800\"/>Đoàn Văn Hậu tỏ tình với Doãn Hải My khi chưa gặp mặt[/caption]</div></div><p>Liên kết mốc thời gian, có thể thấy việc Đoàn Văn Hậu nhắn tin làm quen Doãn Hải My, rồi lần đầu bị từ chối diễn ra vào trước tháng 9/2019. Bởi tháng 9/2019, trước khi sang Hà Lan thi đấu, Văn Hậu và Hải My đã có lần gặp mặt tại tiệc sinh nhật của một người anh từng thân thiết với Văn Hậu. Trong bức ảnh kỉ niệm hôm ấy, Hải My xuất hiện cùng gia đình, còn ngồi gần Hoàng Anh Ốc - người lúc đó vẫn đang là bạn gái của Đoàn Văn Hậu với nụ cười rạng rỡ.</p><p>Sau đó, Văn Hậu sang Hà Lan gia nhập SC Heerenveen, anh vẫn hẹn hò với Hoàng Anh Ốc và không còn nhắn tin qua lại với Doãn Hải My. Cho đến khoảng tháng 6/2020, Văn Hậu và Hoàng Anh Ốc mới đường ai nấy đi. Đến tháng 8/2020, hậu vệ sinh năm 1999 chính thức yêu Doãn Hải My.</p><p>Dân mạng đặt ra câu hỏi, phải chăng, Văn Hậu đã tỏ tình với Hải My ngay khi vẫn hẹn hò cùng bạn gái cũ? Có người bênh vực Văn Hậu bằng cách suy đoán, có thể thời điểm đó, Văn Hậu và Hoàng Anh Ốc đã rạn nứt nên anh mới bắt đầu tìm hiểu Doãn Hải My. Sau khi Văn Hậu hàn gắn với bạn gái cũ, anh và Hải My đã không còn liên lạc. Cặp đôi chỉ thực sự bước vào mối quan hệ yêu đương khi Văn Hậu đã dứt tình cùng Hoàng Anh Ốc vào một năm sau đó. Hiện người trong cuộc vẫn chưa có lý giải chính thức nào về chuyện này.</p><div type=\"Photo\"><div>[caption id=\"\" align=\"aligncenter\" width=\"800\"]<img alt=\"Đoàn Văn Hậu kể về lần đầu tỏ tình với Hải My nhưng càng nói càng sai với bạn gái cũ? - Ảnh 2.\" class=\"aligncenter\" data-original=\"https://kenh14cdn.com/203336854389633024/2023/12/9/photo-1-17020826111141996994362.jpeg\" h=\"453\" height=\"400\" photoid=\"657744930350157824\" rel=\"lightbox\" src=\"https://kenh14cdn.com/203336854389633024/2023/12/9/photo-1-17020826111141996994362.jpeg\" title=\"Đoàn Văn Hậu kể về lần đầu tỏ tình với Hải My nhưng càng nói càng sai với bạn gái cũ? - Ảnh 2.\" type=\"photo\" w=\"680\" width=\"800\"/>Văn Hậu từng có mối tình ngọt ngào cùng Hoàng Anh Ốc[/caption]</div></div><i>Nguồn: kenh14.vn</i></div>,\n",
       "       'title': 'Đoàn Văn Hậu kể về lần đầu tỏ tình với Hải My nhưng càng nói càng sai với bạn gái cũ?',\n",
       "       'published_date': '2023-12-09'}}},\n",
       "    1: {'name': 'Esports',\n",
       "     'url': 'https://kenh14.vn/sport/esports.chn',\n",
       "     'cate_id': 61,\n",
       "     'url_list': [],\n",
       "     'content': {}}}}}}"
      ]
     },
     "execution_count": 27,
     "metadata": {},
     "output_type": "execute_result"
    }
   ],
   "source": [
    "_kenh14"
   ]
  },
  {
   "cell_type": "code",
   "execution_count": 16,
   "id": "03f49dc4-162f-45d4-863f-6ca01040585a",
   "metadata": {},
   "outputs": [
    {
     "name": "stdout",
     "output_type": "stream",
     "text": [
      "sport 0 https://kenh14.vn/sport/hau-truong.chn\n",
      "https://kenh14.vn/thanh-chung-chup-trom-vo-mat-moc-mai-me-lam-cay-thong-noel-luc-nua-dem-nhan-sac-van-phai-cham-10-diem-20231209170547175.chn\n",
      "https://kenh14.vn/me-vo-khang-dinh-doan-van-hau-may-man-moi-duoc-vao-nha-doan-hai-my-thai-do-cung-ran-voi-chang-re-qua-hai-chi-tiet-20231209084221904.chn\n",
      "https://kenh14.vn/nguyen-van-toan-chu-tich-tuoi-25-thu-nhap-cao-nhat-nhi-lang-bong-da-nhung-van-tran-tro-vi-thieu-dieu-nay-20231209113138824.chn\n",
      "https://kenh14.vn/doan-hai-my-tong-ket-tuan-trang-mat-tai-singapore-voi-doan-van-hau-chi-bang-mot-tam-anh-20231209084502849.chn\n",
      "https://kenh14.vn/doan-van-hau-ke-ve-lan-dau-to-tinh-voi-hai-my-nhung-cang-noi-cang-sai-voi-ban-gai-cu-20231209074638014.chn\n",
      "sport 1 https://kenh14.vn/sport/esports.chn\n",
      "sport\n"
     ]
    }
   ],
   "source": [
    "_kenh14 = get_news_kenh14()\n"
   ]
  },
  {
   "cell_type": "code",
   "execution_count": 32,
   "id": "4b4bf884-278b-4040-85e4-af27578c1f33",
   "metadata": {},
   "outputs": [
    {
     "name": "stdout",
     "output_type": "stream",
     "text": [
      "<div class=\"knc-content\"><h2>\n",
      "                                    Thành Chung chia sẻ ngủ một giấc dậy vẫn thấy vợ loay hoay làm cây thông Noel.\n",
      "                                </h2><!-- Kham pha --><p>Giáng sinh 2023 sắp đến, hòa chung trong không khí tưng bừng đón giáng sinh, vợ của hậu vệ Nguyễn Thành Chung cũng mua sắm rất nhiều đồ để trang hoàng không gian trong nhà. Ngoài cây thông noel lớn đã hoàn thành chơi được vài ngày, Tố Uyên lại mới tự tay làm thêm một cây thông nhỏ.</p><p>Hình ảnh được hậu vệ Thành Chung chụp lại lúc nửa đêm, chàng cầu thủ chia sẻ:</p><p>\"Vâng tôi ngủ được một giấc dậy vẫn thấy cô ấy đang loay hoay với tác phẩm của mình\".</p><p>Có thể thấy Tố Uyên là một cô gái rất thích trang trí nhà cửa, làm đẹp cho tổ ấm của mình. Đặc biệt điều khiến dân tình chú ý nhất là nhan sắc của nàng WAG sinh năm 2000. Dù bị chồng chụp lén xuất hiện với gương mặt ngơ ngác nhưng nhan sắc của cô gái đến từ Tuyên Quang vẫn \"không thể đùa được\". Ngô Tố Uyên sở hữu gương mặt baby, làn da trắng mịn rất ít khuyết điểm. Dù buổi tối không trang điểm nhưng vợ của hậu vệ sinh năm 1997 vẫn rất xinh đẹp.</p><div type=\"Photo\"><div>[caption id=\"\" align=\"aligncenter\" width=\"800\"]<img alt=\"Thành Chung chụp trộm vợ mặt mộc mải mê làm cây thông noel lúc nửa đêm, nhan sắc vẫn phải chấm 10 điểm - Ảnh 1.\" class=\"aligncenter\" data-original=\"https://kenh14cdn.com/203336854389633024/2023/12/9/photo-7-1702116223947295949497.jpg\" h=\"840\" height=\"400\" photoid=\"657885912828366848\" rel=\"lightbox\" src=\"https://kenh14cdn.com/203336854389633024/2023/12/9/photo-7-1702116223947295949497.jpg\" title=\"Thành Chung chụp trộm vợ mặt mộc mải mê làm cây thông noel lúc nửa đêm, nhan sắc vẫn phải chấm 10 điểm - Ảnh 1.\" type=\"photo\" w=\"640\" width=\"800\"/>Thành Chung chụp ảnh vợ mải mê làm cây thông noel[/caption]</div></div><p>Sau đó trên trang cá nhân Tố Uyên cũng đã chia sẻ hình ảnh thành quả mà cô cặm cụi làm suốt cả đêm. Một cây thông nhỏ xinh được hoàn thành và đặt lên kệ. Trên cây còn được cô nàng treo đèn nháy lung linh.</p><div type=\"Photo\"><div>[caption id=\"\" align=\"aligncenter\" width=\"800\"]<img alt=\"Thành Chung chụp trộm vợ mặt mộc mải mê làm cây thông noel lúc nửa đêm, nhan sắc vẫn phải chấm 10 điểm - Ảnh 2.\" class=\"aligncenter\" data-original=\"https://kenh14cdn.com/203336854389633024/2023/12/9/photo-6-17021162227571132798545.jpg\" h=\"1054\" height=\"400\" photoid=\"657885907696177152\" rel=\"lightbox\" src=\"https://kenh14cdn.com/203336854389633024/2023/12/9/photo-6-17021162227571132798545.jpg\" title=\"Thành Chung chụp trộm vợ mặt mộc mải mê làm cây thông noel lúc nửa đêm, nhan sắc vẫn phải chấm 10 điểm - Ảnh 2.\" type=\"photo\" w=\"640\" width=\"800\"/>Tố Uyên chia sẻ toàn bộ quá trình làm[/caption]</div></div><div type=\"Photo\"><div>[caption id=\"\" align=\"aligncenter\" width=\"800\"]<img alt=\"Thành Chung chụp trộm vợ mặt mộc mải mê làm cây thông noel lúc nửa đêm, nhan sắc vẫn phải chấm 10 điểm - Ảnh 3.\" class=\"aligncenter\" data-original=\"https://kenh14cdn.com/203336854389633024/2023/12/9/photo-5-17021162216731642264307.jpg\" h=\"1005\" height=\"400\" photoid=\"657885903034732544\" rel=\"lightbox\" src=\"https://kenh14cdn.com/203336854389633024/2023/12/9/photo-5-17021162216731642264307.jpg\" title=\"Thành Chung chụp trộm vợ mặt mộc mải mê làm cây thông noel lúc nửa đêm, nhan sắc vẫn phải chấm 10 điểm - Ảnh 3.\" type=\"photo\" w=\"640\" width=\"800\"/>Thành quả mà vợ Thành Chung đã làm[/caption]</div></div><div type=\"Photo\"><div>[caption id=\"\" align=\"aligncenter\" width=\"800\"]<img alt=\"Thành Chung chụp trộm vợ mặt mộc mải mê làm cây thông noel lúc nửa đêm, nhan sắc vẫn phải chấm 10 điểm - Ảnh 4.\" class=\"aligncenter\" data-original=\"https://kenh14cdn.com/203336854389633024/2023/12/9/photo-4-17021162204311643984345.jpg\" h=\"541\" height=\"400\" photoid=\"657885898788257792\" rel=\"lightbox\" src=\"https://kenh14cdn.com/203336854389633024/2023/12/9/photo-4-17021162204311643984345.jpg\" title=\"Thành Chung chụp trộm vợ mặt mộc mải mê làm cây thông noel lúc nửa đêm, nhan sắc vẫn phải chấm 10 điểm - Ảnh 4.\" type=\"photo\" w=\"640\" width=\"800\"/>Cây thông đặt ở phòng khách được Tố Uyên làm trước đó[/caption]</div></div><p>Thành Chung và bà xã Tố Uyên là một trong những cặp đôi đình đám của làng bóng đá được nhiều người yêu mến. Tháng 9/2022, cặp vợ chồng trẻ hạnh phúc chào đón con trai đầu lòng. Cuộc sống hôn nhân của cặp đôi này không ồn ào, ngoài thời gian tập luyện và thi đấu Thành Chung thường xuyên cùng vợ và con trai đi du lịch.</p><div type=\"Photo\"><div>[caption id=\"\" align=\"aligncenter\" width=\"800\"]<img alt=\"Thành Chung chụp trộm vợ mặt mộc mải mê làm cây thông noel lúc nửa đêm, nhan sắc vẫn phải chấm 10 điểm - Ảnh 5.\" class=\"aligncenter\" data-original=\"https://kenh14cdn.com/203336854389633024/2023/12/9/photo-3-17021162192811073285683.jpg\" h=\"930\" height=\"400\" photoid=\"657885892921503744\" rel=\"lightbox\" src=\"https://kenh14cdn.com/203336854389633024/2023/12/9/photo-3-17021162192811073285683.jpg\" title=\"Thành Chung chụp trộm vợ mặt mộc mải mê làm cây thông noel lúc nửa đêm, nhan sắc vẫn phải chấm 10 điểm - Ảnh 5.\" type=\"photo\" w=\"640\" width=\"800\"/>Gia đình của Thành Chung - Tố Uyên[/caption]</div></div><div type=\"Photo\"><div>[caption id=\"\" align=\"aligncenter\" width=\"800\"]<img alt=\"Thành Chung chụp trộm vợ mặt mộc mải mê làm cây thông noel lúc nửa đêm, nhan sắc vẫn phải chấm 10 điểm - Ảnh 6.\" class=\"aligncenter\" data-original=\"https://kenh14cdn.com/203336854389633024/2023/12/9/photo-2-17021162183161342274206.jpg\" h=\"800\" height=\"400\" photoid=\"657885888639119360\" rel=\"lightbox\" src=\"https://kenh14cdn.com/203336854389633024/2023/12/9/photo-2-17021162183161342274206.jpg\" title=\"Thành Chung chụp trộm vợ mặt mộc mải mê làm cây thông noel lúc nửa đêm, nhan sắc vẫn phải chấm 10 điểm - Ảnh 6.\" type=\"photo\" w=\"640\" width=\"800\"/>Cặp đôi thường xuyên đi du lịch[/caption]</div></div><div type=\"Photo\"><div>[caption id=\"\" align=\"aligncenter\" width=\"800\"]<img alt=\"Thành Chung chụp trộm vợ mặt mộc mải mê làm cây thông noel lúc nửa đêm, nhan sắc vẫn phải chấm 10 điểm - Ảnh 7.\" class=\"aligncenter\" data-original=\"https://kenh14cdn.com/203336854389633024/2023/12/9/photo-1-170211621683981612166.jpg\" h=\"831\" height=\"400\" photoid=\"657885883331465216\" rel=\"lightbox\" src=\"https://kenh14cdn.com/203336854389633024/2023/12/9/photo-1-170211621683981612166.jpg\" title=\"Thành Chung chụp trộm vợ mặt mộc mải mê làm cây thông noel lúc nửa đêm, nhan sắc vẫn phải chấm 10 điểm - Ảnh 7.\" type=\"photo\" w=\"640\" width=\"800\"/>Tố Uyên và con trai đầu lòng[/caption]</div></div><i>Nguồn: kenh14.vn</i></div>\n",
      "<div class=\"knc-content\"><h2>\n",
      "                                    Lần đầu Đoàn Văn Hậu được phép vào nhà Doãn Hải My là khi cô nàng bị gãy chân.\n",
      "                                </h2><!-- Kham pha --><p>Trong một phỏng vấn mới đây, cặp vợ chồng son Đoàn Văn Hậu - Doãn Hải My chia sẻ về lần đầu tiên Văn Hậu đặt chân vào nhà bố mẹ vợ. Đó là khi Doãn Hải My bị gãy chân. Trong cái rủi có cái may, đây lại là cơ hội để Văn Hậu xin phép được vào nhà của Doãn Hải My.</p><p>Doãn Hải My cho biết trước đó, khi hẹn hò, cặp đôi chỉ gặp nhau ở dưới nhà của nàng trên phố Trần Phú. Và sau tầm 15-20 phút, cô nàng sẽ bị bố mẹ gọi lên nhà. Nhưng ngày Hải My bị gãy chân, cô báo với Văn Hậu và anh chàng đã ngay lập tức chạy tới nhà bạn gái. Khi thấy người đẹp cùng bố mẹ bước xuống xe, Văn Hậu đã xin phép mẹ của Hải My được đỡ nàng lên nhà, đồng thời xin phép phụ huynh được lần đầu tiên bước chân vào nhà nàng.</p><div type=\"Photo\"><div>[caption id=\"\" align=\"aligncenter\" width=\"800\"]<img alt=\"Mẹ vợ khẳng định Đoàn Văn Hậu may mắn mới được vào nhà Doãn Hải My, thái độ cứng rắn với chàng rể qua hai chi tiết - Ảnh 1.\" class=\"aligncenter\" data-original=\"https://kenh14cdn.com/203336854389633024/2023/12/9/photo-1-17020860316211764104606.jpg\" h=\"1020\" height=\"400\" photoid=\"657759277533843456\" rel=\"lightbox\" src=\"https://kenh14cdn.com/203336854389633024/2023/12/9/photo-1-17020860316211764104606.jpg\" title=\"Mẹ vợ khẳng định Đoàn Văn Hậu may mắn mới được vào nhà Doãn Hải My, thái độ cứng rắn với chàng rể qua hai chi tiết - Ảnh 1.\" type=\"photo\" w=\"679\" width=\"800\"/>Mẹ của Doãn Hải My cho rằng Văn Hậu may mắn trong lần đầu bước chân vào nhà mình[/caption]</div></div><p><i>\"</i><em>Đến giờ mẹ em vẫn bảo, 'đấy, thằng này may, chứ không là không biết bao giờ mới được lên nhà'</em><i>\"</i>, Doãn Hải My chia sẻ góc nhìn của bà Đoàn Phương Mai về lần đầu con rể tới nhà.</p><p>Có thể thấy, để có được sự chấp thuận và ủng hộ của bố mẹ vợ, Đoàn Văn Hậu cũng đã phải trải qua thời gian thử thách. Bởi bố mẹ của Hải My khá nghiêm khắc. Điều đó được thể hiện qua việc phụ huynh không để con gái gặp bạn trai trước cửa nhà quá lâu. Hay phải đến khi Hải My gãy chân, Văn Hậu mới có cơ hội được bước chân vào nhà thăm nàng. Và sau tất cả, bằng sự chân thành, Văn Hậu nay đã chính thức trở thành con rể của bà Đoàn Phương Mai và ông Doãn Thanh Sơn.</p><i>Nguồn: kenh14.vn</i></div>\n",
      "<div class=\"knc-content\"><h2>\n",
      "                                    Ở tuổi 27 tiền đạo Nguyễn Văn Toàn dường như đã có đầy đủ tất cả vật chất nhưng vẫn chưa tìm được nửa kia phù hợp với mình.\n",
      "                                </h2><!-- Kham pha --><p><em> “Rao bán nhiều thì cũng hơi ngại, nhưng mà có 2 anh em chơi với nhau thế này cũng buồn lắm. Ước có chị dâu để anh tôi rủ đi chơi”</em>, em gái Nguyễn Văn Toàn chia sẻ trên trang cá nhân.</p><p>Đây cũng không phải lần đầu tiên Nguyễn Thị Nụ - em gái tiền đạo Nguyễn Văn Toàn chia sẻ về việc anh trai vẫn còn độc thân. Có lẽ khi các đồng đội như Xuân Trường, Công Phượng đều đã yên bề gia thất thì Văn Toàn cũng có phần nào sốt ruột về chuyện lập gia đình của mình. Không chỉ riêng em gái giao bán, bản thân tiền đạo sinh năm 1996 cũng tự công khai về việc mình độc thân.</p><div type=\"Photo\"><div>[caption id=\"\" align=\"aligncenter\" width=\"800\"]<img alt=\"Nguyễn Văn Toàn: Chủ tịch tuổi 25, thu nhập cao nhất nhì làng bóng đá nhưng vẫn trăn trở vì thiếu điều này - Ảnh 1.\" class=\"aligncenter\" data-original=\"https://kenh14cdn.com/203336854389633024/2023/12/9/photo-3-17020961633431148250004.jpg\" h=\"638\" height=\"400\" photoid=\"657801771497246720\" rel=\"lightbox\" src=\"https://kenh14cdn.com/203336854389633024/2023/12/9/photo-3-17020961633431148250004.jpg\" title=\"Nguyễn Văn Toàn: Chủ tịch tuổi 25, thu nhập cao nhất nhì làng bóng đá nhưng vẫn trăn trở vì thiếu điều này - Ảnh 1.\" type=\"photo\" w=\"406\" width=\"800\"/>Em gái lại rao bán Văn Toàn[/caption]</div></div><p>Kể từ khi Văn Toàn chia tay mối tình 6 năm, chuyện tình cảm của chàng tuyển thủ cũng kín tiếng hơn. Thực tế chưa có cô gái nào được đồn đoán hẹn hò với Văn Toàn. Trong một chia sẻ mới đây Văn Toàn thừa nhận rằng nếu có bạn gái hay có vợ con nỗi buồn chắc chắn sẽ vơi đi. Sau một ngày tập luyện và thi đấu mệt mỏi trở về nhà sẽ có người để chia sẻ tâm tư. Dù vậy duyên vẫn chưa đến với tiền đạo tài năng này.</p><div type=\"Photo\"><div>[caption id=\"\" align=\"aligncenter\" width=\"800\"]<img alt=\"Nguyễn Văn Toàn: Chủ tịch tuổi 25, thu nhập cao nhất nhì làng bóng đá nhưng vẫn trăn trở vì thiếu điều này - Ảnh 2.\" class=\"aligncenter\" data-original=\"https://kenh14cdn.com/203336854389633024/2023/12/9/photo-2-170209616209518274808.jpg\" h=\"510\" height=\"400\" photoid=\"657801766229983232\" rel=\"lightbox\" src=\"https://kenh14cdn.com/203336854389633024/2023/12/9/photo-2-170209616209518274808.jpg\" title=\"Nguyễn Văn Toàn: Chủ tịch tuổi 25, thu nhập cao nhất nhì làng bóng đá nhưng vẫn trăn trở vì thiếu điều này - Ảnh 2.\" type=\"photo\" w=\"680\" width=\"800\"/>Văn Toàn vẫn độc thân[/caption]</div></div><p>Văn Toàn hiện tại đang là cầu thủ có mức thu nhập thuộc top cao nhất ở Việt Nam. Rời Hàn Quốc để khoác áo CLB Nam Định nhiều thông tin khẳng định tiền đạo sinh năm nhận mức lương 100 triệu đồng/tháng cùng khoản tiền \"lót tay\" trị giá 5 tỷ đồng/năm (Văn Toàn ký 2 mùa). </p><p>Ngoài mức thu nhập ổn định với độ nổi tiếng của mình Văn Toàn còn có thêm thu nhập từ quảng cáo. Bên cạnh đó Văn Toàn đã lên chức chủ tịch một thương hiệu thời trang từ năm 25 tuổi. Văn Toàn vẫn luôn được đánh giá là một gương mặt thức thời nhất ĐT Việt Nam trong lĩnh vực này. Được biết thương hiệu thời trang của anh đã hoạt động được gần 3 năm và vẫn đang rất phát triển.</p><div type=\"Photo\"><div>[caption id=\"\" align=\"aligncenter\" width=\"800\"]<img alt=\"Nguyễn Văn Toàn: Chủ tịch tuổi 25, thu nhập cao nhất nhì làng bóng đá nhưng vẫn trăn trở vì thiếu điều này - Ảnh 3.\" class=\"aligncenter\" data-original=\"https://kenh14cdn.com/203336854389633024/2023/12/9/photo-1-1702096160751155645393.jpg\" h=\"510\" height=\"400\" photoid=\"657801760957820928\" rel=\"lightbox\" src=\"https://kenh14cdn.com/203336854389633024/2023/12/9/photo-1-1702096160751155645393.jpg\" title=\"Nguyễn Văn Toàn: Chủ tịch tuổi 25, thu nhập cao nhất nhì làng bóng đá nhưng vẫn trăn trở vì thiếu điều này - Ảnh 3.\" type=\"photo\" w=\"680\" width=\"800\"/>Văn Toàn còn có biệt danh là anh trai quốc dân vì rất chiều em gái[/caption]</div></div><p>Để chuẩn bị cho tương lai, Văn Toàn đã xây một căn nhà lớn ở quê cho gia đình có trị giá vài tỉ. Anh cũng có căn hộ riêng ở Hà Nội, nơi mà Văn Toàn thường trở về sau khi CLB Nam Định được nghỉ. Sự nghiệp đã vững vàng, giờ đây Văn Toàn chỉ đang chờ một cô gái phù hợp nhất để nên duyên.</p><i>Nguồn: kenh14.vn</i></div>\n",
      "<div class=\"knc-content\"><h2>\n",
      "                                    Trong khi Đoàn Văn Hậu \"xả ảnh\" đi chơi, Doãn Hải My tổng kết chuyến đi với một tấm ảnh mang tên \"Singapore 2023\".\n",
      "                                </h2><!-- Kham pha --><p>Hậu vệ Đoàn Văn Hậu và vợ Doãn Hải My đã về Việt Nam sau chuyến đi hưởng \"tuần trăng mật\" kết hợp khám chấn thương của Văn Hậu tại Singapore. Tại đây Văn Hậu và vợ mới cưới thường xuyên cập nhật các khoảnh khắc đi chơi, đi ăn và mua sắm cực sang chảnh.</p><p>Kết thúc chuyến đi với chồng, Doãn Hải My đã tổng hợp toàn bộ các khoảnh khắc ghép thành một tấm ảnh lấy tựa đề là \"Singapore 2023\" và chia sẻ lên mạng xã hội. Bức ảnh này ghi lại hành trình đi chơi vui vẻ của nàng WAG và chồng cầu thủ.</p><div type=\"Photo\"><div>[caption id=\"\" align=\"aligncenter\" width=\"800\"]<img alt=\"Doãn Hải My tổng kết tuần trăng mật tại Singapore với Đoàn Văn Hậu chỉ bằng một tấm ảnh - Ảnh 1.\" class=\"aligncenter\" data-original=\"https://kenh14cdn.com/203336854389633024/2023/12/9/photo-6-17020861727041364530916.jpg\" h=\"1162\" height=\"400\" photoid=\"657759868391997440\" rel=\"lightbox\" src=\"https://kenh14cdn.com/203336854389633024/2023/12/9/photo-6-17020861727041364530916.jpg\" title=\"Doãn Hải My tổng kết tuần trăng mật tại Singapore với Đoàn Văn Hậu chỉ bằng một tấm ảnh - Ảnh 1.\" type=\"photo\" w=\"679\" width=\"800\"/>Doãn Hải My đăng ảnh tổng kết chuyến đi chơi[/caption]</div></div><p>Trong khi đó Đoàn Văn Hậu lại \"xả\" loạt ảnh lên trang cá nhân, các bức ảnh ở cùng một địa điểm khách sạn nhưng chàng hậu vệ sinh năm 1999 có muôn vàn kiểu tạo dáng. Các bức ảnh được dân tình nghi vấn do chính tay Doãn Hải My chụp cho Văn Hậu.</p><div type=\"Photo\"><div>[caption id=\"\" align=\"aligncenter\" width=\"800\"]<img alt=\"Doãn Hải My tổng kết tuần trăng mật tại Singapore với Đoàn Văn Hậu chỉ bằng một tấm ảnh - Ảnh 2.\" class=\"aligncenter\" data-original=\"https://kenh14cdn.com/203336854389633024/2023/12/9/photo-5-17020861717561230321191.jpg\" h=\"831\" height=\"400\" photoid=\"657759864157589504\" rel=\"lightbox\" src=\"https://kenh14cdn.com/203336854389633024/2023/12/9/photo-5-17020861717561230321191.jpg\" title=\"Doãn Hải My tổng kết tuần trăng mật tại Singapore với Đoàn Văn Hậu chỉ bằng một tấm ảnh - Ảnh 2.\" type=\"photo\" w=\"679\" width=\"800\"/>Văn Hậu bảnh bao qua camera của vợ[/caption]</div></div><div type=\"Photo\"><div>[caption id=\"\" align=\"aligncenter\" width=\"800\"]<img alt=\"Doãn Hải My tổng kết tuần trăng mật tại Singapore với Đoàn Văn Hậu chỉ bằng một tấm ảnh - Ảnh 3.\" class=\"aligncenter\" data-original=\"https://kenh14cdn.com/203336854389633024/2023/12/9/photo-4-17020861706661691066355.jpg\" h=\"1016\" height=\"400\" photoid=\"657759860682153984\" rel=\"lightbox\" src=\"https://kenh14cdn.com/203336854389633024/2023/12/9/photo-4-17020861706661691066355.jpg\" title=\"Doãn Hải My tổng kết tuần trăng mật tại Singapore với Đoàn Văn Hậu chỉ bằng một tấm ảnh - Ảnh 3.\" type=\"photo\" w=\"679\" width=\"800\"/>Chàng tuyển thủ khoe góc nghiêng[/caption]</div></div><div type=\"Photo\"><div>[caption id=\"\" align=\"aligncenter\" width=\"800\"]<img alt=\"Doãn Hải My tổng kết tuần trăng mật tại Singapore với Đoàn Văn Hậu chỉ bằng một tấm ảnh - Ảnh 4.\" class=\"aligncenter\" data-original=\"https://kenh14cdn.com/203336854389633024/2023/12/9/photo-3-1702086169533282405024.jpg\" h=\"1154\" height=\"400\" photoid=\"657759855059521536\" rel=\"lightbox\" src=\"https://kenh14cdn.com/203336854389633024/2023/12/9/photo-3-1702086169533282405024.jpg\" title=\"Doãn Hải My tổng kết tuần trăng mật tại Singapore với Đoàn Văn Hậu chỉ bằng một tấm ảnh - Ảnh 4.\" type=\"photo\" w=\"679\" width=\"800\"/>Loạt ảnh toàn áo màu đen của Văn Hậu[/caption]</div></div><p>Doãn Hải My - Đoàn Văn Hậu về chung một nhà sau hơn ba năm gắn bó. Lễ cưới của đôi trẻ được tổ chức linh đình với sự góp mặt của nhiều người nổi tiếng và dàn HLV, cầu thủ của đội tuyển Việt Nam và CLB CAHN. Sau công việc cá nhân giờ là lúc Văn Hậu cần tập trung trở lại điều trị chấn thương để sớm trở lại sân cỏ.</p><div type=\"Photo\"><div>[caption id=\"\" align=\"aligncenter\" width=\"800\"]<img alt=\"Doãn Hải My tổng kết tuần trăng mật tại Singapore với Đoàn Văn Hậu chỉ bằng một tấm ảnh - Ảnh 5.\" class=\"aligncenter\" data-original=\"https://kenh14cdn.com/203336854389633024/2023/12/9/photo-2-17020861665041142595243.jpg\" h=\"500\" height=\"400\" photoid=\"657759849529430016\" rel=\"lightbox\" src=\"https://kenh14cdn.com/203336854389633024/2023/12/9/photo-2-17020861665041142595243.jpg\" title=\"Doãn Hải My tổng kết tuần trăng mật tại Singapore với Đoàn Văn Hậu chỉ bằng một tấm ảnh - Ảnh 5.\" type=\"photo\" w=\"680\" width=\"800\"/>Các bức ảnh thường xuyên giấu vòng 2 của Hải My[/caption]</div></div><div type=\"Photo\"><div>[caption id=\"\" align=\"aligncenter\" width=\"800\"]<img alt=\"Doãn Hải My tổng kết tuần trăng mật tại Singapore với Đoàn Văn Hậu chỉ bằng một tấm ảnh - Ảnh 6.\" class=\"aligncenter\" data-original=\"https://kenh14cdn.com/203336854389633024/2023/12/9/photo-1-17020861656721113113915.jpg\" h=\"515\" height=\"400\" photoid=\"657759838599073792\" rel=\"lightbox\" src=\"https://kenh14cdn.com/203336854389633024/2023/12/9/photo-1-17020861656721113113915.jpg\" title=\"Doãn Hải My tổng kết tuần trăng mật tại Singapore với Đoàn Văn Hậu chỉ bằng một tấm ảnh - Ảnh 6.\" type=\"photo\" w=\"680\" width=\"800\"/>Cả hai thoải mái chơi đùa ở hồ bơi[/caption]</div></div><i>Nguồn: kenh14.vn</i></div>\n",
      "<div class=\"knc-content\"><h2>\n",
      "                                    Đoàn Văn Hậu tỏ tình với Doãn Hải My khi cả hai chưa gặp mặt... Lúc ấy, Văn Hậu vẫn đang hẹn hò bạn gái cũ?\n",
      "                                </h2><!-- Kham pha --><p>Chuyện tình vốn tưởng đẹp như cổ tích của hậu vệ Đoàn Văn Hậu và Top 10 Hoa hậu Việt Nam Doãn Hải My mới đây lại được chính chủ bổ sung những tình tiết gây tranh cãi. Trong một phỏng vấn sau đám cưới, Đoàn Văn Hậu và Doãn Hải My đã chia sẻ về kỉ niệm lúc tỏ tình.</p><p>Văn Hậu cho biết lần đầu tỏ tình với Doãn Hải My đã bị \"<em>fail</em>\" (thất bại - PV) vì cô nàng  \"<em>chưa đồng ý</em>\". Người đẹp sinh năm 2001 không từ chối thẳng thừng nhưng muốn cả hai cần nói chuyện với nhau thêm nữa, gặp nhau để nói chuyện thêm và mọi thứ sẽ thuận theo tự nhiên.</p><p>Doãn Hải My cảm thán: \"<em>Eo ơi chưa gặp nhau mà chưa gì đã tỏ tình rồi\" </em> . Còn Văn Hậu lại khẳng định khi ấy Hải My đã có cảm tình với mình rồi nên mới nói để thuận theo tự nhiên. Khi MC hỏi Hải My có phải cô gái đầu tiên đặt Văn Hậu vào trạng thái đó không, Văn Hậu chỉ biết cười trừ.</p><div type=\"Photo\"><div>[caption id=\"\" align=\"aligncenter\" width=\"800\"]<img alt=\"Đoàn Văn Hậu kể về lần đầu tỏ tình với Hải My nhưng càng nói càng sai với bạn gái cũ? - Ảnh 1.\" class=\"aligncenter\" data-original=\"https://kenh14cdn.com/203336854389633024/2023/12/9/photo-2-17020826122731872230876.jpeg\" h=\"850\" height=\"400\" photoid=\"657744935012507648\" rel=\"lightbox\" src=\"https://kenh14cdn.com/203336854389633024/2023/12/9/photo-2-17020826122731872230876.jpeg\" title=\"Đoàn Văn Hậu kể về lần đầu tỏ tình với Hải My nhưng càng nói càng sai với bạn gái cũ? - Ảnh 1.\" type=\"photo\" w=\"680\" width=\"800\"/>Đoàn Văn Hậu tỏ tình với Doãn Hải My khi chưa gặp mặt[/caption]</div></div><p>Liên kết mốc thời gian, có thể thấy việc Đoàn Văn Hậu nhắn tin làm quen Doãn Hải My, rồi lần đầu bị từ chối diễn ra vào trước tháng 9/2019. Bởi tháng 9/2019, trước khi sang Hà Lan thi đấu, Văn Hậu và Hải My đã có lần gặp mặt tại tiệc sinh nhật của một người anh từng thân thiết với Văn Hậu. Trong bức ảnh kỉ niệm hôm ấy, Hải My xuất hiện cùng gia đình, còn ngồi gần Hoàng Anh Ốc - người lúc đó vẫn đang là bạn gái của Đoàn Văn Hậu với nụ cười rạng rỡ.</p><p>Sau đó, Văn Hậu sang Hà Lan gia nhập SC Heerenveen, anh vẫn hẹn hò với Hoàng Anh Ốc và không còn nhắn tin qua lại với Doãn Hải My. Cho đến khoảng tháng 6/2020, Văn Hậu và Hoàng Anh Ốc mới đường ai nấy đi. Đến tháng 8/2020, hậu vệ sinh năm 1999 chính thức yêu Doãn Hải My.</p><p>Dân mạng đặt ra câu hỏi, phải chăng, Văn Hậu đã tỏ tình với Hải My ngay khi vẫn hẹn hò cùng bạn gái cũ? Có người bênh vực Văn Hậu bằng cách suy đoán, có thể thời điểm đó, Văn Hậu và Hoàng Anh Ốc đã rạn nứt nên anh mới bắt đầu tìm hiểu Doãn Hải My. Sau khi Văn Hậu hàn gắn với bạn gái cũ, anh và Hải My đã không còn liên lạc. Cặp đôi chỉ thực sự bước vào mối quan hệ yêu đương khi Văn Hậu đã dứt tình cùng Hoàng Anh Ốc vào một năm sau đó. Hiện người trong cuộc vẫn chưa có lý giải chính thức nào về chuyện này.</p><div type=\"Photo\"><div>[caption id=\"\" align=\"aligncenter\" width=\"800\"]<img alt=\"Đoàn Văn Hậu kể về lần đầu tỏ tình với Hải My nhưng càng nói càng sai với bạn gái cũ? - Ảnh 2.\" class=\"aligncenter\" data-original=\"https://kenh14cdn.com/203336854389633024/2023/12/9/photo-1-17020826111141996994362.jpeg\" h=\"453\" height=\"400\" photoid=\"657744930350157824\" rel=\"lightbox\" src=\"https://kenh14cdn.com/203336854389633024/2023/12/9/photo-1-17020826111141996994362.jpeg\" title=\"Đoàn Văn Hậu kể về lần đầu tỏ tình với Hải My nhưng càng nói càng sai với bạn gái cũ? - Ảnh 2.\" type=\"photo\" w=\"680\" width=\"800\"/>Văn Hậu từng có mối tình ngọt ngào cùng Hoàng Anh Ốc[/caption]</div></div><i>Nguồn: kenh14.vn</i></div>\n"
     ]
    }
   ],
   "source": [
    "for i in list(_kenh14['urls'].keys()):\n",
    "#web_24h_com_vn2['url'][i]['cate_id']\n",
    "    for j in list(_kenh14['urls'][i]['sub-category'].keys()):\n",
    "        #print(_kenh14['urls'][i]['sub-category'][j]['url_list'])\n",
    "        url_list =  _kenh14['urls'][i]['sub-category'][j]['url_list']\n",
    "        for t in range(0,len(url_list)):\n",
    "            content = _kenh14['urls'][i]['sub-category'][j]['content'][t]['text']\n",
    "            print(content)"
   ]
  },
  {
   "cell_type": "code",
   "execution_count": 34,
   "id": "a2ff6052-180c-4988-9c20-65f930a4d3f4",
   "metadata": {},
   "outputs": [
    {
     "name": "stdout",
     "output_type": "stream",
     "text": [
      "sport 0 https://kenh14.vn/sport/hau-truong.chn\n",
      "https://kenh14.vn/diem-chung-trong-cong-thuc-kiem-tien-cua-doan-hai-my-va-mai-ha-trang-lay-chong-cau-thu-noi-tieng-nhan-quang-cao-20231208160640468.chn\n",
      "https://kenh14.vn/tranh-cai-chuyen-doan-van-hau-nhan-tin-lam-quen-doan-hai-my-khi-van-con-hen-ho-ban-gai-cu-20231208105938411.chn\n",
      "sport 1 https://kenh14.vn/sport/esports.chn\n",
      "https://kenh14.vn/khau-chien-voi-doi-thu-cuu-vo-dich-cktg-quyet-tuyet-tinh-luon-voi-lmht-bang-hanh-dong-tan-nhan-20231208111332979.chn\n",
      "sport 0 38 Hậu trường Hậu trường Điểm chung trong công thức kiếm tiền của Doãn Hải My và Mai Hà Trang: Lấy chồng cầu thủ nổi tiếng, nhận quảng cáo https://kenh14.vn/diem-chung-trong-cong-thuc-kiem-tien-cua-doan-hai-my-va-mai-ha-trang-lay-chong-cau-thu-noi-tieng-nhan-quang-cao-20231208160640468.chn\n",
      "sport 0 38 Hậu trường Hậu trường Tranh cãi chuyện Đoàn Văn Hậu nhắn tin làm quen Doãn Hải My khi vẫn còn hẹn hò bạn gái cũ https://kenh14.vn/tranh-cai-chuyen-doan-van-hau-nhan-tin-lam-quen-doan-hai-my-khi-van-con-hen-ho-ban-gai-cu-20231208105938411.chn\n",
      "sport 1 61 Esports Esports Khẩu chiến với đối thủ, cựu vô địch CKTG quyết tuyệt tình luôn với LMHT bằng hành động tàn nhẫn https://kenh14.vn/khau-chien-voi-doi-thu-cuu-vo-dich-cktg-quyet-tuyet-tinh-luon-voi-lmht-bang-hanh-dong-tan-nhan-20231208111332979.chn\n"
     ]
    },
    {
     "ename": "AttributeError",
     "evalue": "'dict' object has no attribute 'key'",
     "output_type": "error",
     "traceback": [
      "\u001b[1;31m---------------------------------------------------------------------------\u001b[0m",
      "\u001b[1;31mAttributeError\u001b[0m                            Traceback (most recent call last)",
      "Cell \u001b[1;32mIn[34], line 1\u001b[0m\n\u001b[1;32m----> 1\u001b[0m main()\n",
      "Cell \u001b[1;32mIn[33], line 204\u001b[0m, in \u001b[0;36mmain\u001b[1;34m()\u001b[0m\n\u001b[0;32m    201\u001b[0m _kenh14 \u001b[38;5;241m=\u001b[39m get_news_kenh14()\n\u001b[0;32m    202\u001b[0m \u001b[38;5;28;01mfor\u001b[39;00m i \u001b[38;5;129;01min\u001b[39;00m \u001b[38;5;28mlist\u001b[39m(_kenh14[\u001b[38;5;124m'\u001b[39m\u001b[38;5;124murls\u001b[39m\u001b[38;5;124m'\u001b[39m]\u001b[38;5;241m.\u001b[39mkeys()):\n\u001b[0;32m    203\u001b[0m \u001b[38;5;66;03m#web_24h_com_vn2['url'][i]['cate_id']\u001b[39;00m\n\u001b[1;32m--> 204\u001b[0m     \u001b[38;5;28;01mfor\u001b[39;00m j \u001b[38;5;129;01min\u001b[39;00m \u001b[38;5;28mlist\u001b[39m(_kenh14[\u001b[38;5;124m'\u001b[39m\u001b[38;5;124murls\u001b[39m\u001b[38;5;124m'\u001b[39m][i][\u001b[38;5;124m'\u001b[39m\u001b[38;5;124msub-category\u001b[39m\u001b[38;5;124m'\u001b[39m]\u001b[38;5;241m.\u001b[39mkey()):\n\u001b[0;32m    205\u001b[0m         url_list \u001b[38;5;241m=\u001b[39m  _kenh14[\u001b[38;5;124m'\u001b[39m\u001b[38;5;124murls\u001b[39m\u001b[38;5;124m'\u001b[39m][i][\u001b[38;5;124m'\u001b[39m\u001b[38;5;124msub-category\u001b[39m\u001b[38;5;124m'\u001b[39m][j][\u001b[38;5;124m'\u001b[39m\u001b[38;5;124murl_list\u001b[39m\u001b[38;5;124m'\u001b[39m]\n\u001b[0;32m    206\u001b[0m         \u001b[38;5;28;01mfor\u001b[39;00m t \u001b[38;5;129;01min\u001b[39;00m \u001b[38;5;28mrange\u001b[39m(\u001b[38;5;241m0\u001b[39m,\u001b[38;5;28mlen\u001b[39m(url_list)):\n",
      "\u001b[1;31mAttributeError\u001b[0m: 'dict' object has no attribute 'key'"
     ]
    }
   ],
   "source": [
    "main()"
   ]
  },
  {
   "cell_type": "code",
   "execution_count": 7,
   "id": "bf399202-36ac-4c4e-930b-ecfd92c0402c",
   "metadata": {},
   "outputs": [
    {
     "data": {
      "text/plain": [
       "<div class=\"knc-content\"><h2>\n",
       "                                    Nobuhiro Takeda, cựu tuyển thủ Nhật Bản và hiện là một bình luận viên bóng đá, đã bày tỏ sự không hài lòng khi ĐT Nhật Bản chọn Thái Lan để chơi trận giao hữu đầu năm 2024.\n",
       "                                </h2><!-- Kham pha --><div type=\"Photo\"><div>[caption id=\"\" align=\"aligncenter\" width=\"800\"]<img alt=\"ĐT Nhật Bản bị chỉ trích vì chọn đội hình B chơi trận khai xuân với ĐT Thái Lan - Ảnh 1.\" class=\"aligncenter\" data-original=\"https://kenh14cdn.com/203336854389633024/2023/12/8/photo-2-17020025466941548246883.jpg\" h=\"481\" height=\"400\" photoid=\"657409107047018496\" rel=\"lightbox\" src=\"https://kenh14cdn.com/203336854389633024/2023/12/8/photo-2-17020025466941548246883.jpg\" title=\"ĐT Nhật Bản bị chỉ trích vì chọn đội hình B chơi trận khai xuân với ĐT Thái Lan - Ảnh 1.\" type=\"photo\" w=\"645\" width=\"800\"/>[/caption]</div></div><p>Vào ngày 1/1/2024, ĐT Nhật Bản sẽ đọ sức Thái Lan. Đây là màn tập dượt để họ chuẩn bị cho Asian Cup 2023 , sự kiện sẽ diễn ra sau đó gần 2 tuần. Nhưng vì nhiều trụ cột bận thi đấu ở các giải hàng đầu châu Âu, gồm Tomiyasu (Arsenal), Mitoma (Brighton), Endo (Liverpool) hay Kamada (Lazio)... nên Nhật Bản không thể gọi lực lượng mạnh nhất.</p><p>Họ chỉ có thể triệu tập các cầu thủ trong nước và một vài cầu thủ chơi bóng ở châu Âu nhưng được nghỉ giai đoạn đầu năm, gồm Takuma Asano (Bochum), Ayase Ueda (Feyenoord), Takumi Minamino (Monaco)...</p><p>Dù thiếu đến nửa lực lượng trụ cột nhưng Nhật Bản vẫn vượt trội Thái Lan và khả năng họ giành 3 điểm là không phải bàn cãi. Trận đấu này được coi là cữ dượt cuối cùng trước khi HLV Hajime Moriyasu chốt 23 cái tên đến Qatar dự Cúp châu Á, dĩ nhiên là gồm dàn sao đang khoác áo các CLB hàng đầu thế giới cùng những phát hiện mới được chốt lại sau trận giao hữu với Thái Lan.</p><div type=\"Photo\"><div>[caption id=\"\" align=\"aligncenter\" width=\"800\"]<img alt=\"ĐT Nhật Bản bị chỉ trích vì chọn đội hình B chơi trận khai xuân với ĐT Thái Lan - Ảnh 2.\" class=\"aligncenter\" data-original=\"https://kenh14cdn.com/203336854389633024/2023/12/8/photo-1-170200254567212550629.jpeg\" h=\"413\" height=\"400\" photoid=\"657409103436263424\" rel=\"lightbox\" src=\"https://kenh14cdn.com/203336854389633024/2023/12/8/photo-1-170200254567212550629.jpeg\" title=\"ĐT Nhật Bản bị chỉ trích vì chọn đội hình B chơi trận khai xuân với ĐT Thái Lan - Ảnh 2.\" type=\"photo\" w=\"645\" width=\"800\"/>Mitoma sẽ không có mặt ở trận giao hữu tới[/caption]</div></div><p>Mục tiêu thử nghiệm của HLV Hajime Moriyasu là rõ ràng, nhưng theo cựu danh thủ Nobuhiro Takeda, ông không hài lòng vì Nhật Bản chỉ dùng đội hình B đấu Thái Lan. Ông cho rằng như thế sẽ hạ thấp danh tiếng của ĐT Nhật Bản.</p><p>Nobuhiro Takeda nói: “Đây là trận giao hữu hạng A. Nhưng một đội tuyển thiếu nhiều cầu thủ chủ chốt liệu sẽ được công nhận là đại diện của nền bóng đá? Trước đây, những trận đấu như thế này, chúng ta thường gọi đội nhà là đội Nhật Bản B.</p><p>Trước đây không có nhiều trận đấu, nhưng bây giờ hầu như tháng nào cũng có trận (của ĐTQG) nên giá trị các trận đấu ở cấp độ A cũng khác. Còn với cách bố trí của HLV (Moriyasu) thì ai cũng có thể gia nhập đội tuyển quốc gia. Mọi chuyện thay đổi theo thời gian nhưng nếu chúng ta không quan tâm đến chất lượng thì những khán giả bỏ tiền ra sân đến xem sẽ nghĩ gì?</p><p>HLV Moriyasu có kinh nghiệm huấn luyện và tôi nghĩ ông ấy đang rèn các cầu thủ bằng cách tích lũy kinh nghiệm cho họ qua các trận đấu. Nhưng với một trận đấu đầu năm quan trọng như thế, liệu có xứng đáng không khi chúng ta chỉ dùng đội hình B?”.</p><i>Nguồn: kenh14.vn</i></div>"
      ]
     },
     "execution_count": 7,
     "metadata": {},
     "output_type": "execute_result"
    }
   ],
   "source": [
    "get_content_kenh14('https://kenh14.vn/dt-nhat-ban-bi-chi-trich-vi-chon-doi-hinh-b-choi-tran-khai-xuan-voi-dt-thai-lan-20231208093013832.chn')[0]"
   ]
  },
  {
   "cell_type": "code",
   "execution_count": 47,
   "id": "3ac26c55-7f0b-4fa3-b1c1-dc46b8808f61",
   "metadata": {},
   "outputs": [
    {
     "data": {
      "text/plain": [
       "'children = article.find_all(recursive=False)\\nrelated_news =  article.find(\\'div\\', class_ = \\'knc-relate-wrapper relationnews\\')\\nrelated_news.decompose()\\nfor i in children[-6:]:\\n    i.decompose() \\nimg_list = article.find_all([\\'img\\',\\'video\\'])[:-1]\\nn_img = len(img_list)\\nfor i in range(0,n_img):\\n    caption_start = NavigableString(\"[caption id=\"\" align=\"aligncenter\" width=\"800\"]\")\\n    caption_text = NavigableString(caption_text_list[i].text)\\n    caption_end = NavigableString(\"[/caption]\")\\n    caption_text_list[i].decompose()\\n        # Insert the custom tags and caption text around the <img> tag\\n    img_list[i].insert_before(caption_start)\\n    img_list[i].insert_after(caption_end)\\n    try:\\n        img_list[i].insert_after(caption_text) \\n    except IndexError as e:\\n        print(e)        #print(len(caption_text_list))'"
      ]
     },
     "execution_count": 47,
     "metadata": {},
     "output_type": "execute_result"
    }
   ],
   "source": [
    "response = requests.get('https://kenh14.vn/me-vo-tre-dep-cua-doan-van-hau-muon-dap-di-xay-lai-ngoai-hinh-ket-qua-ra-sao-20231207192943245.chn')\n",
    "soup = BeautifulSoup(response.content, 'html.parser')\n",
    "article =  soup.find('div', class_ = \"knc-content\")\n",
    "h2_tag =  soup.find('h2', class_ = 'knc-sapo')\n",
    "article.insert(0, h2_tag)\n",
    "caption_text_list =article.find_all( class_=\"PhotoCMS_Caption\")\n",
    "for caption in caption_text_list:\n",
    "    img_container = caption.previous_sibling\n",
    "    img = img_container.find('img')\n",
    "    img['src'] = img['data-original']\n",
    "    caption_start = NavigableString(\"[caption id=\\\"\\\" align=\\\"aligncenter\\\" width=\\\"800\\\"]\")\n",
    "    try:\n",
    "        caption_text = NavigableString(caption.find('p').text.strip())\n",
    "    except IndexError:\n",
    "        caption_text = ''\n",
    "    caption_end = NavigableString(\"[/caption]\")\n",
    "    img.insert_before(caption_start)\n",
    "    img.insert_after(caption_end)\n",
    "    img.insert_after(caption_text)\n",
    "    caption.decompose()\n",
    "\"\"\"children = article.find_all(recursive=False)\n",
    "related_news =  article.find('div', class_ = 'knc-relate-wrapper relationnews')\n",
    "related_news.decompose()\n",
    "for i in children[-6:]:\n",
    "    i.decompose() \n",
    "img_list = article.find_all(['img','video'])[:-1]\n",
    "n_img = len(img_list)\n",
    "for i in range(0,n_img):\n",
    "    caption_start = NavigableString(\"[caption id=\\\"\\\" align=\\\"aligncenter\\\" width=\\\"800\\\"]\")\n",
    "    caption_text = NavigableString(caption_text_list[i].text)\n",
    "    caption_end = NavigableString(\"[/caption]\")\n",
    "    caption_text_list[i].decompose()\n",
    "        # Insert the custom tags and caption text around the <img> tag\n",
    "    img_list[i].insert_before(caption_start)\n",
    "    img_list[i].insert_after(caption_end)\n",
    "    try:\n",
    "        img_list[i].insert_after(caption_text) \n",
    "    except IndexError as e:\n",
    "        print(e)        #print(len(caption_text_list))\"\"\""
   ]
  },
  {
   "cell_type": "code",
   "execution_count": 38,
   "id": "f562d637-d803-493e-bf6b-ebcc9e03272f",
   "metadata": {},
   "outputs": [
    {
     "data": {
      "text/plain": [
       "<div class=\"knc-content\"><h2 class=\"knc-sapo\">\n",
       "                                    Tuyên bố muốn phẫu thuật thẩm mỹ nhưng bà Đoàn Phương Mai - mẹ vợ của hậu vệ Đoàn Văn Hậu - vẫn chưa đạt được như ý nguyện?\n",
       "                                </h2>\n",
       "<!-- Kham pha -->\n",
       "<p>Bà Đoàn Phương Mai (nickname Mai Đoàn) - mẹ của nàng WAG Doãn Hải My - thời gian gần đây nổi rần rần trên mạng xã hội khi xuất hiện với diện mạo trẻ đẹp trong đám cưới của con gái và hậu vệ ĐT Việt Nam Đoàn Văn Hậu. Ở độ tuổi 46, bà Mai Đoàn vẫn thu hút sự chú ý với nhan sắc mặn mà, vóc dáng nuột nà cùng phong cách thời trang sành điệu. Khi bà Mai Đoàn đi cạnh còn gái Doãn Hải My, hai người thường được nhận xét giống chị em hơn là mẹ con.</p><p>Dù được khen về ngoại hình nhưng mẹ vợ của Đoàn Văn Hậu vẫn có điểm chưa hài lòng. Một thời gian trước, trên Facebook cá nhân, bà Mai Đoàn đã chia sẻ chuyện muốn tác động dao kéo để trùng tu nhan sắc. Mẹ Doãn Hải My viết: \"<em>Muốn đập đi làm lại bao thứ: độ loa này, hút mỡ này, siết eo này... mà chưa có dũng khí nên chỉ toàn mơ với ước thôi. Hèn lắm ý</em>\".</p><p>Chia sẻ này của bà Mai Đoàn nhận được sự bàn luận sôi nổi từ người thân, bạn bè. Khi được khen \"<em>thôi đẹp lắm rồi, có định thi hoa hậu không</em>\", mẹ Doãn Hải My đáp: \"<em>Đập đi làm lại hết xong có khi đi thi nhỉ, cả họ nhà mình đi cổ vũ vui phết</em>\". Dù vậy, mẹ vợ của Đoàn Văn Hậu cũng thừa nhận mình chỉ giỏi hô hào chứ vẫn chưa có dũng khí để đụng đến dao kéo để nâng cấp nhan sắc.</p><div class=\"VCSortableInPreviewMode\" style=\"\" type=\"Photo\"><div>[caption id=\"\" align=\"aligncenter\" width=\"800\"]<img alt=\"Mẹ vợ trẻ đẹp của Đoàn Văn Hậu muốn đập đi xây lại ngoại hình, kết quả ra sao? - Ảnh 1.\" data-original=\"https://kenh14cdn.com/203336854389633024/2023/12/7/photo-3-1701952040974798665083.jpg\" h=\"453\" height=\"\" id=\"img_657197279343714304\" photoid=\"657197279343714304\" rel=\"lightbox\" src=\"https://kenh14cdn.com/thumb_w/620/203336854389633024/2023/12/7/photo-3-1701952040974798665083.jpg\" style=\"width:100%;max-width:100%;\" title=\"Mẹ vợ trẻ đẹp của Đoàn Văn Hậu muốn đập đi xây lại ngoại hình, kết quả ra sao? - Ảnh 1.\" type=\"photo\" w=\"680\" width=\"\"/>Mẹ vợ của Đoàn Văn Hậu gây ấn tượng với nhan sắc trẻ đẹp[/caption]</div></div><p>Trong hai đám cưới của Đoàn Văn Hậu và Doãn Hải My vào hai ngày 11/11 và 26/11 vừa qua, mẹ của Doãn Hải My xuất hiện với những bộ áo dài quý phái, khoe nhan sắc ấn tượng. Đặc biệt với tiệc cưới ở Hà Nội, bà Mai Đoàn đã có mặt từ sớm để chỉ đạo việc trang trí hội trường cưới, đốc thúc từng việc nhỏ nhất để con gái có một ngày vui trọn vẹn bên con rể. </p><p>Lúc phần lễ cưới khép lại, khách mời và cô dâu chú rể cùng quẩy tưng bừng trên nền nhạc sôi động, bà Mai Đoàn cũng \"xả vai\" mẹ vợ, lên quẩy nhiệt tình cùng mọi người. Khi tương tác cùng bạn bè trên mạng xã hội, mẹ vợ của Văn Hậu thể hiện rõ niềm vui khi con gái đã tìm được người nương tựa cả đời.</p><div class=\"VCSortableInPreviewMode active\" style=\"\" type=\"Photo\"><div>[caption id=\"\" align=\"aligncenter\" width=\"800\"]<img alt=\"Mẹ vợ trẻ đẹp của Đoàn Văn Hậu muốn đập đi xây lại ngoại hình, kết quả ra sao? - Ảnh 2.\" data-original=\"https://kenh14cdn.com/203336854389633024/2023/12/7/photo-2-1701952039446615350694.jpg\" h=\"934\" height=\"\" id=\"img_657197273153167360\" photoid=\"657197273153167360\" rel=\"lightbox\" src=\"https://kenh14cdn.com/thumb_w/620/203336854389633024/2023/12/7/photo-2-1701952039446615350694.jpg\" style=\"width:100%;max-width:100%;\" title=\"Mẹ vợ trẻ đẹp của Đoàn Văn Hậu muốn đập đi xây lại ngoại hình, kết quả ra sao? - Ảnh 2.\" type=\"photo\" w=\"679\" width=\"\"/>Mẹ của Doãn Hải My khi đứng cạnh con gái thường được nhận xét giống hai chị em hơn là mẹ con[/caption]</div></div><div class=\"VCSortableInPreviewMode active\" style=\"\" type=\"Photo\"><div>[caption id=\"\" align=\"aligncenter\" width=\"800\"]<img alt=\"Mẹ vợ trẻ đẹp của Đoàn Văn Hậu muốn đập đi xây lại ngoại hình, kết quả ra sao? - Ảnh 3.\" data-original=\"https://kenh14cdn.com/203336854389633024/2023/12/7/photo-1-1701952038296316029720.jpg\" h=\"982\" height=\"\" id=\"img_657197268282601472\" photoid=\"657197268282601472\" rel=\"lightbox\" src=\"https://kenh14cdn.com/thumb_w/620/203336854389633024/2023/12/7/photo-1-1701952038296316029720.jpg\" style=\"width:100%;max-width:100%;\" title=\"Mẹ vợ trẻ đẹp của Đoàn Văn Hậu muốn đập đi xây lại ngoại hình, kết quả ra sao? - Ảnh 3.\" type=\"photo\" w=\"679\" width=\"\"/>Doãn Hải My được thừa hưởng nhan sắc từ mẹ[/caption]</div></div>\n",
       "</div>"
      ]
     },
     "execution_count": 38,
     "metadata": {},
     "output_type": "execute_result"
    }
   ],
   "source": [
    "article"
   ]
  },
  {
   "cell_type": "code",
   "execution_count": null,
   "id": "0c88039c-7691-4586-9ac8-3c49b5d4c841",
   "metadata": {},
   "outputs": [],
   "source": [
    "def get_list_url(cate_url):\n",
    "    response = requests.get(cate_url)\n",
    "    soup = BeautifulSoup(response.content, 'html.parser')\n",
    "    list_url = soup.find_all('h3', class_ = \"knswli-title\")\n",
    "    list = []\n",
    "    for i in list_url:\n",
    "        try:\n",
    "            path = i.find('a')['href']\n",
    "            url = 'https://kenh14.vn'+ path\n",
    "            list.append(url)\n",
    "        except TypeError:\n",
    "            continue\n",
    "    return list"
   ]
  }
 ],
 "metadata": {
  "kernelspec": {
   "display_name": "Python 3 (ipykernel)",
   "language": "python",
   "name": "python3"
  },
  "language_info": {
   "codemirror_mode": {
    "name": "ipython",
    "version": 3
   },
   "file_extension": ".py",
   "mimetype": "text/x-python",
   "name": "python",
   "nbconvert_exporter": "python",
   "pygments_lexer": "ipython3",
   "version": "3.11.5"
  }
 },
 "nbformat": 4,
 "nbformat_minor": 5
}
