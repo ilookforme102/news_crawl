{
 "cells": [
  {
   "cell_type": "code",
   "execution_count": 4,
   "id": "485eccd1-e8b5-412b-a558-7882e9507430",
   "metadata": {},
   "outputs": [],
   "source": [
    "import requests \n",
    "import time\n",
    "import re\n",
    "from datetime import datetime\n",
    "from bs4 import BeautifulSoup,NavigableString, Comment\n",
    "import html5lib"
   ]
  },
  {
   "cell_type": "code",
   "execution_count": 5,
   "id": "552d462d-5b64-428f-9383-4eb0e764c287",
   "metadata": {},
   "outputs": [],
   "source": [
    "_bongdaplus = {\n",
    "        \"home_page\":\"https://bongdaplus.vn/\",\n",
    "        \"urls\":{\n",
    "            \"sport\":\n",
    "            {\n",
    "             \"url\":\"https://kenh14.vn/sport.chn\",\n",
    "             \"sub-category\":{\n",
    "                0:{\n",
    "                  \"name\":\"Hậu trường bóng đá\",\n",
    "                  \"url\":\"https://bongdaplus.vn/hau-truong-bong-da\",\n",
    "                  \"cate_id\":38,\n",
    "                  \"url_list\" : []}\n",
    "             }\n",
    "            }\n",
    "        }\n",
    "    }\n"
   ]
  },
  {
   "cell_type": "code",
   "execution_count": 6,
   "id": "3aa8b691-f4d7-48e0-8c7e-894ab9074088",
   "metadata": {},
   "outputs": [
    {
     "data": {
      "text/plain": [
       "{'home_page': 'https://bongdaplus.vn/',\n",
       " 'urls': {'sport': {'url': 'https://kenh14.vn/sport.chn',\n",
       "   'sub-category': {0: {'name': 'Hậu trường bóng đá',\n",
       "     'url': 'https://bongdaplus.vn/hau-truong-bong-da',\n",
       "     'cate_id': 38,\n",
       "     'url_list': []}}}}}"
      ]
     },
     "execution_count": 6,
     "metadata": {},
     "output_type": "execute_result"
    }
   ],
   "source": [
    "_bongdaplus"
   ]
  },
  {
   "cell_type": "code",
   "execution_count": 4,
   "id": "6f03e8c2-b095-4e25-8762-07a31c7629af",
   "metadata": {},
   "outputs": [],
   "source": [
    "def get_list_url(cate_url):\n",
    "    response = requests.get(cate_url)\n",
    "    soup = BeautifulSoup(response.content, 'html.parser')\n",
    "    list_url = soup.find('div', attrs = {'data-marked-zoneid':'kenh14_detail_d3'}).find_all('li')\n",
    "    list = []\n",
    "    for i in list_url:\n",
    "        try:\n",
    "            path = i.find('a')['href']\n",
    "            url = 'https://kenh14.vn'+ path\n",
    "            list.append(url)\n",
    "        except TypeError:\n",
    "            continue\n",
    "    return list\n",
    "        "
   ]
  },
  {
   "cell_type": "code",
   "execution_count": 5,
   "id": "f1c6b625-8718-4876-9885-9773420adbfd",
   "metadata": {},
   "outputs": [
    {
     "data": {
      "text/plain": [
       "['https://kenh14.vn/chuyen-tinh-tai-tieng-cua-sao-bong-da-nguoi-trang-hoa-ke-giat-bo-dong-nghiep-20231125084606905.chn',\n",
       " 'https://kenh14.vn/lap-sieu-pham-tu-khoang-cach-hon-30m-ronaldo-di-vao-lich-su-20231125084207354.chn',\n",
       " 'https://kenh14.vn/khoanh-khac-tuan-hai-hoa-thanh-david-beckham-viet-nam-ghi-ban-tu-giua-san-20231125005616298.chn',\n",
       " 'https://kenh14.vn/clb-tphcm-chinh-thuc-len-tieng-ve-lum-xum-no-luong-cau-thu-20231125005311325.chn',\n",
       " 'https://kenh14.vn/thua-doi-thu-hang-15-the-gioi-nguyen-thuy-linh-dung-buoc-o-giai-china-masters-20231124174301543.chn']"
      ]
     },
     "execution_count": 5,
     "metadata": {},
     "output_type": "execute_result"
    }
   ],
   "source": [
    "get_list_url('https://kenh14.vn/sport/bong-da.chn')\n"
   ]
  },
  {
   "cell_type": "code",
   "execution_count": 25,
   "id": "b893ab98-d00e-4978-8682-61aad3bebfc8",
   "metadata": {},
   "outputs": [],
   "source": [
    "#convert time string to the right format\n",
    "def convert_string(input_str):\n",
    "    # Extract the date part using regular expression\n",
    "    pattern = r'\\d{2}/\\d{2}/\\d{4}'\n",
    "    date_part = re.search(pattern, input_str).group()\n",
    "    match = re.search(pattern, input_str)\n",
    "    if match:\n",
    "        # Parse the date string into a datetime object\n",
    "        date_obj = datetime.strptime(date_part, '%d/%m/%Y')\n",
    "        formatted_date = date_obj.strftime('%Y-%m-%d')\n",
    "        return formatted_date\n",
    "    else:\n",
    "        return \"\"\n",
    "# return the expected content in html format\n",
    "def get_content_kenh14(url):\n",
    "    response = requests.get(url)\n",
    "    soup = BeautifulSoup(response.content, 'html.parser')\n",
    "    article =  soup.find('div', class_ = \"klw-new-content\")\n",
    "    children = article.find_all(recursive=False)\n",
    "    related_news =  article.find('div', class_ = 'knc-relate-wrapper relationnews')\n",
    "    related_news.decompose()\n",
    "    for i in children[-6:]:\n",
    "        i.decompose() \n",
    "    caption_text_list =article.find_all('div', class_=\"PhotoCMS_Caption\")\n",
    "    img_list = article.find_all(['img','video'])\n",
    "    n_img = len(img_list)\n",
    "    for i in range(0,n_img):\n",
    "        caption_start = NavigableString(\"[caption id=\\\"\\\" align=\\\"aligncenter\\\" width=\\\"800\\\"]\")\n",
    "        caption_text = NavigableString(caption_text_list[i].text)\n",
    "        caption_end = NavigableString(\"[/caption]\")\n",
    "        caption_text_list[i].decompose()\n",
    "        # Insert the custom tags and caption text around the <img> tag\n",
    "        img_list[i].insert_before(caption_start)\n",
    "        img_list[i].insert_after(caption_end)\n",
    "        try:\n",
    "            img_list[i].insert_after(caption_text) \n",
    "        except IndexError as e:\n",
    "            print(e)        #print(len(caption_text_list))\n",
    "    for script_or_style in article(['script', 'style']):\n",
    "            script_or_style.decompose() \n",
    "    for i in article.find_all(recursive = True):\n",
    "        try:\n",
    "            del i['onclick']\n",
    "            del i['id']\n",
    "            del i['class']\n",
    "            del i['style']\n",
    "        except AttributeError:\n",
    "            continue\n",
    "        except TypeError:\n",
    "            continue            \n",
    "    tags_to_remove = article.find_all(['a', 'span'])\n",
    "    for tag in tags_to_remove:\n",
    "        # Extract the text from the tag\n",
    "        tag_text = tag.get_text()\n",
    "            # Replace the tag with its text content\n",
    "        tag.replace_with(tag_text)\n",
    "        tag.text.strip() \n",
    "    for i in article.find_all('img'):\n",
    "        i['class'] = \"aligncenter\"\n",
    "        i['width'] = 800\n",
    "        i['height'] = 400\n",
    "    for video in article.find_all('video'):\n",
    "        video.parent.decompose()\n",
    "        #video.decompose(\n",
    "    source_tag = soup.new_tag('i') \n",
    "    source_tag.string = \"Nguồn: kenh14.vn\"  # Set the content of <i> tag\n",
    "    # Append the <i> tag as the last child of the <article> tag\n",
    "    article.append(source_tag)\n",
    "    for i in article.find_all('div', {'align': 'center'}):\n",
    "        i.decompose()\n",
    "    for element in article.find_all(recursive = True,string=True):\n",
    "        if isinstance(element, NavigableString) and element.strip() == '':\n",
    "            element.extract()\n",
    "    #remove element withou child element or have children element which is empty\n",
    "    for i in article.find_all(recursive = True):\n",
    "        if i.children == None and i.string == None:\n",
    "            i.decompose()\n",
    "    for i in article.find_all(recursive = True):\n",
    "        try:\n",
    "            i.text.trip()\n",
    "        except AttributeError as e:\n",
    "            continue\n",
    "    return article\n",
    "    \n",
    "def get_post(url):\n",
    "    try:\n",
    "        response = requests.get(url)\n",
    "        time.sleep(5)\n",
    "        soup = BeautifulSoup(response.content, 'html5lib')\n",
    "        content = get_content_kenh14(url)\n",
    "        post_time = soup.find('span', class_ = 'kbwcm-time').text.strip()\n",
    "        published_date = convert_string(post_time)\n",
    "        title = soup.find('h1').text.strip()\n",
    "        return content,title,published_date\n",
    "    except AttributeError as e:\n",
    "        print(e)\n",
    "#convert time string to datetime object\n",
    "def convert_time_string(posted_date):\n",
    "    pattern = r'\\d{2}/\\d{2}/\\d{4}'\n",
    "    match = re.search(pattern, posted_date)\n",
    "\n",
    "    if match:\n",
    "        date_string = match.group()\n",
    "\n",
    "        # Convert to datetime object\n",
    "        datetime_obj = datetime.strptime(date_string, \"%d/%m/%Y\")\n",
    "        return datetime_obj\n",
    "    else:\n",
    "        return ''\n",
    "def get_list_url(cate_url):\n",
    "    response = requests.get(cate_url)\n",
    "    soup = BeautifulSoup(response.content, 'html.parser')\n",
    "    list_url = soup.find('div', attrs = {'data-marked-zoneid':'kenh14_detail_d3'}).find_all('li')\n",
    "    list = []\n",
    "    for i in list_url:\n",
    "        try:\n",
    "            path = i.find('a')['href']\n",
    "            url = 'https://kenh14.vn'+ path\n",
    "            list.append(url)\n",
    "        except TypeError:\n",
    "            continue\n",
    "    return list\n",
    "def filter_list(urls):\n",
    "    filtered_urls = []\n",
    "    crawl_time = datetime.fromtimestamp(time.time())\n",
    "    for i in urls:\n",
    "        response = requests.get(i)\n",
    "        soup = BeautifulSoup(response.content, 'html5lib')\n",
    "        try:\n",
    "            date_posted = soup.find('span', class_ = 'kbwcm-time').text.strip()\n",
    "            date_posted_norm = convert_time_string(date_posted)\n",
    "            if ( (date_posted_norm.day == crawl_time.day) and (date_posted_norm.month == crawl_time.month) and (date_posted_norm.year == crawl_time.year) ):\n",
    "                filtered_urls.append(i)\n",
    "                print(i)\n",
    "        except AttributeError as e:\n",
    "            print(e)\n",
    "            break\n",
    "    return filtered_urls\n",
    "def add_list(web_json_obj):\n",
    "    for i in list(web_json_obj['urls'].keys()):\n",
    "        for j in list(web_json_obj['urls'][i]['sub-category'].keys()):  \n",
    "            urls = get_list_url(web_json_obj['urls'][i]['sub-category'][j]['url'])\n",
    "            print(i,j,web_json_obj['urls'][i]['sub-category'][j]['url'])\n",
    "            web_json_obj['urls'][i]['sub-category'][j]['url_list'] = filter_list(urls)\n",
    "\n",
    "def add_post(web_json_obj):\n",
    "    for i in list(web_json_obj['urls'].keys()):\n",
    "        for j in list(web_json_obj['urls'][i]['sub-category'].keys()):\n",
    "            web_json_obj['urls'][i]['sub-category'][j]['content'] = {}\n",
    "            list_key = [v for v in range(0,len(web_json_obj['urls'][i]['sub-category'][j]['url_list']))]\n",
    "            for u in list_key:\n",
    "                web_json_obj['urls'][i]['sub-category'][j]['content'][u] = {}\n",
    "                if u != \"\":\n",
    "                    web_json_obj['urls'][i]['sub-category'][j]['content'][u]['text'] ,web_json_obj['urls'][i]['sub-category'][j]['content'][u]['title'],web_json_obj['urls'][i]['sub-category'][j]['content'][u]['published_date'] = get_post(web_json_obj['urls'][i]['sub-category'][j]['url_list'][u])\n",
    "                    print(i,j,web_json_obj['urls'][i]['sub-category'][j]['cate_id'],web_json_obj['urls'][i]['sub-category'][j]['name'],web_json_obj['urls'][i]['sub-category'][j]['name'],web_json_obj['urls'][i]['sub-category'][j]['content'][u]['title'],web_json_obj['urls'][i]['sub-category'][j]['url_list'][u])\n",
    "                \n",
    "def get_news_kenh14():\n",
    "    _kenh14 = {\n",
    "            \"home_page\":\"https://kenh14.vn/\",\n",
    "            \"urls\":{\n",
    "                \"sport\":\n",
    "                {\n",
    "                 \"url\":\"https://kenh14.vn/sport.chn\",\n",
    "                 \"sub-category\":{  \n",
    "                    0:{\"name\":\"Hậu trường\",\n",
    "                     \"url\":\"https://kenh14.vn/sport/hau-truong.chn\",\n",
    "                     \"cate_id\":38,\n",
    "                      \"url_list\" : []},\n",
    "                    1:{\"name\":\"Esports\",\n",
    "                     \"url\":\"https://kenh14.vn/sport/esports.chn\",\n",
    "                     \"cate_id\":61,\n",
    "                      \"url_list\" : []}\n",
    "                 }\n",
    "                }\n",
    "            }\n",
    "        }\n",
    "#\n",
    "    add_list(_kenh14)\n",
    "    add_post(_kenh14)\n",
    "    return _kenh14\n",
    "def send_post_to_5goals(title,content,category_id,published_date):\n",
    "    # URL of the API endpoint (this is a placeholder and needs to be replaced with the actual URL)\n",
    "    url = \"https://api2023.5goal.com/wp-json/custom/createPost\"\n",
    "    \n",
    "    # Data to be sent in the POST request\n",
    "    data = {\n",
    "        \"title\": title,\n",
    "        \"content\": content,\n",
    "        \"category_id\": category_id,\n",
    "        \"token\": '5goalvodichcmnl',  # Replace with your actual access token\n",
    "        \"published_date\": published_date,\n",
    "        \"domain\":\"kenh14\"\n",
    "          # Replace with the actual category ID as required\n",
    "    }\n",
    "    \n",
    "    # Sending the POST request\n",
    "    response = requests.post(url, data=data)\n",
    "    \n",
    "    # Checking the response\n",
    "    if response.status_code == 200:\n",
    "        print(\"The post was successfully created.\")\n",
    "        print(\"Response:\", response.text)  # Prints the response text from the server\n",
    "    else:\n",
    "        print(f\"Failed to create the post. Status code: {response.status_code}\")\n",
    "def main():\n",
    "    _kenh14 = get_news_kenh14()\n",
    "    for i in list(_kenh14['urls'].keys()):\n",
    "    #web_24h_com_vn2['url'][i]['cate_id']\n",
    "        for j in list(_kenh14['urls'][i]['sub-category']):\n",
    "            url_list =  _kenh14['urls'][i]['sub-category'][j]['url_list']\n",
    "            for t in range(0,len(url_list)):\n",
    "                content = _kenh14['urls'][i]['sub-category'][j]['content'][t]['text']\n",
    "                title = _kenh14['urls'][i]['sub-category'][j]['content'][t]['title']\n",
    "                published_date = _kenh14['urls'][i]['sub-category'][j]['content'][t]['published_date']\n",
    "                cate_id = _kenh14['urls'][i]['sub-category'][j]['cate_id']\n",
    "                send_post_to_5goals(title,str(content), cate_id, published_date)\n",
    "                time.sleep(5)\n",
    "    return _kenh14\n"
   ]
  },
  {
   "cell_type": "code",
   "execution_count": 3,
   "id": "833e641a-097a-4041-970b-26fb895571d6",
   "metadata": {},
   "outputs": [
    {
     "name": "stdout",
     "output_type": "stream",
     "text": [
      "The post was successfully created.\n",
      "Response: {\"success\":false,\"error_message\":\"B\\u00e0i vi\\u1ebft \\u0111\\u00e3 t\\u1ed3n t\\u1ea1i.\"}\n"
     ]
    }
   ],
   "source": [
    "send_post_to_5goals('phim mới', '<p>test </p>', 'test title', '2023-11-22')"
   ]
  },
  {
   "cell_type": "code",
   "execution_count": 188,
   "id": "39394956-4b73-4642-8c49-fe026a3a78c6",
   "metadata": {},
   "outputs": [
    {
     "name": "stdout",
     "output_type": "stream",
     "text": [
      "sport 0 https://kenh14.vn/sport/hau-truong.chn\n",
      "sport 1 https://kenh14.vn/sport/esports.chn\n",
      "https://kenh14.vn/noi-tieng-chieu-fan-faker-phai-chang-se-co-the-so-huu-t1-ahri-day-nong-bong-20231125131654448.chn\n",
      "sport 1 61 Esports Esports Nổi tiếng “chiều fan”, Faker phải chăng sẽ có thể sở hữu T1 Ahri đầy \"nóng bỏng\"? https://kenh14.vn/noi-tieng-chieu-fan-faker-phai-chang-se-co-the-so-huu-t1-ahri-day-nong-bong-20231125131654448.chn\n",
      "The post was successfully created.\n",
      "Response: {\"success\":true,\"post_id\":63362}\n"
     ]
    }
   ],
   "source": [
    "_kenh14 = main()"
   ]
  },
  {
   "cell_type": "code",
   "execution_count": 182,
   "id": "ef7df8a2-4fe7-43e8-97a4-964b62b448b9",
   "metadata": {},
   "outputs": [
    {
     "data": {
      "text/plain": [
       "{'home_page': 'https://kenh14.vn/',\n",
       " 'urls': {'sport': {'url': 'https://kenh14.vn/sport.chn',\n",
       "   'sub-category': {0: {'name': 'Hậu trường',\n",
       "     'url': 'https://kenh14.vn/sport/hau-truong.chn',\n",
       "     'cate_id': 38,\n",
       "     'url_list': [],\n",
       "     'content': {}},\n",
       "    1: {'name': 'Esports',\n",
       "     'url': 'https://kenh14.vn/sport/esports.chn',\n",
       "     'cate_id': 61,\n",
       "     'url_list': ['https://kenh14.vn/noi-tieng-chieu-fan-faker-phai-chang-se-co-the-so-huu-t1-ahri-day-nong-bong-20231125131654448.chn'],\n",
       "     'content': {0: {'text': <div class=\"klw-new-content\"><div><div><div><div></div><div></div></div></div></div><h2>\n",
       "                                           Cộng đồng LMHT mới đây đã nghĩ ra một ý tưởng đầy táo bạo đối với trang phục vô địch thế giới của Faker.\n",
       "                                       </h2><div></div><div></div><div data-check-position=\"body_start\"></div><div><!-- Kham pha --><p>Với việc cùng T1 giành danh hiệu CKTG 2023, Faker đã sở hữu tới 4 chức vô địch thế giới trong sự nghiệp của mình. Đây rõ ràng là một thành tích “vô tiền khoáng hậu” của Faker khi khó có tuyển thủ nào có thể vượt qua được. Vì vậy, trang phục vinh danh chức vô địch thứ 4 của Faker chắc chắn sẽ có những yếu tố vô cùng đặc biệt.</p><div type=\"Photo\"><div>[caption id=\"\" align=\"aligncenter\" width=\"800\"]<img alt=\"Nổi tiếng “chiều fan”, Faker phải chăng sẽ có thể sở hữu T1 Ahri đầy nóng bỏng? - Ảnh 1.\" class=\"aligncenter\" data-original=\"https://kenh14cdn.com/203336854389633024/2023/11/25/photo-4-17008926408391557214280.png\" h=\"426\" height=\"400\" photoid=\"652753835479465984\" rel=\"lightbox\" src=\"https://kenh14cdn.com/thumb_w/620/203336854389633024/2023/11/25/photo-4-17008926408391557214280.png\" title=\"Nổi tiếng “chiều fan”, Faker phải chăng sẽ có thể sở hữu T1 Ahri đầy nóng bỏng? - Ảnh 1.\" type=\"photo\" w=\"640\" width=\"800\"/>Faker mới đây đã chính thức giành được chức vô địch thế giới thứ 4 trong sự nghiệp[/caption]</div></div><p>Một điều khá thú vị đó là sau khi giành chức vô địch, chính Gumayusi là người đã “spoil” việc Faker chọn Ahri để làm trang phục vinh danh. Hơn nữa, bản thân Faker cũng từng chia sẻ với báo giới rằng anh sẽ chọn vị tướng được nhiều người mong muốn. Điều này cho thấy Faker là người cực kỳ “chiều fan” nên việc anh chọn Ahri (nhân vật rất được yêu thích) để làm trang phục vô địch cũng là điều dễ hiểu.</p><div type=\"Photo\"><div>[caption id=\"\" align=\"aligncenter\" width=\"800\"]<img alt=\"Nổi tiếng “chiều fan”, Faker phải chăng sẽ có thể sở hữu T1 Ahri đầy nóng bỏng? - Ảnh 2.\" class=\"aligncenter\" data-original=\"https://kenh14cdn.com/203336854389633024/2023/11/25/photo-3-1700892639482615932375.png\" h=\"323\" height=\"400\" photoid=\"652753829709602816\" rel=\"lightbox\" src=\"https://kenh14cdn.com/thumb_w/620/203336854389633024/2023/11/25/photo-3-1700892639482615932375.png\" title=\"Nổi tiếng “chiều fan”, Faker phải chăng sẽ có thể sở hữu T1 Ahri đầy nóng bỏng? - Ảnh 2.\" type=\"photo\" w=\"640\" width=\"800\"/>Faker từng chia sẻ rằng: “Tôi sẽ chọn vị tướng được nhiều người hâm mộ mong muốn”[/caption]</div></div><p>Không dừng lại ở đó, cộng đồng LMHT sau khi biết chia sẻ của Faker đã nghĩ ra một ý tưởng táo bạo về trang phục T1 Ahri. Cụ thể, một người dùng trên diễn đàn Reddit cho rằng: “Tôi nghĩ Faker nên đề nghị làm skin Ahri Tiệc Bể Bơi và nhân vật này sẽ có hình xăm logo T1 trên người”. Ý kiến này sau đó đã nhận được rất nhiều lượt đồng tình (upvote) từ phía cộng đồng LMHT.</p><div type=\"Photo\"><div>[caption id=\"\" align=\"aligncenter\" width=\"800\"]<img alt=\"Nổi tiếng “chiều fan”, Faker phải chăng sẽ có thể sở hữu T1 Ahri đầy nóng bỏng? - Ảnh 3.\" class=\"aligncenter\" data-original=\"https://kenh14cdn.com/203336854389633024/2023/11/25/photo-2-17008926381141469771372.png\" h=\"360\" height=\"400\" photoid=\"652753823982878720\" rel=\"lightbox\" src=\"https://kenh14cdn.com/thumb_w/620/203336854389633024/2023/11/25/photo-2-17008926381141469771372.png\" title=\"Nổi tiếng “chiều fan”, Faker phải chăng sẽ có thể sở hữu T1 Ahri đầy nóng bỏng? - Ảnh 3.\" type=\"photo\" w=\"640\" width=\"800\"/>Ý kiến táo bạo về trang phục Ahri Tiệc Bể Bơi với hình xăm logo T1 được nhiều game thủ đồng tình[/caption]</div></div><p>Với việc sở hữu gương mặt khả ái, ngoại hình đầy quyến rũ, Ahri là một trong những nữ tướng được yêu thích bậc nhất LMHT. Mặc dù vậy, điều khó hiểu ở đây đó là Riot chưa bao giờ thiết kế trang phục Tiệc Bể Bơi cho Ahri dù nhận được rất nhiều yêu cầu từ phía game thủ. Thậm chí, bản thân Riot từng thừa nhận rằng họ chỉ làm trang phục này nếu như quá “túng thiếu” và cần tiền trong thời gian ngắn.</p><p>Rõ ràng là với một công ty lớn như Riot thì điều đó khó lòng xảy ra nên trang phục Ahri Tiệc Bể Bơi vẫn chưa thể xuất hiện. Có lẽ vì chờ đợi trang phục này quá lâu nên ngay khi có thông tin Faker lựa chọn Ahri để làm trang phục vô địch thì cộng đồng LMHT đã nghĩ ra ý tưởng trên.</p><div type=\"Photo\"><div><img alt=\"Nổi tiếng “chiều fan”, Faker phải chăng sẽ có thể sở hữu T1 Ahri đầy nóng bỏng? - Ảnh 4.\" class=\"aligncenter\" data-original=\"https://kenh14cdn.com/203336854389633024/2023/11/25/photo-1-17008926347241187442986.png\" h=\"810\" height=\"400\" photoid=\"652753810797703168\" rel=\"lightbox\" src=\"https://kenh14cdn.com/thumb_w/620/203336854389633024/2023/11/25/photo-1-17008926347241187442986.png\" title=\"Nổi tiếng “chiều fan”, Faker phải chăng sẽ có thể sở hữu T1 Ahri đầy nóng bỏng? - Ảnh 4.\" type=\"photo\" w=\"600\" width=\"800\"/></div><div><p data-placeholder=\"[nhập chú thích]\">Nhân viên Riot từng chia sẻ rằng họ chỉ làm trang phục Ahri Tiệc Bể Bơi nếu quá thiếu tiền</p></div></div><p>Trong quá khứ, Riot từng chiều theo yêu cầu của BeryL để thiết kế trang phục DRX Ashe giống với nhân vật Honkai Impact 3rd. Vì vậy, nếu đích thân Faker yêu cầu về trang phục Ahri Tiệc Bể Bơi thì Riot có lẽ cũng sẽ thực hiện. Nếu điều đó thực sự xảy ra thì skin T1 Ahri (nếu có) sẽ trở thành trang phục rất được người hâm mộ LMHT yêu thích.</p></div><zone></zone><zone></zone><!-- LIVE --><i>Nguồn: kenh14.vn</i></div>,\n",
       "       'title': 'Nổi tiếng “chiều fan”, Faker phải chăng sẽ có thể sở hữu T1 Ahri đầy \"nóng bỏng\"?',\n",
       "       'published_date': '2023-11-25'}}}}}}}"
      ]
     },
     "execution_count": 182,
     "metadata": {},
     "output_type": "execute_result"
    }
   ],
   "source": [
    "_kenh14"
   ]
  },
  {
   "cell_type": "code",
   "execution_count": 186,
   "id": "b2790780-d92d-4953-8389-d44d4e1faf17",
   "metadata": {},
   "outputs": [
    {
     "name": "stdout",
     "output_type": "stream",
     "text": [
      "The post was successfully created.\n",
      "Response: {\"success\":true,\"post_id\":63360}\n"
     ]
    }
   ],
   "source": [
    "for i in list(_kenh14['urls'].keys()):\n",
    "    #web_24h_com_vn2['url'][i]['cate_id']\n",
    "    for j in list(_kenh14['urls'][i]['sub-category']):\n",
    "        url_list =  _kenh14['urls'][i]['sub-category'][j]['url_list']\n",
    "        for t in range(0,len(url_list)):\n",
    "            content = _kenh14['urls'][i]['sub-category'][j]['content'][t]['text']\n",
    "            title = _kenh14['urls'][i]['sub-category'][j]['content'][t]['title']\n",
    "            published_date = _kenh14['urls'][i]['sub-category'][j]['content'][t]['published_date']\n",
    "            send_post_to_5goals(title,str(content), title, published_date)"
   ]
  },
  {
   "cell_type": "code",
   "execution_count": 26,
   "id": "18506b49-10e0-4919-8c66-f0358a6ad9f9",
   "metadata": {},
   "outputs": [],
   "source": [
    "test = get_content_kenh14('https://kenh14.vn/bat-tron-khoanh-khac-doan-van-hau-va-doan-hai-my-di-bar-quay-het-minh-sau-khi-xa-vai-co-dau-chu-re-20231127072708131.chn')"
   ]
  },
  {
   "cell_type": "code",
   "execution_count": 27,
   "id": "5f3bb3ff-8732-432e-82bd-d4252d54fbd9",
   "metadata": {},
   "outputs": [
    {
     "name": "stdout",
     "output_type": "stream",
     "text": [
      "<div class=\"klw-new-content\">\n",
      " <div>\n",
      "  <div>\n",
      "   <div>\n",
      "    <div>\n",
      "    </div>\n",
      "    <div>\n",
      "    </div>\n",
      "   </div>\n",
      "  </div>\n",
      " </div>\n",
      " <h2>\n",
      "  Team qua đường bắt trọn hình ảnh của Đoàn Văn Hậu - Doãn Hải My cùng bạn bè đi \"quẩy\" sau khi tàn tiệc đám cưới.\n",
      " </h2>\n",
      " <div>\n",
      " </div>\n",
      " <div>\n",
      " </div>\n",
      " <div data-check-position=\"body_start\">\n",
      " </div>\n",
      " <div>\n",
      "  <!-- Kham pha -->\n",
      "  <p>\n",
      "   Tối ngày 26/11, đám cưới của hậu vệ Đoàn Văn Hậu và Doãn Hải My chiếm trọng mọi thông tin trên các nền tảng mạng xã hội. Sau 3 năm hẹn hò, cặp đôi chàng cầu thủ và nàng top 10 hoa hậu Việt Nam đã có một cái kết trọn vẹn. Sau khi tàn tiệc cưới, \"xả vai\" cô dâu chú rể, team qua đường đã bắt trọn hình ảnh của cặp đôi này xuống từ xe bạc tỉ vào một quán bar \"quẩy\" sau tiệc cưới cùng hội bạn bè. Văn Hậu và Hải My đến muộn nhất, đi cùng cặp đôi còn có bạn thân của cô dâu là diễn viên Bảo Hân. Trước đó bạn bè thân thiết của đôi trai tài gái sắc đã di chuyển ra bar trước ngay sau khi tiệc cưới kết thúc.\n",
      "  </p>\n",
      "  <div type=\"Photo\">\n",
      "  </div>\n",
      "  <div type=\"Photo\">\n",
      "  </div>\n",
      "  <div type=\"Photo\">\n",
      "  </div>\n",
      "  <p>\n",
      "   Tại hội trường cưới hình ảnh cặp đôi này \"quẩy\" cùng gia đình đã rần rần trên mạng xã hội. Dù xuất hiện với vòng 2 lùm lùm nhưng Doãn Hải My vẫn không bỏ cuộc vui nào trong ngày hạnh phúc cùng với gia đình và bạn bè. Thậm chí cô cùng chàng cầu thủ còn \"quẩy sung\" nhất hội trường cưới.\n",
      "  </p>\n",
      "  <p>\n",
      "   Cả đời người mới có một ngày trọng đại nên Văn Hậu và Hải My cũng muốn dành thời gian bên những người thân đã đồng hành cùng họ suốt thời gian qua. Đặc biệt đây cũng là dịp hiếm để Văn Hậu hội ngộ cùng hội bạn thân là cầu thủ. Đúng là cô dâu chú rể genZ, nhiệt tình ở đám cưới đi chơi cũng phải hết mình.\n",
      "  </p>\n",
      "  <div type=\"Photo\">\n",
      "   <div>\n",
      "    [caption id=\"\" align=\"aligncenter\" width=\"800\"]\n",
      "    <img alt=\"Bắt trọn khoảnh khắc Đoàn Văn Hậu và Doãn Hải My đi bar quẩy hết mình sau khi xả vai cô dâu chú rể - Ảnh 4.\" class=\"aligncenter\" data-original=\"https://kenh14cdn.com/203336854389633024/2023/11/27/photo-2-17010445496591783371431.jpeg\" h=\"680\" height=\"400\" photoid=\"653390984411987968\" rel=\"lightbox\" src=\"https://kenh14cdn.com/thumb_w/620/203336854389633024/2023/11/27/photo-2-17010445496591783371431.jpeg\" title=\"Bắt trọn khoảnh khắc Đoàn Văn Hậu và Doãn Hải My đi bar quẩy hết mình sau khi xả vai cô dâu chú rể - Ảnh 4.\" type=\"photo\" w=\"680\" width=\"800\"/>\n",
      "    Hải My check-in cùng bạn ở trong quá bar nổi tiếng ở Hà thành (Ảnh: 21G - IGNV)\n",
      "    [/caption]\n",
      "   </div>\n",
      "  </div>\n",
      "  <div type=\"Photo\">\n",
      "   <div>\n",
      "    [caption id=\"\" align=\"aligncenter\" width=\"800\"]\n",
      "    <img alt=\"Bắt trọn khoảnh khắc Đoàn Văn Hậu và Doãn Hải My đi bar quẩy hết mình sau khi xả vai cô dâu chú rể - Ảnh 5.\" class=\"aligncenter\" data-original=\"https://kenh14cdn.com/203336854389633024/2023/11/27/photo-1-1701044548752716573919.jpg\" h=\"832\" height=\"400\" photoid=\"653390981032415232\" rel=\"lightbox\" src=\"https://kenh14cdn.com/thumb_w/620/203336854389633024/2023/11/27/photo-1-1701044548752716573919.jpg\" title=\"Bắt trọn khoảnh khắc Đoàn Văn Hậu và Doãn Hải My đi bar quẩy hết mình sau khi xả vai cô dâu chú rể - Ảnh 5.\" type=\"photo\" w=\"679\" width=\"800\"/>\n",
      "    Văn Hậu và Hải My mặc nguyên bộ từ tiệc cưới ra quán bar (Ảnh: Đi Soi Sao Đi)\n",
      "    [/caption]\n",
      "   </div>\n",
      "  </div>\n",
      " </div>\n",
      " <zone>\n",
      " </zone>\n",
      " <zone>\n",
      " </zone>\n",
      " <!-- LIVE -->\n",
      " <i>\n",
      "  Nguồn: kenh14.vn\n",
      " </i>\n",
      "</div>\n",
      "\n"
     ]
    }
   ],
   "source": [
    "print(test.prettify())"
   ]
  },
  {
   "cell_type": "code",
   "execution_count": 13,
   "id": "dd443742-b15d-4b11-a9fc-09b87d71ff86",
   "metadata": {},
   "outputs": [],
   "source": [
    "response = requests.get('https://kenh14.vn/noi-tieng-chieu-fan-faker-phai-chang-se-co-the-so-huu-t1-ahri-day-nong-bong-20231125131654448.chn')\n",
    "soup = BeautifulSoup(response.content, 'html.parser')"
   ]
  },
  {
   "cell_type": "code",
   "execution_count": 14,
   "id": "604d6125-6c7b-4823-b83a-993a2f2b322f",
   "metadata": {},
   "outputs": [],
   "source": [
    "article =  soup.find('div', class_ = \"klw-body-top\")"
   ]
  },
  {
   "cell_type": "code",
   "execution_count": 150,
   "id": "bc589c05-ec8f-4fab-bf49-c94a86fa792f",
   "metadata": {},
   "outputs": [
    {
     "data": {
      "text/plain": [
       "<span class=\"kbwcm-time\" title=\"2023-11-24T09:00:00\">09:00 24/11/2023</span>"
      ]
     },
     "execution_count": 150,
     "metadata": {},
     "output_type": "execute_result"
    }
   ],
   "source": [
    "soup.find('span', class_ = 'kbwcm-time')"
   ]
  },
  {
   "cell_type": "code",
   "execution_count": 15,
   "id": "b99dfa15-6c3a-4e16-bc70-3f7c98aa9b9e",
   "metadata": {},
   "outputs": [
    {
     "data": {
      "text/plain": [
       "4"
      ]
     },
     "execution_count": 15,
     "metadata": {},
     "output_type": "execute_result"
    }
   ],
   "source": [
    "len( article.find_all(['img','video'])[:-1])"
   ]
  },
  {
   "cell_type": "code",
   "execution_count": 16,
   "id": "9e37e7eb-9092-42a3-8558-4386ef6f36cf",
   "metadata": {},
   "outputs": [
    {
     "data": {
      "text/plain": [
       "[<div class=\"PhotoCMS_Caption\"><p data-placeholder=\"[nhập chú thích]\">Faker mới đây đã chính thức giành được chức vô địch thế giới thứ 4 trong sự nghiệp</p></div>,\n",
       " <div class=\"PhotoCMS_Caption\"><p data-placeholder=\"[nhập chú thích]\">Faker từng chia sẻ rằng: “Tôi sẽ chọn vị tướng được nhiều người hâm mộ mong muốn”</p></div>,\n",
       " <div class=\"PhotoCMS_Caption\"><p data-placeholder=\"[nhập chú thích]\">Ý kiến táo bạo về trang phục Ahri Tiệc Bể Bơi với hình xăm logo T1 được nhiều game thủ đồng tình</p></div>,\n",
       " <div class=\"PhotoCMS_Caption\"><p data-placeholder=\"[nhập chú thích]\">Nhân viên Riot từng chia sẻ rằng họ chỉ làm trang phục Ahri Tiệc Bể Bơi nếu quá thiếu tiền</p></div>]"
      ]
     },
     "execution_count": 16,
     "metadata": {},
     "output_type": "execute_result"
    }
   ],
   "source": [
    "article.find_all('div', class_ = 'PhotoCMS_Caption')"
   ]
  },
  {
   "cell_type": "code",
   "execution_count": 129,
   "id": "bcdad4b1-cf6a-4cf7-8237-9d41f09709ca",
   "metadata": {},
   "outputs": [],
   "source": [
    "response = requests.get('https://kenh14.vn/doan-hai-my-nhan-doa-hoa-dac-biet-tu-doan-van-hau-truoc-tiec-cuoi-tai-ha-noi-20231124084630322.chn')\n",
    "soup = BeautifulSoup(response.content, 'html.parser')\n",
    "article =  soup.find('div', class_ = \"klw-new-content\")\n",
    "children = article.find_all(recursive=False)\n",
    "related_news =  article.find('div', class_ = 'knc-relate-wrapper relationnews')\n",
    "related_news.decompose()\n",
    "for i in children[-6:]:\n",
    "    i.decompose() \n",
    "caption_text_list =article.find_all( class_=\"PhotoCMS_Caption\")\n",
    "img_list = article.find_all(['img','video'])[:-1]\n",
    "n_img = len(img_list)\n",
    "for i in range(0,n_img):\n",
    "    caption_start = NavigableString(\"[caption id=\\\"\\\" align=\\\"aligncenter\\\" width=\\\"800\\\"]\")\n",
    "    caption_text = NavigableString(caption_text_list[i].text)\n",
    "    caption_end = NavigableString(\"[/caption]\")\n",
    "    caption_text_list[i].decompose()\n",
    "        # Insert the custom tags and caption text around the <img> tag\n",
    "    img_list[i].insert_before(caption_start)\n",
    "    img_list[i].insert_after(caption_end)\n",
    "    try:\n",
    "        img_list[i].insert_after(caption_text) \n",
    "    except IndexError as e:\n",
    "        print(e)        #print(len(caption_text_list))\n",
    "for script_or_style in article(['script', 'style']):\n",
    "        script_or_style.decompose() \n",
    "for i in article.find_all(recursive = True):\n",
    "    try:\n",
    "        del i['onclick']\n",
    "        del i['id']\n",
    "        del i['class']\n",
    "        del i['style']\n",
    "    except AttributeError:\n",
    "        continue\n",
    "    except TypeError:\n",
    "        continue            \n",
    "tags_to_remove = article.find_all(['a', 'span'])\n",
    "for tag in tags_to_remove:\n",
    "    # Extract the text from the tag\n",
    "    tag_text = tag.get_text()\n",
    "        # Replace the tag with its text content\n",
    "    tag.replace_with(tag_text)\n",
    "    tag.text.strip() \n",
    "for i in article.find_all('img'):\n",
    "    i['class'] = \"aligncenter\"\n",
    "    i['width'] = 800\n",
    "    i['height'] = 400\n",
    "source_tag = soup.new_tag('i') \n",
    "source_tag.string = \"Nguồn: kenh14.vn\"  # Set the content of <i> tag\n",
    "# Append the <i> tag as the last child of the <article> tag\n",
    "article.append(source_tag)\n",
    "for i in article.find_all('div', {'align': 'center'}):\n",
    "    i.decompose()\n",
    "for element in article.find_all(recursive = True,string=True):\n",
    "    if isinstance(element, NavigableString) and element.strip() == '':\n",
    "        element.extract()\n",
    "#remove element withou child element or have children element which is empty\n",
    "for i in article.find_all(recursive = True):\n",
    "    if i.children == None and i.string == None:\n",
    "        i.decompose()\n",
    "for i in article.find_all(recursive = True):\n",
    "    try:\n",
    "        i.text.trip()\n",
    "    except AttributeError as e:\n",
    "        continue"
   ]
  },
  {
   "cell_type": "code",
   "execution_count": 130,
   "id": "fbe776bf-c6cf-435d-9517-0706c9de2a14",
   "metadata": {},
   "outputs": [
    {
     "name": "stdout",
     "output_type": "stream",
     "text": [
      "<div><div><div><div></div><div></div></div></div></div>\n",
      "<div><div><div></div><div></div></div></div>\n",
      "<div><div></div><div></div></div>\n",
      "<div></div>\n",
      "<div></div>\n",
      "<div data-check-position=\"body_start\"></div>\n",
      "<div><img alt=\"Doãn Hải My nhận đóa hoa đặc biệt từ Đoàn Văn Hậu trước tiệc cưới tại Hà Nội - Ảnh 17.\" class=\"aligncenter\" data-original=\"https://kenh14cdn.com/203336854389633024/2023/11/24/photo-1-1700790213567900924736.jpeg\" h=\"1334\" height=\"400\" photoid=\"652324223701291008\" rel=\"lightbox\" src=\"https://kenh14cdn.com/thumb_w/620/203336854389633024/2023/11/24/photo-1-1700790213567900924736.jpeg\" title=\"Doãn Hải My nhận đóa hoa đặc biệt từ Đoàn Văn Hậu trước tiệc cưới tại Hà Nội - Ảnh 17.\" type=\"photo\" w=\"2000\" width=\"800\"/></div>\n",
      "<zone></zone>\n",
      "<zone></zone>\n"
     ]
    }
   ],
   "source": [
    "for i in article.find_all(recursive = True):\n",
    "    if i.string is None and i.text == \"\" and i.name != 'img' :\n",
    "        print(i)\n",
    "        "
   ]
  },
  {
   "cell_type": "code",
   "execution_count": 42,
   "id": "b65753e6-20b3-461e-82c6-7e4045ac0180",
   "metadata": {},
   "outputs": [
    {
     "name": "stdout",
     "output_type": "stream",
     "text": [
      "None\n"
     ]
    }
   ],
   "source": [
    "print(article.find_all(recursive = True)[2].string)"
   ]
  },
  {
   "cell_type": "code",
   "execution_count": 160,
   "id": "34eb5ff2-be51-4fcb-a312-66582a349583",
   "metadata": {},
   "outputs": [
    {
     "data": {
      "text/plain": [
       "''"
      ]
     },
     "execution_count": 160,
     "metadata": {},
     "output_type": "execute_result"
    }
   ],
   "source": [
    "caption_text_list =article.find_all('div', class_ =\"PhotoCMS_Caption\")\n",
    "caption_text_list[0].text"
   ]
  },
  {
   "cell_type": "code",
   "execution_count": 153,
   "id": "e3b0395a-1785-4a09-9c7e-60cfae99f43b",
   "metadata": {},
   "outputs": [
    {
     "data": {
      "text/plain": [
       "16"
      ]
     },
     "execution_count": 153,
     "metadata": {},
     "output_type": "execute_result"
    }
   ],
   "source": [
    "len(caption_text_list)"
   ]
  },
  {
   "cell_type": "code",
   "execution_count": 146,
   "id": "d4dcc2b4-0a94-41e2-8a99-91377c69fe07",
   "metadata": {},
   "outputs": [
    {
     "data": {
      "text/plain": [
       "18"
      ]
     },
     "execution_count": 146,
     "metadata": {},
     "output_type": "execute_result"
    }
   ],
   "source": [
    "len(article.find_all(['img','video']))"
   ]
  },
  {
   "cell_type": "code",
   "execution_count": 120,
   "id": "9f079781-2ad5-4f59-ad79-f1001dd27a74",
   "metadata": {},
   "outputs": [
    {
     "data": {
      "text/plain": [
       "<div class=\"klw-new-content\"><div><div><div><div></div><div></div></div></div></div><h2>\n",
       "                                    Cặp đôi hot nhất nhì tháng 11 đồng loạt \"xả\" bộ ảnh dành riêng cho tiệc cưới ở Hà Nội.\n",
       "                                </h2><div></div><div></div><div data-check-position=\"body_start\"></div><div><!-- Kham pha --><div type=\"Photo\"><div>[caption id=\"\" align=\"aligncenter\" width=\"800\"]<img alt=\"Doãn Hải My nhận đóa hoa đặc biệt từ Đoàn Văn Hậu trước tiệc cưới tại Hà Nội - Ảnh 1.\" class=\"aligncenter\" data-original=\"https://kenh14cdn.com/203336854389633024/2023/11/24/photo-17-17007902400121501122882.jpeg\" h=\"1049\" height=\"400\" photoid=\"652324335252873216\" rel=\"lightbox\" src=\"https://kenh14cdn.com/thumb_w/620/203336854389633024/2023/11/24/photo-17-17007902400121501122882.jpeg\" title=\"Doãn Hải My nhận đóa hoa đặc biệt từ Đoàn Văn Hậu trước tiệc cưới tại Hà Nội - Ảnh 1.\" type=\"photo\" w=\"700\" width=\"800\"/>Ngày 26/11, hậu vệ Đoàn Văn Hậu và bà xã Doãn Hải My sẽ tổ chức tiệc cưới tại một khách sạn 5 sao ở Hà Nội. Trước ngày trọng đại, cặp đôi khiến dân tình xuýt xoa khi tung bộ ảnh cưới trong studio[/caption]</div></div><div type=\"Photo\"><div>[caption id=\"\" align=\"aligncenter\" width=\"800\"]<img alt=\"Doãn Hải My nhận đóa hoa đặc biệt từ Đoàn Văn Hậu trước tiệc cưới tại Hà Nội - Ảnh 2.\" class=\"aligncenter\" data-original=\"https://kenh14cdn.com/203336854389633024/2023/11/24/photo-16-1700790238511640575054.jpeg\" h=\"2048\" height=\"400\" photoid=\"652324326663065600\" rel=\"lightbox\" src=\"https://kenh14cdn.com/thumb_w/620/203336854389633024/2023/11/24/photo-16-1700790238511640575054.jpeg\" title=\"Doãn Hải My nhận đóa hoa đặc biệt từ Đoàn Văn Hậu trước tiệc cưới tại Hà Nội - Ảnh 2.\" type=\"photo\" w=\"1366\" width=\"800\"/>[/caption]</div></div><div type=\"Photo\"><div>[caption id=\"\" align=\"aligncenter\" width=\"800\"]<img alt=\"Doãn Hải My nhận đóa hoa đặc biệt từ Đoàn Văn Hậu trước tiệc cưới tại Hà Nội - Ảnh 3.\" class=\"aligncenter\" data-original=\"https://kenh14cdn.com/203336854389633024/2023/11/24/photo-15-1700790236916238387046.jpeg\" h=\"1334\" height=\"400\" photoid=\"652324320678850560\" rel=\"lightbox\" src=\"https://kenh14cdn.com/thumb_w/620/203336854389633024/2023/11/24/photo-15-1700790236916238387046.jpeg\" title=\"Doãn Hải My nhận đóa hoa đặc biệt từ Đoàn Văn Hậu trước tiệc cưới tại Hà Nội - Ảnh 3.\" type=\"photo\" w=\"2000\" width=\"800\"/>Doãn Hải My lộng lẫy trong chiếc váy cưới cúp ngực[/caption]</div></div><div type=\"Photo\"><div>[caption id=\"\" align=\"aligncenter\" width=\"800\"]<img alt=\"Doãn Hải My nhận đóa hoa đặc biệt từ Đoàn Văn Hậu trước tiệc cưới tại Hà Nội - Ảnh 4.\" class=\"aligncenter\" data-original=\"https://kenh14cdn.com/203336854389633024/2023/11/24/photo-14-170079023531481675528.jpeg\" h=\"2048\" height=\"400\" photoid=\"652324313753792512\" rel=\"lightbox\" src=\"https://kenh14cdn.com/thumb_w/620/203336854389633024/2023/11/24/photo-14-170079023531481675528.jpeg\" title=\"Doãn Hải My nhận đóa hoa đặc biệt từ Đoàn Văn Hậu trước tiệc cưới tại Hà Nội - Ảnh 4.\" type=\"photo\" w=\"1366\" width=\"800\"/>[/caption]</div></div><div type=\"Photo\"><div>[caption id=\"\" align=\"aligncenter\" width=\"800\"]<img alt=\"Doãn Hải My nhận đóa hoa đặc biệt từ Đoàn Văn Hậu trước tiệc cưới tại Hà Nội - Ảnh 5.\" class=\"aligncenter\" data-original=\"https://kenh14cdn.com/203336854389633024/2023/11/24/photo-13-17007902335531552780653.jpeg\" h=\"2048\" height=\"400\" photoid=\"652324306287009792\" rel=\"lightbox\" src=\"https://kenh14cdn.com/thumb_w/620/203336854389633024/2023/11/24/photo-13-17007902335531552780653.jpeg\" title=\"Doãn Hải My nhận đóa hoa đặc biệt từ Đoàn Văn Hậu trước tiệc cưới tại Hà Nội - Ảnh 5.\" type=\"photo\" w=\"1366\" width=\"800\"/>Visual của Top 10 Hoa hậu Việt Nam 2020[/caption]</div></div><div type=\"Photo\"><div>[caption id=\"\" align=\"aligncenter\" width=\"800\"]<img alt=\"Doãn Hải My nhận đóa hoa đặc biệt từ Đoàn Văn Hậu trước tiệc cưới tại Hà Nội - Ảnh 6.\" class=\"aligncenter\" data-original=\"https://kenh14cdn.com/203336854389633024/2023/11/24/photo-12-17007902321251783409494.jpeg\" h=\"2048\" height=\"400\" photoid=\"652324300013252608\" rel=\"lightbox\" src=\"https://kenh14cdn.com/thumb_w/620/203336854389633024/2023/11/24/photo-12-17007902321251783409494.jpeg\" title=\"Doãn Hải My nhận đóa hoa đặc biệt từ Đoàn Văn Hậu trước tiệc cưới tại Hà Nội - Ảnh 6.\" type=\"photo\" w=\"1366\" width=\"800\"/>[/caption]</div></div><div type=\"Photo\"><div>[caption id=\"\" align=\"aligncenter\" width=\"800\"]<img alt=\"Doãn Hải My nhận đóa hoa đặc biệt từ Đoàn Văn Hậu trước tiệc cưới tại Hà Nội - Ảnh 7.\" class=\"aligncenter\" data-original=\"https://kenh14cdn.com/203336854389633024/2023/11/24/photo-11-1700790230118466359393.jpeg\" h=\"2048\" height=\"400\" photoid=\"652324291864420352\" rel=\"lightbox\" src=\"https://kenh14cdn.com/thumb_w/620/203336854389633024/2023/11/24/photo-11-1700790230118466359393.jpeg\" title=\"Doãn Hải My nhận đóa hoa đặc biệt từ Đoàn Văn Hậu trước tiệc cưới tại Hà Nội - Ảnh 7.\" type=\"photo\" w=\"1366\" width=\"800\"/>Trong khi đó, Văn Hậu bảnh bao trong bộ đồ tây lịch lãm. Anh mang theo trái bóng tròn làm hoa cưới phiên bản đặc biệt tặng vợ. Trái bóng tròn đã gắn bó với cuộc đời Văn Hậu, giúp anh gặt hái được thành công và danh vọng như hiện tại. Nó cũng là cơ duyên để anh gặp gỡ và hẹn hò với Doãn Hải My[/caption]</div></div><div type=\"Photo\"><div>[caption id=\"\" align=\"aligncenter\" width=\"800\"]<img alt=\"Doãn Hải My nhận đóa hoa đặc biệt từ Đoàn Văn Hậu trước tiệc cưới tại Hà Nội - Ảnh 8.\" class=\"aligncenter\" data-original=\"https://kenh14cdn.com/203336854389633024/2023/11/24/photo-10-17007902281832003771461.jpeg\" h=\"1049\" height=\"400\" photoid=\"652324284927295488\" rel=\"lightbox\" src=\"https://kenh14cdn.com/thumb_w/620/203336854389633024/2023/11/24/photo-10-17007902281832003771461.jpeg\" title=\"Doãn Hải My nhận đóa hoa đặc biệt từ Đoàn Văn Hậu trước tiệc cưới tại Hà Nội - Ảnh 8.\" type=\"photo\" w=\"700\" width=\"800\"/>Một tạo hình khác của cô dâu - chú rể, Hải My dịu dàng với mái tóc uốn xoăn bồng bềnh[/caption]</div></div><div type=\"Photo\"><div>[caption id=\"\" align=\"aligncenter\" width=\"800\"]<img alt=\"Doãn Hải My nhận đóa hoa đặc biệt từ Đoàn Văn Hậu trước tiệc cưới tại Hà Nội - Ảnh 9.\" class=\"aligncenter\" data-original=\"https://kenh14cdn.com/203336854389633024/2023/11/24/photo-9-170079022601067486257.jpeg\" h=\"2048\" height=\"400\" photoid=\"652324273958936576\" rel=\"lightbox\" src=\"https://kenh14cdn.com/thumb_w/620/203336854389633024/2023/11/24/photo-9-170079022601067486257.jpeg\" title=\"Doãn Hải My nhận đóa hoa đặc biệt từ Đoàn Văn Hậu trước tiệc cưới tại Hà Nội - Ảnh 9.\" type=\"photo\" w=\"1366\" width=\"800\"/>[/caption]</div></div><div type=\"Photo\"><div>[caption id=\"\" align=\"aligncenter\" width=\"800\"]<img alt=\"Doãn Hải My nhận đóa hoa đặc biệt từ Đoàn Văn Hậu trước tiệc cưới tại Hà Nội - Ảnh 10.\" class=\"aligncenter\" data-original=\"https://kenh14cdn.com/203336854389633024/2023/11/24/photo-8-17007902240452081536618.jpeg\" h=\"2048\" height=\"400\" photoid=\"652324266122481664\" rel=\"lightbox\" src=\"https://kenh14cdn.com/thumb_w/620/203336854389633024/2023/11/24/photo-8-17007902240452081536618.jpeg\" title=\"Doãn Hải My nhận đóa hoa đặc biệt từ Đoàn Văn Hậu trước tiệc cưới tại Hà Nội - Ảnh 10.\" type=\"photo\" w=\"1366\" width=\"800\"/>Cặp đôi trao nhau những cử chỉ tình cảm[/caption]</div></div><div type=\"Photo\"><div>[caption id=\"\" align=\"aligncenter\" width=\"800\"]<img alt=\"Doãn Hải My nhận đóa hoa đặc biệt từ Đoàn Văn Hậu trước tiệc cưới tại Hà Nội - Ảnh 11.\" class=\"aligncenter\" data-original=\"https://kenh14cdn.com/203336854389633024/2023/11/24/photo-7-170079022262022163025.jpeg\" h=\"2048\" height=\"400\" photoid=\"652324260032659456\" rel=\"lightbox\" src=\"https://kenh14cdn.com/thumb_w/620/203336854389633024/2023/11/24/photo-7-170079022262022163025.jpeg\" title=\"Doãn Hải My nhận đóa hoa đặc biệt từ Đoàn Văn Hậu trước tiệc cưới tại Hà Nội - Ảnh 11.\" type=\"photo\" w=\"1366\" width=\"800\"/>[/caption]</div></div><div type=\"Photo\"><div>[caption id=\"\" align=\"aligncenter\" width=\"800\"]<img alt=\"Doãn Hải My nhận đóa hoa đặc biệt từ Đoàn Văn Hậu trước tiệc cưới tại Hà Nội - Ảnh 12.\" class=\"aligncenter\" data-original=\"https://kenh14cdn.com/203336854389633024/2023/11/24/photo-6-1700790221271112622814.jpeg\" h=\"2048\" height=\"400\" photoid=\"652324254005010432\" rel=\"lightbox\" src=\"https://kenh14cdn.com/thumb_w/620/203336854389633024/2023/11/24/photo-6-1700790221271112622814.jpeg\" title=\"Doãn Hải My nhận đóa hoa đặc biệt từ Đoàn Văn Hậu trước tiệc cưới tại Hà Nội - Ảnh 12.\" type=\"photo\" w=\"1366\" width=\"800\"/>Nhan sắc của bà xã Đoàn Văn Hậu[/caption]</div></div><div type=\"Photo\"><div>[caption id=\"\" align=\"aligncenter\" width=\"800\"]<img alt=\"Doãn Hải My nhận đóa hoa đặc biệt từ Đoàn Văn Hậu trước tiệc cưới tại Hà Nội - Ảnh 13.\" class=\"aligncenter\" data-original=\"https://kenh14cdn.com/203336854389633024/2023/11/24/photo-5-17007902199831757678249.jpeg\" h=\"1049\" height=\"400\" photoid=\"652324250135113728\" rel=\"lightbox\" src=\"https://kenh14cdn.com/thumb_w/620/203336854389633024/2023/11/24/photo-5-17007902199831757678249.jpeg\" title=\"Doãn Hải My nhận đóa hoa đặc biệt từ Đoàn Văn Hậu trước tiệc cưới tại Hà Nội - Ảnh 13.\" type=\"photo\" w=\"700\" width=\"800\"/>Đám cưới của Đoàn Văn Hậu và Doãn Hải My nhận được sự chú ý của cộng đồng mạng suốt nửa tháng nay[/caption]</div></div><div type=\"Photo\"><div>[caption id=\"\" align=\"aligncenter\" width=\"800\"]<img alt=\"Doãn Hải My nhận đóa hoa đặc biệt từ Đoàn Văn Hậu trước tiệc cưới tại Hà Nội - Ảnh 14.\" class=\"aligncenter\" data-original=\"https://kenh14cdn.com/203336854389633024/2023/11/24/photo-4-17007902186761149622446.jpeg\" h=\"1086\" height=\"400\" photoid=\"652324244286189568\" rel=\"lightbox\" src=\"https://kenh14cdn.com/thumb_w/620/203336854389633024/2023/11/24/photo-4-17007902186761149622446.jpeg\" title=\"Doãn Hải My nhận đóa hoa đặc biệt từ Đoàn Văn Hậu trước tiệc cưới tại Hà Nội - Ảnh 14.\" type=\"photo\" w=\"700\" width=\"800\"/>Một phần bởi chú rể là tuyển thủ nổi tiếng của ĐT Việt Nam, một phần bởi nhan sắc của cô dâu[/caption]</div></div><div type=\"Photo\"><div>[caption id=\"\" align=\"aligncenter\" width=\"800\"]<img alt=\"Doãn Hải My nhận đóa hoa đặc biệt từ Đoàn Văn Hậu trước tiệc cưới tại Hà Nội - Ảnh 15.\" class=\"aligncenter\" data-original=\"https://kenh14cdn.com/203336854389633024/2023/11/24/photo-3-1700790217258259685589.jpeg\" h=\"467\" height=\"400\" photoid=\"652324239191162880\" rel=\"lightbox\" src=\"https://kenh14cdn.com/thumb_w/620/203336854389633024/2023/11/24/photo-3-1700790217258259685589.jpeg\" title=\"Doãn Hải My nhận đóa hoa đặc biệt từ Đoàn Văn Hậu trước tiệc cưới tại Hà Nội - Ảnh 15.\" type=\"photo\" w=\"700\" width=\"800\"/>Trước thềm đám cưới tại Hà Nội, Doãn Hải My dính tin đồn có tin vui khi \"team qua đường\" bắt gặp khoảnh khắc cô được chồng và mẹ chồng đưa đi khám thai tại một bệnh viện ở Hà Nội[/caption]</div></div><div type=\"Photo\"><div>[caption id=\"\" align=\"aligncenter\" width=\"800\"]<img alt=\"Doãn Hải My nhận đóa hoa đặc biệt từ Đoàn Văn Hậu trước tiệc cưới tại Hà Nội - Ảnh 16.\" class=\"aligncenter\" data-original=\"https://kenh14cdn.com/203336854389633024/2023/11/24/photo-2-17007902152991249914644.jpeg\" h=\"2048\" height=\"400\" photoid=\"652324229724184576\" rel=\"lightbox\" src=\"https://kenh14cdn.com/thumb_w/620/203336854389633024/2023/11/24/photo-2-17007902152991249914644.jpeg\" title=\"Doãn Hải My nhận đóa hoa đặc biệt từ Đoàn Văn Hậu trước tiệc cưới tại Hà Nội - Ảnh 16.\" type=\"photo\" w=\"1366\" width=\"800\"/>[/caption]</div></div><div type=\"Photo\"><div><img alt=\"Doãn Hải My nhận đóa hoa đặc biệt từ Đoàn Văn Hậu trước tiệc cưới tại Hà Nội - Ảnh 17.\" class=\"aligncenter\" data-original=\"https://kenh14cdn.com/203336854389633024/2023/11/24/photo-1-1700790213567900924736.jpeg\" h=\"1334\" height=\"400\" photoid=\"652324223701291008\" rel=\"lightbox\" src=\"https://kenh14cdn.com/thumb_w/620/203336854389633024/2023/11/24/photo-1-1700790213567900924736.jpeg\" title=\"Doãn Hải My nhận đóa hoa đặc biệt từ Đoàn Văn Hậu trước tiệc cưới tại Hà Nội - Ảnh 17.\" type=\"photo\" w=\"2000\" width=\"800\"/></div><div><p data-placeholder=\"[nhập chú thích]\">Văn Hậu và Hải My về chung một nhà sau 3 năm hẹn hò</p></div></div></div><zone></zone><zone></zone><!-- LIVE --><i>Nguồn: kenh14.vn</i></div>"
      ]
     },
     "execution_count": 120,
     "metadata": {},
     "output_type": "execute_result"
    }
   ],
   "source": [
    "article"
   ]
  },
  {
   "cell_type": "code",
   "execution_count": 123,
   "id": "7f8f22b2-dd17-48ef-ab02-aded54b3145b",
   "metadata": {},
   "outputs": [
    {
     "name": "stdout",
     "output_type": "stream",
     "text": [
      "None\n"
     ]
    },
    {
     "data": {
      "text/plain": [
       "['None']"
      ]
     },
     "execution_count": 123,
     "metadata": {},
     "output_type": "execute_result"
    }
   ],
   "source": [
    "\n",
    "# Example HTML content with nested elements\n",
    "html_content = \"\"\"\n",
    "<div>\n",
    "    <p>First paragraph.</p>\n",
    "    <div>\n",
    "        <span>Nested span</span>\n",
    "        <p>Nested paragraph</p>\n",
    "    </div>\n",
    "</div>\n",
    "\"\"\"\n",
    "soup = BeautifulSoup(html_content, 'html.parser')\n",
    "def print_all_children(element, depth=0):\n",
    "    children = []\n",
    "\n",
    "    \"\"\"Recursively print all children of an element.\"\"\"\n",
    "    for child in element.children:\n",
    "        if hasattr(child, 'name') and child.name is None:\n",
    "            print(\"--\" * depth + str(child.name))\n",
    "            children.append(str(child.name))\n",
    "            #print_all_children(child, depth + 1)\n",
    "    return children\n",
    "\n",
    "# Find a specific element, e.g., the first <div> tag\n",
    "\n",
    "# Print all children of the <div> tag\n",
    "print_all_children(article)"
   ]
  },
  {
   "cell_type": "code",
   "execution_count": 124,
   "id": "44c5dfb2-4acc-4db1-8b89-7448825c9eb7",
   "metadata": {},
   "outputs": [
    {
     "name": "stdout",
     "output_type": "stream",
     "text": [
      "None\n"
     ]
    }
   ],
   "source": [
    "children = print_all_children(article)"
   ]
  },
  {
   "cell_type": "code",
   "execution_count": 125,
   "id": "eb2a28d9-b7ae-4d6b-a139-866fc89ac466",
   "metadata": {},
   "outputs": [
    {
     "data": {
      "text/plain": [
       "['None']"
      ]
     },
     "execution_count": 125,
     "metadata": {},
     "output_type": "execute_result"
    }
   ],
   "source": [
    "children"
   ]
  },
  {
   "cell_type": "code",
   "execution_count": null,
   "id": "cc383cef-f0c3-4181-b176-90efb4cd162f",
   "metadata": {},
   "outputs": [],
   "source": []
  },
  {
   "cell_type": "code",
   "execution_count": null,
   "id": "bf399202-36ac-4c4e-930b-ecfd92c0402c",
   "metadata": {},
   "outputs": [],
   "source": []
  }
 ],
 "metadata": {
  "kernelspec": {
   "display_name": "Python 3 (ipykernel)",
   "language": "python",
   "name": "python3"
  },
  "language_info": {
   "codemirror_mode": {
    "name": "ipython",
    "version": 3
   },
   "file_extension": ".py",
   "mimetype": "text/x-python",
   "name": "python",
   "nbconvert_exporter": "python",
   "pygments_lexer": "ipython3",
   "version": "3.11.5"
  }
 },
 "nbformat": 4,
 "nbformat_minor": 5
}
