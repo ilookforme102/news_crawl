{
 "cells": [
  {
   "cell_type": "code",
   "execution_count": 2,
   "id": "ad54bacc-e887-4605-b598-2459b55e0ddd",
   "metadata": {},
   "outputs": [],
   "source": [
    "#importing library\n",
    "from bs4 import BeautifulSoup\n",
    "import requests\n",
    "import time\n",
    "import re\n",
    "from datetime import datetime\n",
    "\n",
    "\n"
   ]
  },
  {
   "cell_type": "code",
   "execution_count": 3,
   "id": "36c9eeda-e68f-4464-9a9d-1131fa9ef051",
   "metadata": {},
   "outputs": [],
   "source": [
    "_kenh14 = {\n",
    "        \"home_page\":\"https://kenh14.vn/\",\n",
    "        \"urls\":{\n",
    "            \"sport\":\n",
    "            {\n",
    "             \"url\":\"https://kenh14.vn/sport.chn\",\n",
    "             \"sub-category\":{\n",
    "                0:{\n",
    "                    \"name\":\"Bóng đá\",\n",
    "                     \"url\":\"https://kenh14.vn/sport/bong-da.chn\",\n",
    "                     \"url_list\" : []},\n",
    "                1:{\"name\":\"Hậu trường\",\n",
    "                 \"url\":\"https://kenh14.vn/sport/hau-truong.chn\",\n",
    "                  \"url_list\" : []},\n",
    "                2:{\"name\":\"Esports\",\n",
    "                 \"url\":\"https://kenh14.vn/sport/esports.chn\",\n",
    "                  \"url_list\" : []}\n",
    "             }\n",
    "            }\n",
    "        }\n",
    "    }"
   ]
  },
  {
   "cell_type": "code",
   "execution_count": null,
   "id": "1477c5f0-9807-4a36-b4bd-eece70fe505b",
   "metadata": {},
   "outputs": [],
   "source": [
    "def is_element_exist(driver):\n",
    "    try:\n",
    "        driver.find_element(By.CLASS_NAME, 'view-more-detail.clearboth').find_element(By.TAG_NAME,'a')\n",
    "        return True\n",
    "    except NoSuchElementException:\n",
    "        return False"
   ]
  },
  {
   "cell_type": "code",
   "execution_count": null,
   "id": "0ca85377-43b4-4d3c-bdb9-73a5af969b18",
   "metadata": {},
   "outputs": [],
   "source": [
    "def is_element_display():\n",
    "    return driver.find_element(By.CLASS_NAME, 'view-more-detail.clearboth').find_element(By.TAG_NAME,'a').is_displayed()\n",
    "        "
   ]
  },
  {
   "cell_type": "code",
   "execution_count": null,
   "id": "b9520b9f-861c-4318-8434-3bcda9a3b9a8",
   "metadata": {},
   "outputs": [],
   "source": [
    "\n",
    "def smooth_scroll_to_bottom(delay):\n",
    "    last_height = driver.execute_script(\"return document.body.scrollHeight\")\n",
    "\n",
    "    while True:\n",
    "        # Scroll down to the bottom.\n",
    "        driver.execute_script(\"window.scrollTo(0, document.body.scrollHeight);\")\n",
    "\n",
    "        # Wait for the page to load.\n",
    "        time.sleep(delay)\n",
    "\n",
    "        # Calculate new scroll height and compare with last scroll height.\n",
    "        new_height = driver.execute_script(\"return document.body.scrollHeight\")\n",
    "        if new_height == last_height:\n",
    "            break\n",
    "        last_height = new_height"
   ]
  },
  {
   "cell_type": "code",
   "execution_count": 17,
   "id": "2c00efc0-343d-47db-a192-03cdf920b8fb",
   "metadata": {},
   "outputs": [],
   "source": [
    "response = requests.get('https://kenh14.vn/sport/bong-da.chn')\n",
    "soup = BeautifulSoup(response.content, 'html5lib')"
   ]
  },
  {
   "cell_type": "code",
   "execution_count": 30,
   "id": "444f1692-046c-47e6-bf56-48e6bf976aa7",
   "metadata": {},
   "outputs": [
    {
     "name": "stdout",
     "output_type": "stream",
     "text": [
      "\n",
      "                                \n",
      "                                    Xác định 17/24 đội bóng giành vé dự VCK EURO 2024\n",
      "                                \n",
      "                            \n",
      "\n",
      "                                \n",
      "                                    Tuyển Iraq đạt phong độ ấn tượng trước trận gặp tuyển Việt Nam\n",
      "                                \n",
      "                            \n",
      "\n",
      "                                \n",
      "                                    Đội tuyển Việt Nam: Cách nào đánh bại Iraq?\n",
      "                                \n",
      "                            \n",
      "\n",
      "                                \n",
      "                                    Gặp gỡ tiền vệ tài hoa nhất Việt Nam: Một Tuấn Anh rất khác, không hướng nội và muốn giãi bày bằng đôi chân\n",
      "                                \n",
      "                            \n",
      "\n",
      "                                \n",
      "                                    ĐT Iraq mang 10 cầu thủ đang chơi bóng ở châu Âu đấu ĐT Việt Nam\n",
      "                                \n",
      "                            \n",
      "\n",
      "                                \n",
      "                                    Cristiano Ronaldo - Joao Neves và những cặp cầu thủ \"chú - cháu\" ở cấp độ ĐTQG\n",
      "                                \n",
      "                            \n",
      "\n",
      "                                \n",
      "                                    Bà xã khoe quà nhận được từ Victoria Beckham, Messi có phản ứng đập tan tin đồn khủng hoảng hôn nhân\n",
      "                                \n",
      "                            \n"
     ]
    }
   ],
   "source": [
    "a_btn = soup.find_all('h3', class_ = 'knswli-title')\n",
    "for a in a_btn:\n",
    "    print(a.text)"
   ]
  },
  {
   "cell_type": "code",
   "execution_count": 28,
   "id": "0def0531-bc29-4e1d-85e7-d6d17dc777b5",
   "metadata": {},
   "outputs": [
    {
     "name": "stdout",
     "output_type": "stream",
     "text": [
      "7\n"
     ]
    }
   ],
   "source": [
    "print(len(a_btn))"
   ]
  },
  {
   "cell_type": "code",
   "execution_count": null,
   "id": "66fbedec-c258-49d5-aa66-e89ce747c877",
   "metadata": {},
   "outputs": [],
   "source": []
  }
 ],
 "metadata": {
  "kernelspec": {
   "display_name": "Python 3 (ipykernel)",
   "language": "python",
   "name": "python3"
  },
  "language_info": {
   "codemirror_mode": {
    "name": "ipython",
    "version": 3
   },
   "file_extension": ".py",
   "mimetype": "text/x-python",
   "name": "python",
   "nbconvert_exporter": "python",
   "pygments_lexer": "ipython3",
   "version": "3.11.5"
  }
 },
 "nbformat": 4,
 "nbformat_minor": 5
}
