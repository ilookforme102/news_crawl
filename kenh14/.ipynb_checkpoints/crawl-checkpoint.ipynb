{
 "cells": [
  {
   "cell_type": "code",
   "execution_count": 12,
   "id": "6e068fc3-cb05-4371-9c56-72880ff22dd0",
   "metadata": {},
   "outputs": [],
   "source": [
    "import requests \n",
    "import time\n",
    "import undetected_chromedriver as uc\n",
    "from selenium.webdriver.common.by import By\n",
    "import re\n",
    "from selenium.common.exceptions import NoSuchElementException,TimeoutException,ElementClickInterceptedException\n",
    "\n",
    "from selenium.webdriver.common.action_chains import ActionChains\n",
    "from selenium.webdriver.support.ui import WebDriverWait\n",
    "from selenium.webdriver.support import expected_conditions as EC\n"
   ]
  },
  {
   "cell_type": "code",
   "execution_count": 12,
   "id": "a2771d8f-7dfc-4ec8-8dd8-084e493fb4d9",
   "metadata": {},
   "outputs": [],
   "source": [
    "_kenh14 = {\n",
    "        \"home_page\":\"https://kenh14.vn/\",\n",
    "        \"urls\":{\n",
    "            \"sport\":\n",
    "            {\n",
    "             \"url\":\"https://kenh14.vn/sport.chn\",\n",
    "             \"sub-category\":{\n",
    "                0:{\n",
    "                    \"name\":\"Bóng đá\",\n",
    "                     \"url\":\"https://kenh14.vn/sport/bong-da.chn\",\n",
    "                     \"url_list\" : []},\n",
    "                1:{\"name\":\"Hậu trường\",\n",
    "                 \"url\":\"https://kenh14.vn/sport/hau-truong.chn\"},\n",
    "                2:{\"name\":\"Esports\",\n",
    "                 \"url\":\"https://kenh14.vn/sport/esports.chn\"}\n",
    "             }\n",
    "            }\n",
    "        }\n",
    "    }"
   ]
  },
  {
   "cell_type": "code",
   "execution_count": 18,
   "id": "16babb97-5dc3-4f3d-bfe6-2dc91a9e6296",
   "metadata": {},
   "outputs": [
    {
     "data": {
      "text/plain": [
       "[0, 1, 2]"
      ]
     },
     "execution_count": 18,
     "metadata": {},
     "output_type": "execute_result"
    }
   ],
   "source": [
    "list(_kenh14['urls']['sport']['sub-category'].keys())"
   ]
  },
  {
   "cell_type": "code",
   "execution_count": 20,
   "id": "bdb7a261-ab34-4276-abb7-2b305975bec2",
   "metadata": {},
   "outputs": [],
   "source": [
    "driver = uc.Chrome(headless = True, use_subprocess=False,version_main=119)#, user_data_dir = \"c:\\temp\\profile\")#, version_main=117)\n",
    "\n",
    "driver.get('https://kenh14.vn/sport/bong-da.chn')\n",
    "#title = soup.find('title').get_text()\n",
    "#print(\"Title of the webpage:\", title)\n",
    "#lastPage > div.view-more-detail.clearboth\n",
    "#lastPage > div.view-more-detail.clearboth > a"
   ]
  },
  {
   "cell_type": "code",
   "execution_count": 23,
   "id": "caa4a13a-d7ee-47b2-9904-21891fc422f6",
   "metadata": {},
   "outputs": [],
   "source": [
    "driver.quit()"
   ]
  },
  {
   "cell_type": "code",
   "execution_count": 4,
   "id": "f238eb39-7d36-4372-8751-6509865ca448",
   "metadata": {},
   "outputs": [],
   "source": [
    "def is_element_exist(driver):\n",
    "    try:\n",
    "        driver.find_element(By.CLASS_NAME, 'view-more-detail.clearboth').find_element(By.TAG_NAME,'a')\n",
    "        return True\n",
    "    except NoSuchElementException:\n",
    "        return False"
   ]
  },
  {
   "cell_type": "code",
   "execution_count": 5,
   "id": "d64b22fa-2e0d-4563-a92d-8fd6ae6de227",
   "metadata": {},
   "outputs": [],
   "source": [
    "\n",
    "def smooth_scroll_to_bottom(driver, delay=0.1):\n",
    "    last_height = driver.execute_script(\"return document.body.scrollHeight\")\n",
    "\n",
    "    while True:\n",
    "        # Scroll down to the bottom.\n",
    "        driver.execute_script(\"window.scrollTo(0, document.body.scrollHeight);\")\n",
    "\n",
    "        # Wait for the page to load.\n",
    "        time.sleep(delay)\n",
    "\n",
    "        # Calculate new scroll height and compare with last scroll height.\n",
    "        new_height = driver.execute_script(\"return document.body.scrollHeight\")\n",
    "        if new_height == last_height:\n",
    "            break\n",
    "        last_height = new_height"
   ]
  },
  {
   "cell_type": "code",
   "execution_count": 6,
   "id": "a056b23e-ebdc-4c1f-bbf6-800a9bf2ec57",
   "metadata": {},
   "outputs": [],
   "source": [
    "def get_url_list(driver):\n",
    "    post_urls = []\n",
    "    smooth_scroll_to_bottom(driver, delay=0.5)\n",
    "    while is_element_exist(driver):\n",
    "        smooth_scroll_to_bottom(driver, delay=0.5)\n",
    "        read_more_btn = driver.find_element(By.CLASS_NAME,\"view-more-detail.clearboth\").find_element(By.TAG_NAME,'a')\n",
    "        current_div = driver.find_element(By.CLASS_NAME,'kbwcb-left-wrapper')\n",
    "        read_more_btn.click()\n",
    "        parent_div = driver.find_element(By.CLASS_NAME,'kbwcb-left-wrapper')\n",
    "        news_title_set = parent_div.find_elements(By.TAG_NAME,'h3')\n",
    "        for item in news_title_set:\n",
    "            src = item.find_element(By.TAG_NAME,'a').get_attribute('href')\n",
    "            url = \"https://kenh14.vn\"+ src\n",
    "            if url not in post_urls:\n",
    "                post_urls.append(url)\n",
    "        if len(current_div) == len(parent_div):\n",
    "            break\n",
    "    return post_urls\n",
    "        "
   ]
  },
  {
   "cell_type": "code",
   "execution_count": 7,
   "id": "1532be76-f850-4b85-909b-fbdaa856853a",
   "metadata": {},
   "outputs": [],
   "source": [
    "def get_post(url):\n",
    "    response = requests.get(url)\n",
    "    time.sleep(3)\n",
    "    soup = BeautifulSoup(response.content, 'html.parser')\n",
    "    title = soup.find('h1').text\n",
    "    parent_div = soup.find('article',class_='cate-24h-foot-arti-deta-info')\n",
    "    children = [child for child in parent_div.find_all('p') if child.get('class') != 'content-bv-lq' and re.sub(r'\\n+', '', child.text) != \"\"]\n",
    "    return children, title\n",
    "    "
   ]
  },
  {
   "cell_type": "code",
   "execution_count": 8,
   "id": "62a20178-ae41-4904-a223-1e9c8bd85938",
   "metadata": {},
   "outputs": [],
   "source": [
    "%store -r _24h_com_vn"
   ]
  },
  {
   "cell_type": "code",
   "execution_count": 3,
   "id": "a52b133a-65ce-4b00-99a8-ca85bd6ace9a",
   "metadata": {},
   "outputs": [],
   "source": [
    "a = _24h_com_vn.copy()"
   ]
  },
  {
   "cell_type": "code",
   "execution_count": null,
   "id": "5a957c96-79fe-4f1c-abb2-7f9d20c26caa",
   "metadata": {},
   "outputs": [],
   "source": [
    "for i in list(_kenh14['urls']['sport']['sub-category'].keys()):\n",
    "    category_url = _kenh14['urls']['sport']['sub-category'][i]['url']\n",
    "    driver.get(category_url)\n",
    "    _kenh14['urls']['sport']['sub-category'][i]['url_list'] = get_url_list()"
   ]
  },
  {
   "cell_type": "code",
   "execution_count": 7,
   "id": "5645f60d-e1a8-4cfc-a722-20674bdaccd1",
   "metadata": {},
   "outputs": [
    {
     "data": {
      "text/plain": [
       "1"
      ]
     },
     "execution_count": 7,
     "metadata": {},
     "output_type": "execute_result"
    }
   ],
   "source": [
    "driver.find_element(By.CLASS_NAME, 'view-more-detail.clearboth')"
   ]
  },
  {
   "cell_type": "code",
   "execution_count": 9,
   "id": "8b1ce88c-7569-456b-917f-a2148bf5ec0a",
   "metadata": {},
   "outputs": [
    {
     "data": {
      "text/plain": [
       "True"
      ]
     },
     "execution_count": 9,
     "metadata": {},
     "output_type": "execute_result"
    }
   ],
   "source": [
    " is_element_exist(driver)"
   ]
  },
  {
   "cell_type": "code",
   "execution_count": 22,
   "id": "ee0ca6e9-6a18-48ac-99bd-9926b5a5524f",
   "metadata": {},
   "outputs": [],
   "source": [
    "\n",
    "\n",
    "# Example usage\n",
    "smooth_scroll_to_bottom(driver, delay=0.5)\n"
   ]
  },
  {
   "cell_type": "code",
   "execution_count": 274,
   "id": "98aa4ed3-9013-4f13-a203-fe8647b584ee",
   "metadata": {},
   "outputs": [],
   "source": [
    "children = [child for child in parent_div.find_all('p') if child.get('class') != 'content-bv-lq' and re.sub(r'\\n+', '', child.text) != \"\"]"
   ]
  },
  {
   "cell_type": "code",
   "execution_count": 276,
   "id": "de0d4890-a206-4b32-928d-afc1fbca0643",
   "metadata": {},
   "outputs": [
    {
     "name": "stdout",
     "output_type": "stream",
     "text": [
      "<p>Theo <em>Windows Central</em>, dịch vụ chatbot AI <a class=\"TextlinkBaiviet\" href=\"https://www.24h.com.vn/chagpt-c55e7117.html\" title=\"ChatGPT\">ChatGPT</a> đã gặp sự cố ảnh hưởng đến trải nghiệm của người dùng trong 18 - 20 giờ qua. Sự việc đã được một người dùng trên diễn đàn Reddit báo cáo, giải thích rằng họ không thể sử dụng được dịch vụ AI, đồng thời nhận được thông báo lỗi với nội dung API là “429 - Too many requests”.</p> \n",
      " _______________________________\n",
      "<p>Một số người dùng khác cũng gặp phải tình trạng tương tự, với hàng loạt tin nhắn báo lỗi trả về. Một số người cho rằng họ đã đạt giới hạn sử dụng và cần nâng cấp lên gói ChatGPT Plus, những người khác lại nói do lưu lượng truy cập quá nhiều và gây ra sự chậm trễ của kết quả truy vấn.</p> \n",
      " _______________________________\n",
      "<p class=\"img_chu_thich_0407\">Máy chủ của ChatGPT đã hứng chịu đợt tấn công DDoS quy mô lớn.</p> \n",
      " _______________________________\n",
      "<p>Sau những động thái bàn tán của cộng đồng, OpenAI đã chính thức xác nhận rằng hệ thống của công ty đã bị tấn công từ chối dịch vụ (DDoS). Cụ thể, công ty cho biết: “Chúng tôi đang xử lý tình trạng ngừng hoạt động do tình hình lưu lượng truy cập bất thường, phản ánh một cuộc tấn công DDoS đang diễn ra. Chúng tôi đang tiếp tục làm việc để giảm thiểu điều này”.</p> \n",
      " _______________________________\n",
      "<p>Một nhóm hacktivist có tên Anonymous Sudan đã nhận trách nhiệm về cuộc tấn công vào OpenAI và ChatGPT, lý do họ đưa ra là do động cơ chính trị, với cáo buộc OpenAI là một công ty Mỹ thân với Israel. Hiện họ cũng đang nhắm mục tiêu vào các công ty khác của Mỹ.</p> \n",
      " _______________________________\n",
      "<p>Công ty an ninh mạng CyberCX từng tuyên bố rằng Anonymous Sudan là “một phần của nhóm hacker thân Nga Killnet” và có khả năng nhận được tài trợ và nguồn lực từ Nga trong sứ mệnh của quốc gia này nhằm phá hoại các nước phương Tây.</p> \n",
      " _______________________________\n",
      "<p class=\"linkOrigin\"><span class=\"dots\" data-src=\"aHR0cHM6Ly9ub25ndGhvbnZpZXQuY29tLnZuL2NoYXRncHQtYmktbmhvbS1oYWNrZXItYW5vbnltb3VzLXRhbi1jb25nLWRkb3MtdG9pLXNhcC1tYXktY2h1LTE1MTc1Li4u\" id=\"url_origin_cut\">Nguồn: [Link nguồn]</span><span class=\"txtFull\" data-src=\"aHR0cHM6Ly9ub25ndGhvbnZpZXQuY29tLnZuL2NoYXRncHQtYmktbmhvbS1oYWNrZXItYW5vbnltb3VzLXRhbi1jb25nLWRkb3MtdG9pLXNhcC1tYXktY2h1LTE1MTc1ODEubmdu\" id=\"url_origin_full\" style=\"display: none;\">Nguồn: [Link nguồn]</span><span class=\"icoDrop\" id=\"icoDrop\" onclick=\"show_hide_url_origin();\"></span></p> \n",
      " _______________________________\n",
      "<p>Lượng người dùng trong tuần gần đây của ChatGPT đã chứng kiến một con số ấn tượng.</p> \n",
      " _______________________________\n"
     ]
    }
   ],
   "source": [
    "for child in children:\n",
    "    print(child,'\\n','_______________________________')"
   ]
  },
  {
   "cell_type": "code",
   "execution_count": 264,
   "id": "f980b4e5-5ee1-430f-9b80-b0ca35980982",
   "metadata": {},
   "outputs": [
    {
     "data": {
      "text/plain": [
       "'Máy chủ của ChatGPT đã hứng chịu đợt tấn công DDoS quy mô lớn.'"
      ]
     },
     "execution_count": 264,
     "metadata": {},
     "output_type": "execute_result"
    }
   ],
   "source": [
    "children[2].text"
   ]
  },
  {
   "cell_type": "code",
   "execution_count": 267,
   "id": "a05c9af2-2db8-4199-8955-284659a4967a",
   "metadata": {},
   "outputs": [
    {
     "name": "stdout",
     "output_type": "stream",
     "text": [
      "\n"
     ]
    }
   ],
   "source": [
    "import re\n",
    "\n",
    "your_string = \"\\n\\n\\n\\n\\n\\n\\n\\n\\n\\n\\n\\n\\n\\n\\n\\n\"  # Your string with multiple newline characters\n",
    "cleaned_string = re.sub(r'\\n+', '', children[2].text)  # Replace multiple newlines with a single newline\n",
    "\n",
    "print(cleaned_string) "
   ]
  },
  {
   "cell_type": "code",
   "execution_count": 268,
   "id": "88378fe9-b4e1-4f23-9476-02c57c7de81c",
   "metadata": {},
   "outputs": [
    {
     "data": {
      "text/plain": [
       "''"
      ]
     },
     "execution_count": 268,
     "metadata": {},
     "output_type": "execute_result"
    }
   ],
   "source": [
    "cleaned_string"
   ]
  },
  {
   "cell_type": "code",
   "execution_count": 273,
   "id": "963a7bed-16ab-4494-8b6c-8e604ac2c3ac",
   "metadata": {},
   "outputs": [
    {
     "data": {
      "text/plain": [
       "[<p>Theo <em>Windows Central</em>, dịch vụ chatbot AI <a class=\"TextlinkBaiviet\" href=\"https://www.24h.com.vn/chagpt-c55e7117.html\" title=\"ChatGPT\">ChatGPT</a> đã gặp sự cố ảnh hưởng đến trải nghiệm của người dùng trong 18 - 20 giờ qua. Sự việc đã được một người dùng trên diễn đàn Reddit báo cáo, giải thích rằng họ không thể sử dụng được dịch vụ AI, đồng thời nhận được thông báo lỗi với nội dung API là “429 - Too many requests”.</p>,\n",
       " <p>Một số người dùng khác cũng gặp phải tình trạng tương tự, với hàng loạt tin nhắn báo lỗi trả về. Một số người cho rằng họ đã đạt giới hạn sử dụng và cần nâng cấp lên gói ChatGPT Plus, những người khác lại nói do lưu lượng truy cập quá nhiều và gây ra sự chậm trễ của kết quả truy vấn.</p>,\n",
       " <p class=\"img_chu_thich_0407\">Máy chủ của ChatGPT đã hứng chịu đợt tấn công DDoS quy mô lớn.</p>,\n",
       " <p>Sau những động thái bàn tán của cộng đồng, OpenAI đã chính thức xác nhận rằng hệ thống của công ty đã bị tấn công từ chối dịch vụ (DDoS). Cụ thể, công ty cho biết: “Chúng tôi đang xử lý tình trạng ngừng hoạt động do tình hình lưu lượng truy cập bất thường, phản ánh một cuộc tấn công DDoS đang diễn ra. Chúng tôi đang tiếp tục làm việc để giảm thiểu điều này”.</p>,\n",
       " <p>Một nhóm hacktivist có tên Anonymous Sudan đã nhận trách nhiệm về cuộc tấn công vào OpenAI và ChatGPT, lý do họ đưa ra là do động cơ chính trị, với cáo buộc OpenAI là một công ty Mỹ thân với Israel. Hiện họ cũng đang nhắm mục tiêu vào các công ty khác của Mỹ.</p>,\n",
       " <p>Công ty an ninh mạng CyberCX từng tuyên bố rằng Anonymous Sudan là “một phần của nhóm hacker thân Nga Killnet” và có khả năng nhận được tài trợ và nguồn lực từ Nga trong sứ mệnh của quốc gia này nhằm phá hoại các nước phương Tây.</p>,\n",
       " <p class=\"linkOrigin\"><span class=\"dots\" data-src=\"aHR0cHM6Ly9ub25ndGhvbnZpZXQuY29tLnZuL2NoYXRncHQtYmktbmhvbS1oYWNrZXItYW5vbnltb3VzLXRhbi1jb25nLWRkb3MtdG9pLXNhcC1tYXktY2h1LTE1MTc1Li4u\" id=\"url_origin_cut\">Nguồn: [Link nguồn]</span><span class=\"txtFull\" data-src=\"aHR0cHM6Ly9ub25ndGhvbnZpZXQuY29tLnZuL2NoYXRncHQtYmktbmhvbS1oYWNrZXItYW5vbnltb3VzLXRhbi1jb25nLWRkb3MtdG9pLXNhcC1tYXktY2h1LTE1MTc1ODEubmdu\" id=\"url_origin_full\" style=\"display: none;\">Nguồn: [Link nguồn]</span><span class=\"icoDrop\" id=\"icoDrop\" onclick=\"show_hide_url_origin();\"></span></p>]"
      ]
     },
     "execution_count": 273,
     "metadata": {},
     "output_type": "execute_result"
    }
   ],
   "source": [
    "children"
   ]
  },
  {
   "cell_type": "code",
   "execution_count": 281,
   "id": "bde57165-e12a-4cb4-bf0c-e3c5a8f2a7c4",
   "metadata": {},
   "outputs": [
    {
     "data": {
      "text/plain": [
       "<span class=\"txtFull\" data-src=\"aHR0cHM6Ly9ub25ndGhvbnZpZXQuY29tLnZuL2NoYXRncHQtYmktbmhvbS1oYWNrZXItYW5vbnltb3VzLXRhbi1jb25nLWRkb3MtdG9pLXNhcC1tYXktY2h1LTE1MTc1ODEubmdu\" id=\"url_origin_full\" style=\"display: none;\">Nguồn: [Link nguồn]</span>"
      ]
     },
     "execution_count": 281,
     "metadata": {},
     "output_type": "execute_result"
    }
   ],
   "source": [
    "soup.find('span',id = 'url_origin_full')"
   ]
  },
  {
   "cell_type": "code",
   "execution_count": null,
   "id": "d01f26d2-f7a8-499d-b4f7-b80009c4e3da",
   "metadata": {},
   "outputs": [],
   "source": []
  },
  {
   "cell_type": "code",
   "execution_count": 297,
   "id": "fabdc529-d112-4a49-9171-2a949828868c",
   "metadata": {},
   "outputs": [
    {
     "name": "stderr",
     "output_type": "stream",
     "text": [
      "C:\\Users\\Shang\\AppData\\Local\\Temp\\ipykernel_5900\\1979692309.py:2: DeprecationWarning: headless property is deprecated, instead use add_argument('--headless') or add_argument('--headless=new')\n",
      "  options.headless=True\n"
     ]
    }
   ],
   "source": []
  },
  {
   "cell_type": "code",
   "execution_count": null,
   "id": "d8be96ac-b608-4c37-ba2b-fdf32fbcb6d7",
   "metadata": {},
   "outputs": [],
   "source": [
    "#Srape content of a spacific post by using undetected chromebrowser\n",
    "#options = uc.ChromeOptions()\n",
    "#options.headless=True\n",
    "driver = uc.Chrome(headless=True,use_subprocess=False,version_main=119)#, user_data_dir = \"c:\\temp\\profile\")#, version_main=117)\n",
    "post_url = \"https://www.24h.com.vn/cong-nghe-thong-tin/chatgpt-bi-nhom-hacker-anonymous-tan-cong-ddos-toi-sap-may-chu-c55a1517581.html\"\n",
    "driver.get(post_url) "
   ]
  },
  {
   "cell_type": "code",
   "execution_count": null,
   "id": "4c9e0087-43c1-4221-8b71-32160543fb44",
   "metadata": {},
   "outputs": [],
   "source": [
    "#find the source url\n",
    "driver.quit()"
   ]
  },
  {
   "cell_type": "code",
   "execution_count": 32,
   "id": "efa33bc2-e057-4c44-bb72-770353bbc826",
   "metadata": {},
   "outputs": [
    {
     "name": "stdout",
     "output_type": "stream",
     "text": [
      "https://nongthonviet.com.vn/chatgpt-bi-nhom-hacker-anonymous-tan-cong-ddos-toi-sap-may-chu-1517581.ngn\n"
     ]
    }
   ],
   "source": []
  },
  {
   "cell_type": "code",
   "execution_count": 305,
   "id": "c3ef5e4f-fea8-47f9-be69-f0326f8a4ca2",
   "metadata": {},
   "outputs": [
    {
     "name": "stdout",
     "output_type": "stream",
     "text": [
      "https://nongthonviet.com.vn/chatgpt-bi-nhom-hacker-anonymous-tan-cong-ddos-toi-sap-may-chu-1517581.ngn\n"
     ]
    }
   ],
   "source": []
  },
  {
   "cell_type": "code",
   "execution_count": 289,
   "id": "1b433b2d-4cf1-4fb8-8085-ee102332d6b6",
   "metadata": {},
   "outputs": [
    {
     "data": {
      "text/plain": [
       "['https://nongthonviet.com.vn/chatgpt-bi-nhom-hacker-anonymous-tan-cong-ddos-toi-sap-may-chu-1517581.ngn']"
      ]
     },
     "execution_count": 289,
     "metadata": {},
     "output_type": "execute_result"
    }
   ],
   "source": [
    "url"
   ]
  },
  {
   "cell_type": "code",
   "execution_count": 33,
   "id": "9347d90f-93cb-45e1-9527-ef0f3e607ac3",
   "metadata": {},
   "outputs": [],
   "source": [
    "\"\"\"opts = uc.ChromeOptions()\n",
    "opts.add_argument('--headless')\n",
    "\n",
    "opts.add_argument('--disable-extensions')\n",
    "opts.add_argument('--disable-logging')\n",
    "opts.add_argument('--log-level=3')\n",
    "opts.add_argument('--start-maximized')\n",
    "opts.add_argument('--disable-notifications')\n",
    "opts.add_argument(\"--disable-gpu\")\"\"\""
   ]
  },
  {
   "cell_type": "code",
   "execution_count": 54,
   "id": "2cad79cb-2647-4269-9e74-ef8c9c4cbcf9",
   "metadata": {},
   "outputs": [],
   "source": [
    "driver = uc.Chrome(headless=True,use_subprocess=False,version_main=119)#, user_data_dir = \"c:\\temp\\profile\")#, version_main=117)\n",
    "url = \"https://www.24h.com.vn/cong-nghe-thong-tin/chatgpt-bi-nhom-hacker-anonymous-tan-cong-ddos-toi-sap-may-chu-c55a1517581.html\"\n"
   ]
  },
  {
   "cell_type": "code",
   "execution_count": 50,
   "id": "a490ebd4-f938-47d9-b33f-cf271feef3d5",
   "metadata": {},
   "outputs": [],
   "source": [
    "driver.get(url)\n"
   ]
  },
  {
   "cell_type": "code",
   "execution_count": 51,
   "id": "c2e47ec2-a333-4607-a3bf-a693419b0606",
   "metadata": {},
   "outputs": [],
   "source": [
    "def get_post(driver):\n",
    "    driver.get(url)\n",
    "    \n",
    "        "
   ]
  },
  {
   "cell_type": "code",
   "execution_count": 56,
   "id": "2005160b-d7a0-434c-8a09-c23207ad773a",
   "metadata": {},
   "outputs": [],
   "source": [
    "def get_source(driver):\n",
    "    driver.get(url)\n",
    "    btn = driver.find_element(By.ID,'icoDrop')\n",
    "    btn.click()\n",
    "    source =  driver.find_element(By.ID,'url_origin_full')\n",
    "    url_pattern = r'https?://[^\\s]+'\n",
    "    source_url = re.findall(url_pattern, source.text)\n",
    "    # Extracted URL\n",
    "    source_url =  source_url[0] if source_url else \"\"\n",
    "    return source_url"
   ]
  },
  {
   "cell_type": "code",
   "execution_count": 57,
   "id": "31c36f8e-3069-4bf0-a923-753472d17563",
   "metadata": {},
   "outputs": [
    {
     "data": {
      "text/plain": [
       "'https://nongthonviet.com.vn/chatgpt-bi-nhom-hacker-anonymous-tan-cong-ddos-toi-sap-may-chu-1517581.ngn'"
      ]
     },
     "execution_count": 57,
     "metadata": {},
     "output_type": "execute_result"
    }
   ],
   "source": [
    "get_source(driver)"
   ]
  },
  {
   "cell_type": "code",
   "execution_count": 31,
   "id": "fd41cb08-60d5-454f-8d50-c0a191a278d8",
   "metadata": {},
   "outputs": [],
   "source": [
    "#driver = uc.Chrome(headless=True,use_subprocess=False,version_main=119)#, user_data_dir = \"c:\\temp\\profile\")#, version_main=117)\n",
    "#driver.get(\"https://www.24h.com.vn/cong-nghe-thong-tin/chatgpt-bi-nhom-hacker-anonymous-tan-cong-ddos-toi-sap-may-chu-c55a1517581.html\")"
   ]
  },
  {
   "cell_type": "code",
   "execution_count": 306,
   "id": "8a5460ca-9da5-4f5a-8a6e-bcd4a1b550ff",
   "metadata": {},
   "outputs": [],
   "source": [
    "driver.quit()"
   ]
  },
  {
   "cell_type": "code",
   "execution_count": 11,
   "id": "d214072f-6941-47af-a2ac-d293f2cbd020",
   "metadata": {},
   "outputs": [],
   "source": [
    "_24h_com_vn2 = {\n",
    "        \"home_page\":\"https://www.24h.com.vn/\",\n",
    "        \"urls\":{\n",
    "            \"tech\":\n",
    "            {\n",
    "             \"url\":\"https://www.24h.com.vn/cong-nghe-thong-tin-c55.html\",\n",
    "             \"sub-category\":{\n",
    "                0:{\"name\":\"Game\",\n",
    "                 \"url\":\"https://www.24h.com.vn/game-c69.html\"},\n",
    "                1:{\"name\":\"Phần mềm\",\n",
    "                 \"url\":\"https://www.24h.com.vn/phan-mem-ngoai-c302.html\"},\n",
    "                2:{\"name\":\"Khoa học\",\n",
    "                 \"url\":\"https://www.24h.com.vn/khoa-hoc-c782.html\"},\n",
    "                3:{\"name\":\"Mạng xã hội\",\n",
    "                 \"url\":\"https://www.24h.com.vn/mang-xa-hoi-c889.html\"},\n",
    "                4:{\"name\":\"Thủ thuật - Tiện ích\"\n",
    "                 ,\"url\":\"https://www.24h.com.vn/thu-thuat-tien-ich-c68.html\"},\n",
    "                5:{\"name\":\"Sợ Virus\",\n",
    "                 \"url\":\"https://www.24h.com.vn/tim-hieu-virus-c57.html\"},\n",
    "                6:{\"name\":\"Máy in/phụ kiện\",\n",
    "                 \"url\":\"https://www.24h.com.vn/may-in/phu-kien-c291.html\"},\n",
    "                7:{\"name\":\"Khám phá công nghệ\",\n",
    "                 \"url\":\"https://www.24h.com.vn/kham-pha-cong-nghe-c675.html\"}\n",
    "             }\n",
    "            }\n",
    "            ,\n",
    "            \"youths\":\n",
    "            {\n",
    "            \"category\":\"youths\",\n",
    "            \"url\":\"https://www.24h.com.vn/ban-tre-cuoc-song-c64.html\", \n",
    "             \"sub-category\":{\n",
    "                0:{\"name\":\"Chuyện công sở\",\"url\":\"https://www.24h.com.vn/chuyen-cong-so-c180.html\"},\n",
    "                1:{\"name\":\"Tình yêu - Giới Tính\",\"url\":\"https://www.24h.com.vn/tinh-yeu-gioi-tinh-c306.html\"},\n",
    "                2:{\"name\":\"Ngoại tình\",\"url\":\"https://www.24h.com.vn/ngoai-tinh-c435.html\"},\n",
    "                3:{\"name\":\"Giới trẻ\",\"url\":\"https://www.24h.com.vn/gioi-tre-c434.html\"},\n",
    "                4:{\"name\":\"Hotgirl - Hotboy\",\"url\":\"https://www.24h.com.vn/hotgirl-hot-boy-c64e3398.html\"},\n",
    "                5:{\"name\":\"Nhịp sống trẻ\",\"url\":\"https://www.24h.com.vn/nhip-song-tre-c685.html\"}\n",
    "             }\n",
    "            }\n",
    "            ,\n",
    "            \"showbiz\":\n",
    "            {\n",
    "            \"category\":\"showbiz\",\n",
    "            \"url\":\"https://www.24h.com.vn/doi-song-showbiz-c729.html\",\n",
    "             \"sub-category\":{\n",
    "                0:{\"name\":\"Sao Việt\",\"url\":\"https://www.24h.com.vn/sao-viet-c757.html\"},\n",
    "                1:{\"name\":\"24h gặp gỡ\",\"url\":\"https://www.24h.com.vn/gap-go-24h-c729e6820.html\"},\n",
    "                2:{\"name\":\"Talk với sao\",\"url\":\"https://www.24h.com.vn/doi-thoai-cung-sao-c730.html\"},\n",
    "                3:{\"name\":\"Sao châu Á\",\"url\":\"https://www.24h.com.vn/sao-chau-a-c759.html\"},\n",
    "            }\n",
    "            },\n",
    "            \"cars\":\n",
    "            {\n",
    "            \"category\":\"cars\",\n",
    "            \"url\":\"https://www.24h.com.vn/o-to-c747.html\",\n",
    "             \"sub-category\":{\n",
    "                0:{\"name\":\"Tin tức ô tô\",\"url\":\"https://www.24h.com.vn/tin-tuc-o-to-c332.html\"},\n",
    "                1:{\"name\":\"Bảng giá xe ô tô\",\"url\":\"https://www.24h.com.vn/bang-gia-xe-o-to-c807.html\"},\n",
    "                2:{\"name\":\"Tư vấn\",\"url\":\"https://www.24h.com.vn/tu-van-c240.html\"},\n",
    "                3:{\"name\":\"Ngắm xe\",\"url\":\"https://www.24h.com.vn/anh-nguoi-dep-va-xe-c199.html\"},\n",
    "                4:{\"name\":\"Đánh giá xe\",\"url\":\"https://www.24h.com.vn/so-sanh-xe-c805.html\"},\n",
    "                5:{\"name\":\"Tra cứu ô tô\",\"url\":\"https://www.24h.com.vn/tra-cuu-o-to-c992.html\"},\n",
    "            }\n",
    "            }\n",
    "        }\n",
    "    }"
   ]
  },
  {
   "cell_type": "code",
   "execution_count": 22,
   "id": "b7251e02-912b-4bcb-baa5-a1a7cc57fab6",
   "metadata": {},
   "outputs": [
    {
     "data": {
      "text/plain": [
       "'https://www.24h.com.vn/game-c69.html'"
      ]
     },
     "execution_count": 22,
     "metadata": {},
     "output_type": "execute_result"
    }
   ],
   "source": [
    "_24h_com_vn['urls']['tech'][\"sub-category\"][0][\"url\"]"
   ]
  },
  {
   "cell_type": "code",
   "execution_count": null,
   "id": "796023f4-a463-4791-9d53-de896460c76c",
   "metadata": {},
   "outputs": [],
   "source": [
    "%store -r"
   ]
  },
  {
   "cell_type": "code",
   "execution_count": null,
   "id": "4e3ecd78-8e4e-4d83-9feb-6bbc66334d12",
   "metadata": {},
   "outputs": [],
   "source": [
    "_24h_com_vn"
   ]
  },
  {
   "cell_type": "code",
   "execution_count": 9,
   "id": "a4d60774-91e8-4f8f-a32b-3b149671399a",
   "metadata": {},
   "outputs": [],
   "source": [
    "_24h_com_vn2 = _24h_com_vn.copy()"
   ]
  },
  {
   "cell_type": "code",
   "execution_count": 10,
   "id": "74f932b8-e5fb-4907-b9db-8bb5c82ecf57",
   "metadata": {},
   "outputs": [],
   "source": [
    "driver = uc.Chrome(headless=True,use_subprocess=False,version_main=119)#, user_data_dir = \"c:\\temp\\profile\")#, version_main=117)\n"
   ]
  },
  {
   "cell_type": "code",
   "execution_count": null,
   "id": "5baa3fa1-bbdf-4d34-baaa-c8e9f107d0e9",
   "metadata": {},
   "outputs": [],
   "source": []
  },
  {
   "cell_type": "code",
   "execution_count": 12,
   "id": "104f96c0-4088-44b5-b596-e53c319339cd",
   "metadata": {},
   "outputs": [],
   "source": [
    "def get_url_list(driver):\n",
    "    post_urls = []\n",
    "    #while the read more element is still exists\n",
    "    while is_element_exist(driver)[0]:\n",
    "        if is_element_exist(driver)[1] == 1:\n",
    "            read_more_btn = driver.find_element(By.XPATH,\"//p[@class='cate-24h-foot-home-latest-list__readmore margin-top-20 text-uppercase']\")\n",
    "            actions = ActionChains(driver)\n",
    "            actions.move_to_element(read_more_btn).perform()\n",
    "            read_more_btn.click()\n",
    "            time.sleep(2)\n",
    "            news_block = driver.find_elements(By.CLASS_NAME,\"cate-24h-car-news-rand__info\")\n",
    "            for i in news_block:\n",
    "                url = i.find_element(By.TAG_NAME, 'a').get_attribute('href')\n",
    "                if url not in post_urls:\n",
    "                    post_urls.append(url)\n",
    "                    print(url)\n",
    "        elif is_element_exist(driver)[1] == 2:\n",
    "            read_more_btn = driver.find_element(By.XPATH,\"//p[@class='cate-24h-foot-home-tour-news-readmore arrow-plus-etm margin-bottom-20']\")\n",
    "            actions = ActionChains(driver)\n",
    "            actions.move_to_element(read_more_btn).perform()\n",
    "            read_more_btn.click()\n",
    "            time.sleep(2)\n",
    "            news_block = driver.find_elements(By.CLASS_NAME,\"cate-24h-foot-home-latest-list__name\")\n",
    "            for i in news_block:\n",
    "                url = i.find_element(By.TAG_NAME, 'a').get_attribute('href')\n",
    "                if url not in post_urls:\n",
    "                    post_urls.append(url)\n",
    "                    print(url)\n",
    "        elif is_element_exist(driver)[1] == 3:\n",
    "            current_count = len(driver.find_element(By.ID,'left').find_elements(By.CLASS_NAME,\"cate-24h-foot-home-latest\")[0].find_elements(By.CLASS_NAME,\"cate-24h-foot-home-latest-list__name\"))\n",
    "            read_more_btn = driver.find_element(By.XPATH,\"//p[@class='cate-24h-foot-home-latest-list__readmore text-uppercase margin-bottom-10']\")\n",
    "            actions = ActionChains(driver)\n",
    "            actions.move_to_element(read_more_btn).perform()\n",
    "            read_more_btn.click()\n",
    "            time.sleep(2)\n",
    "            news_block = driver.find_element(By.ID,'left').find_elements(By.CLASS_NAME,\"cate-24h-foot-home-latest\")[0].find_elements(By.CLASS_NAME,\"cate-24h-foot-home-latest-list__name\")\n",
    "            new_count = len(news_block)\n",
    "            for i in news_block:\n",
    "                if i not in post_urls:\n",
    "                    url = i.find_element(By.TAG_NAME, 'a').get_attribute('href')\n",
    "                    post_urls.append(url)\n",
    "            print(current_count,new_count)\n",
    "            if current_count == new_count:\n",
    "                break\n",
    "    return post_urls"
   ]
  },
  {
   "cell_type": "code",
   "execution_count": 13,
   "id": "0f3406e6-f20e-4f97-bd11-09fad8bea3cd",
   "metadata": {},
   "outputs": [
    {
     "data": {
      "text/plain": [
       "0"
      ]
     },
     "execution_count": 13,
     "metadata": {},
     "output_type": "execute_result"
    }
   ],
   "source": [
    "def is_element_exist(driver):\n",
    "    try:\n",
    "        driver.find_element(By.XPATH,\"//p[@class='cate-24h-foot-home-latest-list__readmore margin-top-20 text-uppercase']\")\n",
    "        return True,1\n",
    "    except NoSuchElementException:\n",
    "        try:\n",
    "            driver.find_element(By.XPATH,\"//p[@class='cate-24h-foot-home-tour-news-readmore arrow-plus-etm margin-bottom-20']\")\n",
    "            return True,2\n",
    "        except NoSuchElementException:\n",
    "            try:\n",
    "                driver.find_element(By.XPATH,\"//p[@class='cate-24h-foot-home-latest-list__readmore text-uppercase margin-bottom-10']\")\n",
    "                return True,3\n",
    "            except NoSuchElementException:\n",
    "                return False,0\n",
    "is_element_exist(driver)[1]"
   ]
  },
  {
   "cell_type": "code",
   "execution_count": 11,
   "id": "0677e5b9-4655-49fc-b27e-d2d6ad057f9b",
   "metadata": {},
   "outputs": [],
   "source": [
    "\n",
    "def get_post_content(driver,post_url):\n",
    "    driver.get(post_url)\n",
    "    try:\n",
    "        wait = WebDriverWait(driver, 6)\n",
    "        element = wait.until(EC.presence_of_element_located((By.ID, \"url_origin_cut\")))\n",
    "        title = driver.find_element(By.TAG_NAME,'h1').text\n",
    "        posted_date = driver.find_element(By.TAG_NAME,'time').text\n",
    "        h2 = driver.find_element(By.TAG_NAME,'h2').text\n",
    "        #parent_div = driver.find_element(By.TAG_NAME,'article')\n",
    "        images =  driver.find_element(By.ID,\"article_body\").find_elements(By.TAG_NAME,'img')[:-1]\n",
    "        images_src = [img.get_attribute('data-original') if 'https://image-us.24h.com.vn' not in img.get_attribute('src') else img.get_attribute('src') if 'svg' not in img.get_attribute('src') else '' for img in images  ]\n",
    "        images_src = [img for img in images_src if img != '']\n",
    "        text_list = [ child.text for child in driver.find_element(By.TAG_NAME,'article').find_elements(By.TAG_NAME,'p')[:-4] if re.sub(r'\\n+', '', child.text) != \"\"]\n",
    "        #source = driver.find_element(By.TAG_NAME,'article').find_elements(By.TAG_NAME,'p')[-4].text\n",
    "        driver.find_element(By.ID,'icoDrop').click()\n",
    "        source = driver.find_element(By.ID,'url_origin_full').text\n",
    "        url_pattern = r'https?://[^\\s]+'\n",
    "        source_url = re.findall(url_pattern, source)\n",
    "        return title,posted_date, h2, text_list,source_url,images_src\n",
    "    except NoSuchElementException as e:\n",
    "        print('NoSuchElementException',e)\n",
    "    except ElementClickInterceptedException:\n",
    "        print('ElementClickInterceptedException',e)"
   ]
  },
  {
   "cell_type": "code",
   "execution_count": 18,
   "id": "8c27f514-71ac-4524-bcab-266e59ab362d",
   "metadata": {},
   "outputs": [
    {
     "ename": "TypeError",
     "evalue": "'list' object is not callable",
     "output_type": "error",
     "traceback": [
      "\u001b[1;31m---------------------------------------------------------------------------\u001b[0m",
      "\u001b[1;31mTypeError\u001b[0m                                 Traceback (most recent call last)",
      "Cell \u001b[1;32mIn[18], line 1\u001b[0m\n\u001b[1;32m----> 1\u001b[0m \u001b[38;5;28;01mfor\u001b[39;00m i \u001b[38;5;129;01min\u001b[39;00m \u001b[38;5;28mlist\u001b[39m(_24h_com_vn2[\u001b[38;5;124m'\u001b[39m\u001b[38;5;124murls\u001b[39m\u001b[38;5;124m'\u001b[39m]\u001b[38;5;241m.\u001b[39mkeys()):\n\u001b[0;32m      2\u001b[0m     \u001b[38;5;28;01mfor\u001b[39;00m j \u001b[38;5;129;01min\u001b[39;00m \u001b[38;5;28mlist\u001b[39m(_24h_com_vn2[\u001b[38;5;124m'\u001b[39m\u001b[38;5;124murls\u001b[39m\u001b[38;5;124m'\u001b[39m][i][\u001b[38;5;124m'\u001b[39m\u001b[38;5;124msub-category\u001b[39m\u001b[38;5;124m'\u001b[39m]\u001b[38;5;241m.\u001b[39mkeys()):\n\u001b[0;32m      3\u001b[0m         _24h_com_vn2[\u001b[38;5;124m'\u001b[39m\u001b[38;5;124murls\u001b[39m\u001b[38;5;124m'\u001b[39m][i][\u001b[38;5;124m'\u001b[39m\u001b[38;5;124msub-category\u001b[39m\u001b[38;5;124m'\u001b[39m][j][\u001b[38;5;124m'\u001b[39m\u001b[38;5;124mcontent\u001b[39m\u001b[38;5;124m'\u001b[39m] \u001b[38;5;241m=\u001b[39m {}\n",
      "\u001b[1;31mTypeError\u001b[0m: 'list' object is not callable"
     ]
    }
   ],
   "source": [
    "for i in list(_24h_com_vn2['urls'].keys()):\n",
    "    for j in list(_24h_com_vn2['urls'][i]['sub-category'].keys()):\n",
    "        _24h_com_vn2['urls'][i]['sub-category'][j]['content'] = {}\n",
    "        list_key = [v for v in range(0,len(_24h_com_vn2['urls'][i]['sub-category'][j]['url_list']))]\n",
    "        for u in list_key:\n",
    "            if u not in list(_24h_com_vn2['urls'][i]['sub-category'][j]['content'].keys()):\n",
    "                _24h_com_vn2['urls'][i]['sub-category'][j]['content'][u] = {}\n",
    "                _24h_com_vn2['urls'][i]['sub-category'][j]['content'][u]['title'],_24h_com_vn2['urls'][i]['sub-category'][j]['content'][u]['posted_date'],_24h_com_vn2['urls'][i]['sub-category'][j]['content'][u]['h2'],_24h_com_vn2['urls'][i]['sub-category'][j]['content'][u]['text_list'],_24h_com_vn2['urls'][i]['sub-category'][j]['content'][u]['source_url'],_24h_com_vn2['urls'][i]['sub-category'][j]['content'][u]['image_src'] = get_post_content(driver,_24h_com_vn2['urls'][i]['sub-category'][j]['url_list'][u])\n",
    "                print(i,_24h_com_vn2['urls'][i]['sub-category'][j]['name'],_24h_com_vn2['urls'][i]['sub-category'][j]['content'][u]['title'],_24h_com_vn2['urls'][i]['sub-category'][j]['url_list'][u])\n",
    "                #time.sleep(3)\n",
    "            else:\n",
    "                continue"
   ]
  },
  {
   "cell_type": "code",
   "execution_count": 17,
   "id": "de56a4db-b4e4-4d0e-8e6a-52efecfb957f",
   "metadata": {},
   "outputs": [
    {
     "data": {
      "text/plain": [
       "dict_keys(['tech', 'youths', 'showbiz', 'cars'])"
      ]
     },
     "execution_count": 17,
     "metadata": {},
     "output_type": "execute_result"
    }
   ],
   "source": [
    "_24h_com_vn2['urls'].keys()"
   ]
  },
  {
   "cell_type": "code",
   "execution_count": 2,
   "id": "a4347c4f-a2ee-4e74-b783-647639ca7688",
   "metadata": {},
   "outputs": [
    {
     "name": "stdout",
     "output_type": "stream",
     "text": [
      "1\n",
      "2\n",
      "3\n",
      "4\n",
      "5\n",
      "7\n",
      "8\n"
     ]
    }
   ],
   "source": [
    "list = [1,2,3,4,5,5,7,8,112]\n",
    "for i in range(0,15):\n",
    "    if i in list:\n",
    "        print(i)\n",
    "    else:\n",
    "        continue"
   ]
  },
  {
   "cell_type": "code",
   "execution_count": null,
   "id": "70bff491-b5e9-4453-9f1a-1ed411b79cb5",
   "metadata": {},
   "outputs": [],
   "source": []
  }
 ],
 "metadata": {
  "kernelspec": {
   "display_name": "Python 3 (ipykernel)",
   "language": "python",
   "name": "python3"
  },
  "language_info": {
   "codemirror_mode": {
    "name": "ipython",
    "version": 3
   },
   "file_extension": ".py",
   "mimetype": "text/x-python",
   "name": "python",
   "nbconvert_exporter": "python",
   "pygments_lexer": "ipython3",
   "version": "3.11.5"
  }
 },
 "nbformat": 4,
 "nbformat_minor": 5
}
