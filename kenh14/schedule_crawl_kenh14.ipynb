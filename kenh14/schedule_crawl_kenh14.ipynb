{
 "cells": [
  {
   "cell_type": "code",
   "execution_count": 4,
   "id": "6e068fc3-cb05-4371-9c56-72880ff22dd0",
   "metadata": {},
   "outputs": [],
   "source": [
    "import requests \n",
    "import time\n",
    "import undetected_chromedriver as uc\n",
    "from selenium.webdriver.common.by import By\n",
    "import re\n",
    "from datetime import datetime\n",
    "from bs4 import BeautifulSoup\n"
   ]
  },
  {
   "cell_type": "code",
   "execution_count": 5,
   "id": "a2771d8f-7dfc-4ec8-8dd8-084e493fb4d9",
   "metadata": {},
   "outputs": [],
   "source": [
    "_kenh14 = {\n",
    "        \"home_page\":\"https://kenh14.vn/\",\n",
    "        \"urls\":{\n",
    "            \"sport\":\n",
    "            {\n",
    "             \"url\":\"https://kenh14.vn/sport.chn\",\n",
    "             \"sub-category\":{\n",
    "                0:{\n",
    "                    \"name\":\"Bóng đá\",\n",
    "                     \"url\":\"https://kenh14.vn/sport/bong-da.chn\",\n",
    "                     \"url_list\" : []},\n",
    "                1:{\"name\":\"Hậu trường\",\n",
    "                 \"url\":\"https://kenh14.vn/sport/hau-truong.chn\",\n",
    "                  \"url_list\" : []},\n",
    "                2:{\"name\":\"Esports\",\n",
    "                 \"url\":\"https://kenh14.vn/sport/esports.chn\",\n",
    "                  \"url_list\" : []}\n",
    "             }\n",
    "            }\n",
    "        }\n",
    "    }"
   ]
  },
  {
   "cell_type": "code",
   "execution_count": 4,
   "id": "16babb97-5dc3-4f3d-bfe6-2dc91a9e6296",
   "metadata": {},
   "outputs": [],
   "source": [
    "#list(_kenh14['urls']['sport']['sub-category'].keys())"
   ]
  },
  {
   "cell_type": "code",
   "execution_count": 9,
   "id": "bdb7a261-ab34-4276-abb7-2b305975bec2",
   "metadata": {},
   "outputs": [],
   "source": [
    "driver = uc.Chrome(use_subprocess=False,version_main=119)#, user_data_dir = \"c:\\temp\\profile\")#, version_main=117)\n",
    "\n",
    "#title = soup.find('title').get_text()\n",
    "#print(\"Title of the webpage:\", title)\n",
    "#lastPage > div.view-more-detail.clearboth\n",
    "#lastPage > div.view-more-detail.clearboth > a"
   ]
  },
  {
   "cell_type": "code",
   "execution_count": 46,
   "id": "915227f1-a848-44c7-ac9d-23b4691e6bc7",
   "metadata": {},
   "outputs": [],
   "source": [
    "driver.quit()"
   ]
  },
  {
   "cell_type": "code",
   "execution_count": 7,
   "id": "f238eb39-7d36-4372-8751-6509865ca448",
   "metadata": {},
   "outputs": [],
   "source": [
    "def is_element_exist(driver):\n",
    "    try:\n",
    "        driver.find_element(By.CLASS_NAME, 'view-more-detail.clearboth').find_element(By.TAG_NAME,'a')\n",
    "        return True\n",
    "    except NoSuchElementException:\n",
    "        return False"
   ]
  },
  {
   "cell_type": "code",
   "execution_count": 8,
   "id": "966840dd-2a85-4c1f-b4c3-a6163ef8d852",
   "metadata": {},
   "outputs": [],
   "source": [
    "def is_element_display():\n",
    "    return driver.find_element(By.CLASS_NAME, 'view-more-detail.clearboth').find_element(By.TAG_NAME,'a').is_displayed()\n",
    "        "
   ]
  },
  {
   "cell_type": "code",
   "execution_count": 9,
   "id": "86742f80-5f6e-453b-844b-edac0fa9bdef",
   "metadata": {},
   "outputs": [],
   "source": [
    "#see_more_btn = dxriver.find_element(By.CLASS_NAME, 'view-more-detail.clearboth').find_element(By.TAG_NAME,'a')\n",
    "#is_element_exist(driver)"
   ]
  },
  {
   "cell_type": "code",
   "execution_count": 10,
   "id": "9ed56754-eef1-4d95-84dc-55fce163c1db",
   "metadata": {},
   "outputs": [],
   "source": [
    "#driver.find_element(By.CLASS_NAME, 'view-more-detail.clearboth').find_element(By.TAG_NAME,'a').is_displayed()"
   ]
  },
  {
   "cell_type": "code",
   "execution_count": 11,
   "id": "d64b22fa-2e0d-4563-a92d-8fd6ae6de227",
   "metadata": {},
   "outputs": [],
   "source": [
    "\n",
    "def smooth_scroll_to_bottom(delay):\n",
    "    last_height = driver.execute_script(\"return document.body.scrollHeight\")\n",
    "\n",
    "    while True:\n",
    "        # Scroll down to the bottom.\n",
    "        driver.execute_script(\"window.scrollTo(0, document.body.scrollHeight);\")\n",
    "\n",
    "        # Wait for the page to load.\n",
    "        time.sleep(delay)\n",
    "\n",
    "        # Calculate new scroll height and compare with last scroll height.\n",
    "        new_height = driver.execute_script(\"return document.body.scrollHeight\")\n",
    "        if new_height == last_height:\n",
    "            break\n",
    "        last_height = new_height"
   ]
  },
  {
   "cell_type": "code",
   "execution_count": 20,
   "id": "67b1e3ed-8715-4fef-bac6-5e41b450375a",
   "metadata": {},
   "outputs": [
    {
     "data": {
      "text/plain": [
       "datetime.datetime(2023, 11, 20, 18, 6, 26, 28050)"
      ]
     },
     "execution_count": 20,
     "metadata": {},
     "output_type": "execute_result"
    }
   ],
   "source": [
    "crawl_time = datetime.fromtimestamp(time.time())\n",
    "crawl_time"
   ]
  },
  {
   "cell_type": "code",
   "execution_count": 12,
   "id": "17b92edd-b9f9-4862-a7a9-261e87cf6eea",
   "metadata": {},
   "outputs": [],
   "source": [
    "def readmore_click():\n",
    "    while is_element_display()==False:\n",
    "        crawl_time =  datetime.fromtimestamp(time.time())\n",
    "        smooth_scroll_to_bottom(delay=4)\n",
    "        warapper = driver.find_element(By.CLASS_NAME,'kbwcb-left-wrapper')\n",
    "        last_post_date_string = warapper.find_elements(By.CLASS_NAME,'knswli-time')[-1].get_attribute('title')\n",
    "        datetime_obj = datetime.fromisoformat(last_post_date_string)\n",
    "        if is_element_display():\n",
    "            if datetime_obj >= crawl_time:\n",
    "                driver.find_element(By.CLASS_NAME, 'view-more-detail.clearboth').find_element(By.TAG_NAME,'a').click()\n",
    "            else:\n",
    "                break\n",
    "     "
   ]
  },
  {
   "cell_type": "code",
   "execution_count": 20,
   "id": "fd567840-c9a9-417f-970e-b03908e9dd08",
   "metadata": {},
   "outputs": [],
   "source": [
    "#driver = uc.Chrome(use_subprocess=False,version_main=119)\n",
    "def get_url_list(category_url):\n",
    "    #driver = uc.Chrome(headless = True, use_subprocess=False,version_main=119)\n",
    "    driver.get(category_url)\n",
    "    crawl_time =  datetime.fromtimestamp(time.time())\n",
    "    url_list = []\n",
    "    readmore_click()\n",
    "    warapper  = driver.find_element(By.CLASS_NAME,'kbwcb-left-wrapper')\n",
    "    list_elements = warapper.find_elements(By.CLASS_NAME,'knswli.need-get-value-facebook.clearfix.done-get-type.done-get-sticker')\n",
    "    for i in range(0,len(list_elements)):\n",
    "        if (datetime.fromisoformat(driver.find_elements(By.CLASS_NAME,'knswli-time')[i].get_attribute('title')).day == crawl_time.day and\n",
    "        datetime.fromisoformat(driver.find_elements(By.CLASS_NAME,'knswli-time')[i].get_attribute('title')).month == crawl_time.month and\n",
    "        datetime.fromisoformat(driver.find_elements(By.CLASS_NAME,'knswli-time')[i].get_attribute('title')).year == crawl_time.year):\n",
    "            src = list_elements[i].find_element(By.TAG_NAME,'h3').find_element(By.TAG_NAME,'a').get_attribute('href')\n",
    "            url_list.append(src)\n",
    "    return url_list"
   ]
  },
  {
   "cell_type": "code",
   "execution_count": 6,
   "id": "1e716da6-af35-43eb-a188-50ab1c1c68e7",
   "metadata": {},
   "outputs": [],
   "source": [
    "driver = uc.Chrome(headless = True, use_subprocess=False,version_main=119)\n",
    "#driver.get('https://kenh14.vn/sport/bong-da.chn')\n",
    "#warapper  = driver.find_element(By.CLASS_NAME,'kbwcb-left-wrapper')\n",
    "#list_elements = warapper.find_elements(By.CLASS_NAME,'knswli.need-get-value-facebook.clearfix.done-get-type.done-get-sticker')"
   ]
  },
  {
   "cell_type": "code",
   "execution_count": 116,
   "id": "2a25da66-4509-4205-8ca2-058e3094877c",
   "metadata": {},
   "outputs": [
    {
     "data": {
      "text/plain": [
       "'https://kenh14.vn/diem-danh-3-ngoi-sao-iraq-dang-gom-khien-tuyen-viet-nam-phai-de-chung-20231121104113473.chn'"
      ]
     },
     "execution_count": 116,
     "metadata": {},
     "output_type": "execute_result"
    }
   ],
   "source": [
    "#driver.quit()\n",
    "list_elements[0].find_element(By.TAG_NAME,'h3').find_element(By.TAG_NAME,'a').get_attribute('href')"
   ]
  },
  {
   "cell_type": "code",
   "execution_count": 120,
   "id": "c4240896-23d7-4c6c-8525-eb69975bc7bb",
   "metadata": {},
   "outputs": [],
   "source": [
    "url_list = []\n",
    "warapper  = driver.find_element(By.CLASS_NAME,'kbwcb-left-wrapper')\n",
    "list_elements = warapper.find_elements(By.CLASS_NAME,'knswli.need-get-value-facebook.clearfix.done-get-type.done-get-sticker')\n",
    "for i in range(0,len(warapper.find_elements(By.CLASS_NAME,'knswli-time'))):\n",
    "    if (datetime.fromisoformat(driver.find_elements(By.CLASS_NAME,'knswli-time')[i].get_attribute('title')).day == datetime(2023, 11,20, 0, 0, 0).day and\n",
    "        datetime.fromisoformat(driver.find_elements(By.CLASS_NAME,'knswli-time')[i].get_attribute('title')).month == datetime(2023, 11,20, 0, 0, 0).month and\n",
    "        datetime.fromisoformat(driver.find_elements(By.CLASS_NAME,'knswli-time')[i].get_attribute('title')).year == datetime(2023, 11,20, 0, 0, 0).year):\n",
    "        src = list_elements[i].find_element(By.TAG_NAME,'h3').find_element(By.TAG_NAME,'a').get_attribute('href')\n",
    "        print(src)\n",
    "        url_list.append(src)\n",
    "        "
   ]
  },
  {
   "cell_type": "code",
   "execution_count": 77,
   "id": "c6e9dce3-67fd-4da4-9f5e-61e574ead48c",
   "metadata": {},
   "outputs": [],
   "source": [
    "driver.quit() #= uc.Chrome(headless = True, use_subprocess=False,version_main=119)"
   ]
  },
  {
   "cell_type": "code",
   "execution_count": 22,
   "id": "1a184c6e-7565-4d35-8658-c64cb86899c8",
   "metadata": {},
   "outputs": [
    {
     "data": {
      "text/plain": [
       "[]"
      ]
     },
     "execution_count": 22,
     "metadata": {},
     "output_type": "execute_result"
    }
   ],
   "source": [
    "#driver = uc.Chrome(headless = True,use_subprocess=False,version_main=119)\n",
    "get_url_list('https://kenh14.vn/sport/bong-da.chn')"
   ]
  },
  {
   "cell_type": "code",
   "execution_count": 18,
   "id": "3185274e-b5bd-4da0-9aa5-811613687493",
   "metadata": {},
   "outputs": [
    {
     "data": {
      "text/plain": [
       "[]"
      ]
     },
     "execution_count": 18,
     "metadata": {},
     "output_type": "execute_result"
    }
   ],
   "source": [
    "links"
   ]
  },
  {
   "cell_type": "code",
   "execution_count": 110,
   "id": "8307dbdd-cfa8-4d0a-afc8-a42f9fa0c8c0",
   "metadata": {},
   "outputs": [],
   "source": [
    "def add_url_list(_kenh14):\n",
    "    for i in list(_kenh14['urls'].keys()):\n",
    "        for j in _kenh14['urls'][i]:\n",
    "            for v in list(_kenh14['urls'][i]['sub-category'].keys()):\n",
    "                cat_url =  _kenh14['urls'][i]['sub-category'][v]['url']\n",
    "                _kenh14['urls'][i]['sub-category'][v]['url_list'] = get_url_list(cat_url)\n",
    "                time.sleep(5)\n",
    "    return _kenh14   "
   ]
  },
  {
   "cell_type": "code",
   "execution_count": 104,
   "id": "2d70e5bb-c67e-44ec-865c-7847ec3b52cf",
   "metadata": {},
   "outputs": [],
   "source": [
    "def add_post(_kenh14):\n",
    "    for i in list(_kenh14['urls'].keys()):\n",
    "        for j in _kenh14['urls'][i]:\n",
    "            for v in list(_kenh14['urls'][i]['sub-category'].keys()):\n",
    "                n_post = len(_kenh14['urls'][i]['sub-category'][v]['url_list'])\n",
    "                _kenh14['urls'][i]['sub-category'][v]['content'] = {}\n",
    "                for item in range(0,n_post):\n",
    "                    post_url = _kenh14['urls'][i]['sub-category'][v]['url_list'][item]\n",
    "                    if post_url != \"\":\n",
    "                        _kenh14['urls'][i]['sub-category'][v]['content'][item]['text_list'],_kenh14['urls'][i]['sub-category'][v]['content'][item]['images_src'],_kenh14['urls'][i]['sub-category'][v]['content'][item]['title'],_kenh14['urls'][i]['sub-category'][v]['content'][item]['post_time'] = get_post(post_url)"
   ]
  },
  {
   "cell_type": "code",
   "execution_count": 72,
   "id": "164076ad-f172-4765-bc8f-d9e52e33bb6a",
   "metadata": {},
   "outputs": [
    {
     "data": {
      "text/plain": [
       "\"for i in list(_kenh14['urls'].keys()):\\n    for j in _kenh14['urls'][i]:\\n        for v in list(_kenh14['urls'][i]['sub-category'].keys()):\\n            cat_url =  _kenh14['urls'][i]['sub-category'][v]['url']\\n            _kenh14['urls'][i]['sub-category'][v]['url_list'] = get_url_list(cat_url)\\n            time.sleep(5)\""
      ]
     },
     "execution_count": 72,
     "metadata": {},
     "output_type": "execute_result"
    }
   ],
   "source": [
    "#_kenh14['urls']['sport']['sub-category'][0]\n",
    "\"\"\"for i in list(_kenh14['urls'].keys()):\n",
    "    for j in _kenh14['urls'][i]:\n",
    "        for v in list(_kenh14['urls'][i]['sub-category'].keys()):\n",
    "            cat_url =  _kenh14['urls'][i]['sub-category'][v]['url']\n",
    "            _kenh14['urls'][i]['sub-category'][v]['url_list'] = get_url_list(cat_url)\n",
    "            time.sleep(5)\"\"\""
   ]
  },
  {
   "cell_type": "code",
   "execution_count": 27,
   "id": "4d9b509f-5281-4477-8b62-330954b2c2ac",
   "metadata": {},
   "outputs": [],
   "source": [
    "def get_post(url):\n",
    "    try:\n",
    "        response = requests.get(url)\n",
    "        time.sleep(3)\n",
    "        soup = BeautifulSoup(response.content, 'html5lib')\n",
    "        parent_div = soup.find('div', id = 'k14-detail-content').find('div',class_ ='knc-content')\n",
    "        post_time = soup.find('span', class_ ='kbwcm-time')['title']\n",
    "        title = soup.find('h1').text.strip()\n",
    "        h2 = soup.find('h2').text.strip()\n",
    "        #images_src = [i.attrs['src'] for i in soup.find('article', class_= 'cate-24h-foot-arti-deta-info').find_all('img')[:-1] if 'svg' not in i.attrs['src']]\n",
    "        images_src = [img['data-original'] for img in parent_div.find_all('img')]\n",
    "        text_list = [ child.text.strip() for child in parent_div if child.text.strip() != \"\"]\n",
    "        text_list = [h2] + text_list\n",
    "        print(url)\n",
    "        return text_list, images_src,title,post_time\n",
    "    except AttributeError as e:\n",
    "        print(e)\n",
    "        text_list = ''\n",
    "        images_src = ''\n",
    "        title= ''\n",
    "        post_time =''\n",
    "        return text_list, images_src,title,post_time"
   ]
  },
  {
   "cell_type": "code",
   "execution_count": 28,
   "id": "516d7be3-e430-4fb2-979e-beede5046aa2",
   "metadata": {},
   "outputs": [
    {
     "name": "stdout",
     "output_type": "stream",
     "text": [
      "https://kenh14.vn/hlv-doi-tuyen-iraq-bat-bai-chi-ra-diem-manh-nhat-cua-doi-tuyen-viet-nam-20231120115453587.chn\n"
     ]
    },
    {
     "data": {
      "text/plain": [
       "(['HLV Jesus Casas đã nghiên cứu lối chơi của đội tuyển Việt Nam trước trận đấu diễn ra ngày 21/11.',\n",
       "  'Đội tuyển Iraq sẽ làm khách đội tuyển Việt Nam trên sân Mỹ Đình lúc 19h00 ngày 21/11. Trước thềm trận đấu này cả đội khách và đội tuyển Việt Nam đều đã có chiến thắng mở màn. Cũng vì vậy màn so tài giữa hai đội tuyển sẽ càng hấp dẫn hơn. Đánh giá về chủ nhà Việt Nam, HLV tuyển Iraq - Jesus Casas cho biết:',\n",
       "  '\"Tôi nghĩ trận đấu ngày mai khá thú vị. Chúng tôi dù đã thắng trận đấu trước đó nhưng trận đấu ngày mai rất quan trọng và đối thủ cũng là một đối thủ khó với những cầu thủ tốt.\"',\n",
       "  'Bên cạnh đó, HLV Casas cũng cho biết ông và các cầu thủ của mình đã nghiên cứu rất kĩ lối chơi của tuyển Việt Nam:',\n",
       "  '\"Tôi có rất nhiều nghiên cứu về tuyển Việt Nam, họ có lối chơi rất tốt phía biên, các bạn chạy cánh rất nhanh và đó là điểm mạnh nhất Việt Nam. Bên cạnh đó, Việt Nam có thế mạnh nữa là chơi trên sân nhà có khán giả cổ vũ trên khán đài và đây là nguồn động lực lớn nhất cho các cầu thủ\".',\n",
       "  'HLV ĐT Iraq tham dự họp báo trước trận đấu (Ảnh: BB)',\n",
       "  'HLV tuyển Iraq là Jesus Casas đang sở hữu trong tay đội hình mạnh. Dù cựu \"thần đồng\" Man United là tiền vệ Zidane Iqbal vắng mặt vì chấn thương nhưng đội tuyển Iraq vẫn có tới 10 cầu thủ đang chơi bóng ở châu Âu trong đợt sang làm khách của Việt Nam lần này, có thể kể đến hậu vệ Merchas Doski (Slovacko), Rebin Sulaka (Brommapojkarna), Hussein Ali (Heerenveen); tiền vệ Osama Rashid (Vizela), Amir Amari (Halmstads), Youssef Amyn (Braunschweig), Danilo Al Saed (Sandefjord), Ahmad Allee (Rouen) và tiền đạo Pashang Abdulla (Degerfors IF), Ali Hamadi (Wimbledon).',\n",
       "  'Ở trận đấu trước, đội tuyển Iraq đã thắng dễ 5-1 trước đội tuyển Indonesia. Đội bóng này nguy hiểm cả ở tình huống bóng bổng lẫn bóng sệt, từ đánh trung lộ tới tấn công biên. Chắc chắn hàng phòng ngự của đội tuyển Việt Nam sẽ phải tập trung, tránh những sai sót không đáng có như ở trận đấu với đội tuyển Philippines.'],\n",
       " ['https://kenh14cdn.com/203336854389633024/2023/11/20/photo-1-17004558961771627647189.jpg'],\n",
       " 'HLV đội tuyển Iraq \"bắt bài\", chỉ ra điểm mạnh nhất của đội tuyển Việt Nam',\n",
       " '2023-11-20T11:57:00')"
      ]
     },
     "execution_count": 28,
     "metadata": {},
     "output_type": "execute_result"
    }
   ],
   "source": [
    "get_post('https://kenh14.vn/hlv-doi-tuyen-iraq-bat-bai-chi-ra-diem-manh-nhat-cua-doi-tuyen-viet-nam-20231120115453587.chn')\n"
   ]
  },
  {
   "cell_type": "code",
   "execution_count": 136,
   "id": "3e9444bf-ad1e-40db-a16b-88a5fbdbe9fa",
   "metadata": {},
   "outputs": [],
   "source": [
    "def main():\n",
    "    _kenh14 = {\n",
    "        \"home_page\":\"https://kenh14.vn/\",\n",
    "        \"urls\":{\n",
    "            \"sport\":\n",
    "            {\n",
    "             \"url\":\"https://kenh14.vn/sport.chn\",\n",
    "             \"sub-category\":{\n",
    "                0:{\n",
    "                    \"name\":\"Bóng đá\",\n",
    "                     \"url\":\"https://kenh14.vn/sport/bong-da.chn\",\n",
    "                     \"url_list\" : []},\n",
    "                1:{\"name\":\"Hậu trường\",\n",
    "                 \"url\":\"https://kenh14.vn/sport/hau-truong.chn\",\n",
    "                  \"url_list\" : []},\n",
    "                2:{\"name\":\"Esports\",\n",
    "                 \"url\":\"https://kenh14.vn/sport/esports.chn\",\n",
    "                  \"url_list\" : []}\n",
    "             }\n",
    "            }\n",
    "        }\n",
    "    }\n",
    "    driver = uc.Chrome(use_subprocess=False,version_main=119)#, user_data_dir = \"c:\\temp\\profile\")#, version_main=117)\n",
    "    _kenh14 = add_url_list(_kenh14)\n",
    "    print(_kenh14)\n",
    "    #add_post(_kenh14)\n",
    "    driver.quit()\n",
    "    #add_post()"
   ]
  },
  {
   "cell_type": "code",
   "execution_count": 129,
   "id": "cc68bf91-01b1-4020-8afe-bf948bbaa2a6",
   "metadata": {},
   "outputs": [
    {
     "data": {
      "text/plain": [
       "{'home_page': 'https://kenh14.vn/',\n",
       " 'urls': {'sport': {'url': 'https://kenh14.vn/sport.chn',\n",
       "   'sub-category': {0: {'name': 'Bóng đá',\n",
       "     'url': 'https://kenh14.vn/sport/bong-da.chn',\n",
       "     'url_list': [],\n",
       "     'content': {}},\n",
       "    1: {'name': 'Hậu trường',\n",
       "     'url': 'https://kenh14.vn/sport/hau-truong.chn',\n",
       "     'url_list': [],\n",
       "     'content': {}},\n",
       "    2: {'name': 'Esports',\n",
       "     'url': 'https://kenh14.vn/sport/esports.chn',\n",
       "     'url_list': [],\n",
       "     'content': {}}}}}}"
      ]
     },
     "execution_count": 129,
     "metadata": {},
     "output_type": "execute_result"
    }
   ],
   "source": [
    "_kenh14"
   ]
  },
  {
   "cell_type": "code",
   "execution_count": 24,
   "id": "1b5aa776-276f-4348-9d1b-b132ed769fe9",
   "metadata": {},
   "outputs": [],
   "source": [
    "%store -r _24h_com_vn"
   ]
  },
  {
   "cell_type": "code",
   "execution_count": 30,
   "id": "51a3f48b-1265-4893-b023-dabb9ef58cea",
   "metadata": {},
   "outputs": [
    {
     "data": {
      "text/plain": [
       "{'text_list': ['Microsoft gần đây đã đạt thỏa thuận mua Activision Blizzard với giá gần 69 tỷ USD, cho phép họ sở hữu một số thương hiệu game cực kỳ phổ biến như Diablo,\\xa0Overwatch và tất nhiên là Call of Duty.',\n",
       "  'Nhưng sự thật là vào năm 1990, có lẽ Microsoft đã vô tình tạo ra một trong những trò chơi nổi tiếng và được chơi nhiều nhất mọi thời đại: Microsoft Solitaire. Đó là một trò chơi vẫn tiếp tục cho đến ngày nay, mặc dù định dạng có thể hơi khác.',\n",
       "  'Microsoft Solitaire được tạo ra một một thực tập sinh của Microsoft vào năm 1988.',\n",
       "  'Microsoft Solitaire được tạo ra bởi Wes Cherry - một thực tập sinh tại công ty vào năm 1988. Theo Business Insider, Cherry đã viết một phiên bản của trò chơi bài Solitaire cho Windows 2.1 trong thời gian rảnh rỗi vì ông ấy thích một trò chơi tương tự được tạo ra cho Apple Macintosh. Cherry đưa trò chơi lên máy chủ của Microsoft và người quản lý chương trình của công ty đã nhìn thấy nó. Người này đã quyết định thêm nó vào bản phát hành Windows 3.0 vào năm 1990.',\n",
       "  'Trong cuộc trò chuyện với Great Big Story cách đây vài năm, Cherry cho biết lý do để bổ sung Microsoft Solitaire vào Windows 3.0 là để giúp mọi người học cách sử dụng chuột với hệ điều hành này, nhưng lý do thực sự là Microsoft chỉ muốn mang đến cho những người sử dụng Windows 3.0 một việc gì đó để làm. Cherry cũng nói rằng người đồng sáng lập Microsoft và sau đó là CEO Bill Gates đã chơi trò chơi này trước khi Windows 3.0 ra mắt, và phàn nàn duy nhất của ông là quá khó để giành chiến thắng.',\n",
       "  'Có thể quá khó để giành chiến thắng trong mắt Gates, nhưng việc phát hành Microsoft Solitaire như một phần của Windows 3.0 đã trở thành một thành công lớn. Nó đã giúp cuộc cách mạng PC ở cả nhà và nơi làm việc thực sự phát triển mạnh mẽ vào những năm 1990, từ đó có rất nhiều người sử dụng PC Windows và lén lút chơi một hoặc hai lượt trò chơi khi ở văn phòng.',\n",
       "  'Game trở thành một trong những chương trình sử dụng phổ biến nhất trong Windows.',\n",
       "  'Cherry thậm chí còn nghĩ ra một quả trứng Phục sinh cho những người đang chơi game tại nơi làm việc. Chỉ cần nhấn phím nhanh, trò chơi sẽ chuyển sang một bảng tính giả trong trường hợp sếp của họ bắt đầu đi ngang qua phòng làm việc. Thật không may, Cherry nói rằng Microsoft đã yêu cầu ông ta loại bỏ “tính năng” đó trước khi game xuất xưởng.',\n",
       "  'Cherry nói rằng Microsoft đã không trả cho ông bất kỳ khoản thanh toán nào để tạo ra một trong những trò chơi phổ biến nhất mọi thời đại, kể từ khi ông còn là thực tập sinh.\\xa0Ông nói đùa rằng nếu được trả 1 xu cho mỗi người chơi game này thì ông sẽ rất giàu có, và chỉ có 14 người thực sự gửi tiền cho ông. Sau đó Cherry trở thành nhân viên chính thức tại Microsoft nhưng nhiều năm sau đã phải rời đi. Hiện ông là chủ một vườn táo và sản xuất rượu táo ở bang Washington.',\n",
       "  'Theo cuốn sách The Friendly Orange Glow, có thời điểm Microsoft Solitaire nằm trong top 3 chương trình được sử dụng nhiều nhất trên Windows, theo dữ liệu đo từ xa của chính Microsoft. Trò chơi tiếp tục được đưa vào mọi bản phát hành Windows cho đến Windows 8, khi công ty phát hành Microsoft Solitaire Collection trong Windows Store. Nó kết hợp Solitaire với các trò chơi bài khác dưới dạng tải xuống miễn phí, nhưng có hỗ trợ quảng cáo.',\n",
       "  'Ngày nay,\\xa0Microsoft Solitaire được cung cấp trong gói\\xa0Microsoft Solitaire Collection.',\n",
       "  'Vào năm 2015, Microsoft đã ra mắt Windows 10 và Microsoft Solitaire Collection một lần nữa được đi kèm với nó, và điều đó tiếp tục xảy ra với Windows 11. Năm 2016, game đã xuất hiện trên các thiết bị Android và iOS. Đến năm 2019, Microsoft Solitaire nguyên bản đã được giới thiệu vào World Video Game Hall of Fame của The Strong.',\n",
       "  'Năm 2020, Microsoft kỷ niệm 30 năm giới thiệu Microsoft\\xa0Solitaire và nói thêm rằng phiên bản Collection vẫn có 35 triệu người chơi mỗi tháng.\\xa0Tuy nhiên, người dùng cho rằng sẽ rất tuyệt nếu họ chỉ cần có phiên bản gốc trên PC chạy Windows 11, và nó vẫn sẽ tạo ra một cú hít lớn.',\n",
       "  '\\n\\n            \\n                window.addEventListener(\"load\", function(){\\n                    let ids = [\"url_origin_cut\", \"url_origin_full\"];\\n                    origin_decode(ids, \"[Link nguồn]\");\\n                });\\n                setTimeout(function(){\\n                    let ids = [\"url_origin_cut\", \"url_origin_full\"];\\n                    origin_decode(ids, \"[Link nguồn]\");\\n                }, 1000);\\n            ',\n",
       "  'Nguồn: [Link nguồn]Nguồn: [Link nguồn]'],\n",
       " 'images_src': ['https://image-us.24h.com.vn/upload/4-2023/images/2023-10-15/2-1697362961-858-width740height417.jpg',\n",
       "  '',\n",
       "  'https://image-us.24h.com.vn/upload/4-2023/images/2023-10-15/3-1697363012-322-width740height417.jpg',\n",
       "  'https://image-us.24h.com.vn/upload/4-2023/images/2023-10-15/4-1697363048-195-width740height555.jpg'],\n",
       " 'title': 'Microsoft Solitaire: Tựa game phổ biến nhất mọi thời đại từ Microsoft',\n",
       " 'post_time': 'Thứ Hai, ngày 16/10/2023 10:00 AM (GMT+7)'}"
      ]
     },
     "execution_count": 30,
     "metadata": {},
     "output_type": "execute_result"
    }
   ],
   "source": [
    "_24h_com_vn['urls']['tech']['sub-category'][0][ 'content'][0]"
   ]
  },
  {
   "cell_type": "code",
   "execution_count": 44,
   "id": "e3a20e65-3c15-4602-9d49-f69283807230",
   "metadata": {},
   "outputs": [],
   "source": [
    "title = _24h_com_vn['urls']['tech']['sub-category'][0][ 'content'][0]['title']\n",
    "content = _24h_com_vn['urls']['tech']['sub-category'][0][ 'content'][0]['text_list'][0]\n",
    "published_date = '2023-11-21'\n",
    "id_cate = 30\n",
    "token = '5goalvodichcmnl'\n"
   ]
  },
  {
   "cell_type": "code",
   "execution_count": 45,
   "id": "42236426-6f70-461a-90a3-144ab3f9a4f6",
   "metadata": {},
   "outputs": [
    {
     "data": {
      "text/plain": [
       "'https://api2023.5goal.com/wp-json/custom/createPost?title=Microsoft Solitaire: Tựa game phổ biến nhất mọi thời đại từ Microsoft&content=Microsoft gần đây đã đạt thỏa thuận mua Activision Blizzard với giá gần 69 tỷ USD, cho phép họ sở hữu một số thương hiệu game cực kỳ phổ biến như Diablo,\\xa0Overwatch và tất nhiên là Call of Duty.&token=5goalvodichcmnl&published_date=2023-11-21&category_id=30'"
      ]
     },
     "execution_count": 45,
     "metadata": {},
     "output_type": "execute_result"
    }
   ],
   "source": [
    "url = 'https://www.24h.com.vn/cong-nghe-thong-tin/openai-buoc-phai-dua-ceo-chatgpt-tro-lai-sau-vu-sa-thai-day-bat-ngo-c55a1520399.html'\n",
    "\n",
    "# Sending the POST request\n"
   ]
  },
  {
   "cell_type": "code",
   "execution_count": 63,
   "id": "a211a422-856f-4dab-ae08-70503ffbe041",
   "metadata": {},
   "outputs": [
    {
     "name": "stderr",
     "output_type": "stream",
     "text": [
      "C:\\Users\\Shang\\AppData\\Local\\Temp\\ipykernel_16348\\3440902757.py:2: MarkupResemblesLocatorWarning: The input looks more like a filename than markup. You may want to open this file and pass the filehandle into Beautiful Soup.\n",
      "  soup = BeautifulSoup(response.content, 'html.parser')\n"
     ]
    }
   ],
   "source": [
    "response = requests.get(url)\n",
    "soup = BeautifulSoup(response.content, 'html.parser')"
   ]
  },
  {
   "cell_type": "code",
   "execution_count": 69,
   "id": "25dc3c89-c37a-4f8a-a3f2-6fd75361e1ad",
   "metadata": {},
   "outputs": [],
   "source": [
    "article = soup.find_all('div', class_ = 'cate-24h-foot-arti-deta-info')"
   ]
  },
  {
   "cell_type": "code",
   "execution_count": 70,
   "id": "96e1a181-d1f0-4a1b-8177-84205e4e0eb0",
   "metadata": {},
   "outputs": [
    {
     "ename": "AttributeError",
     "evalue": "ResultSet object has no attribute 'find_all'. You're probably treating a list of elements like a single element. Did you call find_all() when you meant to call find()?",
     "output_type": "error",
     "traceback": [
      "\u001b[1;31m---------------------------------------------------------------------------\u001b[0m",
      "\u001b[1;31mAttributeError\u001b[0m                            Traceback (most recent call last)",
      "Cell \u001b[1;32mIn[70], line 1\u001b[0m\n\u001b[1;32m----> 1\u001b[0m children \u001b[38;5;241m=\u001b[39m article\u001b[38;5;241m.\u001b[39mfind_all(recursive\u001b[38;5;241m=\u001b[39m\u001b[38;5;28;01mFalse\u001b[39;00m)\n\u001b[0;32m      2\u001b[0m \u001b[38;5;28;01mfor\u001b[39;00m child \u001b[38;5;129;01min\u001b[39;00m children:\n\u001b[0;32m      3\u001b[0m     \u001b[38;5;28mprint\u001b[39m(child)\n",
      "File \u001b[1;32m~\\anaconda3\\Lib\\site-packages\\bs4\\element.py:2428\u001b[0m, in \u001b[0;36mResultSet.__getattr__\u001b[1;34m(self, key)\u001b[0m\n\u001b[0;32m   2426\u001b[0m \u001b[38;5;28;01mdef\u001b[39;00m \u001b[38;5;21m__getattr__\u001b[39m(\u001b[38;5;28mself\u001b[39m, key):\n\u001b[0;32m   2427\u001b[0m \u001b[38;5;250m    \u001b[39m\u001b[38;5;124;03m\"\"\"Raise a helpful exception to explain a common code fix.\"\"\"\u001b[39;00m\n\u001b[1;32m-> 2428\u001b[0m     \u001b[38;5;28;01mraise\u001b[39;00m \u001b[38;5;167;01mAttributeError\u001b[39;00m(\n\u001b[0;32m   2429\u001b[0m         \u001b[38;5;124m\"\u001b[39m\u001b[38;5;124mResultSet object has no attribute \u001b[39m\u001b[38;5;124m'\u001b[39m\u001b[38;5;132;01m%s\u001b[39;00m\u001b[38;5;124m'\u001b[39m\u001b[38;5;124m. You\u001b[39m\u001b[38;5;124m'\u001b[39m\u001b[38;5;124mre probably treating a list of elements like a single element. Did you call find_all() when you meant to call find()?\u001b[39m\u001b[38;5;124m\"\u001b[39m \u001b[38;5;241m%\u001b[39m key\n\u001b[0;32m   2430\u001b[0m     )\n",
      "\u001b[1;31mAttributeError\u001b[0m: ResultSet object has no attribute 'find_all'. You're probably treating a list of elements like a single element. Did you call find_all() when you meant to call find()?"
     ]
    }
   ],
   "source": [
    "children = article.find_all(recursive=False)\n",
    "for child in children:\n",
    "    if child.name == 'img':\n",
    "        child."
   ]
  },
  {
   "cell_type": "code",
   "execution_count": null,
   "id": "e551f90a-93a9-4e81-85a8-61a0a767587e",
   "metadata": {},
   "outputs": [],
   "source": []
  }
 ],
 "metadata": {
  "kernelspec": {
   "display_name": "Python 3 (ipykernel)",
   "language": "python",
   "name": "python3"
  },
  "language_info": {
   "codemirror_mode": {
    "name": "ipython",
    "version": 3
   },
   "file_extension": ".py",
   "mimetype": "text/x-python",
   "name": "python",
   "nbconvert_exporter": "python",
   "pygments_lexer": "ipython3",
   "version": "3.11.5"
  }
 },
 "nbformat": 4,
 "nbformat_minor": 5
}
