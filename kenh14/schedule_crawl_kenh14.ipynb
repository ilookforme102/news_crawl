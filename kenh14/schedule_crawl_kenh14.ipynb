{
 "cells": [
  {
   "cell_type": "code",
   "execution_count": 3,
   "id": "6e068fc3-cb05-4371-9c56-72880ff22dd0",
   "metadata": {},
   "outputs": [],
   "source": [
    "import requests \n",
    "import time\n",
    "import undetected_chromedriver as uc\n",
    "from selenium.webdriver.common.by import By\n",
    "import re\n",
    "from datetime import datetime\n",
    "from bs4 import BeautifulSoup\n"
   ]
  },
  {
   "cell_type": "code",
   "execution_count": 4,
   "id": "a2771d8f-7dfc-4ec8-8dd8-084e493fb4d9",
   "metadata": {},
   "outputs": [],
   "source": [
    "_kenh14 = {\n",
    "        \"home_page\":\"https://kenh14.vn/\",\n",
    "        \"urls\":{\n",
    "            \"sport\":\n",
    "            {\n",
    "             \"url\":\"https://kenh14.vn/sport.chn\",\n",
    "             \"sub-category\":{\n",
    "                0:{\n",
    "                    \"name\":\"Bóng đá\",\n",
    "                     \"url\":\"https://kenh14.vn/sport/bong-da.chn\",\n",
    "                     \"url_list\" : []},\n",
    "                1:{\"name\":\"Hậu trường\",\n",
    "                 \"url\":\"https://kenh14.vn/sport/hau-truong.chn\",\n",
    "                  \"url_list\" : []},\n",
    "                2:{\"name\":\"Esports\",\n",
    "                 \"url\":\"https://kenh14.vn/sport/esports.chn\",\n",
    "                  \"url_list\" : []}\n",
    "             }\n",
    "            }\n",
    "        }\n",
    "    }"
   ]
  },
  {
   "cell_type": "code",
   "execution_count": 3,
   "id": "16babb97-5dc3-4f3d-bfe6-2dc91a9e6296",
   "metadata": {},
   "outputs": [],
   "source": [
    "#list(_kenh14['urls']['sport']['sub-category'].keys())"
   ]
  },
  {
   "cell_type": "code",
   "execution_count": 9,
   "id": "bdb7a261-ab34-4276-abb7-2b305975bec2",
   "metadata": {},
   "outputs": [],
   "source": [
    "driver = uc.Chrome(headless = True, use_subprocess=False,version_main=119)#, user_data_dir = \"c:\\temp\\profile\")#, version_main=117)\n",
    "\n",
    "#title = soup.find('title').get_text()\n",
    "#print(\"Title of the webpage:\", title)\n",
    "#lastPage > div.view-more-detail.clearboth\n",
    "#lastPage > div.view-more-detail.clearboth > a"
   ]
  },
  {
   "cell_type": "code",
   "execution_count": 5,
   "id": "f238eb39-7d36-4372-8751-6509865ca448",
   "metadata": {},
   "outputs": [],
   "source": [
    "def is_element_exist(driver):\n",
    "    try:\n",
    "        driver.find_element(By.CLASS_NAME, 'view-more-detail.clearboth').find_element(By.TAG_NAME,'a')\n",
    "        return True\n",
    "    except NoSuchElementException:\n",
    "        return False"
   ]
  },
  {
   "cell_type": "code",
   "execution_count": 11,
   "id": "966840dd-2a85-4c1f-b4c3-a6163ef8d852",
   "metadata": {},
   "outputs": [],
   "source": [
    "def is_element_display():\n",
    "    return driver.find_element(By.CLASS_NAME, 'view-more-detail.clearboth').find_element(By.TAG_NAME,'a').is_displayed()\n",
    "        "
   ]
  },
  {
   "cell_type": "code",
   "execution_count": 12,
   "id": "86742f80-5f6e-453b-844b-edac0fa9bdef",
   "metadata": {},
   "outputs": [],
   "source": [
    "#see_more_btn = dxriver.find_element(By.CLASS_NAME, 'view-more-detail.clearboth').find_element(By.TAG_NAME,'a')\n",
    "#is_element_exist(driver)"
   ]
  },
  {
   "cell_type": "code",
   "execution_count": 13,
   "id": "9ed56754-eef1-4d95-84dc-55fce163c1db",
   "metadata": {},
   "outputs": [],
   "source": [
    "#driver.find_element(By.CLASS_NAME, 'view-more-detail.clearboth').find_element(By.TAG_NAME,'a').is_displayed()"
   ]
  },
  {
   "cell_type": "code",
   "execution_count": 14,
   "id": "d64b22fa-2e0d-4563-a92d-8fd6ae6de227",
   "metadata": {},
   "outputs": [],
   "source": [
    "\n",
    "def smooth_scroll_to_bottom(delay):\n",
    "    last_height = driver.execute_script(\"return document.body.scrollHeight\")\n",
    "\n",
    "    while True:\n",
    "        # Scroll down to the bottom.\n",
    "        driver.execute_script(\"window.scrollTo(0, document.body.scrollHeight);\")\n",
    "\n",
    "        # Wait for the page to load.\n",
    "        time.sleep(delay)\n",
    "\n",
    "        # Calculate new scroll height and compare with last scroll height.\n",
    "        new_height = driver.execute_script(\"return document.body.scrollHeight\")\n",
    "        if new_height == last_height:\n",
    "            break\n",
    "        last_height = new_height"
   ]
  },
  {
   "cell_type": "code",
   "execution_count": 7,
   "id": "67b1e3ed-8715-4fef-bac6-5e41b450375a",
   "metadata": {},
   "outputs": [
    {
     "data": {
      "text/plain": [
       "datetime.datetime(2023, 11, 20, 17, 15, 51, 639869)"
      ]
     },
     "execution_count": 7,
     "metadata": {},
     "output_type": "execute_result"
    }
   ],
   "source": [
    "crawl_time = datetime.fromtimestamp(time.time())\n",
    "crawl_time"
   ]
  },
  {
   "cell_type": "code",
   "execution_count": 8,
   "id": "17b92edd-b9f9-4862-a7a9-261e87cf6eea",
   "metadata": {},
   "outputs": [],
   "source": [
    "def readmore_click():\n",
    "    while is_element_display()==False:\n",
    "        crawl_time =  datetime.fromtimestamp(time.time())\n",
    "        smooth_scroll_to_bottom(delay=4)\n",
    "        warapper = driver.find_element(By.CLASS_NAME,'kbwcb-left-wrapper')\n",
    "        last_post_date_string = warapper.find_elements(By.CLASS_NAME,'knswli-time')[-1].get_attribute('title')\n",
    "        datetime_obj = datetime.fromisoformat(last_post_date_string)\n",
    "        if is_element_display():\n",
    "            if datetime_obj >= crawl_time:\n",
    "                driver.find_element(By.CLASS_NAME, 'view-more-detail.clearboth').find_element(By.TAG_NAME,'a').click()\n",
    "            else:\n",
    "                break\n",
    "     "
   ]
  },
  {
   "cell_type": "code",
   "execution_count": 129,
   "id": "fd567840-c9a9-417f-970e-b03908e9dd08",
   "metadata": {},
   "outputs": [],
   "source": [
    "driver = uc.Chrome(use_subprocess=False,version_main=119)\n",
    "def get_url_list(category_url):\n",
    "    driver.get(category_url)\n",
    "    url_list = []\n",
    "    readmore_click()\n",
    "    warapper  = driver.find_element(By.CLASS_NAME,'kbwcb-left-wrapper')\n",
    "    list_elements = warapper.find_elements(By.CLASS_NAME,'knswli.need-get-value-facebook.clearfix.done-get-type.done-get-sticker')\n",
    "    for i in range(0,len(warapper.find_elements(By.CLASS_NAME,'knswli-time'))):\n",
    "        if datetime.fromisoformat(driver.find_elements(By.CLASS_NAME,'knswli-time')[i].get_attribute('title')) >= datetime(2023, 9, 1, 0, 0, 0):\n",
    "            src = list_elements[i].find_element(By.TAG_NAME,'h3').find_element(By.TAG_NAME,'a').get_attribute('href')\n",
    "            url = src \n",
    "            print(url)\n",
    "            url_list.append(url)\n",
    "    return url_list"
   ]
  },
  {
   "cell_type": "code",
   "execution_count": 9,
   "id": "1e716da6-af35-43eb-a188-50ab1c1c68e7",
   "metadata": {},
   "outputs": [
    {
     "ename": "NameError",
     "evalue": "name 'driver' is not defined",
     "output_type": "error",
     "traceback": [
      "\u001b[1;31m---------------------------------------------------------------------------\u001b[0m",
      "\u001b[1;31mNameError\u001b[0m                                 Traceback (most recent call last)",
      "Cell \u001b[1;32mIn[9], line 1\u001b[0m\n\u001b[1;32m----> 1\u001b[0m warapper  \u001b[38;5;241m=\u001b[39m driver\u001b[38;5;241m.\u001b[39mfind_element(By\u001b[38;5;241m.\u001b[39mCLASS_NAME,\u001b[38;5;124m'\u001b[39m\u001b[38;5;124mkbwcb-left-wrapper\u001b[39m\u001b[38;5;124m'\u001b[39m)\n\u001b[0;32m      2\u001b[0m list_elements \u001b[38;5;241m=\u001b[39m warapper\u001b[38;5;241m.\u001b[39mfind_elements(By\u001b[38;5;241m.\u001b[39mCLASS_NAME,\u001b[38;5;124m'\u001b[39m\u001b[38;5;124mknswli.need-get-value-facebook.clearfix.done-get-type.done-get-sticker\u001b[39m\u001b[38;5;124m'\u001b[39m)\n",
      "\u001b[1;31mNameError\u001b[0m: name 'driver' is not defined"
     ]
    }
   ],
   "source": [
    "driver = uc.Chrome(use_subprocess=False,version_main=119)\n",
    "driver.get('https://kenh14.vn/sport/bong-da.chn')\n",
    "warapper  = driver.find_element(By.CLASS_NAME,'kbwcb-left-wrapper')\n",
    "list_elements = warapper.find_elements(By.CLASS_NAME,'knswli.need-get-value-facebook.clearfix.done-get-type.done-get-sticker')"
   ]
  },
  {
   "cell_type": "code",
   "execution_count": 28,
   "id": "8307dbdd-cfa8-4d0a-afc8-a42f9fa0c8c0",
   "metadata": {},
   "outputs": [],
   "source": [
    "def add_url_list(_kenh14):\n",
    "    for i in list(_kenh14['urls'].keys()):\n",
    "        for j in _kenh14['urls'][i]:\n",
    "            for v in list(_kenh14['urls'][i]['sub-category'].keys()):\n",
    "                cat_url =  _kenh14['urls'][i]['sub-category'][v]['url']\n",
    "                _kenh14['urls'][i]['sub-category'][v]['url_list'] = get_url_list(cat_url)\n",
    "        "
   ]
  },
  {
   "cell_type": "code",
   "execution_count": 114,
   "id": "2d70e5bb-c67e-44ec-865c-7847ec3b52cf",
   "metadata": {},
   "outputs": [],
   "source": [
    "def add_post():\n",
    "    for i in list(_kenh14['urls'].keys()):\n",
    "        for j in _kenh14['urls'][i]:\n",
    "            for v in list(_kenh14['urls'][i]['sub-category'].keys()):\n",
    "                n_post = len(_kenh14['urls'][i]['sub-category'][v]['url_list'])\n",
    "                _kenh14['urls'][i]['sub-category'][v]['content'] = {}\n",
    "                for item in range(0,n_post):\n",
    "                    post_url = _kenh14['urls'][i]['sub-category'][v]['url_list'][item]\n",
    "                    _kenh14['urls'][i]['sub-category'][v]['content'][item]['text_list'],_kenh14['urls'][i]['sub-category'][v]['content'][item]['images_src'],_kenh14['urls'][i]['sub-category'][v]['content'][item]['title'],_kenh14['urls'][i]['sub-category'][v]['content'][item]['post_time'] = getpost(post_url)"
   ]
  },
  {
   "cell_type": "code",
   "execution_count": null,
   "id": "164076ad-f172-4765-bc8f-d9e52e33bb6a",
   "metadata": {},
   "outputs": [],
   "source": [
    "_kenh14['urls'][i]['sub-category'][v]['url_list']"
   ]
  },
  {
   "cell_type": "code",
   "execution_count": 119,
   "id": "4d9b509f-5281-4477-8b62-330954b2c2ac",
   "metadata": {},
   "outputs": [],
   "source": [
    "def get_post(url):\n",
    "    try:\n",
    "        response = requests.get(url)\n",
    "        time.sleep(3)\n",
    "        soup = BeautifulSoup(response.content, 'html5lib')\n",
    "        parent_div = soup.find('div', id = 'k14-detail-content').find('div',class_ ='knc-content')\n",
    "        post_time = soup.find('span', class_ ='kbwcm-time')['title']\n",
    "        title = soup.find('h1').text.strip()\n",
    "        h2 = soup.find('h2').text.strip()\n",
    "        #images_src = [i.attrs['src'] for i in soup.find('article', class_= 'cate-24h-foot-arti-deta-info').find_all('img')[:-1] if 'svg' not in i.attrs['src']]\n",
    "        images_src = [img['data-original'] for img in parent_div.find_all('img')]\n",
    "        text_list = [ child.text.strip() for child in parent_div if child.text.strip() != \"\"]\n",
    "        text_list = [h2] + text_list\n",
    "        print(url)\n",
    "        return text_list, images_src,title,post_time\n",
    "    except AttributeError as e:\n",
    "        print(e)\n",
    "        text_list = ''\n",
    "        images_src = ''\n",
    "        title= ''\n",
    "        post_time =''\n",
    "        return text_list, images_src,title,post_time"
   ]
  },
  {
   "cell_type": "code",
   "execution_count": 120,
   "id": "516d7be3-e430-4fb2-979e-beede5046aa2",
   "metadata": {},
   "outputs": [
    {
     "name": "stdout",
     "output_type": "stream",
     "text": [
      "https://kenh14.vn/hlv-doi-tuyen-iraq-bat-bai-chi-ra-diem-manh-nhat-cua-doi-tuyen-viet-nam-20231120115453587.chn\n"
     ]
    },
    {
     "data": {
      "text/plain": [
       "(['HLV Jesus Casas đã nghiên cứu lối chơi của đội tuyển Việt Nam trước trận đấu diễn ra ngày 21/11.',\n",
       "  'Đội tuyển Iraq sẽ làm khách đội tuyển Việt Nam trên sân Mỹ Đình lúc 19h00 ngày 21/11. Trước thềm trận đấu này cả đội khách và đội tuyển Việt Nam đều đã có chiến thắng mở màn. Cũng vì vậy màn so tài giữa hai đội tuyển sẽ càng hấp dẫn hơn. Đánh giá về chủ nhà Việt Nam, HLV tuyển Iraq - Jesus Casas cho biết:',\n",
       "  '\"Tôi nghĩ trận đấu ngày mai khá thú vị. Chúng tôi dù đã thắng trận đấu trước đó nhưng trận đấu ngày mai rất quan trọng và đối thủ cũng là một đối thủ khó với những cầu thủ tốt.\"',\n",
       "  'Bên cạnh đó, HLV Casas cũng cho biết ông và các cầu thủ của mình đã nghiên cứu rất kĩ lối chơi của tuyển Việt Nam:',\n",
       "  '\"Tôi có rất nhiều nghiên cứu về tuyển Việt Nam, họ có lối chơi rất tốt phía biên, các bạn chạy cánh rất nhanh và đó là điểm mạnh nhất Việt Nam. Bên cạnh đó, Việt Nam có thế mạnh nữa là chơi trên sân nhà có khán giả cổ vũ trên khán đài và đây là nguồn động lực lớn nhất cho các cầu thủ\".',\n",
       "  'HLV ĐT Iraq tham dự họp báo trước trận đấu (Ảnh: BB)',\n",
       "  'HLV tuyển Iraq là Jesus Casas đang sở hữu trong tay đội hình mạnh. Dù cựu \"thần đồng\" Man United là tiền vệ Zidane Iqbal vắng mặt vì chấn thương nhưng đội tuyển Iraq vẫn có tới 10 cầu thủ đang chơi bóng ở châu Âu trong đợt sang làm khách của Việt Nam lần này, có thể kể đến hậu vệ Merchas Doski (Slovacko), Rebin Sulaka (Brommapojkarna), Hussein Ali (Heerenveen); tiền vệ Osama Rashid (Vizela), Amir Amari (Halmstads), Youssef Amyn (Braunschweig), Danilo Al Saed (Sandefjord), Ahmad Allee (Rouen) và tiền đạo Pashang Abdulla (Degerfors IF), Ali Hamadi (Wimbledon).',\n",
       "  'Ở trận đấu trước, đội tuyển Iraq đã thắng dễ 5-1 trước đội tuyển Indonesia. Đội bóng này nguy hiểm cả ở tình huống bóng bổng lẫn bóng sệt, từ đánh trung lộ tới tấn công biên. Chắc chắn hàng phòng ngự của đội tuyển Việt Nam sẽ phải tập trung, tránh những sai sót không đáng có như ở trận đấu với đội tuyển Philippines.'],\n",
       " ['https://kenh14cdn.com/203336854389633024/2023/11/20/photo-1-17004558961771627647189.jpg'],\n",
       " 'HLV đội tuyển Iraq \"bắt bài\", chỉ ra điểm mạnh nhất của đội tuyển Việt Nam',\n",
       " '2023-11-20T11:57:00')"
      ]
     },
     "execution_count": 120,
     "metadata": {},
     "output_type": "execute_result"
    }
   ],
   "source": [
    "get_post('https://kenh14.vn/hlv-doi-tuyen-iraq-bat-bai-chi-ra-diem-manh-nhat-cua-doi-tuyen-viet-nam-20231120115453587.chn')\n"
   ]
  },
  {
   "cell_type": "code",
   "execution_count": 46,
   "id": "c65711ab-54ad-47ac-842c-0c24d71bc000",
   "metadata": {},
   "outputs": [
    {
     "name": "stdout",
     "output_type": "stream",
     "text": [
      "Đội tuyển Iraq sẽ làm khách đội tuyển Việt Nam trên sân Mỹ Đình lúc 19h00 ngày 21/11. Trước thềm trận đấu này cả đội khách và đội tuyển Việt Nam đều đã có chiến thắng mở màn. Cũng vì vậy màn so tài giữa hai đội tuyển sẽ càng hấp dẫn hơn. Đánh giá về chủ nhà Việt Nam, HLV tuyển Iraq - Jesus Casas cho biết:\n",
      "\"Tôi nghĩ trận đấu ngày mai khá thú vị. Chúng tôi dù đã thắng trận đấu trước đó nhưng trận đấu ngày mai rất quan trọng và đối thủ cũng là một đối thủ khó với những cầu thủ tốt.\"\n",
      "Bên cạnh đó, HLV Casas cũng cho biết ông và các cầu thủ của mình đã nghiên cứu rất kĩ lối chơi của tuyển Việt Nam:\n",
      "\"Tôi có rất nhiều nghiên cứu về tuyển Việt Nam, họ có lối chơi rất tốt phía biên, các bạn chạy cánh rất nhanh và đó là điểm mạnh nhất Việt Nam. Bên cạnh đó, Việt Nam có thế mạnh nữa là chơi trên sân nhà có khán giả cổ vũ trên khán đài và đây là nguồn động lực lớn nhất cho các cầu thủ\".\n",
      "HLV ĐT Iraq tham dự họp báo trước trận đấu (Ảnh: BB)\n",
      "HLV tuyển Iraq là Jesus Casas đang sở hữu trong tay đội hình mạnh. Dù cựu \"thần đồng\" Man United là tiền vệ Zidane Iqbal vắng mặt vì chấn thương nhưng đội tuyển Iraq vẫn có tới 10 cầu thủ đang chơi bóng ở châu Âu trong đợt sang làm khách của Việt Nam lần này, có thể kể đến hậu vệ Merchas Doski (Slovacko), Rebin Sulaka (Brommapojkarna), Hussein Ali (Heerenveen); tiền vệ Osama Rashid (Vizela), Amir Amari (Halmstads), Youssef Amyn (Braunschweig), Danilo Al Saed (Sandefjord), Ahmad Allee (Rouen) và tiền đạo Pashang Abdulla (Degerfors IF), Ali Hamadi (Wimbledon).\n",
      "Ở trận đấu trước, đội tuyển Iraq đã thắng dễ 5-1 trước đội tuyển Indonesia. Đội bóng này nguy hiểm cả ở tình huống bóng bổng lẫn bóng sệt, từ đánh trung lộ tới tấn công biên. Chắc chắn hàng phòng ngự của đội tuyển Việt Nam sẽ phải tập trung, tránh những sai sót không đáng có như ở trận đấu với đội tuyển Philippines.\n"
     ]
    }
   ],
   "source": [
    "for i in soup.find('div', id = 'k14-detail-content').find('div',class_ ='klw-new-content').find_all('p'):\n",
    "    print(i.text)"
   ]
  },
  {
   "cell_type": "code",
   "execution_count": 125,
   "id": "3e9444bf-ad1e-40db-a16b-88a5fbdbe9fa",
   "metadata": {},
   "outputs": [],
   "source": [
    "def main():\n",
    "    driver = uc.Chrome(headless = True, use_subprocess=False,version_main=119)#, user_data_dir = \"c:\\temp\\profile\")#, version_main=117)\n",
    "    _kenh14 = {\n",
    "        \"home_page\":\"https://kenh14.vn/\",\n",
    "        \"urls\":{\n",
    "            \"sport\":\n",
    "            {\n",
    "             \"url\":\"https://kenh14.vn/sport.chn\",\n",
    "             \"sub-category\":{\n",
    "                0:{\n",
    "                    \"name\":\"Bóng đá\",\n",
    "                     \"url\":\"https://kenh14.vn/sport/bong-da.chn\",\n",
    "                     \"url_list\" : []},\n",
    "                1:{\"name\":\"Hậu trường\",\n",
    "                 \"url\":\"https://kenh14.vn/sport/hau-truong.chn\",\n",
    "                  \"url_list\" : []},\n",
    "                2:{\"name\":\"Esports\",\n",
    "                 \"url\":\"https://kenh14.vn/sport/esports.chn\",\n",
    "                  \"url_list\" : []}\n",
    "             }\n",
    "            }\n",
    "        }\n",
    "    }\n",
    "    add_url_list(_kenh14)\n",
    "    driver.quit()\n",
    "    #add_post(_kenh14)\n",
    "    #add_post()\n",
    "    return _kenh14"
   ]
  },
  {
   "cell_type": "code",
   "execution_count": null,
   "id": "b38a3385-48de-4cb4-8959-b33e9af547a2",
   "metadata": {},
   "outputs": [],
   "source": []
  }
 ],
 "metadata": {
  "kernelspec": {
   "display_name": "Python 3 (ipykernel)",
   "language": "python",
   "name": "python3"
  },
  "language_info": {
   "codemirror_mode": {
    "name": "ipython",
    "version": 3
   },
   "file_extension": ".py",
   "mimetype": "text/x-python",
   "name": "python",
   "nbconvert_exporter": "python",
   "pygments_lexer": "ipython3",
   "version": "3.11.5"
  }
 },
 "nbformat": 4,
 "nbformat_minor": 5
}
