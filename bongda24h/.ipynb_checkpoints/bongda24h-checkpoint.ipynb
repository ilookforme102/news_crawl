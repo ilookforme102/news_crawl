{
 "cells": [
  {
   "cell_type": "code",
   "execution_count": 11,
   "id": "5720ed01-9116-4c63-b7cc-31dd1a9dfae8",
   "metadata": {},
   "outputs": [],
   "source": [
    "import requests \n",
    "import time\n",
    "import re\n",
    "from datetime import datetime\n",
    "from bs4 import BeautifulSoup,NavigableString, Comment\n",
    "def convert_string(input_str):\n",
    "    # Regular expression pattern to match a date in the format dd-mm-yyyy\n",
    "    pattern = r'\\b\\d{2}/\\d{2}/\\d{4}\\b'\n",
    "    \n",
    "    # Search for the pattern in the string\n",
    "    match = re.search(pattern, input_str)\n",
    "    if match:\n",
    "    # Extract and print the date if found\n",
    "        date_str = match.group(0)\n",
    "        date_obj = datetime.strptime(date_str, '%d/%m/%Y')\n",
    "        date =  date_obj.strftime('%Y-%m-%d')\n",
    "\n",
    "        return date\n",
    "    else:\n",
    "        'No date found'    \n",
    "#convert time string to datetime object\n",
    "def convert_time_string(posted_date):\n",
    "    # Regular expression pattern to match a date in the format dd-mm-yyyy\n",
    "    pattern = r'\\b\\d{2}/\\d{2}/\\d{4}\\b'\n",
    "\n",
    "    # Search for the pattern in the string and extract the date\n",
    "    match = re.search(pattern, posted_date)\n",
    "    if match:\n",
    "        date_str = match.group(0)\n",
    "        # Convert the extracted date string to datetime object\n",
    "        date_obj = datetime.strptime(date_str, '%d/%m/%Y')\n",
    "        return date_obj\n",
    "    else:\n",
    "        return None \n",
    "# bongda24h has 2 type of time display, depends on type so we use the correct format for time converting\n",
    "def get_time_string(date_str):\n",
    "    if len(date_str)<=5:\n",
    "        crawl_time = datetime.fromtimestamp(time.time())\n",
    "        year = str(crawl_time.year)\n",
    "        date_str = date_str+\"/\"+year\n",
    "        date_obj = datetime.strptime(date_str, '%d/%m/%Y')\n",
    "        date =  date_obj.strftime('%Y-%m-%d')\n",
    "    else:\n",
    "        date = convert_string(date_str)\n",
    "        date_obj = datetime.strptime(date,'%Y-%m-%d')\n",
    "    return date_obj, date\n",
    "\n",
    "def get_content_bongda24h(url):\n",
    "    response = requests.get(url)\n",
    "    time.sleep(4)\n",
    "    soup = BeautifulSoup(response.content, 'html.parser')\n",
    "    article = soup.find('div', id = '6il5mu2rgs')\n",
    "    source_tag = soup.new_tag('i') \n",
    "    source_tag.string = \"Nguồn: bongda24h.vn\"  # Set the content of <i> tag\n",
    "    article.append(source_tag)\n",
    "    title = soup.find('h1').next_sibling.text.strip()\n",
    "    date_str = soup.find('h1').next_sibling.text.strip()\n",
    "    published_date = get_time_string(date_str)[1]\n",
    "    try:\n",
    "        article.find('div', class_ = \"ads-center ads\").decompose()\n",
    "    except AttributeError as e :\n",
    "        print(e)\n",
    "    tables = article.find_all('table')\n",
    "    for table in tables:\n",
    "        try:\n",
    "            picture = table.find('picture')\n",
    "            img = table.find('img')\n",
    "            source = table.find_all('source')\n",
    "            src =  source[0]['data-srcset']\n",
    "            img['src'] = src\n",
    "            caption_wrapper = table.find_all('tr')[1]\n",
    "            caption = caption_wrapper.text.strip()\n",
    "            caption_start = NavigableString(\"[caption id=\\\"\\\" align=\\\"aligncenter\\\" width=\\\"800\\\"]\")\n",
    "            caption_text = NavigableString(caption)\n",
    "            caption_end = NavigableString(\"[/caption]\")\n",
    "            img.insert_before(caption_start)\n",
    "            img.insert_after(caption_end)\n",
    "            img.insert_after(caption_text) \n",
    "            caption_wrapper.decompose()\n",
    "            for i in source:\n",
    "                i.decompose()      \n",
    "        except AttributeError as e:\n",
    "            continue\n",
    "        except NameError as e:\n",
    "            continue\n",
    "        except TypeError as e:\n",
    "            continue\n",
    "        #Error handling just just incase no caption\n",
    "        except IndexError as e:\n",
    "            print(e)\n",
    "        for i in article.find_all(recursive = True):\n",
    "            try:\n",
    "                del i['onclick']\n",
    "                del i['id']\n",
    "                del i['class']\n",
    "                del i['style']\n",
    "            except AttributeError:\n",
    "                continue\n",
    "            except TypeError:\n",
    "                continue\n",
    "        for table in tables:\n",
    "            img = table.find('img')\n",
    "            img['class'] = \"aligncenter\"\n",
    "            img['width'] = 800\n",
    "            img['height'] = 400\n",
    "        for video in article.find_all(['video','iframe']):\n",
    "                video.decompose()\n",
    "        #Extrat embedded link from text\n",
    "        tags_to_remove = article.find_all(['a'])\n",
    "        for tag in tags_to_remove:\n",
    "             # Extract the text from the tag\n",
    "            tag_text = tag.get_text()\n",
    "            # Replace the tag with its text content\n",
    "            tag.replace_with(tag_text)\n",
    "            tag.text.strip()\n",
    "        for script_or_style in article(['script', 'style']):\n",
    "            script_or_style.decompose()\n",
    "    return article, title, published_date\n",
    "def get_post(url):\n",
    "    try:\n",
    "        content,title,published_date = get_content_bongda24h(url)\n",
    "        return content,title,published_date\n",
    "    except AttributeError as e:\n",
    "        print(e)\n",
    "def get_list_url(cate_url):\n",
    "    response = requests.get(cate_url)\n",
    "    soup = BeautifulSoup(response.content, 'html.parser')\n",
    "    featured_posts = soup.find('div', class_ = 'post-featured')\n",
    "    urls = []\n",
    "    for i in featured_posts:\n",
    "        path = i.find('h2').find('a')['href']\n",
    "        url = 'https://bongda24h.vn' + path\n",
    "        urls.append(url)\n",
    "    section_content = soup.find_all('div', class_= 'section-content')\n",
    "    for section in section_content:\n",
    "        elements = section.find_all('article', class_ = 'post-list')\n",
    "        for element in elements:\n",
    "            path = element.find('p').find('a')['href']\n",
    "            url = 'https://bongda24h.vn' + path\n",
    "            urls.append(url)\n",
    "    return urls\n",
    "def filter_list(urls):\n",
    "    filtered_urls = []\n",
    "    crawl_time = datetime.fromtimestamp(time.time()-3*24*3600)\n",
    "    for i in urls:\n",
    "        response = requests.get(i)\n",
    "        time.sleep(5)\n",
    "        soup = BeautifulSoup(response.content, 'html.parser')\n",
    "        try:\n",
    "            #wrapper = soup.find('div', class_ = \"col780 left clearafter\")\n",
    "            #date_posted = wrapper.find('p',class_ ='news-time left').text.strip()\n",
    "            #date_posted_norm = convert_time_string(date_posted)\n",
    "            date_str = soup.find('h1').next_sibling.text.strip()\n",
    "            #print(date_str)\n",
    "            date_posted_norm = get_time_string(date_str)[0]\n",
    "            if ( (date_posted_norm.day == crawl_time.day) and (date_posted_norm.month == crawl_time.month) and (date_posted_norm.year == crawl_time.year) ):\n",
    "                filtered_urls.append(i)\n",
    "                #print(i)\n",
    "        except AttributeError as e:\n",
    "            print(e)\n",
    "            continue\n",
    "    return filtered_urls\n",
    "#add list url to json\n",
    "#add list url to json\n",
    "def add_list(web_json_obj):\n",
    "    for i in list(web_json_obj['urls'].keys()):\n",
    "        for j in list(web_json_obj['urls'][i]['sub-category'].keys()):  \n",
    "            urls = get_list_url(web_json_obj['urls'][i]['sub-category'][j]['url'])\n",
    "            print(i,j,web_json_obj['urls'][i]['sub-category'][j]['url'])\n",
    "            web_json_obj['urls'][i]['sub-category'][j]['url_list'] = filter_list(urls)\n",
    "# add post content from get content function to json object\n",
    "def add_post(web_json_obj):\n",
    "    for i in list(web_json_obj['urls'].keys()):\n",
    "        for j in list(web_json_obj['urls'][i]['sub-category'].keys()):\n",
    "            web_json_obj['urls'][i]['sub-category'][j]['content'] = {}\n",
    "            list_key = [v for v in range(0,len(web_json_obj['urls'][i]['sub-category'][j]['url_list']))]\n",
    "            for u in list_key:\n",
    "                web_json_obj['urls'][i]['sub-category'][j]['content'][u] = {}\n",
    "                if u != \"\":\n",
    "                    web_json_obj['urls'][i]['sub-category'][j]['content'][u]['text'] ,web_json_obj['urls'][i]['sub-category'][j]['content'][u]['title'],web_json_obj['urls'][i]['sub-category'][j]['content'][u]['published_date'] = get_post(web_json_obj['urls'][i]['sub-category'][j]['url_list'][u])\n",
    "                    print(i,j,web_json_obj['urls'][i]['sub-category'][j]['cate_id'],web_json_obj['urls'][i]['sub-category'][j]['name'],web_json_obj['urls'][i]['sub-category'][j]['name'],web_json_obj['urls'][i]['sub-category'][j]['content'][u]['title'],web_json_obj['urls'][i]['sub-category'][j]['url_list'][u])\n",
    "#add all necessary information to json object\n",
    "def get_news_bongda24h():\n",
    "    _bongda24h = {\n",
    "            \"home_page\":\"https://bongda24h.vn/\",\n",
    "            \"urls\":{\n",
    "                \"hautruong\":\n",
    "                {\n",
    "                 \"url\":\"https://bongda24h.vn/hau-truong-c188-p1.html#\",\n",
    "                 \"sub-category\":{  \n",
    "                    0:{\"name\":\"Hậu trường\",\n",
    "                     \"url\":\"https://bongda24h.vn/hau-truong-c188-p1.html\",\n",
    "                     \"cate_id\":38,\n",
    "                      \"url_list\" : []},\n",
    "                 }\n",
    "                }\n",
    "            }\n",
    "        }\n",
    "#\n",
    "    add_list(_bongda24h)\n",
    "    add_post(_bongda24h)\n",
    "    return _bongda24h\n",
    "#send post content to wordpress via endpoint\n",
    "def send_post_to_5goals(title,content,category_id,published_date):\n",
    "    # URL of the API endpoint (this is a placeholder and needs to be replaced with the actual URL)\n",
    "    url = \"https://api2023.5goal.com/wp-json/custom/createPost\"\n",
    "    \n",
    "    # Data to be sent in the POST request\n",
    "    data = {\n",
    "        \"title\": title,\n",
    "        \"content\": content,\n",
    "        \"category_id\": category_id,\n",
    "        \"token\": '5goalvodichcmnl',  # Replace with your actual access token\n",
    "        \"published_date\": published_date,\n",
    "        \"domain\":\"bongda24h\"\n",
    "          # Replace with the actual category ID as required\n",
    "    }\n",
    "    \n",
    "    # Sending the POST request\n",
    "    response = requests.post(url, data=data)\n",
    "    \n",
    "    # Checking the response\n",
    "    if response.status_code == 200:\n",
    "        print(\"The post was successfully created.\")\n",
    "        print(\"Response:\", response.text)  # Prints the response text from the server\n",
    "    else:\n",
    "        print(f\"Failed to create the post. Status code: {response.status_code}\")\n",
    "def main():\n",
    "    _bongda24h = get_news_bongda24h()\n",
    "    for i in list(_bongda24h['urls'].keys()):\n",
    "    #web_24h_com_vn2['url'][i]['cate_id']\n",
    "        for j in list(_bongda24h['urls'][i]['sub-category']):\n",
    "            url_list =  _bongda24h['urls'][i]['sub-category'][j]['url_list']\n",
    "            print(url_list)\n",
    "            for t in range(0,len(url_list)):\n",
    "                content = _bongda24h['urls'][i]['sub-category'][j]['content'][t]['text']\n",
    "                title = _bongda24h['urls'][i]['sub-category'][j]['content'][t]['title']\n",
    "                published_date = _bongda24h['urls'][i]['sub-category'][j]['content'][t]['published_date']\n",
    "                cate_id = _bongda24h['urls'][i]['sub-category'][j]['cate_id']\n",
    "                print(title, url_list[t])\n",
    "                send_post_to_5goals(title,str(content), cate_id, published_date)\n",
    "                time.sleep(5)\n"
   ]
  },
  {
   "cell_type": "code",
   "execution_count": 13,
   "id": "b9871756-619c-4523-8abb-7a23fe824067",
   "metadata": {},
   "outputs": [
    {
     "name": "stdout",
     "output_type": "stream",
     "text": [
      "hautruong 0 https://bongda24h.vn/hau-truong-c188-p1.html\n",
      "28/11\n",
      "Thứ Tư 29/11/2023 16:30(GMT+7)\n",
      "Thứ Tư 29/11/2023 10:21(GMT+7)\n",
      "28/11\n",
      "Thứ Hai 27/11/2023 19:41(GMT+7)\n",
      "27/11\n",
      "27/11\n",
      "Chủ Nhật 26/11/2023 20:13(GMT+7)\n",
      "Chủ Nhật 26/11/2023 14:59(GMT+7)\n",
      "Thứ Bảy 25/11/2023 09:07(GMT+7)\n",
      "Thứ Bảy 25/11/2023 07:32(GMT+7)\n",
      "Thứ Sáu 24/11/2023 16:49 Subscribe\n",
      "Thứ Sáu 24/11/2023 16:19(GMT+7)\n",
      "Thứ Sáu 24/11/2023 10:22(GMT+7)\n",
      "Thứ Sáu 24/11/2023 10:05(GMT+7)\n",
      "Thứ Sáu 24/11/2023 09:17(GMT+7)\n",
      "Thứ Năm 23/11/2023 15:47(GMT+7)\n",
      "Thứ Năm 23/11/2023 09:01(GMT+7)\n",
      "Thứ Năm 23/11/2023 07:25(GMT+7)\n",
      "Chủ Nhật 19/11/2023 15:10(GMT+7)\n"
     ]
    },
    {
     "ename": "UnboundLocalError",
     "evalue": "cannot access local variable 'soup' where it is not associated with a value",
     "output_type": "error",
     "traceback": [
      "\u001b[1;31m---------------------------------------------------------------------------\u001b[0m",
      "\u001b[1;31mUnboundLocalError\u001b[0m                         Traceback (most recent call last)",
      "Cell \u001b[1;32mIn[13], line 1\u001b[0m\n\u001b[1;32m----> 1\u001b[0m get_news_bongda24h()\n",
      "Cell \u001b[1;32mIn[11], line 196\u001b[0m, in \u001b[0;36mget_news_bongda24h\u001b[1;34m()\u001b[0m\n\u001b[0;32m    194\u001b[0m \u001b[38;5;66;03m#\u001b[39;00m\n\u001b[0;32m    195\u001b[0m     add_list(_bongda24h)\n\u001b[1;32m--> 196\u001b[0m     add_post(_bongda24h)\n\u001b[0;32m    197\u001b[0m     \u001b[38;5;28;01mreturn\u001b[39;00m _bongda24h\n",
      "Cell \u001b[1;32mIn[11], line 175\u001b[0m, in \u001b[0;36madd_post\u001b[1;34m(web_json_obj)\u001b[0m\n\u001b[0;32m    173\u001b[0m web_json_obj[\u001b[38;5;124m'\u001b[39m\u001b[38;5;124murls\u001b[39m\u001b[38;5;124m'\u001b[39m][i][\u001b[38;5;124m'\u001b[39m\u001b[38;5;124msub-category\u001b[39m\u001b[38;5;124m'\u001b[39m][j][\u001b[38;5;124m'\u001b[39m\u001b[38;5;124mcontent\u001b[39m\u001b[38;5;124m'\u001b[39m][u] \u001b[38;5;241m=\u001b[39m {}\n\u001b[0;32m    174\u001b[0m \u001b[38;5;28;01mif\u001b[39;00m u \u001b[38;5;241m!=\u001b[39m \u001b[38;5;124m\"\u001b[39m\u001b[38;5;124m\"\u001b[39m:\n\u001b[1;32m--> 175\u001b[0m     web_json_obj[\u001b[38;5;124m'\u001b[39m\u001b[38;5;124murls\u001b[39m\u001b[38;5;124m'\u001b[39m][i][\u001b[38;5;124m'\u001b[39m\u001b[38;5;124msub-category\u001b[39m\u001b[38;5;124m'\u001b[39m][j][\u001b[38;5;124m'\u001b[39m\u001b[38;5;124mcontent\u001b[39m\u001b[38;5;124m'\u001b[39m][u][\u001b[38;5;124m'\u001b[39m\u001b[38;5;124mtext\u001b[39m\u001b[38;5;124m'\u001b[39m] ,web_json_obj[\u001b[38;5;124m'\u001b[39m\u001b[38;5;124murls\u001b[39m\u001b[38;5;124m'\u001b[39m][i][\u001b[38;5;124m'\u001b[39m\u001b[38;5;124msub-category\u001b[39m\u001b[38;5;124m'\u001b[39m][j][\u001b[38;5;124m'\u001b[39m\u001b[38;5;124mcontent\u001b[39m\u001b[38;5;124m'\u001b[39m][u][\u001b[38;5;124m'\u001b[39m\u001b[38;5;124mtitle\u001b[39m\u001b[38;5;124m'\u001b[39m],web_json_obj[\u001b[38;5;124m'\u001b[39m\u001b[38;5;124murls\u001b[39m\u001b[38;5;124m'\u001b[39m][i][\u001b[38;5;124m'\u001b[39m\u001b[38;5;124msub-category\u001b[39m\u001b[38;5;124m'\u001b[39m][j][\u001b[38;5;124m'\u001b[39m\u001b[38;5;124mcontent\u001b[39m\u001b[38;5;124m'\u001b[39m][u][\u001b[38;5;124m'\u001b[39m\u001b[38;5;124mpublished_date\u001b[39m\u001b[38;5;124m'\u001b[39m] \u001b[38;5;241m=\u001b[39m get_post(web_json_obj[\u001b[38;5;124m'\u001b[39m\u001b[38;5;124murls\u001b[39m\u001b[38;5;124m'\u001b[39m][i][\u001b[38;5;124m'\u001b[39m\u001b[38;5;124msub-category\u001b[39m\u001b[38;5;124m'\u001b[39m][j][\u001b[38;5;124m'\u001b[39m\u001b[38;5;124murl_list\u001b[39m\u001b[38;5;124m'\u001b[39m][u])\n\u001b[0;32m    176\u001b[0m     \u001b[38;5;28mprint\u001b[39m(i,j,web_json_obj[\u001b[38;5;124m'\u001b[39m\u001b[38;5;124murls\u001b[39m\u001b[38;5;124m'\u001b[39m][i][\u001b[38;5;124m'\u001b[39m\u001b[38;5;124msub-category\u001b[39m\u001b[38;5;124m'\u001b[39m][j][\u001b[38;5;124m'\u001b[39m\u001b[38;5;124mcate_id\u001b[39m\u001b[38;5;124m'\u001b[39m],web_json_obj[\u001b[38;5;124m'\u001b[39m\u001b[38;5;124murls\u001b[39m\u001b[38;5;124m'\u001b[39m][i][\u001b[38;5;124m'\u001b[39m\u001b[38;5;124msub-category\u001b[39m\u001b[38;5;124m'\u001b[39m][j][\u001b[38;5;124m'\u001b[39m\u001b[38;5;124mname\u001b[39m\u001b[38;5;124m'\u001b[39m],web_json_obj[\u001b[38;5;124m'\u001b[39m\u001b[38;5;124murls\u001b[39m\u001b[38;5;124m'\u001b[39m][i][\u001b[38;5;124m'\u001b[39m\u001b[38;5;124msub-category\u001b[39m\u001b[38;5;124m'\u001b[39m][j][\u001b[38;5;124m'\u001b[39m\u001b[38;5;124mname\u001b[39m\u001b[38;5;124m'\u001b[39m],web_json_obj[\u001b[38;5;124m'\u001b[39m\u001b[38;5;124murls\u001b[39m\u001b[38;5;124m'\u001b[39m][i][\u001b[38;5;124m'\u001b[39m\u001b[38;5;124msub-category\u001b[39m\u001b[38;5;124m'\u001b[39m][j][\u001b[38;5;124m'\u001b[39m\u001b[38;5;124mcontent\u001b[39m\u001b[38;5;124m'\u001b[39m][u][\u001b[38;5;124m'\u001b[39m\u001b[38;5;124mtitle\u001b[39m\u001b[38;5;124m'\u001b[39m],web_json_obj[\u001b[38;5;124m'\u001b[39m\u001b[38;5;124murls\u001b[39m\u001b[38;5;124m'\u001b[39m][i][\u001b[38;5;124m'\u001b[39m\u001b[38;5;124msub-category\u001b[39m\u001b[38;5;124m'\u001b[39m][j][\u001b[38;5;124m'\u001b[39m\u001b[38;5;124murl_list\u001b[39m\u001b[38;5;124m'\u001b[39m][u])\n",
      "Cell \u001b[1;32mIn[11], line 116\u001b[0m, in \u001b[0;36mget_post\u001b[1;34m(url)\u001b[0m\n\u001b[0;32m    114\u001b[0m \u001b[38;5;28;01mdef\u001b[39;00m \u001b[38;5;21mget_post\u001b[39m(url):\n\u001b[0;32m    115\u001b[0m     \u001b[38;5;28;01mtry\u001b[39;00m:\n\u001b[1;32m--> 116\u001b[0m         content,title,published_date \u001b[38;5;241m=\u001b[39m get_content_bongda24h(url)\n\u001b[0;32m    117\u001b[0m         \u001b[38;5;28;01mreturn\u001b[39;00m content,title,published_date\n\u001b[0;32m    118\u001b[0m     \u001b[38;5;28;01mexcept\u001b[39;00m \u001b[38;5;167;01mAttributeError\u001b[39;00m \u001b[38;5;28;01mas\u001b[39;00m e:\n",
      "Cell \u001b[1;32mIn[11], line 46\u001b[0m, in \u001b[0;36mget_content_bongda24h\u001b[1;34m(url)\u001b[0m\n\u001b[0;32m     44\u001b[0m response \u001b[38;5;241m=\u001b[39m requests\u001b[38;5;241m.\u001b[39mget(url)\n\u001b[0;32m     45\u001b[0m time\u001b[38;5;241m.\u001b[39msleep(\u001b[38;5;241m5\u001b[39m)\n\u001b[1;32m---> 46\u001b[0m article \u001b[38;5;241m=\u001b[39m soup\u001b[38;5;241m.\u001b[39mfind(\u001b[38;5;124m'\u001b[39m\u001b[38;5;124mdiv\u001b[39m\u001b[38;5;124m'\u001b[39m, \u001b[38;5;28mid\u001b[39m \u001b[38;5;241m=\u001b[39m \u001b[38;5;124m'\u001b[39m\u001b[38;5;124m6il5mu2rgs\u001b[39m\u001b[38;5;124m'\u001b[39m)\n\u001b[0;32m     47\u001b[0m soup \u001b[38;5;241m=\u001b[39m BeautifulSoup(response\u001b[38;5;241m.\u001b[39mcontent, \u001b[38;5;124m'\u001b[39m\u001b[38;5;124mhtml.parser\u001b[39m\u001b[38;5;124m'\u001b[39m)\n\u001b[0;32m     48\u001b[0m source_tag \u001b[38;5;241m=\u001b[39m soup\u001b[38;5;241m.\u001b[39mnew_tag(\u001b[38;5;124m'\u001b[39m\u001b[38;5;124mi\u001b[39m\u001b[38;5;124m'\u001b[39m) \n",
      "\u001b[1;31mUnboundLocalError\u001b[0m: cannot access local variable 'soup' where it is not associated with a value"
     ]
    }
   ],
   "source": [
    "get_news_bongda24h()"
   ]
  },
  {
   "cell_type": "code",
   "execution_count": 3,
   "id": "299ff093-5005-4dc4-b151-b3f3ab77f659",
   "metadata": {},
   "outputs": [],
   "source": [
    "test = get_list_url('https://bongda24h.vn/hau-truong-c188-p1.html')"
   ]
  },
  {
   "cell_type": "code",
   "execution_count": 299,
   "id": "1470e468-016f-45f5-9608-7a06fbd08f4a",
   "metadata": {},
   "outputs": [],
   "source": [
    "response = requests.get('https://bongda24h.vn/hau-truong/hanh-dong-am-ap-cua-van-hau-voi-doan-hai-my-trong-tiec-cuoi-188-371556.html')\n",
    "time.sleep(6)\n",
    "soup = BeautifulSoup(response.content, 'html.parser')\n",
    "article = soup.find('div', id = '6il5mu2rgs')\n",
    "tables = article.find_all('table')\n"
   ]
  },
  {
   "cell_type": "code",
   "execution_count": 12,
   "id": "9a1b3d02-7952-4943-adba-57ac3b9f164a",
   "metadata": {
    "scrolled": true
   },
   "outputs": [
    {
     "name": "stdout",
     "output_type": "stream",
     "text": [
      "28/11\n",
      "Thứ Tư 29/11/2023 16:30(GMT+7)\n",
      "Thứ Tư 29/11/2023 10:21(GMT+7)\n",
      "28/11\n",
      "Thứ Hai 27/11/2023 19:41(GMT+7)\n",
      "27/11\n",
      "27/11\n",
      "Chủ Nhật 26/11/2023 20:13(GMT+7)\n",
      "Chủ Nhật 26/11/2023 14:59(GMT+7)\n",
      "Thứ Bảy 25/11/2023 09:07(GMT+7)\n",
      "Thứ Bảy 25/11/2023 07:32(GMT+7)\n",
      "Thứ Sáu 24/11/2023 16:49 Subscribe\n",
      "Thứ Sáu 24/11/2023 16:19(GMT+7)\n",
      "Thứ Sáu 24/11/2023 10:22(GMT+7)\n",
      "Thứ Sáu 24/11/2023 10:05(GMT+7)\n",
      "Thứ Sáu 24/11/2023 09:17(GMT+7)\n",
      "Thứ Năm 23/11/2023 15:47(GMT+7)\n",
      "Thứ Năm 23/11/2023 09:01(GMT+7)\n",
      "Thứ Năm 23/11/2023 07:25(GMT+7)\n",
      "Chủ Nhật 19/11/2023 15:10(GMT+7)\n"
     ]
    },
    {
     "data": {
      "text/plain": [
       "['https://bongda24h.vn/hau-truong/filip-nguyen-tiet-lo-chuyen-tinh-voi-nguoi-ban-doi-xinh-dep-188-371621.html',\n",
       " 'https://bongda24h.vn/tin-nong/hong-son-kim-hue-xuat-hien-tai-vinpearl-dic-legends-vietnam-2023-279-371605.html',\n",
       " 'https://bongda24h.vn/hau-truong/hanh-dong-am-ap-cua-van-hau-voi-doan-hai-my-trong-tiec-cuoi-188-371556.html']"
      ]
     },
     "execution_count": 12,
     "metadata": {},
     "output_type": "execute_result"
    }
   ],
   "source": [
    "filter_list(test)"
   ]
  },
  {
   "cell_type": "code",
   "execution_count": 301,
   "id": "23fdd1d2-9300-44a9-bcf4-35a557fe93c6",
   "metadata": {},
   "outputs": [
    {
     "data": {
      "text/plain": [
       "(datetime.datetime(2023, 11, 27, 0, 0), '2023-11-27')"
      ]
     },
     "execution_count": 301,
     "metadata": {},
     "output_type": "execute_result"
    }
   ],
   "source": [
    "get_time_string(date_str)"
   ]
  },
  {
   "cell_type": "code",
   "execution_count": 273,
   "id": "c8c36655-f1e0-49b8-a66b-4a914999ece5",
   "metadata": {},
   "outputs": [
    {
     "data": {
      "text/plain": [
       "'Thứ Tư 29/11/2023 14:12(GMT+7)'"
      ]
     },
     "execution_count": 273,
     "metadata": {},
     "output_type": "execute_result"
    }
   ],
   "source": [
    "soup.find('div', class_ = 'the-article-header').find('h1').next_sibling.text.strip()"
   ]
  },
  {
   "cell_type": "code",
   "execution_count": 278,
   "id": "43388fa0-aeb0-4531-86be-3bbe1b59224a",
   "metadata": {},
   "outputs": [
    {
     "data": {
      "text/plain": [
       "1"
      ]
     },
     "execution_count": 278,
     "metadata": {},
     "output_type": "execute_result"
    }
   ],
   "source": [
    "soup.find_(recursive =  True, class_ = 'the-article-header')"
   ]
  },
  {
   "cell_type": "code",
   "execution_count": 287,
   "id": "206a8954-6642-466c-bb9a-3cd1c887641e",
   "metadata": {},
   "outputs": [
    {
     "data": {
      "text/plain": [
       "'2023-11-29'"
      ]
     },
     "execution_count": 287,
     "metadata": {},
     "output_type": "execute_result"
    }
   ],
   "source": [
    "convert_string(date_str)"
   ]
  },
  {
   "cell_type": "code",
   "execution_count": 6,
   "id": "41e5951f",
   "metadata": {},
   "outputs": [
    {
     "data": {
      "text/plain": [
       "['https://bongda24h.vn/tin-nong/huyen-my-ngoc-han-cung-dan-nguoi-dep-khoe-sac-o-giai-golf-nha-trang-279-371810.html',\n",
       " 'https://bongda24h.vn/hau-truong/quen-thoi-trang-hoa-neymar-bi-nguoi-dep-tuyet-tinh-188-371799.html',\n",
       " 'https://bongda24h.vn/hau-truong/van-toan-lo-lang-vi-khong-biet-bao-gio-den-luot-minh-cuoi-188-371756.html',\n",
       " 'https://bongda24h.vn/tin-nong/miss-golf-le-thanh-tu-va-bai-hoc-tu-huyen-thoai-golf-279-371679.html',\n",
       " 'https://bongda24h.vn/hau-truong/filip-nguyen-tiet-lo-chuyen-tinh-voi-nguoi-ban-doi-xinh-dep-188-371621.html',\n",
       " 'https://bongda24h.vn/tin-nong/hong-son-kim-hue-xuat-hien-tai-vinpearl-dic-legends-vietnam-2023-279-371605.html',\n",
       " 'https://bongda24h.vn/hau-truong/hanh-dong-am-ap-cua-van-hau-voi-doan-hai-my-trong-tiec-cuoi-188-371556.html',\n",
       " 'https://bongda24h.vn/hau-truong/vo-cesc-fabregas-len-tieng-vu-messi-ngoai-tinh-188-371531.html',\n",
       " 'https://bongda24h.vn/hau-truong/messi-thai-chanathip-vui-bao-tin-tot-nghiep-dai-hoc-188-371497.html',\n",
       " 'https://bongda24h.vn/hau-truong/van-hau-nhan-mon-qua-cuoi-dac-biet-tu-hlv-troussier-188-371367.html',\n",
       " 'https://bongda24h.vn/bong-da-viet-nam/clb-tp-hcm-chinh-thuc-len-tieng-ve-lum-xum-tai-chinh-168-371360.html',\n",
       " 'https://bongda24h.vn/video/ve-si-cua-lionel-messi-tiep-tuc-khien-nhm-bat-ngo-189-371319.html',\n",
       " 'https://bongda24h.vn/hau-truong/madam-pang-dung-truoc-co-hoi-tro-thanh-tan-chu-tich-ldbd-thai-lan-188-371307.html',\n",
       " 'https://bongda24h.vn/hau-truong/dani-alves-doi-dien-voi-an-9-nam-tu-188-371284.html',\n",
       " 'https://bongda24h.vn/hau-truong/van-toan-dien-do-banh-bao-khoe-di-chup-anh-cuoi-188-371276.html',\n",
       " 'https://bongda24h.vn/hau-truong/hlv-kiatisuk-cung-dan-tro-ly-hagl-thanh-thoi-truoc-them-dau-cahn-188-371270.html',\n",
       " 'https://bongda24h.vn/hau-truong/madam-pang-phu-nhan-can-thiep-vao-viec-chuyen-mon-cua-dt-thai-lan-188-371204.html',\n",
       " 'https://bongda24h.vn/tin-nong/ngoc-nu-wushu-duong-thuy-vi-bo-ngo-tuong-lai-279-371169.html',\n",
       " 'https://bongda24h.vn/bong-da-anh/hanh-dong-dep-cua-haaland-voi-doi-bong-cu-172-371162.html',\n",
       " 'https://bongda24h.vn/bong-da-viet-nam/hagl-nhan-cu-hich-tinh-than-to-lon-truoc-tran-dai-chien-clb-cahn-168-370877.html']"
      ]
     },
     "execution_count": 6,
     "metadata": {},
     "output_type": "execute_result"
    }
   ],
   "source": [
    "test"
   ]
  },
  {
   "cell_type": "code",
   "execution_count": 9,
   "id": "0cd15904",
   "metadata": {},
   "outputs": [
    {
     "data": {
      "text/plain": [
       "'Thứ Năm 30/11/2023 05:24(GMT+7)'"
      ]
     },
     "execution_count": 9,
     "metadata": {},
     "output_type": "execute_result"
    }
   ],
   "source": [
    "url = 'https://bongda24h.vn/bong-da-chau-au/dieu-kien-nao-de-mu-co-the-vuot-qua-vong-bang-champions-league-184-371866.html'\n",
    "response = requests.get(url)\n",
    "time.sleep(6)\n",
    "soup = BeautifulSoup(response.content, 'html.parser')\n",
    "soup.find('h1').next_sibling.text.strip()"
   ]
  },
  {
   "cell_type": "code",
   "execution_count": null,
   "id": "a2810397-42cf-4799-bd84-9a3382598c21",
   "metadata": {},
   "outputs": [],
   "source": []
  }
 ],
 "metadata": {
  "kernelspec": {
   "display_name": "Python 3 (ipykernel)",
   "language": "python",
   "name": "python3"
  },
  "language_info": {
   "codemirror_mode": {
    "name": "ipython",
    "version": 3
   },
   "file_extension": ".py",
   "mimetype": "text/x-python",
   "name": "python",
   "nbconvert_exporter": "python",
   "pygments_lexer": "ipython3",
   "version": "3.11.5"
  }
 },
 "nbformat": 4,
 "nbformat_minor": 5
}
