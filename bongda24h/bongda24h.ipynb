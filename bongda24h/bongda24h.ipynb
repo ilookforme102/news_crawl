{
 "cells": [
  {
   "cell_type": "code",
   "execution_count": 1,
   "id": "a6447aa7-9367-46aa-9855-12b1da8f4aad",
   "metadata": {},
   "outputs": [],
   "source": [
    "import requests \n",
    "import time\n",
    "import re\n",
    "from datetime import datetime\n",
    "from bs4 import BeautifulSoup,NavigableString, Comment"
   ]
  },
  {
   "cell_type": "code",
   "execution_count": 2,
   "id": "6dc06a68-3da8-4c7f-ac1b-da8590226e39",
   "metadata": {},
   "outputs": [],
   "source": [
    "def convert_string(input_str):\n",
    "    # Regular expression pattern to match a date in the format dd-mm-yyyy\n",
    "    pattern = r'\\b\\d{2}/\\d{2}/\\d{4}\\b'\n",
    "    \n",
    "    # Search for the pattern in the string\n",
    "    match = re.search(pattern, input_str)\n",
    "    if match:\n",
    "    # Extract and print the date if found\n",
    "        date_str = match.group(0)\n",
    "        date_obj = datetime.strptime(date_str, '%d/%m/%Y')\n",
    "        date =  date_obj.strftime('%Y-%m-%d')\n",
    "\n",
    "        return date\n",
    "    else:\n",
    "        'No date found'    \n",
    "#convert time string to datetime object\n",
    "def convert_time_string(posted_date):\n",
    "    # Regular expression pattern to match a date in the format dd-mm-yyyy\n",
    "    pattern = r'\\b\\d{2}/\\d{2}/\\d{4}\\b'\n",
    "\n",
    "    # Search for the pattern in the string and extract the date\n",
    "    match = re.search(pattern, posted_date)\n",
    "    if match:\n",
    "        date_str = match.group(0)\n",
    "        # Convert the extracted date string to datetime object\n",
    "        date_obj = datetime.strptime(date_str, '%d/%m/%Y')\n",
    "        return date_obj\n",
    "    else:\n",
    "        return None "
   ]
  },
  {
   "cell_type": "code",
   "execution_count": 14,
   "id": "57de81b5-a885-4818-8b9c-e6c6cce47689",
   "metadata": {},
   "outputs": [],
   "source": [
    "response = requests.get('https://bongda24h.vn/hau-truong-c188-p1.html')\n",
    "soup = BeautifulSoup(response.content, 'html.parser')"
   ]
  },
  {
   "cell_type": "code",
   "execution_count": 28,
   "id": "ceb3c685-e16f-45dd-8b1e-5ade7de41cc1",
   "metadata": {},
   "outputs": [],
   "source": [
    "def get_list_url(cate_url):\n",
    "    response = requests.get(cate_url)\n",
    "    soup = BeautifulSoup(response.content, 'html.parser')\n",
    "    featured_posts = soup.find('div', class_ = 'post-featured')\n",
    "    urls = []\n",
    "    for i in featured_posts:\n",
    "        path = i.find('h2').find('a')['href']\n",
    "        url = 'https://bongda24h.vn/' + path\n",
    "        urls.append(url)\n",
    "    section_content = soup.find_all('div', class_= 'section-content')\n",
    "    for section in section_content:\n",
    "        elements = section.find_all('article', class_ = 'post-list')\n",
    "        for element in elements:\n",
    "            path = element.find('p').find('a')['href']\n",
    "            url = 'https://thethaovanhoa.vn/' + path\n",
    "            urls.append(url)\n",
    "    return urls"
   ]
  },
  {
   "cell_type": "code",
   "execution_count": 29,
   "id": "0b79327e-6470-410d-9b50-9b79a195c69f",
   "metadata": {},
   "outputs": [],
   "source": [
    "urls = get_list_url('https://bongda24h.vn/hau-truong-c188-p1.html')"
   ]
  },
  {
   "cell_type": "code",
   "execution_count": 30,
   "id": "39b0f9db-9b92-45fc-a944-0602606e361b",
   "metadata": {},
   "outputs": [
    {
     "data": {
      "text/plain": [
       "['https://bongda24h.vn//tin-nong/miss-golf-le-thanh-tu-va-bai-hoc-tu-huyen-thoai-golf-279-371679.html',\n",
       " 'https://bongda24h.vn//hau-truong/filip-nguyen-tiet-lo-chuyen-tinh-voi-nguoi-ban-doi-xinh-dep-188-371621.html',\n",
       " 'https://bongda24h.vn//tin-nong/hong-son-kim-hue-xuat-hien-tai-vinpearl-dic-legends-vietnam-2023-279-371605.html',\n",
       " 'https://bongda24h.vn//hau-truong/hanh-dong-am-ap-cua-van-hau-voi-doan-hai-my-trong-tiec-cuoi-188-371556.html',\n",
       " 'https://thethaovanhoa.vn//hau-truong/vo-cesc-fabregas-len-tieng-vu-messi-ngoai-tinh-188-371531.html',\n",
       " 'https://thethaovanhoa.vn//hau-truong/messi-thai-chanathip-vui-bao-tin-tot-nghiep-dai-hoc-188-371497.html',\n",
       " 'https://thethaovanhoa.vn//hau-truong/van-hau-nhan-mon-qua-cuoi-dac-biet-tu-hlv-troussier-188-371367.html',\n",
       " 'https://thethaovanhoa.vn//bong-da-viet-nam/clb-tp-hcm-chinh-thuc-len-tieng-ve-lum-xum-tai-chinh-168-371360.html',\n",
       " 'https://thethaovanhoa.vn//video/ve-si-cua-lionel-messi-tiep-tuc-khien-nhm-bat-ngo-189-371319.html',\n",
       " 'https://thethaovanhoa.vn//hau-truong/madam-pang-dung-truoc-co-hoi-tro-thanh-tan-chu-tich-ldbd-thai-lan-188-371307.html',\n",
       " 'https://thethaovanhoa.vn//hau-truong/dani-alves-doi-dien-voi-an-9-nam-tu-188-371284.html',\n",
       " 'https://thethaovanhoa.vn//hau-truong/van-toan-dien-do-banh-bao-khoe-di-chup-anh-cuoi-188-371276.html',\n",
       " 'https://thethaovanhoa.vn//hau-truong/hlv-kiatisuk-cung-dan-tro-ly-hagl-thanh-thoi-truoc-them-dau-cahn-188-371270.html',\n",
       " 'https://thethaovanhoa.vn//hau-truong/madam-pang-phu-nhan-can-thiep-vao-viec-chuyen-mon-cua-dt-thai-lan-188-371204.html',\n",
       " 'https://thethaovanhoa.vn//tin-nong/ngoc-nu-wushu-duong-thuy-vi-bo-ngo-tuong-lai-279-371169.html',\n",
       " 'https://thethaovanhoa.vn//bong-da-anh/hanh-dong-dep-cua-haaland-voi-doi-bong-cu-172-371162.html',\n",
       " 'https://thethaovanhoa.vn//bong-da-viet-nam/hagl-nhan-cu-hich-tinh-than-to-lon-truoc-tran-dai-chien-clb-cahn-168-370877.html',\n",
       " 'https://thethaovanhoa.vn//hau-truong/sau-tat-ca-harry-kane-da-tim-duoc-nha-tai-munich-188-370863.html',\n",
       " 'https://thethaovanhoa.vn//bong-da-viet-nam/van-lam-chup-hinh-cung-dong-doi-cu-sau-tran-thang-philippines-168-370721.html',\n",
       " 'https://thethaovanhoa.vn//vong-loai-world-cup/loat-anh-che-tran-viet-nam-thang-philippines-nhm-dien-don-xin-loi-hlv-troussier-499-370662.html']"
      ]
     },
     "execution_count": 30,
     "metadata": {},
     "output_type": "execute_result"
    }
   ],
   "source": [
    "urls"
   ]
  },
  {
   "cell_type": "code",
   "execution_count": null,
   "id": "e460c86f-432d-49e3-acb8-88a23abe1d26",
   "metadata": {},
   "outputs": [],
   "source": [
    "response = requests.get('https://bongda24h.vn/hau-truong/van-toan-dien-do-banh-bao-khoe-di-chup-anh-cuoi-188-371276.html')\n",
    "soup = BeautifulSoup(response.content, 'html.parser')"
   ]
  },
  {
   "cell_type": "code",
   "execution_count": 43,
   "id": "4cca9364-c6de-4600-972d-f323ddcc84ae",
   "metadata": {},
   "outputs": [
    {
     "name": "stdout",
     "output_type": "stream",
     "text": [
      "None\n"
     ]
    }
   ],
   "source": [
    "h1 = soup.find('h1', class_ = 'the-article-title')\n",
    "print(h1)"
   ]
  },
  {
   "cell_type": "code",
   "execution_count": 46,
   "id": "33b01621-5cdc-4b9a-80cc-a697a51ae5ac",
   "metadata": {},
   "outputs": [],
   "source": [
    "article = soup.find('div', id = '6il5mu2rgs')"
   ]
  },
  {
   "cell_type": "code",
   "execution_count": 47,
   "id": "c87ac6d7-0ccb-44a8-b344-c175c8b3e35f",
   "metadata": {},
   "outputs": [],
   "source": [
    "article"
   ]
  },
  {
   "cell_type": "code",
   "execution_count": 49,
   "id": "7336d782-6b69-4671-86ac-728343c45081",
   "metadata": {},
   "outputs": [
    {
     "data": {
      "text/plain": [
       "'Tin tức hậu trường bóng đá các thông tin bên lề sân cỏ    Thứ Ba, 28/11/2023Mới nhấtTrên đường PitchMới nhấtVideoVideo bóng đá Việt NamVideo bóng đá Anh Video cúp C1Video bóng đá Châu Âu Video bóng đá TBNVideo bóng đá ItaliaHuyền thoạiClip bóng đá vuiTin nóngWorld CupLịch thi đấu World CupBXH World CupKết quả World CupVideo World CupTrực tiếp World CupViệt NamV-LeagueLTĐ V-LeagueU23 Việt NamKết quả V-LeagueBXH V-LeagueVua phá lướiĐT Việt NamU20 Việt NamLTĐ ĐT Việt NamKQBĐ ĐT Việt NamFutsal Việt NamCúp quốc giaU19 Việt NamAnhNgoại hạng AnhLTĐ Ngoại hạng AnhKQ Ngoại hạng AnhBXH Ngoại hạng AnhVua phá lướiVideo clip BĐ AnhCúp FALeague CupTBNLa LigaLTĐ La LigaKết quả La LigaBXH La LigaVua phá lưới La LigaVideo Tây Ban NhaChâu ÂuCúp C1Lịch thi đấu C1Kết quả Cúp C1Bảng xếp hạng C1Video BĐ Châu ÂuVua phá lưới cúp C1Europa LeagueEuro 2024Europa Conference LeagueItaliaSerie ASerie BLTĐ bóng đá Italia KQBD ItaliaBXH bóng đá Italia Vua phá lưới Serie AĐứcBundesligaLTĐ Bóng đá ĐứcKQBĐ ĐứcBXH bóng đá ĐứcTop ghi bàn BundesligaPhápLigue 1LTĐ BĐ PhápKQBĐ PhápBXH BĐ PhápVua phá lưới Ligue 1Quốc tế U20 Châu Á SEA GamesBóng đá Thái LanAFF CupU23 Châu ÁAsian CupAFC CUPHậu trườngAFC Champions LeagueAsiad 2023Kings CupOlympic 2024LivescoreLịch thi đấu bóng đáKết quả bóng đáBảng xếp hạng bóng đáBảng xếp hạng FIFATrực tiếp Bình luậnNhận địnhNhận định bóng đá AnhNhận định bóng đá Tây Ban NhaNhận định bóng đá ItaliaNhận định bóng đá PhápNhận định bóng đá ĐứcNhận định cúp C1Nhận định Europa LeagueNhận định Europa Conference LeagueNhận định AFF CupNhận định World CupNhận định bóng đá Việt NamNhận định bóng đá MỹNhận định AFC Champions LeagueNhận định AFC CupChuyển nhượngChuyển nhượng MUChuyển nhượng LiverpoolChuyển nhượng ChelseaChuyển nhượng BarcaChuyển nhượng ArsenalChuyển nhượng Man CityChuyển nhượng Real MadridTin chuyển nhượng V-LeagueTất cả chuyên mục ×Trang chủTin nóngTrực tiếp Bình luậnVideoVideo bóng đá Việt NamVideo bóng đá Anh Video cúp C1Video bóng đá Châu Âu Video bóng đá TBNVideo bóng đá ItaliaVideo bóng đá ĐứcVideo tổng hợp Huyền thoạiClip bóng đá vuiXem thêm Thu gọnWorld CupTin nóngLịch thi đấu World CupBXH World CupKết quả World CupToàn cảnhGóc nhìnVideo World CupTrực tiếp World CupHậu trườngLịch sửẤn tượng World CupWorld Cup 2010World Cup 2014Xem thêm Thu gọnViệt NamV-LeagueLTĐ V-LeagueU23 Việt NamKết quả V-LeagueBXH V-LeagueVua phá lướiĐT Việt NamU20 Việt NamLTĐ ĐT Việt NamKQBĐ ĐT Việt NamFutsal Việt NamCúp quốc giaHạng nhấtU22 Việt NamU21 Việt NamU19 Việt NamU18 Việt NamU16 Việt NamNữ Việt NamXem thêm Thu gọnAnhNgoại hạng AnhLTĐ Ngoại hạng AnhKQ Ngoại hạng AnhBXH Ngoại hạng AnhVua phá lướiVideo clip BĐ AnhCúp FALeague CupHạng nhất AnhFantasy EPLXem thêm Thu gọnTBNLa LigaTin tứcLTĐ La LigaKết quả La LigaBXH La LigaVua phá lưới La LigaVideo Tây Ban NhaHạng 2 Tây Ban NhaCúp nhà vuaXem thêm Thu gọnChâu ÂuCúp C1Tin tứcLịch thi đấu C1Kết quả Cúp C1Bảng xếp hạng C1Video BĐ Châu ÂuVua phá lưới cúp C1Europa LeagueEuro 2012Uefa Nations LeagueEuropa Conference LeagueU21 Châu ÂuU19 Châu ÂuXem thêm Thu gọnItaliaSerie ASerie BLTĐ bóng đá Italia KQBD ItaliaBXH bóng đá Italia Vua phá lưới Serie AXem thêm Thu gọnĐứcBundesligaLTĐ Bóng đá ĐứcKQBĐ ĐứcBXH bóng đá ĐứcTop ghi bàn BundesligaHạng 2 ĐứcCúp quốc gia ĐứcXem thêm Thu gọnPhápLigue 1LTĐ BĐ PhápKQBĐ PhápBXH BĐ PhápVua phá lưới Ligue 1Ligue 2Cúp quốc gia PhápXem thêm Thu gọnQuốc tế U20 Châu Á SEA GamesBóng đá Thái LanAFF CupU23 Châu ÁAsian CupAFC CUPHậu trườngAFC Champions LeagueAsiad 2023Kings CupU22 Đông Nam ÁU19 Châu ÁU18 Đông Nam ÁOlympic 2024U16 Châu ÁCan CupGold CupConfed Cup 2017Copa AmericaU20 World CupEuro 2020SEA GamesXem thêm Thu gọnLivescoreLịch thi đấu bóng đáKết quả bóng đáBảng xếp hạng bóng đáBảng xếp hạng FIFANhận địnhNhận định bóng đá AnhNhận định bóng đá Tây Ban NhaNhận định bóng đá ItaliaNhận định bóng đá PhápNhận định bóng đá ĐứcNhận định cúp C1Nhận định Europa LeagueNhận định Europa Conference LeagueNhận định AFF CupNhận định World CupNhận định bóng đá Việt NamNhận định bóng đá MỹNhận định Copa LibertadoresNhận định bóng đá BrazilNhận định bóng đá ArgentinaNhận định bóng đá Hàn QuốcNhận định bóng đá Nhật BảnNhận định bóng đá Trung QuốcNhận định AFC Champions LeagueNhận định AFC CupXem thêm Thu gọnChuyển nhượngChuyển nhượng MUChuyển nhượng LiverpoolChuyển nhượng ChelseaChuyển nhượng BarcaChuyển nhượng ArsenalChuyển nhượng Man CityChuyển nhượng JuventusChuyển nhượng PSGChuyển nhượng TottenhamChuyển nhượng Real MadridTin chuyển nhượng V-LeagueXem thêm Thu gọnTop câu lạc bộManchester United Liverpool Arsenal Chelsea Barcelona Juventus Real Madrid Tottenham Man City Thể Công Viettel Hà Nội HAGL Hậu trườngU20 Châu Á SEA GamesBóng đá Thái LanAFF CupU23 Châu ÁAsian CupAFC CUPHậu trườngAFC Champions LeagueAsiad 2023Kings CupU22 Đông Nam ÁU19 Châu ÁOlympic 2024    Miss Golf Lê Thanh Tú và bài học từ huyền thoại golfVới những người đẹp đánh golf, động tác đẹp là điều quan trọng, nhưng Miss Golf Việt Nam 2022 Lê Thanh Tú học được rằng cô có thể tạo nên một cú swing vừa đẹp vừa hiệu quả.3h trước   Filip Nguyễn tiết lộ về chuyện tình với người bạn đời xinh đẹp21h trước    Danh thủ Hồng Sơn, Hoa khôi bóng chuyền Kim Huệ xuất hiện tại giải golf cho những huyền thoại27/11    Hành động ấm áp của Văn Hậu với Doãn Hải My trong tiệc cưới27/11     Vợ Cesc Fabregas lên tiếng vụ Messi ngoại tình26/11Cô vợ Daniella Semman của Cesc Fabregas đã phủ nhận việc Lionel Messi ngoại tình với nữ phóng viên đồng hương Sofia Martinez.     \"Messi Thái\" Chanathip vui báo tin tốt nghiệp Đại học26/11Ngôi sao của ĐT Thái Lan, Chanathip Songkrasin chia sẻ niềm vui nhận tấm bằng đại học liên quan tới thể thao đến người hâm mộ.     Văn Hậu nhận quà cưới đặc biệt từ HLV Troussier25/11 Việt Nam Hậu vệ Đoàn Văn Hậu mới đây đã nhận được món quà cưới đặc biệt đến từ HLV trưởng ĐT Việt Nam, Philippe Troussier trước ngày trọng đại.     CLB TP.HCM chính thức lên tiếng về lùm xùm tài chính25/11 TP Hồ Chí Minh Trước những thông tin về việc đang nợ lương thưởng của cầu thủ, phía đội bóng TP Hồ Chí Minh (CLB TP.HCM) mới đây đã đưa ra thông báo chính thức.      Vệ sĩ của Lionel Messi tiếp tục khiến NHM bất ngờ24/11 Inter Miami Kể từ khi chuyển tới Inter Miami, siêu sao Lionel Messi luôn được vệ sĩ Yassine Chueko theo như hình với bóng.     Madam Pang đứng trước cơ hội trở thành tân Chủ tịch LĐBĐ Thái Lan24/11Với việc Chủ tịch LĐBĐ Thái Lan (FAT), ông Somyot Poompanmoung thông báo sẽ rời chức vụ sau khi kết thúc nhiệm kỳ, Madam Pang đang nổi lên là ứng viên sáng giá nhất cho chiếc ghế nóng.     Dani Alves đối diện với án 9 năm tù24/11 Brazil Huyền thoại Barca và Brazil là Dani Alves đang đối diện với án tù 9 năm vì cáo buộc tấn công tình dục một phụ nữ trong hộp đêm.     Văn Toàn gây chú ý khi khoe “đi chụp ảnh cưới”24/11Tiền đạo Nguyễn Văn Toàn nhận được nhiều sự chú ý khi khoe ảnh diện vest lịch thiệp cùng thông báo “chụp ảnh cưới”.     HLV Kiatisuk cùng dàn trợ lý HAGL thảnh thơi trước thềm đấu CAHN24/11 HAGL  Hà Nội HLV Kiatisuk cùng dàn trợ lý HAGL tận hưởng buổi sáng tại Hà Nội trước trận đối đầu với Công an Hà Nội ở vòng loại Cúp Quốc gia 2023/24.     Madam Pang phủ nhận can thiệp vào việc chuyên môn của ĐT Thái Lan23/11Nữ trưởng đoàn đội tuyển Thái Lan, Madam Pang đã khẳng định trước truyền thông xứ chùa vàng về việc không can dự vào công việc chuyên môn của HLV Mano Polking.     Ngọc nữ wushu Dương Thuý Vi bỏ ngỏ tương lai23/11“Sau nhiều năm kiên trì, cuối cùng tôi cũng có thể nghỉ ngơi thoải mái. Cảm ơn và tạm biệt” – Dương Thuý Vi chia sẻ trên trang cá nhân sau khi trở về từ giải vô địch Wushu thế giới được tổ chức tại Texas, Mỹ.     Hành động đẹp của Haaland với đội bóng cũ23/11Tiền đạo Erling Haaland sẽ chi trả phí đi lại cho các CĐV của CLB Bryne FK, trước thềm trận đấu quan trọng vào thứ Bảy này.     HAGL nhận cú hích tinh thần to lớn trước trận đại chiến CLB CAHN19/11 HAGL Trước thềm vòng loại cúp Quốc gia 2023/24 gặp đối thủ Công an Hà Nội FC, CLB HAGL đã nhận được một phần thưởng tiền mặt rất giá trị từ phía đơn vị tài trợ.\\xa0     Sau tất cả, Harry Kane đã tìm được nhà tại Munich19/11Sau quãng thời gian dài nỗ lực tìm kiếm, tiền đạo Harry Kane cuối cùng cũng đã lựa chọn được 1 căn nhà ưng ý tại Munich.     Văn Lâm hạnh phúc khi chạm trán thủ môn đẳng cấp nhất Đông Nam Á17/11Đặng Văn Lâm không giấu được niềm vui khi có dịp chạm trán với thủ thành đẳng cấp bậc nhất Đông Nam Á bên phía Philippines, Neil Etheridge.     Loạt ảnh chế trận Việt Nam thắng Philippines: NHM điền đơn xin lỗi HLV Troussier16/11 Việt Nam Chiến thắng mở màn của ĐT Việt Nam tại vòng loại thứ hai World Cup 2026 đã đem đến sự phấn khởi lớn đối với người hâm mộ nước nhà.1 2 3 4 5 ... LỊCH THI ĐẤU - KẾT QUẢPremier League, Hôm nay - 28/11 Fulham  3 - 2 Wolves  La Liga, Hôm nay - 28/11 Girona  1 - 1 Athletic Club  Serie A, Hôm nay - 28/11 Verona  2 - 2 Lecce   Bologna  2 - 0 Torino  Ligue 2, Hôm nay - 28/11 Angers  3 - 0 Caen  VĐQG Brazil, Hôm nay - 28/11 Goias  0 - 1 Cruzeiro  VĐQG Thổ Nhĩ Kỳ, Hôm nay - 28/11 Istanbul Basaksehir  4 - 1 Pendikspor   Sivasspor  3 - 3 Trabzonspor  Hạng 2 Tây Ban Nha, Hôm nay - 28/11 Sporting Gijon  2 - 0 Club Deportivo Eldense  Hạng 2 Saudi Arabia, Hôm nay - 28/11 Al Faisaly  19:10  Al Qaisumah  Al Ain  19:30  Al Arabi  Al Qadasiya  21:25  Jeddah Hạng 2 Thổ Nhĩ Kỳ, Hôm nay - 28/11 Genclerbirl  1 - 1  Keciorenguc Hạng 2 Hà Lan, Hôm nay - 28/11 De Graafschap  02:00Hoãn  FC Dordrecht  FC Eindhoven  0 - 0  TOP Oss  FC Emmen  1 - 0  Jong PSV  Jong Ajax  4 - 1  Helmond Sport  Jong AZ Alkmaar  0 - 5  FC Groningen  ADO Den Haag  6 - 0  Jong FC Utrecht VĐQG Ai Cập, Hôm nay - 28/11 Pyramids FC  21:00  Ismaily SC AFC Champions League, Hôm nay - 28/11 Sepahan  1 - 0  Al Quwa Al Jawiya  Al Nassr FC  0 - 0  Persepolis  BG Pathum United  17:00 Ulsan Hyundai   Kawasaki Frontale  17:00  Johor Darul Ta\\'zim FC  Incheon United  17:00 Yokohama F.Marinos   Shandong Taishan  19:00  Kaya FC Cúp quốc gia Việt Nam, Hôm nay - 28/11 TPHCM  19:15 Bình Dương  AFC Champions League, Hôm nay - 28/11 Al Feiha  23:00  Ahal  Navbahor Namangan  23:00 Al Hilal   Al-Ain  23:00  Pakhtakor Tashkent  Nassaji Mazandaran FC  23:00  Mumbai City FC AFC Cup, Hôm nay - 28/11 Al-Nahda  2 - 1  Al-Ahed  Al-Arabi  1 - 1  Al Zawraa  Al-Riffa  6 - 1  Al-Nejmeh  Kuwait SC  23:00  Al Kahrabaa U17 World Cup, Hôm nay - 28/11 Argentina U17  2 - 2  Germany U17  France U17  19:00  Mali U17 Hạng 2 Ấn Độ, Hôm nay - 28/11 Real Kashmir  1 - 0  Inter Kashi  Rajasthan United  20:30  Aizawl Hạng 2 Bulgaria, Hôm nay - 28/11 Marek Dupnitsa  19:30  PFC Chernomoret Burgas VĐQG Armenia, Hôm nay - 28/11 Shirak  21:00  Pyunik Hạng 2 Armenia, Hôm nay - 28/11 FC Mika  17:00  Urartu FC II VĐQG Cyprus, Hôm nay - 28/11 Doxa Katokopia  2 - 2  Karmiotissa Pano Polemidion  Larnaca  3 - 0  AEL Limassol VĐQG Bolivia, Hôm nay - 28/11 Oriente Petrolero  1 - 0  Vaca Diez VĐQG Đan Mạch, Hôm nay - 28/11 Silkeborg  1 - 4  FC Midtjylland VĐQG Georgia, Hôm nay - 28/11 FC Gagra  17:00  Samtredia  FC Samgurali Tskhaltubo  17:00  Dila Gori  FC Telavi  20:00  Saburtalo  Dinamo Tbilisi  22:00  Dinamo Batumi  Torpedo Kutaisi  22:00  FC Shukura Kobuleti Hạng 2 Georgia, Hôm nay - 28/11 Dinamo Tbilisi II  17:00  FC Kolkheti Khobi  WIT Georgia Tbilisi  17:00  FC Gareji 1960 Hạng 2 Hungary, Hôm nay - 28/11 Vasas Budapest  6 - 0  Gyori ETO Hạng 2 Serbia, Hôm nay - 28/11 Kolubara  0 - 0  FK Sloboda Uzice VĐQG Romania, Hôm nay - 28/11 FC Rapid 1923  2 - 3  Universitat Cluj Hạng 2 Romania, Hôm nay - 28/11 Concordia Chiajna  22:00  FC Unirea 2004 Slobozia VĐQG Ba Lan, Hôm nay - 28/11 Radomiak Radom  0 - 1  Slask Wroclaw Hạng 2 Ba Lan, Hôm nay - 28/11 GKS Tychy 71  3 - 2  Termalica Nieciecza VĐQG Montenegro, Hôm nay - 28/11 Jedinstvo BP  19:00  Petrovac Hạng 2 Israel, Hôm nay - 28/11 Hapoel Umm al-Fahm  1 - 1  Maccabi Kabilio Jaffa  Ironi Tiberias  3 - 0  Ihud Bnei Shefa-Amr  Maccabi Herzliya  1 - 0  Hapoel Nof HaGalil La Liga, Hôm qua - 27/11 Cadiz  0 - 3 Real Madrid   Real Betis  1 - 0 Las Palmas  Serie A, Hôm qua - 27/11 Roma  3 - 1 Udinese   Juventus  1 - 1 Inter  Ligue 1, Hôm qua - 27/11 Lyon  0 - 2 Lille  VĐQG Bỉ, Hôm qua - 27/11 Anderlecht  2 - 1  RWD Molenbeek  Kortrijk  0 - 3 KV Mechelen  VĐQG Brazil, Hôm qua - 27/11 Botafogo FR  1 - 1 Santos FC   Atletico MG  3 - 0 Gremio   Sao Paulo  0 - 0 Cuiaba   America MG  0 - 3 Flamengo   Fortaleza  2 - 2 Palmeiras   Internacion  1 - 0 Bragantino  Hạng 2 Tây Ban Nha, Hôm qua - 27/11 Tenerife  1 - 1 Cartagena  Hạng 2 Bỉ, Hôm qua - 27/11 Lierse K.  1 - 4  Standard Liege U23 Hạng 2 Tây Ban Nha, Hôm qua - 27/11 Espanyol  2 - 0 Alcorcon  Hạng 2 Saudi Arabia, Hôm qua - 27/11 Al-Taraji Club  0 - 1  Al Safa  Al Bukayriyah  2 - 2  Hajer FC Al-Hasa  Ohod  0 - 1  Al Kholood Cúp quốc gia Bồ Đào Nha, Hôm qua - 27/11 Torreense  1 - 1  Tondela  Estoril  2 - 1  Mafra  Sporting  8 - 0  Dumiense Cjpii Futebol Sad  Arouca  2 - 2  Boavista MLS Nhà Nghề Mỹ, Hôm qua - 27/11 Houston Dynamo  1 - 0 Sporting Kansas City   Seattle Sounders FC  0 - 1 Los Angeles FC  Primera Division Uruguay, Hôm qua - 27/11 River Plate  1 - 0  La Luz  Nacional  3 - 1  Montevideo Wanderers AFC Champions League, Hôm qua - 27/11 Sharjah Cultural Club  0 - 2  Al-Sadd  Nasaf Qarshi  3 - 1  Al-Faisaly  Al-Duhail SC  2 - 0  FC Istiklol  AGMK  1 - 2 Al Ittihad  AFC Cup, Hôm qua - 27/11 Bashundhara Kings  2 - 1  Maziya  Mohun Bagan Super Giant  2 - 5  Odisha FC VĐQG Cameroon, Hôm qua - 27/11 Canon Sportif  1 - 1  AS Fortuna AFC Cup, Hôm qua - 27/11 Al-Futowa  23:00Hoãn  Jabal Al Mukaber Thai League, Hôm qua - 27/11 Trat FC  2 - 2  Khonkaen United FC VĐQG Ấn Độ, Hôm qua - 27/11 FC Goa  1 - 0  Jamshedpur VĐQG Chile, Hôm qua - 27/11 Audax Italiano  0 - 1  Colo Colo  Curico Unido  3 - 4  Magallanes  Deportes Copiapo  1 - 1  Atletico Nublense Hạng 2 Ấn Độ, Hôm qua - 27/11 Delhi FC  3 - 4  Neroca FC VĐQG Indonesia, Hôm qua - 27/11 Arema FC  0 - 1 Persik Kediri   Borneo FC Samarinda  1 - 0 Persis Solo   Bhayangkara FC  2 - 2 Persija Jakarta  VĐQG Costa Rica, Hôm qua - 27/11 Santos de Guapiles  1 - 2  Deportivo Saprissa  AD Municipal Liberia  0 - 1 Deportiva San Carlos  VĐQG Guatemala, Hôm qua - 27/11 Antigua Guatemala  2 - 1  Xinabajul  CSD Municipal  3 - 0  Coatepeque  Deportivo Achuapa  2 - 0  Comunicacio FC  Deportivo Zacapa  4 - 0  Deportivo Malacateco  Guastatoya  1 - 0  Coban Imperial  Mixco  0 - 0  Club Xelaju VĐQG Colombia, Hôm qua - 27/11 Millonarios  1 - 0 Independien Medellin   Atletico Nacional  1 - 0 America de Cali  VĐQG Bulgaria, Hôm qua - 27/11 Arda Kardzhali  0 - 3  CSKA 1948  Ludogorets  2 - 3  Slavia Sofia  PFC Lokomotiv Sofia 1929  2 - 2  Levski Sofia Hạng 2 Bulgaria, Hôm qua - 27/11 Ludogorets Razgrad II  19:30Hoãn  Dunav Ruse  CSKA 1948 II  19:30Hoãn  Spartak Varna  Yantra  19:30Hoãn  Bdin Vidin  Litex Lovech  1 - 0  Septemvri Sofia Hạng 2 Croatia, Hôm qua - 27/11 Sibenik  1 - 0  HNK Orijent 1919 Hạng 2 Mexico, Hôm qua - 27/11 Cancun FC  3 - 2  Mineros de Zacatecas Hạng 2 Armenia, Hôm qua - 27/11 FC Nikarm  17:00Hoãn  Ararat Yerevan II  Lernayin A.  2 - 0  FC Noah 2  Pyunik Academy  1 - 5  BKMA II VĐQG Ecuador, Hôm qua - 27/11 Barcelona SC  2 - 1  Guayaquil City  Cumbaya  1 - 2  LDU de Quito  Gualaceo SC  0 - 2  Emelec  Tecnico Universitar  1 - 1  Libertad VĐQG Cyprus, Hôm qua - 27/11 Apollon Limassol  0 - 1 Anorthosis  VĐQG Séc, Hôm qua - 27/11 Sparta Prague  2 - 0  FC Fastav Zlin VĐQG Paraguay, Hôm qua - 27/11 Nacional Asuncion  1 - 1  Cerro Porteno VĐQG Ukraine, Hôm qua - 27/11 SC Dnipro-1  5 - 2  Chornomoret Odessa VĐQG Bolivia, Hôm qua - 27/11 Royal Pari  0 - 0  Jorge Wilstermann  The Strongest  1 - 1  Always Ready  Blooming  0 - 1  Libertad VĐQG Đan Mạch, Hôm qua - 27/11 Lyngby  3 - 3  Broendby IF Hạng 2 Georgia, Hôm qua - 27/11 Merani  1 - 5  Spaeri  Sioni Bolnisi  9 - 1  Merani Martvili  Kolkheti-19 Poti  2 - 0  Lokomotivi Tbilisi VĐQG Hungary, Hôm qua - 27/11 Fehervar FC  3 - 3  Kecskemeti TE VĐQG Serbia, Hôm qua - 27/11 Zeleznicar Pancevo  2 - 1  Napredak  Javor  4 - 0  Vozdovac Hạng 2 Serbia, Hôm qua - 27/11 RFK Novi Sad  0 - 0  FK Dubocica  Radnicki Sremska Mitrovica  1 - 0  Macva Sabac VĐQG Romania, Hôm qua - 27/11 Dinamo Bucuresti  0 - 1  FCSB  U Craiova 1948  2 - 1  Sepsi OSK Hạng 2 Ba Lan, Hôm qua - 27/11 Miedz Legnica  2 - 0  Zaglebie Sosnowiec VĐQG Hy Lạp, Hôm qua - 27/11 Lamia  3 - 3  Atromitos  Aris  2 - 0  Panathinaik VĐQG Montenegro, Hôm qua - 27/11 Jezero  4 - 1  Rudar Pljevlja VĐQG Bosnia, Hôm qua - 27/11 Siroki Brijeg  2 - 2  FK Velez Mostar Xem thêmTop đội bóng    Manchester United     Liverpool     Arsenal     Chelsea     Barcelona     Juventus     Real Madrid     Tottenham     Man City     Thể Công Viettel     Hà Nội     HAGL Xem thêmThăm dò 763 biểu quyếtCLB nào sẽ vô địch Premier League 2023/24? Man Utd     Man City     Chelsea     Liverpool     Tottenham     Arsenal     Newcastle     Brighton     1 CLB khác   Bình chọn Xem kết quảTrang chủTin NóngVideoTrên đường PitchTrực tiếpBóng đá Việt Nam Bóng đá AnhBóng đá Châu ÂuBóng đá TBNBóng đá Italia Bình luậnNhận định bóng đáChuyển nhượngHậu trườngLivescoreLịch thi đấuKết quả bóng đáBảng xếp hạngGiới thiệuĐiều khoản sử dụngChính sách bảo mậtLiên hệ quảng cáoTải ứng dụng  © 2006. Trang thông tin điện tử tổng hợp Bongda24h.vnCƠ QUAN CHỦ QUẢN: Công ty Cổ phần Truyền thông Quốc tế INCOMGiấy phép số: 1183/GP-TTĐT cấp ngày 04/04/2016 bởi Sở TT-TT Hà Nội, thay thế giấy phép 258/GP-TTĐT cấp ngày 07/04/2011 bởi Sở TT-TT Hà NộiNội dung thông tin hợp tác giữa Công ty INCOM và Báo điện tử Thể thao và Văn hoá - TTXVN.Chịu trách nhiệm: Ông Vũ Mạnh CườngTòa soạn: Tầng 2, Tòa nhà IC, số 82 Duy Tân, Quận Cầu Giấy, TP. Hà NộiEmail: [email\\xa0protected]XSMB | 12 Cung Hoang Dao | Âm lịch hôm nayRSS | Theo dõi chúng tôi   Tòa soạn Quảng cáo  (024) 3.784 8888Toàn bộ bản quyền thuộc Bongda24h.vnX\\n'"
      ]
     },
     "execution_count": 49,
     "metadata": {},
     "output_type": "execute_result"
    }
   ],
   "source": [
    "soup.text"
   ]
  },
  {
   "cell_type": "code",
   "execution_count": null,
   "id": "5ce8a1cb-6d4f-406e-8807-0809f66dd857",
   "metadata": {},
   "outputs": [],
   "source": []
  }
 ],
 "metadata": {
  "kernelspec": {
   "display_name": "Python 3 (ipykernel)",
   "language": "python",
   "name": "python3"
  },
  "language_info": {
   "codemirror_mode": {
    "name": "ipython",
    "version": 3
   },
   "file_extension": ".py",
   "mimetype": "text/x-python",
   "name": "python",
   "nbconvert_exporter": "python",
   "pygments_lexer": "ipython3",
   "version": "3.11.5"
  }
 },
 "nbformat": 4,
 "nbformat_minor": 5
}
