{
 "cells": [
  {
   "cell_type": "code",
   "execution_count": 15,
   "id": "5720ed01-9116-4c63-b7cc-31dd1a9dfae8",
   "metadata": {},
   "outputs": [],
   "source": [
    "import requests \n",
    "import time\n",
    "import re\n",
    "from datetime import datetime\n",
    "from bs4 import BeautifulSoup,NavigableString, Comment\n",
    "def convert_string(input_str):\n",
    "    # Regular expression pattern to match a date in the format dd-mm-yyyy\n",
    "    pattern = r'\\b\\d{2}/\\d{2}/\\d{4}\\b'\n",
    "    \n",
    "    # Search for the pattern in the string\n",
    "    match = re.search(pattern, input_str)\n",
    "    if match:\n",
    "    # Extract and print the date if found\n",
    "        date_str = match.group(0)\n",
    "        date_obj = datetime.strptime(date_str, '%d/%m/%Y')\n",
    "        date =  date_obj.strftime('%Y-%m-%d')\n",
    "\n",
    "        return date\n",
    "    else:\n",
    "        'No date found'    \n",
    "#convert time string to datetime object\n",
    "def convert_time_string(posted_date):\n",
    "    # Regular expression pattern to match a date in the format dd-mm-yyyy\n",
    "    pattern = r'\\b\\d{2}/\\d{2}/\\d{4}\\b'\n",
    "\n",
    "    # Search for the pattern in the string and extract the date\n",
    "    match = re.search(pattern, posted_date)\n",
    "    if match:\n",
    "        date_str = match.group(0)\n",
    "        # Convert the extracted date string to datetime object\n",
    "        date_obj = datetime.strptime(date_str, '%d/%m/%Y')\n",
    "        return date_obj\n",
    "    else:\n",
    "        return None \n",
    "# bongda24h has 2 type of time display, depends on type so we use the correct format for time converting\n",
    "def get_time_string(date_str):\n",
    "    if len(date_str)<=5:\n",
    "        crawl_time = datetime.fromtimestamp(time.time())\n",
    "        year = str(crawl_time.year)\n",
    "        date_str = date_str+\"/\"+year\n",
    "        date_obj = datetime.strptime(date_str, '%d/%m/%Y')\n",
    "        date =  date_obj.strftime('%Y-%m-%d')\n",
    "    else:\n",
    "        date = convert_string(date_str)\n",
    "        date_obj = datetime.strptime(date,'%Y-%m-%d')\n",
    "    return date_obj, date\n",
    "\n",
    "def get_content_bongda24h(url):\n",
    "    response = requests.get(url)\n",
    "    time.sleep(4)\n",
    "    soup = BeautifulSoup(response.content, 'html.parser')\n",
    "    article = soup.find('div', id = '6il5mu2rgs')\n",
    "    source_tag = soup.new_tag('i') \n",
    "    source_tag.string = \"Nguồn: bongda24h.vn\"  # Set the content of <i> tag\n",
    "    article.append(source_tag)\n",
    "    title = soup.find('h1').next_sibling.text.strip()\n",
    "    date_str = soup.find('h1').next_sibling.text.strip()\n",
    "    published_date = get_time_string(date_str)[1]\n",
    "    try:\n",
    "        article.find('div', class_ = \"ads-center ads\").decompose()\n",
    "    except AttributeError as e :\n",
    "        print(e)\n",
    "    tables = article.find_all('table')\n",
    "    for table in tables:\n",
    "        try:\n",
    "            picture = table.find('picture')\n",
    "            img = table.find('img')\n",
    "            source = table.find_all('source')\n",
    "            src =  source[0]['data-srcset']\n",
    "            img['src'] = src\n",
    "            caption_wrapper = table.find_all('tr')[1]\n",
    "            caption = caption_wrapper.text.strip()\n",
    "            caption_start = NavigableString(\"[caption id=\\\"\\\" align=\\\"aligncenter\\\" width=\\\"800\\\"]\")\n",
    "            caption_text = NavigableString(caption)\n",
    "            caption_end = NavigableString(\"[/caption]\")\n",
    "            img.insert_before(caption_start)\n",
    "            img.insert_after(caption_end)\n",
    "            img.insert_after(caption_text) \n",
    "            caption_wrapper.decompose()\n",
    "            for i in source:\n",
    "                i.decompose()      \n",
    "        except AttributeError as e:\n",
    "            continue\n",
    "        except NameError as e:\n",
    "            continue\n",
    "        except TypeError as e:\n",
    "            continue\n",
    "        #Error handling just just incase no caption\n",
    "        except IndexError as e:\n",
    "            print(e)\n",
    "        for i in article.find_all(recursive = True):\n",
    "            try:\n",
    "                del i['onclick']\n",
    "                del i['id']\n",
    "                del i['class']\n",
    "                del i['style']\n",
    "            except AttributeError:\n",
    "                continue\n",
    "            except TypeError:\n",
    "                continue\n",
    "        for table in tables:\n",
    "            img = table.find('img')\n",
    "            img['class'] = \"aligncenter\"\n",
    "            img['width'] = 800\n",
    "            img['height'] = 400\n",
    "        for video in article.find_all(['video','iframe']):\n",
    "                video.decompose()\n",
    "        #Extrat embedded link from text\n",
    "        tags_to_remove = article.find_all(['a'])\n",
    "        for tag in tags_to_remove:\n",
    "             # Extract the text from the tag\n",
    "            tag_text = tag.get_text()\n",
    "            # Replace the tag with its text content\n",
    "            tag.replace_with(tag_text)\n",
    "            tag.text.strip()\n",
    "        for script_or_style in article(['script', 'style']):\n",
    "            script_or_style.decompose()\n",
    "    return article, title, published_date\n",
    "def get_post(url):\n",
    "    try:\n",
    "        content,title,published_date = get_content_bongda24h(url)\n",
    "        return content,title,published_date\n",
    "    except AttributeError as e:\n",
    "        print(e)\n",
    "def get_list_url(cate_url):\n",
    "    response = requests.get(cate_url)\n",
    "    soup = BeautifulSoup(response.content, 'html.parser')\n",
    "    featured_posts = soup.find('div', class_ = 'post-featured')\n",
    "    urls = []\n",
    "    for i in featured_posts:\n",
    "        path = i.find('h2').find('a')['href']\n",
    "        url = 'https://bongda24h.vn' + path\n",
    "        urls.append(url)\n",
    "    section_content = soup.find_all('div', class_= 'section-content')\n",
    "    for section in section_content:\n",
    "        elements = section.find_all('article', class_ = 'post-list')\n",
    "        for element in elements:\n",
    "            path = element.find('p').find('a')['href']\n",
    "            url = 'https://bongda24h.vn' + path\n",
    "            urls.append(url)\n",
    "    return urls\n",
    "def filter_list(urls):\n",
    "    filtered_urls = []\n",
    "    crawl_time = datetime.fromtimestamp(time.time()-3*24*3600)\n",
    "    for i in urls:\n",
    "        response = requests.get(i)\n",
    "        time.sleep(5)\n",
    "        soup = BeautifulSoup(response.content, 'html.parser')\n",
    "        try:\n",
    "            #wrapper = soup.find('div', class_ = \"col780 left clearafter\")\n",
    "            #date_posted = wrapper.find('p',class_ ='news-time left').text.strip()\n",
    "            #date_posted_norm = convert_time_string(date_posted)\n",
    "            date_str = soup.find('h1').next_sibling.text.strip()\n",
    "            #print(date_str)\n",
    "            date_posted_norm = get_time_string(date_str)[0]\n",
    "            if ( (date_posted_norm.day == crawl_time.day) and (date_posted_norm.month == crawl_time.month) and (date_posted_norm.year == crawl_time.year) ):\n",
    "                filtered_urls.append(i)\n",
    "                #print(i)\n",
    "        except AttributeError as e:\n",
    "            print(e)\n",
    "            continue\n",
    "    return filtered_urls\n",
    "#add list url to json\n",
    "#add list url to json\n",
    "def add_list(web_json_obj):\n",
    "    for i in list(web_json_obj['urls'].keys()):\n",
    "        for j in list(web_json_obj['urls'][i]['sub-category'].keys()):  \n",
    "            urls = get_list_url(web_json_obj['urls'][i]['sub-category'][j]['url'])\n",
    "            print(i,j,web_json_obj['urls'][i]['sub-category'][j]['url'])\n",
    "            web_json_obj['urls'][i]['sub-category'][j]['url_list'] = filter_list(urls)\n",
    "# add post content from get content function to json object\n",
    "def add_post(web_json_obj):\n",
    "    for i in list(web_json_obj['urls'].keys()):\n",
    "        for j in list(web_json_obj['urls'][i]['sub-category'].keys()):\n",
    "            web_json_obj['urls'][i]['sub-category'][j]['content'] = {}\n",
    "            list_key = [v for v in range(0,len(web_json_obj['urls'][i]['sub-category'][j]['url_list']))]\n",
    "            for u in list_key:\n",
    "                web_json_obj['urls'][i]['sub-category'][j]['content'][u] = {}\n",
    "                if u != \"\":\n",
    "                    web_json_obj['urls'][i]['sub-category'][j]['content'][u]['text'] ,web_json_obj['urls'][i]['sub-category'][j]['content'][u]['title'],web_json_obj['urls'][i]['sub-category'][j]['content'][u]['published_date'] = get_post(web_json_obj['urls'][i]['sub-category'][j]['url_list'][u])\n",
    "                    print(i,j,web_json_obj['urls'][i]['sub-category'][j]['cate_id'],web_json_obj['urls'][i]['sub-category'][j]['name'],web_json_obj['urls'][i]['sub-category'][j]['name'],web_json_obj['urls'][i]['sub-category'][j]['content'][u]['title'],web_json_obj['urls'][i]['sub-category'][j]['url_list'][u])\n",
    "#add all necessary information to json object\n",
    "def get_news_bongda24h():\n",
    "    _bongda24h = {\n",
    "            \"home_page\":\"https://bongda24h.vn/\",\n",
    "            \"urls\":{\n",
    "                \"hautruong\":\n",
    "                {\n",
    "                 \"url\":\"https://bongda24h.vn/hau-truong-c188-p1.html#\",\n",
    "                 \"sub-category\":{  \n",
    "                    0:{\"name\":\"Hậu trường\",\n",
    "                     \"url\":\"https://bongda24h.vn/hau-truong-c188-p1.html\",\n",
    "                     \"cate_id\":38,\n",
    "                      \"url_list\" : []},\n",
    "                 }\n",
    "                }\n",
    "            }\n",
    "        }\n",
    "#\n",
    "    add_list(_bongda24h)\n",
    "    add_post(_bongda24h)\n",
    "    return _bongda24h\n",
    "#send post content to wordpress via endpoint\n",
    "def send_post_to_5goals(title,content,category_id,published_date):\n",
    "    # URL of the API endpoint (this is a placeholder and needs to be replaced with the actual URL)\n",
    "    url = \"https://api2023.5goal.com/wp-json/custom/createPost\"\n",
    "    \n",
    "    # Data to be sent in the POST request\n",
    "    data = {\n",
    "        \"title\": title,\n",
    "        \"content\": content,\n",
    "        \"category_id\": category_id,\n",
    "        \"token\": '5goalvodichcmnl',  # Replace with your actual access token\n",
    "        \"published_date\": published_date,\n",
    "        \"domain\":\"bongda24h\"\n",
    "          # Replace with the actual category ID as required\n",
    "    }\n",
    "    \n",
    "    # Sending the POST request\n",
    "    response = requests.post(url, data=data)\n",
    "    \n",
    "    # Checking the response\n",
    "    if response.status_code == 200:\n",
    "        print(\"The post was successfully created.\")\n",
    "        print(\"Response:\", response.text)  # Prints the response text from the server\n",
    "    else:\n",
    "        print(f\"Failed to create the post. Status code: {response.status_code}\")\n",
    "def main():\n",
    "    _bongda24h = get_news_bongda24h()\n",
    "    for i in list(_bongda24h['urls'].keys()):\n",
    "    #web_24h_com_vn2['url'][i]['cate_id']\n",
    "        for j in list(_bongda24h['urls'][i]['sub-category']):\n",
    "            url_list =  _bongda24h['urls'][i]['sub-category'][j]['url_list']\n",
    "            print(url_list)\n",
    "            for t in range(0,len(url_list)):\n",
    "                content = _bongda24h['urls'][i]['sub-category'][j]['content'][t]['text']\n",
    "                title = _bongda24h['urls'][i]['sub-category'][j]['content'][t]['title']\n",
    "                published_date = _bongda24h['urls'][i]['sub-category'][j]['content'][t]['published_date']\n",
    "                cate_id = _bongda24h['urls'][i]['sub-category'][j]['cate_id']\n",
    "                print(title, url_list[t])\n",
    "                send_post_to_5goals(title,str(content), cate_id, published_date)\n",
    "                time.sleep(5)\n"
   ]
  },
  {
   "cell_type": "code",
   "execution_count": 16,
   "id": "b9871756-619c-4523-8abb-7a23fe824067",
   "metadata": {},
   "outputs": [
    {
     "name": "stdout",
     "output_type": "stream",
     "text": [
      "hautruong 0 https://bongda24h.vn/hau-truong-c188-p1.html\n",
      "hautruong 0 38 Hậu trường Hậu trường Thứ Hai 27/11/2023 19:41(GMT+7) https://bongda24h.vn/hau-truong/filip-nguyen-tiet-lo-chuyen-tinh-voi-nguoi-ban-doi-xinh-dep-188-371621.html\n",
      "'NoneType' object has no attribute 'decompose'\n",
      "hautruong 0 38 Hậu trường Hậu trường 27/11 https://bongda24h.vn/tin-nong/hong-son-kim-hue-xuat-hien-tai-vinpearl-dic-legends-vietnam-2023-279-371605.html\n",
      "'NoneType' object has no attribute 'decompose'\n",
      "hautruong 0 38 Hậu trường Hậu trường 27/11 https://bongda24h.vn/hau-truong/hanh-dong-am-ap-cua-van-hau-voi-doan-hai-my-trong-tiec-cuoi-188-371556.html\n"
     ]
    }
   ],
   "source": [
    "test  = get_news_bongda24h()"
   ]
  },
  {
   "cell_type": "code",
   "execution_count": 17,
   "id": "299ff093-5005-4dc4-b151-b3f3ab77f659",
   "metadata": {},
   "outputs": [
    {
     "data": {
      "text/plain": [
       "{'home_page': 'https://bongda24h.vn/',\n",
       " 'urls': {'hautruong': {'url': 'https://bongda24h.vn/hau-truong-c188-p1.html#',\n",
       "   'sub-category': {0: {'name': 'Hậu trường',\n",
       "     'url': 'https://bongda24h.vn/hau-truong-c188-p1.html',\n",
       "     'cate_id': 38,\n",
       "     'url_list': ['https://bongda24h.vn/hau-truong/filip-nguyen-tiet-lo-chuyen-tinh-voi-nguoi-ban-doi-xinh-dep-188-371621.html',\n",
       "      'https://bongda24h.vn/tin-nong/hong-son-kim-hue-xuat-hien-tai-vinpearl-dic-legends-vietnam-2023-279-371605.html',\n",
       "      'https://bongda24h.vn/hau-truong/hanh-dong-am-ap-cua-van-hau-voi-doan-hai-my-trong-tiec-cuoi-188-371556.html'],\n",
       "     'content': {0: {'text': <div class=\"the-article-content\" id=\"6il5mu2rgs\" itemprop=\"articleBody\"><div><strong>Thủ môn Việt kiều, Filip Nguyễn mới đây đã có những tiết lộ về chuyện tình của mình với người vợ xinh đẹp Aneta Nguyễn.</strong></div><div></div><h2>Filip Nguyễn tiết lộ về chuyện tình với người bạn đời xinh đẹp</h2><p>Fanpage chính thức của CLB Công an Hà Nội mới đây đã đăng tải cuộc phỏng vấn với gia đình nhỏ của thủ môn Filip Nguyễn. Tại đây, “người gác đền” Việt kiều cùng vợ đã có những chia sẻ thú vị về cơ duyên gặp gỡ của cả hai.</p><p>“Tôi gặp Filip Nguyễn khi đang làm công việc bán thời gian ở một phòng gym. Hôm đó, Filip đến tập. Ngay lần đầu tiên, tôi đã thấy có nét Việt Nam trên khuôn mặt anh ấy. Điều đó thực sự thú vị. Bởi vì tôi cũng có một nửa dòng máu Việt Nam trong người”, Aneta cho hay.</p><div><div><ins data-ad-client=\"ca-pub-4835543862779135\" data-ad-format=\"auto\" data-ad-slot=\"5765206613\" data-full-width-responsive=\"true\"></ins></div></div><div><table><tbody><tr><td align=\"center\"><picture>[caption id=\"\" align=\"aligncenter\" width=\"800\"]<img alt=\"Filip Nguyen \" class=\"aligncenter\" data-h=\"802\" data-src=\"https://static.bongda24h.vn/medias/standard/2023/11/27/anh-chup-man-hinh-2023-11-27-luc-65644-ch-2711190727.png\" data-w=\"1268\" height=\"400\" src=\"https://image.bongda24h.vn/medias/480x303twebp/original/2023/11/27/anh-chup-man-hinh-2023-11-27-luc-65644-ch-2711190727.png\" title=\"Filip Nguyễn \" width=\"800\"/>Filip Nguyễn cùng vợ Aneta tiết lộ về chuyện tình của cả hai[/caption]</picture></td></tr></tbody></table></div><p>Về phần Filip Nguyễn, thủ môn của CLB Công an Hà Nội thì cho biết: “Hãy nhìn Aneta đi, cô ấy trông còn giống người Việt Nam hơn người Czech nữa. Ngay từ lần đầu tiên, tôi đã biết chắc rằng cô ấy không phải người Czech 100%. Tôi thấy thật thú vị và nghĩ mình nên bắt chuyện với cô ấy. Và rồi, cô ấy đã bị tôi cưa đổ ngay trong khoảnh khắc đầu tiên đó”.</p><div><div><ins data-ad-client=\"ca-pub-4835543862779135\" data-ad-format=\"auto\" data-ad-slot=\"5765206613\" data-full-width-responsive=\"true\"></ins></div></div><p>Chia sẻ về kỷ niệm đáng nhớ của cả hai, Filip Nguyễn thổ lộ: “Ban đầu, tôi chưa kể với Aneta rằng tôi là cầu thủ bóng chuyên nghiệp. Nhưng cho đến khi tôi nói ra, cô ấy vẫn không thật sự hiểu điều đó. Cô ấy không nghĩ rằng cầu thủ bóng đá là một nghề. Cô ấy cứ nghĩ rằng tôi chơi bóng đá như một thú vui, một sở thích. Cô ấy liên tục hỏi công việc của tôi là gì vậy”.</p><p>Đáng nói, chuyện tình của Filip Nguyễn và Aneta còn đặc biệt hơn khi bố của họ vốn đã có sự quen biết từ trước. Thủ môn Việt kiều thuật lại:</p><div><div><ins data-ad-client=\"ca-pub-4835543862779135\" data-ad-format=\"auto\" data-ad-slot=\"5765206613\" data-full-width-responsive=\"true\"></ins></div></div><p>“Sau này, tôi mới biết rằng bố của tôi quen với ông của cô ấy. Họ đều từng sinh sống và là hàng xóm của nhau ở Hải Phòng. Đó là sự trùng hợp. Lúc đó, tôi và Aneta cũng cảm thấy hơi lo sợ vì không biết chúng tôi có phải là bà con họ hàng với nhau hay không”.</p><p>Thủ môn Filip Nguyễn hiện đang trong quá trình nhập quốc tịch Việt Nam. Nếu hồ sơ này được chấp thuận, anh sẽ trở thành nội binh của Công an Hà Nội và khi ấy đội bóng này sẽ có thêm một suất ngoại binh gốc Việt dành cho một cầu thủ khác.</p><i>Nguồn: bongda24h.vn</i></div>,\n",
       "       'title': 'Thứ Hai 27/11/2023 19:41(GMT+7)',\n",
       "       'published_date': '2023-11-27'},\n",
       "      1: {'text': <div class=\"the-article-content magazine\" id=\"6il5mu2rgs\" itemprop=\"articleBody\"><p>Sáng 27/11, lễ rước Cúp từ tháp Trầm Hương về Vinpearl Golf Nha Trang đã diễn ra, dẫn đầu là Kim Huệ và nhà vô địch US Open 2005 Michael Campbell. Xuất hiện trong lễ rước Cúp còn có Miss Golf Việt Nam 2022 Lê Thanh Tú, cựu danh thủ bóng đá Nguyễn Hồng Sơn và nữ tay đua F1 Việt Nam Nguyễn Gia Bảo.</p><p>Từng được biết đến là Hoa khôi bóng chuyền, sau khi giải nghệ, Phạm Thị Kim Huệ theo đuổi đam mê chơi golf, phấn đấu trở thành một golfer chuyên nghiệp. Vinh dự được chọn làm Đại sứ của Vinpearl DIC Legends Vietnam 2023, nơi các huyền thoại thế giới hội tụ, Kim Huệ tin rằng đây là cơ hội để học hỏi, đồng thời truyền cảm hứng cho những người yêu golf.</p><div><table><tbody><tr><td align=\"center\"><picture>[caption id=\"\" align=\"aligncenter\" width=\"800\"]<img alt=\"g\" class=\"aligncenter\" data-h=\"800\" data-src=\"https://static.bongda24h.vn/medias/original/2023/11/27/bb2o4949-2711163928.JPG\" data-w=\"1200\" height=\"400\" src=\"https://image.bongda24h.vn/medias/twebp/original/2023/11/27/bb2o4949-2711163928.JPG\" title=\"g\" width=\"800\"/>Nhiều ngôi sao xuất hiện tại Vinpearl DIC Legends Vietnam 2023[/caption]</picture></td></tr></tbody></table></div><p>Vinpearl DIC Legends Vietnam 2023 nằm trong khuôn khổ Legends Tour - lần đầu tiên được tổ chức tại Việt Nam và Đông Nam Á. Giải đấu quy tụ 60 golfer huyền thoại của thế giới, ngoài Michael Campbell còn bao gồm Ian Woosnam - nhà vô địch Masters 1991, đội trưởng Ryder Cup 2006; Paul McGinley - đội trưởng Ryder Cup 2004, chủ nhân của 4 chiếc cúp European Tour hay Mark James - đội trưởng Ryder Cup 1999 với 18 lần giành chiến thắng tại European Tour...   </p><p>Sau lễ rước Cúp, Vinpearl DIC Legends Vietnam 2023 chính thức diễn ra từ ngày 27/11-02/12 với các vòng thi đấu giao lưu Pro-Am và thi đấu chính thức Alliance. Tổng giá trị của giải đấu lên đến 31 tỷ đồng, trong đó giá trị giải thưởng bằng tiền mặt là 730.000 USD, tương ứng với 18 tỷ đồng, cùng nhiều phần thưởng giá trị khác.</p><div><table><tbody><tr><td align=\"center\"><picture>[caption id=\"\" align=\"aligncenter\" width=\"800\"]<img alt=\"Danh thủ Hồng Sơn, Hoa khôi bóng chuyền Kim Huệ xuất hiện tại giải golf cho những huyền thoại 1\" class=\"aligncenter\" data-h=\"800\" data-src=\"https://static.bongda24h.vn/medias/original/2023/11/27/bb2o5128-2711163931.JPG\" data-w=\"1200\" height=\"400\" src=\"https://image.bongda24h.vn/medias/twebp/original/2023/11/27/bb2o5128-2711163931.JPG\" title=\"Danh thủ Hồng Sơn, Hoa khôi bóng chuyền Kim Huệ xuất hiện tại giải golf cho những huyền thoại 1\" width=\"800\"/>Miss Golf Việt Nam 2022 Lê Thanh Tú[/caption]</picture></td></tr></tbody></table></div><div><table><tbody><tr><td align=\"center\"><picture>[caption id=\"\" align=\"aligncenter\" width=\"800\"]<img alt=\"Danh thủ Hồng Sơn, Hoa khôi bóng chuyền Kim Huệ xuất hiện tại giải golf cho những huyền thoại 2\" class=\"aligncenter\" data-h=\"809\" data-src=\"https://static.bongda24h.vn/medias/original/2023/11/27/bb2o5071-2711163931.JPG\" data-w=\"1200\" height=\"400\" src=\"https://image.bongda24h.vn/medias/twebp/original/2023/11/27/bb2o5071-2711163931.JPG\" title=\"Danh thủ Hồng Sơn, Hoa khôi bóng chuyền Kim Huệ xuất hiện tại giải golf cho những huyền thoại 2\" width=\"800\"/>[/caption]</picture></td></tr></tbody></table></div><div><table><tbody><tr><td align=\"center\"><picture>[caption id=\"\" align=\"aligncenter\" width=\"800\"]<img alt=\"Danh thủ Hồng Sơn, Hoa khôi bóng chuyền Kim Huệ xuất hiện tại giải golf cho những huyền thoại 3\" class=\"aligncenter\" data-h=\"1800\" data-src=\"https://static.bongda24h.vn/medias/original/2023/11/27/bb2o5059-2711163930.JPG\" data-w=\"1200\" height=\"400\" src=\"https://image.bongda24h.vn/medias/twebp/original/2023/11/27/bb2o5059-2711163930.JPG\" title=\"Danh thủ Hồng Sơn, Hoa khôi bóng chuyền Kim Huệ xuất hiện tại giải golf cho những huyền thoại 3\" width=\"800\"/>Miss Golf Thanh Tú và hoa khôi bóng chuyền Kim Huệ[/caption]</picture></td></tr></tbody></table></div><div><table><tbody><tr><td align=\"center\"><picture>[caption id=\"\" align=\"aligncenter\" width=\"800\"]<img alt=\"Danh thủ Hồng Sơn, Hoa khôi bóng chuyền Kim Huệ xuất hiện tại giải golf cho những huyền thoại 4\" class=\"aligncenter\" data-h=\"800\" data-src=\"https://static.bongda24h.vn/medias/original/2023/11/27/bb2o4712-2711163925.JPG\" data-w=\"1200\" height=\"400\" src=\"https://image.bongda24h.vn/medias/twebp/original/2023/11/27/bb2o4712-2711163925.JPG\" title=\"Danh thủ Hồng Sơn, Hoa khôi bóng chuyền Kim Huệ xuất hiện tại giải golf cho những huyền thoại 4\" width=\"800\"/>Cựu danh thủ Nguyễn Hồng Sơn[/caption]</picture></td></tr></tbody></table></div><div> <table><tbody><tr><td align=\"center\"><picture>[caption id=\"\" align=\"aligncenter\" width=\"800\"]<img alt=\"Danh thủ Hồng Sơn, Hoa khôi bóng chuyền Kim Huệ xuất hiện tại giải golf cho những huyền thoại 5\" class=\"aligncenter\" data-h=\"800\" data-src=\"https://static.bongda24h.vn/medias/original/2023/11/27/bb2o4759-2711163927.JPG\" data-w=\"1200\" height=\"400\" src=\"https://image.bongda24h.vn/medias/twebp/original/2023/11/27/bb2o4759-2711163927.JPG\" title=\"Danh thủ Hồng Sơn, Hoa khôi bóng chuyền Kim Huệ xuất hiện tại giải golf cho những huyền thoại 5\" width=\"800\"/>[/caption]</picture></td></tr></tbody></table></div><div><table><tbody><tr><td align=\"center\"><picture>[caption id=\"\" align=\"aligncenter\" width=\"800\"]<img alt=\"Danh thủ Hồng Sơn, Hoa khôi bóng chuyền Kim Huệ xuất hiện tại giải golf cho những huyền thoại 6\" class=\"aligncenter\" data-h=\"800\" data-src=\"https://static.bongda24h.vn/medias/original/2023/11/27/bb2o4610-2711162254.JPG\" data-w=\"1200\" height=\"400\" src=\"https://image.bongda24h.vn/medias/twebp/original/2023/11/27/bb2o4610-2711162254.JPG\" title=\"Danh thủ Hồng Sơn, Hoa khôi bóng chuyền Kim Huệ xuất hiện tại giải golf cho những huyền thoại 6\" width=\"800\"/>[/caption]</picture></td></tr></tbody></table></div><i>Nguồn: bongda24h.vn</i></div>,\n",
       "       'title': '27/11',\n",
       "       'published_date': '2023-11-27'},\n",
       "      2: {'text': <div class=\"the-article-content magazine\" id=\"6il5mu2rgs\" itemprop=\"articleBody\"><div><table><tbody><tr><td align=\"center\"><picture>[caption id=\"\" align=\"aligncenter\" width=\"800\"]<img alt=\"Hành động ấm áp của Văn Hậu với Doãn Hải My trong tiệc cưới 1\" class=\"aligncenter\" data-h=\"1365\" data-src=\"https://static.bongda24h.vn/medias/original/2023/11/27/hanh_dong_am_ap_cua_van_hau_voi_doan_hai_my_trong_tiec_cuoi.jpg\" data-w=\"2048\" height=\"400\" src=\"https://image.bongda24h.vn/medias/twebp/original/2023/11/27/hanh_dong_am_ap_cua_van_hau_voi_doan_hai_my_trong_tiec_cuoi.jpg\" title=\"Hành động ấm áp của Văn Hậu với Doãn Hải My trong tiệc cưới 1\" width=\"800\"/>Tối 26/11, tiệc cưới lần thứ 2 của Đoàn Văn Hậu và Doãn Hải My được tổ chức long trọng ở một khách sạn 5 sao tại Hà Nội.[/caption]</picture></td></tr></tbody></table></div><table><tbody><tr><td align=\"center\"><picture>[caption id=\"\" align=\"aligncenter\" width=\"800\"]<img alt=\"Hành động ấm áp của Văn Hậu với Doãn Hải My trong tiệc cưới 2\" class=\"aligncenter\" data-h=\"1366\" data-src=\"https://static.bongda24h.vn/medias/original/2023/11/27/406202210_10231482797189190_8661135588554171741_n-2711054006.jpg\" data-w=\"2048\" height=\"400\" src=\"https://image.bongda24h.vn/medias/twebp/original/2023/11/27/406202210_10231482797189190_8661135588554171741_n-2711054006.jpg\" title=\"Hành động ấm áp của Văn Hậu với Doãn Hải My trong tiệc cưới 2\" width=\"800\"/>Dắt tay con gái vào lễ đường lên trao cho Đoàn Văn Hậu, cha của Doãn Hải My gửi lời chúc phúc đến cặp đôi trẻ. ​​​​​[/caption]</picture></td></tr></tbody></table><div><table><tbody><tr><td align=\"center\"><picture>[caption id=\"\" align=\"aligncenter\" width=\"800\"]<img alt=\"Van Hau vs Doan Hai My\" class=\"aligncenter\" data-h=\"1366\" data-src=\"https://static.bongda24h.vn/medias/original/2023/11/27/406181741_10231482815909658_3126710224301252672_n-2711054006.jpg\" data-w=\"2048\" height=\"400\" src=\"https://image.bongda24h.vn/medias/twebp/original/2023/11/27/406181741_10231482815909658_3126710224301252672_n-2711054006.jpg\" title=\"Văn Hậu vs Doãn Hải My\" width=\"800\"/>Trước những lời phát biểu của bố chồng, ông Đoàn Quốc Thắng, Hải My không giấu được sự xúc động. Cô được Văn Hậu ân cần lau nước mắt trong lễ cưới.[/caption]</picture></td></tr></tbody></table></div><table><tbody><tr><td align=\"center\"><picture>[caption id=\"\" align=\"aligncenter\" width=\"800\"]<img alt=\"Hành động ấm áp của Văn Hậu với Doãn Hải My trong tiệc cưới 3\" class=\"aligncenter\" data-h=\"1366\" data-src=\"https://static.bongda24h.vn/medias/original/2023/11/27/406136116_10231482814189615_1785167871778938307_n-2711054004.jpg\" data-w=\"2048\" height=\"400\" src=\"https://image.bongda24h.vn/medias/twebp/original/2023/11/27/406136116_10231482814189615_1785167871778938307_n-2711054004.jpg\" title=\"Hành động ấm áp của Văn Hậu với Doãn Hải My trong tiệc cưới 3\" width=\"800\"/>Ánh mắt đong đầy yêu thương của Doãn Hải My dành cho Văn Hậu trong lúc cặp đôi trao nhẫn[/caption]</picture></td></tr></tbody></table><div><table><tbody><tr><td align=\"center\"><picture>[caption id=\"\" align=\"aligncenter\" width=\"800\"]<img alt=\"Hành động ấm áp của Văn Hậu với Doãn Hải My trong tiệc cưới 4\" class=\"aligncenter\" data-h=\"1366\" data-src=\"https://static.bongda24h.vn/medias/original/2023/11/27/406147548_10231482797109188_4278335196295375152_n-2711054004.jpg\" data-w=\"2048\" height=\"400\" src=\"https://image.bongda24h.vn/medias/twebp/original/2023/11/27/406147548_10231482797109188_4278335196295375152_n-2711054004.jpg\" title=\"Hành động ấm áp của Văn Hậu với Doãn Hải My trong tiệc cưới 4\" width=\"800\"/>Vẻ hạnh phúc của Văn Hậu và vợ xinh đẹp[/caption]</picture></td></tr></tbody></table></div><div><table><tbody><tr><td align=\"center\"><picture>[caption id=\"\" align=\"aligncenter\" width=\"800\"]<img alt=\"Hành động ấm áp của Văn Hậu với Doãn Hải My trong tiệc cưới 5\" class=\"aligncenter\" data-h=\"2048\" data-src=\"https://static.bongda24h.vn/medias/original/2023/11/27/406151822_10231482796709178_6369054477305350634_n-2711054005.jpg\" data-w=\"1366\" height=\"400\" src=\"https://image.bongda24h.vn/medias/twebp/original/2023/11/27/406151822_10231482796709178_6369054477305350634_n-2711054005.jpg\" title=\"Hành động ấm áp của Văn Hậu với Doãn Hải My trong tiệc cưới 5\" width=\"800\"/>Đây là tiệc cưới lần thứ hai của vợ chồng Văn Hậu - Hải My. Trước đó, cặp đôi này tổ chức lễ ăn hỏi, vu quy và tiệc cưới lần đầu ở nhà trai ngày 11/11[/caption]</picture></td></tr></tbody></table></div><div><table><tbody><tr><td align=\"center\"><picture>[caption id=\"\" align=\"aligncenter\" width=\"800\"]<img alt=\"Hành động ấm áp của Văn Hậu với Doãn Hải My trong tiệc cưới 6\" class=\"aligncenter\" data-h=\"1152\" data-src=\"https://static.bongda24h.vn/medias/original/2023/11/11/hanh_dong_am_ap_cua_van_hau_voi_doan_hai_my_trong_tiec_cuoi.jpg\" data-w=\"2048\" height=\"400\" src=\"https://image.bongda24h.vn/medias/twebp/original/2023/11/11/hanh_dong_am_ap_cua_van_hau_voi_doan_hai_my_trong_tiec_cuoi.jpg\" title=\"Hành động ấm áp của Văn Hậu với Doãn Hải My trong tiệc cưới 6\" width=\"800\"/>Văn Hậu rạng ngời trong ngày rước nàng về dinh[/caption]</picture></td></tr></tbody></table></div><div><table><tbody><tr><td align=\"center\"><picture>[caption id=\"\" align=\"aligncenter\" width=\"800\"]<img alt=\"Hành động ấm áp của Văn Hậu với Doãn Hải My trong tiệc cưới 7\" class=\"aligncenter\" data-h=\"1366\" data-src=\"https://static.bongda24h.vn/medias/original/2023/11/10/hanh_dong_am_ap_cua_van_hau_voi_doan_hai_my_trong_tiec_cuoi.jpg\" data-w=\"2048\" height=\"400\" src=\"https://image.bongda24h.vn/medias/twebp/original/2023/11/10/hanh_dong_am_ap_cua_van_hau_voi_doan_hai_my_trong_tiec_cuoi.jpg\" title=\"Hành động ấm áp của Văn Hậu với Doãn Hải My trong tiệc cưới 7\" width=\"800\"/>Cặp đôi trai tài gái sắc này đã nhận được rất nhiều lời chúc phúc trong ngày trọng đại. Cả hai được khen ngợi là \"đôi lứa xứng đôi\" khi Văn Hậu là cầu thủ nổi danh của bóng đá Việt Nam còn Doãn Hải My được biết là hoa hậu từng vào top 10 Hoa hậu Việt Nam 2020[/caption]</picture></td></tr></tbody></table></div><p>(Ảnh: Linh Le Chi)  </p><i>Nguồn: bongda24h.vn</i></div>,\n",
       "       'title': '27/11',\n",
       "       'published_date': '2023-11-27'}}}}}}}"
      ]
     },
     "execution_count": 17,
     "metadata": {},
     "output_type": "execute_result"
    }
   ],
   "source": [
    "test"
   ]
  },
  {
   "cell_type": "code",
   "execution_count": 299,
   "id": "1470e468-016f-45f5-9608-7a06fbd08f4a",
   "metadata": {},
   "outputs": [],
   "source": [
    "response = requests.get('https://bongda24h.vn/hau-truong/hanh-dong-am-ap-cua-van-hau-voi-doan-hai-my-trong-tiec-cuoi-188-371556.html')\n",
    "time.sleep(6)\n",
    "soup = BeautifulSoup(response.content, 'html.parser')\n",
    "article = soup.find('div', id = '6il5mu2rgs')\n",
    "tables = article.find_all('table')\n"
   ]
  },
  {
   "cell_type": "code",
   "execution_count": 12,
   "id": "9a1b3d02-7952-4943-adba-57ac3b9f164a",
   "metadata": {
    "scrolled": true
   },
   "outputs": [
    {
     "name": "stdout",
     "output_type": "stream",
     "text": [
      "28/11\n",
      "Thứ Tư 29/11/2023 16:30(GMT+7)\n",
      "Thứ Tư 29/11/2023 10:21(GMT+7)\n",
      "28/11\n",
      "Thứ Hai 27/11/2023 19:41(GMT+7)\n",
      "27/11\n",
      "27/11\n",
      "Chủ Nhật 26/11/2023 20:13(GMT+7)\n",
      "Chủ Nhật 26/11/2023 14:59(GMT+7)\n",
      "Thứ Bảy 25/11/2023 09:07(GMT+7)\n",
      "Thứ Bảy 25/11/2023 07:32(GMT+7)\n",
      "Thứ Sáu 24/11/2023 16:49 Subscribe\n",
      "Thứ Sáu 24/11/2023 16:19(GMT+7)\n",
      "Thứ Sáu 24/11/2023 10:22(GMT+7)\n",
      "Thứ Sáu 24/11/2023 10:05(GMT+7)\n",
      "Thứ Sáu 24/11/2023 09:17(GMT+7)\n",
      "Thứ Năm 23/11/2023 15:47(GMT+7)\n",
      "Thứ Năm 23/11/2023 09:01(GMT+7)\n",
      "Thứ Năm 23/11/2023 07:25(GMT+7)\n",
      "Chủ Nhật 19/11/2023 15:10(GMT+7)\n"
     ]
    },
    {
     "data": {
      "text/plain": [
       "['https://bongda24h.vn/hau-truong/filip-nguyen-tiet-lo-chuyen-tinh-voi-nguoi-ban-doi-xinh-dep-188-371621.html',\n",
       " 'https://bongda24h.vn/tin-nong/hong-son-kim-hue-xuat-hien-tai-vinpearl-dic-legends-vietnam-2023-279-371605.html',\n",
       " 'https://bongda24h.vn/hau-truong/hanh-dong-am-ap-cua-van-hau-voi-doan-hai-my-trong-tiec-cuoi-188-371556.html']"
      ]
     },
     "execution_count": 12,
     "metadata": {},
     "output_type": "execute_result"
    }
   ],
   "source": [
    "filter_list(test)"
   ]
  },
  {
   "cell_type": "code",
   "execution_count": 301,
   "id": "23fdd1d2-9300-44a9-bcf4-35a557fe93c6",
   "metadata": {},
   "outputs": [
    {
     "data": {
      "text/plain": [
       "(datetime.datetime(2023, 11, 27, 0, 0), '2023-11-27')"
      ]
     },
     "execution_count": 301,
     "metadata": {},
     "output_type": "execute_result"
    }
   ],
   "source": [
    "get_time_string(date_str)"
   ]
  },
  {
   "cell_type": "code",
   "execution_count": 273,
   "id": "c8c36655-f1e0-49b8-a66b-4a914999ece5",
   "metadata": {},
   "outputs": [
    {
     "data": {
      "text/plain": [
       "'Thứ Tư 29/11/2023 14:12(GMT+7)'"
      ]
     },
     "execution_count": 273,
     "metadata": {},
     "output_type": "execute_result"
    }
   ],
   "source": [
    "soup.find('div', class_ = 'the-article-header').find('h1').next_sibling.text.strip()"
   ]
  },
  {
   "cell_type": "code",
   "execution_count": 278,
   "id": "43388fa0-aeb0-4531-86be-3bbe1b59224a",
   "metadata": {},
   "outputs": [
    {
     "data": {
      "text/plain": [
       "1"
      ]
     },
     "execution_count": 278,
     "metadata": {},
     "output_type": "execute_result"
    }
   ],
   "source": [
    "soup.find_(recursive =  True, class_ = 'the-article-header')"
   ]
  },
  {
   "cell_type": "code",
   "execution_count": 287,
   "id": "206a8954-6642-466c-bb9a-3cd1c887641e",
   "metadata": {},
   "outputs": [
    {
     "data": {
      "text/plain": [
       "'2023-11-29'"
      ]
     },
     "execution_count": 287,
     "metadata": {},
     "output_type": "execute_result"
    }
   ],
   "source": [
    "convert_string(date_str)"
   ]
  },
  {
   "cell_type": "code",
   "execution_count": 6,
   "id": "41e5951f",
   "metadata": {},
   "outputs": [
    {
     "data": {
      "text/plain": [
       "['https://bongda24h.vn/tin-nong/huyen-my-ngoc-han-cung-dan-nguoi-dep-khoe-sac-o-giai-golf-nha-trang-279-371810.html',\n",
       " 'https://bongda24h.vn/hau-truong/quen-thoi-trang-hoa-neymar-bi-nguoi-dep-tuyet-tinh-188-371799.html',\n",
       " 'https://bongda24h.vn/hau-truong/van-toan-lo-lang-vi-khong-biet-bao-gio-den-luot-minh-cuoi-188-371756.html',\n",
       " 'https://bongda24h.vn/tin-nong/miss-golf-le-thanh-tu-va-bai-hoc-tu-huyen-thoai-golf-279-371679.html',\n",
       " 'https://bongda24h.vn/hau-truong/filip-nguyen-tiet-lo-chuyen-tinh-voi-nguoi-ban-doi-xinh-dep-188-371621.html',\n",
       " 'https://bongda24h.vn/tin-nong/hong-son-kim-hue-xuat-hien-tai-vinpearl-dic-legends-vietnam-2023-279-371605.html',\n",
       " 'https://bongda24h.vn/hau-truong/hanh-dong-am-ap-cua-van-hau-voi-doan-hai-my-trong-tiec-cuoi-188-371556.html',\n",
       " 'https://bongda24h.vn/hau-truong/vo-cesc-fabregas-len-tieng-vu-messi-ngoai-tinh-188-371531.html',\n",
       " 'https://bongda24h.vn/hau-truong/messi-thai-chanathip-vui-bao-tin-tot-nghiep-dai-hoc-188-371497.html',\n",
       " 'https://bongda24h.vn/hau-truong/van-hau-nhan-mon-qua-cuoi-dac-biet-tu-hlv-troussier-188-371367.html',\n",
       " 'https://bongda24h.vn/bong-da-viet-nam/clb-tp-hcm-chinh-thuc-len-tieng-ve-lum-xum-tai-chinh-168-371360.html',\n",
       " 'https://bongda24h.vn/video/ve-si-cua-lionel-messi-tiep-tuc-khien-nhm-bat-ngo-189-371319.html',\n",
       " 'https://bongda24h.vn/hau-truong/madam-pang-dung-truoc-co-hoi-tro-thanh-tan-chu-tich-ldbd-thai-lan-188-371307.html',\n",
       " 'https://bongda24h.vn/hau-truong/dani-alves-doi-dien-voi-an-9-nam-tu-188-371284.html',\n",
       " 'https://bongda24h.vn/hau-truong/van-toan-dien-do-banh-bao-khoe-di-chup-anh-cuoi-188-371276.html',\n",
       " 'https://bongda24h.vn/hau-truong/hlv-kiatisuk-cung-dan-tro-ly-hagl-thanh-thoi-truoc-them-dau-cahn-188-371270.html',\n",
       " 'https://bongda24h.vn/hau-truong/madam-pang-phu-nhan-can-thiep-vao-viec-chuyen-mon-cua-dt-thai-lan-188-371204.html',\n",
       " 'https://bongda24h.vn/tin-nong/ngoc-nu-wushu-duong-thuy-vi-bo-ngo-tuong-lai-279-371169.html',\n",
       " 'https://bongda24h.vn/bong-da-anh/hanh-dong-dep-cua-haaland-voi-doi-bong-cu-172-371162.html',\n",
       " 'https://bongda24h.vn/bong-da-viet-nam/hagl-nhan-cu-hich-tinh-than-to-lon-truoc-tran-dai-chien-clb-cahn-168-370877.html']"
      ]
     },
     "execution_count": 6,
     "metadata": {},
     "output_type": "execute_result"
    }
   ],
   "source": [
    "test"
   ]
  },
  {
   "cell_type": "code",
   "execution_count": 9,
   "id": "0cd15904",
   "metadata": {},
   "outputs": [
    {
     "data": {
      "text/plain": [
       "'Thứ Năm 30/11/2023 05:24(GMT+7)'"
      ]
     },
     "execution_count": 9,
     "metadata": {},
     "output_type": "execute_result"
    }
   ],
   "source": [
    "url = 'https://bongda24h.vn/bong-da-chau-au/dieu-kien-nao-de-mu-co-the-vuot-qua-vong-bang-champions-league-184-371866.html'\n",
    "response = requests.get(url)\n",
    "time.sleep(6)\n",
    "soup = BeautifulSoup(response.content, 'html.parser')\n",
    "soup.find('h1').next_sibling.text.strip()"
   ]
  },
  {
   "cell_type": "code",
   "execution_count": null,
   "id": "a2810397-42cf-4799-bd84-9a3382598c21",
   "metadata": {},
   "outputs": [],
   "source": []
  }
 ],
 "metadata": {
  "kernelspec": {
   "display_name": "Python 3 (ipykernel)",
   "language": "python",
   "name": "python3"
  },
  "language_info": {
   "codemirror_mode": {
    "name": "ipython",
    "version": 3
   },
   "file_extension": ".py",
   "mimetype": "text/x-python",
   "name": "python",
   "nbconvert_exporter": "python",
   "pygments_lexer": "ipython3",
   "version": "3.11.5"
  }
 },
 "nbformat": 4,
 "nbformat_minor": 5
}
