{
 "cells": [
  {
   "cell_type": "code",
   "execution_count": 1,
   "id": "a6447aa7-9367-46aa-9855-12b1da8f4aad",
   "metadata": {},
   "outputs": [],
   "source": [
    "import requests \n",
    "import time\n",
    "import re\n",
    "from datetime import datetime\n",
    "from bs4 import BeautifulSoup,NavigableString, Comment"
   ]
  },
  {
   "cell_type": "code",
   "execution_count": 2,
   "id": "6dc06a68-3da8-4c7f-ac1b-da8590226e39",
   "metadata": {},
   "outputs": [],
   "source": [
    "def convert_string(input_str):\n",
    "    # Regular expression pattern to match a date in the format dd-mm-yyyy\n",
    "    pattern = r'\\b\\d{2}/\\d{2}/\\d{4}\\b'\n",
    "    \n",
    "    # Search for the pattern in the string\n",
    "    match = re.search(pattern, input_str)\n",
    "    if match:\n",
    "    # Extract and print the date if found\n",
    "        date_str = match.group(0)\n",
    "        date_obj = datetime.strptime(date_str, '%d/%m/%Y')\n",
    "        date =  date_obj.strftime('%Y-%m-%d')\n",
    "\n",
    "        return date\n",
    "    else:\n",
    "        'No date found'    \n",
    "#convert time string to datetime object\n",
    "def convert_time_string(posted_date):\n",
    "    # Regular expression pattern to match a date in the format dd-mm-yyyy\n",
    "    pattern = r'\\b\\d{2}/\\d{2}/\\d{4}\\b'\n",
    "\n",
    "    # Search for the pattern in the string and extract the date\n",
    "    match = re.search(pattern, posted_date)\n",
    "    if match:\n",
    "        date_str = match.group(0)\n",
    "        # Convert the extracted date string to datetime object\n",
    "        date_obj = datetime.strptime(date_str, '%d/%m/%Y')\n",
    "        return date_obj\n",
    "    else:\n",
    "        return None "
   ]
  },
  {
   "cell_type": "code",
   "execution_count": 3,
   "id": "57de81b5-a885-4818-8b9c-e6c6cce47689",
   "metadata": {},
   "outputs": [],
   "source": [
    "response = requests.get('https://bongda24h.vn/hau-truong-c188-p1.html')\n",
    "soup = BeautifulSoup(response.content, 'html.parser')"
   ]
  },
  {
   "cell_type": "code",
   "execution_count": 8,
   "id": "ceb3c685-e16f-45dd-8b1e-5ade7de41cc1",
   "metadata": {},
   "outputs": [],
   "source": [
    "featured_posts = soup.find('div', class_ = 'post-featured')\n",
    "urls = []\n",
    "for i in featured_posts:\n",
    "    path = i.find('h2').find('a')['href']\n",
    "    url = 'https://bongda24h.vn/' + path\n",
    "    urls.append(url)\n",
    "section_content = soup.find_all('div"
   ]
  },
  {
   "cell_type": "code",
   "execution_count": 9,
   "id": "e3448f65-f972-48e1-b30b-6e64cbb83dc5",
   "metadata": {},
   "outputs": [
    {
     "data": {
      "text/plain": [
       "['https://bongda24h.vn//tin-nong/miss-golf-le-thanh-tu-va-bai-hoc-tu-huyen-thoai-golf-279-371679.html',\n",
       " 'https://bongda24h.vn//hau-truong/filip-nguyen-tiet-lo-chuyen-tinh-voi-nguoi-ban-doi-xinh-dep-188-371621.html',\n",
       " 'https://bongda24h.vn//tin-nong/hong-son-kim-hue-xuat-hien-tai-vinpearl-dic-legends-vietnam-2023-279-371605.html',\n",
       " 'https://bongda24h.vn//hau-truong/hanh-dong-am-ap-cua-van-hau-voi-doan-hai-my-trong-tiec-cuoi-188-371556.html']"
      ]
     },
     "execution_count": 9,
     "metadata": {},
     "output_type": "execute_result"
    }
   ],
   "source": [
    "urls"
   ]
  },
  {
   "cell_type": "code",
   "execution_count": null,
   "id": "4ce869ab-60a1-46aa-9636-3fe9bfcaa7a4",
   "metadata": {},
   "outputs": [],
   "source": []
  }
 ],
 "metadata": {
  "kernelspec": {
   "display_name": "Python 3 (ipykernel)",
   "language": "python",
   "name": "python3"
  },
  "language_info": {
   "codemirror_mode": {
    "name": "ipython",
    "version": 3
   },
   "file_extension": ".py",
   "mimetype": "text/x-python",
   "name": "python",
   "nbconvert_exporter": "python",
   "pygments_lexer": "ipython3",
   "version": "3.11.5"
  }
 },
 "nbformat": 4,
 "nbformat_minor": 5
}
