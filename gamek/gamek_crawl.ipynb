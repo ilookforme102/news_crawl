{
 "cells": [
  {
   "cell_type": "code",
   "execution_count": 147,
   "id": "3040e030-3259-4043-8ced-99e5600d39a1",
   "metadata": {},
   "outputs": [],
   "source": [
    "import requests \n",
    "import time\n",
    "import re\n",
    "from datetime import datetime\n",
    "from bs4 import BeautifulSoup,NavigableString, Comment\n",
    "def convert_string(input_str):\n",
    "    # Regular expression pattern to match a date in the format dd-mm-yyyy\n",
    "    pattern = r'\\b\\d{2}/\\d{2}/\\d{4}\\b'\n",
    "    \n",
    "    # Search for the pattern in the string\n",
    "    match = re.search(pattern, input_str)\n",
    "    if match:\n",
    "    # Extract and print the date if found\n",
    "        date_str = match.group(0)\n",
    "        date_obj = datetime.strptime(date_str, '%d/%m/%Y')\n",
    "        date =  date_obj.strftime('%Y-%m-%d')\n",
    "\n",
    "        return date\n",
    "    else:\n",
    "        'No date found'    \n",
    "#convert time string to datetime object\n",
    "def convert_time_string(posted_date):\n",
    "    # Regular expression pattern to match a date in the format dd-mm-yyyy\n",
    "    pattern = r'\\b\\d{2}/\\d{2}/\\d{4}\\b'\n",
    "\n",
    "    # Search for the pattern in the string and extract the date\n",
    "    match = re.search(pattern, posted_date)\n",
    "    if match:\n",
    "        date_str = match.group(0)\n",
    "        # Convert the extracted date string to datetime object\n",
    "        date_obj = datetime.strptime(date_str, '%d/%m/%Y')\n",
    "        return date_obj\n",
    "    else:\n",
    "        return None \n",
    "def get_time_string(date_str):\n",
    "    if len(date_str)<=5:\n",
    "        crawl_time = datetime.fromtimestamp(time.time())\n",
    "        year = str(crawl_time.year)\n",
    "        date_str = date_str+\"/\"+year\n",
    "        date_obj = datetime.strptime(date_str, '%d/%m/%Y')\n",
    "        date =  date_obj.strftime('%Y-%m-%d')\n",
    "    else:\n",
    "        date = convert_string(date_str)\n",
    "        date_obj = datetime.strptime(date,'%Y-%m-%d')\n",
    "    return date_obj, date\n",
    "\n",
    "\n",
    "def remove_div(article):\n",
    "    divs = article.find_all('div')\n",
    "    empty_divs = [div for div in divs if not div.text.strip() and not div.contents]\n",
    "    if not empty_divs:\n",
    "        return  # No more empty divs, stop recursion\n",
    "    for div in empty_divs:\n",
    "        div.decompose()\n",
    "def get_content_gamek(url):\n",
    "    # def get_content_autodaily()\n",
    "    response = requests.get(url)\n",
    "    soup = BeautifulSoup(response.content, 'html.parser')\n",
    "    title = soup.find('div', class_ = 'topdetail').find('h1').text.strip()\n",
    "    date = soup.find('p', class_ = 'mgt15').text.strip()\n",
    "    published_date = convert_string(date)\n",
    "    article = soup.find('div', class_ = 'rightdetail')\n",
    "    for script_or_style in article(['script', 'style','iframe']):\n",
    "        script_or_style.decompose()\n",
    "    source_element  = article.find('div', class_ = 'link-source-wrapper is-web clearfix mb20')\n",
    "    source_element.decompose()\n",
    "    related_news = article.find('div', class_ = 'VCSortableInPreviewMode link-content-footer IMSCurrentEditorEditObject')\n",
    "    related_news.decompose()\n",
    "    video_captions = article.find_all('div', class_ = 'VideoCMS_Caption')\n",
    "    for caption in video_captions:\n",
    "        caption.decompose()\n",
    "    figures = article.find_all('figure',class_ = 'VCSortableInPreviewMode')\n",
    "    for figure in figures:\n",
    "        img = figure.find('img')\n",
    "        new_img = soup.new_tag('img')\n",
    "        new_img['style'] = \"text-align: center;\"\n",
    "        new_img['src'] = img['data-original']\n",
    "        new_img['alt'] = img['alt']\n",
    "        img.insert_before(new_img)\n",
    "        img.decompose()\n",
    "    for i in article.find_all('img'):\n",
    "            i['class'] = \"aligncenter\"\n",
    "    source_tag = soup.new_tag('i') \n",
    "    source_tag.string = \"Nguồn: gamek.vn\"  # Set the content of <i> tag\n",
    "    article.append(source_tag)\n",
    "    for i in article.find_all('div', style=\"display: none\"):\n",
    "        i.decompose()\n",
    "    a_tags = article.find_all('a')\n",
    "    for a_tag in a_tags:\n",
    "        if len(a_tag.contents) == 1 and a_tag.find('img'):\n",
    "            a_tag['href'] = 'javascript:void(0)'\n",
    "        else:\n",
    "            tag_text = a_tag.get_text()\n",
    "            # Replace the tag with its text content\n",
    "            a_tag.replace_with(tag_text)\n",
    "            a_tag.text.strip()\n",
    "    for i in article.find_all(recursive = True):\n",
    "        if i.name not in ['figcaption', 'img']:\n",
    "            try:\n",
    "                del i['onclick']\n",
    "                del i['id']\n",
    "                del i['class']\n",
    "                del i['style']\n",
    "            except AttributeError:\n",
    "                continue\n",
    "            except TypeError:\n",
    "                continue\n",
    "    tags_to_remove = article.find_all(['span'])\n",
    "    for tag in tags_to_remove:\n",
    "        # Extract the text from the tag\n",
    "        tag_text = tag.get_text()\n",
    "        # Replace the tag with its text content\n",
    "        tag.replace_with(tag_text)\n",
    "        tag.text.strip()\n",
    "    for script_or_style in article(['script', 'style']):\n",
    "        script_or_style.decompose()\n",
    "    return article, title, published_date\n",
    "def get_post(url):\n",
    "    try:\n",
    "        content,title,published_date = get_content_gamek(url) \n",
    "        return content,title,published_date\n",
    "    except AttributeError as e:\n",
    "        print(e)\n",
    "    \n",
    "def get_list_url(cate_url):\n",
    "    response = requests.get(cate_url)\n",
    "    time.sleep(3)\n",
    "    soup = BeautifulSoup(response.content, 'html.parser')\n",
    "    urls = []\n",
    "    try:\n",
    "        link_element = soup.find('div', class_ = 'newsupdate mgt0')\n",
    "        list = link_element.find_all('li', class_ = 'top')\n",
    "        for i in list:\n",
    "            path = i.find('a')['href']\n",
    "            url = 'https://gamek.vn' + path\n",
    "            urls.append(url)\n",
    "    except AttributeError:\n",
    "        link_element = soup.find('div', class_ = 'list_left').find_all('ul')\n",
    "        link_element[1].decompose()\n",
    "        for ul in link_element:\n",
    "            list_url = ul.find_all('li')\n",
    "            for li in list_url:\n",
    "                path = li.find('a')['href']\n",
    "                url = 'https://gamek.vn' + path\n",
    "                urls.append(url)\n",
    "    return urls\n",
    "def filter_list(urls):\n",
    "    filtered_urls = []\n",
    "    crawl_time = datetime.fromtimestamp(time.time()-4*24*3600)\n",
    "    for i in range(0,len(urls)):\n",
    "        try:\n",
    "            published_date = get_content_gamek(urls[i])[2]\n",
    "            date_posted_norm = datetime.strptime(published_date, '%Y-%m-%d')\n",
    "            if ( (date_posted_norm.day == crawl_time.day) and (date_posted_norm.month == crawl_time.month) and (date_posted_norm.year == crawl_time.year) ):\n",
    "                filtered_urls.append(urls[i])\n",
    "                #print(i)\n",
    "        except AttributeError as e:\n",
    "            print(e)\n",
    "            continue\n",
    "    return filtered_urls\n",
    "#add list url to json\n",
    "#add list url to json\n",
    "def add_list(web_json_obj):\n",
    "    for i in list(web_json_obj['urls'].keys()):\n",
    "        for j in list(web_json_obj['urls'][i]['sub-category'].keys()):  \n",
    "            urls = get_list_url(web_json_obj['urls'][i]['sub-category'][j]['url'])\n",
    "            print(i,j,web_json_obj['urls'][i]['sub-category'][j]['url'])\n",
    "            web_json_obj['urls'][i]['sub-category'][j]['url_list'] = filter_list(urls)\n",
    "# add post content from get content function to json object\n",
    "def add_post(web_json_obj):\n",
    "    for i in list(web_json_obj['urls'].keys()):\n",
    "        for j in list(web_json_obj['urls'][i]['sub-category'].keys()):\n",
    "            web_json_obj['urls'][i]['sub-category'][j]['content'] = {}\n",
    "            list_key = [v for v in range(0,len(web_json_obj['urls'][i]['sub-category'][j]['url_list']))]\n",
    "            for u in list_key:\n",
    "                web_json_obj['urls'][i]['sub-category'][j]['content'][u] = {}\n",
    "                if u != \"\":\n",
    "                    web_json_obj['urls'][i]['sub-category'][j]['content'][u]['text'] ,web_json_obj['urls'][i]['sub-category'][j]['content'][u]['title'],web_json_obj['urls'][i]['sub-category'][j]['content'][u]['published_date'] = get_post(web_json_obj['urls'][i]['sub-category'][j]['url_list'][u])\n",
    "                    print(i,j,web_json_obj['urls'][i]['sub-category'][j]['cate_id'],web_json_obj['urls'][i]['sub-category'][j]['name'],web_json_obj['urls'][i]['sub-category'][j]['name'],web_json_obj['urls'][i]['sub-category'][j]['content'][u]['title'],web_json_obj['urls'][i]['sub-category'][j]['url_list'][u])\n",
    "#add all necessary information to json object\n",
    "def get_news_gamek():\n",
    "    _gamek= {\n",
    "            \"home_page\":\"https://gamek.vn/\",\n",
    "            \"urls\":{\n",
    "                \"Esport\":\n",
    "                {\n",
    "                 \"url\":\"https://gamek.vn/#\",\n",
    "                 \"sub-category\":{  \n",
    "                    0:{\"name\":\"LMHT\",\n",
    "                    \"url\":\"https://gamek.vn/lien-minh-huyen-thoai.htm\",\n",
    "                    \"cate_id\":61,\n",
    "                    \"url_list\" : []},\n",
    "                    1:{\"name\":\"Liên quân Mobile\",\n",
    "                    \"url\":\"https://gamek.vn/lien-quan-mobile.htm\",\n",
    "                    \"cate_id\":61,\n",
    "                    \"url_list\" : []},\n",
    "                    2:{\"name\":\"LMHT Tốc chiến\",\n",
    "                    \"url\":\"https://gamek.vn/toc-chien.htm\",\n",
    "                    \"cate_id\":61,\n",
    "                    \"url_list\" : []},\n",
    "                    3:{\"name\":\"Game Online\",\n",
    "                    \"url\":\"https://gamek.vn/game-online.chn\",\n",
    "                    \"cate_id\":61,\n",
    "                    \"url_list\" : []},\n",
    "                    4:{\"name\":\"PC/Console\",\n",
    "                    \"url\":\"https://gamek.vn/pc-console.chn\",\n",
    "                    \"cate_id\":61,\n",
    "                    \"url_list\" : []}\n",
    "                }\n",
    "            }\n",
    "        }\n",
    "    }\n",
    "#\n",
    "    add_list(_gamek)\n",
    "    add_post(_gamek)\n",
    "    return _gamek\n",
    "#send post content to wordpress via endpoint\n",
    "def send_post_to_5goals(title,content,category_id,published_date):\n",
    "    # URL of the API endpoint (this is a placeholder and needs to be replaced with the actual URL)\n",
    "    url = \"https://api2023.5goal.com/wp-json/custom/createPost\"\n",
    "    \n",
    "    # Data to be sent in the POST request\n",
    "    data = {\n",
    "        \"title\": title,\n",
    "        \"content\": content,\n",
    "        \"category_id\": category_id,\n",
    "        \"token\": 'draftpost',#'5goalvodichcmnl',  \n",
    "        # Replace with your actual access token\n",
    "        \"published_date\": published_date,\n",
    "        \"domain\":\"eva\"\n",
    "          # Replace with the actual category ID as required\n",
    "    }\n",
    "    \n",
    "    # Sending the POST request\n",
    "    response = requests.post(url, data=data)\n",
    "    \n",
    "    # Checking the response\n",
    "    if response.status_code == 200:\n",
    "        print(\"The post was successfully created.\")\n",
    "        print(\"Response:\", response.text)  # Prints the response text from the server\n",
    "    else:\n",
    "        print(f\"Failed to create the post. Status code: {response.status_code}\")\n",
    "def main():\n",
    "    _gamek = get_news_gamek()\n",
    "    for i in list(_gamek['urls'].keys()):\n",
    "    #web_24h_com_vn2['url'][i]['cate_id']\n",
    "        for j in list(_gamek['urls'][i]['sub-category'].keys()):\n",
    "            url_list =  _gamek['urls'][i]['sub-category'][j]['url_list']\n",
    "            print(url_list)\n",
    "            for t in range(0,len(url_list)):\n",
    "                content = _gamek['urls'][i]['sub-category'][j]['content'][t]['text']\n",
    "                title = _gamek['urls'][i]['sub-category'][j]['content'][t]['title']\n",
    "                published_date = _gamek['urls'][i]['sub-category'][j]['content'][t]['published_date']\n",
    "                cate_id = _gamek['urls'][i]['sub-category'][j]['cate_id']\n",
    "                print(title, url_list[t])\n",
    "                #send_post_to_5goals(title,str(content), cate_id, published_date)\n",
    "                try:\n",
    "                    text_len = len(content.text)\n",
    "                    if text_len <450:\n",
    "                        print(content.text)\n",
    "                        continue\n",
    "                    else:\n",
    "                        send_post_to_5goals(title,str(content),cate_id,published_date)\n",
    "                        print(\"Good job, well done!!!\")\n",
    "                except (AttributeError,TypeError):\n",
    "                    continue\n",
    "if __name__ == '__main__':\n",
    "    main()"
   ]
  },
  {
   "cell_type": "code",
   "execution_count": 148,
   "id": "61851166-475e-440b-8c6c-aa4986592314",
   "metadata": {
    "scrolled": true
   },
   "outputs": [
    {
     "name": "stdout",
     "output_type": "stream",
     "text": [
      "Esport 0 https://gamek.vn/lien-minh-huyen-thoai.htm\n",
      "Esport 1 https://gamek.vn/lien-quan-mobile.htm\n",
      "Esport 2 https://gamek.vn/toc-chien.htm\n",
      "Esport 3 https://gamek.vn/game-online.chn\n",
      "Esport 4 https://gamek.vn/pc-console.chn\n",
      "'NoneType' object has no attribute 'decompose'\n",
      "Esport 3 61 Game Online Game Online Những tựa game đáng chú ý nhất khép lại năm 2023, ít siêu phẩm nhưng chất lượng thì đáng nể https://gamek.vn/nhung-tua-game-dang-chu-y-nhat-khep-lai-nam-2023-it-sieu-pham-nhung-chat-luong-thi-dang-ne-178231207144532414.chn\n",
      "Esport 3 61 Game Online Game Online Cha đẻ PUBG tung tiền tấn để cứu vớt siêu phẩm, tránh phải đóng cửa chỉ sau một năm https://gamek.vn/cha-de-pubg-tung-tien-tan-de-cuu-vot-sieu-pham-tranh-phai-dong-cua-chi-sau-mot-nam-178231206153106246.chn\n",
      "Esport 3 61 Game Online Game Online Nạp cả trăm triệu vào game, người chơi hoảng hốt khi NPH \"bỏ của chạy lấy người\" https://gamek.vn/nap-ca-tram-trieu-vao-game-nguoi-choi-hoang-hot-khi-nph-bo-cua-chay-lay-nguoi-178231206113120697.chn\n",
      "Esport 3 61 Game Online Game Online Bị mỉa mai thậm tệ vì cơ chế tìm trận, NPH game vội lên tiếng, lại nhận thêm nhiều phản ứng hơn https://gamek.vn/bi-mia-mai-tham-te-vi-co-che-tim-tran-nph-game-voi-len-tieng-lai-nhan-them-nhieu-phan-ung-hon-178231206102542928.chn\n",
      "Esport 4 61 PC/Console PC/Console 10 tựa game hay nhất thế giới trong suốt 1 thập kỷ qua (P2) https://gamek.vn/10-tua-game-hay-nhat-the-gioi-trong-suot-1-thap-ky-qua-p2-178231207164834582.chn\n",
      "Esport 4 61 PC/Console PC/Console Tổng hợp điểm số Avatar, game bom tấn thế giới mở cuối năm 2023 https://gamek.vn/tong-hop-diem-so-avatar-game-bom-tan-the-gioi-mo-cuoi-nam-2023-178231207153650984.chn\n",
      "[]\n",
      "[]\n",
      "[]\n",
      "['https://gamek.vn/nhung-tua-game-dang-chu-y-nhat-khep-lai-nam-2023-it-sieu-pham-nhung-chat-luong-thi-dang-ne-178231207144532414.chn', 'https://gamek.vn/cha-de-pubg-tung-tien-tan-de-cuu-vot-sieu-pham-tranh-phai-dong-cua-chi-sau-mot-nam-178231206153106246.chn', 'https://gamek.vn/nap-ca-tram-trieu-vao-game-nguoi-choi-hoang-hot-khi-nph-bo-cua-chay-lay-nguoi-178231206113120697.chn', 'https://gamek.vn/bi-mia-mai-tham-te-vi-co-che-tim-tran-nph-game-voi-len-tieng-lai-nhan-them-nhieu-phan-ung-hon-178231206102542928.chn']\n",
      "Những tựa game đáng chú ý nhất khép lại năm 2023, ít siêu phẩm nhưng chất lượng thì đáng nể https://gamek.vn/nhung-tua-game-dang-chu-y-nhat-khep-lai-nam-2023-it-sieu-pham-nhung-chat-luong-thi-dang-ne-178231207144532414.chn\n",
      "The post was successfully created.\n",
      "Response: {\"success\":true,\"post_id\":68929}\n",
      "Good job, well done!!!\n",
      "Cha đẻ PUBG tung tiền tấn để cứu vớt siêu phẩm, tránh phải đóng cửa chỉ sau một năm https://gamek.vn/cha-de-pubg-tung-tien-tan-de-cuu-vot-sieu-pham-tranh-phai-dong-cua-chi-sau-mot-nam-178231206153106246.chn\n",
      "The post was successfully created.\n",
      "Response: {\"success\":true,\"post_id\":68930}\n",
      "Good job, well done!!!\n",
      "Nạp cả trăm triệu vào game, người chơi hoảng hốt khi NPH \"bỏ của chạy lấy người\" https://gamek.vn/nap-ca-tram-trieu-vao-game-nguoi-choi-hoang-hot-khi-nph-bo-cua-chay-lay-nguoi-178231206113120697.chn\n",
      "The post was successfully created.\n",
      "Response: {\"success\":true,\"post_id\":68931}\n",
      "Good job, well done!!!\n",
      "Bị mỉa mai thậm tệ vì cơ chế tìm trận, NPH game vội lên tiếng, lại nhận thêm nhiều phản ứng hơn https://gamek.vn/bi-mia-mai-tham-te-vi-co-che-tim-tran-nph-game-voi-len-tieng-lai-nhan-them-nhieu-phan-ung-hon-178231206102542928.chn\n",
      "The post was successfully created.\n",
      "Response: {\"success\":true,\"post_id\":68932}\n",
      "Good job, well done!!!\n",
      "['https://gamek.vn/10-tua-game-hay-nhat-the-gioi-trong-suot-1-thap-ky-qua-p2-178231207164834582.chn', 'https://gamek.vn/tong-hop-diem-so-avatar-game-bom-tan-the-gioi-mo-cuoi-nam-2023-178231207153650984.chn']\n",
      "10 tựa game hay nhất thế giới trong suốt 1 thập kỷ qua (P2) https://gamek.vn/10-tua-game-hay-nhat-the-gioi-trong-suot-1-thap-ky-qua-p2-178231207164834582.chn\n",
      "The post was successfully created.\n",
      "Response: {\"success\":false,\"error_message\":\"B\\u00e0i vi\\u1ebft \\u0111\\u00e3 t\\u1ed3n t\\u1ea1i.\"}\n",
      "Good job, well done!!!\n",
      "Tổng hợp điểm số Avatar, game bom tấn thế giới mở cuối năm 2023 https://gamek.vn/tong-hop-diem-so-avatar-game-bom-tan-the-gioi-mo-cuoi-nam-2023-178231207153650984.chn\n",
      "The post was successfully created.\n",
      "Response: {\"success\":false,\"error_message\":\"B\\u00e0i vi\\u1ebft \\u0111\\u00e3 t\\u1ed3n t\\u1ea1i.\"}\n",
      "Good job, well done!!!\n"
     ]
    }
   ],
   "source": [
    "main()"
   ]
  },
  {
   "cell_type": "code",
   "execution_count": 149,
   "id": "5be40005-934c-492d-b2b4-07819fc80444",
   "metadata": {},
   "outputs": [
    {
     "data": {
      "text/plain": [
       "(<div class=\"rightdetail\"><h2 data-field=\"sapo\" data-role=\"sapo\">Tựa game tuổi thơ của không ít game thủ cũng có câu chuyện hành trình đầy uẩn khúc và đặc biệt.</h2><zone></zone><div data-check-position=\"gamek_detail_position_start\"></div><div data-field=\"body\" data-role=\"content\"><p>Đối với thế hệ 8-9x, đặc biệt là những người đã từng trải qua quãng thời gian \"chinh chiến\" đầy máu lửa với các tựa game của điện tử 4 nút, Contra có lẽ là cái tên thường xuyên được nhắc tới nhất. Cũng dễ hiểu khi ở thời điểm mới ra mắt, Contra nhanh chóng được coi là một trong những tựa game hành động hạng A với sự đơn giản nhưng lại hợp lý tới kỳ lạ. Thành công vang dội của Contra thậm chí còn giúp cho Konami vươn mình trở thành một trong những nhà phát hành game nổi tiếng nhất trên toàn cầu.</p><figure type=\"Photo\"><img alt=\"photo-1701760680292\" class=\"aligncenter\" src=\"https://gamek.mediacdn.vn/133514250583805952/2023/12/5/photo-1701760680292-17017606803831356505377.png\" style=\"text-align: center;\"/><figcaption class=\"PhotoCMS_Caption\"><p data-placeholder=\"Nhập chú thích ảnh\"></p></figcaption></figure><p>Nhưng rồi theo thời gian, Contra cũng dần đi vào quên lãng. Không phải vì Konami thiếu đầu tư, bỏ quên cho series này. Thay vào đó, những bước phát triển của Contra sau này đã chẳng còn được như kỳ vọng. Khi thập niên 90 trôi qua và thế hệ máy chơi game đời mới trỗi dậy, Contra vẫn đang là một trong những cái tên rất được ưa thích. Ở thời điểm ấy, những phiên bản Contra 3D liên tục ra đời nhưng thay vì được phát triển bởi Konami như trước, chúng lại được tạo dựng bởi công ty Appaloosa Interactive của Hungary. Thế nên, không khó hiểu khi hai phần game Contra: Legacy of War năm 1996 và C: The Contra Adventure năm 1998 đều thất bại thảm hại.</p><figure type=\"Photo\"><img alt=\"photo-1701760666820\" class=\"aligncenter\" src=\"https://gamek.mediacdn.vn/133514250583805952/2023/12/5/photo-1701760666820-17017606669521308770530.png\" style=\"text-align: center;\"/><figcaption class=\"PhotoCMS_Caption\"><p data-placeholder=\"Nhập chú thích ảnh\"></p></figcaption></figure><p>Hình ảnh kém hấp dẫn, lối chơi nhạt nhẽo và sự kém chất lượng trong tổng thể đã khiến hai dự án này đều nhận vô số chỉ trích. Năm 2002, ngay sau khi ra mắt PlayStation 2, Konami tiếp tục trở lại với loạt series về Contra như cách thực hiện chính sách thắt lưng buộc bụng của mình. Trò chơi mang tên Shattered Soldier và sau đó là Neo Contra. Cả hai dự án đều gặt hái được một số thành công đáng kể. Nhưng thật không may, Konami sau đó mất dần hứng thú với series này. Để rồi Contra 4, được phát triển bởi Wayforward Technologies vào năm 2007 cũng như Contra Rebirth do M2 phát triển cũng đều nhận được những đánh giá tích cực. Từ 2009-2017, Konami phát hành thêm ba trò chơi Contra trên thiết bị di động nhưng đều không tạo được hiệu ứng đáng kể.</p><figure type=\"Photo\"><img alt=\"photo-1701760660129\" class=\"aligncenter\" src=\"https://gamek.mediacdn.vn/133514250583805952/2023/12/5/photo-1701760660129-17017606604841627589072.png\" style=\"text-align: center;\"/><figcaption class=\"PhotoCMS_Caption\"><p data-placeholder=\"Nhập chú thích ảnh\"></p></figcaption></figure><p>Ở thời điểm hiện tại, Contra dường như đã bị nhà phát hành này lãng quên và mặc dù không còn giữ được sức hút như ngày xưa, thế nhưng vẫn còn đó hy vọng một ngày nào đó, Konami sẽ tiếp tục hồi sinh thương hiệu đình đám này như một cách để tri ân và chiều lòng các fan hâm mộ lâu năm của mình.https://gamek.vn/nhung-ly-do-khien-contra-tuong-dai-mot-thoi-nay-chi-con-la-hoai-niem-voi-game-thu-178231205141837042.chn <zone></zone><zone></zone><div data-check-position=\"gamek_detail_position_end\"></div><div></div></p></div><i>Nguồn: gamek.vn</i></div>,\n",
       " 'Những lý do khiến Contra - tượng đài một thời nay chỉ còn là hoài niệm với game thủ',\n",
       " '2023-12-06')"
      ]
     },
     "execution_count": 149,
     "metadata": {},
     "output_type": "execute_result"
    }
   ],
   "source": [
    "get_content_gamek('https://gamek.vn/nhung-ly-do-khien-contra-tuong-dai-mot-thoi-nay-chi-con-la-hoai-niem-voi-game-thu-178231205141837042.chn')"
   ]
  },
  {
   "cell_type": "code",
   "execution_count": 146,
   "id": "0adae9e5-d4a8-4127-afe2-48460cb43a5d",
   "metadata": {},
   "outputs": [],
   "source": [
    "def get_list_url(cate_url):\n",
    "    response = requests.get(cate_url)\n",
    "    time.sleep(3)\n",
    "    soup = BeautifulSoup(response.content, 'html.parser')\n",
    "    urls = []\n",
    "    try:\n",
    "        link_element = soup.find('div', class_ = 'newsupdate mgt0')\n",
    "        list = link_element.find_all('li', class_ = 'top')\n",
    "        for i in list:\n",
    "            path = i.find('a')['href']\n",
    "            url = 'https://gamek.vn' + path\n",
    "            urls.append(url)\n",
    "    except AttributeError:\n",
    "        link_element = soup.find('div', class_ = 'list_left').find_all('ul')\n",
    "        link_element[1].decompose()\n",
    "        for ul in link_element:\n",
    "            list_url = ul.find_all('li')\n",
    "            for li in list_url:\n",
    "                path = li.find('a')['href']\n",
    "                url = 'https://gamek.vn' + path\n",
    "                urls.append(url)\n",
    "    return urls\n"
   ]
  },
  {
   "cell_type": "code",
   "execution_count": 145,
   "id": "4f5a3d40-a9ec-42ae-b643-fe4c26a25a24",
   "metadata": {},
   "outputs": [
    {
     "name": "stdout",
     "output_type": "stream",
     "text": [
      "https://gamek.vn/ni-no-kuni-cross-worlds-tu-canh-tranh-voi-genshin-impact-toi-ke-bi-game-thu-toan-cau-che-bai-vi-tinh-nang-nft-202205311903256.chn\n",
      "https://gamek.vn/nguoi-choi-viet-nam-cay-game-nft-nhieu-thu-5-the-gioi-20220607123237646.chn\n",
      "https://gamek.vn/tua-game-indie-poppy-playtime-vuong-vao-chi-trich-khi-phat-hanh-phien-ban-nfts-20220524230543848.chn\n",
      "https://gamek.vn/nyan-heroes-game-nft-dau-tien-cho-phep-ban-tham-gia-vao-dau-truong-battle-royale-20220522211704352.chn\n",
      "https://gamek.vn/viet-nam-chinh-thuc-co-hiep-hoi-blockchain-hua-hen-lam-cau-noi-dua-nen-kinh-te-so-viet-ra-voi-the-gioi-20220517173553054.chn\n",
      "https://gamek.vn/overleague-tua-game-dua-xe-blockchain-hoan-toan-mien-phi-voi-cot-truyen-va-gameplay-doc-dao-ra-mat-20220516120316619.chn\n",
      "https://gamek.vn/tatsumeeko-game-nft-nhap-vai-cuc-hot-thu-hut-ca-tram-nghin-game-thu-20220514224645565.chn\n",
      "https://gamek.vn/moi-sieu-dev-cua-nhieu-bom-tan-ve-lam-viec-sieu-pham-game-nft-quyet-tam-choi-lon-hua-hen-la-game-aaa-bung-no-20220510160505836.chn\n"
     ]
    },
    {
     "data": {
      "text/plain": [
       "[]"
      ]
     },
     "execution_count": 145,
     "metadata": {},
     "output_type": "execute_result"
    }
   ],
   "source": [
    "get_list_url('https://gamek.vn/game-nft.htm')"
   ]
  },
  {
   "cell_type": "code",
   "execution_count": 150,
   "id": "eb788cb6-2839-4f20-8849-86969861b09e",
   "metadata": {},
   "outputs": [],
   "source": [
    "def get_content_gamek(url):\n",
    "    # def get_content_autodaily()\n",
    "    response = requests.get(url)\n",
    "    soup = BeautifulSoup(response.content, 'html.parser')\n",
    "    title = soup.find('div', class_ = 'topdetail').find('h1').text.strip()\n",
    "    date = soup.find('p', class_ = 'mgt15').text.strip()\n",
    "    published_date = convert_string(date)\n",
    "    article = soup.find('div', class_ = 'rightdetail')\n",
    "    for script_or_style in article(['script', 'style','iframe']):\n",
    "        script_or_style.decompose()\n",
    "    source_element  = article.find('div', class_ = 'link-source-wrapper is-web clearfix mb20')\n",
    "    source_element.decompose()\n",
    "    related_news = article.find('div', class_ = 'VCSortableInPreviewMode link-content-footer IMSCurrentEditorEditObject')\n",
    "    related_news.decompose()\n",
    "    video_captions = article.find_all('div', class_ = 'VideoCMS_Caption')\n",
    "    for caption in video_captions:\n",
    "        caption.decompose()\n",
    "    figures = article.find_all('figure',class_ = 'VCSortableInPreviewMode')\n",
    "    for figure in figures:\n",
    "        img = figure.find('img')\n",
    "        new_img = soup.new_tag('img')\n",
    "        new_img['style'] = \"text-align: center;\"\n",
    "        new_img['src'] = img['data-original']\n",
    "        new_img['alt'] = img['alt']\n",
    "        img.insert_before(new_img)\n",
    "        img.decompose()\n",
    "    for i in article.find_all('img'):\n",
    "            i['class'] = \"aligncenter\"\n",
    "    source_tag = soup.new_tag('i') \n",
    "    source_tag.string = \"Nguồn: gamek.vn\"  # Set the content of <i> tag\n",
    "    article.append(source_tag)\n",
    "    for i in article.find_all('div', style=\"display: none\"):\n",
    "        i.decompose()\n",
    "    a_tags = article.find_all('a')\n",
    "    for a_tag in a_tags:\n",
    "        if len(a_tag.contents) == 1 and a_tag.find('img'):\n",
    "            a_tag['href'] = 'javascript:void(0)'\n",
    "        else:\n",
    "            tag_text = a_tag.get_text()\n",
    "            # Replace the tag with its text content\n",
    "            a_tag.replace_with(tag_text)\n",
    "            a_tag.text.strip()\n",
    "    for i in article.find_all(recursive = True):\n",
    "        if i.name != 'figcaption':\n",
    "            try:\n",
    "                del i['onclick']\n",
    "                del i['id']\n",
    "                del i['class']\n",
    "                del i['style']\n",
    "            except AttributeError:\n",
    "                continue\n",
    "            except TypeError:\n",
    "                continue\n",
    "    tags_to_remove = article.find_all(['span'])\n",
    "    for tag in tags_to_remove:\n",
    "        # Extract the text from the tag\n",
    "        tag_text = tag.get_text()\n",
    "        # Replace the tag with its text content\n",
    "        tag.replace_with(tag_text)\n",
    "        tag.text.strip()\n",
    "    for script_or_style in article(['script', 'style']):\n",
    "        script_or_style.decompose()\n",
    "    return article, title, published_date"
   ]
  },
  {
   "cell_type": "code",
   "execution_count": 151,
   "id": "05b18e09-3caa-4cba-9a6b-8da0e2d41a14",
   "metadata": {},
   "outputs": [
    {
     "data": {
      "text/plain": [
       "<div class=\"rightdetail\"><h2 data-field=\"sapo\" data-role=\"sapo\">Dàn sao T1 luôn biết cách làm content mỗi khi có cơ hội.</h2><zone></zone><div data-check-position=\"gamek_detail_position_start\"></div><div data-field=\"body\" data-role=\"content\"><p>Như đã biết, vừa qua, T1 đã phải tham dự một sự kiện có thể gọi là fan meeting do nhãn hàng RedBull - nhà tài trợ của T1, tổ chức tại Đức. Với tính chất một giải đấu showmatch, tất nhiên kết quả không thực sự quá quan trọng. Hơn nữa, các tuyển thủ T1 chắc chắn cũng sẽ nhân cơ hội này để tranh thủ du lịch nghỉ dưỡng sau một mùa giải căng thẳng cũng như chuẩn bị tinh thần và tâm lý cho năm 2024 được dự đoán là vô cùng cam go.</p><figure type=\"Photo\"><div><img alt=\"T1 tham dự sự kiện do RedBull tổ chức tại Đức\" src=\"https://gamek.mediacdn.vn/133514250583805952/2023/12/10/zeus-t1-checkvar-1-17021942385711439044791.jpg\"/></div><figcaption class=\"PhotoCMS_Caption\"><p data-placeholder=\"Nhập chú thích ảnh\">T1 tham dự sự kiện do RedBull tổ chức tại Đức</p></figcaption></figure><p>Tất nhiên với tính chất một trận giao hữu, các tuyển thủ T1 cũng không việc gì phải thực sự quá nghiêm túc. Ngay trong các trận đấu này, dàn sao T1 cũng \"tranh thủ\" làm content nhiệt tình. Tiêu biểu có thể kể đến như việc T1 đồng loạt sử dụng skin của chính đội nhà xuyên suốt các kỳ CKTG, hay Gumayusi cuối cùng cũng có cơ hội được cầm Cho'Gath đi Đường Dưới trong một trận đấu thuộc LMHT chuyên nghiệp cấp độ quốc tế.</p><figure type=\"Photo\"><div><img alt=\"Trận showmatch nên các tuyển thủ cũng có những lựa chọn mang tính giải trí\" src=\"https://gamek.mediacdn.vn/133514250583805952/2023/12/10/zeus-t1-checkvar-2-17021942385531481610394.png\"/></div><figcaption class=\"PhotoCMS_Caption\"><p data-placeholder=\"Nhập chú thích ảnh\">Trận showmatch nên các tuyển thủ cũng có những lựa chọn mang tính giải trí</p></figcaption></figure><p>Nhưng đáng chú ý phải kể đến chính là màn \"check VAR\" ngay trước trận của Zeus. Cụ thể, có lẽ không rõ đối thủ mà mình đối đầu là ai, nên anh chàng quyết định tìm kiếm thông tin về đối thủ ngay trên... YouTube. Trên thực tế, hành động này vốn không được phép trong LMHT chuyên nghiệp. Khi các tuyển thủ được ngồi vào máy, họ sẽ phải kiểm tra thiết bị, chắc chắn rằng không có bất kỳ sai sót hay vấn đề nào nữa. Sau đó là tập trung vào trận đấu. Kể cả khi các trận đấu gặp sự cố phải tạm hoãn, thì các tuyển thủ cũng không được có bất kỳ thao tác nào lên máy.<div data-autoplay=\"false\" data-contentid=\"\" data-displaymode=\"0\" data-height=\"400px\" data-info=\"d615c7d26bb8108587393b460f84a9ea\" data-layout=\"square\" data-location=\"\" data-namespace=\"gamek\" data-originalid=\"\" data-removedlogo=\"false\" data-thumb=\"https://gamek.mediacdn.vn/133514250583805952/2023/12/10/.binh-luan-1702194468521881873660.mp4.jpg\" data-version=\"1\" data-vid=\"gamek.mediacdn.vn/133514250583805952/2023/12/10/binh-luan-1702194468521881873660.mp4\" data-width=\"600px\" embed-type=\"4\" type=\"VideoStream\"></div><p>Nhưng có lẽ, do tính chất chỉ là giao hữu, nên hành động của Zeus không những không bị trách phạt mà còn khiến khán giả vô cùng thích thú. Thực tế, vì tính chất showmatch nên các trận đấu thường không quá quan trọng và các đối thủ đôi khi cũng là vô danh hoặc không có nhiều dữ liệu trên các chuyên trang tra cứu. Do đó, có lẽ đây là cách nhanh chóng nhất mà Zeus có thể nghĩ ra để biết đối thủ là ai mà thôi.<br/><zone></zone><zone></zone><div data-check-position=\"gamek_detail_position_end\"></div><div></div></p></p></div><i>Nguồn: gamek.vn</i></div>"
      ]
     },
     "execution_count": 151,
     "metadata": {},
     "output_type": "execute_result"
    }
   ],
   "source": [
    "get_content_gamek('https://gamek.vn/thi-dau-giao-huu-zeus-van-co-man-check-var-lo-lieu-the-nay-day-178231210023158871.chn')[0]"
   ]
  },
  {
   "cell_type": "code",
   "execution_count": 138,
   "id": "490096d7-e366-41bc-a81f-ffaa3f74dca6",
   "metadata": {},
   "outputs": [
    {
     "name": "stdout",
     "output_type": "stream",
     "text": [
      "https://gamek.vn/hinh-anh-dan-sao-t1-tai-giai-showmatch-khien-fan-xot-xa-chi-trich-bld-doi-vi-lich-chay-show-hanh-xac-178231210184031603.chn\n",
      "https://gamek.vn/thi-dau-giao-huu-zeus-van-co-man-check-var-lo-lieu-the-nay-day-178231210023158871.chn\n",
      "https://gamek.vn/nghich-ly-lmht-faker-co-nhieu-skin-hon-ca-nhung-vi-tuong-rat-duoc-yeu-thich-17823121001505082.chn\n",
      "https://gamek.vn/mua-giai-moi-chua-bat-dau-fan-t1-da-nhan-tin-xau-lien-quan-faker-178231209162701709.chn\n",
      "https://gamek.vn/sao-tre-cua-vcs-tung-thi-dau-tai-lck-tiep-tuc-mat-hut-blv-hoang-luan-chot-nhan-xet-phu-nhung-that-17823120900070987.chn\n",
      "https://gamek.vn/gumayusi-da-khang-dinh-vai-tro-cuc-ky-quan-trong-tai-t1-chi-bang-mot-cau-noi-hua-hen-ke-vi-faker-178231209001143432.chn\n",
      "https://gamek.vn/blv-hoang-luan-nhan-dinh-mot-sieu-sao-t1-co-the-dat-giai-player-of-the-year-2023-khong-phai-faker-178231208144122684.chn\n",
      "https://gamek.vn/vo-dich-cktg-2023-fan-phat-hien-t1-lap-luon-thanh-tich-kho-do-178231208173052453.chn\n"
     ]
    }
   ],
   "source": [
    "response = requests.get('https://gamek.vn/lien-minh-huyen-thoai.htm')\n",
    "soup = BeautifulSoup(response.content, 'html.parser')\n",
    "link_element = soup.find('div', class_ = 'list_left').find_all('ul')\n",
    "link_element[1].decompose()\n",
    "for ul in link_element:\n",
    "    list_url = ul.find_all('li')\n",
    "    for li in list_url:\n",
    "        path = li.find('a')['href']\n",
    "        url = 'https://gamek.vn' + path\n",
    "        print(url)\n",
    "    \n",
    "    "
   ]
  },
  {
   "cell_type": "code",
   "execution_count": 131,
   "id": "3d4e28a1-9e7e-4dad-b1c2-3975b7f28090",
   "metadata": {},
   "outputs": [
    {
     "ename": "KeyError",
     "evalue": "0",
     "output_type": "error",
     "traceback": [
      "\u001b[1;31m---------------------------------------------------------------------------\u001b[0m",
      "\u001b[1;31mKeyError\u001b[0m                                  Traceback (most recent call last)",
      "Cell \u001b[1;32mIn[131], line 1\u001b[0m\n\u001b[1;32m----> 1\u001b[0m link_element[\u001b[38;5;241m0\u001b[39m]\n",
      "File \u001b[1;32m~\\anaconda3\\Lib\\site-packages\\bs4\\element.py:1573\u001b[0m, in \u001b[0;36mTag.__getitem__\u001b[1;34m(self, key)\u001b[0m\n\u001b[0;32m   1570\u001b[0m \u001b[38;5;28;01mdef\u001b[39;00m \u001b[38;5;21m__getitem__\u001b[39m(\u001b[38;5;28mself\u001b[39m, key):\n\u001b[0;32m   1571\u001b[0m \u001b[38;5;250m    \u001b[39m\u001b[38;5;124;03m\"\"\"tag[key] returns the value of the 'key' attribute for the Tag,\u001b[39;00m\n\u001b[0;32m   1572\u001b[0m \u001b[38;5;124;03m    and throws an exception if it's not there.\"\"\"\u001b[39;00m\n\u001b[1;32m-> 1573\u001b[0m     \u001b[38;5;28;01mreturn\u001b[39;00m \u001b[38;5;28mself\u001b[39m\u001b[38;5;241m.\u001b[39mattrs[key]\n",
      "\u001b[1;31mKeyError\u001b[0m: 0"
     ]
    }
   ],
   "source": [
    "link_element[0]"
   ]
  },
  {
   "cell_type": "code",
   "execution_count": 133,
   "id": "1b6e2baa-201d-44d6-acc7-d1c293b7d65f",
   "metadata": {},
   "outputs": [
    {
     "data": {
      "text/plain": [
       "<div class=\"list_left\"><ul data-marked-zoneid=\"gamek_game_b3\"><li><a href=\"/hinh-anh-dan-sao-t1-tai-giai-showmatch-khien-fan-xot-xa-chi-trich-bld-doi-vi-lich-chay-show-hanh-xac-178231210184031603.chn\" title='Hình ảnh dàn sao T1 tại giải showmatch khiến fan xót xa, chỉ trích BLĐ đội vì lịch chạy show \"hành xác\"'> <img alt='Hình ảnh dàn sao T1 tại giải showmatch khiến fan xót xa, chỉ trích BLĐ đội vì lịch chạy show \"hành xác\"' src=\"https://gamek.mediacdn.vn/zoom/252_142/133514250583805952/2023/12/10/t1-tuyenthu-6-170220819827222370936-0-0-562-900-crop-1702208339328887826354.png\"/> </a><div class=\"list_content\"><a class=\"list_title\" href=\"/hinh-anh-dan-sao-t1-tai-giai-showmatch-khien-fan-xot-xa-chi-trich-bld-doi-vi-lich-chay-show-hanh-xac-178231210184031603.chn\" title='Hình ảnh dàn sao T1 tại giải showmatch khiến fan xót xa, chỉ trích BLĐ đội vì lịch chạy show \"hành xác\"'>Hình ảnh dàn sao T1 tại giải showmatch khiến fan xót xa, chỉ trích BLĐ đội vì lịch chạy show \"hành xác\"</a><p class=\"list_des\">Các tuyển thủ T1 thực sự đã quá kiệt sức.</p><span class=\"timeago\" title=\"12/10/2023 19:01:00\"></span></div><div class=\"clear_all\"></div><li><a href=\"/thi-dau-giao-huu-zeus-van-co-man-check-var-lo-lieu-the-nay-day-178231210023158871.chn\" title='Thi đấu giao hữu, Zeus vẫn có màn \"check VAR\" lộ liễu thế này đây'> <img alt='Thi đấu giao hữu, Zeus vẫn có màn \"check VAR\" lộ liễu thế này đây' src=\"https://gamek.mediacdn.vn/zoom/252_142/133514250583805952/2023/12/10/zeus-t1-checkvar-4-17021942384512066642876-0-0-375-600-crop-1702198867040580860830.png\"/> </a><div class=\"list_content\"><a class=\"list_title\" href=\"/thi-dau-giao-huu-zeus-van-co-man-check-var-lo-lieu-the-nay-day-178231210023158871.chn\" title='Thi đấu giao hữu, Zeus vẫn có màn \"check VAR\" lộ liễu thế này đây'>Thi đấu giao hữu, Zeus vẫn có màn \"check VAR\" lộ liễu thế này đây</a><p class=\"list_des\">Dàn sao T1 luôn biết cách làm content mỗi khi có cơ hội.</p><span class=\"timeago\" title=\"12/10/2023 16:11:00\"></span></div><div class=\"clear_all\"></div><li><a href=\"/nghich-ly-lmht-faker-co-nhieu-skin-hon-ca-nhung-vi-tuong-rat-duoc-yeu-thich-17823121001505082.chn\" title=\"Nghịch lý LMHT: Faker có nhiều skin hơn cả những vị tướng rất được yêu thích\"> <img alt=\"Nghịch lý LMHT: Faker có nhiều skin hơn cả những vị tướng rất được yêu thích\" src=\"https://gamek.mediacdn.vn/zoom/252_142/133514250583805952/2023/12/10/faker-skin-tuonglmht-5-17021789318201196564647-0-0-562-900-crop-1702179253880385794012.png\"/> </a><div class=\"list_content\"><a class=\"list_title\" href=\"/nghich-ly-lmht-faker-co-nhieu-skin-hon-ca-nhung-vi-tuong-rat-duoc-yeu-thich-17823121001505082.chn\" title=\"Nghịch lý LMHT: Faker có nhiều skin hơn cả những vị tướng rất được yêu thích\">Nghịch lý LMHT: Faker có nhiều skin hơn cả những vị tướng rất được yêu thích</a><p class=\"list_des\">Có lẽ không còn ai dám phủ nhận việc Faker là G.O.A.T của tựa game LMHT nữa.</p><span class=\"timeago\" title=\"12/10/2023 11:19:00\"></span></div><div class=\"clear_all\"></div><li><a href=\"/mua-giai-moi-chua-bat-dau-fan-t1-da-nhan-tin-xau-lien-quan-faker-178231209162701709.chn\" title=\"Mùa giải mới chưa bắt đầu, fan T1 đã nhận tin xấu liên quan Faker\"> <img alt=\"Mùa giải mới chưa bắt đầu, fan T1 đã nhận tin xấu liên quan Faker\" src=\"https://gamek.mediacdn.vn/zoom/252_142/133514250583805952/2023/12/9/t1-faker-chanthuong-5-17021137865431189176183-38-0-601-900-crop-1702113891328734768190.png\"/> </a><div class=\"list_content\"><a class=\"list_title\" href=\"/mua-giai-moi-chua-bat-dau-fan-t1-da-nhan-tin-xau-lien-quan-faker-178231209162701709.chn\" title=\"Mùa giải mới chưa bắt đầu, fan T1 đã nhận tin xấu liên quan Faker\">Mùa giải mới chưa bắt đầu, fan T1 đã nhận tin xấu liên quan Faker</a><p class=\"list_des\">Faker lại khiến fan T1 như \"ngồi trên đống lửa\".</p><span class=\"timeago\" title=\"12/09/2023 19:09:00\"></span></div><div class=\"clear_all\"></div></li></li></li></li></ul><ul data-marked-zoneid=\"gamek_game_b4\"><li><div class=\"top_hot_video\"><div class=\"top_big\"><div class=\"top_title\"><h2>TOP video hay</h2></div><a href=\"/7-thu-chung-minh-nghich-menh-su-da-la-dinh-cao-nhat-cua-dong-game-chien-thuat-tam-quoc-tai-viet-nam-roi-dung-tim-them-nua-20201003131133209.chn\" title=\"7 thứ chứng minh Nghịch Mệnh Sư đã là đỉnh cao nhất của dòng game chiến thuật Tam Quốc tại Việt Nam rồi, đừng tìm thêm nữa\">7 thứ chứng minh Nghịch Mệnh Sư đã là đỉnh cao nhất của dòng game chiến thuật Tam Quốc tại Việt Nam rồi, đừng tìm thêm nữa</a><p>Nghịch Mệnh Sư sẽ ra mắt vào 9/10, xưng Vương dòng game chiến thuật.</p></div><a class=\"videotop2\" href=\"/7-thu-chung-minh-nghich-menh-su-da-la-dinh-cao-nhat-cua-dong-game-chien-thuat-tam-quoc-tai-viet-nam-roi-dung-tim-them-nua-20201003131133209.chn\" title=\"7 thứ chứng minh Nghịch Mệnh Sư đã là đỉnh cao nhất của dòng game chiến thuật Tam Quốc tại Việt Nam rồi, đừng tìm thêm nữa\"> <span class=\"icon_play spritetag\"></span> <img alt=\"7 thứ chứng minh Nghịch Mệnh Sư đã là đỉnh cao nhất của dòng game chiến thuật Tam Quốc tại Việt Nam rồi, đừng tìm thêm nữa\" src=\"https://gamek.mediacdn.vn/zoom/392_222/133514250583805952/2020/10/3/qv-1601703086399651129370.gif\"/> </a><div class=\"clear_all\"></div><ul><li><a href=\"/pha-vo-ap-luc-bai-hat-cua-dau-truong-danh-vong-mua-dong-2020-gay-sot-voi-su-gop-mat-cua-tage-klaf-va-rhymastic-20200924105616647.chn\" title=\"'Phá Vỡ Áp Lực' - Bài hát của Đấu Trường Danh Vọng mùa Đông 2020 gây sốt với sự góp mặt của Tage, KLAF và Rhymastic\"> <img alt=\"'Phá Vỡ Áp Lực' - Bài hát của Đấu Trường Danh Vọng mùa Đông 2020 gây sốt với sự góp mặt của Tage, KLAF và Rhymastic\" src=\"https://gamek.mediacdn.vn/zoom/214_121/133514250583805952/2020/9/24/photo-1-16009193419951489349706.jpg\"/> </a> <a href=\"/pha-vo-ap-luc-bai-hat-cua-dau-truong-danh-vong-mua-dong-2020-gay-sot-voi-su-gop-mat-cua-tage-klaf-va-rhymastic-20200924105616647.chn\" title=\"'Phá Vỡ Áp Lực' - Bài hát của Đấu Trường Danh Vọng mùa Đông 2020 gây sốt với sự góp mặt của Tage, KLAF và Rhymastic\">'Phá Vỡ Áp Lực' - Bài hát của Đấu Trường Danh Vọng mùa Đông 2020 gây sốt với sự góp mặt của Tage, KLAF và Rhymastic</a><li><a href=\"/video-vietsub-dang-cap-la-mai-mai-faker-moi-dan-em-teddy-an-ngap-chao-hanh-voi-tuong-tu-leblanc-20191229233335279.chn\" title=\"(Video Vietsub) Đẳng cấp là mãi mãi: Faker mời đàn em Teddy ăn ngập cháo hành với tướng tủ Leblanc\"> <img alt=\"(Video Vietsub) Đẳng cấp là mãi mãi: Faker mời đàn em Teddy ăn ngập cháo hành với tướng tủ Leblanc\" src=\"https://gamek.mediacdn.vn/zoom/214_121/2019/12/29/faker-1577636808740561485547.jpg\"/> </a> <a href=\"/video-vietsub-dang-cap-la-mai-mai-faker-moi-dan-em-teddy-an-ngap-chao-hanh-voi-tuong-tu-leblanc-20191229233335279.chn\" title=\"(Video Vietsub) Đẳng cấp là mãi mãi: Faker mời đàn em Teddy ăn ngập cháo hành với tướng tủ Leblanc\">(Video Vietsub) Đẳng cấp là mãi mãi: Faker mời đàn em Teddy ăn ngập cháo hành với tướng tủ Leblanc</a><li><a href=\"/video-vietsub-faker-va-bjergsen-gui-loi-chuc-nam-moi-cho-nhau-mong-chung-ta-se-cung-thanh-cong-hen-gap-lai-tai-cktg-20191226000214482.chn\" title=\"(Video Vietsub) Faker và Bjergsen gửi lời chúc năm mới cho nhau: 'Mong chúng ta sẽ cùng thành công, hẹn gặp lại tại CKTG'\"> <img alt=\"(Video Vietsub) Faker và Bjergsen gửi lời chúc năm mới cho nhau: 'Mong chúng ta sẽ cùng thành công, hẹn gặp lại tại CKTG'\" src=\"https://gamek.mediacdn.vn/zoom/214_121/2019/12/25/faker-157729308607487773509.jpg\"/> </a> <a href=\"/video-vietsub-faker-va-bjergsen-gui-loi-chuc-nam-moi-cho-nhau-mong-chung-ta-se-cung-thanh-cong-hen-gap-lai-tai-cktg-20191226000214482.chn\" title=\"(Video Vietsub) Faker và Bjergsen gửi lời chúc năm mới cho nhau: 'Mong chúng ta sẽ cùng thành công, hẹn gặp lại tại CKTG'\">(Video Vietsub) Faker và Bjergsen gửi lời chúc năm mới cho nhau: 'Mong chúng ta sẽ cùng thành công, hẹn gặp lại tại CKTG'</a><li><a href=\"/video-vietsub-tuong-nghiem-tuc-la-the-nhung-ngoai-doi-faker-cung-co-nhung-khoanh-khac-de-thuong-the-nay-day-2019122415055217.chn\" title=\"(Video Vietsub) Tưởng nghiêm túc là thế, nhưng ngoài đời, Faker cũng có những khoảnh khắc dễ thương thế này đây\"> <img alt=\"(Video Vietsub) Tưởng nghiêm túc là thế, nhưng ngoài đời, Faker cũng có những khoảnh khắc dễ thương thế này đây\" src=\"https://gamek.mediacdn.vn/zoom/214_121/2019/12/24/skt-faker-chiling-1024x724-1489642924230-15771746921832005781532.jpg\"/> </a> <a href=\"/video-vietsub-tuong-nghiem-tuc-la-the-nhung-ngoai-doi-faker-cung-co-nhung-khoanh-khac-de-thuong-the-nay-day-2019122415055217.chn\" title=\"(Video Vietsub) Tưởng nghiêm túc là thế, nhưng ngoài đời, Faker cũng có những khoảnh khắc dễ thương thế này đây\">(Video Vietsub) Tưởng nghiêm túc là thế, nhưng ngoài đời, Faker cũng có những khoảnh khắc dễ thương thế này đây</a><li><a href=\"/video-vietsub-teddy-quay-tung-rank-han-voi-tuong-moi-aphelios-khang-dinh-tuong-nay-loi-nang-20191222105217826.chn\" title='(Video Vietsub) Teddy quẩy tung rank Hàn với tướng mới Aphelios, khẳng định \"Tướng này lỗi nặng\"'> <img alt='(Video Vietsub) Teddy quẩy tung rank Hàn với tướng mới Aphelios, khẳng định \"Tướng này lỗi nặng\"' src=\"https://gamek.mediacdn.vn/zoom/214_121/2019/12/22/maxresdefault-1576986671756400068198.jpg\"/> </a> <a href=\"/video-vietsub-teddy-quay-tung-rank-han-voi-tuong-moi-aphelios-khang-dinh-tuong-nay-loi-nang-20191222105217826.chn\" title='(Video Vietsub) Teddy quẩy tung rank Hàn với tướng mới Aphelios, khẳng định \"Tướng này lỗi nặng\"'>(Video Vietsub) Teddy quẩy tung rank Hàn với tướng mới Aphelios, khẳng định \"Tướng này lỗi nặng\"</a><li><a href=\"/video-vietsub-t1-teddy-sep-moi-cua-t1-rat-tot-bung-dac-biet-lai-con-dep-trai-nua-20191222000326763.chn\" title=\"(Video Vietsub) T1 Teddy: 'Sếp mới của T1 rất tốt bụng, đặc biệt lại còn đẹp trai nữa'\"> <img alt=\"(Video Vietsub) T1 Teddy: 'Sếp mới của T1 rất tốt bụng, đặc biệt lại còn đẹp trai nữa'\" src=\"https://gamek.mediacdn.vn/zoom/214_121/2019/12/21/teddy-15769473930152016787703.jpg\"/> </a> <a href=\"/video-vietsub-t1-teddy-sep-moi-cua-t1-rat-tot-bung-dac-biet-lai-con-dep-trai-nua-20191222000326763.chn\" title=\"(Video Vietsub) T1 Teddy: 'Sếp mới của T1 rất tốt bụng, đặc biệt lại còn đẹp trai nữa'\">(Video Vietsub) T1 Teddy: 'Sếp mới của T1 rất tốt bụng, đặc biệt lại còn đẹp trai nữa'</a></li></li></li></li></li></li></ul><a class=\"see_more\" href=\"/video-lmht.htm\">Xem thêm...</a><div class=\"clear_all\"></div></div></li></ul><ul data-marked-zoneid=\"gamek_game_b5\" id=\"loadListData\"><li><a href=\"/sao-tre-cua-vcs-tung-thi-dau-tai-lck-tiep-tuc-mat-hut-blv-hoang-luan-chot-nhan-xet-phu-nhung-that-17823120900070987.chn\" title='Sao trẻ của VCS từng thi đấu tại LCK tiếp tục mất hút, BLV Hoàng Luân chốt nhận xét \"phũ nhưng thật\"'> <img alt='Sao trẻ của VCS từng thi đấu tại LCK tiếp tục mất hút, BLV Hoàng Luân chốt nhận xét \"phũ nhưng thật\"' src=\"https://gamek.mediacdn.vn/zoom/252_142/133514250583805952/2023/12/9/tlong-vcs-lck-hoangluan-5-1702099486968670131587-0-0-562-900-crop-170210942715935824466.png\"/> </a><div class=\"list_content\"><a class=\"list_title\" href=\"/sao-tre-cua-vcs-tung-thi-dau-tai-lck-tiep-tuc-mat-hut-blv-hoang-luan-chot-nhan-xet-phu-nhung-that-17823120900070987.chn\" title='Sao trẻ của VCS từng thi đấu tại LCK tiếp tục mất hút, BLV Hoàng Luân chốt nhận xét \"phũ nhưng thật\"'>Sao trẻ của VCS từng thi đấu tại LCK tiếp tục mất hút, BLV Hoàng Luân chốt nhận xét \"phũ nhưng thật\"</a><p class=\"list_des\">Có vẻ tuyển thủ trẻ từng rất triển vọng của VCS này vẫn sẽ tiếp tục vắng mặt ở mùa giải mới.</p><span class=\"timeago\" title=\"12/09/2023 15:34:00\"></span></div><div class=\"clear_all\"></div><li><a href=\"/gumayusi-da-khang-dinh-vai-tro-cuc-ky-quan-trong-tai-t1-chi-bang-mot-cau-noi-hua-hen-ke-vi-faker-178231209001143432.chn\" title=\"Gumayusi đã khẳng định vai trò cực kỳ quan trọng tại T1 chỉ bằng một câu nói, hứa hẹn kế vị Faker\"> <img alt=\"Gumayusi đã khẳng định vai trò cực kỳ quan trọng tại T1 chỉ bằng một câu nói, hứa hẹn kế vị Faker\" src=\"https://gamek.mediacdn.vn/zoom/252_142/133514250583805952/2023/12/9/gumayusi-t1-5-17020945351341250194964-0-0-563-900-crop-1702098326547621131864.png\"/> </a><div class=\"list_content\"><a class=\"list_title\" href=\"/gumayusi-da-khang-dinh-vai-tro-cuc-ky-quan-trong-tai-t1-chi-bang-mot-cau-noi-hua-hen-ke-vi-faker-178231209001143432.chn\" title=\"Gumayusi đã khẳng định vai trò cực kỳ quan trọng tại T1 chỉ bằng một câu nói, hứa hẹn kế vị Faker\">Gumayusi đã khẳng định vai trò cực kỳ quan trọng tại T1 chỉ bằng một câu nói, hứa hẹn kế vị Faker</a><p class=\"list_des\">Gumayusi thực sự đang chứng tỏ tầm ảnh hưởng tại T1.</p><span class=\"timeago\" title=\"12/09/2023 12:41:00\"></span></div><div class=\"clear_all\"></div><li><a href=\"/blv-hoang-luan-nhan-dinh-mot-sieu-sao-t1-co-the-dat-giai-player-of-the-year-2023-khong-phai-faker-178231208144122684.chn\" title=\"BLV Hoàng Luân nhận định một siêu sao T1 có thể đạt giải Player of the year 2023, không phải Faker\"> <img alt=\"BLV Hoàng Luân nhận định một siêu sao T1 có thể đạt giải Player of the year 2023, không phải Faker\" src=\"https://gamek.mediacdn.vn/zoom/252_142/133514250583805952/2023/12/8/blvhoangluan-lckawards-6-1702027450767854156073-0-0-562-900-crop-17020506383871823881475.png\"/> </a><div class=\"list_content\"><a class=\"list_title\" href=\"/blv-hoang-luan-nhan-dinh-mot-sieu-sao-t1-co-the-dat-giai-player-of-the-year-2023-khong-phai-faker-178231208144122684.chn\" title=\"BLV Hoàng Luân nhận định một siêu sao T1 có thể đạt giải Player of the year 2023, không phải Faker\">BLV Hoàng Luân nhận định một siêu sao T1 có thể đạt giải Player of the year 2023, không phải Faker</a><p class=\"list_des\">Dù vậy, nhận định của BLV Hoàng Luân lại được nhiều fan T1 ủng hộ.</p><span class=\"timeago\" title=\"12/08/2023 22:55:00\"></span></div><div class=\"clear_all\"></div><li><a href=\"/vo-dich-cktg-2023-fan-phat-hien-t1-lap-luon-thanh-tich-kho-do-178231208173052453.chn\" title='Vô địch CKTG 2023, fan phát hiện T1 lập luôn thành tích \"khó đỡ\"'> <img alt='Vô địch CKTG 2023, fan phát hiện T1 lập luôn thành tích \"khó đỡ\"' src=\"https://gamek.mediacdn.vn/zoom/252_142/133514250583805952/2023/12/8/t1-lckmuahe-5-17020309272492024401321-0-0-562-900-crop-17020312561261151955915.png\"/> </a><div class=\"list_content\"><a class=\"list_title\" href=\"/vo-dich-cktg-2023-fan-phat-hien-t1-lap-luon-thanh-tich-kho-do-178231208173052453.chn\" title='Vô địch CKTG 2023, fan phát hiện T1 lập luôn thành tích \"khó đỡ\"'>Vô địch CKTG 2023, fan phát hiện T1 lập luôn thành tích \"khó đỡ\"</a><p class=\"list_des\">Có lẽ trừ T1, không đội tuyển nào có thể lập nổi thành tích này.</p><span class=\"timeago\" title=\"12/08/2023 20:33:00\"></span></div><div class=\"clear_all\"></div></li></li></li></li></ul><div class=\"fb-loading-wrapper\" id=\"IconLoadListTag\" style=\"max-width:700px;display:none\"><div class=\"fblw-timeline-item\"><div class=\"fblwti-animated\"><div class=\"fblwtia-mask fblwtia-title-line fblwtia-title-mask-0\"></div><div class=\"fblwtia-mask fblwtia-sepline-sapo fblwtia-sapo-line-0\"></div><div class=\"fblwtia-mask fblwtia-sepline-sapo fblwtia-sepline-sapo-0\"></div><div class=\"fblwtia-mask fblwtia-title-line fblwtia-title-mask-1\"></div><div class=\"fblwtia-mask fblwtia-sepline-sapo fblwtia-sapo-line-1\"></div><div class=\"fblwtia-mask fblwtia-sepline-sapo fblwtia-sepline-sapo-1\"></div><div class=\"fblwtia-mask fblwtia-front-mask fblwtia-front-mask-2\"></div><div class=\"fblwtia-mask fblwtia-sapo-line fblwtia-sapo-line-2\"></div><div class=\"fblwtia-mask fblwtia-sepline-sapo fblwtia-sepline-sapo-2\"></div><div class=\"fblwtia-mask fblwtia-front-mask fblwtia-front-mask-3\"></div><div class=\"fblwtia-mask fblwtia-sapo-line fblwtia-sapo-line-3\"></div><div class=\"fblwtia-mask fblwtia-sepline-sapo fblwtia-sepline-sapo-3\"></div><div class=\"fblwtia-mask fblwtia-front-mask fblwtia-front-mask-4\"></div><div class=\"fblwtia-mask fblwtia-sapo-line fblwtia-sapo-line-4\"></div><div class=\"fblwtia-mask fblwtia-sepline-sapo fblwtia-sepline-sapo-4\"></div></div></div></div><div class=\"btn_continue\"><a href=\"javascript:\" onclick=\"loadListTag('lien-minh-huyen-thoai')\" title=\"Xem thêm\">Xem thêm</a></div></div>"
      ]
     },
     "execution_count": 133,
     "metadata": {},
     "output_type": "execute_result"
    }
   ],
   "source": [
    "soup.find('div', class_ = 'list_left')"
   ]
  },
  {
   "cell_type": "code",
   "execution_count": 81,
   "id": "039a8a62-9627-46c0-afc5-8386181a8257",
   "metadata": {},
   "outputs": [
    {
     "data": {
      "text/plain": [
       "<div class=\"rightdetail\"><h2 data-field=\"sapo\" data-role=\"sapo\">Dàn sao T1 luôn biết cách làm content mỗi khi có cơ hội.</h2><zone id=\"admzonek9yy7w7l\"></zone><div data-check-position=\"gamek_detail_position_start\"></div><div class=\"rightdetail_content detailsmallcontent\" data-field=\"body\" data-role=\"content\"><p>Như đã biết, vừa qua, <a class=\"link-inline-content\" data-rel=\"follow\" href=\"https://gamek.vn/mua-giai-moi-chua-bat-dau-fan-t1-da-nhan-tin-xau-lien-quan-faker-178231209162701709.chn\" target=\"_blank\" title=\"T1\">T1</a> đã phải tham dự một sự kiện có thể gọi là fan meeting do nhãn hàng RedBull - nhà tài trợ của T1, tổ chức tại Đức. Với tính chất một giải đấu showmatch, tất nhiên kết quả không thực sự quá quan trọng. Hơn nữa, các tuyển thủ T1 chắc chắn cũng sẽ nhân cơ hội này để tranh thủ du lịch nghỉ dưỡng sau một mùa giải căng thẳng cũng như chuẩn bị tinh thần và tâm lý cho năm 2024 được dự đoán là vô cùng cam go.</p><figure class=\"VCSortableInPreviewMode\" type=\"Photo\"><div><img alt=\"T1 tham dự sự kiện do RedBull tổ chức tại Đức\" src=\"https://gamek.mediacdn.vn/133514250583805952/2023/12/10/zeus-t1-checkvar-1-17021942385711439044791.jpg\" style=\"text-align: center;\"/></div><figcaption class=\"PhotoCMS_Caption\"><p class=\"NLPlaceholderShow\" data-placeholder=\"Nhập chú thích ảnh\">T1 tham dự sự kiện do RedBull tổ chức tại Đức</p></figcaption></figure><p>Tất nhiên với tính chất một trận giao hữu, các tuyển thủ T1 cũng không việc gì phải thực sự quá nghiêm túc. Ngay trong các trận đấu này, dàn sao T1 cũng \"tranh thủ\" làm content nhiệt tình. Tiêu biểu có thể kể đến như việc T1 đồng loạt sử dụng skin của chính đội nhà xuyên suốt các kỳ CKTG, hay Gumayusi cuối cùng cũng có cơ hội được cầm Cho'Gath đi Đường Dưới trong một trận đấu thuộc LMHT chuyên nghiệp cấp độ quốc tế.</p><figure class=\"VCSortableInPreviewMode\" type=\"Photo\"><div><img alt=\"Trận showmatch nên các tuyển thủ cũng có những lựa chọn mang tính giải trí\" src=\"https://gamek.mediacdn.vn/133514250583805952/2023/12/10/zeus-t1-checkvar-2-17021942385531481610394.png\" style=\"text-align: center;\"/></div><figcaption class=\"PhotoCMS_Caption\"><p class=\"NLPlaceholderShow\" data-placeholder=\"Nhập chú thích ảnh\">Trận showmatch nên các tuyển thủ cũng có những lựa chọn mang tính giải trí</p></figcaption></figure><p>Nhưng đáng chú ý phải kể đến chính là màn \"check VAR\" ngay trước trận của <a class=\"link-inline-content\" data-rel=\"follow\" href=\"https://gamek.vn/zeus-chuan-bi-tahm-kench-duong-tren-nhung-khong-duoc-su-dung-hoa-ra-tung-bop-gumayusi-178231204180351368.chn\" target=\"_blank\" title=\"Zeus\">Zeus</a>. Cụ thể, có lẽ không rõ đối thủ mà mình đối đầu là ai, nên anh chàng quyết định tìm kiếm thông tin về đối thủ ngay trên... YouTube. Trên thực tế, hành động này vốn không được phép trong LMHT chuyên nghiệp. Khi các tuyển thủ được ngồi vào máy, họ sẽ phải kiểm tra thiết bị, chắc chắn rằng không có bất kỳ sai sót hay vấn đề nào nữa. Sau đó là tập trung vào trận đấu. Kể cả khi các trận đấu gặp sự cố phải tạm hoãn, thì các tuyển thủ cũng không được có bất kỳ thao tác nào lên máy.<div class=\"VCSortableInPreviewMode\" data-autoplay=\"false\" data-contentid=\"\" data-displaymode=\"0\" data-height=\"400px\" data-info=\"d615c7d26bb8108587393b460f84a9ea\" data-layout=\"square\" data-location=\"\" data-namespace=\"gamek\" data-originalid=\"\" data-removedlogo=\"false\" data-thumb=\"https://gamek.mediacdn.vn/133514250583805952/2023/12/10/.binh-luan-1702194468521881873660.mp4.jpg\" data-version=\"1\" data-vid=\"gamek.mediacdn.vn/133514250583805952/2023/12/10/binh-luan-1702194468521881873660.mp4\" data-width=\"600px\" embed-type=\"4\" type=\"VideoStream\"></div><p>Nhưng có lẽ, do tính chất chỉ là giao hữu, nên hành động của Zeus không những không bị trách phạt mà còn khiến khán giả vô cùng thích thú. Thực tế, vì tính chất showmatch nên các trận đấu thường không quá quan trọng và các đối thủ đôi khi cũng là vô danh hoặc không có nhiều dữ liệu trên các chuyên trang tra cứu. Do đó, có lẽ đây là cách nhanh chóng nhất mà Zeus có thể nghĩ ra để biết đối thủ là ai mà thôi.<br/><zone id=\"admzonekj8f6sxi\"></zone><zone id=\"admzonek1fsdv6o\"></zone><div data-check-position=\"gamek_detail_position_end\"></div><div id=\"gate_game_vote\"></div></p></p></div></div>"
      ]
     },
     "execution_count": 81,
     "metadata": {},
     "output_type": "execute_result"
    }
   ],
   "source": [
    "article"
   ]
  },
  {
   "cell_type": "code",
   "execution_count": 56,
   "id": "7442da20-9b5d-4995-bc80-92d488840fb8",
   "metadata": {},
   "outputs": [
    {
     "data": {
      "text/plain": [
       "[<a class=\"link-inline-content\" data-rel=\"follow\" href=\"https://gamek.vn/mua-giai-moi-chua-bat-dau-fan-t1-da-nhan-tin-xau-lien-quan-faker-178231209162701709.chn\" target=\"_blank\" title=\"T1\">T1</a>,\n",
       " <a class=\"link-inline-content\" data-rel=\"follow\" href=\"https://gamek.vn/zeus-chuan-bi-tahm-kench-duong-tren-nhung-khong-duoc-su-dung-hoa-ra-tung-bop-gumayusi-178231204180351368.chn\" target=\"_blank\" title=\"Zeus\">Zeus</a>]"
      ]
     },
     "execution_count": 56,
     "metadata": {},
     "output_type": "execute_result"
    }
   ],
   "source": [
    "article.find_all('a')"
   ]
  },
  {
   "cell_type": "code",
   "execution_count": null,
   "id": "f921c50c-3229-4c3a-99a2-bebaf8b8c36b",
   "metadata": {},
   "outputs": [],
   "source": []
  }
 ],
 "metadata": {
  "kernelspec": {
   "display_name": "Python 3 (ipykernel)",
   "language": "python",
   "name": "python3"
  },
  "language_info": {
   "codemirror_mode": {
    "name": "ipython",
    "version": 3
   },
   "file_extension": ".py",
   "mimetype": "text/x-python",
   "name": "python",
   "nbconvert_exporter": "python",
   "pygments_lexer": "ipython3",
   "version": "3.11.5"
  }
 },
 "nbformat": 4,
 "nbformat_minor": 5
}
