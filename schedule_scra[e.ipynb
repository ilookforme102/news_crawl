{
 "cells": [
  {
   "cell_type": "code",
   "execution_count": 87,
   "id": "413797a5-85e5-4b6a-8c9e-73360fd74b2a",
   "metadata": {},
   "outputs": [],
   "source": [
    "#importing library\n",
    "from bs4 import BeautifulSoup\n",
    "import requests\n",
    "import time\n",
    "import re\n",
    "from datetime import datetime\n",
    "\n",
    "\n"
   ]
  },
  {
   "cell_type": "code",
   "execution_count": 147,
   "id": "5ee2e246-7446-485b-b337-a2b1057a7482",
   "metadata": {},
   "outputs": [],
   "source": [
    "\n",
    "def get_post(url):\n",
    "    try:\n",
    "        response = requests.get(url)\n",
    "        time.sleep(3)\n",
    "        soup = BeautifulSoup(response.content, 'html5lib')\n",
    "        post_time = soup.find('time').text.strip()\n",
    "        title = soup.find('h1').text.strip()\n",
    "        h2 = soup.find('h2').text.strip()\n",
    "        #images_src = [i.attrs['src'] for i in soup.find('article', class_= 'cate-24h-foot-arti-deta-info').find_all('img')[:-1] if 'svg' not in i.attrs['src']]\n",
    "        images_src = [img['data-original'] if 'https://image-us.24h.com.vn' not in img['src'] else img['src'] if 'svg' not in img['src'] else '' for img in soup.find('article', class_ = 'cate-24h-foot-arti-deta-info').find_all('img')[:-1]]\n",
    "        text_list = [ child.text for child in soup.find('article', class_= 'cate-24h-foot-arti-deta-info').find_all('p')[:-3] if re.sub(r'\\n+', '', child.text) != \"\"]\n",
    "        text_list = [h2] + text_list\n",
    "        return text_list, images_src,title,post_time\n",
    "    except AttributeError as e:\n",
    "        print(e)\n",
    "        text_list = ''\n",
    "        images_src = ''\n",
    "        title= ''\n",
    "        post_time =''\n",
    "        return text_list, images_src,title,post_time\n",
    "def conver_time_string(posted_date):\n",
    "    pattern = r'\\d{2}/\\d{2}/\\d{4}'\n",
    "    match = re.search(pattern, posted_date)\n",
    "\n",
    "    if match:\n",
    "        date_string = match.group()\n",
    "\n",
    "        # Convert to datetime object\n",
    "        datetime_obj = datetime.strptime(date_string, \"%d/%m/%Y\")\n",
    "        return datetime_obj\n",
    "    else:\n",
    "        return ''\n",
    "def filter_list(urls):\n",
    "    filtered_urls = []\n",
    "    crawl_time = datetime.fromtimestamp(time.time()-5*24*3600)\n",
    "    for i in urls:\n",
    "        response = requests.get(i)\n",
    "        soup = BeautifulSoup(response.content, 'html5lib')\n",
    "        try:\n",
    "            date_posted = soup.find('time').text.strip()\n",
    "            date_posted_norm = conver_time_string(date_posted)\n",
    "            if ( (date_posted_norm.day == crawl_time.day) and (date_posted_norm.month == crawl_time.month) and (date_posted_norm.year == crawl_time.year) ):\n",
    "                filtered_urls.append(i)\n",
    "                print(i)\n",
    "        except AttributeError as e:\n",
    "            print(e)\n",
    "            break\n",
    "    return filtered_urls\n",
    "def get_list_url(cat_url):\n",
    "    urls = []\n",
    "    response = requests.get(cat_url)\n",
    "    time.sleep(3)\n",
    "    soup = BeautifulSoup(response.content,'html5lib')\n",
    "    news_block  = soup.find('section', id = 'tin_bai_noi_bat_khac')\n",
    "    url_list = news_block.find_all('a')\n",
    "    for url in url_list:\n",
    "        if 'https://www.24h.com.vn/' in url['href']:\n",
    "            if url['href'] not in urls:\n",
    "                urls.append(url['href'])\n",
    "    return urls\n",
    "def add_list(_24h_com_vn):\n",
    "    for i in list(_24h_com_vn['urls'].keys()):\n",
    "        for j in list(_24h_com_vn['urls'][i]['sub-category'].keys()):\n",
    "            urls = get_list_url(_24h_com_vn['urls'][i]['sub-category'][j]['url'])\n",
    "            _24h_com_vn['urls'][i]['sub-category'][j]['url-list'] = filter_list(urls)\n",
    "\n",
    "def add_post(_24h_com_vn):\n",
    "    for i in list(_24h_com_vn['urls'].keys()):\n",
    "        for j in list(_24h_com_vn['urls'][i]['sub-category'].keys()):\n",
    "            _24h_com_vn['urls'][i]['sub-category'][j]['content'] = {}\n",
    "            list_key = [v for v in range(0,len(_24h_com_vn['urls'][i]['sub-category'][j]['url_list']))]\n",
    "            for u in list_key:\n",
    "                _24h_com_vn['urls'][i]['sub-category'][j]['content'][u]['images_src'] = get_post(_24h_com_vn['urls'][i]['sub-category'][j]['url_list'][u])[1]\n",
    "                print(i,j,_24h_com_vn['urls'][i]['sub-category'][j]['name'],_24h_com_vn['urls'][i]['sub-category'][j]['name'],_24h_com_vn['urls'][i]['sub-category'][j]['content'][u]['title'],_24h_com_vn['urls'][i]['sub-category'][j]['url_list'][u])\n",
    "            \n",
    "\n",
    "\n"
   ]
  },
  {
   "cell_type": "code",
   "execution_count": 148,
   "id": "39ece98f-7240-4142-9545-08d2d9e93bce",
   "metadata": {},
   "outputs": [],
   "source": [
    "def main():\n",
    "    _24h_com_vn = {\n",
    "        \"home_page\":\"https://www.24h.com.vn/\",\n",
    "        \"urls\":{\n",
    "            \"tech\":\n",
    "            {\n",
    "             \"url\":\"https://www.24h.com.vn/cong-nghe-thong-tin-c55.html\",\n",
    "             \"sub-category\":{\n",
    "                0:{\"name\":\"Game\",\n",
    "                 \"url\":\"https://www.24h.com.vn/game-c69.html\"},\n",
    "                1:{\"name\":\"Phần mềm\",\n",
    "                 \"url\":\"https://www.24h.com.vn/phan-mem-ngoai-c302.html\"}\n",
    "          \n",
    "             }\n",
    "            }\n",
    "         }\n",
    "    }\n",
    "#\n",
    "    '''def new_F():\n",
    "       _24h_com_vn['haha'] = {}\n",
    "       _24h_com_vn['haha'][0] = _24h_com_vn['urls']['tech']['url']\n",
    "    new_F()'''\n",
    "    add_list(_24h_com_vn)\n",
    "    #add_post()\n",
    "    return _24h_com_vn"
   ]
  },
  {
   "cell_type": "code",
   "execution_count": 149,
   "id": "7030e223-eaa1-4986-955e-abb772119e74",
   "metadata": {},
   "outputs": [
    {
     "name": "stdout",
     "output_type": "stream",
     "text": [
      "https://www.24h.com.vn/cong-nghe-thong-tin/microsoft-bat-ngo-chan-truy-cap-hang-loat-dich-vu-ai-c55a1518112.html\n",
      "https://www.24h.com.vn/cong-nghe-thong-tin/google-len-tieng-imessage-cua-apple-tiep-tuc-gap-kho-c55a1518115.html\n"
     ]
    },
    {
     "data": {
      "text/plain": [
       "{'home_page': 'https://www.24h.com.vn/',\n",
       " 'urls': {'tech': {'url': 'https://www.24h.com.vn/cong-nghe-thong-tin-c55.html',\n",
       "   'sub-category': {0: {'name': 'Game',\n",
       "     'url': 'https://www.24h.com.vn/game-c69.html',\n",
       "     'url-list': []},\n",
       "    1: {'name': 'Phần mềm',\n",
       "     'url': 'https://www.24h.com.vn/phan-mem-ngoai-c302.html',\n",
       "     'url-list': ['https://www.24h.com.vn/cong-nghe-thong-tin/microsoft-bat-ngo-chan-truy-cap-hang-loat-dich-vu-ai-c55a1518112.html',\n",
       "      'https://www.24h.com.vn/cong-nghe-thong-tin/google-len-tieng-imessage-cua-apple-tiep-tuc-gap-kho-c55a1518115.html']}}}}}"
      ]
     },
     "execution_count": 149,
     "metadata": {},
     "output_type": "execute_result"
    }
   ],
   "source": [
    "main()"
   ]
  },
  {
   "cell_type": "code",
   "execution_count": 63,
   "id": "ffc23c8b-eadb-45c5-958b-b3c1208f3e7a",
   "metadata": {},
   "outputs": [
    {
     "data": {
      "text/plain": [
       "True"
      ]
     },
     "execution_count": 63,
     "metadata": {},
     "output_type": "execute_result"
    }
   ],
   "source": [
    "datetime.fromtimestamp(time.time()-8*24*3600).day >= conver_time_string(\"Thứ Tư, ngày 08/11/2023 10:00 AM (GMT+7)\").day"
   ]
  },
  {
   "cell_type": "code",
   "execution_count": 74,
   "id": "80ec40d2-5c23-4bcf-9d4e-8b10300b3460",
   "metadata": {},
   "outputs": [],
   "source": [
    "response = requests.get('https://www.24h.com.vn/cong-nghe-thong-tin/microsoft-solitaire-tua-game-pho-bien-nhat-moi-thoi-dai-tu-microsoft-c55a1510318.html')\n",
    "soup = BeautifulSoup(response.content, 'html5lib')"
   ]
  },
  {
   "cell_type": "code",
   "execution_count": 83,
   "id": "0088e4ef-ebf0-48d8-93b1-c61d0394557c",
   "metadata": {},
   "outputs": [],
   "source": [
    "date_posted = soup.find('time').text.strip()\n",
    "date_posted_norm = conver_time_string(date_posted)\n",
    "crawl_time = datetime.fromtimestamp(time.time()-6*24*3600)\n"
   ]
  },
  {
   "cell_type": "code",
   "execution_count": 58,
   "id": "c667f44d-5d1b-413b-8f97-311a6e4d5092",
   "metadata": {},
   "outputs": [
    {
     "data": {
      "text/plain": [
       "8"
      ]
     },
     "execution_count": 58,
     "metadata": {},
     "output_type": "execute_result"
    }
   ],
   "source": [
    "conver_time_string(\"Thứ Tư, ngày 08/11/2023 10:00 AM (GMT+7)\").day"
   ]
  },
  {
   "cell_type": "code",
   "execution_count": 121,
   "id": "6ebdc91d-05c9-447e-bd90-e4d119e60ede",
   "metadata": {},
   "outputs": [
    {
     "data": {
      "text/plain": [
       "16"
      ]
     },
     "execution_count": 121,
     "metadata": {},
     "output_type": "execute_result"
    }
   ],
   "source": [
    "datetime.fromtimestamp(time.time()-1*24*3600).day"
   ]
  },
  {
   "cell_type": "code",
   "execution_count": 86,
   "id": "0da2c9ea-c42c-47e3-b6b9-73101ac5fb74",
   "metadata": {},
   "outputs": [
    {
     "data": {
      "text/plain": [
       "10"
      ]
     },
     "execution_count": 86,
     "metadata": {},
     "output_type": "execute_result"
    }
   ],
   "source": [
    "date_posted_norm.month"
   ]
  },
  {
   "cell_type": "code",
   "execution_count": 94,
   "id": "7a186fbc-4dd4-406a-8faf-a9be68f905d0",
   "metadata": {},
   "outputs": [
    {
     "data": {
      "text/plain": [
       "False"
      ]
     },
     "execution_count": 94,
     "metadata": {},
     "output_type": "execute_result"
    }
   ],
   "source": [
    "( (date_posted_norm.day >= crawl_time.day) and (date_posted_norm.month == crawl_time.month) and (date_posted_norm.year == crawl_time.year) )"
   ]
  },
  {
   "cell_type": "code",
   "execution_count": 95,
   "id": "fa009ae2-78c1-4b95-b34b-72ac236d7949",
   "metadata": {},
   "outputs": [
    {
     "data": {
      "text/plain": [
       "{'home_page': 'https://www.24h.com.vn/',\n",
       " 'urls': {'tech': {'url': 'https://www.24h.com.vn/cong-nghe-thong-tin-c55.html',\n",
       "   'sub-category': {0: {'name': 'Game',\n",
       "     'url': 'https://www.24h.com.vn/game-c69.html',\n",
       "     'url-list': []},\n",
       "    1: {'name': 'Phần mềm',\n",
       "     'url': 'https://www.24h.com.vn/phan-mem-ngoai-c302.html',\n",
       "     'url-list': ['https://www.24h.com.vn/cong-nghe-thong-tin/microsoft-bat-ngo-chan-truy-cap-hang-loat-dich-vu-ai-c55a1518112.html',\n",
       "      'https://www.24h.com.vn/cong-nghe-thong-tin/google-len-tieng-imessage-cua-apple-tiep-tuc-gap-kho-c55a1518115.html',\n",
       "      'https://www.24h.com.vn/cong-nghe-thong-tin/hang-trieu-pc-windows-10-nguy-co-thanh-rac-dien-tu-nguoi-dung-phan-ung-c55a1517969.html',\n",
       "      'https://www.24h.com.vn/cong-nghe-thong-tin/nhung-ke-quay-roi-tinh-duc-se-het-duong-lam-an-tren-ios-172-c55a1517602.html']}}}}}"
      ]
     },
     "execution_count": 95,
     "metadata": {},
     "output_type": "execute_result"
    }
   ],
   "source": [
    "_24h_com_vn"
   ]
  },
  {
   "cell_type": "code",
   "execution_count": null,
   "id": "a0a002a3-8b9f-480b-9bd2-52eb73821d91",
   "metadata": {},
   "outputs": [],
   "source": []
  }
 ],
 "metadata": {
  "kernelspec": {
   "display_name": "Python 3 (ipykernel)",
   "language": "python",
   "name": "python3"
  },
  "language_info": {
   "codemirror_mode": {
    "name": "ipython",
    "version": 3
   },
   "file_extension": ".py",
   "mimetype": "text/x-python",
   "name": "python",
   "nbconvert_exporter": "python",
   "pygments_lexer": "ipython3",
   "version": "3.11.5"
  }
 },
 "nbformat": 4,
 "nbformat_minor": 5
}
